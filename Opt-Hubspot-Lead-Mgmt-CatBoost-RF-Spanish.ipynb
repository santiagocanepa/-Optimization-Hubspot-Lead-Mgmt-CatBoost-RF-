{
 "cells": [
  {
   "cell_type": "code",
   "execution_count": 1,
   "id": "40268d49",
   "metadata": {
    "_kg_hide-input": true,
    "_kg_hide-output": true,
    "execution": {
     "iopub.execute_input": "2023-06-02T00:22:55.005082Z",
     "iopub.status.busy": "2023-06-02T00:22:55.004709Z",
     "iopub.status.idle": "2023-06-02T00:22:56.221121Z",
     "shell.execute_reply": "2023-06-02T00:22:56.219641Z"
    },
    "jupyter": {
     "source_hidden": true
    },
    "papermill": {
     "duration": 1.239117,
     "end_time": "2023-06-02T00:22:56.223802",
     "exception": false,
     "start_time": "2023-06-02T00:22:54.984685",
     "status": "completed"
    },
    "tags": []
   },
   "outputs": [
    {
     "data": {
      "text/html": [
       "<style>\n",
       "\n",
       ":root{\n",
       "    --header1_color: #204709;\n",
       "    --header2_color: #42841F;\n",
       "    --header3_color: #6EAF4B;\n",
       "    --keyword_color: #cc241d; /* import */\n",
       "    --string_color: #79740e;\n",
       "    --number_color: #b16286;\n",
       "    --def_color: #689d6a; /* class name */\n",
       "    --property_color: #458588; /* python properties */\n",
       "    --builtin_color: #689d6a;\n",
       "    --comment_color: #9f9f9f;\n",
       "    --comment_color_2: #458588; /* equals sign */\n",
       "    --operator_color: #a221f2;\n",
       "    --font_color: #3c3836; /* general font */\n",
       "    --variable2_color: #b16286; /*self keyworda */\n",
       "    --box_color: #fffdee66;\n",
       "}\n",
       "\n",
       "\n",
       "/* h1, .h1 { */\n",
       "/*     font-family: \"Trebuchet MS\", sans-serif; */\n",
       "/*     font-size: 2em !important; */\n",
       "/*     letter-spacing: 1px; */\n",
       "/*     /1* border-bottom: 3px solid #497564; *1/ */\n",
       "/*     /1* text-transform: uppercase; *1/ */\n",
       "/*     color: var(--header1_color); */\n",
       "/*     border-bottom: 3px solid var(--header1_color); */\n",
       "/* } */\n",
       "\n",
       "/* h1.title{ */\n",
       "/*     padding:5px */\n",
       "/* } */\n",
       "\n",
       "/* div.title { */\n",
       "/*     text-align: center; */\n",
       "/*     background-color: #d3e6d23d; */\n",
       "/*     height:3em; */\n",
       "/*     border-radius: 10px; */\n",
       "/*     box-shadow: 3px 3px #536f533d; */\n",
       "/*     margin-bottom: 8px; */\n",
       "/* } */\n",
       "\n",
       "/* h2, .h2 { */\n",
       "/*     font-family: \"Trebuchet MS\"; */\n",
       "/*     font-size: 1.7em !important; */\n",
       "/*     color: var(--header2_color); */\n",
       "/* } */\n",
       "\n",
       "/* h3, .h3 { */\n",
       "/*     font-family: \"Trebuchet MS\"; */\n",
       "/*     font-size: 1.4em !important; */\n",
       "/*     color: var(--header3_color); */\n",
       "/* } */\n",
       "\n",
       "/* .jp-mod-active .jp-Collapser-child{ */\n",
       "/*     background-color: #d79921; */\n",
       "/* } */\n",
       "/* .output { */\n",
       "/*     flex-direction: row; */\n",
       "/* } */\n",
       "\n",
       ".cm-s-jupyter span.cm-variable-2{\n",
       "    color: var(--variable2_color);\n",
       "}\n",
       "\n",
       ".cm-s-jupyter span.cm-variable{\n",
       "    color: var(--font_color);\n",
       "}\n",
       ".cm-s-jupyter span.cm-number{\n",
       "    color: var(--number_color);\n",
       "}\n",
       "\n",
       ".cm-s-jupyter span.cm-def {\n",
       "    color: var(--def_color);\n",
       "}\n",
       "\n",
       ".cm-s-jupyter span.cm-keyword{\n",
       "    color: var(--keyword_color);\n",
       "    font-weight: lighter;\n",
       "}\n",
       "\n",
       ".cm-s-jupyter span.cm-property{\n",
       "    color: var(--property_color);\n",
       "}\n",
       "\n",
       ".cm-s-jupyter span.cm-builtin{\n",
       "    color: var(--builtin_color);\n",
       "}\n",
       "\n",
       ".cm-s-jupyter span.cm-string {\n",
       "    color: var(--string_color);\n",
       "}\n",
       "\n",
       ".cm-s-jupyter span.cm-comment{\n",
       "    color: var(--comment_color);\n",
       "}\n",
       "\n",
       ".cm-s-jupyter span.cm-operator{\n",
       "    color: var(--operator_color);\n",
       "}\n",
       "\n",
       "body[data-jp-theme-light=\"true\"] .jp-Notebook .CodeMirror.cm-s-jupyter{\n",
       "    background-color: var(--box_color) !important;\n",
       "}\n",
       "\n",
       "/* body[data-jp-theme-light=\"true\"] .lm-Widget.p-Widget.jp-CodeMirrorEditor.jp-Editor.jp-InputArea-editor { */\n",
       "/*     border-color: #9b9b99 !important; */\n",
       "/*     border-style: solid none none !important; */\n",
       "/*     border-width: 2px medium medium !important; */\n",
       "/*     border-radius: 0; */\n",
       "/* } */\n",
       "\n",
       "/* /1* --- for rendering submitted notebook --- *1/ */\n",
       "/* div.text_cell_render h1 { */\n",
       "/*     font-family: \"Trebuchet MS\", sans-serif; */\n",
       "/*     font-size: 2em !important; */\n",
       "/*     letter-spacing: 1px; */\n",
       "/*     border-bottom: 3px solid var(--header1_color); */\n",
       "/*     /1* text-transform: uppercase; *1/ */\n",
       "/*     color: var(--header1_color); */\n",
       "/*     padding: 0px; */\n",
       "/*     margin-top: 5px; */\n",
       "/* } */\n",
       "\n",
       "/* div.text_cell_render h2 { */\n",
       "/*     font-family: \"Trebuchet MS\"; */\n",
       "/*     font-size: 1.7em !important; */\n",
       "/*     color: var(--header2_color); */\n",
       "/* } */\n",
       "\n",
       "/* div.text_cell_render h3 { */\n",
       "/*     font-family: \"Trebuchet MS\"; */\n",
       "/*     font-size: 1.4em !important; */\n",
       "/*     color: var(--header3_color); */\n",
       "/* } */\n",
       "\n",
       "/* .highlight .nn{ */\n",
       "/*     color: black; */\n",
       "/* } */\n",
       "\n",
       "/* .n{ */\n",
       "/*     color: black */\n",
       "/* } */\n",
       "\n",
       "/* .o{ */\n",
       "/*     color: black */\n",
       "/* } */\n",
       "\n",
       "/* .p{ */\n",
       "/*     color: black */\n",
       "/* } */\n",
       "\n",
       ".highlight .s1 {\n",
       "    color: var(--string_color);\n",
       "}\n",
       "\n",
       "/* cm-string */\n",
       ".highlight .s2 {\n",
       "    color: var(--string_color);\n",
       "}\n",
       "\n",
       "/* cm-keyword */\n",
       ".highlight .k {\n",
       "    color: var(--keyword_color);\n",
       "    font-weight: lighter;\n",
       "}\n",
       "\n",
       ".highlight .kc{\n",
       "    color: var(--keyword_color);\n",
       "    font-weight: lighter;\n",
       "}\n",
       "\n",
       "/* cm-number */\n",
       ".highlight .mi{\n",
       "    color: var(--number_color);\n",
       "}\n",
       "\n",
       "/* cm-comment */\n",
       ".highlight .c1{\n",
       "    color: var(--comment_color);\n",
       "    font-weight: lighter;\n",
       "}\n",
       "\n",
       ".highlight .mf{\n",
       "    color: var(--number_color);\n",
       "}\n",
       "\n",
       ".highlight .sd{\n",
       "    color: var(--string_color);\n",
       "    font-weight: lighter;\n",
       "}\n",
       "\n",
       "/* cm-keyword */\n",
       ".highlight .ow {\n",
       "    color: var(--keyword_color);\n",
       "    font-weight: lighter;\n",
       "}\n",
       "\n",
       "/* cm-operator */\n",
       ".highlight .o{\n",
       "    color: var(--operator_color);\n",
       "}\n",
       "\n",
       "/* cm-keyword */\n",
       ".highlight .kn{\n",
       "    color: var(--keyword_color);\n",
       "    font-weight: lighter;\n",
       "}\n",
       "\n",
       "/* cm-builtin */\n",
       ".highlight .nb{\n",
       "    color: var(--builtin_color);\n",
       "}\n",
       "\n",
       "/* class keyword */\n",
       ".highlight .nc{\n",
       "    color: var(--def_color);\n",
       "    font-weight: lighter;\n",
       "}\n",
       "\n",
       "/* cm-def */ \n",
       ".highlight .fm{\n",
       "    color: var(--def_color);\n",
       "}\n",
       "\n",
       "/* cm-keyword */\n",
       ".highlight .bp{\n",
       "    color: var(--keyword_color);\n",
       "}\n",
       "\n",
       ".highlight .si {\n",
       "  color: #BB6622;\n",
       "  font-weight: lighter;\n",
       "}\n",
       "\n",
       "/* cm-property */\n",
       "a.global_indexed_symbol{\n",
       "    color: var(--property_color);\n",
       "}\n",
       "\n",
       "/* cm-def */ \n",
       ".highlight .nf{\n",
       "    color: var(--def_color);\n",
       "}\n",
       "\n",
       "/* self */\n",
       ".highlight .bp{\n",
       "    color: var(--variable2_color)\n",
       "}\n",
       "\n",
       "div.output_subarea.output_text{\n",
       "    padding: 16px;\n",
       "    width: 1000px;\n",
       "}\n",
       "\n",
       ".jp-RenderedHTMLCommon :not(pre) > code{\n",
       "    background-color: transparent !important;\n",
       "}\n",
       "\n",
       "/* h1.header { */\n",
       "/*     color: white !important; */\n",
       "/* } */\n",
       "\n",
       ".insights {\n",
       "    line-height: 1.7em;\n",
       "    color: #31708f;\n",
       "    background-color: #d9edf7;\n",
       "    border-color: #bce8f1;\n",
       "    padding: 15px;\n",
       "    margin-bottom: 20px;\n",
       "    border: 1px solid transparent;\n",
       "    border-radius: 4px;\n",
       "    font-family: Verdana,sans-serif;\n",
       "    font-size: 15px;\n",
       "}\n",
       "\n",
       "div.output_subarea {\n",
       "    padding: 0px\n",
       "}\n",
       "\n",
       "div.output_area pre{\n",
       "    margin: 0px\n",
       "}\n",
       "\n",
       "div.output_area pre {\n",
       "    margin: 5px\n",
       "}\n",
       "\n",
       "\n",
       "div.input_area{\n",
       "    background-color: var(--box_color) !important;\n",
       "}\n",
       "\n",
       "</style>\n"
      ],
      "text/plain": [
       "<IPython.core.display.HTML object>"
      ]
     },
     "execution_count": 1,
     "metadata": {},
     "output_type": "execute_result"
    }
   ],
   "source": [
    "# CSS style setting\n",
    "!wget http://bit.ly/3ZLyF82 -O CSS.css -q\n",
    "    \n",
    "from IPython.core.display import HTML\n",
    "with open('./CSS.css', 'r') as file:\n",
    "    custom_css = file.read()\n",
    "\n",
    "HTML(custom_css)"
   ]
  },
  {
   "cell_type": "code",
   "execution_count": 2,
   "id": "097ec947",
   "metadata": {
    "_kg_hide-input": true,
    "_kg_hide-output": true,
    "execution": {
     "iopub.execute_input": "2023-06-02T00:22:56.262569Z",
     "iopub.status.busy": "2023-06-02T00:22:56.262095Z",
     "iopub.status.idle": "2023-06-02T00:22:56.267926Z",
     "shell.execute_reply": "2023-06-02T00:22:56.267004Z"
    },
    "papermill": {
     "duration": 0.027656,
     "end_time": "2023-06-02T00:22:56.270125",
     "exception": false,
     "start_time": "2023-06-02T00:22:56.242469",
     "status": "completed"
    },
    "tags": []
   },
   "outputs": [],
   "source": [
    "colors = ['#064572', '#A8854F', '#7E98B2', '#663DB8', '#2D795E', '#57073E', '#AF550B', '#15042E', '#DD1E6A', '#CB9F07', '#44143B', '#0BAFA1']\n"
   ]
  },
  {
   "cell_type": "markdown",
   "id": "680af6a6",
   "metadata": {
    "papermill": {
     "duration": 0.018795,
     "end_time": "2023-06-02T00:22:56.308140",
     "exception": false,
     "start_time": "2023-06-02T00:22:56.289345",
     "status": "completed"
    },
    "tags": []
   },
   "source": [
    "<div style=\"border-radius:13px; border:#FFB800 solid; padding: 15px; background-color: #FAFFFF; font-size:118%; text-align:left\">\n",
    "\n",
    "<h3 align=\"left\"><font color='#05041B'>💡🧠Overview :</font></h3>\n",
    "    \n",
    "    \n",
    "* Implementaré el los modelos CastBoost & Random Forest en mi base de datos de 1800 leads provenientes de mi consultoría de franquicias, seleccionando 22 de 150 atributos por lead. \n",
    "* A pesar de imperfecciones en los datos y su extracción desde **Hubspot**, mi meta es optimizar la eficiencia del consultor y atender oportunamente las oportunidades con mínimo impacto.\n",
    "* Notebook in English https://www.kaggle.com/code/ivancanepa/optimization-hubspot-lead-mgmt-catboost-rf"
   ]
  },
  {
   "cell_type": "markdown",
   "id": "c05675da",
   "metadata": {
    "papermill": {
     "duration": 0.017991,
     "end_time": "2023-06-02T00:22:56.345202",
     "exception": false,
     "start_time": "2023-06-02T00:22:56.327211",
     "status": "completed"
    },
    "tags": []
   },
   "source": [
    "<p style=\"text-align:left;\">\n",
    "<img src=\"https://github.com/santiagocanepa/Optimizing-the-Management-of-1800-Own-Leads-in-HubSpot-Applying-XGB-CatBoost-and-Random-Forest/blob/main/imag/pngwing.com.png?raw=true\" width=\"13.8%\" height=\"30%\">"
   ]
  },
  {
   "cell_type": "markdown",
   "id": "a1b07605",
   "metadata": {
    "papermill": {
     "duration": 0.018589,
     "end_time": "2023-06-02T00:22:56.382288",
     "exception": false,
     "start_time": "2023-06-02T00:22:56.363699",
     "status": "completed"
    },
    "tags": []
   },
   "source": [
    "<p style=\"text-align:left;\">\n",
    "    <img src=\"https://github.com/santiagocanepa/Optimizing-the-Management-of-1800-Own-Leads-in-HubSpot-Applying-XGB-CatBoost-and-Random-Forest/blob/main/imag/FQC_Logo_2@2x.png?raw=true\" width=\"15%\" height=\"30%\">"
   ]
  },
  {
   "cell_type": "markdown",
   "id": "be795739",
   "metadata": {
    "papermill": {
     "duration": 0.017802,
     "end_time": "2023-06-02T00:22:56.418296",
     "exception": false,
     "start_time": "2023-06-02T00:22:56.400494",
     "status": "completed"
    },
    "tags": []
   },
   "source": [
    "### </p> <p style=\"font-family:JetBrains Mono; font-weight:bold; letter-spacing: 2px; color:#05041B; font-size:140%; text-align:left;padding: 0px; border-bottom: 3px solid #FFB800\">📚Step 1: Importing Libraries and Modules"
   ]
  },
  {
   "cell_type": "code",
   "execution_count": 3,
   "id": "d1e4938e",
   "metadata": {
    "_kg_hide-input": false,
    "_kg_hide-output": true,
    "execution": {
     "iopub.execute_input": "2023-06-02T00:22:56.458063Z",
     "iopub.status.busy": "2023-06-02T00:22:56.457388Z",
     "iopub.status.idle": "2023-06-02T00:23:00.232988Z",
     "shell.execute_reply": "2023-06-02T00:23:00.231725Z"
    },
    "jupyter": {
     "source_hidden": true
    },
    "papermill": {
     "duration": 3.799123,
     "end_time": "2023-06-02T00:23:00.235978",
     "exception": false,
     "start_time": "2023-06-02T00:22:56.436855",
     "status": "completed"
    },
    "tags": []
   },
   "outputs": [],
   "source": [
    "import numpy as np \n",
    "import pandas as pd \n",
    "import matplotlib.pyplot as plt\n",
    "import math\n",
    "import plotly.express as px\n",
    "import plotly.graph_objects as go\n",
    "import scikitplot as skplt\n",
    "import scipy.stats as ss\n",
    "import seaborn as sns\n",
    "import os\n",
    "from catboost import CatBoostClassifier\n",
    "from imblearn.over_sampling import SMOTE\n",
    "from imblearn.pipeline import make_pipeline as make_imb_pipeline\n",
    "from plotly.subplots import make_subplots\n",
    "from scipy.stats import uniform, randint\n",
    "from sklearn.compose import ColumnTransformer\n",
    "from sklearn.impute import SimpleImputer\n",
    "from sklearn.ensemble import RandomForestClassifier\n",
    "from sklearn.metrics import classification_report, confusion_matrix\n",
    "from sklearn.metrics import f1_score\n",
    "from sklearn.metrics import hamming_loss, accuracy_score\n",
    "from sklearn.metrics import precision_recall_fscore_support\n",
    "from sklearn.metrics import roc_auc_score, roc_curve\n",
    "from sklearn.model_selection import train_test_split, RandomizedSearchCV\n",
    "from sklearn.pipeline import Pipeline\n",
    "from sklearn.preprocessing import StandardScaler, OneHotEncoder \n",
    "\n"
   ]
  },
  {
   "cell_type": "markdown",
   "id": "e16c2ed9",
   "metadata": {
    "papermill": {
     "duration": 0.018024,
     "end_time": "2023-06-02T00:23:00.272705",
     "exception": false,
     "start_time": "2023-06-02T00:23:00.254681",
     "status": "completed"
    },
    "tags": []
   },
   "source": [
    "### <p style=\"font-family:JetBrains Mono; font-weight:bold; letter-spacing: 2px; color:#05041B; font-size:140%; text-align:left;padding: 0px; border-bottom: 3px solid #FFB800\">🔎 Step 2: Data Loading and Exploration</p>"
   ]
  },
  {
   "cell_type": "markdown",
   "id": "9ab90c92",
   "metadata": {
    "papermill": {
     "duration": 0.01811,
     "end_time": "2023-06-02T00:23:00.310037",
     "exception": false,
     "start_time": "2023-06-02T00:23:00.291927",
     "status": "completed"
    },
    "tags": []
   },
   "source": [
    "<div style=\"border-radius:13px; border:#FFB800 solid; padding: 15px; background-color: #FAFFFF; font-size:108%; text-align:left\">\n",
    "    \n",
    "* Carga de data (csv copy-paste de hubspot)\n",
    "* Analisis y transformación prelimiar\n",
    "* Limpieza y entrada de campos vacios\n",
    "    "
   ]
  },
  {
   "cell_type": "code",
   "execution_count": 4,
   "id": "6e0a128a",
   "metadata": {
    "_kg_hide-input": false,
    "_kg_hide-output": false,
    "execution": {
     "iopub.execute_input": "2023-06-02T00:23:00.348652Z",
     "iopub.status.busy": "2023-06-02T00:23:00.348184Z",
     "iopub.status.idle": "2023-06-02T00:23:01.859334Z",
     "shell.execute_reply": "2023-06-02T00:23:01.858447Z"
    },
    "papermill": {
     "duration": 1.533993,
     "end_time": "2023-06-02T00:23:01.862298",
     "exception": false,
     "start_time": "2023-06-02T00:23:00.328305",
     "status": "completed"
    },
    "tags": []
   },
   "outputs": [
    {
     "name": "stdout",
     "output_type": "stream",
     "text": [
      "<class 'pandas.core.frame.DataFrame'>\n",
      "RangeIndex: 5239 entries, 0 to 5238\n",
      "Data columns (total 22 columns):\n",
      " #   Column                  Non-Null Count  Dtype  \n",
      "---  ------                  --------------  -----  \n",
      " 0   Nombre                  5206 non-null   object \n",
      " 1   Apellido                1801 non-null   object \n",
      " 2   Pais                    1801 non-null   object \n",
      " 3   Zona Horaria            1801 non-null   object \n",
      " 4   Provincia               1801 non-null   object \n",
      " 5   Localidad               1801 non-null   object \n",
      " 6   Zona                    1801 non-null   object \n",
      " 7   Ciudad IP               1801 non-null   object \n",
      " 8   Estado actual del lead  1801 non-null   object \n",
      " 9   Fuente                  1801 non-null   object \n",
      " 10  Fuente Ultima           1702 non-null   object \n",
      " 11  Fuente Original         1801 non-null   object \n",
      " 12  Mensaje                 1801 non-null   object \n",
      " 13  Comentario              1801 non-null   object \n",
      " 14  formularios enviados    1801 non-null   float64\n",
      " 15  Visitas a la pagina     1801 non-null   float64\n",
      " 16  Interacciones varias    1801 non-null   float64\n",
      " 17  Aperturas de correo     1801 non-null   object \n",
      " 18  Franquicia              1801 non-null   object \n",
      " 19  correo                  1801 non-null   object \n",
      " 20  numero                  1801 non-null   object \n",
      " 21  Inversion               1790 non-null   object \n",
      "dtypes: float64(3), object(19)\n",
      "memory usage: 900.6+ KB\n",
      "None\n"
     ]
    }
   ],
   "source": [
    "df = pd.read_excel(\"/kaggle/input/copy-leads-fqc-hubspot/copy_leads_FQC_hubspot.xlsx\")\n",
    "\n",
    "print(df.info())\n"
   ]
  },
  {
   "cell_type": "markdown",
   "id": "013d54c5",
   "metadata": {
    "papermill": {
     "duration": 0.01854,
     "end_time": "2023-06-02T00:23:01.899479",
     "exception": false,
     "start_time": "2023-06-02T00:23:01.880939",
     "status": "completed"
    },
    "tags": []
   },
   "source": [
    "<div style=\"border-radius:13px; border:#FFB800 solid; padding: 15px; background-color: #FAFFFF; font-size:105%; text-align:left\">\n",
    "    \n",
    "* Es nesesario limpiar la data que nos dio hubspot, primero eliminaremos las filas que contienen las iniciales y  \"vista previa\" en la columnna Nombre.\n",
    "\n",
    "* Ademas, eliminamos todos los campos NaN debido a que el campo vacio por defecto en hubspot es \"--\".\n",
    "\n",
    "* Ademas, modificamos los tipos de datos y convertimos los valores str en minuscula y los numericos en float.\n",
    "    \n",
    "* La columna \"estado actual del lead\" sera nuestra columna objetivo y la renombrambos \"v_target\""
   ]
  },
  {
   "cell_type": "code",
   "execution_count": 5,
   "id": "750e39e3",
   "metadata": {
    "_kg_hide-input": true,
    "execution": {
     "iopub.execute_input": "2023-06-02T00:23:01.938597Z",
     "iopub.status.busy": "2023-06-02T00:23:01.937736Z",
     "iopub.status.idle": "2023-06-02T00:23:01.984959Z",
     "shell.execute_reply": "2023-06-02T00:23:01.983673Z"
    },
    "jupyter": {
     "source_hidden": true
    },
    "papermill": {
     "duration": 0.069665,
     "end_time": "2023-06-02T00:23:01.987693",
     "exception": false,
     "start_time": "2023-06-02T00:23:01.918028",
     "status": "completed"
    },
    "tags": []
   },
   "outputs": [],
   "source": [
    "# df = df[(df['Nombre'].str.len() > 2) & (df['Nombre'] != 'Vista previa') ]\n",
    "\n",
    "df = df.dropna(subset=['Nombre', 'Apellido'])\n",
    "df = df.astype(str)\n",
    "df = df.applymap(lambda s:s.lower().strip() if type(s) == str else s)\n",
    "\n",
    "columnas_int = ['Visitas a la pagina', 'formularios enviados', 'Interacciones varias', 'Aperturas de correo']\n",
    "\n",
    "for columna in columnas_int:\n",
    "    df[columna] = df[columna].astype(float)  \n",
    "    \n",
    "# Elimino las columnas que no aportan al modelo ni al analisis.\n",
    "df = df.drop(['Nombre','Apellido','correo','Mensaje','Comentario', 'numero ', 'Zona Horaria', 'Pais'], axis=1)\n",
    "\n",
    "# Convertir todas las etiquetas de las columnas a minúsculas y eliminar los espacios en blanco al principio y al final\n",
    "df.columns = df.columns.str.lower().str.strip()\n",
    "\n",
    "# Renombrar la columna 'elead' a 'v_target'\n",
    "df = df.rename(columns={'estado actual del lead': 'v_target'})\n",
    "\n"
   ]
  },
  {
   "cell_type": "code",
   "execution_count": 6,
   "id": "1c1a1ca6",
   "metadata": {
    "_kg_hide-input": false,
    "execution": {
     "iopub.execute_input": "2023-06-02T00:23:02.027564Z",
     "iopub.status.busy": "2023-06-02T00:23:02.027112Z",
     "iopub.status.idle": "2023-06-02T00:23:02.075432Z",
     "shell.execute_reply": "2023-06-02T00:23:02.074222Z"
    },
    "jupyter": {
     "source_hidden": true
    },
    "papermill": {
     "duration": 0.071131,
     "end_time": "2023-06-02T00:23:02.078049",
     "exception": false,
     "start_time": "2023-06-02T00:23:02.006918",
     "status": "completed"
    },
    "tags": []
   },
   "outputs": [
    {
     "name": "stdout",
     "output_type": "stream",
     "text": [
      "Variables Categoricas\n"
     ]
    },
    {
     "data": {
      "text/html": [
       "<div>\n",
       "<style scoped>\n",
       "    .dataframe tbody tr th:only-of-type {\n",
       "        vertical-align: middle;\n",
       "    }\n",
       "\n",
       "    .dataframe tbody tr th {\n",
       "        vertical-align: top;\n",
       "    }\n",
       "\n",
       "    .dataframe thead th {\n",
       "        text-align: right;\n",
       "    }\n",
       "</style>\n",
       "<table border=\"1\" class=\"dataframe\">\n",
       "  <thead>\n",
       "    <tr style=\"text-align: right;\">\n",
       "      <th></th>\n",
       "      <th>provincia</th>\n",
       "      <th>localidad</th>\n",
       "      <th>zona</th>\n",
       "      <th>ciudad ip</th>\n",
       "      <th>v_target</th>\n",
       "      <th>fuente</th>\n",
       "      <th>fuente ultima</th>\n",
       "      <th>fuente original</th>\n",
       "      <th>franquicia</th>\n",
       "      <th>inversion</th>\n",
       "    </tr>\n",
       "  </thead>\n",
       "  <tbody>\n",
       "    <tr>\n",
       "      <th>count</th>\n",
       "      <td>1797</td>\n",
       "      <td>1797</td>\n",
       "      <td>1797</td>\n",
       "      <td>1797</td>\n",
       "      <td>1797</td>\n",
       "      <td>1797</td>\n",
       "      <td>1797</td>\n",
       "      <td>1797</td>\n",
       "      <td>1797</td>\n",
       "      <td>1797</td>\n",
       "    </tr>\n",
       "    <tr>\n",
       "      <th>unique</th>\n",
       "      <td>19</td>\n",
       "      <td>321</td>\n",
       "      <td>151</td>\n",
       "      <td>192</td>\n",
       "      <td>13</td>\n",
       "      <td>14</td>\n",
       "      <td>9</td>\n",
       "      <td>8</td>\n",
       "      <td>111</td>\n",
       "      <td>2</td>\n",
       "    </tr>\n",
       "  </tbody>\n",
       "</table>\n",
       "</div>"
      ],
      "text/plain": [
       "       provincia localidad  zona ciudad ip v_target fuente fuente ultima  \\\n",
       "count       1797      1797  1797      1797     1797   1797          1797   \n",
       "unique        19       321   151       192       13     14             9   \n",
       "\n",
       "       fuente original franquicia inversion  \n",
       "count             1797       1797      1797  \n",
       "unique               8        111         2  "
      ]
     },
     "execution_count": 6,
     "metadata": {},
     "output_type": "execute_result"
    }
   ],
   "source": [
    "print('Variables Categoricas')\n",
    "df.describe(include='object').head(2)"
   ]
  },
  {
   "cell_type": "code",
   "execution_count": 7,
   "id": "63cfcd24",
   "metadata": {
    "_kg_hide-input": false,
    "execution": {
     "iopub.execute_input": "2023-06-02T00:23:02.116933Z",
     "iopub.status.busy": "2023-06-02T00:23:02.116533Z",
     "iopub.status.idle": "2023-06-02T00:23:02.144024Z",
     "shell.execute_reply": "2023-06-02T00:23:02.142739Z"
    },
    "papermill": {
     "duration": 0.049526,
     "end_time": "2023-06-02T00:23:02.146389",
     "exception": false,
     "start_time": "2023-06-02T00:23:02.096863",
     "status": "completed"
    },
    "tags": []
   },
   "outputs": [
    {
     "name": "stdout",
     "output_type": "stream",
     "text": [
      "Variables Numericas\n"
     ]
    },
    {
     "data": {
      "text/html": [
       "<div>\n",
       "<style scoped>\n",
       "    .dataframe tbody tr th:only-of-type {\n",
       "        vertical-align: middle;\n",
       "    }\n",
       "\n",
       "    .dataframe tbody tr th {\n",
       "        vertical-align: top;\n",
       "    }\n",
       "\n",
       "    .dataframe thead th {\n",
       "        text-align: right;\n",
       "    }\n",
       "</style>\n",
       "<table border=\"1\" class=\"dataframe\">\n",
       "  <thead>\n",
       "    <tr style=\"text-align: right;\">\n",
       "      <th></th>\n",
       "      <th>formularios enviados</th>\n",
       "      <th>visitas a la pagina</th>\n",
       "      <th>interacciones varias</th>\n",
       "      <th>aperturas de correo</th>\n",
       "    </tr>\n",
       "  </thead>\n",
       "  <tbody>\n",
       "    <tr>\n",
       "      <th>count</th>\n",
       "      <td>1797.000000</td>\n",
       "      <td>1797.000000</td>\n",
       "      <td>1797.000000</td>\n",
       "      <td>1797.000000</td>\n",
       "    </tr>\n",
       "    <tr>\n",
       "      <th>mean</th>\n",
       "      <td>0.824151</td>\n",
       "      <td>0.818587</td>\n",
       "      <td>0.956594</td>\n",
       "      <td>0.629382</td>\n",
       "    </tr>\n",
       "    <tr>\n",
       "      <th>std</th>\n",
       "      <td>0.744853</td>\n",
       "      <td>0.814970</td>\n",
       "      <td>2.025810</td>\n",
       "      <td>1.003104</td>\n",
       "    </tr>\n",
       "    <tr>\n",
       "      <th>min</th>\n",
       "      <td>0.000000</td>\n",
       "      <td>0.000000</td>\n",
       "      <td>0.000000</td>\n",
       "      <td>0.000000</td>\n",
       "    </tr>\n",
       "    <tr>\n",
       "      <th>25%</th>\n",
       "      <td>0.000000</td>\n",
       "      <td>0.000000</td>\n",
       "      <td>0.000000</td>\n",
       "      <td>0.000000</td>\n",
       "    </tr>\n",
       "    <tr>\n",
       "      <th>50%</th>\n",
       "      <td>1.000000</td>\n",
       "      <td>1.000000</td>\n",
       "      <td>0.000000</td>\n",
       "      <td>0.000000</td>\n",
       "    </tr>\n",
       "  </tbody>\n",
       "</table>\n",
       "</div>"
      ],
      "text/plain": [
       "       formularios enviados  visitas a la pagina  interacciones varias  \\\n",
       "count           1797.000000          1797.000000           1797.000000   \n",
       "mean               0.824151             0.818587              0.956594   \n",
       "std                0.744853             0.814970              2.025810   \n",
       "min                0.000000             0.000000              0.000000   \n",
       "25%                0.000000             0.000000              0.000000   \n",
       "50%                1.000000             1.000000              0.000000   \n",
       "\n",
       "       aperturas de correo  \n",
       "count          1797.000000  \n",
       "mean              0.629382  \n",
       "std               1.003104  \n",
       "min               0.000000  \n",
       "25%               0.000000  \n",
       "50%               0.000000  "
      ]
     },
     "execution_count": 7,
     "metadata": {},
     "output_type": "execute_result"
    }
   ],
   "source": [
    "print(\"Variables Numericas\")\n",
    "df.describe().head(6)"
   ]
  },
  {
   "cell_type": "markdown",
   "id": "552d516e",
   "metadata": {
    "papermill": {
     "duration": 0.01875,
     "end_time": "2023-06-02T00:23:02.184296",
     "exception": false,
     "start_time": "2023-06-02T00:23:02.165546",
     "status": "completed"
    },
    "tags": []
   },
   "source": [
    "<div style=\"border-radius:13px; border:#FFB800 solid; padding: 15px; background-color: #FAFFFF; font-size:105%; text-align:left\">\n",
    "\n",
    "* Ahora, intentare clasificar, transformar y reducir al maximo las columnas predictoras."
   ]
  },
  {
   "cell_type": "code",
   "execution_count": 8,
   "id": "d77fb99a",
   "metadata": {
    "_kg_hide-input": true,
    "execution": {
     "iopub.execute_input": "2023-06-02T00:23:02.224803Z",
     "iopub.status.busy": "2023-06-02T00:23:02.223999Z",
     "iopub.status.idle": "2023-06-02T00:23:02.239067Z",
     "shell.execute_reply": "2023-06-02T00:23:02.237689Z"
    },
    "jupyter": {
     "source_hidden": true
    },
    "papermill": {
     "duration": 0.038215,
     "end_time": "2023-06-02T00:23:02.241498",
     "exception": false,
     "start_time": "2023-06-02T00:23:02.203283",
     "status": "completed"
    },
    "tags": []
   },
   "outputs": [
    {
     "name": "stdout",
     "output_type": "stream",
     "text": [
      "Cantidad de valores distintos en cada columna:\n",
      "provincia                19\n",
      "localidad               321\n",
      "zona                    151\n",
      "ciudad ip               192\n",
      "v_target                 13\n",
      "fuente                   14\n",
      "fuente ultima             9\n",
      "fuente original           8\n",
      "formularios enviados      8\n",
      "visitas a la pagina       7\n",
      "interacciones varias     15\n",
      "aperturas de correo       8\n",
      "franquicia              111\n",
      "inversion                 2\n",
      "dtype: int64\n"
     ]
    }
   ],
   "source": [
    "cant_distintos = df.agg(pd.Series.nunique)\n",
    "valores_unicos = {col: df[col].unique() for col in df.columns}\n",
    "print(\"Cantidad de valores distintos en cada columna:\")\n",
    "print(cant_distintos)"
   ]
  },
  {
   "cell_type": "markdown",
   "id": "5aa858ac",
   "metadata": {
    "papermill": {
     "duration": 0.018854,
     "end_time": "2023-06-02T00:23:02.279798",
     "exception": false,
     "start_time": "2023-06-02T00:23:02.260944",
     "status": "completed"
    },
    "tags": []
   },
   "source": [
    "### <p style=\"font-family:JetBrains Mono; font-weight:bold; letter-spacing: 2px; color:#05041B; font-size:140%; text-align:left;padding: 0px; border-bottom: 3px solid #FFB800\">📋 Step 3: Data Preprocessing | Variables predictoras & Variable Objetivo</p>"
   ]
  },
  {
   "cell_type": "markdown",
   "id": "a797a6fc",
   "metadata": {
    "papermill": {
     "duration": 0.018882,
     "end_time": "2023-06-02T00:23:02.318656",
     "exception": false,
     "start_time": "2023-06-02T00:23:02.299774",
     "status": "completed"
    },
    "tags": []
   },
   "source": [
    "<div style=\"border-radius:13px; border:#FFB800 solid; padding: 15px; background-color: #FAFFFF; font-size:112%; text-align:left\">\n",
    "    \n",
    "<h3 align=\"left\"><font color='#05041B'>\n",
    "</font> 📍 Ubicacion del Lead </h3>  \n",
    "   \n",
    "* 🖇️ Variables Predictoras: **\"Provincia, Localidad, Zona, Ciudad IP\"**.\n",
    "* 🖇️ Variables Predictora Unificada en: **\"zone\"**\n",
    "* Debido a los campos vacíos, el objetivo es consolidar la información en 1 columna que llamaremos \"zone\"\n",
    "* A priori, la variable de **ubicación** de un prospecto es relevante; no obstante, la data esta muy sucia y analizaremos su incorporacion al modelo y bajo que terminos."
   ]
  },
  {
   "cell_type": "code",
   "execution_count": 9,
   "id": "ebefef57",
   "metadata": {
    "_kg_hide-input": true,
    "execution": {
     "iopub.execute_input": "2023-06-02T00:23:02.359417Z",
     "iopub.status.busy": "2023-06-02T00:23:02.358339Z",
     "iopub.status.idle": "2023-06-02T00:23:02.832515Z",
     "shell.execute_reply": "2023-06-02T00:23:02.831351Z"
    },
    "papermill": {
     "duration": 0.496966,
     "end_time": "2023-06-02T00:23:02.834776",
     "exception": false,
     "start_time": "2023-06-02T00:23:02.337810",
     "status": "completed"
    },
    "tags": []
   },
   "outputs": [
    {
     "data": {
      "text/html": [
       "        <script type=\"text/javascript\">\n",
       "        window.PlotlyConfig = {MathJaxConfig: 'local'};\n",
       "        if (window.MathJax && window.MathJax.Hub && window.MathJax.Hub.Config) {window.MathJax.Hub.Config({SVG: {font: \"STIX-Web\"}});}\n",
       "        if (typeof require !== 'undefined') {\n",
       "        require.undef(\"plotly\");\n",
       "        requirejs.config({\n",
       "            paths: {\n",
       "                'plotly': ['https://cdn.plot.ly/plotly-2.20.0.min']\n",
       "            }\n",
       "        });\n",
       "        require(['plotly'], function(Plotly) {\n",
       "            window._Plotly = Plotly;\n",
       "        });\n",
       "        }\n",
       "        </script>\n",
       "        "
      ]
     },
     "metadata": {},
     "output_type": "display_data"
    },
    {
     "data": {
      "text/html": [
       "<div>                            <div id=\"3bac7142-e88a-4c34-942a-0f64e3aca684\" class=\"plotly-graph-div\" style=\"height:600px; width:100%;\"></div>            <script type=\"text/javascript\">                require([\"plotly\"], function(Plotly) {                    window.PLOTLYENV=window.PLOTLYENV || {};                                    if (document.getElementById(\"3bac7142-e88a-4c34-942a-0f64e3aca684\")) {                    Plotly.newPlot(                        \"3bac7142-e88a-4c34-942a-0f64e3aca684\",                        [{\"marker\":{\"color\":\"#064572\"},\"name\":\"provincia\",\"text\":[1766.0,10.0,4.0,2.0,1.0,1.0],\"textposition\":\"auto\",\"x\":[\"--\",\"buenos aires\",\"buenos aires f.d.\",\"santa cruz\",\"salta\",\"san juan\"],\"y\":[1766,10,4,2,1,1],\"type\":\"bar\",\"xaxis\":\"x\",\"yaxis\":\"y\"},{\"marker\":{\"color\":\"#A8854F\"},\"name\":\"localidad\",\"text\":[1098.0,51.0,48.0,16.0,14.0,13.0],\"textposition\":\"auto\",\"x\":[\"--\",\"buenos aires\",\"caba\",\"rosario\",\"avellaneda\",\"-\"],\"y\":[1098,51,48,16,14,13],\"type\":\"bar\",\"xaxis\":\"x2\",\"yaxis\":\"y2\"},{\"marker\":{\"color\":\"#7E98B2\"},\"name\":\"zona\",\"text\":[1141.0,213.0,32.0,27.0,21.0,20.0],\"textposition\":\"auto\",\"x\":[\"--\",\"buenos aires\",\"santa fe\",\"caba\",\"argentina\",\"córdoba\"],\"y\":[1141,213,32,27,21,20],\"type\":\"bar\",\"xaxis\":\"x3\",\"yaxis\":\"y3\"},{\"marker\":{\"color\":\"#663DB8\"},\"name\":\"ciudad ip\",\"text\":[1077.0,162.0,30.0,28.0,18.0,15.0],\"textposition\":\"auto\",\"x\":[\"--\",\"buenos aires\",\"mendoza\",\"rosario\",\"mar del plata\",\"berazategui\"],\"y\":[1077,162,30,28,18,15],\"type\":\"bar\",\"xaxis\":\"x4\",\"yaxis\":\"y4\"}],                        {\"template\":{\"data\":{\"histogram2dcontour\":[{\"type\":\"histogram2dcontour\",\"colorbar\":{\"outlinewidth\":0,\"ticks\":\"\"},\"colorscale\":[[0.0,\"#0d0887\"],[0.1111111111111111,\"#46039f\"],[0.2222222222222222,\"#7201a8\"],[0.3333333333333333,\"#9c179e\"],[0.4444444444444444,\"#bd3786\"],[0.5555555555555556,\"#d8576b\"],[0.6666666666666666,\"#ed7953\"],[0.7777777777777778,\"#fb9f3a\"],[0.8888888888888888,\"#fdca26\"],[1.0,\"#f0f921\"]]}],\"choropleth\":[{\"type\":\"choropleth\",\"colorbar\":{\"outlinewidth\":0,\"ticks\":\"\"}}],\"histogram2d\":[{\"type\":\"histogram2d\",\"colorbar\":{\"outlinewidth\":0,\"ticks\":\"\"},\"colorscale\":[[0.0,\"#0d0887\"],[0.1111111111111111,\"#46039f\"],[0.2222222222222222,\"#7201a8\"],[0.3333333333333333,\"#9c179e\"],[0.4444444444444444,\"#bd3786\"],[0.5555555555555556,\"#d8576b\"],[0.6666666666666666,\"#ed7953\"],[0.7777777777777778,\"#fb9f3a\"],[0.8888888888888888,\"#fdca26\"],[1.0,\"#f0f921\"]]}],\"heatmap\":[{\"type\":\"heatmap\",\"colorbar\":{\"outlinewidth\":0,\"ticks\":\"\"},\"colorscale\":[[0.0,\"#0d0887\"],[0.1111111111111111,\"#46039f\"],[0.2222222222222222,\"#7201a8\"],[0.3333333333333333,\"#9c179e\"],[0.4444444444444444,\"#bd3786\"],[0.5555555555555556,\"#d8576b\"],[0.6666666666666666,\"#ed7953\"],[0.7777777777777778,\"#fb9f3a\"],[0.8888888888888888,\"#fdca26\"],[1.0,\"#f0f921\"]]}],\"heatmapgl\":[{\"type\":\"heatmapgl\",\"colorbar\":{\"outlinewidth\":0,\"ticks\":\"\"},\"colorscale\":[[0.0,\"#0d0887\"],[0.1111111111111111,\"#46039f\"],[0.2222222222222222,\"#7201a8\"],[0.3333333333333333,\"#9c179e\"],[0.4444444444444444,\"#bd3786\"],[0.5555555555555556,\"#d8576b\"],[0.6666666666666666,\"#ed7953\"],[0.7777777777777778,\"#fb9f3a\"],[0.8888888888888888,\"#fdca26\"],[1.0,\"#f0f921\"]]}],\"contourcarpet\":[{\"type\":\"contourcarpet\",\"colorbar\":{\"outlinewidth\":0,\"ticks\":\"\"}}],\"contour\":[{\"type\":\"contour\",\"colorbar\":{\"outlinewidth\":0,\"ticks\":\"\"},\"colorscale\":[[0.0,\"#0d0887\"],[0.1111111111111111,\"#46039f\"],[0.2222222222222222,\"#7201a8\"],[0.3333333333333333,\"#9c179e\"],[0.4444444444444444,\"#bd3786\"],[0.5555555555555556,\"#d8576b\"],[0.6666666666666666,\"#ed7953\"],[0.7777777777777778,\"#fb9f3a\"],[0.8888888888888888,\"#fdca26\"],[1.0,\"#f0f921\"]]}],\"surface\":[{\"type\":\"surface\",\"colorbar\":{\"outlinewidth\":0,\"ticks\":\"\"},\"colorscale\":[[0.0,\"#0d0887\"],[0.1111111111111111,\"#46039f\"],[0.2222222222222222,\"#7201a8\"],[0.3333333333333333,\"#9c179e\"],[0.4444444444444444,\"#bd3786\"],[0.5555555555555556,\"#d8576b\"],[0.6666666666666666,\"#ed7953\"],[0.7777777777777778,\"#fb9f3a\"],[0.8888888888888888,\"#fdca26\"],[1.0,\"#f0f921\"]]}],\"mesh3d\":[{\"type\":\"mesh3d\",\"colorbar\":{\"outlinewidth\":0,\"ticks\":\"\"}}],\"scatter\":[{\"fillpattern\":{\"fillmode\":\"overlay\",\"size\":10,\"solidity\":0.2},\"type\":\"scatter\"}],\"parcoords\":[{\"type\":\"parcoords\",\"line\":{\"colorbar\":{\"outlinewidth\":0,\"ticks\":\"\"}}}],\"scatterpolargl\":[{\"type\":\"scatterpolargl\",\"marker\":{\"colorbar\":{\"outlinewidth\":0,\"ticks\":\"\"}}}],\"bar\":[{\"error_x\":{\"color\":\"#2a3f5f\"},\"error_y\":{\"color\":\"#2a3f5f\"},\"marker\":{\"line\":{\"color\":\"#E5ECF6\",\"width\":0.5},\"pattern\":{\"fillmode\":\"overlay\",\"size\":10,\"solidity\":0.2}},\"type\":\"bar\"}],\"scattergeo\":[{\"type\":\"scattergeo\",\"marker\":{\"colorbar\":{\"outlinewidth\":0,\"ticks\":\"\"}}}],\"scatterpolar\":[{\"type\":\"scatterpolar\",\"marker\":{\"colorbar\":{\"outlinewidth\":0,\"ticks\":\"\"}}}],\"histogram\":[{\"marker\":{\"pattern\":{\"fillmode\":\"overlay\",\"size\":10,\"solidity\":0.2}},\"type\":\"histogram\"}],\"scattergl\":[{\"type\":\"scattergl\",\"marker\":{\"colorbar\":{\"outlinewidth\":0,\"ticks\":\"\"}}}],\"scatter3d\":[{\"type\":\"scatter3d\",\"line\":{\"colorbar\":{\"outlinewidth\":0,\"ticks\":\"\"}},\"marker\":{\"colorbar\":{\"outlinewidth\":0,\"ticks\":\"\"}}}],\"scattermapbox\":[{\"type\":\"scattermapbox\",\"marker\":{\"colorbar\":{\"outlinewidth\":0,\"ticks\":\"\"}}}],\"scatterternary\":[{\"type\":\"scatterternary\",\"marker\":{\"colorbar\":{\"outlinewidth\":0,\"ticks\":\"\"}}}],\"scattercarpet\":[{\"type\":\"scattercarpet\",\"marker\":{\"colorbar\":{\"outlinewidth\":0,\"ticks\":\"\"}}}],\"carpet\":[{\"aaxis\":{\"endlinecolor\":\"#2a3f5f\",\"gridcolor\":\"white\",\"linecolor\":\"white\",\"minorgridcolor\":\"white\",\"startlinecolor\":\"#2a3f5f\"},\"baxis\":{\"endlinecolor\":\"#2a3f5f\",\"gridcolor\":\"white\",\"linecolor\":\"white\",\"minorgridcolor\":\"white\",\"startlinecolor\":\"#2a3f5f\"},\"type\":\"carpet\"}],\"table\":[{\"cells\":{\"fill\":{\"color\":\"#EBF0F8\"},\"line\":{\"color\":\"white\"}},\"header\":{\"fill\":{\"color\":\"#C8D4E3\"},\"line\":{\"color\":\"white\"}},\"type\":\"table\"}],\"barpolar\":[{\"marker\":{\"line\":{\"color\":\"#E5ECF6\",\"width\":0.5},\"pattern\":{\"fillmode\":\"overlay\",\"size\":10,\"solidity\":0.2}},\"type\":\"barpolar\"}],\"pie\":[{\"automargin\":true,\"type\":\"pie\"}]},\"layout\":{\"autotypenumbers\":\"strict\",\"colorway\":[\"#636efa\",\"#EF553B\",\"#00cc96\",\"#ab63fa\",\"#FFA15A\",\"#19d3f3\",\"#FF6692\",\"#B6E880\",\"#FF97FF\",\"#FECB52\"],\"font\":{\"color\":\"#2a3f5f\"},\"hovermode\":\"closest\",\"hoverlabel\":{\"align\":\"left\"},\"paper_bgcolor\":\"white\",\"plot_bgcolor\":\"#E5ECF6\",\"polar\":{\"bgcolor\":\"#E5ECF6\",\"angularaxis\":{\"gridcolor\":\"white\",\"linecolor\":\"white\",\"ticks\":\"\"},\"radialaxis\":{\"gridcolor\":\"white\",\"linecolor\":\"white\",\"ticks\":\"\"}},\"ternary\":{\"bgcolor\":\"#E5ECF6\",\"aaxis\":{\"gridcolor\":\"white\",\"linecolor\":\"white\",\"ticks\":\"\"},\"baxis\":{\"gridcolor\":\"white\",\"linecolor\":\"white\",\"ticks\":\"\"},\"caxis\":{\"gridcolor\":\"white\",\"linecolor\":\"white\",\"ticks\":\"\"}},\"coloraxis\":{\"colorbar\":{\"outlinewidth\":0,\"ticks\":\"\"}},\"colorscale\":{\"sequential\":[[0.0,\"#0d0887\"],[0.1111111111111111,\"#46039f\"],[0.2222222222222222,\"#7201a8\"],[0.3333333333333333,\"#9c179e\"],[0.4444444444444444,\"#bd3786\"],[0.5555555555555556,\"#d8576b\"],[0.6666666666666666,\"#ed7953\"],[0.7777777777777778,\"#fb9f3a\"],[0.8888888888888888,\"#fdca26\"],[1.0,\"#f0f921\"]],\"sequentialminus\":[[0.0,\"#0d0887\"],[0.1111111111111111,\"#46039f\"],[0.2222222222222222,\"#7201a8\"],[0.3333333333333333,\"#9c179e\"],[0.4444444444444444,\"#bd3786\"],[0.5555555555555556,\"#d8576b\"],[0.6666666666666666,\"#ed7953\"],[0.7777777777777778,\"#fb9f3a\"],[0.8888888888888888,\"#fdca26\"],[1.0,\"#f0f921\"]],\"diverging\":[[0,\"#8e0152\"],[0.1,\"#c51b7d\"],[0.2,\"#de77ae\"],[0.3,\"#f1b6da\"],[0.4,\"#fde0ef\"],[0.5,\"#f7f7f7\"],[0.6,\"#e6f5d0\"],[0.7,\"#b8e186\"],[0.8,\"#7fbc41\"],[0.9,\"#4d9221\"],[1,\"#276419\"]]},\"xaxis\":{\"gridcolor\":\"white\",\"linecolor\":\"white\",\"ticks\":\"\",\"title\":{\"standoff\":15},\"zerolinecolor\":\"white\",\"automargin\":true,\"zerolinewidth\":2},\"yaxis\":{\"gridcolor\":\"white\",\"linecolor\":\"white\",\"ticks\":\"\",\"title\":{\"standoff\":15},\"zerolinecolor\":\"white\",\"automargin\":true,\"zerolinewidth\":2},\"scene\":{\"xaxis\":{\"backgroundcolor\":\"#E5ECF6\",\"gridcolor\":\"white\",\"linecolor\":\"white\",\"showbackground\":true,\"ticks\":\"\",\"zerolinecolor\":\"white\",\"gridwidth\":2},\"yaxis\":{\"backgroundcolor\":\"#E5ECF6\",\"gridcolor\":\"white\",\"linecolor\":\"white\",\"showbackground\":true,\"ticks\":\"\",\"zerolinecolor\":\"white\",\"gridwidth\":2},\"zaxis\":{\"backgroundcolor\":\"#E5ECF6\",\"gridcolor\":\"white\",\"linecolor\":\"white\",\"showbackground\":true,\"ticks\":\"\",\"zerolinecolor\":\"white\",\"gridwidth\":2}},\"shapedefaults\":{\"line\":{\"color\":\"#2a3f5f\"}},\"annotationdefaults\":{\"arrowcolor\":\"#2a3f5f\",\"arrowhead\":0,\"arrowwidth\":1},\"geo\":{\"bgcolor\":\"white\",\"landcolor\":\"#E5ECF6\",\"subunitcolor\":\"white\",\"showland\":true,\"showlakes\":true,\"lakecolor\":\"white\"},\"title\":{\"x\":0.05},\"mapbox\":{\"style\":\"light\"}}},\"xaxis\":{\"anchor\":\"y\",\"domain\":[0.0,0.45]},\"yaxis\":{\"anchor\":\"x\",\"domain\":[0.575,1.0]},\"xaxis2\":{\"anchor\":\"y2\",\"domain\":[0.55,1.0]},\"yaxis2\":{\"anchor\":\"x2\",\"domain\":[0.575,1.0]},\"xaxis3\":{\"anchor\":\"y3\",\"domain\":[0.0,0.45]},\"yaxis3\":{\"anchor\":\"x3\",\"domain\":[0.0,0.425]},\"xaxis4\":{\"anchor\":\"y4\",\"domain\":[0.55,1.0]},\"yaxis4\":{\"anchor\":\"x4\",\"domain\":[0.0,0.425]},\"title\":{\"text\":\"Distribución de las 6 categorías más comunes para cada variable\"},\"height\":600,\"showlegend\":false,\"bargap\":0.15,\"bargroupgap\":0.1},                        {\"responsive\": true}                    ).then(function(){\n",
       "                            \n",
       "var gd = document.getElementById('3bac7142-e88a-4c34-942a-0f64e3aca684');\n",
       "var x = new MutationObserver(function (mutations, observer) {{\n",
       "        var display = window.getComputedStyle(gd).display;\n",
       "        if (!display || display === 'none') {{\n",
       "            console.log([gd, 'removed!']);\n",
       "            Plotly.purge(gd);\n",
       "            observer.disconnect();\n",
       "        }}\n",
       "}});\n",
       "\n",
       "// Listen for the removal of the full notebook cells\n",
       "var notebookContainer = gd.closest('#notebook-container');\n",
       "if (notebookContainer) {{\n",
       "    x.observe(notebookContainer, {childList: true});\n",
       "}}\n",
       "\n",
       "// Listen for the clearing of the current output cell\n",
       "var outputEl = gd.closest('.output');\n",
       "if (outputEl) {{\n",
       "    x.observe(outputEl, {childList: true});\n",
       "}}\n",
       "\n",
       "                        })                };                });            </script>        </div>"
      ]
     },
     "metadata": {},
     "output_type": "display_data"
    }
   ],
   "source": [
    "import plotly.graph_objects as go\n",
    "from plotly.subplots import make_subplots\n",
    "import math\n",
    "# Definir las columnas categóricas\n",
    "cat_columns = ['provincia', 'localidad', 'zona', 'ciudad ip']\n",
    "# Calcular filas y columnas para subplot\n",
    "n_cols = 2\n",
    "n_rows = math.ceil(len(cat_columns) / n_cols)\n",
    "# Crear subplot\n",
    "fig = make_subplots(rows=n_rows, cols=n_cols)\n",
    "# Añadir gráficos de barras para cada variable categórica\n",
    "for i, col in enumerate(cat_columns):\n",
    "    curr_row = i // n_cols + 1\n",
    "    curr_col = i % n_cols + 1\n",
    "    # Seleccionar los 6 valores más comunes\n",
    "    top_values = df[col].value_counts().head(6)   \n",
    "    fig.add_trace(go.Bar(\n",
    "        x=top_values.index,\n",
    "        y=top_values.values,\n",
    "        name=col,\n",
    "        text=top_values.values,\n",
    "        textposition='auto',\n",
    "        marker_color=colors[i % len(colors)]\n",
    "    ), row=curr_row, col=curr_col)\n",
    "# Actualizar layout\n",
    "fig.update_layout(\n",
    "    title_text='Distribución de las 6 categorías más comunes para cada variable',\n",
    "    height=300 * n_rows,  \n",
    "    showlegend=False,\n",
    "    bargap=0.15, \n",
    "    bargroupgap=0.1\n",
    ")\n",
    "fig.show()\n"
   ]
  },
  {
   "cell_type": "markdown",
   "id": "61df66f5",
   "metadata": {
    "papermill": {
     "duration": 0.018998,
     "end_time": "2023-06-02T00:23:02.874187",
     "exception": false,
     "start_time": "2023-06-02T00:23:02.855189",
     "status": "completed"
    },
    "tags": []
   },
   "source": [
    "<div style=\"border-radius:13px; border:#FFB800 solid; padding: 15px; background-color: #FAFFFF; font-size:105%; text-align:left\">\n",
    "    \n",
    "* Mayoria **\"--\"** **(Campos vacios)**\n",
    "* Intentare seleccionar el primer valor válido (si hubiere) de cada fila en las columnas, definiendo las prioridades de general a particular(Provincia a Localidad), \n",
    "* Unificando las columnas respectivas a la ubicacion en la nueva columna **\"zone\"** y dejar los entrys sin valor en la columna **\"sin valor\"**"
   ]
  },
  {
   "cell_type": "code",
   "execution_count": 10,
   "id": "4355410a",
   "metadata": {
    "_kg_hide-input": true,
    "execution": {
     "iopub.execute_input": "2023-06-02T00:23:02.915870Z",
     "iopub.status.busy": "2023-06-02T00:23:02.915204Z",
     "iopub.status.idle": "2023-06-02T00:23:04.360690Z",
     "shell.execute_reply": "2023-06-02T00:23:04.359433Z"
    },
    "jupyter": {
     "source_hidden": true
    },
    "papermill": {
     "duration": 1.469428,
     "end_time": "2023-06-02T00:23:04.363173",
     "exception": false,
     "start_time": "2023-06-02T00:23:02.893745",
     "status": "completed"
    },
    "tags": []
   },
   "outputs": [
    {
     "data": {
      "text/html": [
       "<div>                            <div id=\"d8a96754-9f3e-4425-b26d-b64cd85231a5\" class=\"plotly-graph-div\" style=\"height:525px; width:100%;\"></div>            <script type=\"text/javascript\">                require([\"plotly\"], function(Plotly) {                    window.PLOTLYENV=window.PLOTLYENV || {};                                    if (document.getElementById(\"d8a96754-9f3e-4425-b26d-b64cd85231a5\")) {                    Plotly.newPlot(                        \"d8a96754-9f3e-4425-b26d-b64cd85231a5\",                        [{\"alignmentgroup\":\"True\",\"hovertemplate\":\"Zonas=%{x}<br>Frecuencia=%{y}<extra></extra>\",\"legendgroup\":\"\",\"marker\":{\"color\":\"#064572\",\"pattern\":{\"shape\":\"\"}},\"name\":\"\",\"offsetgroup\":\"\",\"orientation\":\"v\",\"showlegend\":false,\"textposition\":\"auto\",\"x\":[\"sin valor\",\"buenos aires\",\"santa fe\",\"mendoza\",\"caba\",\"argentina\",\"córdoba\",\"ciudad autónoma de buenos aires\",\"salta\",\"-\",\"rosario\",\"capital federal\",\"cordoba\",\"corrientes\",\"mar del plata\",\"santiago del estero\",\"entre rios\",\"misiones\",\"san juan\",\"berazategui\"],\"xaxis\":\"x\",\"y\":[824,279,37,37,28,25,21,16,15,15,14,13,13,12,11,10,9,9,8,8],\"yaxis\":\"y\",\"type\":\"bar\"}],                        {\"template\":{\"data\":{\"histogram2dcontour\":[{\"type\":\"histogram2dcontour\",\"colorbar\":{\"outlinewidth\":0,\"ticks\":\"\"},\"colorscale\":[[0.0,\"#0d0887\"],[0.1111111111111111,\"#46039f\"],[0.2222222222222222,\"#7201a8\"],[0.3333333333333333,\"#9c179e\"],[0.4444444444444444,\"#bd3786\"],[0.5555555555555556,\"#d8576b\"],[0.6666666666666666,\"#ed7953\"],[0.7777777777777778,\"#fb9f3a\"],[0.8888888888888888,\"#fdca26\"],[1.0,\"#f0f921\"]]}],\"choropleth\":[{\"type\":\"choropleth\",\"colorbar\":{\"outlinewidth\":0,\"ticks\":\"\"}}],\"histogram2d\":[{\"type\":\"histogram2d\",\"colorbar\":{\"outlinewidth\":0,\"ticks\":\"\"},\"colorscale\":[[0.0,\"#0d0887\"],[0.1111111111111111,\"#46039f\"],[0.2222222222222222,\"#7201a8\"],[0.3333333333333333,\"#9c179e\"],[0.4444444444444444,\"#bd3786\"],[0.5555555555555556,\"#d8576b\"],[0.6666666666666666,\"#ed7953\"],[0.7777777777777778,\"#fb9f3a\"],[0.8888888888888888,\"#fdca26\"],[1.0,\"#f0f921\"]]}],\"heatmap\":[{\"type\":\"heatmap\",\"colorbar\":{\"outlinewidth\":0,\"ticks\":\"\"},\"colorscale\":[[0.0,\"#0d0887\"],[0.1111111111111111,\"#46039f\"],[0.2222222222222222,\"#7201a8\"],[0.3333333333333333,\"#9c179e\"],[0.4444444444444444,\"#bd3786\"],[0.5555555555555556,\"#d8576b\"],[0.6666666666666666,\"#ed7953\"],[0.7777777777777778,\"#fb9f3a\"],[0.8888888888888888,\"#fdca26\"],[1.0,\"#f0f921\"]]}],\"heatmapgl\":[{\"type\":\"heatmapgl\",\"colorbar\":{\"outlinewidth\":0,\"ticks\":\"\"},\"colorscale\":[[0.0,\"#0d0887\"],[0.1111111111111111,\"#46039f\"],[0.2222222222222222,\"#7201a8\"],[0.3333333333333333,\"#9c179e\"],[0.4444444444444444,\"#bd3786\"],[0.5555555555555556,\"#d8576b\"],[0.6666666666666666,\"#ed7953\"],[0.7777777777777778,\"#fb9f3a\"],[0.8888888888888888,\"#fdca26\"],[1.0,\"#f0f921\"]]}],\"contourcarpet\":[{\"type\":\"contourcarpet\",\"colorbar\":{\"outlinewidth\":0,\"ticks\":\"\"}}],\"contour\":[{\"type\":\"contour\",\"colorbar\":{\"outlinewidth\":0,\"ticks\":\"\"},\"colorscale\":[[0.0,\"#0d0887\"],[0.1111111111111111,\"#46039f\"],[0.2222222222222222,\"#7201a8\"],[0.3333333333333333,\"#9c179e\"],[0.4444444444444444,\"#bd3786\"],[0.5555555555555556,\"#d8576b\"],[0.6666666666666666,\"#ed7953\"],[0.7777777777777778,\"#fb9f3a\"],[0.8888888888888888,\"#fdca26\"],[1.0,\"#f0f921\"]]}],\"surface\":[{\"type\":\"surface\",\"colorbar\":{\"outlinewidth\":0,\"ticks\":\"\"},\"colorscale\":[[0.0,\"#0d0887\"],[0.1111111111111111,\"#46039f\"],[0.2222222222222222,\"#7201a8\"],[0.3333333333333333,\"#9c179e\"],[0.4444444444444444,\"#bd3786\"],[0.5555555555555556,\"#d8576b\"],[0.6666666666666666,\"#ed7953\"],[0.7777777777777778,\"#fb9f3a\"],[0.8888888888888888,\"#fdca26\"],[1.0,\"#f0f921\"]]}],\"mesh3d\":[{\"type\":\"mesh3d\",\"colorbar\":{\"outlinewidth\":0,\"ticks\":\"\"}}],\"scatter\":[{\"fillpattern\":{\"fillmode\":\"overlay\",\"size\":10,\"solidity\":0.2},\"type\":\"scatter\"}],\"parcoords\":[{\"type\":\"parcoords\",\"line\":{\"colorbar\":{\"outlinewidth\":0,\"ticks\":\"\"}}}],\"scatterpolargl\":[{\"type\":\"scatterpolargl\",\"marker\":{\"colorbar\":{\"outlinewidth\":0,\"ticks\":\"\"}}}],\"bar\":[{\"error_x\":{\"color\":\"#2a3f5f\"},\"error_y\":{\"color\":\"#2a3f5f\"},\"marker\":{\"line\":{\"color\":\"#E5ECF6\",\"width\":0.5},\"pattern\":{\"fillmode\":\"overlay\",\"size\":10,\"solidity\":0.2}},\"type\":\"bar\"}],\"scattergeo\":[{\"type\":\"scattergeo\",\"marker\":{\"colorbar\":{\"outlinewidth\":0,\"ticks\":\"\"}}}],\"scatterpolar\":[{\"type\":\"scatterpolar\",\"marker\":{\"colorbar\":{\"outlinewidth\":0,\"ticks\":\"\"}}}],\"histogram\":[{\"marker\":{\"pattern\":{\"fillmode\":\"overlay\",\"size\":10,\"solidity\":0.2}},\"type\":\"histogram\"}],\"scattergl\":[{\"type\":\"scattergl\",\"marker\":{\"colorbar\":{\"outlinewidth\":0,\"ticks\":\"\"}}}],\"scatter3d\":[{\"type\":\"scatter3d\",\"line\":{\"colorbar\":{\"outlinewidth\":0,\"ticks\":\"\"}},\"marker\":{\"colorbar\":{\"outlinewidth\":0,\"ticks\":\"\"}}}],\"scattermapbox\":[{\"type\":\"scattermapbox\",\"marker\":{\"colorbar\":{\"outlinewidth\":0,\"ticks\":\"\"}}}],\"scatterternary\":[{\"type\":\"scatterternary\",\"marker\":{\"colorbar\":{\"outlinewidth\":0,\"ticks\":\"\"}}}],\"scattercarpet\":[{\"type\":\"scattercarpet\",\"marker\":{\"colorbar\":{\"outlinewidth\":0,\"ticks\":\"\"}}}],\"carpet\":[{\"aaxis\":{\"endlinecolor\":\"#2a3f5f\",\"gridcolor\":\"white\",\"linecolor\":\"white\",\"minorgridcolor\":\"white\",\"startlinecolor\":\"#2a3f5f\"},\"baxis\":{\"endlinecolor\":\"#2a3f5f\",\"gridcolor\":\"white\",\"linecolor\":\"white\",\"minorgridcolor\":\"white\",\"startlinecolor\":\"#2a3f5f\"},\"type\":\"carpet\"}],\"table\":[{\"cells\":{\"fill\":{\"color\":\"#EBF0F8\"},\"line\":{\"color\":\"white\"}},\"header\":{\"fill\":{\"color\":\"#C8D4E3\"},\"line\":{\"color\":\"white\"}},\"type\":\"table\"}],\"barpolar\":[{\"marker\":{\"line\":{\"color\":\"#E5ECF6\",\"width\":0.5},\"pattern\":{\"fillmode\":\"overlay\",\"size\":10,\"solidity\":0.2}},\"type\":\"barpolar\"}],\"pie\":[{\"automargin\":true,\"type\":\"pie\"}]},\"layout\":{\"autotypenumbers\":\"strict\",\"colorway\":[\"#636efa\",\"#EF553B\",\"#00cc96\",\"#ab63fa\",\"#FFA15A\",\"#19d3f3\",\"#FF6692\",\"#B6E880\",\"#FF97FF\",\"#FECB52\"],\"font\":{\"color\":\"#2a3f5f\"},\"hovermode\":\"closest\",\"hoverlabel\":{\"align\":\"left\"},\"paper_bgcolor\":\"white\",\"plot_bgcolor\":\"#E5ECF6\",\"polar\":{\"bgcolor\":\"#E5ECF6\",\"angularaxis\":{\"gridcolor\":\"white\",\"linecolor\":\"white\",\"ticks\":\"\"},\"radialaxis\":{\"gridcolor\":\"white\",\"linecolor\":\"white\",\"ticks\":\"\"}},\"ternary\":{\"bgcolor\":\"#E5ECF6\",\"aaxis\":{\"gridcolor\":\"white\",\"linecolor\":\"white\",\"ticks\":\"\"},\"baxis\":{\"gridcolor\":\"white\",\"linecolor\":\"white\",\"ticks\":\"\"},\"caxis\":{\"gridcolor\":\"white\",\"linecolor\":\"white\",\"ticks\":\"\"}},\"coloraxis\":{\"colorbar\":{\"outlinewidth\":0,\"ticks\":\"\"}},\"colorscale\":{\"sequential\":[[0.0,\"#0d0887\"],[0.1111111111111111,\"#46039f\"],[0.2222222222222222,\"#7201a8\"],[0.3333333333333333,\"#9c179e\"],[0.4444444444444444,\"#bd3786\"],[0.5555555555555556,\"#d8576b\"],[0.6666666666666666,\"#ed7953\"],[0.7777777777777778,\"#fb9f3a\"],[0.8888888888888888,\"#fdca26\"],[1.0,\"#f0f921\"]],\"sequentialminus\":[[0.0,\"#0d0887\"],[0.1111111111111111,\"#46039f\"],[0.2222222222222222,\"#7201a8\"],[0.3333333333333333,\"#9c179e\"],[0.4444444444444444,\"#bd3786\"],[0.5555555555555556,\"#d8576b\"],[0.6666666666666666,\"#ed7953\"],[0.7777777777777778,\"#fb9f3a\"],[0.8888888888888888,\"#fdca26\"],[1.0,\"#f0f921\"]],\"diverging\":[[0,\"#8e0152\"],[0.1,\"#c51b7d\"],[0.2,\"#de77ae\"],[0.3,\"#f1b6da\"],[0.4,\"#fde0ef\"],[0.5,\"#f7f7f7\"],[0.6,\"#e6f5d0\"],[0.7,\"#b8e186\"],[0.8,\"#7fbc41\"],[0.9,\"#4d9221\"],[1,\"#276419\"]]},\"xaxis\":{\"gridcolor\":\"white\",\"linecolor\":\"white\",\"ticks\":\"\",\"title\":{\"standoff\":15},\"zerolinecolor\":\"white\",\"automargin\":true,\"zerolinewidth\":2},\"yaxis\":{\"gridcolor\":\"white\",\"linecolor\":\"white\",\"ticks\":\"\",\"title\":{\"standoff\":15},\"zerolinecolor\":\"white\",\"automargin\":true,\"zerolinewidth\":2},\"scene\":{\"xaxis\":{\"backgroundcolor\":\"#E5ECF6\",\"gridcolor\":\"white\",\"linecolor\":\"white\",\"showbackground\":true,\"ticks\":\"\",\"zerolinecolor\":\"white\",\"gridwidth\":2},\"yaxis\":{\"backgroundcolor\":\"#E5ECF6\",\"gridcolor\":\"white\",\"linecolor\":\"white\",\"showbackground\":true,\"ticks\":\"\",\"zerolinecolor\":\"white\",\"gridwidth\":2},\"zaxis\":{\"backgroundcolor\":\"#E5ECF6\",\"gridcolor\":\"white\",\"linecolor\":\"white\",\"showbackground\":true,\"ticks\":\"\",\"zerolinecolor\":\"white\",\"gridwidth\":2}},\"shapedefaults\":{\"line\":{\"color\":\"#2a3f5f\"}},\"annotationdefaults\":{\"arrowcolor\":\"#2a3f5f\",\"arrowhead\":0,\"arrowwidth\":1},\"geo\":{\"bgcolor\":\"white\",\"landcolor\":\"#E5ECF6\",\"subunitcolor\":\"white\",\"showland\":true,\"showlakes\":true,\"lakecolor\":\"white\"},\"title\":{\"x\":0.05},\"mapbox\":{\"style\":\"light\"}}},\"xaxis\":{\"anchor\":\"y\",\"domain\":[0.0,1.0],\"title\":{\"text\":\"Zonas\"}},\"yaxis\":{\"anchor\":\"x\",\"domain\":[0.0,1.0],\"title\":{\"text\":\"Frecuencia\"}},\"legend\":{\"tracegroupgap\":0},\"title\":{\"text\":\"Top 20 zonas más frecuentes en zone\"},\"barmode\":\"relative\"},                        {\"responsive\": true}                    ).then(function(){\n",
       "                            \n",
       "var gd = document.getElementById('d8a96754-9f3e-4425-b26d-b64cd85231a5');\n",
       "var x = new MutationObserver(function (mutations, observer) {{\n",
       "        var display = window.getComputedStyle(gd).display;\n",
       "        if (!display || display === 'none') {{\n",
       "            console.log([gd, 'removed!']);\n",
       "            Plotly.purge(gd);\n",
       "            observer.disconnect();\n",
       "        }}\n",
       "}});\n",
       "\n",
       "// Listen for the removal of the full notebook cells\n",
       "var notebookContainer = gd.closest('#notebook-container');\n",
       "if (notebookContainer) {{\n",
       "    x.observe(notebookContainer, {childList: true});\n",
       "}}\n",
       "\n",
       "// Listen for the clearing of the current output cell\n",
       "var outputEl = gd.closest('.output');\n",
       "if (outputEl) {{\n",
       "    x.observe(outputEl, {childList: true});\n",
       "}}\n",
       "\n",
       "                        })                };                });            </script>        </div>"
      ]
     },
     "metadata": {},
     "output_type": "display_data"
    }
   ],
   "source": [
    "def seleccionar_valor(row, columnas):\n",
    "    for col in columnas:\n",
    "        valor = row[col]\n",
    "        if not pd.isna(valor) and str(valor) != 'nan' and str(valor) != '--':\n",
    "            return valor\n",
    "    return 'sin valor'\n",
    "columnas = ['provincia', 'zona', 'ciudad ip', 'localidad']\n",
    "df['zone'] = df.apply(lambda row: seleccionar_valor(row, columnas), axis=1)\n",
    "top_20_zonas = df['zone'].value_counts().head(20)\n",
    "fig_bar = px.bar(x=top_20_zonas.index, y=top_20_zonas, labels={'x': 'Zonas', 'y': 'Frecuencia'}, title='Top 20 zonas más frecuentes en zone', color_discrete_sequence=colors)\n",
    "fig_bar.show()"
   ]
  },
  {
   "cell_type": "markdown",
   "id": "ee53444d",
   "metadata": {
    "papermill": {
     "duration": 0.020573,
     "end_time": "2023-06-02T00:23:04.404196",
     "exception": false,
     "start_time": "2023-06-02T00:23:04.383623",
     "status": "completed"
    },
    "tags": []
   },
   "source": [
    "<div style=\"border-radius:13px; border:#FFB800 solid; padding: 15px; background-color: #FAFFFF; font-size:105%; text-align:left\">\n",
    "    \n",
    "* Unificando los nombres de las zonas Cuando contengan terminos pertinentes a Provincias que suelen aparecer repetidas.\n"
   ]
  },
  {
   "cell_type": "code",
   "execution_count": 11,
   "id": "5524367b",
   "metadata": {
    "_kg_hide-input": true,
    "execution": {
     "iopub.execute_input": "2023-06-02T00:23:04.445782Z",
     "iopub.status.busy": "2023-06-02T00:23:04.445392Z",
     "iopub.status.idle": "2023-06-02T00:23:04.532384Z",
     "shell.execute_reply": "2023-06-02T00:23:04.531220Z"
    },
    "jupyter": {
     "source_hidden": true
    },
    "papermill": {
     "duration": 0.110546,
     "end_time": "2023-06-02T00:23:04.534724",
     "exception": false,
     "start_time": "2023-06-02T00:23:04.424178",
     "status": "completed"
    },
    "tags": []
   },
   "outputs": [
    {
     "data": {
      "text/html": [
       "<div>                            <div id=\"34c7e877-8eba-4d17-91b8-cb8fca538ab0\" class=\"plotly-graph-div\" style=\"height:525px; width:100%;\"></div>            <script type=\"text/javascript\">                require([\"plotly\"], function(Plotly) {                    window.PLOTLYENV=window.PLOTLYENV || {};                                    if (document.getElementById(\"34c7e877-8eba-4d17-91b8-cb8fca538ab0\")) {                    Plotly.newPlot(                        \"34c7e877-8eba-4d17-91b8-cb8fca538ab0\",                        [{\"domain\":{\"x\":[0.0,1.0],\"y\":[0.0,1.0]},\"hovertemplate\":\"label=%{label}<br>value=%{value}<extra></extra>\",\"labels\":[\"sin valor\",\"buenos aires\",\"santa fe\",\"mendoza\",\"argentina\",\"córdoba\",\"-\",\"salta\",\"cordoba\",\"corrientes\",\"mar del plata\",\"santiago del estero\",\"entre rios\",\"misiones\",\"berazategui\",\"san juan\",\"san luis\",\"formosa\"],\"legendgroup\":\"\",\"name\":\"\",\"showlegend\":true,\"values\":[824,391,62,44,25,21,15,15,13,12,11,10,9,9,8,8,8,7],\"type\":\"pie\"}],                        {\"template\":{\"data\":{\"histogram2dcontour\":[{\"type\":\"histogram2dcontour\",\"colorbar\":{\"outlinewidth\":0,\"ticks\":\"\"},\"colorscale\":[[0.0,\"#0d0887\"],[0.1111111111111111,\"#46039f\"],[0.2222222222222222,\"#7201a8\"],[0.3333333333333333,\"#9c179e\"],[0.4444444444444444,\"#bd3786\"],[0.5555555555555556,\"#d8576b\"],[0.6666666666666666,\"#ed7953\"],[0.7777777777777778,\"#fb9f3a\"],[0.8888888888888888,\"#fdca26\"],[1.0,\"#f0f921\"]]}],\"choropleth\":[{\"type\":\"choropleth\",\"colorbar\":{\"outlinewidth\":0,\"ticks\":\"\"}}],\"histogram2d\":[{\"type\":\"histogram2d\",\"colorbar\":{\"outlinewidth\":0,\"ticks\":\"\"},\"colorscale\":[[0.0,\"#0d0887\"],[0.1111111111111111,\"#46039f\"],[0.2222222222222222,\"#7201a8\"],[0.3333333333333333,\"#9c179e\"],[0.4444444444444444,\"#bd3786\"],[0.5555555555555556,\"#d8576b\"],[0.6666666666666666,\"#ed7953\"],[0.7777777777777778,\"#fb9f3a\"],[0.8888888888888888,\"#fdca26\"],[1.0,\"#f0f921\"]]}],\"heatmap\":[{\"type\":\"heatmap\",\"colorbar\":{\"outlinewidth\":0,\"ticks\":\"\"},\"colorscale\":[[0.0,\"#0d0887\"],[0.1111111111111111,\"#46039f\"],[0.2222222222222222,\"#7201a8\"],[0.3333333333333333,\"#9c179e\"],[0.4444444444444444,\"#bd3786\"],[0.5555555555555556,\"#d8576b\"],[0.6666666666666666,\"#ed7953\"],[0.7777777777777778,\"#fb9f3a\"],[0.8888888888888888,\"#fdca26\"],[1.0,\"#f0f921\"]]}],\"heatmapgl\":[{\"type\":\"heatmapgl\",\"colorbar\":{\"outlinewidth\":0,\"ticks\":\"\"},\"colorscale\":[[0.0,\"#0d0887\"],[0.1111111111111111,\"#46039f\"],[0.2222222222222222,\"#7201a8\"],[0.3333333333333333,\"#9c179e\"],[0.4444444444444444,\"#bd3786\"],[0.5555555555555556,\"#d8576b\"],[0.6666666666666666,\"#ed7953\"],[0.7777777777777778,\"#fb9f3a\"],[0.8888888888888888,\"#fdca26\"],[1.0,\"#f0f921\"]]}],\"contourcarpet\":[{\"type\":\"contourcarpet\",\"colorbar\":{\"outlinewidth\":0,\"ticks\":\"\"}}],\"contour\":[{\"type\":\"contour\",\"colorbar\":{\"outlinewidth\":0,\"ticks\":\"\"},\"colorscale\":[[0.0,\"#0d0887\"],[0.1111111111111111,\"#46039f\"],[0.2222222222222222,\"#7201a8\"],[0.3333333333333333,\"#9c179e\"],[0.4444444444444444,\"#bd3786\"],[0.5555555555555556,\"#d8576b\"],[0.6666666666666666,\"#ed7953\"],[0.7777777777777778,\"#fb9f3a\"],[0.8888888888888888,\"#fdca26\"],[1.0,\"#f0f921\"]]}],\"surface\":[{\"type\":\"surface\",\"colorbar\":{\"outlinewidth\":0,\"ticks\":\"\"},\"colorscale\":[[0.0,\"#0d0887\"],[0.1111111111111111,\"#46039f\"],[0.2222222222222222,\"#7201a8\"],[0.3333333333333333,\"#9c179e\"],[0.4444444444444444,\"#bd3786\"],[0.5555555555555556,\"#d8576b\"],[0.6666666666666666,\"#ed7953\"],[0.7777777777777778,\"#fb9f3a\"],[0.8888888888888888,\"#fdca26\"],[1.0,\"#f0f921\"]]}],\"mesh3d\":[{\"type\":\"mesh3d\",\"colorbar\":{\"outlinewidth\":0,\"ticks\":\"\"}}],\"scatter\":[{\"fillpattern\":{\"fillmode\":\"overlay\",\"size\":10,\"solidity\":0.2},\"type\":\"scatter\"}],\"parcoords\":[{\"type\":\"parcoords\",\"line\":{\"colorbar\":{\"outlinewidth\":0,\"ticks\":\"\"}}}],\"scatterpolargl\":[{\"type\":\"scatterpolargl\",\"marker\":{\"colorbar\":{\"outlinewidth\":0,\"ticks\":\"\"}}}],\"bar\":[{\"error_x\":{\"color\":\"#2a3f5f\"},\"error_y\":{\"color\":\"#2a3f5f\"},\"marker\":{\"line\":{\"color\":\"#E5ECF6\",\"width\":0.5},\"pattern\":{\"fillmode\":\"overlay\",\"size\":10,\"solidity\":0.2}},\"type\":\"bar\"}],\"scattergeo\":[{\"type\":\"scattergeo\",\"marker\":{\"colorbar\":{\"outlinewidth\":0,\"ticks\":\"\"}}}],\"scatterpolar\":[{\"type\":\"scatterpolar\",\"marker\":{\"colorbar\":{\"outlinewidth\":0,\"ticks\":\"\"}}}],\"histogram\":[{\"marker\":{\"pattern\":{\"fillmode\":\"overlay\",\"size\":10,\"solidity\":0.2}},\"type\":\"histogram\"}],\"scattergl\":[{\"type\":\"scattergl\",\"marker\":{\"colorbar\":{\"outlinewidth\":0,\"ticks\":\"\"}}}],\"scatter3d\":[{\"type\":\"scatter3d\",\"line\":{\"colorbar\":{\"outlinewidth\":0,\"ticks\":\"\"}},\"marker\":{\"colorbar\":{\"outlinewidth\":0,\"ticks\":\"\"}}}],\"scattermapbox\":[{\"type\":\"scattermapbox\",\"marker\":{\"colorbar\":{\"outlinewidth\":0,\"ticks\":\"\"}}}],\"scatterternary\":[{\"type\":\"scatterternary\",\"marker\":{\"colorbar\":{\"outlinewidth\":0,\"ticks\":\"\"}}}],\"scattercarpet\":[{\"type\":\"scattercarpet\",\"marker\":{\"colorbar\":{\"outlinewidth\":0,\"ticks\":\"\"}}}],\"carpet\":[{\"aaxis\":{\"endlinecolor\":\"#2a3f5f\",\"gridcolor\":\"white\",\"linecolor\":\"white\",\"minorgridcolor\":\"white\",\"startlinecolor\":\"#2a3f5f\"},\"baxis\":{\"endlinecolor\":\"#2a3f5f\",\"gridcolor\":\"white\",\"linecolor\":\"white\",\"minorgridcolor\":\"white\",\"startlinecolor\":\"#2a3f5f\"},\"type\":\"carpet\"}],\"table\":[{\"cells\":{\"fill\":{\"color\":\"#EBF0F8\"},\"line\":{\"color\":\"white\"}},\"header\":{\"fill\":{\"color\":\"#C8D4E3\"},\"line\":{\"color\":\"white\"}},\"type\":\"table\"}],\"barpolar\":[{\"marker\":{\"line\":{\"color\":\"#E5ECF6\",\"width\":0.5},\"pattern\":{\"fillmode\":\"overlay\",\"size\":10,\"solidity\":0.2}},\"type\":\"barpolar\"}],\"pie\":[{\"automargin\":true,\"type\":\"pie\"}]},\"layout\":{\"autotypenumbers\":\"strict\",\"colorway\":[\"#636efa\",\"#EF553B\",\"#00cc96\",\"#ab63fa\",\"#FFA15A\",\"#19d3f3\",\"#FF6692\",\"#B6E880\",\"#FF97FF\",\"#FECB52\"],\"font\":{\"color\":\"#2a3f5f\"},\"hovermode\":\"closest\",\"hoverlabel\":{\"align\":\"left\"},\"paper_bgcolor\":\"white\",\"plot_bgcolor\":\"#E5ECF6\",\"polar\":{\"bgcolor\":\"#E5ECF6\",\"angularaxis\":{\"gridcolor\":\"white\",\"linecolor\":\"white\",\"ticks\":\"\"},\"radialaxis\":{\"gridcolor\":\"white\",\"linecolor\":\"white\",\"ticks\":\"\"}},\"ternary\":{\"bgcolor\":\"#E5ECF6\",\"aaxis\":{\"gridcolor\":\"white\",\"linecolor\":\"white\",\"ticks\":\"\"},\"baxis\":{\"gridcolor\":\"white\",\"linecolor\":\"white\",\"ticks\":\"\"},\"caxis\":{\"gridcolor\":\"white\",\"linecolor\":\"white\",\"ticks\":\"\"}},\"coloraxis\":{\"colorbar\":{\"outlinewidth\":0,\"ticks\":\"\"}},\"colorscale\":{\"sequential\":[[0.0,\"#0d0887\"],[0.1111111111111111,\"#46039f\"],[0.2222222222222222,\"#7201a8\"],[0.3333333333333333,\"#9c179e\"],[0.4444444444444444,\"#bd3786\"],[0.5555555555555556,\"#d8576b\"],[0.6666666666666666,\"#ed7953\"],[0.7777777777777778,\"#fb9f3a\"],[0.8888888888888888,\"#fdca26\"],[1.0,\"#f0f921\"]],\"sequentialminus\":[[0.0,\"#0d0887\"],[0.1111111111111111,\"#46039f\"],[0.2222222222222222,\"#7201a8\"],[0.3333333333333333,\"#9c179e\"],[0.4444444444444444,\"#bd3786\"],[0.5555555555555556,\"#d8576b\"],[0.6666666666666666,\"#ed7953\"],[0.7777777777777778,\"#fb9f3a\"],[0.8888888888888888,\"#fdca26\"],[1.0,\"#f0f921\"]],\"diverging\":[[0,\"#8e0152\"],[0.1,\"#c51b7d\"],[0.2,\"#de77ae\"],[0.3,\"#f1b6da\"],[0.4,\"#fde0ef\"],[0.5,\"#f7f7f7\"],[0.6,\"#e6f5d0\"],[0.7,\"#b8e186\"],[0.8,\"#7fbc41\"],[0.9,\"#4d9221\"],[1,\"#276419\"]]},\"xaxis\":{\"gridcolor\":\"white\",\"linecolor\":\"white\",\"ticks\":\"\",\"title\":{\"standoff\":15},\"zerolinecolor\":\"white\",\"automargin\":true,\"zerolinewidth\":2},\"yaxis\":{\"gridcolor\":\"white\",\"linecolor\":\"white\",\"ticks\":\"\",\"title\":{\"standoff\":15},\"zerolinecolor\":\"white\",\"automargin\":true,\"zerolinewidth\":2},\"scene\":{\"xaxis\":{\"backgroundcolor\":\"#E5ECF6\",\"gridcolor\":\"white\",\"linecolor\":\"white\",\"showbackground\":true,\"ticks\":\"\",\"zerolinecolor\":\"white\",\"gridwidth\":2},\"yaxis\":{\"backgroundcolor\":\"#E5ECF6\",\"gridcolor\":\"white\",\"linecolor\":\"white\",\"showbackground\":true,\"ticks\":\"\",\"zerolinecolor\":\"white\",\"gridwidth\":2},\"zaxis\":{\"backgroundcolor\":\"#E5ECF6\",\"gridcolor\":\"white\",\"linecolor\":\"white\",\"showbackground\":true,\"ticks\":\"\",\"zerolinecolor\":\"white\",\"gridwidth\":2}},\"shapedefaults\":{\"line\":{\"color\":\"#2a3f5f\"}},\"annotationdefaults\":{\"arrowcolor\":\"#2a3f5f\",\"arrowhead\":0,\"arrowwidth\":1},\"geo\":{\"bgcolor\":\"white\",\"landcolor\":\"#E5ECF6\",\"subunitcolor\":\"white\",\"showland\":true,\"showlakes\":true,\"lakecolor\":\"white\"},\"title\":{\"x\":0.05},\"mapbox\":{\"style\":\"light\"}}},\"legend\":{\"tracegroupgap\":0},\"title\":{\"text\":\"Zonas Top 18\"},\"piecolorway\":[\"#064572\",\"#A8854F\",\"#7E98B2\",\"#663DB8\",\"#2D795E\",\"#57073E\",\"#AF550B\",\"#15042E\",\"#DD1E6A\",\"#CB9F07\",\"#44143B\",\"#0BAFA1\"]},                        {\"responsive\": true}                    ).then(function(){\n",
       "                            \n",
       "var gd = document.getElementById('34c7e877-8eba-4d17-91b8-cb8fca538ab0');\n",
       "var x = new MutationObserver(function (mutations, observer) {{\n",
       "        var display = window.getComputedStyle(gd).display;\n",
       "        if (!display || display === 'none') {{\n",
       "            console.log([gd, 'removed!']);\n",
       "            Plotly.purge(gd);\n",
       "            observer.disconnect();\n",
       "        }}\n",
       "}});\n",
       "\n",
       "// Listen for the removal of the full notebook cells\n",
       "var notebookContainer = gd.closest('#notebook-container');\n",
       "if (notebookContainer) {{\n",
       "    x.observe(notebookContainer, {childList: true});\n",
       "}}\n",
       "\n",
       "// Listen for the clearing of the current output cell\n",
       "var outputEl = gd.closest('.output');\n",
       "if (outputEl) {{\n",
       "    x.observe(outputEl, {childList: true});\n",
       "}}\n",
       "\n",
       "                        })                };                });            </script>        </div>"
      ]
     },
     "metadata": {},
     "output_type": "display_data"
    }
   ],
   "source": [
    "def unificar_nombre_zona(zone):\n",
    "    if isinstance(zone , str):\n",
    "        if any(substring in zone for substring in ['aires', 'buenos', 'caba', 'capital federal', 'la matanza', 'san justo', 'quilmes', 'san martin']):\n",
    "            return 'buenos aires'\n",
    "        elif 'santa ' in zone or 'rosario' in zone.lower():\n",
    "            return 'santa fe'\n",
    "        elif 'posadas' in zone.lower():\n",
    "            return 'mendoza'\n",
    "        else:\n",
    "            return zone\n",
    "    else:\n",
    "        return zone\n",
    "# Aplicando a cada valor de la columna 'zonas_unificadas'\n",
    "df['zone'] = df['zone'].apply(unificar_nombre_zona)\n",
    "# Eliminando el resto de columnas pertinentes a este area\n",
    "df = df.drop(['provincia', 'zona', 'ciudad ip', 'localidad'], axis=1)\n",
    "# Verificar el resultado\n",
    "zf = df['zone'].value_counts().head(18)\n",
    "fig_pie = px.pie(values=zf, names=zf.index, title=\"Zonas Top 18\", color_discrete_sequence=colors)\n",
    "fig_pie.show()"
   ]
  },
  {
   "cell_type": "markdown",
   "id": "68dedd6b",
   "metadata": {
    "papermill": {
     "duration": 0.019771,
     "end_time": "2023-06-02T00:23:04.574603",
     "exception": false,
     "start_time": "2023-06-02T00:23:04.554832",
     "status": "completed"
    },
    "tags": []
   },
   "source": [
    "<div style=\"border-radius:13px; border:#FFB800 solid; padding: 15px; background-color: #FAFFFF; font-size:105%; text-align:left\">\n",
    "    \n",
    "* Exeptuando Buenos Aires, el resto de Provincias no contienen valores suficientes para aportar al modelo. \n",
    "* Considerando la relevancia de otras columnas en el conjunto de datos prefiero evitar sesgar al modelo inecesariamente, por lo cual dividire a zona_unificada en 3 valores.\n"
   ]
  },
  {
   "cell_type": "code",
   "execution_count": 12,
   "id": "c73c5614",
   "metadata": {
    "_kg_hide-input": true,
    "execution": {
     "iopub.execute_input": "2023-06-02T00:23:04.618886Z",
     "iopub.status.busy": "2023-06-02T00:23:04.618139Z",
     "iopub.status.idle": "2023-06-02T00:23:04.672275Z",
     "shell.execute_reply": "2023-06-02T00:23:04.671170Z"
    },
    "jupyter": {
     "source_hidden": true
    },
    "papermill": {
     "duration": 0.078295,
     "end_time": "2023-06-02T00:23:04.674799",
     "exception": false,
     "start_time": "2023-06-02T00:23:04.596504",
     "status": "completed"
    },
    "tags": []
   },
   "outputs": [
    {
     "data": {
      "text/html": [
       "<div>                            <div id=\"990afd00-3837-4a9f-a00a-b7da482806b4\" class=\"plotly-graph-div\" style=\"height:525px; width:100%;\"></div>            <script type=\"text/javascript\">                require([\"plotly\"], function(Plotly) {                    window.PLOTLYENV=window.PLOTLYENV || {};                                    if (document.getElementById(\"990afd00-3837-4a9f-a00a-b7da482806b4\")) {                    Plotly.newPlot(                        \"990afd00-3837-4a9f-a00a-b7da482806b4\",                        [{\"domain\":{\"x\":[0.0,1.0],\"y\":[0.0,1.0]},\"hovertemplate\":\"label=%{label}<br>value=%{value}<extra></extra>\",\"labels\":[\"sin valor\",\"zonas menos recurrentes\",\"buenos aires\"],\"legendgroup\":\"\",\"name\":\"\",\"showlegend\":true,\"values\":[824,582,391],\"type\":\"pie\"}],                        {\"template\":{\"data\":{\"histogram2dcontour\":[{\"type\":\"histogram2dcontour\",\"colorbar\":{\"outlinewidth\":0,\"ticks\":\"\"},\"colorscale\":[[0.0,\"#0d0887\"],[0.1111111111111111,\"#46039f\"],[0.2222222222222222,\"#7201a8\"],[0.3333333333333333,\"#9c179e\"],[0.4444444444444444,\"#bd3786\"],[0.5555555555555556,\"#d8576b\"],[0.6666666666666666,\"#ed7953\"],[0.7777777777777778,\"#fb9f3a\"],[0.8888888888888888,\"#fdca26\"],[1.0,\"#f0f921\"]]}],\"choropleth\":[{\"type\":\"choropleth\",\"colorbar\":{\"outlinewidth\":0,\"ticks\":\"\"}}],\"histogram2d\":[{\"type\":\"histogram2d\",\"colorbar\":{\"outlinewidth\":0,\"ticks\":\"\"},\"colorscale\":[[0.0,\"#0d0887\"],[0.1111111111111111,\"#46039f\"],[0.2222222222222222,\"#7201a8\"],[0.3333333333333333,\"#9c179e\"],[0.4444444444444444,\"#bd3786\"],[0.5555555555555556,\"#d8576b\"],[0.6666666666666666,\"#ed7953\"],[0.7777777777777778,\"#fb9f3a\"],[0.8888888888888888,\"#fdca26\"],[1.0,\"#f0f921\"]]}],\"heatmap\":[{\"type\":\"heatmap\",\"colorbar\":{\"outlinewidth\":0,\"ticks\":\"\"},\"colorscale\":[[0.0,\"#0d0887\"],[0.1111111111111111,\"#46039f\"],[0.2222222222222222,\"#7201a8\"],[0.3333333333333333,\"#9c179e\"],[0.4444444444444444,\"#bd3786\"],[0.5555555555555556,\"#d8576b\"],[0.6666666666666666,\"#ed7953\"],[0.7777777777777778,\"#fb9f3a\"],[0.8888888888888888,\"#fdca26\"],[1.0,\"#f0f921\"]]}],\"heatmapgl\":[{\"type\":\"heatmapgl\",\"colorbar\":{\"outlinewidth\":0,\"ticks\":\"\"},\"colorscale\":[[0.0,\"#0d0887\"],[0.1111111111111111,\"#46039f\"],[0.2222222222222222,\"#7201a8\"],[0.3333333333333333,\"#9c179e\"],[0.4444444444444444,\"#bd3786\"],[0.5555555555555556,\"#d8576b\"],[0.6666666666666666,\"#ed7953\"],[0.7777777777777778,\"#fb9f3a\"],[0.8888888888888888,\"#fdca26\"],[1.0,\"#f0f921\"]]}],\"contourcarpet\":[{\"type\":\"contourcarpet\",\"colorbar\":{\"outlinewidth\":0,\"ticks\":\"\"}}],\"contour\":[{\"type\":\"contour\",\"colorbar\":{\"outlinewidth\":0,\"ticks\":\"\"},\"colorscale\":[[0.0,\"#0d0887\"],[0.1111111111111111,\"#46039f\"],[0.2222222222222222,\"#7201a8\"],[0.3333333333333333,\"#9c179e\"],[0.4444444444444444,\"#bd3786\"],[0.5555555555555556,\"#d8576b\"],[0.6666666666666666,\"#ed7953\"],[0.7777777777777778,\"#fb9f3a\"],[0.8888888888888888,\"#fdca26\"],[1.0,\"#f0f921\"]]}],\"surface\":[{\"type\":\"surface\",\"colorbar\":{\"outlinewidth\":0,\"ticks\":\"\"},\"colorscale\":[[0.0,\"#0d0887\"],[0.1111111111111111,\"#46039f\"],[0.2222222222222222,\"#7201a8\"],[0.3333333333333333,\"#9c179e\"],[0.4444444444444444,\"#bd3786\"],[0.5555555555555556,\"#d8576b\"],[0.6666666666666666,\"#ed7953\"],[0.7777777777777778,\"#fb9f3a\"],[0.8888888888888888,\"#fdca26\"],[1.0,\"#f0f921\"]]}],\"mesh3d\":[{\"type\":\"mesh3d\",\"colorbar\":{\"outlinewidth\":0,\"ticks\":\"\"}}],\"scatter\":[{\"fillpattern\":{\"fillmode\":\"overlay\",\"size\":10,\"solidity\":0.2},\"type\":\"scatter\"}],\"parcoords\":[{\"type\":\"parcoords\",\"line\":{\"colorbar\":{\"outlinewidth\":0,\"ticks\":\"\"}}}],\"scatterpolargl\":[{\"type\":\"scatterpolargl\",\"marker\":{\"colorbar\":{\"outlinewidth\":0,\"ticks\":\"\"}}}],\"bar\":[{\"error_x\":{\"color\":\"#2a3f5f\"},\"error_y\":{\"color\":\"#2a3f5f\"},\"marker\":{\"line\":{\"color\":\"#E5ECF6\",\"width\":0.5},\"pattern\":{\"fillmode\":\"overlay\",\"size\":10,\"solidity\":0.2}},\"type\":\"bar\"}],\"scattergeo\":[{\"type\":\"scattergeo\",\"marker\":{\"colorbar\":{\"outlinewidth\":0,\"ticks\":\"\"}}}],\"scatterpolar\":[{\"type\":\"scatterpolar\",\"marker\":{\"colorbar\":{\"outlinewidth\":0,\"ticks\":\"\"}}}],\"histogram\":[{\"marker\":{\"pattern\":{\"fillmode\":\"overlay\",\"size\":10,\"solidity\":0.2}},\"type\":\"histogram\"}],\"scattergl\":[{\"type\":\"scattergl\",\"marker\":{\"colorbar\":{\"outlinewidth\":0,\"ticks\":\"\"}}}],\"scatter3d\":[{\"type\":\"scatter3d\",\"line\":{\"colorbar\":{\"outlinewidth\":0,\"ticks\":\"\"}},\"marker\":{\"colorbar\":{\"outlinewidth\":0,\"ticks\":\"\"}}}],\"scattermapbox\":[{\"type\":\"scattermapbox\",\"marker\":{\"colorbar\":{\"outlinewidth\":0,\"ticks\":\"\"}}}],\"scatterternary\":[{\"type\":\"scatterternary\",\"marker\":{\"colorbar\":{\"outlinewidth\":0,\"ticks\":\"\"}}}],\"scattercarpet\":[{\"type\":\"scattercarpet\",\"marker\":{\"colorbar\":{\"outlinewidth\":0,\"ticks\":\"\"}}}],\"carpet\":[{\"aaxis\":{\"endlinecolor\":\"#2a3f5f\",\"gridcolor\":\"white\",\"linecolor\":\"white\",\"minorgridcolor\":\"white\",\"startlinecolor\":\"#2a3f5f\"},\"baxis\":{\"endlinecolor\":\"#2a3f5f\",\"gridcolor\":\"white\",\"linecolor\":\"white\",\"minorgridcolor\":\"white\",\"startlinecolor\":\"#2a3f5f\"},\"type\":\"carpet\"}],\"table\":[{\"cells\":{\"fill\":{\"color\":\"#EBF0F8\"},\"line\":{\"color\":\"white\"}},\"header\":{\"fill\":{\"color\":\"#C8D4E3\"},\"line\":{\"color\":\"white\"}},\"type\":\"table\"}],\"barpolar\":[{\"marker\":{\"line\":{\"color\":\"#E5ECF6\",\"width\":0.5},\"pattern\":{\"fillmode\":\"overlay\",\"size\":10,\"solidity\":0.2}},\"type\":\"barpolar\"}],\"pie\":[{\"automargin\":true,\"type\":\"pie\"}]},\"layout\":{\"autotypenumbers\":\"strict\",\"colorway\":[\"#636efa\",\"#EF553B\",\"#00cc96\",\"#ab63fa\",\"#FFA15A\",\"#19d3f3\",\"#FF6692\",\"#B6E880\",\"#FF97FF\",\"#FECB52\"],\"font\":{\"color\":\"#2a3f5f\"},\"hovermode\":\"closest\",\"hoverlabel\":{\"align\":\"left\"},\"paper_bgcolor\":\"white\",\"plot_bgcolor\":\"#E5ECF6\",\"polar\":{\"bgcolor\":\"#E5ECF6\",\"angularaxis\":{\"gridcolor\":\"white\",\"linecolor\":\"white\",\"ticks\":\"\"},\"radialaxis\":{\"gridcolor\":\"white\",\"linecolor\":\"white\",\"ticks\":\"\"}},\"ternary\":{\"bgcolor\":\"#E5ECF6\",\"aaxis\":{\"gridcolor\":\"white\",\"linecolor\":\"white\",\"ticks\":\"\"},\"baxis\":{\"gridcolor\":\"white\",\"linecolor\":\"white\",\"ticks\":\"\"},\"caxis\":{\"gridcolor\":\"white\",\"linecolor\":\"white\",\"ticks\":\"\"}},\"coloraxis\":{\"colorbar\":{\"outlinewidth\":0,\"ticks\":\"\"}},\"colorscale\":{\"sequential\":[[0.0,\"#0d0887\"],[0.1111111111111111,\"#46039f\"],[0.2222222222222222,\"#7201a8\"],[0.3333333333333333,\"#9c179e\"],[0.4444444444444444,\"#bd3786\"],[0.5555555555555556,\"#d8576b\"],[0.6666666666666666,\"#ed7953\"],[0.7777777777777778,\"#fb9f3a\"],[0.8888888888888888,\"#fdca26\"],[1.0,\"#f0f921\"]],\"sequentialminus\":[[0.0,\"#0d0887\"],[0.1111111111111111,\"#46039f\"],[0.2222222222222222,\"#7201a8\"],[0.3333333333333333,\"#9c179e\"],[0.4444444444444444,\"#bd3786\"],[0.5555555555555556,\"#d8576b\"],[0.6666666666666666,\"#ed7953\"],[0.7777777777777778,\"#fb9f3a\"],[0.8888888888888888,\"#fdca26\"],[1.0,\"#f0f921\"]],\"diverging\":[[0,\"#8e0152\"],[0.1,\"#c51b7d\"],[0.2,\"#de77ae\"],[0.3,\"#f1b6da\"],[0.4,\"#fde0ef\"],[0.5,\"#f7f7f7\"],[0.6,\"#e6f5d0\"],[0.7,\"#b8e186\"],[0.8,\"#7fbc41\"],[0.9,\"#4d9221\"],[1,\"#276419\"]]},\"xaxis\":{\"gridcolor\":\"white\",\"linecolor\":\"white\",\"ticks\":\"\",\"title\":{\"standoff\":15},\"zerolinecolor\":\"white\",\"automargin\":true,\"zerolinewidth\":2},\"yaxis\":{\"gridcolor\":\"white\",\"linecolor\":\"white\",\"ticks\":\"\",\"title\":{\"standoff\":15},\"zerolinecolor\":\"white\",\"automargin\":true,\"zerolinewidth\":2},\"scene\":{\"xaxis\":{\"backgroundcolor\":\"#E5ECF6\",\"gridcolor\":\"white\",\"linecolor\":\"white\",\"showbackground\":true,\"ticks\":\"\",\"zerolinecolor\":\"white\",\"gridwidth\":2},\"yaxis\":{\"backgroundcolor\":\"#E5ECF6\",\"gridcolor\":\"white\",\"linecolor\":\"white\",\"showbackground\":true,\"ticks\":\"\",\"zerolinecolor\":\"white\",\"gridwidth\":2},\"zaxis\":{\"backgroundcolor\":\"#E5ECF6\",\"gridcolor\":\"white\",\"linecolor\":\"white\",\"showbackground\":true,\"ticks\":\"\",\"zerolinecolor\":\"white\",\"gridwidth\":2}},\"shapedefaults\":{\"line\":{\"color\":\"#2a3f5f\"}},\"annotationdefaults\":{\"arrowcolor\":\"#2a3f5f\",\"arrowhead\":0,\"arrowwidth\":1},\"geo\":{\"bgcolor\":\"white\",\"landcolor\":\"#E5ECF6\",\"subunitcolor\":\"white\",\"showland\":true,\"showlakes\":true,\"lakecolor\":\"white\"},\"title\":{\"x\":0.05},\"mapbox\":{\"style\":\"light\"}}},\"legend\":{\"tracegroupgap\":0},\"title\":{\"text\":\"Resultado Final en zone\"},\"piecolorway\":[\"#064572\",\"#A8854F\",\"#7E98B2\",\"#663DB8\",\"#2D795E\",\"#57073E\",\"#AF550B\",\"#15042E\",\"#DD1E6A\",\"#CB9F07\",\"#44143B\",\"#0BAFA1\"]},                        {\"responsive\": true}                    ).then(function(){\n",
       "                            \n",
       "var gd = document.getElementById('990afd00-3837-4a9f-a00a-b7da482806b4');\n",
       "var x = new MutationObserver(function (mutations, observer) {{\n",
       "        var display = window.getComputedStyle(gd).display;\n",
       "        if (!display || display === 'none') {{\n",
       "            console.log([gd, 'removed!']);\n",
       "            Plotly.purge(gd);\n",
       "            observer.disconnect();\n",
       "        }}\n",
       "}});\n",
       "\n",
       "// Listen for the removal of the full notebook cells\n",
       "var notebookContainer = gd.closest('#notebook-container');\n",
       "if (notebookContainer) {{\n",
       "    x.observe(notebookContainer, {childList: true});\n",
       "}}\n",
       "\n",
       "// Listen for the clearing of the current output cell\n",
       "var outputEl = gd.closest('.output');\n",
       "if (outputEl) {{\n",
       "    x.observe(outputEl, {childList: true});\n",
       "}}\n",
       "\n",
       "                        })                };                });            </script>        </div>"
      ]
     },
     "metadata": {},
     "output_type": "display_data"
    }
   ],
   "source": [
    "top_3_zonas = df['zone'].value_counts().head(2).index\n",
    "def agrupar_otras(valores, top3_zonas):\n",
    "    if valores not in top3_zonas:\n",
    "        return \"zonas menos recurrentes\"\n",
    "    else:\n",
    "        return valores\n",
    "df['zone'] = df['zone'].apply(lambda x: agrupar_otras(x, top_3_zonas))\n",
    "# Verificar el resultado\n",
    "zf = df['zone'].value_counts()\n",
    "fig_pie = px.pie(values=zf, names=zf.index, title=\"Resultado Final en zone\", color_discrete_sequence=colors)\n",
    "fig_pie.show()"
   ]
  },
  {
   "cell_type": "markdown",
   "id": "c1181fa1",
   "metadata": {
    "papermill": {
     "duration": 0.019715,
     "end_time": "2023-06-02T00:23:04.715105",
     "exception": false,
     "start_time": "2023-06-02T00:23:04.695390",
     "status": "completed"
    },
    "tags": []
   },
   "source": [
    "<div style=\"border-radius:13px; border:#FFB800 solid; padding: 15px; background-color: #FAFFFF; font-size:105%; text-align:left\">\n",
    "    \n",
    "* Considero concluida la variable de ubicacion geografica en zona_unificada\n",
    "* Mas adelante verificare la relacion frente a otras columnas y fundamentalmente frente a la columna objetivo"
   ]
  },
  {
   "cell_type": "markdown",
   "id": "804df28e",
   "metadata": {
    "papermill": {
     "duration": 0.019803,
     "end_time": "2023-06-02T00:23:04.755246",
     "exception": false,
     "start_time": "2023-06-02T00:23:04.735443",
     "status": "completed"
    },
    "tags": []
   },
   "source": [
    "<p style=\"font-family:JetBrains Mono; font-weight:bold; letter-spacing: 2px; color:#05041B; font-size:140%; text-align:left;padding: 0px; border-bottom: 3px solid #FFB800\"></p>"
   ]
  },
  {
   "cell_type": "markdown",
   "id": "74f3249e",
   "metadata": {
    "papermill": {
     "duration": 0.020756,
     "end_time": "2023-06-02T00:23:04.797560",
     "exception": false,
     "start_time": "2023-06-02T00:23:04.776804",
     "status": "completed"
    },
    "tags": []
   },
   "source": [
    "<div style=\"border-radius:13px; border:#FFB800 solid; padding: 15px; background-color: #FAFFFF; font-size:112%; text-align:left\">\n",
    "    \n",
    "<h3 align=\"left\"><font color='#05041B'>\n",
    "</font>🌐 Fuente del lead </h3>  \n",
    "   \n",
    "* 🖇️ Variables Predictoras: **\"fuente original\", \"fuente ultima\", \"fuente\"**\n",
    "* 🖇️ Variables Predictora Unificada: **\"source\"**\n",
    "* Nuevamente, unificaremos los valores y en este caso, reducir e incluso identificar y renombrar los \"\"--\"\" sera mucho mas facil\n"
   ]
  },
  {
   "cell_type": "code",
   "execution_count": 13,
   "id": "42472890",
   "metadata": {
    "_kg_hide-input": true,
    "execution": {
     "iopub.execute_input": "2023-06-02T00:23:04.841802Z",
     "iopub.status.busy": "2023-06-02T00:23:04.841408Z",
     "iopub.status.idle": "2023-06-02T00:23:04.888913Z",
     "shell.execute_reply": "2023-06-02T00:23:04.887931Z"
    },
    "jupyter": {
     "source_hidden": true
    },
    "papermill": {
     "duration": 0.072281,
     "end_time": "2023-06-02T00:23:04.890854",
     "exception": false,
     "start_time": "2023-06-02T00:23:04.818573",
     "status": "completed"
    },
    "tags": []
   },
   "outputs": [
    {
     "data": {
      "text/html": [
       "<div>                            <div id=\"7de6c2e2-472b-4bd8-9165-4d855b4c867c\" class=\"plotly-graph-div\" style=\"height:600px; width:100%;\"></div>            <script type=\"text/javascript\">                require([\"plotly\"], function(Plotly) {                    window.PLOTLYENV=window.PLOTLYENV || {};                                    if (document.getElementById(\"7de6c2e2-472b-4bd8-9165-4d855b4c867c\")) {                    Plotly.newPlot(                        \"7de6c2e2-472b-4bd8-9165-4d855b4c867c\",                        [{\"marker\":{\"color\":\"#064572\"},\"name\":\"fuente\",\"text\":[886.0,466.0,342.0,37.0,20.0,19.0],\"textposition\":\"auto\",\"x\":[\"--\",\"facebook lead ads\",\"formulario\",\"directo de marca\",\"chat\",\"instagram orgánico\"],\"y\":[886,466,342,37,20,19],\"type\":\"bar\",\"xaxis\":\"x\",\"yaxis\":\"y\"},{\"marker\":{\"color\":\"#A8854F\"},\"name\":\"fuente original\",\"text\":[813.0,405.0,297.0,113.0,89.0,46.0],\"textposition\":\"auto\",\"x\":[\"redes sociales de pago\",\"fuentes sin conexión\",\"búsqueda de pago\",\"búsqueda orgánica\",\"tráfico directo\",\"referencias\"],\"y\":[813,405,297,113,89,46],\"type\":\"bar\",\"xaxis\":\"x2\",\"yaxis\":\"y2\"},{\"marker\":{\"color\":\"#7E98B2\"},\"name\":\"fuente ultima\",\"text\":[824.0,281.0,275.0,111.0,111.0,99.0],\"textposition\":\"auto\",\"x\":[\"redes sociales de pago\",\"búsqueda de pago\",\"fuentes sin conexión\",\"búsqueda orgánica\",\"tráfico directo\",\"nan\"],\"y\":[824,281,275,111,111,99],\"type\":\"bar\",\"xaxis\":\"x3\",\"yaxis\":\"y3\"}],                        {\"template\":{\"data\":{\"histogram2dcontour\":[{\"type\":\"histogram2dcontour\",\"colorbar\":{\"outlinewidth\":0,\"ticks\":\"\"},\"colorscale\":[[0.0,\"#0d0887\"],[0.1111111111111111,\"#46039f\"],[0.2222222222222222,\"#7201a8\"],[0.3333333333333333,\"#9c179e\"],[0.4444444444444444,\"#bd3786\"],[0.5555555555555556,\"#d8576b\"],[0.6666666666666666,\"#ed7953\"],[0.7777777777777778,\"#fb9f3a\"],[0.8888888888888888,\"#fdca26\"],[1.0,\"#f0f921\"]]}],\"choropleth\":[{\"type\":\"choropleth\",\"colorbar\":{\"outlinewidth\":0,\"ticks\":\"\"}}],\"histogram2d\":[{\"type\":\"histogram2d\",\"colorbar\":{\"outlinewidth\":0,\"ticks\":\"\"},\"colorscale\":[[0.0,\"#0d0887\"],[0.1111111111111111,\"#46039f\"],[0.2222222222222222,\"#7201a8\"],[0.3333333333333333,\"#9c179e\"],[0.4444444444444444,\"#bd3786\"],[0.5555555555555556,\"#d8576b\"],[0.6666666666666666,\"#ed7953\"],[0.7777777777777778,\"#fb9f3a\"],[0.8888888888888888,\"#fdca26\"],[1.0,\"#f0f921\"]]}],\"heatmap\":[{\"type\":\"heatmap\",\"colorbar\":{\"outlinewidth\":0,\"ticks\":\"\"},\"colorscale\":[[0.0,\"#0d0887\"],[0.1111111111111111,\"#46039f\"],[0.2222222222222222,\"#7201a8\"],[0.3333333333333333,\"#9c179e\"],[0.4444444444444444,\"#bd3786\"],[0.5555555555555556,\"#d8576b\"],[0.6666666666666666,\"#ed7953\"],[0.7777777777777778,\"#fb9f3a\"],[0.8888888888888888,\"#fdca26\"],[1.0,\"#f0f921\"]]}],\"heatmapgl\":[{\"type\":\"heatmapgl\",\"colorbar\":{\"outlinewidth\":0,\"ticks\":\"\"},\"colorscale\":[[0.0,\"#0d0887\"],[0.1111111111111111,\"#46039f\"],[0.2222222222222222,\"#7201a8\"],[0.3333333333333333,\"#9c179e\"],[0.4444444444444444,\"#bd3786\"],[0.5555555555555556,\"#d8576b\"],[0.6666666666666666,\"#ed7953\"],[0.7777777777777778,\"#fb9f3a\"],[0.8888888888888888,\"#fdca26\"],[1.0,\"#f0f921\"]]}],\"contourcarpet\":[{\"type\":\"contourcarpet\",\"colorbar\":{\"outlinewidth\":0,\"ticks\":\"\"}}],\"contour\":[{\"type\":\"contour\",\"colorbar\":{\"outlinewidth\":0,\"ticks\":\"\"},\"colorscale\":[[0.0,\"#0d0887\"],[0.1111111111111111,\"#46039f\"],[0.2222222222222222,\"#7201a8\"],[0.3333333333333333,\"#9c179e\"],[0.4444444444444444,\"#bd3786\"],[0.5555555555555556,\"#d8576b\"],[0.6666666666666666,\"#ed7953\"],[0.7777777777777778,\"#fb9f3a\"],[0.8888888888888888,\"#fdca26\"],[1.0,\"#f0f921\"]]}],\"surface\":[{\"type\":\"surface\",\"colorbar\":{\"outlinewidth\":0,\"ticks\":\"\"},\"colorscale\":[[0.0,\"#0d0887\"],[0.1111111111111111,\"#46039f\"],[0.2222222222222222,\"#7201a8\"],[0.3333333333333333,\"#9c179e\"],[0.4444444444444444,\"#bd3786\"],[0.5555555555555556,\"#d8576b\"],[0.6666666666666666,\"#ed7953\"],[0.7777777777777778,\"#fb9f3a\"],[0.8888888888888888,\"#fdca26\"],[1.0,\"#f0f921\"]]}],\"mesh3d\":[{\"type\":\"mesh3d\",\"colorbar\":{\"outlinewidth\":0,\"ticks\":\"\"}}],\"scatter\":[{\"fillpattern\":{\"fillmode\":\"overlay\",\"size\":10,\"solidity\":0.2},\"type\":\"scatter\"}],\"parcoords\":[{\"type\":\"parcoords\",\"line\":{\"colorbar\":{\"outlinewidth\":0,\"ticks\":\"\"}}}],\"scatterpolargl\":[{\"type\":\"scatterpolargl\",\"marker\":{\"colorbar\":{\"outlinewidth\":0,\"ticks\":\"\"}}}],\"bar\":[{\"error_x\":{\"color\":\"#2a3f5f\"},\"error_y\":{\"color\":\"#2a3f5f\"},\"marker\":{\"line\":{\"color\":\"#E5ECF6\",\"width\":0.5},\"pattern\":{\"fillmode\":\"overlay\",\"size\":10,\"solidity\":0.2}},\"type\":\"bar\"}],\"scattergeo\":[{\"type\":\"scattergeo\",\"marker\":{\"colorbar\":{\"outlinewidth\":0,\"ticks\":\"\"}}}],\"scatterpolar\":[{\"type\":\"scatterpolar\",\"marker\":{\"colorbar\":{\"outlinewidth\":0,\"ticks\":\"\"}}}],\"histogram\":[{\"marker\":{\"pattern\":{\"fillmode\":\"overlay\",\"size\":10,\"solidity\":0.2}},\"type\":\"histogram\"}],\"scattergl\":[{\"type\":\"scattergl\",\"marker\":{\"colorbar\":{\"outlinewidth\":0,\"ticks\":\"\"}}}],\"scatter3d\":[{\"type\":\"scatter3d\",\"line\":{\"colorbar\":{\"outlinewidth\":0,\"ticks\":\"\"}},\"marker\":{\"colorbar\":{\"outlinewidth\":0,\"ticks\":\"\"}}}],\"scattermapbox\":[{\"type\":\"scattermapbox\",\"marker\":{\"colorbar\":{\"outlinewidth\":0,\"ticks\":\"\"}}}],\"scatterternary\":[{\"type\":\"scatterternary\",\"marker\":{\"colorbar\":{\"outlinewidth\":0,\"ticks\":\"\"}}}],\"scattercarpet\":[{\"type\":\"scattercarpet\",\"marker\":{\"colorbar\":{\"outlinewidth\":0,\"ticks\":\"\"}}}],\"carpet\":[{\"aaxis\":{\"endlinecolor\":\"#2a3f5f\",\"gridcolor\":\"white\",\"linecolor\":\"white\",\"minorgridcolor\":\"white\",\"startlinecolor\":\"#2a3f5f\"},\"baxis\":{\"endlinecolor\":\"#2a3f5f\",\"gridcolor\":\"white\",\"linecolor\":\"white\",\"minorgridcolor\":\"white\",\"startlinecolor\":\"#2a3f5f\"},\"type\":\"carpet\"}],\"table\":[{\"cells\":{\"fill\":{\"color\":\"#EBF0F8\"},\"line\":{\"color\":\"white\"}},\"header\":{\"fill\":{\"color\":\"#C8D4E3\"},\"line\":{\"color\":\"white\"}},\"type\":\"table\"}],\"barpolar\":[{\"marker\":{\"line\":{\"color\":\"#E5ECF6\",\"width\":0.5},\"pattern\":{\"fillmode\":\"overlay\",\"size\":10,\"solidity\":0.2}},\"type\":\"barpolar\"}],\"pie\":[{\"automargin\":true,\"type\":\"pie\"}]},\"layout\":{\"autotypenumbers\":\"strict\",\"colorway\":[\"#636efa\",\"#EF553B\",\"#00cc96\",\"#ab63fa\",\"#FFA15A\",\"#19d3f3\",\"#FF6692\",\"#B6E880\",\"#FF97FF\",\"#FECB52\"],\"font\":{\"color\":\"#2a3f5f\"},\"hovermode\":\"closest\",\"hoverlabel\":{\"align\":\"left\"},\"paper_bgcolor\":\"white\",\"plot_bgcolor\":\"#E5ECF6\",\"polar\":{\"bgcolor\":\"#E5ECF6\",\"angularaxis\":{\"gridcolor\":\"white\",\"linecolor\":\"white\",\"ticks\":\"\"},\"radialaxis\":{\"gridcolor\":\"white\",\"linecolor\":\"white\",\"ticks\":\"\"}},\"ternary\":{\"bgcolor\":\"#E5ECF6\",\"aaxis\":{\"gridcolor\":\"white\",\"linecolor\":\"white\",\"ticks\":\"\"},\"baxis\":{\"gridcolor\":\"white\",\"linecolor\":\"white\",\"ticks\":\"\"},\"caxis\":{\"gridcolor\":\"white\",\"linecolor\":\"white\",\"ticks\":\"\"}},\"coloraxis\":{\"colorbar\":{\"outlinewidth\":0,\"ticks\":\"\"}},\"colorscale\":{\"sequential\":[[0.0,\"#0d0887\"],[0.1111111111111111,\"#46039f\"],[0.2222222222222222,\"#7201a8\"],[0.3333333333333333,\"#9c179e\"],[0.4444444444444444,\"#bd3786\"],[0.5555555555555556,\"#d8576b\"],[0.6666666666666666,\"#ed7953\"],[0.7777777777777778,\"#fb9f3a\"],[0.8888888888888888,\"#fdca26\"],[1.0,\"#f0f921\"]],\"sequentialminus\":[[0.0,\"#0d0887\"],[0.1111111111111111,\"#46039f\"],[0.2222222222222222,\"#7201a8\"],[0.3333333333333333,\"#9c179e\"],[0.4444444444444444,\"#bd3786\"],[0.5555555555555556,\"#d8576b\"],[0.6666666666666666,\"#ed7953\"],[0.7777777777777778,\"#fb9f3a\"],[0.8888888888888888,\"#fdca26\"],[1.0,\"#f0f921\"]],\"diverging\":[[0,\"#8e0152\"],[0.1,\"#c51b7d\"],[0.2,\"#de77ae\"],[0.3,\"#f1b6da\"],[0.4,\"#fde0ef\"],[0.5,\"#f7f7f7\"],[0.6,\"#e6f5d0\"],[0.7,\"#b8e186\"],[0.8,\"#7fbc41\"],[0.9,\"#4d9221\"],[1,\"#276419\"]]},\"xaxis\":{\"gridcolor\":\"white\",\"linecolor\":\"white\",\"ticks\":\"\",\"title\":{\"standoff\":15},\"zerolinecolor\":\"white\",\"automargin\":true,\"zerolinewidth\":2},\"yaxis\":{\"gridcolor\":\"white\",\"linecolor\":\"white\",\"ticks\":\"\",\"title\":{\"standoff\":15},\"zerolinecolor\":\"white\",\"automargin\":true,\"zerolinewidth\":2},\"scene\":{\"xaxis\":{\"backgroundcolor\":\"#E5ECF6\",\"gridcolor\":\"white\",\"linecolor\":\"white\",\"showbackground\":true,\"ticks\":\"\",\"zerolinecolor\":\"white\",\"gridwidth\":2},\"yaxis\":{\"backgroundcolor\":\"#E5ECF6\",\"gridcolor\":\"white\",\"linecolor\":\"white\",\"showbackground\":true,\"ticks\":\"\",\"zerolinecolor\":\"white\",\"gridwidth\":2},\"zaxis\":{\"backgroundcolor\":\"#E5ECF6\",\"gridcolor\":\"white\",\"linecolor\":\"white\",\"showbackground\":true,\"ticks\":\"\",\"zerolinecolor\":\"white\",\"gridwidth\":2}},\"shapedefaults\":{\"line\":{\"color\":\"#2a3f5f\"}},\"annotationdefaults\":{\"arrowcolor\":\"#2a3f5f\",\"arrowhead\":0,\"arrowwidth\":1},\"geo\":{\"bgcolor\":\"white\",\"landcolor\":\"#E5ECF6\",\"subunitcolor\":\"white\",\"showland\":true,\"showlakes\":true,\"lakecolor\":\"white\"},\"title\":{\"x\":0.05},\"mapbox\":{\"style\":\"light\"}}},\"xaxis\":{\"anchor\":\"y\",\"domain\":[0.0,0.45]},\"yaxis\":{\"anchor\":\"x\",\"domain\":[0.575,1.0],\"title\":{\"text\":\"fuente\"}},\"xaxis2\":{\"anchor\":\"y2\",\"domain\":[0.55,1.0]},\"yaxis2\":{\"anchor\":\"x2\",\"domain\":[0.575,1.0],\"title\":{\"text\":\"fuente original\"}},\"xaxis3\":{\"anchor\":\"y3\",\"domain\":[0.0,0.45]},\"yaxis3\":{\"anchor\":\"x3\",\"domain\":[0.0,0.425],\"title\":{\"text\":\"fuente ultima\"}},\"xaxis4\":{\"anchor\":\"y4\",\"domain\":[0.55,1.0]},\"yaxis4\":{\"anchor\":\"x4\",\"domain\":[0.0,0.425]},\"title\":{\"text\":\"Distribución de las 6 categorías más comunes para cada variable de Fuente\"},\"height\":600,\"showlegend\":false,\"bargap\":0.15,\"bargroupgap\":0.1},                        {\"responsive\": true}                    ).then(function(){\n",
       "                            \n",
       "var gd = document.getElementById('7de6c2e2-472b-4bd8-9165-4d855b4c867c');\n",
       "var x = new MutationObserver(function (mutations, observer) {{\n",
       "        var display = window.getComputedStyle(gd).display;\n",
       "        if (!display || display === 'none') {{\n",
       "            console.log([gd, 'removed!']);\n",
       "            Plotly.purge(gd);\n",
       "            observer.disconnect();\n",
       "        }}\n",
       "}});\n",
       "\n",
       "// Listen for the removal of the full notebook cells\n",
       "var notebookContainer = gd.closest('#notebook-container');\n",
       "if (notebookContainer) {{\n",
       "    x.observe(notebookContainer, {childList: true});\n",
       "}}\n",
       "\n",
       "// Listen for the clearing of the current output cell\n",
       "var outputEl = gd.closest('.output');\n",
       "if (outputEl) {{\n",
       "    x.observe(outputEl, {childList: true});\n",
       "}}\n",
       "\n",
       "                        })                };                });            </script>        </div>"
      ]
     },
     "metadata": {},
     "output_type": "display_data"
    }
   ],
   "source": [
    "import plotly.graph_objects as go\n",
    "from plotly.subplots import make_subplots\n",
    "import math\n",
    "# Columnas categóricas\n",
    "fue_columns = ['fuente', 'fuente original', 'fuente ultima']\n",
    "# Filas y columnas para subplot\n",
    "n_cols = 2\n",
    "n_rows = math.ceil(len(fue_columns) / n_cols)\n",
    "# Crear subplot para cada variable categórica\n",
    "fig = make_subplots(rows=n_rows, cols=n_cols)\n",
    "for i, col in enumerate(fue_columns):\n",
    "    curr_row = i // n_cols + 1\n",
    "    curr_col = i % n_cols + 1\n",
    "    top_values = df[col].value_counts().head(6)\n",
    "    fig.add_trace(go.Bar(\n",
    "        x=top_values.index,\n",
    "        y=top_values.values,\n",
    "        name=col,\n",
    "        text=top_values.values,\n",
    "        textposition='auto',\n",
    "        marker_color=colors[i % len(colors)]\n",
    "    ), row=curr_row, col=curr_col)  \n",
    "    fig.update_yaxes(title_text=col, row=curr_row, col=curr_col) #Asigno nombre de columna a titulo de etiqueta y\n",
    "fig.update_layout(\n",
    "    title_text='Distribución de las 6 categorías más comunes para cada variable de Fuente',\n",
    "    height=300 * n_rows,  # Reducir la altura aquí para eliminar el espacio en blanco\n",
    "    showlegend=False,\n",
    "    bargap=0.15, \n",
    "    bargroupgap=0.1\n",
    ")\n",
    "fig.show()"
   ]
  },
  {
   "cell_type": "markdown",
   "id": "59bdf307",
   "metadata": {
    "papermill": {
     "duration": 0.020463,
     "end_time": "2023-06-02T00:23:04.932156",
     "exception": false,
     "start_time": "2023-06-02T00:23:04.911693",
     "status": "completed"
    },
    "tags": []
   },
   "source": [
    "<div style=\"border-radius:13px; border:#FFB800 solid; padding: 15px; background-color: #FAFFFF; font-size:112%; text-align:left\">\n",
    "    \n",
    "* Seleccionar **\"Fuente\"** de prioridad buscando resolver las fuentes sin conexion dado que **\"--\"** encontra remplazos en las variables predictoras **\"fuente original\"** y **\"fuente ultima\"**"
   ]
  },
  {
   "cell_type": "code",
   "execution_count": 14,
   "id": "db92c8c5",
   "metadata": {
    "_kg_hide-input": true,
    "execution": {
     "iopub.execute_input": "2023-06-02T00:23:04.974964Z",
     "iopub.status.busy": "2023-06-02T00:23:04.974339Z",
     "iopub.status.idle": "2023-06-02T00:23:05.001777Z",
     "shell.execute_reply": "2023-06-02T00:23:05.000064Z"
    },
    "jupyter": {
     "source_hidden": true
    },
    "papermill": {
     "duration": 0.051941,
     "end_time": "2023-06-02T00:23:05.004501",
     "exception": false,
     "start_time": "2023-06-02T00:23:04.952560",
     "status": "completed"
    },
    "tags": []
   },
   "outputs": [
    {
     "name": "stdout",
     "output_type": "stream",
     "text": [
      "0       fuentes sin conexión\n",
      "2           búsqueda de pago\n",
      "5          búsqueda orgánica\n",
      "8     redes sociales de pago\n",
      "11      fuentes sin conexión\n",
      "Name: source, dtype: object\n"
     ]
    }
   ],
   "source": [
    "def seleccionar_valor(row, columnas):\n",
    "    for col in columnas:\n",
    "        valor = row[col]\n",
    "        if not pd.isna(valor) and str(valor) != 'nan' and str(valor) != '--':\n",
    "            return valor\n",
    "\n",
    "columnas = ['fuente original', 'fuente ultima', 'fuente']\n",
    "df['source'] = df.apply(lambda row: seleccionar_valor(row, columnas), axis=1)\n",
    "\n",
    "# Verificar el resultado\n",
    "print(df['source'].head())"
   ]
  },
  {
   "cell_type": "code",
   "execution_count": 15,
   "id": "47d461ba",
   "metadata": {
    "_kg_hide-input": true,
    "execution": {
     "iopub.execute_input": "2023-06-02T00:23:05.049195Z",
     "iopub.status.busy": "2023-06-02T00:23:05.048824Z",
     "iopub.status.idle": "2023-06-02T00:23:05.110661Z",
     "shell.execute_reply": "2023-06-02T00:23:05.109562Z"
    },
    "jupyter": {
     "source_hidden": true
    },
    "papermill": {
     "duration": 0.086872,
     "end_time": "2023-06-02T00:23:05.113113",
     "exception": false,
     "start_time": "2023-06-02T00:23:05.026241",
     "status": "completed"
    },
    "tags": []
   },
   "outputs": [
    {
     "data": {
      "text/html": [
       "<div>                            <div id=\"78e04fed-cba1-4ea2-8a66-4f201939d0b2\" class=\"plotly-graph-div\" style=\"height:525px; width:100%;\"></div>            <script type=\"text/javascript\">                require([\"plotly\"], function(Plotly) {                    window.PLOTLYENV=window.PLOTLYENV || {};                                    if (document.getElementById(\"78e04fed-cba1-4ea2-8a66-4f201939d0b2\")) {                    Plotly.newPlot(                        \"78e04fed-cba1-4ea2-8a66-4f201939d0b2\",                        [{\"alignmentgroup\":\"True\",\"hovertemplate\":\"source=%{x}<br>Frecuencia=%{y}<extra></extra>\",\"legendgroup\":\"\",\"marker\":{\"color\":\"#064572\",\"pattern\":{\"shape\":\"\"}},\"name\":\"\",\"offsetgroup\":\"\",\"orientation\":\"v\",\"showlegend\":false,\"textposition\":\"auto\",\"x\":[\"redes sociales de pago\",\"fuentes sin conexión\",\"búsqueda de pago\",\"búsqueda orgánica\",\"tráfico directo\",\"referencias\",\"tráfico orgánico de redes sociales\",\"email marketing\"],\"xaxis\":\"x\",\"y\":[813,405,297,113,89,46,33,1],\"yaxis\":\"y\",\"type\":\"bar\"}],                        {\"template\":{\"data\":{\"histogram2dcontour\":[{\"type\":\"histogram2dcontour\",\"colorbar\":{\"outlinewidth\":0,\"ticks\":\"\"},\"colorscale\":[[0.0,\"#0d0887\"],[0.1111111111111111,\"#46039f\"],[0.2222222222222222,\"#7201a8\"],[0.3333333333333333,\"#9c179e\"],[0.4444444444444444,\"#bd3786\"],[0.5555555555555556,\"#d8576b\"],[0.6666666666666666,\"#ed7953\"],[0.7777777777777778,\"#fb9f3a\"],[0.8888888888888888,\"#fdca26\"],[1.0,\"#f0f921\"]]}],\"choropleth\":[{\"type\":\"choropleth\",\"colorbar\":{\"outlinewidth\":0,\"ticks\":\"\"}}],\"histogram2d\":[{\"type\":\"histogram2d\",\"colorbar\":{\"outlinewidth\":0,\"ticks\":\"\"},\"colorscale\":[[0.0,\"#0d0887\"],[0.1111111111111111,\"#46039f\"],[0.2222222222222222,\"#7201a8\"],[0.3333333333333333,\"#9c179e\"],[0.4444444444444444,\"#bd3786\"],[0.5555555555555556,\"#d8576b\"],[0.6666666666666666,\"#ed7953\"],[0.7777777777777778,\"#fb9f3a\"],[0.8888888888888888,\"#fdca26\"],[1.0,\"#f0f921\"]]}],\"heatmap\":[{\"type\":\"heatmap\",\"colorbar\":{\"outlinewidth\":0,\"ticks\":\"\"},\"colorscale\":[[0.0,\"#0d0887\"],[0.1111111111111111,\"#46039f\"],[0.2222222222222222,\"#7201a8\"],[0.3333333333333333,\"#9c179e\"],[0.4444444444444444,\"#bd3786\"],[0.5555555555555556,\"#d8576b\"],[0.6666666666666666,\"#ed7953\"],[0.7777777777777778,\"#fb9f3a\"],[0.8888888888888888,\"#fdca26\"],[1.0,\"#f0f921\"]]}],\"heatmapgl\":[{\"type\":\"heatmapgl\",\"colorbar\":{\"outlinewidth\":0,\"ticks\":\"\"},\"colorscale\":[[0.0,\"#0d0887\"],[0.1111111111111111,\"#46039f\"],[0.2222222222222222,\"#7201a8\"],[0.3333333333333333,\"#9c179e\"],[0.4444444444444444,\"#bd3786\"],[0.5555555555555556,\"#d8576b\"],[0.6666666666666666,\"#ed7953\"],[0.7777777777777778,\"#fb9f3a\"],[0.8888888888888888,\"#fdca26\"],[1.0,\"#f0f921\"]]}],\"contourcarpet\":[{\"type\":\"contourcarpet\",\"colorbar\":{\"outlinewidth\":0,\"ticks\":\"\"}}],\"contour\":[{\"type\":\"contour\",\"colorbar\":{\"outlinewidth\":0,\"ticks\":\"\"},\"colorscale\":[[0.0,\"#0d0887\"],[0.1111111111111111,\"#46039f\"],[0.2222222222222222,\"#7201a8\"],[0.3333333333333333,\"#9c179e\"],[0.4444444444444444,\"#bd3786\"],[0.5555555555555556,\"#d8576b\"],[0.6666666666666666,\"#ed7953\"],[0.7777777777777778,\"#fb9f3a\"],[0.8888888888888888,\"#fdca26\"],[1.0,\"#f0f921\"]]}],\"surface\":[{\"type\":\"surface\",\"colorbar\":{\"outlinewidth\":0,\"ticks\":\"\"},\"colorscale\":[[0.0,\"#0d0887\"],[0.1111111111111111,\"#46039f\"],[0.2222222222222222,\"#7201a8\"],[0.3333333333333333,\"#9c179e\"],[0.4444444444444444,\"#bd3786\"],[0.5555555555555556,\"#d8576b\"],[0.6666666666666666,\"#ed7953\"],[0.7777777777777778,\"#fb9f3a\"],[0.8888888888888888,\"#fdca26\"],[1.0,\"#f0f921\"]]}],\"mesh3d\":[{\"type\":\"mesh3d\",\"colorbar\":{\"outlinewidth\":0,\"ticks\":\"\"}}],\"scatter\":[{\"fillpattern\":{\"fillmode\":\"overlay\",\"size\":10,\"solidity\":0.2},\"type\":\"scatter\"}],\"parcoords\":[{\"type\":\"parcoords\",\"line\":{\"colorbar\":{\"outlinewidth\":0,\"ticks\":\"\"}}}],\"scatterpolargl\":[{\"type\":\"scatterpolargl\",\"marker\":{\"colorbar\":{\"outlinewidth\":0,\"ticks\":\"\"}}}],\"bar\":[{\"error_x\":{\"color\":\"#2a3f5f\"},\"error_y\":{\"color\":\"#2a3f5f\"},\"marker\":{\"line\":{\"color\":\"#E5ECF6\",\"width\":0.5},\"pattern\":{\"fillmode\":\"overlay\",\"size\":10,\"solidity\":0.2}},\"type\":\"bar\"}],\"scattergeo\":[{\"type\":\"scattergeo\",\"marker\":{\"colorbar\":{\"outlinewidth\":0,\"ticks\":\"\"}}}],\"scatterpolar\":[{\"type\":\"scatterpolar\",\"marker\":{\"colorbar\":{\"outlinewidth\":0,\"ticks\":\"\"}}}],\"histogram\":[{\"marker\":{\"pattern\":{\"fillmode\":\"overlay\",\"size\":10,\"solidity\":0.2}},\"type\":\"histogram\"}],\"scattergl\":[{\"type\":\"scattergl\",\"marker\":{\"colorbar\":{\"outlinewidth\":0,\"ticks\":\"\"}}}],\"scatter3d\":[{\"type\":\"scatter3d\",\"line\":{\"colorbar\":{\"outlinewidth\":0,\"ticks\":\"\"}},\"marker\":{\"colorbar\":{\"outlinewidth\":0,\"ticks\":\"\"}}}],\"scattermapbox\":[{\"type\":\"scattermapbox\",\"marker\":{\"colorbar\":{\"outlinewidth\":0,\"ticks\":\"\"}}}],\"scatterternary\":[{\"type\":\"scatterternary\",\"marker\":{\"colorbar\":{\"outlinewidth\":0,\"ticks\":\"\"}}}],\"scattercarpet\":[{\"type\":\"scattercarpet\",\"marker\":{\"colorbar\":{\"outlinewidth\":0,\"ticks\":\"\"}}}],\"carpet\":[{\"aaxis\":{\"endlinecolor\":\"#2a3f5f\",\"gridcolor\":\"white\",\"linecolor\":\"white\",\"minorgridcolor\":\"white\",\"startlinecolor\":\"#2a3f5f\"},\"baxis\":{\"endlinecolor\":\"#2a3f5f\",\"gridcolor\":\"white\",\"linecolor\":\"white\",\"minorgridcolor\":\"white\",\"startlinecolor\":\"#2a3f5f\"},\"type\":\"carpet\"}],\"table\":[{\"cells\":{\"fill\":{\"color\":\"#EBF0F8\"},\"line\":{\"color\":\"white\"}},\"header\":{\"fill\":{\"color\":\"#C8D4E3\"},\"line\":{\"color\":\"white\"}},\"type\":\"table\"}],\"barpolar\":[{\"marker\":{\"line\":{\"color\":\"#E5ECF6\",\"width\":0.5},\"pattern\":{\"fillmode\":\"overlay\",\"size\":10,\"solidity\":0.2}},\"type\":\"barpolar\"}],\"pie\":[{\"automargin\":true,\"type\":\"pie\"}]},\"layout\":{\"autotypenumbers\":\"strict\",\"colorway\":[\"#636efa\",\"#EF553B\",\"#00cc96\",\"#ab63fa\",\"#FFA15A\",\"#19d3f3\",\"#FF6692\",\"#B6E880\",\"#FF97FF\",\"#FECB52\"],\"font\":{\"color\":\"#2a3f5f\"},\"hovermode\":\"closest\",\"hoverlabel\":{\"align\":\"left\"},\"paper_bgcolor\":\"white\",\"plot_bgcolor\":\"#E5ECF6\",\"polar\":{\"bgcolor\":\"#E5ECF6\",\"angularaxis\":{\"gridcolor\":\"white\",\"linecolor\":\"white\",\"ticks\":\"\"},\"radialaxis\":{\"gridcolor\":\"white\",\"linecolor\":\"white\",\"ticks\":\"\"}},\"ternary\":{\"bgcolor\":\"#E5ECF6\",\"aaxis\":{\"gridcolor\":\"white\",\"linecolor\":\"white\",\"ticks\":\"\"},\"baxis\":{\"gridcolor\":\"white\",\"linecolor\":\"white\",\"ticks\":\"\"},\"caxis\":{\"gridcolor\":\"white\",\"linecolor\":\"white\",\"ticks\":\"\"}},\"coloraxis\":{\"colorbar\":{\"outlinewidth\":0,\"ticks\":\"\"}},\"colorscale\":{\"sequential\":[[0.0,\"#0d0887\"],[0.1111111111111111,\"#46039f\"],[0.2222222222222222,\"#7201a8\"],[0.3333333333333333,\"#9c179e\"],[0.4444444444444444,\"#bd3786\"],[0.5555555555555556,\"#d8576b\"],[0.6666666666666666,\"#ed7953\"],[0.7777777777777778,\"#fb9f3a\"],[0.8888888888888888,\"#fdca26\"],[1.0,\"#f0f921\"]],\"sequentialminus\":[[0.0,\"#0d0887\"],[0.1111111111111111,\"#46039f\"],[0.2222222222222222,\"#7201a8\"],[0.3333333333333333,\"#9c179e\"],[0.4444444444444444,\"#bd3786\"],[0.5555555555555556,\"#d8576b\"],[0.6666666666666666,\"#ed7953\"],[0.7777777777777778,\"#fb9f3a\"],[0.8888888888888888,\"#fdca26\"],[1.0,\"#f0f921\"]],\"diverging\":[[0,\"#8e0152\"],[0.1,\"#c51b7d\"],[0.2,\"#de77ae\"],[0.3,\"#f1b6da\"],[0.4,\"#fde0ef\"],[0.5,\"#f7f7f7\"],[0.6,\"#e6f5d0\"],[0.7,\"#b8e186\"],[0.8,\"#7fbc41\"],[0.9,\"#4d9221\"],[1,\"#276419\"]]},\"xaxis\":{\"gridcolor\":\"white\",\"linecolor\":\"white\",\"ticks\":\"\",\"title\":{\"standoff\":15},\"zerolinecolor\":\"white\",\"automargin\":true,\"zerolinewidth\":2},\"yaxis\":{\"gridcolor\":\"white\",\"linecolor\":\"white\",\"ticks\":\"\",\"title\":{\"standoff\":15},\"zerolinecolor\":\"white\",\"automargin\":true,\"zerolinewidth\":2},\"scene\":{\"xaxis\":{\"backgroundcolor\":\"#E5ECF6\",\"gridcolor\":\"white\",\"linecolor\":\"white\",\"showbackground\":true,\"ticks\":\"\",\"zerolinecolor\":\"white\",\"gridwidth\":2},\"yaxis\":{\"backgroundcolor\":\"#E5ECF6\",\"gridcolor\":\"white\",\"linecolor\":\"white\",\"showbackground\":true,\"ticks\":\"\",\"zerolinecolor\":\"white\",\"gridwidth\":2},\"zaxis\":{\"backgroundcolor\":\"#E5ECF6\",\"gridcolor\":\"white\",\"linecolor\":\"white\",\"showbackground\":true,\"ticks\":\"\",\"zerolinecolor\":\"white\",\"gridwidth\":2}},\"shapedefaults\":{\"line\":{\"color\":\"#2a3f5f\"}},\"annotationdefaults\":{\"arrowcolor\":\"#2a3f5f\",\"arrowhead\":0,\"arrowwidth\":1},\"geo\":{\"bgcolor\":\"white\",\"landcolor\":\"#E5ECF6\",\"subunitcolor\":\"white\",\"showland\":true,\"showlakes\":true,\"lakecolor\":\"white\"},\"title\":{\"x\":0.05},\"mapbox\":{\"style\":\"light\"}}},\"xaxis\":{\"anchor\":\"y\",\"domain\":[0.0,1.0],\"title\":{\"text\":\"source\"}},\"yaxis\":{\"anchor\":\"x\",\"domain\":[0.0,1.0],\"title\":{\"text\":\"Frecuencia\"}},\"legend\":{\"tracegroupgap\":0},\"title\":{\"text\":\"Resultado en source\"},\"barmode\":\"relative\"},                        {\"responsive\": true}                    ).then(function(){\n",
       "                            \n",
       "var gd = document.getElementById('78e04fed-cba1-4ea2-8a66-4f201939d0b2');\n",
       "var x = new MutationObserver(function (mutations, observer) {{\n",
       "        var display = window.getComputedStyle(gd).display;\n",
       "        if (!display || display === 'none') {{\n",
       "            console.log([gd, 'removed!']);\n",
       "            Plotly.purge(gd);\n",
       "            observer.disconnect();\n",
       "        }}\n",
       "}});\n",
       "\n",
       "// Listen for the removal of the full notebook cells\n",
       "var notebookContainer = gd.closest('#notebook-container');\n",
       "if (notebookContainer) {{\n",
       "    x.observe(notebookContainer, {childList: true});\n",
       "}}\n",
       "\n",
       "// Listen for the clearing of the current output cell\n",
       "var outputEl = gd.closest('.output');\n",
       "if (outputEl) {{\n",
       "    x.observe(outputEl, {childList: true});\n",
       "}}\n",
       "\n",
       "                        })                };                });            </script>        </div>"
      ]
     },
     "metadata": {},
     "output_type": "display_data"
    }
   ],
   "source": [
    "top_10fuentes = df['source'].value_counts().head(10)\n",
    "import plotly.graph_objects as go\n",
    "import plotly.express as px\n",
    "fig_bar = px.bar(x=top_10fuentes.index, y=top_10fuentes, labels={'x': 'source', 'y': 'Frecuencia'}, title='Resultado en source', color_discrete_sequence=colors)\n",
    "fig_bar.show()"
   ]
  },
  {
   "cell_type": "code",
   "execution_count": 16,
   "id": "17c40db2",
   "metadata": {
    "_kg_hide-input": false,
    "execution": {
     "iopub.execute_input": "2023-06-02T00:23:05.157262Z",
     "iopub.status.busy": "2023-06-02T00:23:05.156846Z",
     "iopub.status.idle": "2023-06-02T00:23:05.162952Z",
     "shell.execute_reply": "2023-06-02T00:23:05.162047Z"
    },
    "jupyter": {
     "source_hidden": true
    },
    "papermill": {
     "duration": 0.030838,
     "end_time": "2023-06-02T00:23:05.165206",
     "exception": false,
     "start_time": "2023-06-02T00:23:05.134368",
     "status": "completed"
    },
    "tags": []
   },
   "outputs": [],
   "source": [
    "# Elimino las columnas excedentes relacionadas a la fuente \n",
    "df = df.drop(['fuente original', 'fuente ultima', 'fuente'], axis=1)\n"
   ]
  },
  {
   "cell_type": "markdown",
   "id": "310f86ce",
   "metadata": {
    "papermill": {
     "duration": 0.020863,
     "end_time": "2023-06-02T00:23:05.207055",
     "exception": false,
     "start_time": "2023-06-02T00:23:05.186192",
     "status": "completed"
    },
    "tags": []
   },
   "source": [
    "<p style=\"font-family:JetBrains Mono; font-weight:bold; letter-spacing: 2px; color:#05041B; font-size:140%; text-align:left;padding: 0px; border-bottom: 3px solid #FFB800\"></p>"
   ]
  },
  {
   "cell_type": "markdown",
   "id": "fceb6cb8",
   "metadata": {
    "papermill": {
     "duration": 0.020408,
     "end_time": "2023-06-02T00:23:05.248642",
     "exception": false,
     "start_time": "2023-06-02T00:23:05.228234",
     "status": "completed"
    },
    "tags": []
   },
   "source": [
    "<div style=\"border-radius:13px; border:#FFB800 solid; padding: 15px; background-color: #FAFFFF; font-size:112%; text-align:left\">\n",
    "    \n",
    "<h3 align=\"left\"><font color='#05041B'>\n",
    "</font>💵Inversion (Ticket) </h3>  \n",
    "\n",
    "* 🖇️Variable Predictora \n",
    "    \n",
    "* La columna Inversion decidi dejarla a pesar de contener valores vacios, ya que puedo completarlos utilizando como referencia la columna **\"Franquicia\"**\n",
    "\n",
    "\n"
   ]
  },
  {
   "cell_type": "code",
   "execution_count": 17,
   "id": "2d34b1b1",
   "metadata": {
    "_kg_hide-input": true,
    "execution": {
     "iopub.execute_input": "2023-06-02T00:23:05.296467Z",
     "iopub.status.busy": "2023-06-02T00:23:05.296076Z",
     "iopub.status.idle": "2023-06-02T00:23:05.301182Z",
     "shell.execute_reply": "2023-06-02T00:23:05.300285Z"
    },
    "jupyter": {
     "source_hidden": true
    },
    "papermill": {
     "duration": 0.033353,
     "end_time": "2023-06-02T00:23:05.303290",
     "exception": false,
     "start_time": "2023-06-02T00:23:05.269937",
     "status": "completed"
    },
    "tags": []
   },
   "outputs": [],
   "source": [
    "usd25mil = ['befruit', 'dulce hora', 'don antonio', 'central de pizzas y empanadas', 'big pizza']\n",
    "usd60mil = ['pirka', 'guapaletas', 'don us company', 'quecrecen ar','le panem','vitalcer ', 'neo zoo', 'sanduba', 'el mundo del mueble', 'depi4ever', 'by papa', 'ferreterías h30', 'alma rural', 'all in express']\n",
    "usd125mil = ['tienda de cafe', 'cafe martinez', 'cremolatti']\n",
    "usd250mil = ['tostado', 'la birra bar', 'atalaya']\n"
   ]
  },
  {
   "cell_type": "markdown",
   "id": "ba860198",
   "metadata": {
    "papermill": {
     "duration": 0.02076,
     "end_time": "2023-06-02T00:23:05.345822",
     "exception": false,
     "start_time": "2023-06-02T00:23:05.325062",
     "status": "completed"
    },
    "tags": []
   },
   "source": [
    "<div style=\"border-radius:13px; border:#FFB800 solid; padding: 15px; background-color: #FAFFFF; font-size:108%; text-align:left\">\n",
    "    \n",
    "* Por supuesto, mantenemos la columna Monto de inversion como categorica, las numericas actuales corresponden a formas de interaccion, por lo cual podemos apreciar cierto orden en la clasificacion por escala."
   ]
  },
  {
   "cell_type": "code",
   "execution_count": 18,
   "id": "0c5d18d8",
   "metadata": {
    "_kg_hide-input": true,
    "execution": {
     "iopub.execute_input": "2023-06-02T00:23:05.389386Z",
     "iopub.status.busy": "2023-06-02T00:23:05.388953Z",
     "iopub.status.idle": "2023-06-02T00:23:05.403869Z",
     "shell.execute_reply": "2023-06-02T00:23:05.402005Z"
    },
    "papermill": {
     "duration": 0.039301,
     "end_time": "2023-06-02T00:23:05.406182",
     "exception": false,
     "start_time": "2023-06-02T00:23:05.366881",
     "status": "completed"
    },
    "tags": []
   },
   "outputs": [
    {
     "name": "stdout",
     "output_type": "stream",
     "text": [
      "                v_target  formularios enviados  visitas a la pagina  \\\n",
      "0   capital insuficiente                   0.0                  0.0   \n",
      "2       no va a invertir                   1.0                  1.0   \n",
      "5   capital insuficiente                   1.0                  1.0   \n",
      "8           mala calidad                   1.0                  1.0   \n",
      "11      no va a invertir                   0.0                  0.0   \n",
      "\n",
      "    interacciones varias  aperturas de correo      franquicia inversion  \\\n",
      "0                    0.0                  0.0      guapaletas       med   \n",
      "2                    1.0                  1.0    la birra bar  veryhigh   \n",
      "5                    0.0                  0.0  don us company       med   \n",
      "8                    0.0                  0.0      guapaletas       med   \n",
      "11                   6.0                  2.0      alma rural       med   \n",
      "\n",
      "                       zone                  source  \n",
      "0              buenos aires    fuentes sin conexión  \n",
      "2              buenos aires        búsqueda de pago  \n",
      "5   zonas menos recurrentes       búsqueda orgánica  \n",
      "8   zonas menos recurrentes  redes sociales de pago  \n",
      "11  zonas menos recurrentes    fuentes sin conexión  \n"
     ]
    }
   ],
   "source": [
    "\n",
    "def asignar_inversion(franquicia):\n",
    "    for f in franquicia.split(\",\"): \n",
    "        f = f.strip() \n",
    "        if f in usd25mil:\n",
    "            return 'low'\n",
    "        elif f in usd60mil:\n",
    "            return 'med'\n",
    "        elif f in usd125mil:\n",
    "            return 'high'\n",
    "        elif f in usd250mil:\n",
    "            return 'veryhigh'\n",
    "    return 'Otro'\n",
    "df['inversion'] = df['franquicia'].apply(asignar_inversion)\n",
    "print(df.head())"
   ]
  },
  {
   "cell_type": "markdown",
   "id": "7401fbe0",
   "metadata": {
    "papermill": {
     "duration": 0.020695,
     "end_time": "2023-06-02T00:23:05.447989",
     "exception": false,
     "start_time": "2023-06-02T00:23:05.427294",
     "status": "completed"
    },
    "tags": []
   },
   "source": [
    "<p style=\"font-family:JetBrains Mono; font-weight:bold; letter-spacing: 2px; color:#05041B; font-size:140%; text-align:left;padding: 0px; border-bottom: 3px solid #FFB800\"></p>"
   ]
  },
  {
   "cell_type": "markdown",
   "id": "b1462bfc",
   "metadata": {
    "papermill": {
     "duration": 0.02024,
     "end_time": "2023-06-02T00:23:05.489514",
     "exception": false,
     "start_time": "2023-06-02T00:23:05.469274",
     "status": "completed"
    },
    "tags": []
   },
   "source": [
    "<div style=\"border-radius:13px; border:#FFB800 solid; padding: 15px; background-color: #FAFFFF; font-size:107%; text-align:left\">\n",
    "    \n",
    "<h3 align=\"left\"><font color='#05041B'>\n",
    "</font>🏢 Franquicia de interes</h3>  \n",
    " \n",
    "* 🖇️Variable Predictora franquicia\n",
    "    \n",
    "* Encontramos las 25 Franquicias que mas aparecen\n"
   ]
  },
  {
   "cell_type": "code",
   "execution_count": 19,
   "id": "0b286694",
   "metadata": {
    "_kg_hide-input": true,
    "execution": {
     "iopub.execute_input": "2023-06-02T00:23:05.535831Z",
     "iopub.status.busy": "2023-06-02T00:23:05.534637Z",
     "iopub.status.idle": "2023-06-02T00:23:05.597569Z",
     "shell.execute_reply": "2023-06-02T00:23:05.595761Z"
    },
    "jupyter": {
     "source_hidden": true
    },
    "papermill": {
     "duration": 0.089906,
     "end_time": "2023-06-02T00:23:05.600837",
     "exception": false,
     "start_time": "2023-06-02T00:23:05.510931",
     "status": "completed"
    },
    "tags": []
   },
   "outputs": [
    {
     "data": {
      "text/html": [
       "<div>                            <div id=\"31c13ccf-c72e-49ac-aa34-775eb994e703\" class=\"plotly-graph-div\" style=\"height:525px; width:100%;\"></div>            <script type=\"text/javascript\">                require([\"plotly\"], function(Plotly) {                    window.PLOTLYENV=window.PLOTLYENV || {};                                    if (document.getElementById(\"31c13ccf-c72e-49ac-aa34-775eb994e703\")) {                    Plotly.newPlot(                        \"31c13ccf-c72e-49ac-aa34-775eb994e703\",                        [{\"alignmentgroup\":\"True\",\"hovertemplate\":\"franquicias=%{x}<br>Cantidad de leads recibidos=%{y}<extra></extra>\",\"legendgroup\":\"\",\"marker\":{\"color\":\"#064572\",\"pattern\":{\"shape\":\"\"}},\"name\":\"\",\"offsetgroup\":\"\",\"orientation\":\"v\",\"showlegend\":false,\"textposition\":\"auto\",\"x\":[\"la birra bar\",\"don us company\",\"big pizza\",\"pirka\",\"guapaletas\",\"tienda de cafe\",\"atalaya\",\"befruit\",\"cremolatti\",\"dulce hora\",\"consultiva argentina\",\"don antonio\",\"cafe martinez\",\"tostado\",\"depi4ever\",\"by papa\",\"ferreterías h30\",\"central de pizzas y empanadas\",\"expo ar 2022\",\"jiro sushi\",\"aloise\",\"le panem\",\"all in express\",\"coquito´s\",\"belldecó\",\"buenos aires bakery\",\"vitalcer\",\"the little bar\",\"suscriptor blog\",\"aloha\",\"que crecen tv (votación)\",\"almacen de pizzas\",\"aguila fumigaciones\",\"catapumba\",\"d- uñas\"],\"xaxis\":\"x\",\"y\":[261,236,225,207,154,128,111,90,62,60,54,52,34,19,10,10,8,7,6,5,5,4,4,4,3,3,3,2,2,2,2,2,2,2,2],\"yaxis\":\"y\",\"type\":\"bar\"}],                        {\"template\":{\"data\":{\"histogram2dcontour\":[{\"type\":\"histogram2dcontour\",\"colorbar\":{\"outlinewidth\":0,\"ticks\":\"\"},\"colorscale\":[[0.0,\"#0d0887\"],[0.1111111111111111,\"#46039f\"],[0.2222222222222222,\"#7201a8\"],[0.3333333333333333,\"#9c179e\"],[0.4444444444444444,\"#bd3786\"],[0.5555555555555556,\"#d8576b\"],[0.6666666666666666,\"#ed7953\"],[0.7777777777777778,\"#fb9f3a\"],[0.8888888888888888,\"#fdca26\"],[1.0,\"#f0f921\"]]}],\"choropleth\":[{\"type\":\"choropleth\",\"colorbar\":{\"outlinewidth\":0,\"ticks\":\"\"}}],\"histogram2d\":[{\"type\":\"histogram2d\",\"colorbar\":{\"outlinewidth\":0,\"ticks\":\"\"},\"colorscale\":[[0.0,\"#0d0887\"],[0.1111111111111111,\"#46039f\"],[0.2222222222222222,\"#7201a8\"],[0.3333333333333333,\"#9c179e\"],[0.4444444444444444,\"#bd3786\"],[0.5555555555555556,\"#d8576b\"],[0.6666666666666666,\"#ed7953\"],[0.7777777777777778,\"#fb9f3a\"],[0.8888888888888888,\"#fdca26\"],[1.0,\"#f0f921\"]]}],\"heatmap\":[{\"type\":\"heatmap\",\"colorbar\":{\"outlinewidth\":0,\"ticks\":\"\"},\"colorscale\":[[0.0,\"#0d0887\"],[0.1111111111111111,\"#46039f\"],[0.2222222222222222,\"#7201a8\"],[0.3333333333333333,\"#9c179e\"],[0.4444444444444444,\"#bd3786\"],[0.5555555555555556,\"#d8576b\"],[0.6666666666666666,\"#ed7953\"],[0.7777777777777778,\"#fb9f3a\"],[0.8888888888888888,\"#fdca26\"],[1.0,\"#f0f921\"]]}],\"heatmapgl\":[{\"type\":\"heatmapgl\",\"colorbar\":{\"outlinewidth\":0,\"ticks\":\"\"},\"colorscale\":[[0.0,\"#0d0887\"],[0.1111111111111111,\"#46039f\"],[0.2222222222222222,\"#7201a8\"],[0.3333333333333333,\"#9c179e\"],[0.4444444444444444,\"#bd3786\"],[0.5555555555555556,\"#d8576b\"],[0.6666666666666666,\"#ed7953\"],[0.7777777777777778,\"#fb9f3a\"],[0.8888888888888888,\"#fdca26\"],[1.0,\"#f0f921\"]]}],\"contourcarpet\":[{\"type\":\"contourcarpet\",\"colorbar\":{\"outlinewidth\":0,\"ticks\":\"\"}}],\"contour\":[{\"type\":\"contour\",\"colorbar\":{\"outlinewidth\":0,\"ticks\":\"\"},\"colorscale\":[[0.0,\"#0d0887\"],[0.1111111111111111,\"#46039f\"],[0.2222222222222222,\"#7201a8\"],[0.3333333333333333,\"#9c179e\"],[0.4444444444444444,\"#bd3786\"],[0.5555555555555556,\"#d8576b\"],[0.6666666666666666,\"#ed7953\"],[0.7777777777777778,\"#fb9f3a\"],[0.8888888888888888,\"#fdca26\"],[1.0,\"#f0f921\"]]}],\"surface\":[{\"type\":\"surface\",\"colorbar\":{\"outlinewidth\":0,\"ticks\":\"\"},\"colorscale\":[[0.0,\"#0d0887\"],[0.1111111111111111,\"#46039f\"],[0.2222222222222222,\"#7201a8\"],[0.3333333333333333,\"#9c179e\"],[0.4444444444444444,\"#bd3786\"],[0.5555555555555556,\"#d8576b\"],[0.6666666666666666,\"#ed7953\"],[0.7777777777777778,\"#fb9f3a\"],[0.8888888888888888,\"#fdca26\"],[1.0,\"#f0f921\"]]}],\"mesh3d\":[{\"type\":\"mesh3d\",\"colorbar\":{\"outlinewidth\":0,\"ticks\":\"\"}}],\"scatter\":[{\"fillpattern\":{\"fillmode\":\"overlay\",\"size\":10,\"solidity\":0.2},\"type\":\"scatter\"}],\"parcoords\":[{\"type\":\"parcoords\",\"line\":{\"colorbar\":{\"outlinewidth\":0,\"ticks\":\"\"}}}],\"scatterpolargl\":[{\"type\":\"scatterpolargl\",\"marker\":{\"colorbar\":{\"outlinewidth\":0,\"ticks\":\"\"}}}],\"bar\":[{\"error_x\":{\"color\":\"#2a3f5f\"},\"error_y\":{\"color\":\"#2a3f5f\"},\"marker\":{\"line\":{\"color\":\"#E5ECF6\",\"width\":0.5},\"pattern\":{\"fillmode\":\"overlay\",\"size\":10,\"solidity\":0.2}},\"type\":\"bar\"}],\"scattergeo\":[{\"type\":\"scattergeo\",\"marker\":{\"colorbar\":{\"outlinewidth\":0,\"ticks\":\"\"}}}],\"scatterpolar\":[{\"type\":\"scatterpolar\",\"marker\":{\"colorbar\":{\"outlinewidth\":0,\"ticks\":\"\"}}}],\"histogram\":[{\"marker\":{\"pattern\":{\"fillmode\":\"overlay\",\"size\":10,\"solidity\":0.2}},\"type\":\"histogram\"}],\"scattergl\":[{\"type\":\"scattergl\",\"marker\":{\"colorbar\":{\"outlinewidth\":0,\"ticks\":\"\"}}}],\"scatter3d\":[{\"type\":\"scatter3d\",\"line\":{\"colorbar\":{\"outlinewidth\":0,\"ticks\":\"\"}},\"marker\":{\"colorbar\":{\"outlinewidth\":0,\"ticks\":\"\"}}}],\"scattermapbox\":[{\"type\":\"scattermapbox\",\"marker\":{\"colorbar\":{\"outlinewidth\":0,\"ticks\":\"\"}}}],\"scatterternary\":[{\"type\":\"scatterternary\",\"marker\":{\"colorbar\":{\"outlinewidth\":0,\"ticks\":\"\"}}}],\"scattercarpet\":[{\"type\":\"scattercarpet\",\"marker\":{\"colorbar\":{\"outlinewidth\":0,\"ticks\":\"\"}}}],\"carpet\":[{\"aaxis\":{\"endlinecolor\":\"#2a3f5f\",\"gridcolor\":\"white\",\"linecolor\":\"white\",\"minorgridcolor\":\"white\",\"startlinecolor\":\"#2a3f5f\"},\"baxis\":{\"endlinecolor\":\"#2a3f5f\",\"gridcolor\":\"white\",\"linecolor\":\"white\",\"minorgridcolor\":\"white\",\"startlinecolor\":\"#2a3f5f\"},\"type\":\"carpet\"}],\"table\":[{\"cells\":{\"fill\":{\"color\":\"#EBF0F8\"},\"line\":{\"color\":\"white\"}},\"header\":{\"fill\":{\"color\":\"#C8D4E3\"},\"line\":{\"color\":\"white\"}},\"type\":\"table\"}],\"barpolar\":[{\"marker\":{\"line\":{\"color\":\"#E5ECF6\",\"width\":0.5},\"pattern\":{\"fillmode\":\"overlay\",\"size\":10,\"solidity\":0.2}},\"type\":\"barpolar\"}],\"pie\":[{\"automargin\":true,\"type\":\"pie\"}]},\"layout\":{\"autotypenumbers\":\"strict\",\"colorway\":[\"#636efa\",\"#EF553B\",\"#00cc96\",\"#ab63fa\",\"#FFA15A\",\"#19d3f3\",\"#FF6692\",\"#B6E880\",\"#FF97FF\",\"#FECB52\"],\"font\":{\"color\":\"#2a3f5f\"},\"hovermode\":\"closest\",\"hoverlabel\":{\"align\":\"left\"},\"paper_bgcolor\":\"white\",\"plot_bgcolor\":\"#E5ECF6\",\"polar\":{\"bgcolor\":\"#E5ECF6\",\"angularaxis\":{\"gridcolor\":\"white\",\"linecolor\":\"white\",\"ticks\":\"\"},\"radialaxis\":{\"gridcolor\":\"white\",\"linecolor\":\"white\",\"ticks\":\"\"}},\"ternary\":{\"bgcolor\":\"#E5ECF6\",\"aaxis\":{\"gridcolor\":\"white\",\"linecolor\":\"white\",\"ticks\":\"\"},\"baxis\":{\"gridcolor\":\"white\",\"linecolor\":\"white\",\"ticks\":\"\"},\"caxis\":{\"gridcolor\":\"white\",\"linecolor\":\"white\",\"ticks\":\"\"}},\"coloraxis\":{\"colorbar\":{\"outlinewidth\":0,\"ticks\":\"\"}},\"colorscale\":{\"sequential\":[[0.0,\"#0d0887\"],[0.1111111111111111,\"#46039f\"],[0.2222222222222222,\"#7201a8\"],[0.3333333333333333,\"#9c179e\"],[0.4444444444444444,\"#bd3786\"],[0.5555555555555556,\"#d8576b\"],[0.6666666666666666,\"#ed7953\"],[0.7777777777777778,\"#fb9f3a\"],[0.8888888888888888,\"#fdca26\"],[1.0,\"#f0f921\"]],\"sequentialminus\":[[0.0,\"#0d0887\"],[0.1111111111111111,\"#46039f\"],[0.2222222222222222,\"#7201a8\"],[0.3333333333333333,\"#9c179e\"],[0.4444444444444444,\"#bd3786\"],[0.5555555555555556,\"#d8576b\"],[0.6666666666666666,\"#ed7953\"],[0.7777777777777778,\"#fb9f3a\"],[0.8888888888888888,\"#fdca26\"],[1.0,\"#f0f921\"]],\"diverging\":[[0,\"#8e0152\"],[0.1,\"#c51b7d\"],[0.2,\"#de77ae\"],[0.3,\"#f1b6da\"],[0.4,\"#fde0ef\"],[0.5,\"#f7f7f7\"],[0.6,\"#e6f5d0\"],[0.7,\"#b8e186\"],[0.8,\"#7fbc41\"],[0.9,\"#4d9221\"],[1,\"#276419\"]]},\"xaxis\":{\"gridcolor\":\"white\",\"linecolor\":\"white\",\"ticks\":\"\",\"title\":{\"standoff\":15},\"zerolinecolor\":\"white\",\"automargin\":true,\"zerolinewidth\":2},\"yaxis\":{\"gridcolor\":\"white\",\"linecolor\":\"white\",\"ticks\":\"\",\"title\":{\"standoff\":15},\"zerolinecolor\":\"white\",\"automargin\":true,\"zerolinewidth\":2},\"scene\":{\"xaxis\":{\"backgroundcolor\":\"#E5ECF6\",\"gridcolor\":\"white\",\"linecolor\":\"white\",\"showbackground\":true,\"ticks\":\"\",\"zerolinecolor\":\"white\",\"gridwidth\":2},\"yaxis\":{\"backgroundcolor\":\"#E5ECF6\",\"gridcolor\":\"white\",\"linecolor\":\"white\",\"showbackground\":true,\"ticks\":\"\",\"zerolinecolor\":\"white\",\"gridwidth\":2},\"zaxis\":{\"backgroundcolor\":\"#E5ECF6\",\"gridcolor\":\"white\",\"linecolor\":\"white\",\"showbackground\":true,\"ticks\":\"\",\"zerolinecolor\":\"white\",\"gridwidth\":2}},\"shapedefaults\":{\"line\":{\"color\":\"#2a3f5f\"}},\"annotationdefaults\":{\"arrowcolor\":\"#2a3f5f\",\"arrowhead\":0,\"arrowwidth\":1},\"geo\":{\"bgcolor\":\"white\",\"landcolor\":\"#E5ECF6\",\"subunitcolor\":\"white\",\"showland\":true,\"showlakes\":true,\"lakecolor\":\"white\"},\"title\":{\"x\":0.05},\"mapbox\":{\"style\":\"light\"}}},\"xaxis\":{\"anchor\":\"y\",\"domain\":[0.0,1.0],\"title\":{\"text\":\"franquicias\"}},\"yaxis\":{\"anchor\":\"x\",\"domain\":[0.0,1.0],\"title\":{\"text\":\"Cantidad de leads recibidos\"}},\"legend\":{\"tracegroupgap\":0},\"title\":{\"text\":\" Leads recibido x Franquicias\"},\"barmode\":\"relative\"},                        {\"responsive\": true}                    ).then(function(){\n",
       "                            \n",
       "var gd = document.getElementById('31c13ccf-c72e-49ac-aa34-775eb994e703');\n",
       "var x = new MutationObserver(function (mutations, observer) {{\n",
       "        var display = window.getComputedStyle(gd).display;\n",
       "        if (!display || display === 'none') {{\n",
       "            console.log([gd, 'removed!']);\n",
       "            Plotly.purge(gd);\n",
       "            observer.disconnect();\n",
       "        }}\n",
       "}});\n",
       "\n",
       "// Listen for the removal of the full notebook cells\n",
       "var notebookContainer = gd.closest('#notebook-container');\n",
       "if (notebookContainer) {{\n",
       "    x.observe(notebookContainer, {childList: true});\n",
       "}}\n",
       "\n",
       "// Listen for the clearing of the current output cell\n",
       "var outputEl = gd.closest('.output');\n",
       "if (outputEl) {{\n",
       "    x.observe(outputEl, {childList: true});\n",
       "}}\n",
       "\n",
       "                        })                };                });            </script>        </div>"
      ]
     },
     "metadata": {},
     "output_type": "display_data"
    }
   ],
   "source": [
    "df['franquicia'] = df['franquicia'].str.split(',').str[0]\n",
    "conteo = df['franquicia'].value_counts().head(35)\n",
    "fig_bar = px.bar(x=conteo.index, y=conteo, labels={'x': 'franquicias', 'y': 'Cantidad de leads recibidos'}, title=' Leads recibido x Franquicias', color_discrete_sequence=colors)\n",
    "fig_bar.show()"
   ]
  },
  {
   "cell_type": "markdown",
   "id": "d7ff637a",
   "metadata": {
    "papermill": {
     "duration": 0.027251,
     "end_time": "2023-06-02T00:23:05.653016",
     "exception": false,
     "start_time": "2023-06-02T00:23:05.625765",
     "status": "completed"
    },
    "tags": []
   },
   "source": [
    "<div style=\"border-radius:13px; border:#FFB800 solid; padding: 15px; background-color: #FAFFFF; font-size:108%; text-align:left\"> \n",
    "    \n",
    "* Para simplificar las categorias, probe diversos umbrales y defini la mejor relación posible:"
   ]
  },
  {
   "cell_type": "code",
   "execution_count": 20,
   "id": "3a5c8bcf",
   "metadata": {
    "_kg_hide-input": true,
    "execution": {
     "iopub.execute_input": "2023-06-02T00:23:05.703887Z",
     "iopub.status.busy": "2023-06-02T00:23:05.702813Z",
     "iopub.status.idle": "2023-06-02T00:23:06.097578Z",
     "shell.execute_reply": "2023-06-02T00:23:06.096206Z"
    },
    "papermill": {
     "duration": 0.420742,
     "end_time": "2023-06-02T00:23:06.100180",
     "exception": false,
     "start_time": "2023-06-02T00:23:05.679438",
     "status": "completed"
    },
    "tags": []
   },
   "outputs": [
    {
     "data": {
      "image/png": "[encoded data removed]",
      "text/plain": [
       "<Figure size 1000x600 with 1 Axes>"
      ]
     },
     "metadata": {},
     "output_type": "display_data"
    }
   ],
   "source": [
    "conteos = df['franquicia'].value_counts()\n",
    "porcentaje_acumulado = conteos.cumsum() / conteos.sum()\n",
    "umbral = porcentaje_acumulado[porcentaje_acumulado <= 0.94].shape[0]\n",
    "# Encontrar las franquicias más comunes\n",
    "franquicias_mas_comunes = conteos.index[:umbral]\n",
    "# Reemplazar las franquicias que no están en las más comunes por 'Otras'\n",
    "df['franquicia'] = df['franquicia'].where(df['franquicia'].isin(franquicias_mas_comunes), 'otras')\n",
    "conteos = df['franquicia'].value_counts()\n",
    "# Comprobar resultado \n",
    "fig, ax = plt.subplots(figsize=(10, 6))\n",
    "sns.barplot(x=conteos.index, y=conteos.values, ax=ax)\n",
    "ax.set_title('Franquicias que componen el 94% de los datos recibidos + otras')\n",
    "ax.set_xlabel('franquicias')\n",
    "ax.set_ylabel('Leads recibidos')\n",
    "plt.xticks(rotation=90)\n",
    "plt.show()"
   ]
  },
  {
   "cell_type": "markdown",
   "id": "09a4590e",
   "metadata": {
    "papermill": {
     "duration": 0.022511,
     "end_time": "2023-06-02T00:23:06.144733",
     "exception": false,
     "start_time": "2023-06-02T00:23:06.122222",
     "status": "completed"
    },
    "tags": []
   },
   "source": [
    "<div style=\"border-radius:13px; border:#FFB800 solid; padding: 15px; background-color: #FAFFFF; font-size:108%; text-align:left\"> \n",
    "    \n",
    "* El 94% de las categorias en la columna estan concentradas en estas Franquicias, seran las utilizadas para el modelo y las demas las dejare en **'otras'**"
   ]
  },
  {
   "cell_type": "markdown",
   "id": "930e4d84",
   "metadata": {
    "papermill": {
     "duration": 0.021875,
     "end_time": "2023-06-02T00:23:06.188796",
     "exception": false,
     "start_time": "2023-06-02T00:23:06.166921",
     "status": "completed"
    },
    "tags": []
   },
   "source": [
    "<p style=\"font-family:JetBrains Mono; font-weight:bold; letter-spacing: 2px; color:#05041B; font-size:140%; text-align:left;padding: 0px; border-bottom: 3px solid #FFB800\"></p>"
   ]
  },
  {
   "cell_type": "markdown",
   "id": "e4b22b8b",
   "metadata": {
    "papermill": {
     "duration": 0.02191,
     "end_time": "2023-06-02T00:23:06.232565",
     "exception": false,
     "start_time": "2023-06-02T00:23:06.210655",
     "status": "completed"
    },
    "tags": []
   },
   "source": [
    "<div style=\"border-radius:13px; border:#FFB800 solid; padding: 15px; background-color: #FAFFFF; font-size:112%; text-align:left\">\n",
    "    \n",
    "<h3 align=\"left\"><font color='#05041B'>\n",
    "</font>🔢 Variables Discretas/Continuas</h3>  \n",
    "   \n",
    "* 🖇️ Variables Predictoras:\n",
    "+ **'formularios enviados', 'visitas a la pagina', 'interacciones varias' , 'aperturas de correo'**"
   ]
  },
  {
   "cell_type": "markdown",
   "id": "b8510402",
   "metadata": {
    "papermill": {
     "duration": 0.021887,
     "end_time": "2023-06-02T00:23:06.276918",
     "exception": false,
     "start_time": "2023-06-02T00:23:06.255031",
     "status": "completed"
    },
    "tags": []
   },
   "source": [
    "<div style=\"border-radius:13px; border:#FFB800 solid; padding: 15px; background-color: #FAFFFF; font-size:105%; text-align:left\">\n",
    "    \n",
    "* Estas columnas seran las unicas incorporadas al modelo como numericas\n",
    "* Miden diversas interacciones y pueden ser muy utiles para los modelos que categorizan en funcion del orden natural de sus columnas numericas.\n",
    "* Primero certifico que no existan relaciones muy elevadas entre las columnas"
   ]
  },
  {
   "cell_type": "code",
   "execution_count": 21,
   "id": "b93e8fd0",
   "metadata": {
    "_kg_hide-input": true,
    "execution": {
     "iopub.execute_input": "2023-06-02T00:23:06.323965Z",
     "iopub.status.busy": "2023-06-02T00:23:06.323586Z",
     "iopub.status.idle": "2023-06-02T00:23:06.417330Z",
     "shell.execute_reply": "2023-06-02T00:23:06.416245Z"
    },
    "jupyter": {
     "source_hidden": true
    },
    "papermill": {
     "duration": 0.120485,
     "end_time": "2023-06-02T00:23:06.419591",
     "exception": false,
     "start_time": "2023-06-02T00:23:06.299106",
     "status": "completed"
    },
    "tags": []
   },
   "outputs": [
    {
     "data": {
      "text/html": [
       "<div>                            <div id=\"21c2f2f9-5ef9-465d-91cb-236410ed168c\" class=\"plotly-graph-div\" style=\"height:600px; width:100%;\"></div>            <script type=\"text/javascript\">                require([\"plotly\"], function(Plotly) {                    window.PLOTLYENV=window.PLOTLYENV || {};                                    if (document.getElementById(\"21c2f2f9-5ef9-465d-91cb-236410ed168c\")) {                    Plotly.newPlot(                        \"21c2f2f9-5ef9-465d-91cb-236410ed168c\",                        [{\"marker\":{\"color\":\"rgb(55, 83, 109)\"},\"name\":\"formularios enviados\",\"nbinsx\":50,\"x\":[0.0,1.0,1.0,1.0,0.0,1.0,1.0,1.0,0.0,2.0,6.0,1.0,0.0,1.0,1.0,2.0,1.0,2.0,2.0,2.0,1.0,1.0,1.0,1.0,1.0,1.0,1.0,1.0,0.0,0.0,1.0,1.0,1.0,1.0,0.0,1.0,2.0,1.0,1.0,1.0,1.0,2.0,1.0,1.0,1.0,2.0,1.0,1.0,1.0,1.0,0.0,1.0,1.0,0.0,1.0,1.0,1.0,1.0,1.0,1.0,1.0,3.0,3.0,1.0,1.0,1.0,1.0,1.0,1.0,1.0,1.0,2.0,1.0,2.0,1.0,0.0,1.0,2.0,1.0,0.0,1.0,1.0,1.0,1.0,1.0,1.0,2.0,2.0,1.0,1.0,1.0,1.0,1.0,1.0,1.0,0.0,2.0,1.0,1.0,1.0,0.0,1.0,1.0,1.0,1.0,1.0,1.0,0.0,1.0,1.0,1.0,1.0,0.0,1.0,0.0,1.0,1.0,1.0,0.0,0.0,0.0,0.0,1.0,2.0,1.0,1.0,1.0,1.0,1.0,1.0,1.0,1.0,1.0,1.0,1.0,1.0,1.0,1.0,1.0,1.0,1.0,1.0,1.0,1.0,1.0,1.0,1.0,2.0,1.0,1.0,1.0,1.0,1.0,1.0,1.0,1.0,1.0,1.0,1.0,3.0,1.0,1.0,0.0,1.0,0.0,0.0,0.0,0.0,0.0,1.0,1.0,0.0,1.0,1.0,0.0,0.0,1.0,1.0,1.0,1.0,1.0,1.0,1.0,1.0,1.0,2.0,2.0,1.0,1.0,1.0,1.0,1.0,0.0,1.0,1.0,1.0,0.0,1.0,1.0,1.0,1.0,1.0,1.0,1.0,0.0,2.0,1.0,1.0,1.0,2.0,1.0,0.0,1.0,1.0,1.0,0.0,4.0,1.0,0.0,1.0,1.0,1.0,1.0,0.0,0.0,1.0,0.0,1.0,1.0,1.0,1.0,1.0,1.0,1.0,1.0,1.0,1.0,1.0,1.0,0.0,1.0,2.0,1.0,1.0,1.0,1.0,1.0,1.0,0.0,1.0,1.0,1.0,1.0,1.0,0.0,1.0,0.0,1.0,5.0,1.0,1.0,1.0,2.0,1.0,1.0,1.0,1.0,1.0,1.0,1.0,1.0,3.0,1.0,1.0,1.0,1.0,1.0,1.0,1.0,2.0,2.0,1.0,1.0,1.0,1.0,0.0,1.0,1.0,1.0,5.0,1.0,1.0,1.0,2.0,1.0,3.0,1.0,1.0,1.0,1.0,1.0,2.0,0.0,1.0,0.0,1.0,1.0,1.0,1.0,1.0,1.0,0.0,1.0,1.0,1.0,1.0,2.0,1.0,1.0,1.0,1.0,1.0,3.0,1.0,1.0,1.0,1.0,0.0,1.0,1.0,2.0,1.0,1.0,2.0,0.0,1.0,1.0,1.0,1.0,1.0,1.0,1.0,1.0,1.0,1.0,1.0,1.0,1.0,0.0,1.0,1.0,0.0,1.0,3.0,1.0,1.0,1.0,3.0,1.0,1.0,0.0,5.0,1.0,1.0,1.0,0.0,1.0,1.0,1.0,1.0,2.0,1.0,1.0,1.0,1.0,1.0,1.0,1.0,1.0,1.0,0.0,3.0,0.0,0.0,1.0,1.0,1.0,0.0,1.0,2.0,1.0,1.0,1.0,1.0,0.0,1.0,1.0,1.0,1.0,1.0,1.0,1.0,1.0,2.0,1.0,1.0,1.0,1.0,1.0,1.0,1.0,1.0,1.0,0.0,0.0,1.0,1.0,1.0,1.0,1.0,1.0,1.0,1.0,1.0,1.0,1.0,1.0,1.0,1.0,1.0,0.0,1.0,0.0,1.0,0.0,1.0,0.0,1.0,1.0,2.0,1.0,0.0,1.0,1.0,1.0,1.0,2.0,1.0,1.0,1.0,0.0,1.0,0.0,2.0,1.0,2.0,1.0,2.0,0.0,1.0,2.0,1.0,1.0,0.0,1.0,1.0,2.0,0.0,1.0,1.0,1.0,1.0,1.0,1.0,1.0,1.0,1.0,1.0,1.0,1.0,1.0,1.0,1.0,1.0,1.0,1.0,1.0,1.0,1.0,1.0,1.0,1.0,1.0,1.0,1.0,5.0,4.0,0.0,1.0,1.0,1.0,1.0,1.0,1.0,0.0,2.0,1.0,0.0,3.0,1.0,2.0,1.0,1.0,0.0,2.0,2.0,1.0,1.0,1.0,1.0,1.0,1.0,1.0,1.0,1.0,1.0,1.0,1.0,0.0,1.0,1.0,3.0,0.0,1.0,0.0,2.0,1.0,2.0,0.0,1.0,1.0,1.0,1.0,1.0,2.0,1.0,0.0,1.0,1.0,1.0,1.0,1.0,1.0,1.0,1.0,1.0,2.0,1.0,0.0,1.0,1.0,1.0,1.0,0.0,3.0,2.0,1.0,1.0,1.0,1.0,1.0,1.0,1.0,2.0,0.0,1.0,2.0,1.0,1.0,1.0,3.0,3.0,0.0,1.0,1.0,1.0,1.0,1.0,0.0,1.0,1.0,1.0,1.0,1.0,1.0,2.0,2.0,1.0,1.0,1.0,1.0,1.0,1.0,1.0,0.0,0.0,1.0,1.0,2.0,3.0,1.0,1.0,0.0,1.0,1.0,1.0,0.0,1.0,1.0,1.0,1.0,1.0,1.0,2.0,1.0,1.0,1.0,1.0,1.0,1.0,1.0,1.0,1.0,1.0,1.0,1.0,1.0,1.0,0.0,1.0,1.0,1.0,1.0,1.0,1.0,1.0,2.0,1.0,1.0,1.0,1.0,1.0,0.0,1.0,1.0,2.0,1.0,1.0,0.0,1.0,1.0,2.0,1.0,1.0,2.0,1.0,2.0,2.0,1.0,1.0,1.0,1.0,1.0,1.0,1.0,3.0,1.0,0.0,0.0,0.0,2.0,1.0,0.0,0.0,0.0,1.0,5.0,0.0,1.0,0.0,1.0,0.0,1.0,1.0,1.0,1.0,1.0,1.0,1.0,1.0,1.0,4.0,1.0,2.0,1.0,2.0,1.0,1.0,1.0,1.0,1.0,1.0,1.0,0.0,1.0,1.0,1.0,1.0,1.0,1.0,1.0,1.0,1.0,1.0,1.0,1.0,2.0,1.0,1.0,1.0,1.0,1.0,1.0,1.0,0.0,1.0,1.0,1.0,2.0,1.0,1.0,1.0,1.0,1.0,1.0,0.0,1.0,2.0,1.0,1.0,1.0,1.0,1.0,1.0,1.0,1.0,1.0,1.0,0.0,1.0,1.0,1.0,1.0,0.0,2.0,1.0,1.0,1.0,1.0,1.0,1.0,0.0,3.0,1.0,1.0,1.0,1.0,1.0,1.0,1.0,1.0,2.0,2.0,0.0,1.0,0.0,1.0,1.0,0.0,1.0,1.0,1.0,0.0,1.0,1.0,1.0,3.0,1.0,1.0,1.0,1.0,1.0,1.0,2.0,1.0,1.0,1.0,3.0,1.0,2.0,1.0,1.0,1.0,1.0,1.0,1.0,1.0,1.0,1.0,0.0,1.0,1.0,1.0,1.0,0.0,1.0,0.0,1.0,1.0,2.0,1.0,1.0,0.0,2.0,0.0,1.0,1.0,1.0,1.0,1.0,1.0,1.0,2.0,0.0,0.0,0.0,0.0,1.0,1.0,1.0,1.0,0.0,1.0,1.0,1.0,0.0,1.0,1.0,1.0,1.0,1.0,1.0,2.0,1.0,2.0,1.0,0.0,1.0,2.0,1.0,1.0,2.0,1.0,2.0,1.0,1.0,2.0,2.0,3.0,1.0,1.0,1.0,1.0,1.0,0.0,1.0,1.0,0.0,0.0,1.0,1.0,2.0,1.0,1.0,1.0,1.0,1.0,2.0,1.0,1.0,1.0,1.0,1.0,5.0,1.0,1.0,1.0,1.0,1.0,1.0,1.0,2.0,1.0,1.0,1.0,1.0,4.0,1.0,1.0,1.0,1.0,1.0,1.0,1.0,1.0,1.0,1.0,1.0,1.0,1.0,1.0,3.0,1.0,1.0,1.0,1.0,1.0,1.0,1.0,2.0,1.0,1.0,1.0,2.0,1.0,1.0,1.0,0.0,1.0,1.0,1.0,1.0,1.0,1.0,1.0,1.0,7.0,1.0,1.0,0.0,2.0,1.0,1.0,1.0,1.0,1.0,1.0,1.0,1.0,1.0,1.0,1.0,0.0,1.0,0.0,1.0,1.0,1.0,3.0,1.0,3.0,1.0,1.0,2.0,1.0,1.0,1.0,1.0,1.0,1.0,2.0,1.0,1.0,1.0,1.0,1.0,1.0,1.0,1.0,1.0,0.0,2.0,0.0,1.0,0.0,0.0,0.0,1.0,1.0,1.0,1.0,1.0,2.0,1.0,2.0,1.0,1.0,1.0,1.0,1.0,1.0,1.0,1.0,3.0,0.0,1.0,1.0,0.0,1.0,1.0,1.0,1.0,1.0,1.0,1.0,1.0,1.0,1.0,1.0,2.0,1.0,2.0,1.0,1.0,1.0,0.0,1.0,1.0,1.0,1.0,0.0,1.0,1.0,1.0,1.0,2.0,2.0,1.0,1.0,1.0,4.0,1.0,1.0,1.0,1.0,1.0,1.0,2.0,1.0,1.0,2.0,1.0,3.0,1.0,1.0,1.0,1.0,1.0,1.0,1.0,1.0,1.0,1.0,1.0,1.0,1.0,0.0,1.0,1.0,1.0,1.0,1.0,1.0,1.0,1.0,0.0,2.0,1.0,1.0,2.0,2.0,0.0,1.0,1.0,1.0,0.0,1.0,1.0,1.0,1.0,2.0,1.0,1.0,1.0,1.0,1.0,0.0,1.0,1.0,2.0,1.0,1.0,1.0,0.0,1.0,0.0,1.0,1.0,1.0,1.0,1.0,1.0,1.0,0.0,1.0,0.0,1.0,4.0,1.0,1.0,1.0,1.0,1.0,0.0,2.0,1.0,1.0,1.0,1.0,1.0,1.0,1.0,1.0,1.0,1.0,1.0,1.0,1.0,1.0,1.0,1.0,1.0,3.0,1.0,1.0,2.0,2.0,1.0,1.0,1.0,1.0,1.0,1.0,1.0,1.0,1.0,0.0,0.0,0.0,1.0,1.0,1.0,1.0,1.0,1.0,1.0,1.0,1.0,1.0,1.0,1.0,1.0,4.0,1.0,1.0,1.0,0.0,1.0,1.0,1.0,1.0,0.0,0.0,1.0,1.0,2.0,1.0,1.0,1.0,1.0,1.0,1.0,2.0,1.0,1.0,1.0,1.0,2.0,1.0,1.0,0.0,1.0,1.0,2.0,1.0,1.0,1.0,1.0,1.0,1.0,1.0,1.0,1.0,1.0,1.0,1.0,1.0,0.0,1.0,0.0,1.0,1.0,1.0,1.0,1.0,1.0,0.0,1.0,1.0,1.0,1.0,1.0,1.0,1.0,0.0,1.0,1.0,4.0,1.0,1.0,1.0,2.0,1.0,1.0,1.0,1.0,1.0,1.0,2.0,1.0,1.0,1.0,1.0,1.0,1.0,1.0,1.0,3.0,1.0,1.0,1.0,1.0,2.0,0.0,1.0,1.0,1.0,1.0,1.0,1.0,5.0,1.0,1.0,1.0,1.0,1.0,1.0,1.0,1.0,1.0,2.0,1.0,1.0,1.0,1.0,1.0,1.0,0.0,2.0,1.0,1.0,2.0,1.0,1.0,1.0,0.0,0.0,1.0,1.0,1.0,1.0,1.0,1.0,1.0,1.0,1.0,1.0,1.0,1.0,1.0,1.0,1.0,3.0,0.0,1.0,1.0,1.0,0.0,1.0,0.0,0.0,0.0,0.0,0.0,0.0,0.0,0.0,1.0,1.0,1.0,0.0,0.0,0.0,0.0,0.0,0.0,0.0,0.0,0.0,0.0,1.0,0.0,0.0,0.0,0.0,0.0,0.0,0.0,0.0,0.0,0.0,0.0,0.0,0.0,0.0,0.0,0.0,0.0,0.0,0.0,0.0,0.0,0.0,1.0,0.0,0.0,0.0,1.0,0.0,2.0,0.0,0.0,0.0,0.0,3.0,0.0,0.0,1.0,1.0,0.0,0.0,0.0,1.0,0.0,0.0,0.0,1.0,1.0,1.0,1.0,0.0,0.0,0.0,0.0,1.0,0.0,0.0,0.0,0.0,0.0,0.0,0.0,1.0,0.0,0.0,0.0,0.0,0.0,0.0,0.0,0.0,0.0,0.0,0.0,0.0,0.0,0.0,0.0,0.0,0.0,0.0,0.0,0.0,0.0,1.0,0.0,0.0,0.0,0.0,0.0,0.0,0.0,0.0,0.0,0.0,0.0,0.0,0.0,0.0,0.0,0.0,0.0,0.0,0.0,0.0,0.0,0.0,0.0,1.0,1.0,0.0,0.0,1.0,0.0,0.0,0.0,0.0,0.0,0.0,0.0,0.0,0.0,0.0,0.0,0.0,0.0,0.0,0.0,0.0,0.0,0.0,0.0,0.0,0.0,0.0,0.0,0.0,0.0,0.0,0.0,0.0,0.0,0.0,1.0,0.0,0.0,0.0,1.0,0.0,0.0,1.0,0.0,0.0,0.0,0.0,0.0,0.0,0.0,0.0,0.0,0.0,0.0,0.0,0.0,0.0,1.0,1.0,0.0,0.0,0.0,0.0,0.0,0.0,0.0,0.0,0.0,0.0,0.0,0.0,1.0,0.0,0.0,0.0,0.0,3.0,0.0,1.0,0.0,1.0,0.0,0.0,0.0,0.0,0.0,0.0,0.0,0.0,1.0,0.0,0.0,0.0,0.0,0.0,0.0,0.0,0.0,0.0,0.0,1.0,0.0,0.0,0.0,0.0,0.0,1.0,0.0,0.0,1.0,1.0,0.0,0.0,1.0,0.0,0.0,0.0,0.0,0.0,0.0,0.0,0.0,0.0,0.0,0.0,0.0,0.0,0.0,0.0,0.0,0.0,0.0,0.0,1.0,0.0,0.0,0.0,0.0,0.0,1.0,0.0,0.0,0.0,0.0,0.0,0.0,0.0,0.0,1.0,0.0,0.0,1.0,0.0,0.0,0.0,0.0,0.0,0.0,0.0,0.0,1.0,0.0,0.0,0.0,0.0,0.0,0.0,0.0,3.0,0.0,0.0,0.0,0.0,0.0,0.0,0.0,0.0,1.0,0.0,0.0,0.0,0.0,0.0,0.0,1.0,0.0,0.0,0.0,0.0,0.0,0.0,1.0,0.0,0.0,0.0,0.0,0.0,0.0,0.0,0.0,1.0,0.0,0.0,1.0,1.0,0.0,0.0,0.0,0.0,0.0,0.0,0.0,0.0,1.0,0.0,0.0,0.0,0.0,0.0,0.0,0.0,0.0,0.0,2.0,2.0,0.0,0.0,0.0,0.0,0.0,0.0,0.0,0.0,0.0,0.0,0.0,0.0,0.0,0.0,0.0,0.0,0.0,0.0,0.0,0.0,0.0,0.0,0.0,0.0,0.0,1.0,0.0,0.0,0.0,0.0,0.0,0.0,0.0,0.0,0.0,0.0,0.0,1.0,0.0,0.0,0.0,0.0,0.0,0.0,0.0,0.0,0.0,0.0,0.0,0.0,0.0,0.0,0.0,0.0,0.0,0.0,0.0,0.0,0.0,0.0,2.0,0.0,0.0,0.0,0.0,0.0,0.0,0.0,0.0,0.0,0.0,0.0,0.0,0.0,0.0,0.0,0.0,0.0,2.0,0.0,0.0,0.0,0.0,0.0,0.0,1.0,1.0,0.0,0.0,0.0,0.0,0.0,0.0,0.0,0.0,1.0,1.0,0.0,0.0,0.0,0.0,1.0,0.0,0.0],\"type\":\"histogram\",\"xaxis\":\"x\",\"yaxis\":\"y\"},{\"marker\":{\"color\":\"rgb(55, 83, 109)\"},\"name\":\"visitas a la pagina\",\"nbinsx\":50,\"x\":[0.0,1.0,1.0,1.0,0.0,1.0,1.0,1.0,0.0,2.0,3.0,1.0,0.0,1.0,1.0,2.0,1.0,2.0,2.0,1.0,1.0,1.0,1.0,1.0,1.0,1.0,1.0,1.0,0.0,0.0,1.0,1.0,1.0,1.0,0.0,1.0,2.0,1.0,1.0,1.0,1.0,1.0,1.0,1.0,1.0,1.0,1.0,1.0,1.0,1.0,0.0,1.0,1.0,0.0,1.0,1.0,1.0,1.0,1.0,2.0,1.0,2.0,3.0,1.0,1.0,1.0,1.0,1.0,1.0,1.0,1.0,2.0,1.0,2.0,1.0,0.0,1.0,1.0,1.0,0.0,1.0,1.0,1.0,1.0,1.0,1.0,2.0,2.0,1.0,1.0,1.0,1.0,1.0,1.0,1.0,0.0,2.0,1.0,1.0,1.0,0.0,1.0,1.0,1.0,1.0,1.0,1.0,0.0,1.0,1.0,1.0,1.0,0.0,1.0,0.0,1.0,1.0,1.0,0.0,0.0,0.0,0.0,1.0,2.0,1.0,1.0,1.0,1.0,1.0,1.0,1.0,1.0,1.0,1.0,1.0,1.0,1.0,1.0,1.0,1.0,1.0,1.0,1.0,1.0,1.0,1.0,1.0,2.0,1.0,1.0,1.0,1.0,1.0,1.0,1.0,1.0,1.0,1.0,1.0,2.0,1.0,1.0,0.0,1.0,0.0,0.0,0.0,0.0,0.0,1.0,1.0,0.0,1.0,1.0,0.0,0.0,1.0,1.0,1.0,1.0,1.0,1.0,1.0,1.0,1.0,2.0,2.0,1.0,1.0,1.0,1.0,1.0,0.0,1.0,1.0,1.0,0.0,1.0,1.0,1.0,1.0,1.0,1.0,1.0,0.0,2.0,1.0,1.0,1.0,2.0,1.0,0.0,1.0,1.0,1.0,0.0,4.0,1.0,0.0,1.0,1.0,1.0,1.0,0.0,0.0,1.0,0.0,1.0,1.0,1.0,1.0,1.0,1.0,1.0,1.0,1.0,1.0,1.0,1.0,0.0,1.0,2.0,1.0,1.0,1.0,1.0,1.0,1.0,0.0,1.0,1.0,1.0,1.0,1.0,0.0,1.0,0.0,1.0,5.0,1.0,1.0,1.0,2.0,1.0,1.0,1.0,1.0,1.0,1.0,1.0,1.0,3.0,1.0,1.0,1.0,1.0,1.0,1.0,1.0,2.0,2.0,1.0,1.0,1.0,1.0,0.0,1.0,1.0,1.0,5.0,1.0,1.0,1.0,2.0,1.0,2.0,1.0,1.0,1.0,1.0,1.0,2.0,0.0,1.0,0.0,1.0,1.0,1.0,1.0,1.0,1.0,0.0,1.0,1.0,1.0,1.0,2.0,1.0,1.0,1.0,1.0,1.0,2.0,1.0,1.0,1.0,1.0,0.0,1.0,1.0,2.0,1.0,1.0,2.0,0.0,1.0,1.0,1.0,1.0,1.0,1.0,1.0,1.0,1.0,1.0,1.0,1.0,1.0,0.0,1.0,1.0,0.0,1.0,3.0,1.0,1.0,1.0,3.0,1.0,1.0,0.0,5.0,1.0,1.0,1.0,0.0,1.0,1.0,1.0,1.0,2.0,1.0,1.0,1.0,1.0,1.0,1.0,1.0,1.0,1.0,0.0,3.0,0.0,0.0,1.0,1.0,1.0,0.0,1.0,2.0,1.0,1.0,1.0,1.0,0.0,1.0,1.0,1.0,1.0,1.0,1.0,1.0,1.0,2.0,1.0,1.0,1.0,1.0,1.0,1.0,1.0,1.0,1.0,0.0,0.0,1.0,1.0,1.0,1.0,1.0,1.0,1.0,1.0,1.0,1.0,1.0,1.0,1.0,1.0,1.0,0.0,1.0,0.0,1.0,0.0,1.0,0.0,1.0,1.0,2.0,1.0,0.0,1.0,1.0,1.0,1.0,1.0,1.0,1.0,1.0,0.0,1.0,0.0,2.0,1.0,2.0,1.0,1.0,0.0,1.0,2.0,1.0,1.0,0.0,1.0,1.0,2.0,0.0,1.0,1.0,1.0,1.0,1.0,1.0,1.0,1.0,1.0,1.0,1.0,1.0,1.0,1.0,1.0,1.0,1.0,1.0,1.0,1.0,1.0,1.0,1.0,1.0,1.0,1.0,1.0,2.0,4.0,0.0,1.0,1.0,1.0,1.0,1.0,1.0,0.0,2.0,1.0,0.0,2.0,1.0,2.0,1.0,1.0,0.0,1.0,2.0,1.0,1.0,1.0,1.0,1.0,1.0,1.0,1.0,1.0,1.0,1.0,1.0,0.0,1.0,1.0,3.0,0.0,1.0,0.0,1.0,1.0,2.0,0.0,1.0,1.0,1.0,1.0,1.0,2.0,1.0,0.0,1.0,1.0,1.0,1.0,1.0,1.0,1.0,1.0,1.0,2.0,1.0,0.0,1.0,1.0,1.0,1.0,0.0,0.0,2.0,1.0,1.0,1.0,1.0,1.0,1.0,1.0,2.0,0.0,1.0,2.0,1.0,1.0,1.0,3.0,3.0,0.0,1.0,1.0,1.0,1.0,1.0,0.0,1.0,1.0,1.0,1.0,1.0,1.0,2.0,1.0,1.0,1.0,1.0,1.0,1.0,1.0,1.0,0.0,0.0,1.0,1.0,0.0,3.0,1.0,1.0,0.0,1.0,1.0,1.0,0.0,1.0,1.0,1.0,1.0,1.0,1.0,2.0,1.0,1.0,1.0,1.0,1.0,1.0,1.0,1.0,1.0,1.0,1.0,1.0,1.0,1.0,0.0,1.0,1.0,1.0,1.0,1.0,1.0,1.0,2.0,1.0,1.0,1.0,1.0,1.0,0.0,1.0,1.0,1.0,1.0,1.0,0.0,1.0,1.0,2.0,1.0,1.0,2.0,1.0,2.0,2.0,1.0,1.0,1.0,1.0,1.0,1.0,1.0,2.0,1.0,0.0,0.0,0.0,2.0,1.0,0.0,0.0,0.0,1.0,4.0,0.0,1.0,0.0,1.0,0.0,1.0,1.0,1.0,1.0,1.0,1.0,1.0,1.0,1.0,2.0,1.0,2.0,1.0,2.0,1.0,1.0,1.0,1.0,1.0,1.0,1.0,0.0,1.0,1.0,1.0,1.0,1.0,1.0,1.0,1.0,1.0,1.0,1.0,1.0,2.0,1.0,1.0,2.0,1.0,1.0,1.0,1.0,0.0,2.0,1.0,1.0,2.0,1.0,1.0,1.0,1.0,1.0,1.0,0.0,1.0,2.0,1.0,1.0,1.0,1.0,1.0,1.0,1.0,1.0,1.0,1.0,0.0,1.0,1.0,1.0,1.0,0.0,2.0,1.0,1.0,1.0,1.0,1.0,1.0,0.0,2.0,1.0,1.0,1.0,1.0,1.0,1.0,1.0,1.0,2.0,2.0,0.0,1.0,0.0,1.0,1.0,2.0,1.0,1.0,1.0,0.0,1.0,1.0,1.0,0.0,1.0,1.0,1.0,1.0,1.0,1.0,2.0,1.0,1.0,1.0,20.0,1.0,2.0,1.0,1.0,1.0,1.0,1.0,1.0,1.0,1.0,1.0,0.0,1.0,1.0,1.0,2.0,0.0,1.0,0.0,1.0,1.0,2.0,1.0,1.0,0.0,2.0,0.0,1.0,1.0,1.0,1.0,1.0,1.0,1.0,2.0,0.0,0.0,0.0,0.0,1.0,1.0,1.0,1.0,0.0,1.0,1.0,1.0,0.0,1.0,1.0,1.0,1.0,1.0,1.0,2.0,1.0,2.0,1.0,0.0,1.0,1.0,1.0,1.0,2.0,1.0,2.0,1.0,1.0,2.0,2.0,3.0,1.0,1.0,1.0,1.0,1.0,0.0,1.0,1.0,0.0,0.0,1.0,1.0,1.0,1.0,1.0,1.0,1.0,1.0,2.0,1.0,1.0,1.0,1.0,1.0,4.0,1.0,1.0,1.0,1.0,1.0,1.0,1.0,2.0,1.0,1.0,1.0,1.0,3.0,1.0,1.0,1.0,1.0,1.0,1.0,1.0,1.0,1.0,1.0,1.0,1.0,1.0,1.0,3.0,1.0,1.0,1.0,1.0,1.0,1.0,2.0,1.0,1.0,1.0,1.0,2.0,1.0,1.0,1.0,0.0,1.0,1.0,1.0,1.0,1.0,1.0,1.0,1.0,5.0,1.0,1.0,0.0,2.0,1.0,1.0,1.0,1.0,1.0,1.0,1.0,1.0,1.0,1.0,1.0,0.0,1.0,0.0,1.0,1.0,1.0,3.0,1.0,3.0,1.0,1.0,1.0,1.0,1.0,1.0,1.0,1.0,1.0,2.0,1.0,1.0,1.0,1.0,1.0,1.0,1.0,1.0,1.0,0.0,1.0,0.0,1.0,0.0,0.0,0.0,1.0,2.0,1.0,1.0,1.0,2.0,1.0,2.0,1.0,1.0,1.0,1.0,1.0,1.0,1.0,1.0,2.0,0.0,1.0,1.0,0.0,1.0,1.0,1.0,1.0,1.0,1.0,2.0,1.0,1.0,1.0,1.0,2.0,1.0,2.0,1.0,1.0,1.0,0.0,1.0,1.0,1.0,1.0,0.0,1.0,1.0,1.0,1.0,2.0,1.0,1.0,1.0,1.0,3.0,1.0,1.0,1.0,1.0,1.0,1.0,2.0,1.0,1.0,2.0,1.0,2.0,1.0,1.0,1.0,1.0,1.0,1.0,1.0,1.0,1.0,1.0,1.0,1.0,1.0,0.0,1.0,1.0,1.0,1.0,2.0,1.0,1.0,1.0,0.0,2.0,1.0,1.0,2.0,2.0,0.0,1.0,1.0,1.0,0.0,1.0,1.0,1.0,1.0,1.0,1.0,1.0,1.0,1.0,1.0,0.0,1.0,2.0,2.0,1.0,1.0,1.0,0.0,1.0,0.0,1.0,1.0,1.0,1.0,1.0,1.0,1.0,0.0,1.0,0.0,1.0,4.0,1.0,1.0,1.0,1.0,1.0,0.0,2.0,1.0,1.0,1.0,1.0,1.0,1.0,1.0,1.0,1.0,1.0,1.0,1.0,1.0,1.0,1.0,1.0,1.0,3.0,1.0,1.0,2.0,1.0,1.0,1.0,1.0,1.0,1.0,1.0,1.0,1.0,1.0,1.0,0.0,0.0,1.0,1.0,1.0,1.0,1.0,1.0,1.0,1.0,1.0,1.0,1.0,1.0,1.0,4.0,1.0,1.0,1.0,0.0,1.0,1.0,1.0,1.0,0.0,0.0,1.0,1.0,2.0,1.0,1.0,1.0,1.0,1.0,1.0,2.0,1.0,1.0,1.0,1.0,2.0,1.0,1.0,0.0,1.0,1.0,2.0,1.0,1.0,1.0,1.0,1.0,1.0,1.0,1.0,1.0,1.0,1.0,1.0,1.0,0.0,1.0,0.0,1.0,1.0,1.0,1.0,1.0,1.0,0.0,1.0,1.0,1.0,1.0,1.0,1.0,1.0,0.0,1.0,1.0,1.0,1.0,1.0,1.0,2.0,1.0,1.0,1.0,1.0,1.0,1.0,2.0,1.0,1.0,1.0,1.0,1.0,1.0,1.0,1.0,3.0,1.0,1.0,1.0,1.0,2.0,0.0,2.0,1.0,1.0,1.0,1.0,1.0,2.0,1.0,1.0,1.0,1.0,1.0,1.0,1.0,1.0,1.0,1.0,1.0,1.0,1.0,1.0,1.0,1.0,0.0,2.0,1.0,1.0,2.0,1.0,1.0,1.0,0.0,0.0,1.0,1.0,1.0,1.0,1.0,1.0,1.0,1.0,1.0,1.0,1.0,1.0,1.0,1.0,1.0,3.0,0.0,1.0,2.0,1.0,0.0,1.0,0.0,0.0,0.0,0.0,0.0,0.0,0.0,0.0,1.0,1.0,1.0,0.0,0.0,0.0,0.0,0.0,0.0,0.0,0.0,0.0,0.0,1.0,0.0,0.0,0.0,0.0,0.0,0.0,0.0,0.0,0.0,0.0,0.0,0.0,0.0,0.0,0.0,0.0,0.0,0.0,0.0,0.0,0.0,0.0,1.0,0.0,0.0,0.0,1.0,0.0,2.0,0.0,0.0,0.0,0.0,4.0,0.0,0.0,1.0,1.0,0.0,0.0,0.0,1.0,0.0,0.0,0.0,1.0,1.0,1.0,1.0,0.0,0.0,0.0,0.0,1.0,0.0,0.0,0.0,0.0,0.0,0.0,0.0,1.0,0.0,0.0,0.0,0.0,0.0,0.0,0.0,0.0,0.0,0.0,0.0,0.0,0.0,0.0,0.0,2.0,0.0,0.0,0.0,0.0,0.0,1.0,0.0,0.0,0.0,0.0,0.0,0.0,0.0,0.0,0.0,0.0,0.0,0.0,0.0,0.0,0.0,0.0,0.0,0.0,0.0,0.0,0.0,0.0,0.0,1.0,1.0,0.0,0.0,1.0,0.0,2.0,0.0,0.0,0.0,0.0,0.0,0.0,0.0,0.0,0.0,0.0,0.0,0.0,0.0,0.0,0.0,0.0,0.0,0.0,0.0,0.0,0.0,0.0,0.0,2.0,0.0,0.0,0.0,0.0,1.0,0.0,0.0,0.0,1.0,0.0,0.0,1.0,0.0,0.0,0.0,2.0,0.0,0.0,0.0,2.0,0.0,0.0,0.0,0.0,0.0,0.0,1.0,1.0,0.0,2.0,0.0,0.0,0.0,0.0,0.0,0.0,0.0,0.0,0.0,0.0,1.0,0.0,0.0,0.0,0.0,2.0,0.0,1.0,0.0,1.0,0.0,0.0,0.0,0.0,0.0,0.0,0.0,0.0,1.0,0.0,0.0,0.0,0.0,0.0,0.0,0.0,0.0,0.0,0.0,1.0,0.0,0.0,0.0,0.0,0.0,1.0,0.0,0.0,1.0,1.0,0.0,0.0,1.0,0.0,0.0,0.0,0.0,0.0,0.0,0.0,0.0,0.0,0.0,0.0,0.0,0.0,1.0,0.0,0.0,0.0,0.0,0.0,1.0,0.0,0.0,0.0,0.0,0.0,1.0,0.0,0.0,0.0,0.0,0.0,0.0,1.0,1.0,1.0,0.0,0.0,1.0,0.0,0.0,0.0,0.0,0.0,0.0,0.0,0.0,1.0,0.0,0.0,0.0,0.0,0.0,0.0,0.0,3.0,0.0,0.0,0.0,0.0,0.0,0.0,0.0,0.0,1.0,0.0,0.0,0.0,0.0,0.0,0.0,1.0,0.0,0.0,0.0,0.0,0.0,0.0,1.0,0.0,0.0,0.0,0.0,0.0,0.0,0.0,0.0,1.0,0.0,0.0,1.0,1.0,0.0,0.0,0.0,0.0,0.0,0.0,0.0,0.0,1.0,0.0,0.0,0.0,0.0,0.0,1.0,0.0,0.0,0.0,2.0,1.0,0.0,0.0,0.0,0.0,0.0,0.0,0.0,0.0,0.0,0.0,0.0,0.0,0.0,0.0,0.0,0.0,0.0,0.0,0.0,0.0,0.0,0.0,0.0,0.0,0.0,1.0,0.0,0.0,0.0,0.0,0.0,0.0,0.0,0.0,0.0,0.0,0.0,1.0,0.0,0.0,0.0,0.0,0.0,0.0,0.0,0.0,0.0,0.0,0.0,0.0,0.0,0.0,0.0,0.0,0.0,0.0,0.0,0.0,0.0,0.0,2.0,0.0,0.0,0.0,0.0,0.0,0.0,0.0,0.0,0.0,0.0,0.0,0.0,0.0,0.0,0.0,0.0,0.0,2.0,0.0,0.0,0.0,0.0,0.0,0.0,1.0,1.0,0.0,0.0,0.0,0.0,0.0,0.0,0.0,0.0,1.0,1.0,0.0,0.0,0.0,0.0,1.0,0.0,0.0],\"type\":\"histogram\",\"xaxis\":\"x2\",\"yaxis\":\"y2\"},{\"marker\":{\"color\":\"rgb(55, 83, 109)\"},\"name\":\"interacciones varias\",\"nbinsx\":50,\"x\":[0.0,1.0,0.0,0.0,6.0,0.0,0.0,0.0,2.0,5.0,13.0,3.0,0.0,0.0,3.0,0.0,1.0,0.0,0.0,2.0,2.0,0.0,7.0,0.0,1.0,2.0,0.0,0.0,0.0,0.0,2.0,0.0,0.0,0.0,1.0,0.0,0.0,5.0,0.0,0.0,3.0,4.0,2.0,1.0,0.0,4.0,0.0,0.0,0.0,0.0,0.0,0.0,1.0,1.0,1.0,0.0,0.0,3.0,0.0,3.0,1.0,2.0,0.0,2.0,5.0,3.0,2.0,6.0,0.0,0.0,0.0,0.0,0.0,0.0,4.0,1.0,0.0,5.0,1.0,1.0,0.0,0.0,0.0,4.0,0.0,1.0,0.0,0.0,2.0,0.0,3.0,7.0,0.0,3.0,0.0,1.0,0.0,2.0,0.0,0.0,0.0,3.0,2.0,0.0,4.0,0.0,2.0,1.0,0.0,3.0,0.0,4.0,0.0,2.0,2.0,0.0,0.0,1.0,1.0,0.0,1.0,2.0,0.0,3.0,0.0,4.0,0.0,0.0,0.0,0.0,4.0,0.0,0.0,1.0,0.0,0.0,0.0,0.0,3.0,0.0,1.0,0.0,0.0,0.0,0.0,0.0,0.0,2.0,0.0,0.0,0.0,0.0,0.0,0.0,0.0,0.0,3.0,1.0,0.0,5.0,1.0,0.0,1.0,0.0,0.0,0.0,2.0,2.0,1.0,3.0,0.0,0.0,2.0,0.0,0.0,1.0,0.0,0.0,0.0,1.0,0.0,0.0,0.0,2.0,0.0,0.0,3.0,2.0,0.0,0.0,3.0,3.0,1.0,2.0,2.0,1.0,0.0,0.0,3.0,0.0,3.0,0.0,2.0,0.0,0.0,3.0,0.0,0.0,0.0,3.0,0.0,0.0,0.0,0.0,1.0,1.0,0.0,0.0,4.0,0.0,3.0,0.0,2.0,2.0,0.0,1.0,1.0,0.0,1.0,0.0,0.0,0.0,3.0,0.0,0.0,2.0,1.0,0.0,0.0,1.0,0.0,2.0,0.0,1.0,0.0,4.0,0.0,0.0,0.0,3.0,3.0,0.0,2.0,0.0,1.0,0.0,1.0,0.0,0.0,0.0,2.0,2.0,1.0,0.0,1.0,0.0,0.0,0.0,0.0,0.0,0.0,4.0,0.0,0.0,5.0,3.0,0.0,0.0,0.0,0.0,0.0,0.0,0.0,2.0,3.0,1.0,5.0,4.0,0.0,2.0,0.0,0.0,1.0,0.0,0.0,9.0,0.0,0.0,0.0,0.0,0.0,2.0,2.0,0.0,0.0,0.0,0.0,0.0,3.0,1.0,2.0,0.0,0.0,0.0,2.0,0.0,0.0,0.0,0.0,0.0,0.0,0.0,0.0,0.0,0.0,0.0,0.0,1.0,0.0,2.0,0.0,0.0,2.0,0.0,1.0,0.0,0.0,0.0,0.0,2.0,0.0,0.0,0.0,0.0,1.0,2.0,0.0,0.0,2.0,0.0,0.0,1.0,3.0,3.0,0.0,0.0,3.0,0.0,0.0,1.0,1.0,0.0,0.0,0.0,0.0,1.0,3.0,0.0,0.0,3.0,2.0,2.0,0.0,11.0,0.0,2.0,3.0,0.0,0.0,0.0,0.0,0.0,3.0,1.0,1.0,3.0,5.0,1.0,0.0,0.0,0.0,2.0,0.0,6.0,0.0,3.0,0.0,0.0,0.0,0.0,0.0,2.0,3.0,0.0,0.0,0.0,2.0,0.0,0.0,1.0,2.0,0.0,0.0,0.0,0.0,0.0,3.0,0.0,3.0,2.0,2.0,0.0,0.0,3.0,1.0,5.0,0.0,0.0,3.0,0.0,0.0,0.0,3.0,2.0,3.0,0.0,0.0,0.0,0.0,2.0,4.0,0.0,0.0,0.0,0.0,0.0,4.0,2.0,0.0,0.0,0.0,1.0,0.0,0.0,3.0,2.0,2.0,7.0,0.0,0.0,0.0,2.0,4.0,0.0,2.0,1.0,9.0,1.0,0.0,0.0,2.0,0.0,2.0,0.0,0.0,0.0,1.0,4.0,0.0,0.0,0.0,3.0,0.0,0.0,0.0,0.0,0.0,7.0,0.0,0.0,0.0,3.0,0.0,0.0,2.0,0.0,1.0,0.0,1.0,3.0,3.0,3.0,0.0,0.0,0.0,0.0,0.0,1.0,7.0,0.0,2.0,0.0,0.0,0.0,2.0,2.0,0.0,0.0,0.0,0.0,0.0,0.0,0.0,0.0,0.0,0.0,0.0,0.0,1.0,0.0,0.0,4.0,2.0,1.0,2.0,7.0,0.0,5.0,1.0,0.0,5.0,0.0,0.0,3.0,0.0,0.0,0.0,0.0,0.0,0.0,0.0,0.0,0.0,0.0,3.0,0.0,0.0,3.0,0.0,0.0,0.0,6.0,2.0,0.0,2.0,0.0,1.0,0.0,2.0,2.0,0.0,0.0,0.0,0.0,0.0,0.0,2.0,0.0,0.0,0.0,0.0,0.0,1.0,0.0,2.0,0.0,0.0,2.0,0.0,0.0,0.0,0.0,4.0,0.0,3.0,0.0,4.0,1.0,0.0,0.0,2.0,3.0,0.0,0.0,1.0,0.0,0.0,0.0,1.0,0.0,2.0,0.0,4.0,4.0,0.0,0.0,0.0,0.0,2.0,3.0,4.0,0.0,0.0,0.0,0.0,0.0,3.0,0.0,0.0,0.0,0.0,0.0,0.0,0.0,4.0,0.0,0.0,0.0,0.0,0.0,0.0,0.0,0.0,1.0,0.0,0.0,2.0,1.0,0.0,0.0,0.0,0.0,0.0,0.0,0.0,3.0,0.0,0.0,1.0,0.0,0.0,0.0,0.0,0.0,0.0,0.0,0.0,0.0,2.0,0.0,2.0,0.0,1.0,0.0,0.0,7.0,0.0,0.0,1.0,0.0,4.0,3.0,1.0,0.0,1.0,1.0,4.0,1.0,0.0,3.0,5.0,0.0,0.0,1.0,0.0,0.0,1.0,0.0,0.0,0.0,0.0,8.0,0.0,1.0,0.0,0.0,0.0,0.0,0.0,0.0,1.0,2.0,0.0,1.0,0.0,0.0,0.0,0.0,6.0,0.0,0.0,0.0,0.0,0.0,0.0,0.0,0.0,0.0,3.0,3.0,0.0,0.0,0.0,0.0,1.0,2.0,1.0,2.0,2.0,1.0,0.0,3.0,0.0,0.0,2.0,0.0,1.0,0.0,3.0,0.0,0.0,2.0,0.0,4.0,0.0,4.0,1.0,0.0,0.0,2.0,0.0,0.0,1.0,4.0,0.0,0.0,0.0,0.0,1.0,0.0,3.0,1.0,0.0,0.0,0.0,1.0,2.0,2.0,0.0,0.0,0.0,0.0,2.0,0.0,1.0,0.0,2.0,0.0,4.0,0.0,0.0,0.0,0.0,3.0,0.0,1.0,1.0,0.0,0.0,0.0,0.0,0.0,0.0,3.0,0.0,2.0,2.0,0.0,0.0,2.0,0.0,0.0,1.0,0.0,0.0,0.0,0.0,0.0,0.0,2.0,2.0,0.0,0.0,2.0,0.0,0.0,0.0,2.0,0.0,0.0,0.0,0.0,2.0,0.0,1.0,0.0,0.0,1.0,0.0,0.0,0.0,0.0,0.0,1.0,1.0,0.0,1.0,1.0,0.0,3.0,2.0,0.0,2.0,0.0,3.0,0.0,0.0,2.0,2.0,4.0,4.0,0.0,1.0,3.0,0.0,0.0,0.0,2.0,0.0,0.0,0.0,3.0,0.0,1.0,2.0,3.0,0.0,0.0,4.0,2.0,2.0,0.0,3.0,0.0,2.0,0.0,8.0,1.0,0.0,2.0,0.0,8.0,3.0,0.0,1.0,0.0,0.0,0.0,0.0,0.0,0.0,1.0,0.0,7.0,0.0,0.0,0.0,2.0,2.0,0.0,0.0,9.0,7.0,3.0,2.0,0.0,0.0,2.0,2.0,20.0,0.0,0.0,0.0,5.0,0.0,0.0,1.0,0.0,0.0,0.0,0.0,0.0,0.0,2.0,0.0,3.0,0.0,1.0,3.0,1.0,0.0,1.0,0.0,1.0,3.0,0.0,0.0,0.0,0.0,0.0,1.0,0.0,1.0,0.0,0.0,0.0,2.0,3.0,7.0,1.0,0.0,0.0,0.0,1.0,0.0,1.0,2.0,0.0,3.0,2.0,0.0,0.0,3.0,3.0,1.0,7.0,0.0,0.0,4.0,2.0,0.0,2.0,0.0,0.0,0.0,0.0,0.0,2.0,0.0,0.0,1.0,0.0,0.0,0.0,0.0,0.0,0.0,1.0,1.0,0.0,2.0,2.0,3.0,2.0,1.0,1.0,0.0,0.0,2.0,1.0,0.0,1.0,7.0,0.0,0.0,0.0,1.0,0.0,2.0,0.0,0.0,0.0,0.0,0.0,0.0,0.0,0.0,0.0,0.0,0.0,0.0,0.0,1.0,3.0,3.0,0.0,0.0,0.0,0.0,4.0,0.0,0.0,1.0,2.0,1.0,0.0,3.0,0.0,0.0,0.0,0.0,0.0,0.0,1.0,0.0,1.0,4.0,2.0,6.0,3.0,2.0,2.0,3.0,0.0,0.0,0.0,3.0,0.0,0.0,0.0,0.0,1.0,3.0,2.0,0.0,0.0,1.0,0.0,0.0,0.0,0.0,0.0,4.0,0.0,0.0,2.0,1.0,3.0,0.0,3.0,0.0,3.0,0.0,2.0,0.0,0.0,0.0,0.0,1.0,0.0,3.0,0.0,0.0,1.0,0.0,0.0,0.0,7.0,2.0,0.0,1.0,2.0,0.0,0.0,0.0,0.0,0.0,2.0,5.0,0.0,2.0,0.0,0.0,0.0,3.0,0.0,1.0,0.0,0.0,0.0,0.0,3.0,1.0,0.0,2.0,2.0,0.0,5.0,0.0,0.0,0.0,1.0,0.0,2.0,1.0,0.0,4.0,1.0,0.0,0.0,0.0,0.0,3.0,1.0,3.0,9.0,2.0,2.0,0.0,0.0,0.0,1.0,0.0,0.0,3.0,0.0,9.0,0.0,0.0,0.0,0.0,1.0,0.0,5.0,0.0,0.0,0.0,0.0,0.0,2.0,2.0,2.0,2.0,0.0,0.0,3.0,0.0,0.0,0.0,3.0,0.0,0.0,0.0,1.0,0.0,2.0,0.0,0.0,0.0,0.0,5.0,0.0,0.0,0.0,0.0,0.0,0.0,3.0,0.0,7.0,2.0,0.0,0.0,2.0,3.0,0.0,2.0,1.0,2.0,0.0,0.0,0.0,2.0,2.0,2.0,2.0,0.0,0.0,0.0,2.0,0.0,2.0,4.0,3.0,3.0,0.0,0.0,0.0,1.0,0.0,4.0,0.0,0.0,0.0,0.0,0.0,0.0,0.0,0.0,1.0,0.0,0.0,2.0,0.0,0.0,2.0,4.0,0.0,0.0,4.0,2.0,0.0,2.0,2.0,0.0,2.0,0.0,0.0,3.0,0.0,0.0,0.0,0.0,5.0,0.0,0.0,0.0,6.0,1.0,3.0,3.0,0.0,0.0,0.0,3.0,3.0,0.0,0.0,0.0,0.0,4.0,0.0,0.0,0.0,0.0,0.0,2.0,3.0,4.0,2.0,5.0,0.0,0.0,0.0,1.0,0.0,3.0,3.0,0.0,0.0,0.0,0.0,0.0,0.0,0.0,1.0,1.0,0.0,0.0,0.0,0.0,0.0,0.0,4.0,3.0,0.0,2.0,0.0,0.0,0.0,7.0,0.0,3.0,1.0,4.0,2.0,2.0,1.0,0.0,1.0,5.0,2.0,2.0,1.0,1.0,1.0,0.0,0.0,0.0,0.0,0.0,0.0,0.0,2.0,1.0,0.0,1.0,0.0,1.0,0.0,0.0,0.0,2.0,0.0,5.0,0.0,0.0,1.0,0.0,0.0,4.0,0.0,1.0,1.0,0.0,1.0,0.0,0.0,5.0,0.0,1.0,0.0,0.0,0.0,2.0,0.0,0.0,0.0,0.0,0.0,1.0,2.0,0.0,0.0,1.0,1.0,2.0,0.0,0.0,2.0,0.0,0.0,3.0,0.0,0.0,1.0,0.0,0.0,0.0,0.0,1.0,1.0,1.0,1.0,0.0,0.0,0.0,1.0,0.0,1.0,0.0,0.0,0.0,0.0,0.0,0.0,2.0,0.0,0.0,0.0,3.0,0.0,1.0,0.0,0.0,1.0,0.0,4.0,0.0,0.0,0.0,0.0,2.0,0.0,0.0,1.0,1.0,0.0,0.0,2.0,0.0,2.0,0.0,0.0,54.0,2.0,0.0,1.0,1.0,1.0,2.0,0.0,1.0,1.0,4.0,2.0,0.0,4.0,3.0,0.0,0.0,1.0,0.0,0.0,1.0,0.0,0.0,0.0,0.0,0.0,1.0,0.0,0.0,0.0,0.0,3.0,0.0,1.0,0.0,0.0,0.0,0.0,0.0,0.0,1.0,0.0,0.0,0.0,0.0,1.0,1.0,0.0,0.0,0.0,1.0,1.0,1.0,2.0,1.0,0.0,0.0,0.0,1.0,0.0,1.0,1.0,1.0,0.0,2.0,0.0,2.0,0.0,0.0,0.0,2.0,2.0,0.0,2.0,2.0,0.0,1.0,1.0,1.0,7.0,1.0,1.0,1.0,0.0,2.0,0.0,0.0,1.0,0.0,1.0,0.0,3.0,0.0,0.0,0.0,0.0,0.0,0.0,1.0,1.0,1.0,0.0,1.0,0.0,0.0,0.0,0.0,0.0,0.0,0.0,0.0,2.0,0.0,0.0,0.0,0.0,0.0,10.0,2.0,0.0,0.0,0.0,0.0,0.0,0.0,0.0,1.0,0.0,0.0,0.0,0.0,0.0,0.0,1.0,1.0,0.0,1.0,0.0,3.0,1.0,1.0,3.0,0.0,0.0,0.0,1.0,1.0,0.0,2.0,0.0,0.0,2.0,1.0,0.0,2.0,0.0,0.0,1.0,0.0,0.0,1.0,1.0,0.0,0.0,0.0,2.0,0.0,2.0,1.0,0.0,0.0,0.0,0.0,0.0,0.0,1.0,1.0,1.0,0.0,0.0,1.0,0.0,2.0,1.0,0.0,1.0,3.0,0.0,1.0,0.0,0.0,1.0,0.0,0.0,2.0,0.0,1.0,0.0,0.0,0.0,0.0,0.0,0.0,2.0,0.0,0.0,1.0,1.0,1.0,1.0,1.0,1.0,1.0,0.0,0.0,0.0,0.0,0.0,0.0,0.0,0.0,1.0,1.0,0.0,0.0,0.0,0.0,0.0,0.0,1.0,1.0,0.0,2.0,1.0,0.0,0.0,0.0,2.0,2.0,0.0,1.0,0.0,0.0,0.0,0.0,1.0,0.0,0.0,0.0,0.0,0.0,1.0,0.0,0.0,1.0,0.0,0.0,0.0,0.0,0.0,0.0,0.0,1.0,1.0,3.0,0.0,0.0,0.0,0.0,0.0,0.0,0.0,1.0,0.0,0.0,0.0,3.0,0.0,1.0,0.0,1.0,2.0,0.0,0.0,0.0,0.0,2.0,0.0,0.0,0.0,0.0,0.0,3.0,0.0,0.0,0.0,0.0,0.0,1.0,0.0,0.0,1.0,0.0,0.0,0.0,0.0,1.0,1.0,1.0,0.0,0.0,1.0,0.0,0.0,5.0,0.0,1.0,0.0,0.0,0.0,0.0,0.0,0.0,0.0,0.0,0.0,2.0,0.0,1.0,5.0,0.0,1.0,1.0,2.0,7.0,0.0,0.0,1.0,3.0,0.0,0.0,0.0,0.0],\"type\":\"histogram\",\"xaxis\":\"x3\",\"yaxis\":\"y3\"},{\"marker\":{\"color\":\"rgb(55, 83, 109)\"},\"name\":\"aperturas de correo\",\"nbinsx\":50,\"x\":[0.0,1.0,0.0,0.0,2.0,0.0,0.0,0.0,2.0,1.0,1.0,3.0,0.0,0.0,3.0,0.0,0.0,0.0,0.0,2.0,2.0,0.0,3.0,0.0,1.0,1.0,0.0,0.0,0.0,0.0,2.0,0.0,0.0,0.0,1.0,0.0,0.0,1.0,0.0,0.0,3.0,1.0,2.0,1.0,0.0,2.0,0.0,0.0,0.0,0.0,0.0,0.0,1.0,1.0,1.0,0.0,0.0,3.0,0.0,1.0,1.0,0.0,0.0,2.0,1.0,3.0,2.0,3.0,0.0,0.0,0.0,0.0,0.0,0.0,4.0,1.0,0.0,5.0,1.0,1.0,0.0,0.0,0.0,4.0,0.0,1.0,0.0,0.0,2.0,0.0,1.0,7.0,0.0,3.0,0.0,1.0,0.0,2.0,0.0,0.0,0.0,3.0,2.0,0.0,4.0,0.0,2.0,1.0,0.0,1.0,0.0,1.0,0.0,2.0,1.0,0.0,0.0,1.0,1.0,0.0,1.0,2.0,0.0,1.0,0.0,4.0,0.0,0.0,0.0,0.0,1.0,0.0,0.0,1.0,0.0,0.0,0.0,0.0,3.0,0.0,1.0,0.0,0.0,0.0,0.0,0.0,0.0,2.0,0.0,0.0,0.0,0.0,0.0,0.0,0.0,0.0,3.0,0.0,0.0,1.0,1.0,0.0,1.0,0.0,0.0,0.0,2.0,2.0,1.0,3.0,0.0,0.0,1.0,0.0,0.0,1.0,0.0,0.0,0.0,1.0,0.0,0.0,0.0,2.0,0.0,0.0,1.0,0.0,0.0,0.0,3.0,3.0,1.0,2.0,1.0,1.0,0.0,0.0,3.0,0.0,1.0,0.0,2.0,0.0,0.0,1.0,0.0,0.0,0.0,1.0,0.0,0.0,0.0,0.0,1.0,1.0,0.0,0.0,4.0,0.0,1.0,0.0,2.0,2.0,0.0,0.0,1.0,0.0,1.0,0.0,0.0,0.0,1.0,0.0,0.0,1.0,1.0,0.0,0.0,1.0,0.0,2.0,0.0,1.0,0.0,2.0,0.0,0.0,0.0,3.0,3.0,0.0,2.0,0.0,1.0,0.0,1.0,0.0,0.0,0.0,2.0,2.0,0.0,0.0,1.0,0.0,0.0,0.0,0.0,0.0,0.0,1.0,0.0,0.0,1.0,1.0,0.0,0.0,0.0,0.0,0.0,0.0,0.0,2.0,3.0,1.0,5.0,2.0,0.0,0.0,0.0,0.0,1.0,0.0,0.0,1.0,0.0,0.0,0.0,0.0,0.0,2.0,2.0,0.0,0.0,0.0,0.0,0.0,3.0,1.0,2.0,0.0,0.0,0.0,2.0,0.0,0.0,0.0,0.0,0.0,0.0,0.0,0.0,0.0,0.0,0.0,0.0,1.0,0.0,2.0,0.0,0.0,2.0,0.0,1.0,0.0,0.0,0.0,0.0,2.0,0.0,0.0,0.0,0.0,1.0,2.0,0.0,0.0,1.0,0.0,0.0,1.0,3.0,1.0,0.0,0.0,3.0,0.0,0.0,1.0,1.0,0.0,0.0,0.0,0.0,1.0,1.0,0.0,0.0,1.0,2.0,2.0,0.0,2.0,0.0,2.0,1.0,0.0,0.0,0.0,0.0,0.0,3.0,1.0,1.0,0.0,1.0,1.0,0.0,0.0,0.0,2.0,0.0,6.0,0.0,3.0,0.0,0.0,0.0,0.0,0.0,0.0,1.0,0.0,0.0,0.0,2.0,0.0,0.0,1.0,2.0,0.0,0.0,0.0,0.0,0.0,3.0,0.0,1.0,2.0,2.0,0.0,0.0,3.0,1.0,1.0,0.0,0.0,3.0,0.0,0.0,0.0,1.0,2.0,1.0,0.0,0.0,0.0,0.0,0.0,2.0,0.0,0.0,0.0,0.0,0.0,1.0,2.0,0.0,0.0,0.0,1.0,0.0,0.0,2.0,1.0,2.0,3.0,0.0,0.0,0.0,2.0,4.0,0.0,2.0,1.0,3.0,1.0,0.0,0.0,2.0,0.0,0.0,0.0,0.0,0.0,1.0,4.0,0.0,0.0,0.0,1.0,0.0,0.0,0.0,0.0,0.0,1.0,0.0,0.0,0.0,1.0,0.0,0.0,2.0,0.0,0.0,0.0,1.0,3.0,3.0,3.0,0.0,0.0,0.0,0.0,0.0,1.0,2.0,0.0,2.0,0.0,0.0,0.0,1.0,1.0,0.0,0.0,0.0,0.0,0.0,0.0,0.0,0.0,0.0,0.0,0.0,0.0,1.0,0.0,0.0,1.0,2.0,1.0,2.0,3.0,0.0,1.0,1.0,0.0,1.0,0.0,0.0,3.0,0.0,0.0,0.0,0.0,0.0,0.0,0.0,0.0,0.0,0.0,3.0,0.0,0.0,3.0,0.0,0.0,0.0,2.0,2.0,0.0,0.0,0.0,1.0,0.0,2.0,2.0,0.0,0.0,0.0,0.0,0.0,0.0,2.0,0.0,0.0,0.0,0.0,0.0,1.0,0.0,2.0,0.0,0.0,2.0,0.0,0.0,0.0,0.0,1.0,0.0,3.0,0.0,2.0,1.0,0.0,0.0,2.0,1.0,0.0,0.0,1.0,0.0,0.0,0.0,1.0,0.0,2.0,0.0,4.0,4.0,0.0,0.0,0.0,0.0,2.0,3.0,4.0,0.0,0.0,0.0,0.0,0.0,1.0,0.0,0.0,0.0,0.0,0.0,0.0,0.0,1.0,0.0,0.0,0.0,0.0,0.0,0.0,0.0,0.0,1.0,0.0,0.0,1.0,1.0,0.0,0.0,0.0,0.0,0.0,0.0,0.0,1.0,0.0,0.0,1.0,0.0,0.0,0.0,0.0,0.0,0.0,0.0,0.0,0.0,2.0,0.0,2.0,0.0,1.0,0.0,0.0,1.0,0.0,0.0,1.0,0.0,2.0,3.0,1.0,0.0,1.0,1.0,0.0,1.0,0.0,1.0,2.0,0.0,0.0,1.0,0.0,0.0,1.0,0.0,0.0,0.0,0.0,2.0,0.0,0.0,0.0,0.0,0.0,0.0,0.0,0.0,1.0,2.0,0.0,1.0,0.0,0.0,0.0,0.0,6.0,0.0,0.0,0.0,0.0,0.0,0.0,0.0,0.0,0.0,3.0,3.0,0.0,0.0,0.0,0.0,1.0,2.0,1.0,2.0,2.0,1.0,0.0,3.0,0.0,0.0,2.0,0.0,1.0,0.0,3.0,0.0,0.0,2.0,0.0,2.0,0.0,4.0,1.0,0.0,0.0,2.0,0.0,0.0,1.0,4.0,0.0,0.0,0.0,0.0,1.0,0.0,3.0,1.0,0.0,0.0,0.0,1.0,2.0,0.0,0.0,0.0,0.0,0.0,2.0,0.0,1.0,0.0,2.0,0.0,2.0,0.0,0.0,0.0,0.0,3.0,0.0,0.0,1.0,0.0,0.0,0.0,0.0,0.0,0.0,1.0,0.0,2.0,2.0,0.0,0.0,0.0,0.0,0.0,1.0,0.0,0.0,0.0,0.0,0.0,0.0,2.0,2.0,0.0,0.0,2.0,0.0,0.0,0.0,2.0,0.0,0.0,0.0,0.0,2.0,0.0,1.0,0.0,0.0,1.0,0.0,0.0,0.0,0.0,0.0,1.0,1.0,0.0,1.0,1.0,0.0,3.0,2.0,0.0,2.0,0.0,3.0,0.0,0.0,2.0,2.0,4.0,4.0,0.0,0.0,3.0,0.0,0.0,0.0,2.0,0.0,0.0,0.0,1.0,0.0,0.0,2.0,3.0,0.0,0.0,2.0,2.0,2.0,0.0,0.0,0.0,2.0,0.0,2.0,1.0,0.0,2.0,0.0,2.0,3.0,0.0,1.0,0.0,0.0,0.0,0.0,0.0,0.0,1.0,0.0,1.0,0.0,0.0,0.0,2.0,2.0,0.0,0.0,1.0,3.0,3.0,2.0,0.0,0.0,2.0,2.0,0.0,0.0,0.0,0.0,5.0,0.0,0.0,1.0,0.0,0.0,0.0,0.0,0.0,0.0,1.0,0.0,3.0,0.0,1.0,3.0,0.0,0.0,1.0,0.0,0.0,3.0,0.0,0.0,0.0,0.0,0.0,1.0,0.0,0.0,0.0,0.0,0.0,0.0,3.0,1.0,1.0,0.0,0.0,0.0,1.0,0.0,1.0,2.0,0.0,3.0,0.0,0.0,0.0,3.0,3.0,1.0,1.0,0.0,0.0,1.0,2.0,0.0,2.0,0.0,0.0,0.0,0.0,0.0,1.0,0.0,0.0,0.0,0.0,0.0,0.0,0.0,0.0,0.0,1.0,0.0,0.0,2.0,0.0,1.0,2.0,1.0,1.0,0.0,0.0,2.0,1.0,0.0,1.0,2.0,0.0,0.0,0.0,1.0,0.0,2.0,0.0,0.0,0.0,0.0,0.0,0.0,0.0,0.0,0.0,0.0,0.0,0.0,0.0,1.0,3.0,3.0,0.0,0.0,0.0,0.0,1.0,0.0,0.0,1.0,0.0,1.0,0.0,3.0,0.0,0.0,0.0,0.0,0.0,0.0,1.0,0.0,1.0,4.0,2.0,2.0,3.0,0.0,2.0,3.0,0.0,0.0,0.0,1.0,0.0,0.0,0.0,0.0,1.0,1.0,2.0,0.0,0.0,1.0,0.0,0.0,0.0,0.0,0.0,4.0,0.0,0.0,2.0,1.0,1.0,0.0,3.0,0.0,1.0,0.0,0.0,0.0,0.0,0.0,0.0,0.0,0.0,1.0,0.0,0.0,1.0,0.0,0.0,0.0,1.0,2.0,0.0,1.0,2.0,0.0,0.0,0.0,0.0,0.0,1.0,5.0,0.0,2.0,0.0,0.0,0.0,1.0,0.0,1.0,0.0,0.0,0.0,0.0,3.0,1.0,0.0,2.0,2.0,0.0,1.0,0.0,0.0,0.0,1.0,0.0,1.0,0.0,0.0,1.0,1.0,0.0,0.0,0.0,0.0,3.0,1.0,0.0,2.0,2.0,2.0,0.0,0.0,0.0,1.0,0.0,0.0,1.0,0.0,2.0,0.0,0.0,0.0,0.0,1.0,0.0,5.0,0.0,0.0,0.0,0.0,0.0,0.0,2.0,2.0,2.0,0.0,0.0,3.0,0.0,0.0,0.0,3.0,0.0,0.0,0.0,1.0,0.0,2.0,0.0,0.0,0.0,0.0,1.0,0.0,0.0,0.0,0.0,0.0,0.0,1.0,0.0,1.0,2.0,0.0,0.0,2.0,3.0,0.0,2.0,0.0,2.0,0.0,0.0,0.0,2.0,0.0,2.0,2.0,0.0,0.0,0.0,2.0,0.0,2.0,4.0,3.0,1.0,0.0,0.0,0.0,0.0,0.0,2.0,0.0,0.0,0.0,0.0,0.0,0.0,0.0,0.0,0.0,0.0,0.0,2.0,0.0,0.0,2.0,4.0,0.0,0.0,1.0,2.0,0.0,2.0,2.0,0.0,2.0,0.0,0.0,1.0,0.0,0.0,0.0,0.0,2.0,0.0,0.0,0.0,1.0,1.0,1.0,3.0,0.0,0.0,0.0,3.0,1.0,0.0,0.0,0.0,0.0,4.0,0.0,0.0,0.0,0.0,0.0,2.0,3.0,1.0,2.0,2.0,0.0,0.0,0.0,1.0,0.0,1.0,1.0,0.0,0.0,0.0,0.0,0.0,0.0,0.0,1.0,1.0,0.0,0.0,0.0,0.0,0.0,0.0,2.0,3.0,0.0,2.0,0.0,0.0,0.0,3.0,0.0,3.0,1.0,4.0,2.0,1.0,1.0,0.0,1.0,1.0,2.0,1.0,1.0,1.0,1.0,0.0,0.0,0.0,0.0,0.0,0.0,0.0,2.0,1.0,0.0,1.0,0.0,1.0,0.0,0.0,0.0,2.0,0.0,5.0,0.0,0.0,1.0,0.0,0.0,1.0,0.0,1.0,1.0,0.0,1.0,0.0,0.0,1.0,0.0,1.0,0.0,0.0,0.0,1.0,0.0,0.0,0.0,0.0,0.0,1.0,2.0,0.0,0.0,1.0,1.0,1.0,0.0,0.0,2.0,0.0,0.0,3.0,0.0,0.0,1.0,0.0,0.0,0.0,0.0,1.0,1.0,1.0,1.0,0.0,0.0,0.0,1.0,0.0,1.0,0.0,0.0,0.0,0.0,0.0,0.0,2.0,0.0,0.0,0.0,1.0,0.0,1.0,0.0,0.0,1.0,0.0,1.0,0.0,0.0,0.0,0.0,2.0,0.0,0.0,1.0,1.0,0.0,0.0,2.0,0.0,2.0,0.0,0.0,1.0,2.0,0.0,1.0,1.0,1.0,2.0,0.0,1.0,1.0,2.0,1.0,0.0,4.0,3.0,0.0,0.0,1.0,0.0,0.0,1.0,0.0,0.0,0.0,0.0,0.0,1.0,0.0,0.0,0.0,0.0,3.0,0.0,1.0,0.0,0.0,0.0,0.0,0.0,0.0,1.0,0.0,0.0,0.0,0.0,1.0,1.0,0.0,0.0,0.0,1.0,1.0,1.0,0.0,1.0,0.0,0.0,0.0,1.0,0.0,1.0,1.0,1.0,0.0,2.0,0.0,2.0,0.0,0.0,0.0,1.0,2.0,0.0,1.0,1.0,0.0,1.0,1.0,1.0,1.0,1.0,1.0,1.0,0.0,2.0,0.0,0.0,1.0,0.0,1.0,0.0,1.0,0.0,0.0,0.0,0.0,0.0,0.0,1.0,1.0,1.0,0.0,1.0,0.0,0.0,0.0,0.0,0.0,0.0,0.0,0.0,2.0,0.0,0.0,0.0,0.0,0.0,5.0,2.0,0.0,0.0,0.0,0.0,0.0,0.0,0.0,1.0,0.0,0.0,0.0,0.0,0.0,0.0,1.0,1.0,0.0,1.0,0.0,3.0,1.0,1.0,3.0,0.0,0.0,0.0,1.0,1.0,0.0,2.0,0.0,0.0,1.0,1.0,0.0,2.0,0.0,0.0,1.0,0.0,0.0,1.0,1.0,0.0,0.0,0.0,0.0,0.0,1.0,1.0,0.0,0.0,0.0,0.0,0.0,0.0,1.0,1.0,1.0,0.0,0.0,1.0,0.0,0.0,1.0,0.0,1.0,3.0,0.0,1.0,0.0,0.0,0.0,0.0,0.0,1.0,0.0,1.0,0.0,0.0,0.0,0.0,0.0,0.0,2.0,0.0,0.0,1.0,1.0,1.0,1.0,1.0,1.0,1.0,0.0,0.0,0.0,0.0,0.0,0.0,0.0,0.0,1.0,1.0,0.0,0.0,0.0,0.0,0.0,0.0,1.0,1.0,0.0,2.0,1.0,0.0,0.0,0.0,2.0,0.0,0.0,1.0,0.0,0.0,0.0,0.0,1.0,0.0,0.0,0.0,0.0,0.0,1.0,0.0,0.0,1.0,0.0,0.0,0.0,0.0,0.0,0.0,0.0,1.0,1.0,0.0,0.0,0.0,0.0,0.0,0.0,0.0,0.0,1.0,0.0,0.0,0.0,1.0,0.0,1.0,0.0,1.0,1.0,0.0,0.0,0.0,0.0,2.0,0.0,0.0,0.0,0.0,0.0,1.0,0.0,0.0,0.0,0.0,0.0,1.0,0.0,0.0,1.0,0.0,0.0,0.0,0.0,1.0,1.0,1.0,0.0,0.0,1.0,0.0,0.0,5.0,0.0,1.0,0.0,0.0,0.0,0.0,0.0,0.0,0.0,0.0,0.0,1.0,0.0,1.0,1.0,0.0,1.0,1.0,2.0,2.0,0.0,0.0,1.0,3.0,0.0,0.0,0.0,0.0],\"type\":\"histogram\",\"xaxis\":\"x4\",\"yaxis\":\"y4\"}],                        {\"template\":{\"data\":{\"histogram2dcontour\":[{\"type\":\"histogram2dcontour\",\"colorbar\":{\"outlinewidth\":0,\"ticks\":\"\"},\"colorscale\":[[0.0,\"#0d0887\"],[0.1111111111111111,\"#46039f\"],[0.2222222222222222,\"#7201a8\"],[0.3333333333333333,\"#9c179e\"],[0.4444444444444444,\"#bd3786\"],[0.5555555555555556,\"#d8576b\"],[0.6666666666666666,\"#ed7953\"],[0.7777777777777778,\"#fb9f3a\"],[0.8888888888888888,\"#fdca26\"],[1.0,\"#f0f921\"]]}],\"choropleth\":[{\"type\":\"choropleth\",\"colorbar\":{\"outlinewidth\":0,\"ticks\":\"\"}}],\"histogram2d\":[{\"type\":\"histogram2d\",\"colorbar\":{\"outlinewidth\":0,\"ticks\":\"\"},\"colorscale\":[[0.0,\"#0d0887\"],[0.1111111111111111,\"#46039f\"],[0.2222222222222222,\"#7201a8\"],[0.3333333333333333,\"#9c179e\"],[0.4444444444444444,\"#bd3786\"],[0.5555555555555556,\"#d8576b\"],[0.6666666666666666,\"#ed7953\"],[0.7777777777777778,\"#fb9f3a\"],[0.8888888888888888,\"#fdca26\"],[1.0,\"#f0f921\"]]}],\"heatmap\":[{\"type\":\"heatmap\",\"colorbar\":{\"outlinewidth\":0,\"ticks\":\"\"},\"colorscale\":[[0.0,\"#0d0887\"],[0.1111111111111111,\"#46039f\"],[0.2222222222222222,\"#7201a8\"],[0.3333333333333333,\"#9c179e\"],[0.4444444444444444,\"#bd3786\"],[0.5555555555555556,\"#d8576b\"],[0.6666666666666666,\"#ed7953\"],[0.7777777777777778,\"#fb9f3a\"],[0.8888888888888888,\"#fdca26\"],[1.0,\"#f0f921\"]]}],\"heatmapgl\":[{\"type\":\"heatmapgl\",\"colorbar\":{\"outlinewidth\":0,\"ticks\":\"\"},\"colorscale\":[[0.0,\"#0d0887\"],[0.1111111111111111,\"#46039f\"],[0.2222222222222222,\"#7201a8\"],[0.3333333333333333,\"#9c179e\"],[0.4444444444444444,\"#bd3786\"],[0.5555555555555556,\"#d8576b\"],[0.6666666666666666,\"#ed7953\"],[0.7777777777777778,\"#fb9f3a\"],[0.8888888888888888,\"#fdca26\"],[1.0,\"#f0f921\"]]}],\"contourcarpet\":[{\"type\":\"contourcarpet\",\"colorbar\":{\"outlinewidth\":0,\"ticks\":\"\"}}],\"contour\":[{\"type\":\"contour\",\"colorbar\":{\"outlinewidth\":0,\"ticks\":\"\"},\"colorscale\":[[0.0,\"#0d0887\"],[0.1111111111111111,\"#46039f\"],[0.2222222222222222,\"#7201a8\"],[0.3333333333333333,\"#9c179e\"],[0.4444444444444444,\"#bd3786\"],[0.5555555555555556,\"#d8576b\"],[0.6666666666666666,\"#ed7953\"],[0.7777777777777778,\"#fb9f3a\"],[0.8888888888888888,\"#fdca26\"],[1.0,\"#f0f921\"]]}],\"surface\":[{\"type\":\"surface\",\"colorbar\":{\"outlinewidth\":0,\"ticks\":\"\"},\"colorscale\":[[0.0,\"#0d0887\"],[0.1111111111111111,\"#46039f\"],[0.2222222222222222,\"#7201a8\"],[0.3333333333333333,\"#9c179e\"],[0.4444444444444444,\"#bd3786\"],[0.5555555555555556,\"#d8576b\"],[0.6666666666666666,\"#ed7953\"],[0.7777777777777778,\"#fb9f3a\"],[0.8888888888888888,\"#fdca26\"],[1.0,\"#f0f921\"]]}],\"mesh3d\":[{\"type\":\"mesh3d\",\"colorbar\":{\"outlinewidth\":0,\"ticks\":\"\"}}],\"scatter\":[{\"fillpattern\":{\"fillmode\":\"overlay\",\"size\":10,\"solidity\":0.2},\"type\":\"scatter\"}],\"parcoords\":[{\"type\":\"parcoords\",\"line\":{\"colorbar\":{\"outlinewidth\":0,\"ticks\":\"\"}}}],\"scatterpolargl\":[{\"type\":\"scatterpolargl\",\"marker\":{\"colorbar\":{\"outlinewidth\":0,\"ticks\":\"\"}}}],\"bar\":[{\"error_x\":{\"color\":\"#2a3f5f\"},\"error_y\":{\"color\":\"#2a3f5f\"},\"marker\":{\"line\":{\"color\":\"#E5ECF6\",\"width\":0.5},\"pattern\":{\"fillmode\":\"overlay\",\"size\":10,\"solidity\":0.2}},\"type\":\"bar\"}],\"scattergeo\":[{\"type\":\"scattergeo\",\"marker\":{\"colorbar\":{\"outlinewidth\":0,\"ticks\":\"\"}}}],\"scatterpolar\":[{\"type\":\"scatterpolar\",\"marker\":{\"colorbar\":{\"outlinewidth\":0,\"ticks\":\"\"}}}],\"histogram\":[{\"marker\":{\"pattern\":{\"fillmode\":\"overlay\",\"size\":10,\"solidity\":0.2}},\"type\":\"histogram\"}],\"scattergl\":[{\"type\":\"scattergl\",\"marker\":{\"colorbar\":{\"outlinewidth\":0,\"ticks\":\"\"}}}],\"scatter3d\":[{\"type\":\"scatter3d\",\"line\":{\"colorbar\":{\"outlinewidth\":0,\"ticks\":\"\"}},\"marker\":{\"colorbar\":{\"outlinewidth\":0,\"ticks\":\"\"}}}],\"scattermapbox\":[{\"type\":\"scattermapbox\",\"marker\":{\"colorbar\":{\"outlinewidth\":0,\"ticks\":\"\"}}}],\"scatterternary\":[{\"type\":\"scatterternary\",\"marker\":{\"colorbar\":{\"outlinewidth\":0,\"ticks\":\"\"}}}],\"scattercarpet\":[{\"type\":\"scattercarpet\",\"marker\":{\"colorbar\":{\"outlinewidth\":0,\"ticks\":\"\"}}}],\"carpet\":[{\"aaxis\":{\"endlinecolor\":\"#2a3f5f\",\"gridcolor\":\"white\",\"linecolor\":\"white\",\"minorgridcolor\":\"white\",\"startlinecolor\":\"#2a3f5f\"},\"baxis\":{\"endlinecolor\":\"#2a3f5f\",\"gridcolor\":\"white\",\"linecolor\":\"white\",\"minorgridcolor\":\"white\",\"startlinecolor\":\"#2a3f5f\"},\"type\":\"carpet\"}],\"table\":[{\"cells\":{\"fill\":{\"color\":\"#EBF0F8\"},\"line\":{\"color\":\"white\"}},\"header\":{\"fill\":{\"color\":\"#C8D4E3\"},\"line\":{\"color\":\"white\"}},\"type\":\"table\"}],\"barpolar\":[{\"marker\":{\"line\":{\"color\":\"#E5ECF6\",\"width\":0.5},\"pattern\":{\"fillmode\":\"overlay\",\"size\":10,\"solidity\":0.2}},\"type\":\"barpolar\"}],\"pie\":[{\"automargin\":true,\"type\":\"pie\"}]},\"layout\":{\"autotypenumbers\":\"strict\",\"colorway\":[\"#636efa\",\"#EF553B\",\"#00cc96\",\"#ab63fa\",\"#FFA15A\",\"#19d3f3\",\"#FF6692\",\"#B6E880\",\"#FF97FF\",\"#FECB52\"],\"font\":{\"color\":\"#2a3f5f\"},\"hovermode\":\"closest\",\"hoverlabel\":{\"align\":\"left\"},\"paper_bgcolor\":\"white\",\"plot_bgcolor\":\"#E5ECF6\",\"polar\":{\"bgcolor\":\"#E5ECF6\",\"angularaxis\":{\"gridcolor\":\"white\",\"linecolor\":\"white\",\"ticks\":\"\"},\"radialaxis\":{\"gridcolor\":\"white\",\"linecolor\":\"white\",\"ticks\":\"\"}},\"ternary\":{\"bgcolor\":\"#E5ECF6\",\"aaxis\":{\"gridcolor\":\"white\",\"linecolor\":\"white\",\"ticks\":\"\"},\"baxis\":{\"gridcolor\":\"white\",\"linecolor\":\"white\",\"ticks\":\"\"},\"caxis\":{\"gridcolor\":\"white\",\"linecolor\":\"white\",\"ticks\":\"\"}},\"coloraxis\":{\"colorbar\":{\"outlinewidth\":0,\"ticks\":\"\"}},\"colorscale\":{\"sequential\":[[0.0,\"#0d0887\"],[0.1111111111111111,\"#46039f\"],[0.2222222222222222,\"#7201a8\"],[0.3333333333333333,\"#9c179e\"],[0.4444444444444444,\"#bd3786\"],[0.5555555555555556,\"#d8576b\"],[0.6666666666666666,\"#ed7953\"],[0.7777777777777778,\"#fb9f3a\"],[0.8888888888888888,\"#fdca26\"],[1.0,\"#f0f921\"]],\"sequentialminus\":[[0.0,\"#0d0887\"],[0.1111111111111111,\"#46039f\"],[0.2222222222222222,\"#7201a8\"],[0.3333333333333333,\"#9c179e\"],[0.4444444444444444,\"#bd3786\"],[0.5555555555555556,\"#d8576b\"],[0.6666666666666666,\"#ed7953\"],[0.7777777777777778,\"#fb9f3a\"],[0.8888888888888888,\"#fdca26\"],[1.0,\"#f0f921\"]],\"diverging\":[[0,\"#8e0152\"],[0.1,\"#c51b7d\"],[0.2,\"#de77ae\"],[0.3,\"#f1b6da\"],[0.4,\"#fde0ef\"],[0.5,\"#f7f7f7\"],[0.6,\"#e6f5d0\"],[0.7,\"#b8e186\"],[0.8,\"#7fbc41\"],[0.9,\"#4d9221\"],[1,\"#276419\"]]},\"xaxis\":{\"gridcolor\":\"white\",\"linecolor\":\"white\",\"ticks\":\"\",\"title\":{\"standoff\":15},\"zerolinecolor\":\"white\",\"automargin\":true,\"zerolinewidth\":2},\"yaxis\":{\"gridcolor\":\"white\",\"linecolor\":\"white\",\"ticks\":\"\",\"title\":{\"standoff\":15},\"zerolinecolor\":\"white\",\"automargin\":true,\"zerolinewidth\":2},\"scene\":{\"xaxis\":{\"backgroundcolor\":\"#E5ECF6\",\"gridcolor\":\"white\",\"linecolor\":\"white\",\"showbackground\":true,\"ticks\":\"\",\"zerolinecolor\":\"white\",\"gridwidth\":2},\"yaxis\":{\"backgroundcolor\":\"#E5ECF6\",\"gridcolor\":\"white\",\"linecolor\":\"white\",\"showbackground\":true,\"ticks\":\"\",\"zerolinecolor\":\"white\",\"gridwidth\":2},\"zaxis\":{\"backgroundcolor\":\"#E5ECF6\",\"gridcolor\":\"white\",\"linecolor\":\"white\",\"showbackground\":true,\"ticks\":\"\",\"zerolinecolor\":\"white\",\"gridwidth\":2}},\"shapedefaults\":{\"line\":{\"color\":\"#2a3f5f\"}},\"annotationdefaults\":{\"arrowcolor\":\"#2a3f5f\",\"arrowhead\":0,\"arrowwidth\":1},\"geo\":{\"bgcolor\":\"white\",\"landcolor\":\"#E5ECF6\",\"subunitcolor\":\"white\",\"showland\":true,\"showlakes\":true,\"lakecolor\":\"white\"},\"title\":{\"x\":0.05},\"mapbox\":{\"style\":\"light\"}}},\"xaxis\":{\"anchor\":\"y\",\"domain\":[0.0,0.45],\"title\":{\"text\":\"formularios enviados\"}},\"yaxis\":{\"anchor\":\"x\",\"domain\":[0.625,1.0],\"title\":{\"text\":\"Frecuencia\"}},\"xaxis2\":{\"anchor\":\"y2\",\"domain\":[0.55,1.0],\"title\":{\"text\":\"visitas a la pagina\"}},\"yaxis2\":{\"anchor\":\"x2\",\"domain\":[0.625,1.0],\"title\":{\"text\":\"Frecuencia\"}},\"xaxis3\":{\"anchor\":\"y3\",\"domain\":[0.0,0.45],\"title\":{\"text\":\"interacciones varias\"}},\"yaxis3\":{\"anchor\":\"x3\",\"domain\":[0.0,0.375],\"title\":{\"text\":\"Frecuencia\"}},\"xaxis4\":{\"anchor\":\"y4\",\"domain\":[0.55,1.0],\"title\":{\"text\":\"aperturas de correo\"}},\"yaxis4\":{\"anchor\":\"x4\",\"domain\":[0.0,0.375],\"title\":{\"text\":\"Frecuencia\"}},\"annotations\":[{\"font\":{\"size\":16},\"showarrow\":false,\"text\":\"formularios enviados\",\"x\":0.225,\"xanchor\":\"center\",\"xref\":\"paper\",\"y\":1.0,\"yanchor\":\"bottom\",\"yref\":\"paper\"},{\"font\":{\"size\":16},\"showarrow\":false,\"text\":\"visitas a la pagina\",\"x\":0.775,\"xanchor\":\"center\",\"xref\":\"paper\",\"y\":1.0,\"yanchor\":\"bottom\",\"yref\":\"paper\"},{\"font\":{\"size\":16},\"showarrow\":false,\"text\":\"interacciones varias\",\"x\":0.225,\"xanchor\":\"center\",\"xref\":\"paper\",\"y\":0.375,\"yanchor\":\"bottom\",\"yref\":\"paper\"},{\"font\":{\"size\":16},\"showarrow\":false,\"text\":\"aperturas de correo\",\"x\":0.775,\"xanchor\":\"center\",\"xref\":\"paper\",\"y\":0.375,\"yanchor\":\"bottom\",\"yref\":\"paper\"}],\"title\":{\"text\":\"Distribución de las variables numéricas\"},\"height\":600,\"showlegend\":false,\"bargap\":0.15,\"bargroupgap\":0.1},                        {\"responsive\": true}                    ).then(function(){\n",
       "                            \n",
       "var gd = document.getElementById('21c2f2f9-5ef9-465d-91cb-236410ed168c');\n",
       "var x = new MutationObserver(function (mutations, observer) {{\n",
       "        var display = window.getComputedStyle(gd).display;\n",
       "        if (!display || display === 'none') {{\n",
       "            console.log([gd, 'removed!']);\n",
       "            Plotly.purge(gd);\n",
       "            observer.disconnect();\n",
       "        }}\n",
       "}});\n",
       "\n",
       "// Listen for the removal of the full notebook cells\n",
       "var notebookContainer = gd.closest('#notebook-container');\n",
       "if (notebookContainer) {{\n",
       "    x.observe(notebookContainer, {childList: true});\n",
       "}}\n",
       "\n",
       "// Listen for the clearing of the current output cell\n",
       "var outputEl = gd.closest('.output');\n",
       "if (outputEl) {{\n",
       "    x.observe(outputEl, {childList: true});\n",
       "}}\n",
       "\n",
       "                        })                };                });            </script>        </div>"
      ]
     },
     "metadata": {},
     "output_type": "display_data"
    }
   ],
   "source": [
    "import plotly.graph_objects as go\n",
    "from plotly.subplots import make_subplots\n",
    "import math\n",
    "# Definir las columnas numéricas\n",
    "num_columns = ['formularios enviados', 'visitas a la pagina', 'interacciones varias' , 'aperturas de correo']\n",
    "# Calcular filas y columnas para subplot\n",
    "n_cols = 2\n",
    "n_rows = math.ceil(len(num_columns) / n_cols)\n",
    "fig = make_subplots(rows=n_rows, cols=n_cols, subplot_titles=num_columns)\n",
    "# Histogramas para cada variable numérica\n",
    "for i, col in enumerate(num_columns):\n",
    "    curr_row = i // n_cols + 1\n",
    "    curr_col = i % n_cols + 1\n",
    "    fig.add_trace(go.Histogram(\n",
    "        x=df[col],\n",
    "        name=col,\n",
    "        marker_color='rgb(55, 83, 109)',\n",
    "        nbinsx=50  # Ajustar el número de bins\n",
    "    ), row=curr_row, col=curr_col)\n",
    "    # Título y etiquetas de ejes\n",
    "    fig.update_xaxes(title_text=col, row=curr_row, col=curr_col)\n",
    "    fig.update_yaxes(title_text=\"Frecuencia\", row=curr_row, col=curr_col)\n",
    "# Actualizar layout\n",
    "fig.update_layout(\n",
    "    title_text='Distribución de las variables numéricas',\n",
    "    height=300 * n_rows,  # Reducir la altura aquí para eliminar el espacio en blanco\n",
    "    showlegend=False,\n",
    "    bargap=0.15, \n",
    "    bargroupgap=0.1\n",
    ")\n",
    "fig.show()\n"
   ]
  },
  {
   "cell_type": "markdown",
   "id": "ff2a7023",
   "metadata": {
    "papermill": {
     "duration": 0.022674,
     "end_time": "2023-06-02T00:23:06.464760",
     "exception": false,
     "start_time": "2023-06-02T00:23:06.442086",
     "status": "completed"
    },
    "tags": []
   },
   "source": [
    "<div style=\"border-radius:13px; border:#FFB800 solid; padding: 15px; background-color: #FAFFFF; font-size:105%; text-align:left\">\n",
    "    \n",
    "* Calculamos la matriz de correlación\n"
   ]
  },
  {
   "cell_type": "code",
   "execution_count": 22,
   "id": "adbd2774",
   "metadata": {
    "_kg_hide-input": true,
    "execution": {
     "iopub.execute_input": "2023-06-02T00:23:06.512920Z",
     "iopub.status.busy": "2023-06-02T00:23:06.512024Z",
     "iopub.status.idle": "2023-06-02T00:23:07.046228Z",
     "shell.execute_reply": "2023-06-02T00:23:07.045269Z"
    },
    "jupyter": {
     "source_hidden": true
    },
    "papermill": {
     "duration": 0.562544,
     "end_time": "2023-06-02T00:23:07.050033",
     "exception": false,
     "start_time": "2023-06-02T00:23:06.487489",
     "status": "completed"
    },
    "tags": []
   },
   "outputs": [
    {
     "data": {
      "text/plain": [
       "<Axes: >"
      ]
     },
     "execution_count": 22,
     "metadata": {},
     "output_type": "execute_result"
    },
    {
     "data": {
      "image/png": "[encoded data removed]",
      "text/plain": [
       "<Figure size 640x480 with 2 Axes>"
      ]
     },
     "metadata": {},
     "output_type": "display_data"
    }
   ],
   "source": [
    "correlation_matrix = df[['formularios enviados', 'visitas a la pagina', 'interacciones varias' , 'aperturas de correo']].corr()\n",
    "sns.heatmap(correlation_matrix, annot=True)\n"
   ]
  },
  {
   "cell_type": "markdown",
   "id": "061a6642",
   "metadata": {
    "papermill": {
     "duration": 0.023514,
     "end_time": "2023-06-02T00:23:07.097421",
     "exception": false,
     "start_time": "2023-06-02T00:23:07.073907",
     "status": "completed"
    },
    "tags": []
   },
   "source": [
    "<div style=\"border-radius:13px; border:#FFB800 solid; padding: 15px; background-color: #FAFFFF; font-size:105%; text-align:left\">\n",
    "\n",
    "* Visitas a la pagina es una instancia previa en el embudo de ventas y tiene una correlacion significativa con envios de formularios.\n",
    "\n",
    "* A pesar de las similitudes son instancias diferentes y considero relevante diferenciarlas en el modelo."
   ]
  },
  {
   "cell_type": "markdown",
   "id": "250de197",
   "metadata": {
    "papermill": {
     "duration": 0.023634,
     "end_time": "2023-06-02T00:23:07.144545",
     "exception": false,
     "start_time": "2023-06-02T00:23:07.120911",
     "status": "completed"
    },
    "tags": []
   },
   "source": [
    "<p style=\"font-family:JetBrains Mono; font-weight:bold; letter-spacing: 2px; color:#05041B; font-size:140%; text-align:left;padding: 0px; border-bottom: 3px solid #FFB800\"></p>"
   ]
  },
  {
   "cell_type": "markdown",
   "id": "22b173b1",
   "metadata": {
    "papermill": {
     "duration": 0.022933,
     "end_time": "2023-06-02T00:23:07.190781",
     "exception": false,
     "start_time": "2023-06-02T00:23:07.167848",
     "status": "completed"
    },
    "tags": []
   },
   "source": [
    "<div style=\"border-radius:13px; border:#FFB800 solid; padding: 15px; background-color: #FAFFFF; font-size:100%; text-align:left\">\n",
    "    \n",
    "<h3 align=\"left\"><font color='#05041B'>\n",
    "</font>🧪 Variable Objetivo (Estado actual del lead : \"v_target\")</h3>"
   ]
  },
  {
   "cell_type": "markdown",
   "id": "49927d1e",
   "metadata": {
    "papermill": {
     "duration": 0.022904,
     "end_time": "2023-06-02T00:23:07.237024",
     "exception": false,
     "start_time": "2023-06-02T00:23:07.214120",
     "status": "completed"
    },
    "tags": []
   },
   "source": [
    "<div style=\"border-radius:13px; border:#FFB800 solid; padding: 15px; background-color: #FAFFFF; font-size:105%; text-align:left\">\n",
    "\n",
    "*  Debido a que una cantidad mayor de clases en la columna objetivo puede requerir mayor dificultad al entrenar cualquier modelo y sobre todo una gran cantidad de datos\n",
    "*  La columna objetivo sera de clase binaria, agrupadas de la siguiente manera:\n",
    "*  Primero, contamos la cantidad de valores únicos en columna 'v_target'"
   ]
  },
  {
   "cell_type": "code",
   "execution_count": 23,
   "id": "cb371a3d",
   "metadata": {
    "_kg_hide-input": true,
    "execution": {
     "iopub.execute_input": "2023-06-02T00:23:07.300345Z",
     "iopub.status.busy": "2023-06-02T00:23:07.299338Z",
     "iopub.status.idle": "2023-06-02T00:23:07.365060Z",
     "shell.execute_reply": "2023-06-02T00:23:07.363911Z"
    },
    "jupyter": {
     "source_hidden": true
    },
    "papermill": {
     "duration": 0.103523,
     "end_time": "2023-06-02T00:23:07.367587",
     "exception": false,
     "start_time": "2023-06-02T00:23:07.264064",
     "status": "completed"
    },
    "tags": []
   },
   "outputs": [
    {
     "data": {
      "text/html": [
       "<div>                            <div id=\"d6a062e4-5062-4d39-8af5-debef75e6a64\" class=\"plotly-graph-div\" style=\"height:525px; width:100%;\"></div>            <script type=\"text/javascript\">                require([\"plotly\"], function(Plotly) {                    window.PLOTLYENV=window.PLOTLYENV || {};                                    if (document.getElementById(\"d6a062e4-5062-4d39-8af5-debef75e6a64\")) {                    Plotly.newPlot(                        \"d6a062e4-5062-4d39-8af5-debef75e6a64\",                        [{\"alignmentgroup\":\"True\",\"hovertemplate\":\"v_target=%{x}<br>Frecuencia=%{y}<extra></extra>\",\"legendgroup\":\"\",\"marker\":{\"color\":\"#064572\",\"pattern\":{\"shape\":\"\"}},\"name\":\"\",\"offsetgroup\":\"\",\"orientation\":\"v\",\"showlegend\":false,\"textposition\":\"auto\",\"x\":[\"no va a invertir\",\"capital insuficiente\",\"imposible de contactar\",\"en seguimiento\",\"mala calidad\",\"no solicito información\",\"calificado para la compra\",\"intentando contacto\",\"zona no disponible\",\"clientes\",\"crowdfunding\",\"--\",\"remarketing\"],\"xaxis\":\"x\",\"y\":[571,477,318,144,124,58,48,26,20,6,2,2,1],\"yaxis\":\"y\",\"type\":\"bar\"}],                        {\"template\":{\"data\":{\"histogram2dcontour\":[{\"type\":\"histogram2dcontour\",\"colorbar\":{\"outlinewidth\":0,\"ticks\":\"\"},\"colorscale\":[[0.0,\"#0d0887\"],[0.1111111111111111,\"#46039f\"],[0.2222222222222222,\"#7201a8\"],[0.3333333333333333,\"#9c179e\"],[0.4444444444444444,\"#bd3786\"],[0.5555555555555556,\"#d8576b\"],[0.6666666666666666,\"#ed7953\"],[0.7777777777777778,\"#fb9f3a\"],[0.8888888888888888,\"#fdca26\"],[1.0,\"#f0f921\"]]}],\"choropleth\":[{\"type\":\"choropleth\",\"colorbar\":{\"outlinewidth\":0,\"ticks\":\"\"}}],\"histogram2d\":[{\"type\":\"histogram2d\",\"colorbar\":{\"outlinewidth\":0,\"ticks\":\"\"},\"colorscale\":[[0.0,\"#0d0887\"],[0.1111111111111111,\"#46039f\"],[0.2222222222222222,\"#7201a8\"],[0.3333333333333333,\"#9c179e\"],[0.4444444444444444,\"#bd3786\"],[0.5555555555555556,\"#d8576b\"],[0.6666666666666666,\"#ed7953\"],[0.7777777777777778,\"#fb9f3a\"],[0.8888888888888888,\"#fdca26\"],[1.0,\"#f0f921\"]]}],\"heatmap\":[{\"type\":\"heatmap\",\"colorbar\":{\"outlinewidth\":0,\"ticks\":\"\"},\"colorscale\":[[0.0,\"#0d0887\"],[0.1111111111111111,\"#46039f\"],[0.2222222222222222,\"#7201a8\"],[0.3333333333333333,\"#9c179e\"],[0.4444444444444444,\"#bd3786\"],[0.5555555555555556,\"#d8576b\"],[0.6666666666666666,\"#ed7953\"],[0.7777777777777778,\"#fb9f3a\"],[0.8888888888888888,\"#fdca26\"],[1.0,\"#f0f921\"]]}],\"heatmapgl\":[{\"type\":\"heatmapgl\",\"colorbar\":{\"outlinewidth\":0,\"ticks\":\"\"},\"colorscale\":[[0.0,\"#0d0887\"],[0.1111111111111111,\"#46039f\"],[0.2222222222222222,\"#7201a8\"],[0.3333333333333333,\"#9c179e\"],[0.4444444444444444,\"#bd3786\"],[0.5555555555555556,\"#d8576b\"],[0.6666666666666666,\"#ed7953\"],[0.7777777777777778,\"#fb9f3a\"],[0.8888888888888888,\"#fdca26\"],[1.0,\"#f0f921\"]]}],\"contourcarpet\":[{\"type\":\"contourcarpet\",\"colorbar\":{\"outlinewidth\":0,\"ticks\":\"\"}}],\"contour\":[{\"type\":\"contour\",\"colorbar\":{\"outlinewidth\":0,\"ticks\":\"\"},\"colorscale\":[[0.0,\"#0d0887\"],[0.1111111111111111,\"#46039f\"],[0.2222222222222222,\"#7201a8\"],[0.3333333333333333,\"#9c179e\"],[0.4444444444444444,\"#bd3786\"],[0.5555555555555556,\"#d8576b\"],[0.6666666666666666,\"#ed7953\"],[0.7777777777777778,\"#fb9f3a\"],[0.8888888888888888,\"#fdca26\"],[1.0,\"#f0f921\"]]}],\"surface\":[{\"type\":\"surface\",\"colorbar\":{\"outlinewidth\":0,\"ticks\":\"\"},\"colorscale\":[[0.0,\"#0d0887\"],[0.1111111111111111,\"#46039f\"],[0.2222222222222222,\"#7201a8\"],[0.3333333333333333,\"#9c179e\"],[0.4444444444444444,\"#bd3786\"],[0.5555555555555556,\"#d8576b\"],[0.6666666666666666,\"#ed7953\"],[0.7777777777777778,\"#fb9f3a\"],[0.8888888888888888,\"#fdca26\"],[1.0,\"#f0f921\"]]}],\"mesh3d\":[{\"type\":\"mesh3d\",\"colorbar\":{\"outlinewidth\":0,\"ticks\":\"\"}}],\"scatter\":[{\"fillpattern\":{\"fillmode\":\"overlay\",\"size\":10,\"solidity\":0.2},\"type\":\"scatter\"}],\"parcoords\":[{\"type\":\"parcoords\",\"line\":{\"colorbar\":{\"outlinewidth\":0,\"ticks\":\"\"}}}],\"scatterpolargl\":[{\"type\":\"scatterpolargl\",\"marker\":{\"colorbar\":{\"outlinewidth\":0,\"ticks\":\"\"}}}],\"bar\":[{\"error_x\":{\"color\":\"#2a3f5f\"},\"error_y\":{\"color\":\"#2a3f5f\"},\"marker\":{\"line\":{\"color\":\"#E5ECF6\",\"width\":0.5},\"pattern\":{\"fillmode\":\"overlay\",\"size\":10,\"solidity\":0.2}},\"type\":\"bar\"}],\"scattergeo\":[{\"type\":\"scattergeo\",\"marker\":{\"colorbar\":{\"outlinewidth\":0,\"ticks\":\"\"}}}],\"scatterpolar\":[{\"type\":\"scatterpolar\",\"marker\":{\"colorbar\":{\"outlinewidth\":0,\"ticks\":\"\"}}}],\"histogram\":[{\"marker\":{\"pattern\":{\"fillmode\":\"overlay\",\"size\":10,\"solidity\":0.2}},\"type\":\"histogram\"}],\"scattergl\":[{\"type\":\"scattergl\",\"marker\":{\"colorbar\":{\"outlinewidth\":0,\"ticks\":\"\"}}}],\"scatter3d\":[{\"type\":\"scatter3d\",\"line\":{\"colorbar\":{\"outlinewidth\":0,\"ticks\":\"\"}},\"marker\":{\"colorbar\":{\"outlinewidth\":0,\"ticks\":\"\"}}}],\"scattermapbox\":[{\"type\":\"scattermapbox\",\"marker\":{\"colorbar\":{\"outlinewidth\":0,\"ticks\":\"\"}}}],\"scatterternary\":[{\"type\":\"scatterternary\",\"marker\":{\"colorbar\":{\"outlinewidth\":0,\"ticks\":\"\"}}}],\"scattercarpet\":[{\"type\":\"scattercarpet\",\"marker\":{\"colorbar\":{\"outlinewidth\":0,\"ticks\":\"\"}}}],\"carpet\":[{\"aaxis\":{\"endlinecolor\":\"#2a3f5f\",\"gridcolor\":\"white\",\"linecolor\":\"white\",\"minorgridcolor\":\"white\",\"startlinecolor\":\"#2a3f5f\"},\"baxis\":{\"endlinecolor\":\"#2a3f5f\",\"gridcolor\":\"white\",\"linecolor\":\"white\",\"minorgridcolor\":\"white\",\"startlinecolor\":\"#2a3f5f\"},\"type\":\"carpet\"}],\"table\":[{\"cells\":{\"fill\":{\"color\":\"#EBF0F8\"},\"line\":{\"color\":\"white\"}},\"header\":{\"fill\":{\"color\":\"#C8D4E3\"},\"line\":{\"color\":\"white\"}},\"type\":\"table\"}],\"barpolar\":[{\"marker\":{\"line\":{\"color\":\"#E5ECF6\",\"width\":0.5},\"pattern\":{\"fillmode\":\"overlay\",\"size\":10,\"solidity\":0.2}},\"type\":\"barpolar\"}],\"pie\":[{\"automargin\":true,\"type\":\"pie\"}]},\"layout\":{\"autotypenumbers\":\"strict\",\"colorway\":[\"#636efa\",\"#EF553B\",\"#00cc96\",\"#ab63fa\",\"#FFA15A\",\"#19d3f3\",\"#FF6692\",\"#B6E880\",\"#FF97FF\",\"#FECB52\"],\"font\":{\"color\":\"#2a3f5f\"},\"hovermode\":\"closest\",\"hoverlabel\":{\"align\":\"left\"},\"paper_bgcolor\":\"white\",\"plot_bgcolor\":\"#E5ECF6\",\"polar\":{\"bgcolor\":\"#E5ECF6\",\"angularaxis\":{\"gridcolor\":\"white\",\"linecolor\":\"white\",\"ticks\":\"\"},\"radialaxis\":{\"gridcolor\":\"white\",\"linecolor\":\"white\",\"ticks\":\"\"}},\"ternary\":{\"bgcolor\":\"#E5ECF6\",\"aaxis\":{\"gridcolor\":\"white\",\"linecolor\":\"white\",\"ticks\":\"\"},\"baxis\":{\"gridcolor\":\"white\",\"linecolor\":\"white\",\"ticks\":\"\"},\"caxis\":{\"gridcolor\":\"white\",\"linecolor\":\"white\",\"ticks\":\"\"}},\"coloraxis\":{\"colorbar\":{\"outlinewidth\":0,\"ticks\":\"\"}},\"colorscale\":{\"sequential\":[[0.0,\"#0d0887\"],[0.1111111111111111,\"#46039f\"],[0.2222222222222222,\"#7201a8\"],[0.3333333333333333,\"#9c179e\"],[0.4444444444444444,\"#bd3786\"],[0.5555555555555556,\"#d8576b\"],[0.6666666666666666,\"#ed7953\"],[0.7777777777777778,\"#fb9f3a\"],[0.8888888888888888,\"#fdca26\"],[1.0,\"#f0f921\"]],\"sequentialminus\":[[0.0,\"#0d0887\"],[0.1111111111111111,\"#46039f\"],[0.2222222222222222,\"#7201a8\"],[0.3333333333333333,\"#9c179e\"],[0.4444444444444444,\"#bd3786\"],[0.5555555555555556,\"#d8576b\"],[0.6666666666666666,\"#ed7953\"],[0.7777777777777778,\"#fb9f3a\"],[0.8888888888888888,\"#fdca26\"],[1.0,\"#f0f921\"]],\"diverging\":[[0,\"#8e0152\"],[0.1,\"#c51b7d\"],[0.2,\"#de77ae\"],[0.3,\"#f1b6da\"],[0.4,\"#fde0ef\"],[0.5,\"#f7f7f7\"],[0.6,\"#e6f5d0\"],[0.7,\"#b8e186\"],[0.8,\"#7fbc41\"],[0.9,\"#4d9221\"],[1,\"#276419\"]]},\"xaxis\":{\"gridcolor\":\"white\",\"linecolor\":\"white\",\"ticks\":\"\",\"title\":{\"standoff\":15},\"zerolinecolor\":\"white\",\"automargin\":true,\"zerolinewidth\":2},\"yaxis\":{\"gridcolor\":\"white\",\"linecolor\":\"white\",\"ticks\":\"\",\"title\":{\"standoff\":15},\"zerolinecolor\":\"white\",\"automargin\":true,\"zerolinewidth\":2},\"scene\":{\"xaxis\":{\"backgroundcolor\":\"#E5ECF6\",\"gridcolor\":\"white\",\"linecolor\":\"white\",\"showbackground\":true,\"ticks\":\"\",\"zerolinecolor\":\"white\",\"gridwidth\":2},\"yaxis\":{\"backgroundcolor\":\"#E5ECF6\",\"gridcolor\":\"white\",\"linecolor\":\"white\",\"showbackground\":true,\"ticks\":\"\",\"zerolinecolor\":\"white\",\"gridwidth\":2},\"zaxis\":{\"backgroundcolor\":\"#E5ECF6\",\"gridcolor\":\"white\",\"linecolor\":\"white\",\"showbackground\":true,\"ticks\":\"\",\"zerolinecolor\":\"white\",\"gridwidth\":2}},\"shapedefaults\":{\"line\":{\"color\":\"#2a3f5f\"}},\"annotationdefaults\":{\"arrowcolor\":\"#2a3f5f\",\"arrowhead\":0,\"arrowwidth\":1},\"geo\":{\"bgcolor\":\"white\",\"landcolor\":\"#E5ECF6\",\"subunitcolor\":\"white\",\"showland\":true,\"showlakes\":true,\"lakecolor\":\"white\"},\"title\":{\"x\":0.05},\"mapbox\":{\"style\":\"light\"}}},\"xaxis\":{\"anchor\":\"y\",\"domain\":[0.0,1.0],\"title\":{\"text\":\"v_target\"}},\"yaxis\":{\"anchor\":\"x\",\"domain\":[0.0,1.0],\"title\":{\"text\":\"Frecuencia\"}},\"legend\":{\"tracegroupgap\":0},\"title\":{\"text\":\"Distribucion de valores Variable Objetivo (v_target)\"},\"barmode\":\"relative\"},                        {\"responsive\": true}                    ).then(function(){\n",
       "                            \n",
       "var gd = document.getElementById('d6a062e4-5062-4d39-8af5-debef75e6a64');\n",
       "var x = new MutationObserver(function (mutations, observer) {{\n",
       "        var display = window.getComputedStyle(gd).display;\n",
       "        if (!display || display === 'none') {{\n",
       "            console.log([gd, 'removed!']);\n",
       "            Plotly.purge(gd);\n",
       "            observer.disconnect();\n",
       "        }}\n",
       "}});\n",
       "\n",
       "// Listen for the removal of the full notebook cells\n",
       "var notebookContainer = gd.closest('#notebook-container');\n",
       "if (notebookContainer) {{\n",
       "    x.observe(notebookContainer, {childList: true});\n",
       "}}\n",
       "\n",
       "// Listen for the clearing of the current output cell\n",
       "var outputEl = gd.closest('.output');\n",
       "if (outputEl) {{\n",
       "    x.observe(outputEl, {childList: true});\n",
       "}}\n",
       "\n",
       "                        })                };                });            </script>        </div>"
      ]
     },
     "metadata": {},
     "output_type": "display_data"
    }
   ],
   "source": [
    "eleadcount = df['v_target'].value_counts().head(20)\n",
    "fig_bar = px.bar(x=eleadcount.index, y=eleadcount, labels={'x': 'v_target', 'y': 'Frecuencia'}, title='Distribucion de valores Variable Objetivo (v_target)', color_discrete_sequence=colors)\n",
    "fig_bar.show()"
   ]
  },
  {
   "cell_type": "markdown",
   "id": "0adc1d31",
   "metadata": {
    "papermill": {
     "duration": 0.02375,
     "end_time": "2023-06-02T00:23:07.416824",
     "exception": false,
     "start_time": "2023-06-02T00:23:07.393074",
     "status": "completed"
    },
    "tags": []
   },
   "source": [
    "<div style=\"border-radius:13px; border:#FFB800 solid; padding: 15px; background-color: #FAFFFF; font-size:105%; text-align:left\">\n",
    "\n",
    "\n",
    "* Preparando la data para el modelo, en **v_target** defino las clases en en binarias separando ambas en **\"opportunity_lead\"** y **\"unqualified_lead    \"**\n"
   ]
  },
  {
   "cell_type": "code",
   "execution_count": 24,
   "id": "9bf04f14",
   "metadata": {
    "_kg_hide-input": true,
    "execution": {
     "iopub.execute_input": "2023-06-02T00:23:07.466325Z",
     "iopub.status.busy": "2023-06-02T00:23:07.465930Z",
     "iopub.status.idle": "2023-06-02T00:23:07.480718Z",
     "shell.execute_reply": "2023-06-02T00:23:07.479701Z"
    },
    "jupyter": {
     "source_hidden": true
    },
    "papermill": {
     "duration": 0.042248,
     "end_time": "2023-06-02T00:23:07.482760",
     "exception": false,
     "start_time": "2023-06-02T00:23:07.440512",
     "status": "completed"
    },
    "tags": []
   },
   "outputs": [
    {
     "name": "stdout",
     "output_type": "stream",
     "text": [
      "v_target en clases binarias, a usar en el modelo \n",
      "unqualified_lead    1577\n",
      "opportunity_lead     198\n",
      "Name: v_target, dtype: int64\n"
     ]
    }
   ],
   "source": [
    "def crear_clase_binaria (valor):  \n",
    "    opportunity_lead = ['en seguimiento', 'calificado para la compra', 'clientes']\n",
    "    unqualified_lead = ['capital insuficiente', 'mala calidad', 'imposible de contactar','no solicito información', 'aun sin respuesta', 'intentando contacto', 'no va a invertir', 'crowdfunding', 'formulario', 'remarketing']   \n",
    "    if valor in opportunity_lead:\n",
    "        return 'opportunity_lead'\n",
    "    elif valor in  unqualified_lead:\n",
    "        return 'unqualified_lead'\n",
    "    else:\n",
    "        return np.nan\n",
    "    \n",
    "    if valor in opportunity_lead:\n",
    "        return 'opportunity_lead'\n",
    "    elif valor in  unqualified_lead:\n",
    "        return 'unqualified_lead'\n",
    "    else:\n",
    "        return np.nan\n",
    "df['v_target'] = df['v_target'].apply(crear_clase_binaria)\n",
    "df = df.dropna(subset=['v_target'])\n",
    "print ('v_target en clases binarias, a usar en el modelo ')\n",
    "print (df['v_target'].value_counts())"
   ]
  },
  {
   "cell_type": "markdown",
   "id": "eb8fb4c0",
   "metadata": {
    "papermill": {
     "duration": 0.023642,
     "end_time": "2023-06-02T00:23:07.530766",
     "exception": false,
     "start_time": "2023-06-02T00:23:07.507124",
     "status": "completed"
    },
    "tags": []
   },
   "source": [
    "<div style=\"border-radius:13px; border:#FFB800 solid; padding: 15px; background-color: #FAFFFF; font-size:105%; text-align:left\">\n",
    "\n",
    "* La diferencia entre los valores de cada clase es muy alta, es propio del negocio y el tipo de venta y puede ser un desafio en el modelo de predicción.\n",
    "* Utilizare SMOTE como tecnica de sobremuestreo de la clase inferior para evitar desequilibrios"
   ]
  },
  {
   "cell_type": "markdown",
   "id": "99666281",
   "metadata": {
    "papermill": {
     "duration": 0.023752,
     "end_time": "2023-06-02T00:23:07.579485",
     "exception": false,
     "start_time": "2023-06-02T00:23:07.555733",
     "status": "completed"
    },
    "tags": []
   },
   "source": [
    "### <p style=\"font-family:JetBrains Mono; font-weight:bold; letter-spacing: 2px; color:#05041B; font-size:140%; text-align:left;padding: 0px; border-bottom: 3px solid #FFB800\">🔬 Step 4 Data Definition</p>"
   ]
  },
  {
   "cell_type": "markdown",
   "id": "0c050193",
   "metadata": {
    "papermill": {
     "duration": 0.025353,
     "end_time": "2023-06-02T00:23:07.630149",
     "exception": false,
     "start_time": "2023-06-02T00:23:07.604796",
     "status": "completed"
    },
    "tags": []
   },
   "source": [
    "<div style=\"border-radius:13px; border:#FFB800 solid; padding: 15px; background-color: #FAFFFF; font-size:100%; text-align:left\">\n",
    "\n",
    "* Relacion entre **Variables Predictoras** y **Variable Target**"
   ]
  },
  {
   "cell_type": "code",
   "execution_count": 25,
   "id": "8c474e98",
   "metadata": {
    "_kg_hide-input": true,
    "execution": {
     "iopub.execute_input": "2023-06-02T00:23:07.682230Z",
     "iopub.status.busy": "2023-06-02T00:23:07.681428Z",
     "iopub.status.idle": "2023-06-02T00:23:09.060227Z",
     "shell.execute_reply": "2023-06-02T00:23:09.059323Z"
    },
    "jupyter": {
     "source_hidden": true
    },
    "papermill": {
     "duration": 1.409071,
     "end_time": "2023-06-02T00:23:09.063234",
     "exception": false,
     "start_time": "2023-06-02T00:23:07.654163",
     "status": "completed"
    },
    "tags": []
   },
   "outputs": [
    {
     "data": {
      "image/png": "[encoded data removed]",
      "text/plain": [
       "<Figure size 800x600 with 2 Axes>"
      ]
     },
     "metadata": {},
     "output_type": "display_data"
    }
   ],
   "source": [
    "# Cramers_V\n",
    "def cramers_v(x, y):\n",
    "    confusion_matrix = pd.crosstab(x, y)\n",
    "    chi2 = ss.chi2_contingency(confusion_matrix)[0]\n",
    "    n = confusion_matrix.sum().sum()\n",
    "    phi2 = chi2 / n\n",
    "    r, k = confusion_matrix.shape\n",
    "    phi2corr = max(0, phi2 - ((k-1)*(r-1))/(n-1))\n",
    "    rcorr = r - ((r-1)**2)/(n-1)\n",
    "    kcorr = k - ((k-1)**2)/(n-1)\n",
    "    return np.sqrt(phi2corr / min((kcorr-1), (rcorr-1)))\n",
    "columns_of_interest = ['v_target','formularios enviados', 'visitas a la pagina', 'interacciones varias', 'aperturas de correo', 'franquicia', 'inversion', 'zone', 'source']\n",
    "df_selected = df[columns_of_interest]\n",
    "df_sample = df_selected.sample(frac=0.1, random_state=31)\n",
    "cramers_v_matrix = pd.DataFrame(index=columns_of_interest, columns=columns_of_interest)\n",
    "for col1 in columns_of_interest:\n",
    "    for col2 in columns_of_interest:\n",
    "        cramers_v_matrix.loc[col1, col2] = cramers_v(df_sample[col1], df_sample[col2])\n",
    "cramers_v_matrix = cramers_v_matrix.astype(float)\n",
    "plt.figure(figsize=(8, 6))\n",
    "sns.heatmap(cramers_v_matrix, annot=True, cmap=\"coolwarm\", linewidths=0.5)\n",
    "plt.title(\"Cramér's V Heatmap\")\n",
    "plt.show()"
   ]
  },
  {
   "cell_type": "markdown",
   "id": "fdb497a1",
   "metadata": {
    "papermill": {
     "duration": 0.025748,
     "end_time": "2023-06-02T00:23:09.115329",
     "exception": false,
     "start_time": "2023-06-02T00:23:09.089581",
     "status": "completed"
    },
    "tags": []
   },
   "source": [
    "<div style=\"border-radius:13px; border:#FFB800 solid; padding: 15px; background-color: #FAFFFF; font-size:105%; text-align:left\">\n",
    "\n",
    "* Es interesante notar que interacciones varias y fuente_unificada tienen una relacion considerablemente alta con la columna objetivo\n"
   ]
  },
  {
   "cell_type": "code",
   "execution_count": 26,
   "id": "0a54c35b",
   "metadata": {
    "_kg_hide-input": true,
    "execution": {
     "iopub.execute_input": "2023-06-02T00:23:09.168498Z",
     "iopub.status.busy": "2023-06-02T00:23:09.168096Z",
     "iopub.status.idle": "2023-06-02T00:23:09.191795Z",
     "shell.execute_reply": "2023-06-02T00:23:09.190723Z"
    },
    "jupyter": {
     "source_hidden": true
    },
    "papermill": {
     "duration": 0.053442,
     "end_time": "2023-06-02T00:23:09.194573",
     "exception": false,
     "start_time": "2023-06-02T00:23:09.141131",
     "status": "completed"
    },
    "tags": []
   },
   "outputs": [
    {
     "data": {
      "text/html": [
       "<div>                            <div id=\"c4ac133f-54ef-4a7e-926c-82177147991f\" class=\"plotly-graph-div\" style=\"height:525px; width:100%;\"></div>            <script type=\"text/javascript\">                require([\"plotly\"], function(Plotly) {                    window.PLOTLYENV=window.PLOTLYENV || {};                                    if (document.getElementById(\"c4ac133f-54ef-4a7e-926c-82177147991f\")) {                    Plotly.newPlot(                        \"c4ac133f-54ef-4a7e-926c-82177147991f\",                        [{\"marker\":{\"color\":\"#064572\"},\"name\":\"opportunity_lead\",\"x\":[\"búsqueda de pago\",\"búsqueda orgánica\",\"fuentes sin conexión\",\"redes sociales de pago\",\"referencias\",\"tráfico directo\",\"tráfico orgánico de redes sociales\"],\"y\":[48,37,25,22,34,22,10],\"type\":\"bar\"},{\"marker\":{\"color\":\"#A8854F\"},\"name\":\"unqualified_lead\",\"x\":[\"búsqueda de pago\",\"búsqueda orgánica\",\"email marketing\",\"fuentes sin conexión\",\"redes sociales de pago\",\"referencias\",\"tráfico directo\",\"tráfico orgánico de redes sociales\"],\"y\":[244,73,1,378,784,12,65,20],\"type\":\"bar\"}],                        {\"template\":{\"data\":{\"histogram2dcontour\":[{\"type\":\"histogram2dcontour\",\"colorbar\":{\"outlinewidth\":0,\"ticks\":\"\"},\"colorscale\":[[0.0,\"#0d0887\"],[0.1111111111111111,\"#46039f\"],[0.2222222222222222,\"#7201a8\"],[0.3333333333333333,\"#9c179e\"],[0.4444444444444444,\"#bd3786\"],[0.5555555555555556,\"#d8576b\"],[0.6666666666666666,\"#ed7953\"],[0.7777777777777778,\"#fb9f3a\"],[0.8888888888888888,\"#fdca26\"],[1.0,\"#f0f921\"]]}],\"choropleth\":[{\"type\":\"choropleth\",\"colorbar\":{\"outlinewidth\":0,\"ticks\":\"\"}}],\"histogram2d\":[{\"type\":\"histogram2d\",\"colorbar\":{\"outlinewidth\":0,\"ticks\":\"\"},\"colorscale\":[[0.0,\"#0d0887\"],[0.1111111111111111,\"#46039f\"],[0.2222222222222222,\"#7201a8\"],[0.3333333333333333,\"#9c179e\"],[0.4444444444444444,\"#bd3786\"],[0.5555555555555556,\"#d8576b\"],[0.6666666666666666,\"#ed7953\"],[0.7777777777777778,\"#fb9f3a\"],[0.8888888888888888,\"#fdca26\"],[1.0,\"#f0f921\"]]}],\"heatmap\":[{\"type\":\"heatmap\",\"colorbar\":{\"outlinewidth\":0,\"ticks\":\"\"},\"colorscale\":[[0.0,\"#0d0887\"],[0.1111111111111111,\"#46039f\"],[0.2222222222222222,\"#7201a8\"],[0.3333333333333333,\"#9c179e\"],[0.4444444444444444,\"#bd3786\"],[0.5555555555555556,\"#d8576b\"],[0.6666666666666666,\"#ed7953\"],[0.7777777777777778,\"#fb9f3a\"],[0.8888888888888888,\"#fdca26\"],[1.0,\"#f0f921\"]]}],\"heatmapgl\":[{\"type\":\"heatmapgl\",\"colorbar\":{\"outlinewidth\":0,\"ticks\":\"\"},\"colorscale\":[[0.0,\"#0d0887\"],[0.1111111111111111,\"#46039f\"],[0.2222222222222222,\"#7201a8\"],[0.3333333333333333,\"#9c179e\"],[0.4444444444444444,\"#bd3786\"],[0.5555555555555556,\"#d8576b\"],[0.6666666666666666,\"#ed7953\"],[0.7777777777777778,\"#fb9f3a\"],[0.8888888888888888,\"#fdca26\"],[1.0,\"#f0f921\"]]}],\"contourcarpet\":[{\"type\":\"contourcarpet\",\"colorbar\":{\"outlinewidth\":0,\"ticks\":\"\"}}],\"contour\":[{\"type\":\"contour\",\"colorbar\":{\"outlinewidth\":0,\"ticks\":\"\"},\"colorscale\":[[0.0,\"#0d0887\"],[0.1111111111111111,\"#46039f\"],[0.2222222222222222,\"#7201a8\"],[0.3333333333333333,\"#9c179e\"],[0.4444444444444444,\"#bd3786\"],[0.5555555555555556,\"#d8576b\"],[0.6666666666666666,\"#ed7953\"],[0.7777777777777778,\"#fb9f3a\"],[0.8888888888888888,\"#fdca26\"],[1.0,\"#f0f921\"]]}],\"surface\":[{\"type\":\"surface\",\"colorbar\":{\"outlinewidth\":0,\"ticks\":\"\"},\"colorscale\":[[0.0,\"#0d0887\"],[0.1111111111111111,\"#46039f\"],[0.2222222222222222,\"#7201a8\"],[0.3333333333333333,\"#9c179e\"],[0.4444444444444444,\"#bd3786\"],[0.5555555555555556,\"#d8576b\"],[0.6666666666666666,\"#ed7953\"],[0.7777777777777778,\"#fb9f3a\"],[0.8888888888888888,\"#fdca26\"],[1.0,\"#f0f921\"]]}],\"mesh3d\":[{\"type\":\"mesh3d\",\"colorbar\":{\"outlinewidth\":0,\"ticks\":\"\"}}],\"scatter\":[{\"fillpattern\":{\"fillmode\":\"overlay\",\"size\":10,\"solidity\":0.2},\"type\":\"scatter\"}],\"parcoords\":[{\"type\":\"parcoords\",\"line\":{\"colorbar\":{\"outlinewidth\":0,\"ticks\":\"\"}}}],\"scatterpolargl\":[{\"type\":\"scatterpolargl\",\"marker\":{\"colorbar\":{\"outlinewidth\":0,\"ticks\":\"\"}}}],\"bar\":[{\"error_x\":{\"color\":\"#2a3f5f\"},\"error_y\":{\"color\":\"#2a3f5f\"},\"marker\":{\"line\":{\"color\":\"#E5ECF6\",\"width\":0.5},\"pattern\":{\"fillmode\":\"overlay\",\"size\":10,\"solidity\":0.2}},\"type\":\"bar\"}],\"scattergeo\":[{\"type\":\"scattergeo\",\"marker\":{\"colorbar\":{\"outlinewidth\":0,\"ticks\":\"\"}}}],\"scatterpolar\":[{\"type\":\"scatterpolar\",\"marker\":{\"colorbar\":{\"outlinewidth\":0,\"ticks\":\"\"}}}],\"histogram\":[{\"marker\":{\"pattern\":{\"fillmode\":\"overlay\",\"size\":10,\"solidity\":0.2}},\"type\":\"histogram\"}],\"scattergl\":[{\"type\":\"scattergl\",\"marker\":{\"colorbar\":{\"outlinewidth\":0,\"ticks\":\"\"}}}],\"scatter3d\":[{\"type\":\"scatter3d\",\"line\":{\"colorbar\":{\"outlinewidth\":0,\"ticks\":\"\"}},\"marker\":{\"colorbar\":{\"outlinewidth\":0,\"ticks\":\"\"}}}],\"scattermapbox\":[{\"type\":\"scattermapbox\",\"marker\":{\"colorbar\":{\"outlinewidth\":0,\"ticks\":\"\"}}}],\"scatterternary\":[{\"type\":\"scatterternary\",\"marker\":{\"colorbar\":{\"outlinewidth\":0,\"ticks\":\"\"}}}],\"scattercarpet\":[{\"type\":\"scattercarpet\",\"marker\":{\"colorbar\":{\"outlinewidth\":0,\"ticks\":\"\"}}}],\"carpet\":[{\"aaxis\":{\"endlinecolor\":\"#2a3f5f\",\"gridcolor\":\"white\",\"linecolor\":\"white\",\"minorgridcolor\":\"white\",\"startlinecolor\":\"#2a3f5f\"},\"baxis\":{\"endlinecolor\":\"#2a3f5f\",\"gridcolor\":\"white\",\"linecolor\":\"white\",\"minorgridcolor\":\"white\",\"startlinecolor\":\"#2a3f5f\"},\"type\":\"carpet\"}],\"table\":[{\"cells\":{\"fill\":{\"color\":\"#EBF0F8\"},\"line\":{\"color\":\"white\"}},\"header\":{\"fill\":{\"color\":\"#C8D4E3\"},\"line\":{\"color\":\"white\"}},\"type\":\"table\"}],\"barpolar\":[{\"marker\":{\"line\":{\"color\":\"#E5ECF6\",\"width\":0.5},\"pattern\":{\"fillmode\":\"overlay\",\"size\":10,\"solidity\":0.2}},\"type\":\"barpolar\"}],\"pie\":[{\"automargin\":true,\"type\":\"pie\"}]},\"layout\":{\"autotypenumbers\":\"strict\",\"colorway\":[\"#636efa\",\"#EF553B\",\"#00cc96\",\"#ab63fa\",\"#FFA15A\",\"#19d3f3\",\"#FF6692\",\"#B6E880\",\"#FF97FF\",\"#FECB52\"],\"font\":{\"color\":\"#2a3f5f\"},\"hovermode\":\"closest\",\"hoverlabel\":{\"align\":\"left\"},\"paper_bgcolor\":\"white\",\"plot_bgcolor\":\"#E5ECF6\",\"polar\":{\"bgcolor\":\"#E5ECF6\",\"angularaxis\":{\"gridcolor\":\"white\",\"linecolor\":\"white\",\"ticks\":\"\"},\"radialaxis\":{\"gridcolor\":\"white\",\"linecolor\":\"white\",\"ticks\":\"\"}},\"ternary\":{\"bgcolor\":\"#E5ECF6\",\"aaxis\":{\"gridcolor\":\"white\",\"linecolor\":\"white\",\"ticks\":\"\"},\"baxis\":{\"gridcolor\":\"white\",\"linecolor\":\"white\",\"ticks\":\"\"},\"caxis\":{\"gridcolor\":\"white\",\"linecolor\":\"white\",\"ticks\":\"\"}},\"coloraxis\":{\"colorbar\":{\"outlinewidth\":0,\"ticks\":\"\"}},\"colorscale\":{\"sequential\":[[0.0,\"#0d0887\"],[0.1111111111111111,\"#46039f\"],[0.2222222222222222,\"#7201a8\"],[0.3333333333333333,\"#9c179e\"],[0.4444444444444444,\"#bd3786\"],[0.5555555555555556,\"#d8576b\"],[0.6666666666666666,\"#ed7953\"],[0.7777777777777778,\"#fb9f3a\"],[0.8888888888888888,\"#fdca26\"],[1.0,\"#f0f921\"]],\"sequentialminus\":[[0.0,\"#0d0887\"],[0.1111111111111111,\"#46039f\"],[0.2222222222222222,\"#7201a8\"],[0.3333333333333333,\"#9c179e\"],[0.4444444444444444,\"#bd3786\"],[0.5555555555555556,\"#d8576b\"],[0.6666666666666666,\"#ed7953\"],[0.7777777777777778,\"#fb9f3a\"],[0.8888888888888888,\"#fdca26\"],[1.0,\"#f0f921\"]],\"diverging\":[[0,\"#8e0152\"],[0.1,\"#c51b7d\"],[0.2,\"#de77ae\"],[0.3,\"#f1b6da\"],[0.4,\"#fde0ef\"],[0.5,\"#f7f7f7\"],[0.6,\"#e6f5d0\"],[0.7,\"#b8e186\"],[0.8,\"#7fbc41\"],[0.9,\"#4d9221\"],[1,\"#276419\"]]},\"xaxis\":{\"gridcolor\":\"white\",\"linecolor\":\"white\",\"ticks\":\"\",\"title\":{\"standoff\":15},\"zerolinecolor\":\"white\",\"automargin\":true,\"zerolinewidth\":2},\"yaxis\":{\"gridcolor\":\"white\",\"linecolor\":\"white\",\"ticks\":\"\",\"title\":{\"standoff\":15},\"zerolinecolor\":\"white\",\"automargin\":true,\"zerolinewidth\":2},\"scene\":{\"xaxis\":{\"backgroundcolor\":\"#E5ECF6\",\"gridcolor\":\"white\",\"linecolor\":\"white\",\"showbackground\":true,\"ticks\":\"\",\"zerolinecolor\":\"white\",\"gridwidth\":2},\"yaxis\":{\"backgroundcolor\":\"#E5ECF6\",\"gridcolor\":\"white\",\"linecolor\":\"white\",\"showbackground\":true,\"ticks\":\"\",\"zerolinecolor\":\"white\",\"gridwidth\":2},\"zaxis\":{\"backgroundcolor\":\"#E5ECF6\",\"gridcolor\":\"white\",\"linecolor\":\"white\",\"showbackground\":true,\"ticks\":\"\",\"zerolinecolor\":\"white\",\"gridwidth\":2}},\"shapedefaults\":{\"line\":{\"color\":\"#2a3f5f\"}},\"annotationdefaults\":{\"arrowcolor\":\"#2a3f5f\",\"arrowhead\":0,\"arrowwidth\":1},\"geo\":{\"bgcolor\":\"white\",\"landcolor\":\"#E5ECF6\",\"subunitcolor\":\"white\",\"showland\":true,\"showlakes\":true,\"lakecolor\":\"white\"},\"title\":{\"x\":0.05},\"mapbox\":{\"style\":\"light\"}}},\"barmode\":\"stack\",\"title\":{\"text\":\"Relacion entre Source y Target\"},\"xaxis\":{\"title\":{\"text\":\"Fuente\"}},\"yaxis\":{\"title\":{\"text\":\"Cantidad de v_target\"}}},                        {\"responsive\": true}                    ).then(function(){\n",
       "                            \n",
       "var gd = document.getElementById('c4ac133f-54ef-4a7e-926c-82177147991f');\n",
       "var x = new MutationObserver(function (mutations, observer) {{\n",
       "        var display = window.getComputedStyle(gd).display;\n",
       "        if (!display || display === 'none') {{\n",
       "            console.log([gd, 'removed!']);\n",
       "            Plotly.purge(gd);\n",
       "            observer.disconnect();\n",
       "        }}\n",
       "}});\n",
       "\n",
       "// Listen for the removal of the full notebook cells\n",
       "var notebookContainer = gd.closest('#notebook-container');\n",
       "if (notebookContainer) {{\n",
       "    x.observe(notebookContainer, {childList: true});\n",
       "}}\n",
       "\n",
       "// Listen for the clearing of the current output cell\n",
       "var outputEl = gd.closest('.output');\n",
       "if (outputEl) {{\n",
       "    x.observe(outputEl, {childList: true});\n",
       "}}\n",
       "\n",
       "                        })                };                });            </script>        </div>"
      ]
     },
     "metadata": {},
     "output_type": "display_data"
    }
   ],
   "source": [
    "fig = go.Figure()\n",
    "zonas_agrupadas = df.groupby(['v_target', 'source']).size().reset_index(name='conteo')\n",
    "# Obtener los valores únicos de 'v_target'\n",
    "unique_targets = zonas_agrupadas['v_target'].unique()\n",
    "# Crear un diccionario de colores que asigna cada valor único a un color\n",
    "color_dict = {val: colors[i%len(colors)] for i, val in enumerate(unique_targets)}\n",
    "# Añadir una traza de barras para cada valor único\n",
    "for elead in unique_targets:\n",
    "    zonas_elead = zonas_agrupadas[zonas_agrupadas['v_target'] == elead]\n",
    "    # Asignar el color correcto a la traza\n",
    "    fig.add_trace(go.Bar(x=zonas_elead['source'], y=zonas_elead['conteo'], name=str(elead), \n",
    "                         marker_color=color_dict[elead]))  # Usar el color correspondiente del diccionario\n",
    "# diseño\n",
    "fig.update_layout(barmode='stack', title='Relacion entre Source y Target',\n",
    "                  xaxis_title='Fuente', yaxis_title='Cantidad de v_target')\n",
    "fig.show()\n"
   ]
  },
  {
   "cell_type": "markdown",
   "id": "a5f5bd34",
   "metadata": {
    "papermill": {
     "duration": 0.025861,
     "end_time": "2023-06-02T00:23:09.246688",
     "exception": false,
     "start_time": "2023-06-02T00:23:09.220827",
     "status": "completed"
    },
    "tags": []
   },
   "source": [
    "<div style=\"border-radius:13px; border:#FFB800 solid; padding: 15px; background-color: #FAFFFF; font-size:105%; text-align:left\">\n",
    "\n",
    "* Lo mismo en las columnas numericas: "
   ]
  },
  {
   "cell_type": "code",
   "execution_count": 27,
   "id": "98d97e4c",
   "metadata": {
    "_kg_hide-input": true,
    "_kg_hide-output": false,
    "execution": {
     "iopub.execute_input": "2023-06-02T00:23:09.300910Z",
     "iopub.status.busy": "2023-06-02T00:23:09.300510Z",
     "iopub.status.idle": "2023-06-02T00:23:09.435613Z",
     "shell.execute_reply": "2023-06-02T00:23:09.434474Z"
    },
    "jupyter": {
     "source_hidden": true
    },
    "papermill": {
     "duration": 0.165429,
     "end_time": "2023-06-02T00:23:09.437971",
     "exception": false,
     "start_time": "2023-06-02T00:23:09.272542",
     "status": "completed"
    },
    "tags": []
   },
   "outputs": [
    {
     "name": "stderr",
     "output_type": "stream",
     "text": [
      "/tmp/ipykernel_21/3725266836.py:1: FutureWarning:\n",
      "\n",
      "Indexing with multiple keys (implicitly converted to a tuple of keys) will be deprecated, use a list instead.\n",
      "\n"
     ]
    },
    {
     "data": {
      "text/html": [
       "<div>                            <div id=\"3175889f-6ccc-40ec-a37b-75c09199c48c\" class=\"plotly-graph-div\" style=\"height:525px; width:100%;\"></div>            <script type=\"text/javascript\">                require([\"plotly\"], function(Plotly) {                    window.PLOTLYENV=window.PLOTLYENV || {};                                    if (document.getElementById(\"3175889f-6ccc-40ec-a37b-75c09199c48c\")) {                    Plotly.newPlot(                        \"3175889f-6ccc-40ec-a37b-75c09199c48c\",                        [{\"hovertemplate\":\"<b>%{hovertext}</b><br><br>v_target=opportunity_lead<br>interacciones varias=%{marker.size}<br>visitas a la pagina=%{y}<extra></extra>\",\"hovertext\":[\"opportunity_lead\"],\"legendgroup\":\"opportunity_lead\",\"marker\":{\"color\":\"#636efa\",\"size\":[2.919191919191919],\"sizemode\":\"area\",\"sizeref\":0.0008108866442199775,\"symbol\":\"circle\"},\"mode\":\"markers\",\"name\":\"opportunity_lead\",\"orientation\":\"v\",\"showlegend\":true,\"x\":[2.919191919191919],\"xaxis\":\"x\",\"y\":[1.3737373737373737],\"yaxis\":\"y\",\"type\":\"scatter\"},{\"hovertemplate\":\"<b>%{hovertext}</b><br><br>v_target=unqualified_lead<br>interacciones varias=%{marker.size}<br>visitas a la pagina=%{y}<extra></extra>\",\"hovertext\":[\"unqualified_lead\"],\"legendgroup\":\"unqualified_lead\",\"marker\":{\"color\":\"#EF553B\",\"size\":[0.7051363348129359],\"sizemode\":\"area\",\"sizeref\":0.0008108866442199775,\"symbol\":\"circle\"},\"mode\":\"markers\",\"name\":\"unqualified_lead\",\"orientation\":\"v\",\"showlegend\":true,\"x\":[0.7051363348129359],\"xaxis\":\"x\",\"y\":[0.7520608750792644],\"yaxis\":\"y\",\"type\":\"scatter\"}],                        {\"template\":{\"data\":{\"histogram2dcontour\":[{\"type\":\"histogram2dcontour\",\"colorbar\":{\"outlinewidth\":0,\"ticks\":\"\"},\"colorscale\":[[0.0,\"#0d0887\"],[0.1111111111111111,\"#46039f\"],[0.2222222222222222,\"#7201a8\"],[0.3333333333333333,\"#9c179e\"],[0.4444444444444444,\"#bd3786\"],[0.5555555555555556,\"#d8576b\"],[0.6666666666666666,\"#ed7953\"],[0.7777777777777778,\"#fb9f3a\"],[0.8888888888888888,\"#fdca26\"],[1.0,\"#f0f921\"]]}],\"choropleth\":[{\"type\":\"choropleth\",\"colorbar\":{\"outlinewidth\":0,\"ticks\":\"\"}}],\"histogram2d\":[{\"type\":\"histogram2d\",\"colorbar\":{\"outlinewidth\":0,\"ticks\":\"\"},\"colorscale\":[[0.0,\"#0d0887\"],[0.1111111111111111,\"#46039f\"],[0.2222222222222222,\"#7201a8\"],[0.3333333333333333,\"#9c179e\"],[0.4444444444444444,\"#bd3786\"],[0.5555555555555556,\"#d8576b\"],[0.6666666666666666,\"#ed7953\"],[0.7777777777777778,\"#fb9f3a\"],[0.8888888888888888,\"#fdca26\"],[1.0,\"#f0f921\"]]}],\"heatmap\":[{\"type\":\"heatmap\",\"colorbar\":{\"outlinewidth\":0,\"ticks\":\"\"},\"colorscale\":[[0.0,\"#0d0887\"],[0.1111111111111111,\"#46039f\"],[0.2222222222222222,\"#7201a8\"],[0.3333333333333333,\"#9c179e\"],[0.4444444444444444,\"#bd3786\"],[0.5555555555555556,\"#d8576b\"],[0.6666666666666666,\"#ed7953\"],[0.7777777777777778,\"#fb9f3a\"],[0.8888888888888888,\"#fdca26\"],[1.0,\"#f0f921\"]]}],\"heatmapgl\":[{\"type\":\"heatmapgl\",\"colorbar\":{\"outlinewidth\":0,\"ticks\":\"\"},\"colorscale\":[[0.0,\"#0d0887\"],[0.1111111111111111,\"#46039f\"],[0.2222222222222222,\"#7201a8\"],[0.3333333333333333,\"#9c179e\"],[0.4444444444444444,\"#bd3786\"],[0.5555555555555556,\"#d8576b\"],[0.6666666666666666,\"#ed7953\"],[0.7777777777777778,\"#fb9f3a\"],[0.8888888888888888,\"#fdca26\"],[1.0,\"#f0f921\"]]}],\"contourcarpet\":[{\"type\":\"contourcarpet\",\"colorbar\":{\"outlinewidth\":0,\"ticks\":\"\"}}],\"contour\":[{\"type\":\"contour\",\"colorbar\":{\"outlinewidth\":0,\"ticks\":\"\"},\"colorscale\":[[0.0,\"#0d0887\"],[0.1111111111111111,\"#46039f\"],[0.2222222222222222,\"#7201a8\"],[0.3333333333333333,\"#9c179e\"],[0.4444444444444444,\"#bd3786\"],[0.5555555555555556,\"#d8576b\"],[0.6666666666666666,\"#ed7953\"],[0.7777777777777778,\"#fb9f3a\"],[0.8888888888888888,\"#fdca26\"],[1.0,\"#f0f921\"]]}],\"surface\":[{\"type\":\"surface\",\"colorbar\":{\"outlinewidth\":0,\"ticks\":\"\"},\"colorscale\":[[0.0,\"#0d0887\"],[0.1111111111111111,\"#46039f\"],[0.2222222222222222,\"#7201a8\"],[0.3333333333333333,\"#9c179e\"],[0.4444444444444444,\"#bd3786\"],[0.5555555555555556,\"#d8576b\"],[0.6666666666666666,\"#ed7953\"],[0.7777777777777778,\"#fb9f3a\"],[0.8888888888888888,\"#fdca26\"],[1.0,\"#f0f921\"]]}],\"mesh3d\":[{\"type\":\"mesh3d\",\"colorbar\":{\"outlinewidth\":0,\"ticks\":\"\"}}],\"scatter\":[{\"fillpattern\":{\"fillmode\":\"overlay\",\"size\":10,\"solidity\":0.2},\"type\":\"scatter\"}],\"parcoords\":[{\"type\":\"parcoords\",\"line\":{\"colorbar\":{\"outlinewidth\":0,\"ticks\":\"\"}}}],\"scatterpolargl\":[{\"type\":\"scatterpolargl\",\"marker\":{\"colorbar\":{\"outlinewidth\":0,\"ticks\":\"\"}}}],\"bar\":[{\"error_x\":{\"color\":\"#2a3f5f\"},\"error_y\":{\"color\":\"#2a3f5f\"},\"marker\":{\"line\":{\"color\":\"#E5ECF6\",\"width\":0.5},\"pattern\":{\"fillmode\":\"overlay\",\"size\":10,\"solidity\":0.2}},\"type\":\"bar\"}],\"scattergeo\":[{\"type\":\"scattergeo\",\"marker\":{\"colorbar\":{\"outlinewidth\":0,\"ticks\":\"\"}}}],\"scatterpolar\":[{\"type\":\"scatterpolar\",\"marker\":{\"colorbar\":{\"outlinewidth\":0,\"ticks\":\"\"}}}],\"histogram\":[{\"marker\":{\"pattern\":{\"fillmode\":\"overlay\",\"size\":10,\"solidity\":0.2}},\"type\":\"histogram\"}],\"scattergl\":[{\"type\":\"scattergl\",\"marker\":{\"colorbar\":{\"outlinewidth\":0,\"ticks\":\"\"}}}],\"scatter3d\":[{\"type\":\"scatter3d\",\"line\":{\"colorbar\":{\"outlinewidth\":0,\"ticks\":\"\"}},\"marker\":{\"colorbar\":{\"outlinewidth\":0,\"ticks\":\"\"}}}],\"scattermapbox\":[{\"type\":\"scattermapbox\",\"marker\":{\"colorbar\":{\"outlinewidth\":0,\"ticks\":\"\"}}}],\"scatterternary\":[{\"type\":\"scatterternary\",\"marker\":{\"colorbar\":{\"outlinewidth\":0,\"ticks\":\"\"}}}],\"scattercarpet\":[{\"type\":\"scattercarpet\",\"marker\":{\"colorbar\":{\"outlinewidth\":0,\"ticks\":\"\"}}}],\"carpet\":[{\"aaxis\":{\"endlinecolor\":\"#2a3f5f\",\"gridcolor\":\"white\",\"linecolor\":\"white\",\"minorgridcolor\":\"white\",\"startlinecolor\":\"#2a3f5f\"},\"baxis\":{\"endlinecolor\":\"#2a3f5f\",\"gridcolor\":\"white\",\"linecolor\":\"white\",\"minorgridcolor\":\"white\",\"startlinecolor\":\"#2a3f5f\"},\"type\":\"carpet\"}],\"table\":[{\"cells\":{\"fill\":{\"color\":\"#EBF0F8\"},\"line\":{\"color\":\"white\"}},\"header\":{\"fill\":{\"color\":\"#C8D4E3\"},\"line\":{\"color\":\"white\"}},\"type\":\"table\"}],\"barpolar\":[{\"marker\":{\"line\":{\"color\":\"#E5ECF6\",\"width\":0.5},\"pattern\":{\"fillmode\":\"overlay\",\"size\":10,\"solidity\":0.2}},\"type\":\"barpolar\"}],\"pie\":[{\"automargin\":true,\"type\":\"pie\"}]},\"layout\":{\"autotypenumbers\":\"strict\",\"colorway\":[\"#636efa\",\"#EF553B\",\"#00cc96\",\"#ab63fa\",\"#FFA15A\",\"#19d3f3\",\"#FF6692\",\"#B6E880\",\"#FF97FF\",\"#FECB52\"],\"font\":{\"color\":\"#2a3f5f\"},\"hovermode\":\"closest\",\"hoverlabel\":{\"align\":\"left\"},\"paper_bgcolor\":\"white\",\"plot_bgcolor\":\"#E5ECF6\",\"polar\":{\"bgcolor\":\"#E5ECF6\",\"angularaxis\":{\"gridcolor\":\"white\",\"linecolor\":\"white\",\"ticks\":\"\"},\"radialaxis\":{\"gridcolor\":\"white\",\"linecolor\":\"white\",\"ticks\":\"\"}},\"ternary\":{\"bgcolor\":\"#E5ECF6\",\"aaxis\":{\"gridcolor\":\"white\",\"linecolor\":\"white\",\"ticks\":\"\"},\"baxis\":{\"gridcolor\":\"white\",\"linecolor\":\"white\",\"ticks\":\"\"},\"caxis\":{\"gridcolor\":\"white\",\"linecolor\":\"white\",\"ticks\":\"\"}},\"coloraxis\":{\"colorbar\":{\"outlinewidth\":0,\"ticks\":\"\"}},\"colorscale\":{\"sequential\":[[0.0,\"#0d0887\"],[0.1111111111111111,\"#46039f\"],[0.2222222222222222,\"#7201a8\"],[0.3333333333333333,\"#9c179e\"],[0.4444444444444444,\"#bd3786\"],[0.5555555555555556,\"#d8576b\"],[0.6666666666666666,\"#ed7953\"],[0.7777777777777778,\"#fb9f3a\"],[0.8888888888888888,\"#fdca26\"],[1.0,\"#f0f921\"]],\"sequentialminus\":[[0.0,\"#0d0887\"],[0.1111111111111111,\"#46039f\"],[0.2222222222222222,\"#7201a8\"],[0.3333333333333333,\"#9c179e\"],[0.4444444444444444,\"#bd3786\"],[0.5555555555555556,\"#d8576b\"],[0.6666666666666666,\"#ed7953\"],[0.7777777777777778,\"#fb9f3a\"],[0.8888888888888888,\"#fdca26\"],[1.0,\"#f0f921\"]],\"diverging\":[[0,\"#8e0152\"],[0.1,\"#c51b7d\"],[0.2,\"#de77ae\"],[0.3,\"#f1b6da\"],[0.4,\"#fde0ef\"],[0.5,\"#f7f7f7\"],[0.6,\"#e6f5d0\"],[0.7,\"#b8e186\"],[0.8,\"#7fbc41\"],[0.9,\"#4d9221\"],[1,\"#276419\"]]},\"xaxis\":{\"gridcolor\":\"white\",\"linecolor\":\"white\",\"ticks\":\"\",\"title\":{\"standoff\":15},\"zerolinecolor\":\"white\",\"automargin\":true,\"zerolinewidth\":2},\"yaxis\":{\"gridcolor\":\"white\",\"linecolor\":\"white\",\"ticks\":\"\",\"title\":{\"standoff\":15},\"zerolinecolor\":\"white\",\"automargin\":true,\"zerolinewidth\":2},\"scene\":{\"xaxis\":{\"backgroundcolor\":\"#E5ECF6\",\"gridcolor\":\"white\",\"linecolor\":\"white\",\"showbackground\":true,\"ticks\":\"\",\"zerolinecolor\":\"white\",\"gridwidth\":2},\"yaxis\":{\"backgroundcolor\":\"#E5ECF6\",\"gridcolor\":\"white\",\"linecolor\":\"white\",\"showbackground\":true,\"ticks\":\"\",\"zerolinecolor\":\"white\",\"gridwidth\":2},\"zaxis\":{\"backgroundcolor\":\"#E5ECF6\",\"gridcolor\":\"white\",\"linecolor\":\"white\",\"showbackground\":true,\"ticks\":\"\",\"zerolinecolor\":\"white\",\"gridwidth\":2}},\"shapedefaults\":{\"line\":{\"color\":\"#2a3f5f\"}},\"annotationdefaults\":{\"arrowcolor\":\"#2a3f5f\",\"arrowhead\":0,\"arrowwidth\":1},\"geo\":{\"bgcolor\":\"white\",\"landcolor\":\"#E5ECF6\",\"subunitcolor\":\"white\",\"showland\":true,\"showlakes\":true,\"lakecolor\":\"white\"},\"title\":{\"x\":0.05},\"mapbox\":{\"style\":\"light\"}}},\"xaxis\":{\"anchor\":\"y\",\"domain\":[0.0,1.0],\"title\":{\"text\":\"interacciones varias\"},\"type\":\"log\"},\"yaxis\":{\"anchor\":\"x\",\"domain\":[0.0,1.0],\"title\":{\"text\":\"visitas a la pagina\"}},\"legend\":{\"title\":{\"text\":\"v_target\"},\"tracegroupgap\":0,\"itemsizing\":\"constant\"},\"margin\":{\"t\":60}},                        {\"responsive\": true}                    ).then(function(){\n",
       "                            \n",
       "var gd = document.getElementById('3175889f-6ccc-40ec-a37b-75c09199c48c');\n",
       "var x = new MutationObserver(function (mutations, observer) {{\n",
       "        var display = window.getComputedStyle(gd).display;\n",
       "        if (!display || display === 'none') {{\n",
       "            console.log([gd, 'removed!']);\n",
       "            Plotly.purge(gd);\n",
       "            observer.disconnect();\n",
       "        }}\n",
       "}});\n",
       "\n",
       "// Listen for the removal of the full notebook cells\n",
       "var notebookContainer = gd.closest('#notebook-container');\n",
       "if (notebookContainer) {{\n",
       "    x.observe(notebookContainer, {childList: true});\n",
       "}}\n",
       "\n",
       "// Listen for the clearing of the current output cell\n",
       "var outputEl = gd.closest('.output');\n",
       "if (outputEl) {{\n",
       "    x.observe(outputEl, {childList: true});\n",
       "}}\n",
       "\n",
       "                        })                };                });            </script>        </div>"
      ]
     },
     "metadata": {},
     "output_type": "display_data"
    }
   ],
   "source": [
    "df_avg = df.groupby('v_target')['visitas a la pagina', 'interacciones varias'].mean().reset_index()\n",
    "fig = px.scatter(df_avg, x=\"interacciones varias\", y=\"visitas a la pagina\",\n",
    "\t         size=\"interacciones varias\", color=\"v_target\",\n",
    "                 hover_name=\"v_target\", log_x=True, size_max=60)\n",
    "fig.show()"
   ]
  },
  {
   "cell_type": "code",
   "execution_count": 28,
   "id": "527c5302",
   "metadata": {
    "_kg_hide-input": true,
    "execution": {
     "iopub.execute_input": "2023-06-02T00:23:09.494946Z",
     "iopub.status.busy": "2023-06-02T00:23:09.494545Z",
     "iopub.status.idle": "2023-06-02T00:23:09.567876Z",
     "shell.execute_reply": "2023-06-02T00:23:09.566629Z"
    },
    "jupyter": {
     "source_hidden": true
    },
    "papermill": {
     "duration": 0.105337,
     "end_time": "2023-06-02T00:23:09.570433",
     "exception": false,
     "start_time": "2023-06-02T00:23:09.465096",
     "status": "completed"
    },
    "tags": []
   },
   "outputs": [
    {
     "name": "stderr",
     "output_type": "stream",
     "text": [
      "/tmp/ipykernel_21/1803415663.py:1: FutureWarning:\n",
      "\n",
      "Indexing with multiple keys (implicitly converted to a tuple of keys) will be deprecated, use a list instead.\n",
      "\n"
     ]
    },
    {
     "data": {
      "text/html": [
       "<div>                            <div id=\"9d6da6a4-5c6b-4e73-b048-6b89a0dac918\" class=\"plotly-graph-div\" style=\"height:525px; width:100%;\"></div>            <script type=\"text/javascript\">                require([\"plotly\"], function(Plotly) {                    window.PLOTLYENV=window.PLOTLYENV || {};                                    if (document.getElementById(\"9d6da6a4-5c6b-4e73-b048-6b89a0dac918\")) {                    Plotly.newPlot(                        \"9d6da6a4-5c6b-4e73-b048-6b89a0dac918\",                        [{\"hovertemplate\":\"<b>%{hovertext}</b><br><br>v_target=opportunity_lead<br>visitas a la pagina=%{x}<br>aperturas de correo=%{marker.size}<extra></extra>\",\"hovertext\":[\"opportunity_lead\"],\"legendgroup\":\"opportunity_lead\",\"marker\":{\"color\":\"#636efa\",\"size\":[1.7171717171717171],\"sizemode\":\"area\",\"sizeref\":0.0004769921436588103,\"symbol\":\"circle\"},\"mode\":\"markers\",\"name\":\"opportunity_lead\",\"orientation\":\"v\",\"showlegend\":true,\"x\":[1.3737373737373737],\"xaxis\":\"x\",\"y\":[1.7171717171717171],\"yaxis\":\"y\",\"type\":\"scatter\"},{\"hovertemplate\":\"<b>%{hovertext}</b><br><br>v_target=unqualified_lead<br>visitas a la pagina=%{x}<br>aperturas de correo=%{marker.size}<extra></extra>\",\"hovertext\":[\"unqualified_lead\"],\"legendgroup\":\"unqualified_lead\",\"marker\":{\"color\":\"#EF553B\",\"size\":[0.48763474952441344],\"sizemode\":\"area\",\"sizeref\":0.0004769921436588103,\"symbol\":\"circle\"},\"mode\":\"markers\",\"name\":\"unqualified_lead\",\"orientation\":\"v\",\"showlegend\":true,\"x\":[0.7520608750792644],\"xaxis\":\"x\",\"y\":[0.48763474952441344],\"yaxis\":\"y\",\"type\":\"scatter\"}],                        {\"template\":{\"data\":{\"histogram2dcontour\":[{\"type\":\"histogram2dcontour\",\"colorbar\":{\"outlinewidth\":0,\"ticks\":\"\"},\"colorscale\":[[0.0,\"#0d0887\"],[0.1111111111111111,\"#46039f\"],[0.2222222222222222,\"#7201a8\"],[0.3333333333333333,\"#9c179e\"],[0.4444444444444444,\"#bd3786\"],[0.5555555555555556,\"#d8576b\"],[0.6666666666666666,\"#ed7953\"],[0.7777777777777778,\"#fb9f3a\"],[0.8888888888888888,\"#fdca26\"],[1.0,\"#f0f921\"]]}],\"choropleth\":[{\"type\":\"choropleth\",\"colorbar\":{\"outlinewidth\":0,\"ticks\":\"\"}}],\"histogram2d\":[{\"type\":\"histogram2d\",\"colorbar\":{\"outlinewidth\":0,\"ticks\":\"\"},\"colorscale\":[[0.0,\"#0d0887\"],[0.1111111111111111,\"#46039f\"],[0.2222222222222222,\"#7201a8\"],[0.3333333333333333,\"#9c179e\"],[0.4444444444444444,\"#bd3786\"],[0.5555555555555556,\"#d8576b\"],[0.6666666666666666,\"#ed7953\"],[0.7777777777777778,\"#fb9f3a\"],[0.8888888888888888,\"#fdca26\"],[1.0,\"#f0f921\"]]}],\"heatmap\":[{\"type\":\"heatmap\",\"colorbar\":{\"outlinewidth\":0,\"ticks\":\"\"},\"colorscale\":[[0.0,\"#0d0887\"],[0.1111111111111111,\"#46039f\"],[0.2222222222222222,\"#7201a8\"],[0.3333333333333333,\"#9c179e\"],[0.4444444444444444,\"#bd3786\"],[0.5555555555555556,\"#d8576b\"],[0.6666666666666666,\"#ed7953\"],[0.7777777777777778,\"#fb9f3a\"],[0.8888888888888888,\"#fdca26\"],[1.0,\"#f0f921\"]]}],\"heatmapgl\":[{\"type\":\"heatmapgl\",\"colorbar\":{\"outlinewidth\":0,\"ticks\":\"\"},\"colorscale\":[[0.0,\"#0d0887\"],[0.1111111111111111,\"#46039f\"],[0.2222222222222222,\"#7201a8\"],[0.3333333333333333,\"#9c179e\"],[0.4444444444444444,\"#bd3786\"],[0.5555555555555556,\"#d8576b\"],[0.6666666666666666,\"#ed7953\"],[0.7777777777777778,\"#fb9f3a\"],[0.8888888888888888,\"#fdca26\"],[1.0,\"#f0f921\"]]}],\"contourcarpet\":[{\"type\":\"contourcarpet\",\"colorbar\":{\"outlinewidth\":0,\"ticks\":\"\"}}],\"contour\":[{\"type\":\"contour\",\"colorbar\":{\"outlinewidth\":0,\"ticks\":\"\"},\"colorscale\":[[0.0,\"#0d0887\"],[0.1111111111111111,\"#46039f\"],[0.2222222222222222,\"#7201a8\"],[0.3333333333333333,\"#9c179e\"],[0.4444444444444444,\"#bd3786\"],[0.5555555555555556,\"#d8576b\"],[0.6666666666666666,\"#ed7953\"],[0.7777777777777778,\"#fb9f3a\"],[0.8888888888888888,\"#fdca26\"],[1.0,\"#f0f921\"]]}],\"surface\":[{\"type\":\"surface\",\"colorbar\":{\"outlinewidth\":0,\"ticks\":\"\"},\"colorscale\":[[0.0,\"#0d0887\"],[0.1111111111111111,\"#46039f\"],[0.2222222222222222,\"#7201a8\"],[0.3333333333333333,\"#9c179e\"],[0.4444444444444444,\"#bd3786\"],[0.5555555555555556,\"#d8576b\"],[0.6666666666666666,\"#ed7953\"],[0.7777777777777778,\"#fb9f3a\"],[0.8888888888888888,\"#fdca26\"],[1.0,\"#f0f921\"]]}],\"mesh3d\":[{\"type\":\"mesh3d\",\"colorbar\":{\"outlinewidth\":0,\"ticks\":\"\"}}],\"scatter\":[{\"fillpattern\":{\"fillmode\":\"overlay\",\"size\":10,\"solidity\":0.2},\"type\":\"scatter\"}],\"parcoords\":[{\"type\":\"parcoords\",\"line\":{\"colorbar\":{\"outlinewidth\":0,\"ticks\":\"\"}}}],\"scatterpolargl\":[{\"type\":\"scatterpolargl\",\"marker\":{\"colorbar\":{\"outlinewidth\":0,\"ticks\":\"\"}}}],\"bar\":[{\"error_x\":{\"color\":\"#2a3f5f\"},\"error_y\":{\"color\":\"#2a3f5f\"},\"marker\":{\"line\":{\"color\":\"#E5ECF6\",\"width\":0.5},\"pattern\":{\"fillmode\":\"overlay\",\"size\":10,\"solidity\":0.2}},\"type\":\"bar\"}],\"scattergeo\":[{\"type\":\"scattergeo\",\"marker\":{\"colorbar\":{\"outlinewidth\":0,\"ticks\":\"\"}}}],\"scatterpolar\":[{\"type\":\"scatterpolar\",\"marker\":{\"colorbar\":{\"outlinewidth\":0,\"ticks\":\"\"}}}],\"histogram\":[{\"marker\":{\"pattern\":{\"fillmode\":\"overlay\",\"size\":10,\"solidity\":0.2}},\"type\":\"histogram\"}],\"scattergl\":[{\"type\":\"scattergl\",\"marker\":{\"colorbar\":{\"outlinewidth\":0,\"ticks\":\"\"}}}],\"scatter3d\":[{\"type\":\"scatter3d\",\"line\":{\"colorbar\":{\"outlinewidth\":0,\"ticks\":\"\"}},\"marker\":{\"colorbar\":{\"outlinewidth\":0,\"ticks\":\"\"}}}],\"scattermapbox\":[{\"type\":\"scattermapbox\",\"marker\":{\"colorbar\":{\"outlinewidth\":0,\"ticks\":\"\"}}}],\"scatterternary\":[{\"type\":\"scatterternary\",\"marker\":{\"colorbar\":{\"outlinewidth\":0,\"ticks\":\"\"}}}],\"scattercarpet\":[{\"type\":\"scattercarpet\",\"marker\":{\"colorbar\":{\"outlinewidth\":0,\"ticks\":\"\"}}}],\"carpet\":[{\"aaxis\":{\"endlinecolor\":\"#2a3f5f\",\"gridcolor\":\"white\",\"linecolor\":\"white\",\"minorgridcolor\":\"white\",\"startlinecolor\":\"#2a3f5f\"},\"baxis\":{\"endlinecolor\":\"#2a3f5f\",\"gridcolor\":\"white\",\"linecolor\":\"white\",\"minorgridcolor\":\"white\",\"startlinecolor\":\"#2a3f5f\"},\"type\":\"carpet\"}],\"table\":[{\"cells\":{\"fill\":{\"color\":\"#EBF0F8\"},\"line\":{\"color\":\"white\"}},\"header\":{\"fill\":{\"color\":\"#C8D4E3\"},\"line\":{\"color\":\"white\"}},\"type\":\"table\"}],\"barpolar\":[{\"marker\":{\"line\":{\"color\":\"#E5ECF6\",\"width\":0.5},\"pattern\":{\"fillmode\":\"overlay\",\"size\":10,\"solidity\":0.2}},\"type\":\"barpolar\"}],\"pie\":[{\"automargin\":true,\"type\":\"pie\"}]},\"layout\":{\"autotypenumbers\":\"strict\",\"colorway\":[\"#636efa\",\"#EF553B\",\"#00cc96\",\"#ab63fa\",\"#FFA15A\",\"#19d3f3\",\"#FF6692\",\"#B6E880\",\"#FF97FF\",\"#FECB52\"],\"font\":{\"color\":\"#2a3f5f\"},\"hovermode\":\"closest\",\"hoverlabel\":{\"align\":\"left\"},\"paper_bgcolor\":\"white\",\"plot_bgcolor\":\"#E5ECF6\",\"polar\":{\"bgcolor\":\"#E5ECF6\",\"angularaxis\":{\"gridcolor\":\"white\",\"linecolor\":\"white\",\"ticks\":\"\"},\"radialaxis\":{\"gridcolor\":\"white\",\"linecolor\":\"white\",\"ticks\":\"\"}},\"ternary\":{\"bgcolor\":\"#E5ECF6\",\"aaxis\":{\"gridcolor\":\"white\",\"linecolor\":\"white\",\"ticks\":\"\"},\"baxis\":{\"gridcolor\":\"white\",\"linecolor\":\"white\",\"ticks\":\"\"},\"caxis\":{\"gridcolor\":\"white\",\"linecolor\":\"white\",\"ticks\":\"\"}},\"coloraxis\":{\"colorbar\":{\"outlinewidth\":0,\"ticks\":\"\"}},\"colorscale\":{\"sequential\":[[0.0,\"#0d0887\"],[0.1111111111111111,\"#46039f\"],[0.2222222222222222,\"#7201a8\"],[0.3333333333333333,\"#9c179e\"],[0.4444444444444444,\"#bd3786\"],[0.5555555555555556,\"#d8576b\"],[0.6666666666666666,\"#ed7953\"],[0.7777777777777778,\"#fb9f3a\"],[0.8888888888888888,\"#fdca26\"],[1.0,\"#f0f921\"]],\"sequentialminus\":[[0.0,\"#0d0887\"],[0.1111111111111111,\"#46039f\"],[0.2222222222222222,\"#7201a8\"],[0.3333333333333333,\"#9c179e\"],[0.4444444444444444,\"#bd3786\"],[0.5555555555555556,\"#d8576b\"],[0.6666666666666666,\"#ed7953\"],[0.7777777777777778,\"#fb9f3a\"],[0.8888888888888888,\"#fdca26\"],[1.0,\"#f0f921\"]],\"diverging\":[[0,\"#8e0152\"],[0.1,\"#c51b7d\"],[0.2,\"#de77ae\"],[0.3,\"#f1b6da\"],[0.4,\"#fde0ef\"],[0.5,\"#f7f7f7\"],[0.6,\"#e6f5d0\"],[0.7,\"#b8e186\"],[0.8,\"#7fbc41\"],[0.9,\"#4d9221\"],[1,\"#276419\"]]},\"xaxis\":{\"gridcolor\":\"white\",\"linecolor\":\"white\",\"ticks\":\"\",\"title\":{\"standoff\":15},\"zerolinecolor\":\"white\",\"automargin\":true,\"zerolinewidth\":2},\"yaxis\":{\"gridcolor\":\"white\",\"linecolor\":\"white\",\"ticks\":\"\",\"title\":{\"standoff\":15},\"zerolinecolor\":\"white\",\"automargin\":true,\"zerolinewidth\":2},\"scene\":{\"xaxis\":{\"backgroundcolor\":\"#E5ECF6\",\"gridcolor\":\"white\",\"linecolor\":\"white\",\"showbackground\":true,\"ticks\":\"\",\"zerolinecolor\":\"white\",\"gridwidth\":2},\"yaxis\":{\"backgroundcolor\":\"#E5ECF6\",\"gridcolor\":\"white\",\"linecolor\":\"white\",\"showbackground\":true,\"ticks\":\"\",\"zerolinecolor\":\"white\",\"gridwidth\":2},\"zaxis\":{\"backgroundcolor\":\"#E5ECF6\",\"gridcolor\":\"white\",\"linecolor\":\"white\",\"showbackground\":true,\"ticks\":\"\",\"zerolinecolor\":\"white\",\"gridwidth\":2}},\"shapedefaults\":{\"line\":{\"color\":\"#2a3f5f\"}},\"annotationdefaults\":{\"arrowcolor\":\"#2a3f5f\",\"arrowhead\":0,\"arrowwidth\":1},\"geo\":{\"bgcolor\":\"white\",\"landcolor\":\"#E5ECF6\",\"subunitcolor\":\"white\",\"showland\":true,\"showlakes\":true,\"lakecolor\":\"white\"},\"title\":{\"x\":0.05},\"mapbox\":{\"style\":\"light\"}}},\"xaxis\":{\"anchor\":\"y\",\"domain\":[0.0,1.0],\"title\":{\"text\":\"visitas a la pagina\"},\"type\":\"log\"},\"yaxis\":{\"anchor\":\"x\",\"domain\":[0.0,1.0],\"title\":{\"text\":\"aperturas de correo\"}},\"legend\":{\"title\":{\"text\":\"v_target\"},\"tracegroupgap\":0,\"itemsizing\":\"constant\"},\"margin\":{\"t\":60}},                        {\"responsive\": true}                    ).then(function(){\n",
       "                            \n",
       "var gd = document.getElementById('9d6da6a4-5c6b-4e73-b048-6b89a0dac918');\n",
       "var x = new MutationObserver(function (mutations, observer) {{\n",
       "        var display = window.getComputedStyle(gd).display;\n",
       "        if (!display || display === 'none') {{\n",
       "            console.log([gd, 'removed!']);\n",
       "            Plotly.purge(gd);\n",
       "            observer.disconnect();\n",
       "        }}\n",
       "}});\n",
       "\n",
       "// Listen for the removal of the full notebook cells\n",
       "var notebookContainer = gd.closest('#notebook-container');\n",
       "if (notebookContainer) {{\n",
       "    x.observe(notebookContainer, {childList: true});\n",
       "}}\n",
       "\n",
       "// Listen for the clearing of the current output cell\n",
       "var outputEl = gd.closest('.output');\n",
       "if (outputEl) {{\n",
       "    x.observe(outputEl, {childList: true});\n",
       "}}\n",
       "\n",
       "                        })                };                });            </script>        </div>"
      ]
     },
     "metadata": {},
     "output_type": "display_data"
    }
   ],
   "source": [
    "df_avg = df.groupby('v_target')['visitas a la pagina', 'aperturas de correo'].mean().reset_index()\n",
    "fig = px.scatter(df_avg, x=\"visitas a la pagina\", y=\"aperturas de correo\",\n",
    "\t         size=\"aperturas de correo\", color=\"v_target\",\n",
    "                 hover_name=\"v_target\", log_x=True, size_max=60)\n",
    "fig.show()"
   ]
  },
  {
   "cell_type": "code",
   "execution_count": 29,
   "id": "f8eda860",
   "metadata": {
    "_kg_hide-input": true,
    "execution": {
     "iopub.execute_input": "2023-06-02T00:23:09.626311Z",
     "iopub.status.busy": "2023-06-02T00:23:09.625487Z",
     "iopub.status.idle": "2023-06-02T00:23:10.092967Z",
     "shell.execute_reply": "2023-06-02T00:23:10.091869Z"
    },
    "jupyter": {
     "source_hidden": true
    },
    "papermill": {
     "duration": 0.498525,
     "end_time": "2023-06-02T00:23:10.095308",
     "exception": false,
     "start_time": "2023-06-02T00:23:09.596783",
     "status": "completed"
    },
    "tags": []
   },
   "outputs": [
    {
     "data": {
      "image/png": "[encoded data removed]",
      "text/plain": [
       "<Figure size 1000x700 with 1 Axes>"
      ]
     },
     "metadata": {},
     "output_type": "display_data"
    }
   ],
   "source": [
    "table = pd.crosstab(df['franquicia'], df['v_target'])\n",
    "# Crear gráfico de barras apilado\n",
    "table.plot(kind='bar', stacked=True, figsize=(10,7), color=colors)\n",
    "plt.title('Relacion entre Target por franquicia')\n",
    "plt.xlabel('franquicia')\n",
    "plt.ylabel('Count')\n",
    "plt.xticks(rotation=45)\n",
    "plt.show()\n"
   ]
  },
  {
   "cell_type": "code",
   "execution_count": 30,
   "id": "d48b5081",
   "metadata": {
    "_kg_hide-input": true,
    "execution": {
     "iopub.execute_input": "2023-06-02T00:23:10.152556Z",
     "iopub.status.busy": "2023-06-02T00:23:10.152116Z",
     "iopub.status.idle": "2023-06-02T00:23:10.176367Z",
     "shell.execute_reply": "2023-06-02T00:23:10.175222Z"
    },
    "jupyter": {
     "source_hidden": true
    },
    "papermill": {
     "duration": 0.055953,
     "end_time": "2023-06-02T00:23:10.178634",
     "exception": false,
     "start_time": "2023-06-02T00:23:10.122681",
     "status": "completed"
    },
    "tags": []
   },
   "outputs": [
    {
     "data": {
      "text/html": [
       "<div>                            <div id=\"f344e25a-d55e-459c-9bf2-6b1ad130f33d\" class=\"plotly-graph-div\" style=\"height:525px; width:100%;\"></div>            <script type=\"text/javascript\">                require([\"plotly\"], function(Plotly) {                    window.PLOTLYENV=window.PLOTLYENV || {};                                    if (document.getElementById(\"f344e25a-d55e-459c-9bf2-6b1ad130f33d\")) {                    Plotly.newPlot(                        \"f344e25a-d55e-459c-9bf2-6b1ad130f33d\",                        [{\"marker\":{\"color\":\"#064572\"},\"name\":\"opportunity_lead\",\"x\":[\"buenos aires\",\"sin valor\",\"zonas menos recurrentes\"],\"y\":[86,21,91],\"type\":\"bar\"},{\"marker\":{\"color\":\"#A8854F\"},\"name\":\"unqualified_lead\",\"x\":[\"buenos aires\",\"sin valor\",\"zonas menos recurrentes\"],\"y\":[303,795,479],\"type\":\"bar\"}],                        {\"template\":{\"data\":{\"histogram2dcontour\":[{\"type\":\"histogram2dcontour\",\"colorbar\":{\"outlinewidth\":0,\"ticks\":\"\"},\"colorscale\":[[0.0,\"#0d0887\"],[0.1111111111111111,\"#46039f\"],[0.2222222222222222,\"#7201a8\"],[0.3333333333333333,\"#9c179e\"],[0.4444444444444444,\"#bd3786\"],[0.5555555555555556,\"#d8576b\"],[0.6666666666666666,\"#ed7953\"],[0.7777777777777778,\"#fb9f3a\"],[0.8888888888888888,\"#fdca26\"],[1.0,\"#f0f921\"]]}],\"choropleth\":[{\"type\":\"choropleth\",\"colorbar\":{\"outlinewidth\":0,\"ticks\":\"\"}}],\"histogram2d\":[{\"type\":\"histogram2d\",\"colorbar\":{\"outlinewidth\":0,\"ticks\":\"\"},\"colorscale\":[[0.0,\"#0d0887\"],[0.1111111111111111,\"#46039f\"],[0.2222222222222222,\"#7201a8\"],[0.3333333333333333,\"#9c179e\"],[0.4444444444444444,\"#bd3786\"],[0.5555555555555556,\"#d8576b\"],[0.6666666666666666,\"#ed7953\"],[0.7777777777777778,\"#fb9f3a\"],[0.8888888888888888,\"#fdca26\"],[1.0,\"#f0f921\"]]}],\"heatmap\":[{\"type\":\"heatmap\",\"colorbar\":{\"outlinewidth\":0,\"ticks\":\"\"},\"colorscale\":[[0.0,\"#0d0887\"],[0.1111111111111111,\"#46039f\"],[0.2222222222222222,\"#7201a8\"],[0.3333333333333333,\"#9c179e\"],[0.4444444444444444,\"#bd3786\"],[0.5555555555555556,\"#d8576b\"],[0.6666666666666666,\"#ed7953\"],[0.7777777777777778,\"#fb9f3a\"],[0.8888888888888888,\"#fdca26\"],[1.0,\"#f0f921\"]]}],\"heatmapgl\":[{\"type\":\"heatmapgl\",\"colorbar\":{\"outlinewidth\":0,\"ticks\":\"\"},\"colorscale\":[[0.0,\"#0d0887\"],[0.1111111111111111,\"#46039f\"],[0.2222222222222222,\"#7201a8\"],[0.3333333333333333,\"#9c179e\"],[0.4444444444444444,\"#bd3786\"],[0.5555555555555556,\"#d8576b\"],[0.6666666666666666,\"#ed7953\"],[0.7777777777777778,\"#fb9f3a\"],[0.8888888888888888,\"#fdca26\"],[1.0,\"#f0f921\"]]}],\"contourcarpet\":[{\"type\":\"contourcarpet\",\"colorbar\":{\"outlinewidth\":0,\"ticks\":\"\"}}],\"contour\":[{\"type\":\"contour\",\"colorbar\":{\"outlinewidth\":0,\"ticks\":\"\"},\"colorscale\":[[0.0,\"#0d0887\"],[0.1111111111111111,\"#46039f\"],[0.2222222222222222,\"#7201a8\"],[0.3333333333333333,\"#9c179e\"],[0.4444444444444444,\"#bd3786\"],[0.5555555555555556,\"#d8576b\"],[0.6666666666666666,\"#ed7953\"],[0.7777777777777778,\"#fb9f3a\"],[0.8888888888888888,\"#fdca26\"],[1.0,\"#f0f921\"]]}],\"surface\":[{\"type\":\"surface\",\"colorbar\":{\"outlinewidth\":0,\"ticks\":\"\"},\"colorscale\":[[0.0,\"#0d0887\"],[0.1111111111111111,\"#46039f\"],[0.2222222222222222,\"#7201a8\"],[0.3333333333333333,\"#9c179e\"],[0.4444444444444444,\"#bd3786\"],[0.5555555555555556,\"#d8576b\"],[0.6666666666666666,\"#ed7953\"],[0.7777777777777778,\"#fb9f3a\"],[0.8888888888888888,\"#fdca26\"],[1.0,\"#f0f921\"]]}],\"mesh3d\":[{\"type\":\"mesh3d\",\"colorbar\":{\"outlinewidth\":0,\"ticks\":\"\"}}],\"scatter\":[{\"fillpattern\":{\"fillmode\":\"overlay\",\"size\":10,\"solidity\":0.2},\"type\":\"scatter\"}],\"parcoords\":[{\"type\":\"parcoords\",\"line\":{\"colorbar\":{\"outlinewidth\":0,\"ticks\":\"\"}}}],\"scatterpolargl\":[{\"type\":\"scatterpolargl\",\"marker\":{\"colorbar\":{\"outlinewidth\":0,\"ticks\":\"\"}}}],\"bar\":[{\"error_x\":{\"color\":\"#2a3f5f\"},\"error_y\":{\"color\":\"#2a3f5f\"},\"marker\":{\"line\":{\"color\":\"#E5ECF6\",\"width\":0.5},\"pattern\":{\"fillmode\":\"overlay\",\"size\":10,\"solidity\":0.2}},\"type\":\"bar\"}],\"scattergeo\":[{\"type\":\"scattergeo\",\"marker\":{\"colorbar\":{\"outlinewidth\":0,\"ticks\":\"\"}}}],\"scatterpolar\":[{\"type\":\"scatterpolar\",\"marker\":{\"colorbar\":{\"outlinewidth\":0,\"ticks\":\"\"}}}],\"histogram\":[{\"marker\":{\"pattern\":{\"fillmode\":\"overlay\",\"size\":10,\"solidity\":0.2}},\"type\":\"histogram\"}],\"scattergl\":[{\"type\":\"scattergl\",\"marker\":{\"colorbar\":{\"outlinewidth\":0,\"ticks\":\"\"}}}],\"scatter3d\":[{\"type\":\"scatter3d\",\"line\":{\"colorbar\":{\"outlinewidth\":0,\"ticks\":\"\"}},\"marker\":{\"colorbar\":{\"outlinewidth\":0,\"ticks\":\"\"}}}],\"scattermapbox\":[{\"type\":\"scattermapbox\",\"marker\":{\"colorbar\":{\"outlinewidth\":0,\"ticks\":\"\"}}}],\"scatterternary\":[{\"type\":\"scatterternary\",\"marker\":{\"colorbar\":{\"outlinewidth\":0,\"ticks\":\"\"}}}],\"scattercarpet\":[{\"type\":\"scattercarpet\",\"marker\":{\"colorbar\":{\"outlinewidth\":0,\"ticks\":\"\"}}}],\"carpet\":[{\"aaxis\":{\"endlinecolor\":\"#2a3f5f\",\"gridcolor\":\"white\",\"linecolor\":\"white\",\"minorgridcolor\":\"white\",\"startlinecolor\":\"#2a3f5f\"},\"baxis\":{\"endlinecolor\":\"#2a3f5f\",\"gridcolor\":\"white\",\"linecolor\":\"white\",\"minorgridcolor\":\"white\",\"startlinecolor\":\"#2a3f5f\"},\"type\":\"carpet\"}],\"table\":[{\"cells\":{\"fill\":{\"color\":\"#EBF0F8\"},\"line\":{\"color\":\"white\"}},\"header\":{\"fill\":{\"color\":\"#C8D4E3\"},\"line\":{\"color\":\"white\"}},\"type\":\"table\"}],\"barpolar\":[{\"marker\":{\"line\":{\"color\":\"#E5ECF6\",\"width\":0.5},\"pattern\":{\"fillmode\":\"overlay\",\"size\":10,\"solidity\":0.2}},\"type\":\"barpolar\"}],\"pie\":[{\"automargin\":true,\"type\":\"pie\"}]},\"layout\":{\"autotypenumbers\":\"strict\",\"colorway\":[\"#636efa\",\"#EF553B\",\"#00cc96\",\"#ab63fa\",\"#FFA15A\",\"#19d3f3\",\"#FF6692\",\"#B6E880\",\"#FF97FF\",\"#FECB52\"],\"font\":{\"color\":\"#2a3f5f\"},\"hovermode\":\"closest\",\"hoverlabel\":{\"align\":\"left\"},\"paper_bgcolor\":\"white\",\"plot_bgcolor\":\"#E5ECF6\",\"polar\":{\"bgcolor\":\"#E5ECF6\",\"angularaxis\":{\"gridcolor\":\"white\",\"linecolor\":\"white\",\"ticks\":\"\"},\"radialaxis\":{\"gridcolor\":\"white\",\"linecolor\":\"white\",\"ticks\":\"\"}},\"ternary\":{\"bgcolor\":\"#E5ECF6\",\"aaxis\":{\"gridcolor\":\"white\",\"linecolor\":\"white\",\"ticks\":\"\"},\"baxis\":{\"gridcolor\":\"white\",\"linecolor\":\"white\",\"ticks\":\"\"},\"caxis\":{\"gridcolor\":\"white\",\"linecolor\":\"white\",\"ticks\":\"\"}},\"coloraxis\":{\"colorbar\":{\"outlinewidth\":0,\"ticks\":\"\"}},\"colorscale\":{\"sequential\":[[0.0,\"#0d0887\"],[0.1111111111111111,\"#46039f\"],[0.2222222222222222,\"#7201a8\"],[0.3333333333333333,\"#9c179e\"],[0.4444444444444444,\"#bd3786\"],[0.5555555555555556,\"#d8576b\"],[0.6666666666666666,\"#ed7953\"],[0.7777777777777778,\"#fb9f3a\"],[0.8888888888888888,\"#fdca26\"],[1.0,\"#f0f921\"]],\"sequentialminus\":[[0.0,\"#0d0887\"],[0.1111111111111111,\"#46039f\"],[0.2222222222222222,\"#7201a8\"],[0.3333333333333333,\"#9c179e\"],[0.4444444444444444,\"#bd3786\"],[0.5555555555555556,\"#d8576b\"],[0.6666666666666666,\"#ed7953\"],[0.7777777777777778,\"#fb9f3a\"],[0.8888888888888888,\"#fdca26\"],[1.0,\"#f0f921\"]],\"diverging\":[[0,\"#8e0152\"],[0.1,\"#c51b7d\"],[0.2,\"#de77ae\"],[0.3,\"#f1b6da\"],[0.4,\"#fde0ef\"],[0.5,\"#f7f7f7\"],[0.6,\"#e6f5d0\"],[0.7,\"#b8e186\"],[0.8,\"#7fbc41\"],[0.9,\"#4d9221\"],[1,\"#276419\"]]},\"xaxis\":{\"gridcolor\":\"white\",\"linecolor\":\"white\",\"ticks\":\"\",\"title\":{\"standoff\":15},\"zerolinecolor\":\"white\",\"automargin\":true,\"zerolinewidth\":2},\"yaxis\":{\"gridcolor\":\"white\",\"linecolor\":\"white\",\"ticks\":\"\",\"title\":{\"standoff\":15},\"zerolinecolor\":\"white\",\"automargin\":true,\"zerolinewidth\":2},\"scene\":{\"xaxis\":{\"backgroundcolor\":\"#E5ECF6\",\"gridcolor\":\"white\",\"linecolor\":\"white\",\"showbackground\":true,\"ticks\":\"\",\"zerolinecolor\":\"white\",\"gridwidth\":2},\"yaxis\":{\"backgroundcolor\":\"#E5ECF6\",\"gridcolor\":\"white\",\"linecolor\":\"white\",\"showbackground\":true,\"ticks\":\"\",\"zerolinecolor\":\"white\",\"gridwidth\":2},\"zaxis\":{\"backgroundcolor\":\"#E5ECF6\",\"gridcolor\":\"white\",\"linecolor\":\"white\",\"showbackground\":true,\"ticks\":\"\",\"zerolinecolor\":\"white\",\"gridwidth\":2}},\"shapedefaults\":{\"line\":{\"color\":\"#2a3f5f\"}},\"annotationdefaults\":{\"arrowcolor\":\"#2a3f5f\",\"arrowhead\":0,\"arrowwidth\":1},\"geo\":{\"bgcolor\":\"white\",\"landcolor\":\"#E5ECF6\",\"subunitcolor\":\"white\",\"showland\":true,\"showlakes\":true,\"lakecolor\":\"white\"},\"title\":{\"x\":0.05},\"mapbox\":{\"style\":\"light\"}}},\"barmode\":\"stack\",\"title\":{\"text\":\"Relación entre Target y Zone\"},\"xaxis\":{\"title\":{\"text\":\"Segmento de zone\"}},\"yaxis\":{\"title\":{\"text\":\"Cantidad de leeds\"}}},                        {\"responsive\": true}                    ).then(function(){\n",
       "                            \n",
       "var gd = document.getElementById('f344e25a-d55e-459c-9bf2-6b1ad130f33d');\n",
       "var x = new MutationObserver(function (mutations, observer) {{\n",
       "        var display = window.getComputedStyle(gd).display;\n",
       "        if (!display || display === 'none') {{\n",
       "            console.log([gd, 'removed!']);\n",
       "            Plotly.purge(gd);\n",
       "            observer.disconnect();\n",
       "        }}\n",
       "}});\n",
       "\n",
       "// Listen for the removal of the full notebook cells\n",
       "var notebookContainer = gd.closest('#notebook-container');\n",
       "if (notebookContainer) {{\n",
       "    x.observe(notebookContainer, {childList: true});\n",
       "}}\n",
       "\n",
       "// Listen for the clearing of the current output cell\n",
       "var outputEl = gd.closest('.output');\n",
       "if (outputEl) {{\n",
       "    x.observe(outputEl, {childList: true});\n",
       "}}\n",
       "\n",
       "                        })                };                });            </script>        </div>"
      ]
     },
     "metadata": {},
     "output_type": "display_data"
    }
   ],
   "source": [
    "fig = go.Figure()\n",
    "zonas_agrupadas = df.groupby(['v_target', 'zone']).size().reset_index(name='conteo')\n",
    "# Mapear cada categoría única a un color\n",
    "unique_targets = zonas_agrupadas['v_target'].unique()\n",
    "color_dict = {target: colors[i % len(colors)] for i, target in enumerate(unique_targets)}\n",
    "fig = go.Figure()\n",
    "for elead in unique_targets:\n",
    "    zonas_elead = zonas_agrupadas[zonas_agrupadas['v_target'] == elead]\n",
    "    fig.add_trace(go.Bar(x=zonas_elead['zone'], y=zonas_elead['conteo'], name=str(elead), \n",
    "                         marker_color=color_dict[elead]))\n",
    "# Diseño del gráfico\n",
    "fig.update_layout(barmode='stack', title='Relación entre Target y Zone',\n",
    "                  xaxis_title='Segmento de zone', yaxis_title='Cantidad de leeds')\n",
    "fig.show()\n"
   ]
  },
  {
   "cell_type": "markdown",
   "id": "8a25f218",
   "metadata": {
    "papermill": {
     "duration": 0.027536,
     "end_time": "2023-06-02T00:23:10.233708",
     "exception": false,
     "start_time": "2023-06-02T00:23:10.206172",
     "status": "completed"
    },
    "tags": []
   },
   "source": [
    "### <p style=\"font-family:JetBrains Mono; font-weight:bold; letter-spacing: 2px; color:#05041B; font-size:140%; text-align:left;padding: 0px; border-bottom: 3px solid #FFB800\">🧠 Step 5 Model Definition</p>"
   ]
  },
  {
   "cell_type": "markdown",
   "id": "bd346115",
   "metadata": {
    "papermill": {
     "duration": 0.028884,
     "end_time": "2023-06-02T00:23:10.292055",
     "exception": false,
     "start_time": "2023-06-02T00:23:10.263171",
     "status": "completed"
    },
    "tags": []
   },
   "source": [
    "<div style=\"border-radius:13px; border:#FFB800 solid; padding: 15px; background-color: #FAFFFF; font-size:110%; text-align:left\">\n",
    "    \n",
    "* Utilizare un modelo de catboost y otro de random forest debido a la adaptación a las columnas categoricas y numericas, ademas aplicare la tecnica de sobremuestreo **SMOTE** para evitar desequilibrios de clases. \n",
    "    \n",
    "* Es importante notar que el **90% de los datos son \"unqualified_lead\"**, lo cual puede sesgar al modelo y aun asi proporcionar una gran \"precision\" a pesar de ser ineficaz. \n",
    "    \n",
    "* **Considerando que las oportunidades \"opportunity_lead\" no abundan, para tener exito sera impresindible no producir producir falsos negativos o falsos \"unqualified_lead\"**\n"
   ]
  },
  {
   "cell_type": "code",
   "execution_count": 31,
   "id": "0748f311",
   "metadata": {
    "_kg_hide-input": false,
    "execution": {
     "iopub.execute_input": "2023-06-02T00:23:10.351648Z",
     "iopub.status.busy": "2023-06-02T00:23:10.350512Z",
     "iopub.status.idle": "2023-06-02T00:23:10.366571Z",
     "shell.execute_reply": "2023-06-02T00:23:10.365686Z"
    },
    "jupyter": {
     "source_hidden": true
    },
    "papermill": {
     "duration": 0.047801,
     "end_time": "2023-06-02T00:23:10.368917",
     "exception": false,
     "start_time": "2023-06-02T00:23:10.321116",
     "status": "completed"
    },
    "tags": []
   },
   "outputs": [
    {
     "data": {
      "text/html": [
       "<div>\n",
       "<style scoped>\n",
       "    .dataframe tbody tr th:only-of-type {\n",
       "        vertical-align: middle;\n",
       "    }\n",
       "\n",
       "    .dataframe tbody tr th {\n",
       "        vertical-align: top;\n",
       "    }\n",
       "\n",
       "    .dataframe thead th {\n",
       "        text-align: right;\n",
       "    }\n",
       "</style>\n",
       "<table border=\"1\" class=\"dataframe\">\n",
       "  <thead>\n",
       "    <tr style=\"text-align: right;\">\n",
       "      <th></th>\n",
       "      <th>v_target</th>\n",
       "      <th>formularios enviados</th>\n",
       "      <th>visitas a la pagina</th>\n",
       "      <th>interacciones varias</th>\n",
       "      <th>aperturas de correo</th>\n",
       "      <th>franquicia</th>\n",
       "      <th>inversion</th>\n",
       "      <th>zone</th>\n",
       "      <th>source</th>\n",
       "    </tr>\n",
       "  </thead>\n",
       "  <tbody>\n",
       "    <tr>\n",
       "      <th>282</th>\n",
       "      <td>opportunity_lead</td>\n",
       "      <td>1.0</td>\n",
       "      <td>1.0</td>\n",
       "      <td>2.0</td>\n",
       "      <td>2.0</td>\n",
       "      <td>big pizza</td>\n",
       "      <td>low</td>\n",
       "      <td>buenos aires</td>\n",
       "      <td>referencias</td>\n",
       "    </tr>\n",
       "    <tr>\n",
       "      <th>288</th>\n",
       "      <td>unqualified_lead</td>\n",
       "      <td>1.0</td>\n",
       "      <td>1.0</td>\n",
       "      <td>0.0</td>\n",
       "      <td>0.0</td>\n",
       "      <td>don antonio</td>\n",
       "      <td>low</td>\n",
       "      <td>sin valor</td>\n",
       "      <td>redes sociales de pago</td>\n",
       "    </tr>\n",
       "    <tr>\n",
       "      <th>291</th>\n",
       "      <td>unqualified_lead</td>\n",
       "      <td>1.0</td>\n",
       "      <td>1.0</td>\n",
       "      <td>3.0</td>\n",
       "      <td>1.0</td>\n",
       "      <td>cafe martinez</td>\n",
       "      <td>high</td>\n",
       "      <td>zonas menos recurrentes</td>\n",
       "      <td>redes sociales de pago</td>\n",
       "    </tr>\n",
       "    <tr>\n",
       "      <th>294</th>\n",
       "      <td>unqualified_lead</td>\n",
       "      <td>1.0</td>\n",
       "      <td>1.0</td>\n",
       "      <td>0.0</td>\n",
       "      <td>0.0</td>\n",
       "      <td>pirka</td>\n",
       "      <td>med</td>\n",
       "      <td>sin valor</td>\n",
       "      <td>redes sociales de pago</td>\n",
       "    </tr>\n",
       "    <tr>\n",
       "      <th>297</th>\n",
       "      <td>unqualified_lead</td>\n",
       "      <td>1.0</td>\n",
       "      <td>1.0</td>\n",
       "      <td>4.0</td>\n",
       "      <td>1.0</td>\n",
       "      <td>la birra bar</td>\n",
       "      <td>veryhigh</td>\n",
       "      <td>buenos aires</td>\n",
       "      <td>búsqueda de pago</td>\n",
       "    </tr>\n",
       "    <tr>\n",
       "      <th>300</th>\n",
       "      <td>unqualified_lead</td>\n",
       "      <td>0.0</td>\n",
       "      <td>0.0</td>\n",
       "      <td>0.0</td>\n",
       "      <td>0.0</td>\n",
       "      <td>guapaletas</td>\n",
       "      <td>med</td>\n",
       "      <td>zonas menos recurrentes</td>\n",
       "      <td>fuentes sin conexión</td>\n",
       "    </tr>\n",
       "  </tbody>\n",
       "</table>\n",
       "</div>"
      ],
      "text/plain": [
       "             v_target  formularios enviados  visitas a la pagina  \\\n",
       "282  opportunity_lead                   1.0                  1.0   \n",
       "288  unqualified_lead                   1.0                  1.0   \n",
       "291  unqualified_lead                   1.0                  1.0   \n",
       "294  unqualified_lead                   1.0                  1.0   \n",
       "297  unqualified_lead                   1.0                  1.0   \n",
       "300  unqualified_lead                   0.0                  0.0   \n",
       "\n",
       "     interacciones varias  aperturas de correo     franquicia inversion  \\\n",
       "282                   2.0                  2.0      big pizza       low   \n",
       "288                   0.0                  0.0    don antonio       low   \n",
       "291                   3.0                  1.0  cafe martinez      high   \n",
       "294                   0.0                  0.0          pirka       med   \n",
       "297                   4.0                  1.0   la birra bar  veryhigh   \n",
       "300                   0.0                  0.0     guapaletas       med   \n",
       "\n",
       "                        zone                  source  \n",
       "282             buenos aires             referencias  \n",
       "288                sin valor  redes sociales de pago  \n",
       "291  zonas menos recurrentes  redes sociales de pago  \n",
       "294                sin valor  redes sociales de pago  \n",
       "297             buenos aires        búsqueda de pago  \n",
       "300  zonas menos recurrentes    fuentes sin conexión  "
      ]
     },
     "execution_count": 31,
     "metadata": {},
     "output_type": "execute_result"
    }
   ],
   "source": [
    "df.iloc[102:108] "
   ]
  },
  {
   "cell_type": "code",
   "execution_count": 32,
   "id": "2f5a54c8",
   "metadata": {
    "_kg_hide-input": true,
    "execution": {
     "iopub.execute_input": "2023-06-02T00:23:10.427626Z",
     "iopub.status.busy": "2023-06-02T00:23:10.426937Z",
     "iopub.status.idle": "2023-06-02T00:23:10.436575Z",
     "shell.execute_reply": "2023-06-02T00:23:10.435686Z"
    },
    "jupyter": {
     "source_hidden": true
    },
    "papermill": {
     "duration": 0.041412,
     "end_time": "2023-06-02T00:23:10.439014",
     "exception": false,
     "start_time": "2023-06-02T00:23:10.397602",
     "status": "completed"
    },
    "tags": []
   },
   "outputs": [],
   "source": [
    "#Prepro\n",
    "data = df\n",
    "X = data.drop(\"v_target\", axis=1)\n",
    "y = data[\"v_target\"]\n",
    "numeric_features = ['formularios enviados', 'visitas a la pagina', 'interacciones varias' , 'aperturas de correo']\n",
    "numeric_transformer = Pipeline(steps=[\n",
    "    ('imputer', SimpleImputer(strategy='median')),\n",
    "    ('scaler', StandardScaler())])\n",
    "categorical_features = ['franquicia', 'inversion', 'zone', 'source']\n",
    "categorical_transformer = Pipeline(steps=[\n",
    "    ('imputer', SimpleImputer(strategy='constant', fill_value='missing')),\n",
    "    ('onehot', OneHotEncoder(handle_unknown='ignore'))])\n",
    "preprocessor = ColumnTransformer(\n",
    "    transformers=[\n",
    "        ('num', numeric_transformer, numeric_features),\n",
    "        ('cat', categorical_transformer, categorical_features)])\n",
    "# Dividir los datos en conjuntos de entrenamiento y prueba\n",
    "X_train, X_test, y_train, y_test = train_test_split(X, y, test_size=0.2, random_state=42)\n"
   ]
  },
  {
   "cell_type": "markdown",
   "id": "e3ad4e8b",
   "metadata": {
    "papermill": {
     "duration": 0.029012,
     "end_time": "2023-06-02T00:23:10.495651",
     "exception": false,
     "start_time": "2023-06-02T00:23:10.466639",
     "status": "completed"
    },
    "tags": []
   },
   "source": [
    "<div style=\"border-radius:13px; border:#FFB800 solid; padding: 15px; background-color: #FAFFFF; font-size:100%; text-align:left\">\n",
    "\n",
    "* **Catboost Model**"
   ]
  },
  {
   "cell_type": "code",
   "execution_count": 33,
   "id": "c7bf6763",
   "metadata": {
    "_kg_hide-output": true,
    "execution": {
     "iopub.execute_input": "2023-06-02T00:23:10.553004Z",
     "iopub.status.busy": "2023-06-02T00:23:10.552540Z",
     "iopub.status.idle": "2023-06-02T00:24:17.108981Z",
     "shell.execute_reply": "2023-06-02T00:24:17.107731Z"
    },
    "jupyter": {
     "source_hidden": true
    },
    "papermill": {
     "duration": 66.588449,
     "end_time": "2023-06-02T00:24:17.111804",
     "exception": false,
     "start_time": "2023-06-02T00:23:10.523355",
     "status": "completed"
    },
    "tags": []
   },
   "outputs": [],
   "source": [
    "# CatBoost \n",
    "clf1 = make_imb_pipeline(preprocessor, SMOTE(random_state=42), CatBoostClassifier(verbose=0))\n",
    "params_catboost = {\n",
    "    'catboostclassifier__iterations': randint(100, 500),\n",
    "    'catboostclassifier__depth': randint(1, 10),\n",
    "    'catboostclassifier__learning_rate': uniform(0.01, 0.3),\n",
    "    'catboostclassifier__l2_leaf_reg': uniform(2, 30)\n",
    "}\n",
    "search_catboost = RandomizedSearchCV(clf1, param_distributions=params_catboost, n_iter=10, cv=3, verbose=0, random_state=42, n_jobs=-1)\n",
    "search_catboost.fit(X_train, y_train)\n",
    "y_pred_catboost = search_catboost.predict(X_test)\n"
   ]
  },
  {
   "cell_type": "markdown",
   "id": "6df6ad2e",
   "metadata": {
    "papermill": {
     "duration": 0.027355,
     "end_time": "2023-06-02T00:24:17.167598",
     "exception": false,
     "start_time": "2023-06-02T00:24:17.140243",
     "status": "completed"
    },
    "tags": []
   },
   "source": [
    "<div style=\"border-radius:13px; border:#FFB800 solid; padding: 15px; background-color: #FAFFFF; font-size:108%; text-align:left\">\n",
    "* 📝 Predicciones y métricas \n"
   ]
  },
  {
   "cell_type": "code",
   "execution_count": 34,
   "id": "e87ce498",
   "metadata": {
    "_kg_hide-input": true,
    "execution": {
     "iopub.execute_input": "2023-06-02T00:24:17.225583Z",
     "iopub.status.busy": "2023-06-02T00:24:17.224282Z",
     "iopub.status.idle": "2023-06-02T00:24:17.248315Z",
     "shell.execute_reply": "2023-06-02T00:24:17.247431Z"
    },
    "jupyter": {
     "source_hidden": true
    },
    "papermill": {
     "duration": 0.055087,
     "end_time": "2023-06-02T00:24:17.250479",
     "exception": false,
     "start_time": "2023-06-02T00:24:17.195392",
     "status": "completed"
    },
    "tags": []
   },
   "outputs": [
    {
     "name": "stdout",
     "output_type": "stream",
     "text": [
      "Predicciones del modelo CatBoost\n",
      "                  precision    recall  f1-score   support\n",
      "\n",
      "opportunity_lead       0.70      0.64      0.67        33\n",
      "unqualified_lead       0.96      0.97      0.97       322\n",
      "\n",
      "        accuracy                           0.94       355\n",
      "       macro avg       0.83      0.80      0.82       355\n",
      "    weighted avg       0.94      0.94      0.94       355\n",
      "\n",
      "Hamming Loss:0.059154929577464786\n",
      "Accuracy: 0.9408450704225352\n"
     ]
    }
   ],
   "source": [
    "print(\"Predicciones del modelo CatBoost\")\n",
    "print(classification_report(y_test, y_pred_catboost))\n",
    "hl_c = hamming_loss(y_test, y_pred_catboost)\n",
    "acc_c = accuracy_score(y_test, y_pred_catboost)\n",
    "print(f\"Hamming Loss:{hl_c}\")\n",
    "print(f\"Accuracy: {acc_c}\")\n",
    "\n"
   ]
  },
  {
   "cell_type": "markdown",
   "id": "b77f1fd3",
   "metadata": {
    "papermill": {
     "duration": 0.027658,
     "end_time": "2023-06-02T00:24:17.306284",
     "exception": false,
     "start_time": "2023-06-02T00:24:17.278626",
     "status": "completed"
    },
    "tags": []
   },
   "source": [
    "<div style=\"border-radius:13px; border:#FFB800 solid; padding: 15px; background-color: #FAFFFF; font-size:103%; text-align:left\">\n",
    "\n",
    "* **RandomForest Model**"
   ]
  },
  {
   "cell_type": "code",
   "execution_count": 35,
   "id": "d2c3f958",
   "metadata": {
    "_kg_hide-output": true,
    "execution": {
     "iopub.execute_input": "2023-06-02T00:24:17.365745Z",
     "iopub.status.busy": "2023-06-02T00:24:17.364337Z",
     "iopub.status.idle": "2023-06-02T00:24:34.864101Z",
     "shell.execute_reply": "2023-06-02T00:24:34.862574Z"
    },
    "jupyter": {
     "source_hidden": true
    },
    "papermill": {
     "duration": 17.532591,
     "end_time": "2023-06-02T00:24:34.866981",
     "exception": false,
     "start_time": "2023-06-02T00:24:17.334390",
     "status": "completed"
    },
    "tags": []
   },
   "outputs": [],
   "source": [
    "# Random Forest\n",
    "clf2 = make_imb_pipeline(preprocessor, SMOTE(random_state=42), RandomForestClassifier())\n",
    "params_rf = {\n",
    "    'randomforestclassifier__n_estimators': randint(100, 500),\n",
    "    'randomforestclassifier__max_depth': randint(1, 50),\n",
    "    'randomforestclassifier__min_samples_split': randint(2, 10),\n",
    "    'randomforestclassifier__min_samples_leaf': randint(1, 5)\n",
    "}\n",
    "search_rf = RandomizedSearchCV(clf2, param_distributions=params_rf, n_iter=10, cv=3, verbose=0, random_state=42, n_jobs=-1)\n",
    "search_rf.fit(X_train, y_train)\n",
    "y_pred_rf = search_rf.predict(X_test)\n"
   ]
  },
  {
   "cell_type": "markdown",
   "id": "bdcf7797",
   "metadata": {
    "papermill": {
     "duration": 0.027541,
     "end_time": "2023-06-02T00:24:34.922995",
     "exception": false,
     "start_time": "2023-06-02T00:24:34.895454",
     "status": "completed"
    },
    "tags": []
   },
   "source": [
    "<div style=\"border-radius:13px; border:#FFB800 solid; padding: 15px; background-color: #FAFFFF; font-size:108%; text-align:left\">\n",
    "* 📝Predicciones y métricas "
   ]
  },
  {
   "cell_type": "code",
   "execution_count": 36,
   "id": "fb797899",
   "metadata": {
    "_kg_hide-input": true,
    "_kg_hide-output": false,
    "execution": {
     "iopub.execute_input": "2023-06-02T00:24:34.981281Z",
     "iopub.status.busy": "2023-06-02T00:24:34.980867Z",
     "iopub.status.idle": "2023-06-02T00:24:35.010511Z",
     "shell.execute_reply": "2023-06-02T00:24:35.009067Z"
    },
    "jupyter": {
     "source_hidden": true
    },
    "papermill": {
     "duration": 0.061755,
     "end_time": "2023-06-02T00:24:35.013101",
     "exception": false,
     "start_time": "2023-06-02T00:24:34.951346",
     "status": "completed"
    },
    "tags": []
   },
   "outputs": [
    {
     "name": "stdout",
     "output_type": "stream",
     "text": [
      "\n",
      "Predicciones del modelo RandomForest\n",
      "                  precision    recall  f1-score   support\n",
      "\n",
      "opportunity_lead       0.59      0.61      0.60        33\n",
      "unqualified_lead       0.96      0.96      0.96       322\n",
      "\n",
      "        accuracy                           0.92       355\n",
      "       macro avg       0.77      0.78      0.78       355\n",
      "    weighted avg       0.92      0.92      0.92       355\n",
      "\n",
      "Hamming Loss:0.07605633802816901\n",
      "Accuracy: 0.923943661971831\n"
     ]
    }
   ],
   "source": [
    "# Predicciones y métricas \n",
    "print(\"\\nPredicciones del modelo RandomForest\")\n",
    "print(classification_report(y_test, y_pred_rf))\n",
    "hl = hamming_loss(y_test, y_pred_rf)\n",
    "acc = accuracy_score(y_test, y_pred_rf)\n",
    "print(f\"Hamming Loss:{hl}\")\n",
    "print(f\"Accuracy: {acc}\")"
   ]
  },
  {
   "cell_type": "markdown",
   "id": "46008bfe",
   "metadata": {
    "papermill": {
     "duration": 0.028019,
     "end_time": "2023-06-02T00:24:35.069214",
     "exception": false,
     "start_time": "2023-06-02T00:24:35.041195",
     "status": "completed"
    },
    "tags": []
   },
   "source": [
    "### <p style=\"font-family:JetBrains Mono; font-weight:bold; letter-spacing: 2px; color:#05041B; font-size:140%; text-align:left;padding: 0px; border-bottom: 3px solid #FFB800\">📈 Step 6: Training and Validation Models</p>\n"
   ]
  },
  {
   "cell_type": "code",
   "execution_count": 37,
   "id": "c7264348",
   "metadata": {
    "_kg_hide-input": true,
    "execution": {
     "iopub.execute_input": "2023-06-02T00:24:35.130339Z",
     "iopub.status.busy": "2023-06-02T00:24:35.129284Z",
     "iopub.status.idle": "2023-06-02T00:24:35.825525Z",
     "shell.execute_reply": "2023-06-02T00:24:35.824368Z"
    },
    "jupyter": {
     "source_hidden": true
    },
    "papermill": {
     "duration": 0.730275,
     "end_time": "2023-06-02T00:24:35.828301",
     "exception": false,
     "start_time": "2023-06-02T00:24:35.098026",
     "status": "completed"
    },
    "tags": []
   },
   "outputs": [
    {
     "data": {
      "image/png": "[encoded data removed]",
      "text/plain": [
       "<Figure size 1000x700 with 1 Axes>"
      ]
     },
     "metadata": {},
     "output_type": "display_data"
    },
    {
     "data": {
      "image/png": "[encoded data removed]",
      "text/plain": [
       "<Figure size 800x800 with 1 Axes>"
      ]
     },
     "metadata": {},
     "output_type": "display_data"
    }
   ],
   "source": [
    "\n",
    "# Precision, recall y F1-score\n",
    "prec_rec_f1_catboost = precision_recall_fscore_support(y_test, y_pred_catboost, average='weighted')\n",
    "prec_rec_f1_rf = precision_recall_fscore_support(y_test, y_pred_rf, average='weighted')\n",
    "# Crear df para visualización\n",
    "df_metrics = pd.DataFrame({\n",
    "    'Metrics': ['Precision', 'Recall', 'F1-score'],\n",
    "    'CatBoost': [prec_rec_f1_catboost[0], prec_rec_f1_catboost[1], prec_rec_f1_catboost[2]],\n",
    "    'RandomForest': [prec_rec_f1_rf[0], prec_rec_f1_rf[1], prec_rec_f1_rf[2]]\n",
    "})\n",
    "# Generar gráfico de barras para comparación\n",
    "df_metrics.plot(x='Metrics', y=['CatBoost', 'RandomForest'], kind='bar', color=colors, figsize=(10, 7))\n",
    "plt.title('Metrics Comparison')\n",
    "plt.ylabel('Score')\n",
    "plt.grid(True)\n",
    "plt.show()\n",
    "# Generar la curva ROC\n",
    "fig, ax = plt.subplots(figsize=(8, 8))\n",
    "y_probas_catboost = search_catboost.predict_proba(X_test)\n",
    "y_probas_rf = search_rf.predict_proba(X_test)\n",
    "skplt.metrics.plot_roc(y_test, y_probas_catboost, plot_macro=False, plot_micro=False, ax=ax)\n",
    "skplt.metrics.plot_roc(y_test, y_probas_rf, plot_macro=False, plot_micro=False, ax=ax)\n",
    "plt.title('ROC Curves')\n",
    "plt.show()\n"
   ]
  },
  {
   "cell_type": "markdown",
   "id": "6ac36410",
   "metadata": {
    "papermill": {
     "duration": 0.030163,
     "end_time": "2023-06-02T00:24:35.889496",
     "exception": false,
     "start_time": "2023-06-02T00:24:35.859333",
     "status": "completed"
    },
    "tags": []
   },
   "source": [
    "<div style=\"border-radius:13px; border:#FFB800 solid; padding: 15px; background-color: #FAFFFF; font-size:106%; text-align:left\">\n",
    "\n",
    "* Como es de suponer, el modelo presenta fallas en la clase minoritaria \"opportunity_lead\", a su vez la más relevante, **Considerando que las oportunidades no abundan, para tener exito sera impresindible no producir producir falsos negativos o \"unqualified_lead.** \n",
    "\n",
    "* Por este motivo, definiremos **umbrales** mas altos en terminos probabilisticos para que el modelos nos proporcione un \"unqualified_lead\". Nuevamente, en busqueda de optimizar al maximo nuestro proceso y tiempo invertido pero generando el menor impacto posible en las oportunidades perdidas.\n",
    "    \n",
    "   "
   ]
  },
  {
   "cell_type": "code",
   "execution_count": 38,
   "id": "9a336cb0",
   "metadata": {
    "execution": {
     "iopub.execute_input": "2023-06-02T00:24:35.952921Z",
     "iopub.status.busy": "2023-06-02T00:24:35.952533Z",
     "iopub.status.idle": "2023-06-02T00:24:35.957084Z",
     "shell.execute_reply": "2023-06-02T00:24:35.956087Z"
    },
    "jupyter": {
     "source_hidden": true
    },
    "papermill": {
     "duration": 0.038816,
     "end_time": "2023-06-02T00:24:35.959262",
     "exception": false,
     "start_time": "2023-06-02T00:24:35.920446",
     "status": "completed"
    },
    "tags": []
   },
   "outputs": [],
   "source": [
    "# Ajustar y probar el nuevo umbral de clasificación\n",
    "umbral = 0.83 "
   ]
  },
  {
   "cell_type": "code",
   "execution_count": 39,
   "id": "886da613",
   "metadata": {
    "_kg_hide-input": true,
    "execution": {
     "iopub.execute_input": "2023-06-02T00:24:36.023265Z",
     "iopub.status.busy": "2023-06-02T00:24:36.022540Z",
     "iopub.status.idle": "2023-06-02T00:24:36.066633Z",
     "shell.execute_reply": "2023-06-02T00:24:36.065410Z"
    },
    "jupyter": {
     "source_hidden": true
    },
    "papermill": {
     "duration": 0.079728,
     "end_time": "2023-06-02T00:24:36.069452",
     "exception": false,
     "start_time": "2023-06-02T00:24:35.989724",
     "status": "completed"
    },
    "tags": []
   },
   "outputs": [],
   "source": [
    "# Para el modelo CatBoost\n",
    "y_pred_prob_catboost = search_catboost.predict_proba(X_test)[:, 1]\n",
    "y_pred_adj_catboost = np.where(y_pred_prob_catboost > umbral, \"unqualified_lead\", \"opportunity_lead\")\n",
    "\n",
    "# Para el modelo RandomForest\n",
    "y_pred_prob_rf = search_rf.predict_proba(X_test)[:, 1]\n",
    "y_pred_adj_rf = np.where(y_pred_prob_rf > umbral, \"unqualified_lead\", \"opportunity_lead\")"
   ]
  },
  {
   "cell_type": "code",
   "execution_count": 40,
   "id": "b7534e4a",
   "metadata": {
    "_kg_hide-input": true,
    "execution": {
     "iopub.execute_input": "2023-06-02T00:24:36.132614Z",
     "iopub.status.busy": "2023-06-02T00:24:36.132183Z",
     "iopub.status.idle": "2023-06-02T00:24:36.782318Z",
     "shell.execute_reply": "2023-06-02T00:24:36.781440Z"
    },
    "jupyter": {
     "source_hidden": true
    },
    "papermill": {
     "duration": 0.684122,
     "end_time": "2023-06-02T00:24:36.784392",
     "exception": false,
     "start_time": "2023-06-02T00:24:36.100270",
     "status": "completed"
    },
    "tags": []
   },
   "outputs": [
    {
     "data": {
      "image/png": "[encoded data removed]",
      "text/plain": [
       "<Figure size 1500x500 with 4 Axes>"
      ]
     },
     "metadata": {},
     "output_type": "display_data"
    }
   ],
   "source": [
    "from sklearn.metrics import confusion_matrix\n",
    "import seaborn as sns\n",
    "import matplotlib.pyplot as plt\n",
    "\n",
    "# Generar las matrices de confusión\n",
    "cm_catboost = confusion_matrix(y_test, y_pred_adj_catboost)\n",
    "cm_rf = confusion_matrix(y_test, y_pred_adj_rf)\n",
    "\n",
    "fig, axes = plt.subplots(nrows=1, ncols=2, figsize=(15, 5))\n",
    "\n",
    "# Usar los nombres de las categorías en lugar de 0 y 1\n",
    "categories = ['Opportunity lead', 'Unqualified lead']\n",
    "\n",
    "sns.heatmap(cm_catboost, annot=True, fmt=\".0f\", ax=axes[0], cmap=plt.cm.Blues, xticklabels=categories, yticklabels=categories)\n",
    "axes[0].set_title('CatBoost')\n",
    "axes[0].set_xlabel('Prediction')\n",
    "axes[0].set_ylabel('Reality')\n",
    "\n",
    "sns.heatmap(cm_rf, annot=True, fmt=\".0f\", ax=axes[1], cmap=plt.cm.Blues, xticklabels=categories, yticklabels=categories)\n",
    "axes[1].set_title('Random Forest')\n",
    "axes[1].set_xlabel('Prediction')\n",
    "axes[1].set_ylabel('Reality')\n",
    "\n",
    "plt.tight_layout()\n",
    "plt.show()\n"
   ]
  },
  {
   "cell_type": "code",
   "execution_count": 41,
   "id": "5f64eb18",
   "metadata": {
    "_kg_hide-input": true,
    "execution": {
     "iopub.execute_input": "2023-06-02T00:24:36.848824Z",
     "iopub.status.busy": "2023-06-02T00:24:36.847935Z",
     "iopub.status.idle": "2023-06-02T00:24:36.889661Z",
     "shell.execute_reply": "2023-06-02T00:24:36.888335Z"
    },
    "jupyter": {
     "source_hidden": true
    },
    "papermill": {
     "duration": 0.076472,
     "end_time": "2023-06-02T00:24:36.892432",
     "exception": false,
     "start_time": "2023-06-02T00:24:36.815960",
     "status": "completed"
    },
    "tags": []
   },
   "outputs": [
    {
     "name": "stdout",
     "output_type": "stream",
     "text": [
      "Reporte de Clasificación (CatBoost) Actualizado; Umbral 83%:\n",
      "                  precision    recall  f1-score   support\n",
      "\n",
      "opportunity_lead       0.42      0.76      0.54        33\n",
      "unqualified_lead       0.97      0.89      0.93       322\n",
      "\n",
      "        accuracy                           0.88       355\n",
      "       macro avg       0.69      0.82      0.73       355\n",
      "    weighted avg       0.92      0.88      0.89       355\n",
      "\n",
      "\n",
      "Hamming Loss (CatBoost):0.12112676056338029\n",
      "Accuracy (CatBoost): 0.8788732394366198\n",
      "\n",
      "\n",
      "\n",
      "Reporte de Clasificación (Random Forest) Actualizado; Umbral 83%:\n",
      "                  precision    recall  f1-score   support\n",
      "\n",
      "opportunity_lead       0.33      0.88      0.48        33\n",
      "unqualified_lead       0.98      0.81      0.89       322\n",
      "\n",
      "        accuracy                           0.82       355\n",
      "       macro avg       0.66      0.85      0.68       355\n",
      "    weighted avg       0.92      0.82      0.85       355\n",
      "\n",
      "\n",
      "Hamming Loss (Random Forest):0.18028169014084508\n",
      "Accuracy (Random Forest): 0.819718309859155\n",
      "\n"
     ]
    }
   ],
   "source": [
    "print(\"Reporte de Clasificación (CatBoost) Actualizado; Umbral 83%:\")\n",
    "print(classification_report(y_test, y_pred_adj_catboost))\n",
    "hl_catboost = hamming_loss(y_test, y_pred_adj_catboost)\n",
    "acc_catboost = accuracy_score(y_test, y_pred_adj_catboost)\n",
    "print(f\"\\nHamming Loss (CatBoost):{hl_catboost}\")\n",
    "print(f\"Accuracy (CatBoost): {acc_catboost}\\n\")\n",
    "\n",
    "print(\"\\n\\nReporte de Clasificación (Random Forest) Actualizado; Umbral 83%:\")\n",
    "print(classification_report(y_test, y_pred_adj_rf))\n",
    "hl_rf = hamming_loss(y_test, y_pred_adj_rf)\n",
    "acc_rf = accuracy_score(y_test, y_pred_adj_rf)\n",
    "print(f\"\\nHamming Loss (Random Forest):{hl_rf}\")\n",
    "print(f\"Accuracy (Random Forest): {acc_rf}\\n\")\n"
   ]
  },
  {
   "cell_type": "code",
   "execution_count": 42,
   "id": "8741cd2e",
   "metadata": {
    "_kg_hide-input": true,
    "execution": {
     "iopub.execute_input": "2023-06-02T00:24:36.956616Z",
     "iopub.status.busy": "2023-06-02T00:24:36.955835Z",
     "iopub.status.idle": "2023-06-02T00:24:37.009517Z",
     "shell.execute_reply": "2023-06-02T00:24:37.007767Z"
    },
    "jupyter": {
     "source_hidden": true
    },
    "papermill": {
     "duration": 0.088569,
     "end_time": "2023-06-02T00:24:37.012173",
     "exception": false,
     "start_time": "2023-06-02T00:24:36.923604",
     "status": "completed"
    },
    "tags": []
   },
   "outputs": [
    {
     "name": "stdout",
     "output_type": "stream",
     "text": [
      "Breve muestra de Probabilidades y resultados Finales (CatBoost):\n",
      "   opportunity_lead  unqualified_lead        Prediccion  Resultado?\n",
      "0          0.004453          0.995547  unqualified_lead        True\n",
      "1          0.075334          0.924666  unqualified_lead       False\n",
      "2          0.008071          0.991929  unqualified_lead        True\n",
      "\n",
      "\n",
      "Breve muestra de Probabilidades y resultados Finales (Random Forest):\n",
      "   opportunity_lead  unqualified_lead        Prediccion  Resultado?\n",
      "0          0.064983          0.935017  unqualified_lead        True\n",
      "1          0.459155          0.540845  opportunity_lead        True\n",
      "2          0.072602          0.927398  unqualified_lead        True\n"
     ]
    }
   ],
   "source": [
    "# Para el modelo CatBoost\n",
    "y_pred_prob_catboost = search_catboost.predict_proba(X_test)\n",
    "proba_df_catboost = pd.DataFrame(y_pred_prob_catboost, columns=search_catboost.best_estimator_.named_steps['catboostclassifier'].classes_)\n",
    "proba_df_catboost['Prediccion'] = y_pred_adj_catboost\n",
    "proba_df_catboost['Resultado?'] = proba_df_catboost['Prediccion'] == y_test.values\n",
    "print(\"Breve muestra de Probabilidades y resultados Finales (CatBoost):\")\n",
    "print(proba_df_catboost.head(3))\n",
    "# Para el modelo RandomForest\n",
    "y_pred_prob_rf = search_rf.predict_proba(X_test)\n",
    "proba_df_rf = pd.DataFrame(y_pred_prob_rf, columns=search_rf.best_estimator_.named_steps['randomforestclassifier'].classes_)\n",
    "proba_df_rf['Prediccion'] = y_pred_adj_rf\n",
    "proba_df_rf['Resultado?'] = proba_df_rf['Prediccion'] == y_test.values\n",
    "print(\"\\n\\nBreve muestra de Probabilidades y resultados Finales (Random Forest):\")\n",
    "print(proba_df_rf.head(3))\n"
   ]
  },
  {
   "cell_type": "markdown",
   "id": "d6fb2b7b",
   "metadata": {
    "papermill": {
     "duration": 0.030966,
     "end_time": "2023-06-02T00:24:37.074814",
     "exception": false,
     "start_time": "2023-06-02T00:24:37.043848",
     "status": "completed"
    },
    "tags": []
   },
   "source": [
    "### <p style=\"font-family:JetBrains Mono; font-weight:bold; letter-spacing: 2px; color:#05041B; font-size:140%; text-align:left;padding: 0px; border-bottom: 3px solid #FFB800\">📈 Step 7: Conclusion y resultado</p>\n",
    "\n"
   ]
  },
  {
   "cell_type": "code",
   "execution_count": 43,
   "id": "c7bb183a",
   "metadata": {
    "_kg_hide-input": true,
    "execution": {
     "iopub.execute_input": "2023-06-02T00:24:37.138257Z",
     "iopub.status.busy": "2023-06-02T00:24:37.137823Z",
     "iopub.status.idle": "2023-06-02T00:24:37.145410Z",
     "shell.execute_reply": "2023-06-02T00:24:37.144398Z"
    },
    "jupyter": {
     "source_hidden": true
    },
    "papermill": {
     "duration": 0.042005,
     "end_time": "2023-06-02T00:24:37.147590",
     "exception": false,
     "start_time": "2023-06-02T00:24:37.105585",
     "status": "completed"
    },
    "tags": []
   },
   "outputs": [],
   "source": [
    "# Obtener verdaderos positivos, verdaderos negativos, falsos positivos y falsos negativos de las matrices de confusión\n",
    "tp_catboost, fn_catboost, fp_catboost, tn_catboost = cm_catboost.ravel()\n",
    "tp_rf, fn_rf, fp_rf, tn_rf = cm_rf.ravel()\n",
    "# Crear un DataFrame con estos valores para cada modelo\n",
    "dfg = pd.DataFrame({\n",
    "    'Predijo Calificado y resulto ser cierto (Optimizamos Atención)': [tp_catboost, tp_rf],\n",
    "    'Predijo un mal lead y resulto ser cierto: (Ganacia de tiempo)': [tn_catboost, tn_rf],\n",
    "    'Predijo Calificado y resulto ser falso (Perdida de tiempo)': [fp_catboost, fp_rf],\n",
    "    'Predijo un mal lead y resulto ser falso (Costo de oportunidad)': [fn_catboost, fn_rf]\n",
    "}, index=['CatBoost', 'Random Forest'])\n",
    "# Transponer el DataFrame para que las métricas sean las columnas y los modelos sean las filas\n",
    "dfg = dfg.T\n"
   ]
  },
  {
   "cell_type": "code",
   "execution_count": 44,
   "id": "d1187966",
   "metadata": {
    "_kg_hide-input": true,
    "execution": {
     "iopub.execute_input": "2023-06-02T00:24:37.211668Z",
     "iopub.status.busy": "2023-06-02T00:24:37.211079Z",
     "iopub.status.idle": "2023-06-02T00:24:37.229711Z",
     "shell.execute_reply": "2023-06-02T00:24:37.228648Z"
    },
    "papermill": {
     "duration": 0.052876,
     "end_time": "2023-06-02T00:24:37.231790",
     "exception": false,
     "start_time": "2023-06-02T00:24:37.178914",
     "status": "completed"
    },
    "tags": []
   },
   "outputs": [
    {
     "data": {
      "text/html": [
       "<div>                            <div id=\"49751277-7333-419b-a028-3e4260ffa00e\" class=\"plotly-graph-div\" style=\"height:525px; width:100%;\"></div>            <script type=\"text/javascript\">                require([\"plotly\"], function(Plotly) {                    window.PLOTLYENV=window.PLOTLYENV || {};                                    if (document.getElementById(\"49751277-7333-419b-a028-3e4260ffa00e\")) {                    Plotly.newPlot(                        \"49751277-7333-419b-a028-3e4260ffa00e\",                        [{\"marker\":{\"color\":\"#064572\"},\"name\":\"CatBoost\",\"orientation\":\"h\",\"x\":[25,287,35,8],\"y\":[\"Predijo Calificado y resulto ser cierto (Optimizamos Atención)\",\"Predijo un mal lead y resulto ser cierto: (Ganacia de tiempo)\",\"Predijo Calificado y resulto ser falso (Perdida de tiempo)\",\"Predijo un mal lead y resulto ser falso (Costo de oportunidad)\"],\"type\":\"bar\"},{\"marker\":{\"color\":\"#A8854F\"},\"name\":\"Random Forest\",\"orientation\":\"h\",\"x\":[29,262,60,4],\"y\":[\"Predijo Calificado y resulto ser cierto (Optimizamos Atención)\",\"Predijo un mal lead y resulto ser cierto: (Ganacia de tiempo)\",\"Predijo Calificado y resulto ser falso (Perdida de tiempo)\",\"Predijo un mal lead y resulto ser falso (Costo de oportunidad)\"],\"type\":\"bar\"}],                        {\"template\":{\"data\":{\"histogram2dcontour\":[{\"type\":\"histogram2dcontour\",\"colorbar\":{\"outlinewidth\":0,\"ticks\":\"\"},\"colorscale\":[[0.0,\"#0d0887\"],[0.1111111111111111,\"#46039f\"],[0.2222222222222222,\"#7201a8\"],[0.3333333333333333,\"#9c179e\"],[0.4444444444444444,\"#bd3786\"],[0.5555555555555556,\"#d8576b\"],[0.6666666666666666,\"#ed7953\"],[0.7777777777777778,\"#fb9f3a\"],[0.8888888888888888,\"#fdca26\"],[1.0,\"#f0f921\"]]}],\"choropleth\":[{\"type\":\"choropleth\",\"colorbar\":{\"outlinewidth\":0,\"ticks\":\"\"}}],\"histogram2d\":[{\"type\":\"histogram2d\",\"colorbar\":{\"outlinewidth\":0,\"ticks\":\"\"},\"colorscale\":[[0.0,\"#0d0887\"],[0.1111111111111111,\"#46039f\"],[0.2222222222222222,\"#7201a8\"],[0.3333333333333333,\"#9c179e\"],[0.4444444444444444,\"#bd3786\"],[0.5555555555555556,\"#d8576b\"],[0.6666666666666666,\"#ed7953\"],[0.7777777777777778,\"#fb9f3a\"],[0.8888888888888888,\"#fdca26\"],[1.0,\"#f0f921\"]]}],\"heatmap\":[{\"type\":\"heatmap\",\"colorbar\":{\"outlinewidth\":0,\"ticks\":\"\"},\"colorscale\":[[0.0,\"#0d0887\"],[0.1111111111111111,\"#46039f\"],[0.2222222222222222,\"#7201a8\"],[0.3333333333333333,\"#9c179e\"],[0.4444444444444444,\"#bd3786\"],[0.5555555555555556,\"#d8576b\"],[0.6666666666666666,\"#ed7953\"],[0.7777777777777778,\"#fb9f3a\"],[0.8888888888888888,\"#fdca26\"],[1.0,\"#f0f921\"]]}],\"heatmapgl\":[{\"type\":\"heatmapgl\",\"colorbar\":{\"outlinewidth\":0,\"ticks\":\"\"},\"colorscale\":[[0.0,\"#0d0887\"],[0.1111111111111111,\"#46039f\"],[0.2222222222222222,\"#7201a8\"],[0.3333333333333333,\"#9c179e\"],[0.4444444444444444,\"#bd3786\"],[0.5555555555555556,\"#d8576b\"],[0.6666666666666666,\"#ed7953\"],[0.7777777777777778,\"#fb9f3a\"],[0.8888888888888888,\"#fdca26\"],[1.0,\"#f0f921\"]]}],\"contourcarpet\":[{\"type\":\"contourcarpet\",\"colorbar\":{\"outlinewidth\":0,\"ticks\":\"\"}}],\"contour\":[{\"type\":\"contour\",\"colorbar\":{\"outlinewidth\":0,\"ticks\":\"\"},\"colorscale\":[[0.0,\"#0d0887\"],[0.1111111111111111,\"#46039f\"],[0.2222222222222222,\"#7201a8\"],[0.3333333333333333,\"#9c179e\"],[0.4444444444444444,\"#bd3786\"],[0.5555555555555556,\"#d8576b\"],[0.6666666666666666,\"#ed7953\"],[0.7777777777777778,\"#fb9f3a\"],[0.8888888888888888,\"#fdca26\"],[1.0,\"#f0f921\"]]}],\"surface\":[{\"type\":\"surface\",\"colorbar\":{\"outlinewidth\":0,\"ticks\":\"\"},\"colorscale\":[[0.0,\"#0d0887\"],[0.1111111111111111,\"#46039f\"],[0.2222222222222222,\"#7201a8\"],[0.3333333333333333,\"#9c179e\"],[0.4444444444444444,\"#bd3786\"],[0.5555555555555556,\"#d8576b\"],[0.6666666666666666,\"#ed7953\"],[0.7777777777777778,\"#fb9f3a\"],[0.8888888888888888,\"#fdca26\"],[1.0,\"#f0f921\"]]}],\"mesh3d\":[{\"type\":\"mesh3d\",\"colorbar\":{\"outlinewidth\":0,\"ticks\":\"\"}}],\"scatter\":[{\"fillpattern\":{\"fillmode\":\"overlay\",\"size\":10,\"solidity\":0.2},\"type\":\"scatter\"}],\"parcoords\":[{\"type\":\"parcoords\",\"line\":{\"colorbar\":{\"outlinewidth\":0,\"ticks\":\"\"}}}],\"scatterpolargl\":[{\"type\":\"scatterpolargl\",\"marker\":{\"colorbar\":{\"outlinewidth\":0,\"ticks\":\"\"}}}],\"bar\":[{\"error_x\":{\"color\":\"#2a3f5f\"},\"error_y\":{\"color\":\"#2a3f5f\"},\"marker\":{\"line\":{\"color\":\"#E5ECF6\",\"width\":0.5},\"pattern\":{\"fillmode\":\"overlay\",\"size\":10,\"solidity\":0.2}},\"type\":\"bar\"}],\"scattergeo\":[{\"type\":\"scattergeo\",\"marker\":{\"colorbar\":{\"outlinewidth\":0,\"ticks\":\"\"}}}],\"scatterpolar\":[{\"type\":\"scatterpolar\",\"marker\":{\"colorbar\":{\"outlinewidth\":0,\"ticks\":\"\"}}}],\"histogram\":[{\"marker\":{\"pattern\":{\"fillmode\":\"overlay\",\"size\":10,\"solidity\":0.2}},\"type\":\"histogram\"}],\"scattergl\":[{\"type\":\"scattergl\",\"marker\":{\"colorbar\":{\"outlinewidth\":0,\"ticks\":\"\"}}}],\"scatter3d\":[{\"type\":\"scatter3d\",\"line\":{\"colorbar\":{\"outlinewidth\":0,\"ticks\":\"\"}},\"marker\":{\"colorbar\":{\"outlinewidth\":0,\"ticks\":\"\"}}}],\"scattermapbox\":[{\"type\":\"scattermapbox\",\"marker\":{\"colorbar\":{\"outlinewidth\":0,\"ticks\":\"\"}}}],\"scatterternary\":[{\"type\":\"scatterternary\",\"marker\":{\"colorbar\":{\"outlinewidth\":0,\"ticks\":\"\"}}}],\"scattercarpet\":[{\"type\":\"scattercarpet\",\"marker\":{\"colorbar\":{\"outlinewidth\":0,\"ticks\":\"\"}}}],\"carpet\":[{\"aaxis\":{\"endlinecolor\":\"#2a3f5f\",\"gridcolor\":\"white\",\"linecolor\":\"white\",\"minorgridcolor\":\"white\",\"startlinecolor\":\"#2a3f5f\"},\"baxis\":{\"endlinecolor\":\"#2a3f5f\",\"gridcolor\":\"white\",\"linecolor\":\"white\",\"minorgridcolor\":\"white\",\"startlinecolor\":\"#2a3f5f\"},\"type\":\"carpet\"}],\"table\":[{\"cells\":{\"fill\":{\"color\":\"#EBF0F8\"},\"line\":{\"color\":\"white\"}},\"header\":{\"fill\":{\"color\":\"#C8D4E3\"},\"line\":{\"color\":\"white\"}},\"type\":\"table\"}],\"barpolar\":[{\"marker\":{\"line\":{\"color\":\"#E5ECF6\",\"width\":0.5},\"pattern\":{\"fillmode\":\"overlay\",\"size\":10,\"solidity\":0.2}},\"type\":\"barpolar\"}],\"pie\":[{\"automargin\":true,\"type\":\"pie\"}]},\"layout\":{\"autotypenumbers\":\"strict\",\"colorway\":[\"#636efa\",\"#EF553B\",\"#00cc96\",\"#ab63fa\",\"#FFA15A\",\"#19d3f3\",\"#FF6692\",\"#B6E880\",\"#FF97FF\",\"#FECB52\"],\"font\":{\"color\":\"#2a3f5f\"},\"hovermode\":\"closest\",\"hoverlabel\":{\"align\":\"left\"},\"paper_bgcolor\":\"white\",\"plot_bgcolor\":\"#E5ECF6\",\"polar\":{\"bgcolor\":\"#E5ECF6\",\"angularaxis\":{\"gridcolor\":\"white\",\"linecolor\":\"white\",\"ticks\":\"\"},\"radialaxis\":{\"gridcolor\":\"white\",\"linecolor\":\"white\",\"ticks\":\"\"}},\"ternary\":{\"bgcolor\":\"#E5ECF6\",\"aaxis\":{\"gridcolor\":\"white\",\"linecolor\":\"white\",\"ticks\":\"\"},\"baxis\":{\"gridcolor\":\"white\",\"linecolor\":\"white\",\"ticks\":\"\"},\"caxis\":{\"gridcolor\":\"white\",\"linecolor\":\"white\",\"ticks\":\"\"}},\"coloraxis\":{\"colorbar\":{\"outlinewidth\":0,\"ticks\":\"\"}},\"colorscale\":{\"sequential\":[[0.0,\"#0d0887\"],[0.1111111111111111,\"#46039f\"],[0.2222222222222222,\"#7201a8\"],[0.3333333333333333,\"#9c179e\"],[0.4444444444444444,\"#bd3786\"],[0.5555555555555556,\"#d8576b\"],[0.6666666666666666,\"#ed7953\"],[0.7777777777777778,\"#fb9f3a\"],[0.8888888888888888,\"#fdca26\"],[1.0,\"#f0f921\"]],\"sequentialminus\":[[0.0,\"#0d0887\"],[0.1111111111111111,\"#46039f\"],[0.2222222222222222,\"#7201a8\"],[0.3333333333333333,\"#9c179e\"],[0.4444444444444444,\"#bd3786\"],[0.5555555555555556,\"#d8576b\"],[0.6666666666666666,\"#ed7953\"],[0.7777777777777778,\"#fb9f3a\"],[0.8888888888888888,\"#fdca26\"],[1.0,\"#f0f921\"]],\"diverging\":[[0,\"#8e0152\"],[0.1,\"#c51b7d\"],[0.2,\"#de77ae\"],[0.3,\"#f1b6da\"],[0.4,\"#fde0ef\"],[0.5,\"#f7f7f7\"],[0.6,\"#e6f5d0\"],[0.7,\"#b8e186\"],[0.8,\"#7fbc41\"],[0.9,\"#4d9221\"],[1,\"#276419\"]]},\"xaxis\":{\"gridcolor\":\"white\",\"linecolor\":\"white\",\"ticks\":\"\",\"title\":{\"standoff\":15},\"zerolinecolor\":\"white\",\"automargin\":true,\"zerolinewidth\":2},\"yaxis\":{\"gridcolor\":\"white\",\"linecolor\":\"white\",\"ticks\":\"\",\"title\":{\"standoff\":15},\"zerolinecolor\":\"white\",\"automargin\":true,\"zerolinewidth\":2},\"scene\":{\"xaxis\":{\"backgroundcolor\":\"#E5ECF6\",\"gridcolor\":\"white\",\"linecolor\":\"white\",\"showbackground\":true,\"ticks\":\"\",\"zerolinecolor\":\"white\",\"gridwidth\":2},\"yaxis\":{\"backgroundcolor\":\"#E5ECF6\",\"gridcolor\":\"white\",\"linecolor\":\"white\",\"showbackground\":true,\"ticks\":\"\",\"zerolinecolor\":\"white\",\"gridwidth\":2},\"zaxis\":{\"backgroundcolor\":\"#E5ECF6\",\"gridcolor\":\"white\",\"linecolor\":\"white\",\"showbackground\":true,\"ticks\":\"\",\"zerolinecolor\":\"white\",\"gridwidth\":2}},\"shapedefaults\":{\"line\":{\"color\":\"#2a3f5f\"}},\"annotationdefaults\":{\"arrowcolor\":\"#2a3f5f\",\"arrowhead\":0,\"arrowwidth\":1},\"geo\":{\"bgcolor\":\"white\",\"landcolor\":\"#E5ECF6\",\"subunitcolor\":\"white\",\"showland\":true,\"showlakes\":true,\"lakecolor\":\"white\"},\"title\":{\"x\":0.05},\"mapbox\":{\"style\":\"light\"}}},\"title\":{\"text\":\"Traducido a Resultados\"},\"xaxis\":{\"title\":{\"text\":\"Count\"}},\"yaxis\":{\"title\":{\"text\":\"\"}},\"barmode\":\"stack\"},                        {\"responsive\": true}                    ).then(function(){\n",
       "                            \n",
       "var gd = document.getElementById('49751277-7333-419b-a028-3e4260ffa00e');\n",
       "var x = new MutationObserver(function (mutations, observer) {{\n",
       "        var display = window.getComputedStyle(gd).display;\n",
       "        if (!display || display === 'none') {{\n",
       "            console.log([gd, 'removed!']);\n",
       "            Plotly.purge(gd);\n",
       "            observer.disconnect();\n",
       "        }}\n",
       "}});\n",
       "\n",
       "// Listen for the removal of the full notebook cells\n",
       "var notebookContainer = gd.closest('#notebook-container');\n",
       "if (notebookContainer) {{\n",
       "    x.observe(notebookContainer, {childList: true});\n",
       "}}\n",
       "\n",
       "// Listen for the clearing of the current output cell\n",
       "var outputEl = gd.closest('.output');\n",
       "if (outputEl) {{\n",
       "    x.observe(outputEl, {childList: true});\n",
       "}}\n",
       "\n",
       "                        })                };                });            </script>        </div>"
      ]
     },
     "metadata": {},
     "output_type": "display_data"
    }
   ],
   "source": [
    "# Crear un objeto de figura\n",
    "fig = go.Figure()\n",
    "# Ejemplo de cómo utilizar los colores en el gráfico de barras apiladas\n",
    "for i, metric in enumerate(dfg.columns):\n",
    "    fig.add_trace(go.Bar(\n",
    "        y=dfg.index,\n",
    "        x=dfg[metric],\n",
    "        name=metric,\n",
    "        marker_color=colors[i % len(colors)],  # Utilizar el color que corresponde a cada modelo\n",
    "        orientation='h'\n",
    "    ))\n",
    "# Agregar título y nombres de ejes\n",
    "fig.update_layout(\n",
    "    title_text='Traducido a Resultados',\n",
    "    xaxis_title='Count',\n",
    "    yaxis_title='',\n",
    "    barmode='stack'\n",
    ")\n",
    "# Mostrar el gráfico\n",
    "fig.show()\n"
   ]
  },
  {
   "cell_type": "markdown",
   "id": "794350bd",
   "metadata": {
    "papermill": {
     "duration": 0.031125,
     "end_time": "2023-06-02T00:24:37.294443",
     "exception": false,
     "start_time": "2023-06-02T00:24:37.263318",
     "status": "completed"
    },
    "tags": []
   },
   "source": [
    "<div style=\"border-radius:13px; border:#FFB800 solid; padding: 15px; background-color: #FAFFFF; font-size:113%; text-align:left\">\n",
    "    \n",
    "* Finalmente, resginando precision reducimos al maximo los falsos \"negativos\" o falsos \"unqualified_lead\" especialmente con el modelo Random Forest.\n",
    "\n",
    "* Este modelo fue creado inicialmente con un conjunto de 430 leads para optimizar mi tiempo invertido en mi rol como consultor. Con el tiempo, la entrada de nuevos leads y el uso de nuevas tecnicas lo fueron optimizando hasta el dia de hoy."
   ]
  },
  {
   "cell_type": "markdown",
   "id": "212a8c64",
   "metadata": {
    "papermill": {
     "duration": 0.030419,
     "end_time": "2023-06-02T00:24:37.355853",
     "exception": false,
     "start_time": "2023-06-02T00:24:37.325434",
     "status": "completed"
    },
    "tags": []
   },
   "source": [
    "<div style=\"border-radius:13px; border:#FFB800 solid; padding: 15px; background-color: #FAFFFF; font-size:100%; text-align:left\">\n"
   ]
  }
 ],
 "metadata": {
  "kernelspec": {
   "display_name": "Python 3",
   "language": "python",
   "name": "python3"
  },
  "language_info": {
   "codemirror_mode": {
    "name": "ipython",
    "version": 3
   },
   "file_extension": ".py",
   "mimetype": "text/x-python",
   "name": "python",
   "nbconvert_exporter": "python",
   "pygments_lexer": "ipython3",
   "version": "3.10.10"
  },
  "papermill": {
   "default_parameters": {},
   "duration": 116.166738,
   "end_time": "2023-06-02T00:24:40.007166",
   "environment_variables": {},
   "exception": null,
   "input_path": "__notebook__.ipynb",
   "output_path": "__notebook__.ipynb",
   "parameters": {},
   "start_time": "2023-06-02T00:22:43.840428",
   "version": "2.4.0"
  }
 },
 "nbformat": 4,
 "nbformat_minor": 5
}
