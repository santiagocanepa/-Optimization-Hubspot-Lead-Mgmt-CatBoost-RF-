{
 "cells": [
  {
   "cell_type": "code",
   "execution_count": 1,
   "id": "a1997f46",
   "metadata": {
    "_kg_hide-input": true,
    "_kg_hide-output": true,
    "execution": {
     "iopub.execute_input": "2023-06-02T23:56:47.109914Z",
     "iopub.status.busy": "2023-06-02T23:56:47.108730Z",
     "iopub.status.idle": "2023-06-02T23:56:48.476687Z",
     "shell.execute_reply": "2023-06-02T23:56:48.475115Z"
    },
    "papermill": {
     "duration": 1.398077,
     "end_time": "2023-06-02T23:56:48.479536",
     "exception": false,
     "start_time": "2023-06-02T23:56:47.081459",
     "status": "completed"
    },
    "tags": []
   },
   "outputs": [
    {
     "data": {
      "text/html": [
       "<style>\n",
       "\n",
       ":root{\n",
       "    --header1_color: #204709;\n",
       "    --header2_color: #42841F;\n",
       "    --header3_color: #6EAF4B;\n",
       "    --keyword_color: #cc241d; /* import */\n",
       "    --string_color: #79740e;\n",
       "    --number_color: #b16286;\n",
       "    --def_color: #689d6a; /* class name */\n",
       "    --property_color: #458588; /* python properties */\n",
       "    --builtin_color: #689d6a;\n",
       "    --comment_color: #9f9f9f;\n",
       "    --comment_color_2: #458588; /* equals sign */\n",
       "    --operator_color: #a221f2;\n",
       "    --font_color: #3c3836; /* general font */\n",
       "    --variable2_color: #b16286; /*self keyworda */\n",
       "    --box_color: #fffdee66;\n",
       "}\n",
       "\n",
       "\n",
       "/* h1, .h1 { */\n",
       "/*     font-family: \"Trebuchet MS\", sans-serif; */\n",
       "/*     font-size: 2em !important; */\n",
       "/*     letter-spacing: 1px; */\n",
       "/*     /1* border-bottom: 3px solid #497564; *1/ */\n",
       "/*     /1* text-transform: uppercase; *1/ */\n",
       "/*     color: var(--header1_color); */\n",
       "/*     border-bottom: 3px solid var(--header1_color); */\n",
       "/* } */\n",
       "\n",
       "/* h1.title{ */\n",
       "/*     padding:5px */\n",
       "/* } */\n",
       "\n",
       "/* div.title { */\n",
       "/*     text-align: center; */\n",
       "/*     background-color: #d3e6d23d; */\n",
       "/*     height:3em; */\n",
       "/*     border-radius: 10px; */\n",
       "/*     box-shadow: 3px 3px #536f533d; */\n",
       "/*     margin-bottom: 8px; */\n",
       "/* } */\n",
       "\n",
       "/* h2, .h2 { */\n",
       "/*     font-family: \"Trebuchet MS\"; */\n",
       "/*     font-size: 1.7em !important; */\n",
       "/*     color: var(--header2_color); */\n",
       "/* } */\n",
       "\n",
       "/* h3, .h3 { */\n",
       "/*     font-family: \"Trebuchet MS\"; */\n",
       "/*     font-size: 1.4em !important; */\n",
       "/*     color: var(--header3_color); */\n",
       "/* } */\n",
       "\n",
       "/* .jp-mod-active .jp-Collapser-child{ */\n",
       "/*     background-color: #d79921; */\n",
       "/* } */\n",
       "/* .output { */\n",
       "/*     flex-direction: row; */\n",
       "/* } */\n",
       "\n",
       ".cm-s-jupyter span.cm-variable-2{\n",
       "    color: var(--variable2_color);\n",
       "}\n",
       "\n",
       ".cm-s-jupyter span.cm-variable{\n",
       "    color: var(--font_color);\n",
       "}\n",
       ".cm-s-jupyter span.cm-number{\n",
       "    color: var(--number_color);\n",
       "}\n",
       "\n",
       ".cm-s-jupyter span.cm-def {\n",
       "    color: var(--def_color);\n",
       "}\n",
       "\n",
       ".cm-s-jupyter span.cm-keyword{\n",
       "    color: var(--keyword_color);\n",
       "    font-weight: lighter;\n",
       "}\n",
       "\n",
       ".cm-s-jupyter span.cm-property{\n",
       "    color: var(--property_color);\n",
       "}\n",
       "\n",
       ".cm-s-jupyter span.cm-builtin{\n",
       "    color: var(--builtin_color);\n",
       "}\n",
       "\n",
       ".cm-s-jupyter span.cm-string {\n",
       "    color: var(--string_color);\n",
       "}\n",
       "\n",
       ".cm-s-jupyter span.cm-comment{\n",
       "    color: var(--comment_color);\n",
       "}\n",
       "\n",
       ".cm-s-jupyter span.cm-operator{\n",
       "    color: var(--operator_color);\n",
       "}\n",
       "\n",
       "body[data-jp-theme-light=\"true\"] .jp-Notebook .CodeMirror.cm-s-jupyter{\n",
       "    background-color: var(--box_color) !important;\n",
       "}\n",
       "\n",
       "/* body[data-jp-theme-light=\"true\"] .lm-Widget.p-Widget.jp-CodeMirrorEditor.jp-Editor.jp-InputArea-editor { */\n",
       "/*     border-color: #9b9b99 !important; */\n",
       "/*     border-style: solid none none !important; */\n",
       "/*     border-width: 2px medium medium !important; */\n",
       "/*     border-radius: 0; */\n",
       "/* } */\n",
       "\n",
       "/* /1* --- for rendering submitted notebook --- *1/ */\n",
       "/* div.text_cell_render h1 { */\n",
       "/*     font-family: \"Trebuchet MS\", sans-serif; */\n",
       "/*     font-size: 2em !important; */\n",
       "/*     letter-spacing: 1px; */\n",
       "/*     border-bottom: 3px solid var(--header1_color); */\n",
       "/*     /1* text-transform: uppercase; *1/ */\n",
       "/*     color: var(--header1_color); */\n",
       "/*     padding: 0px; */\n",
       "/*     margin-top: 5px; */\n",
       "/* } */\n",
       "\n",
       "/* div.text_cell_render h2 { */\n",
       "/*     font-family: \"Trebuchet MS\"; */\n",
       "/*     font-size: 1.7em !important; */\n",
       "/*     color: var(--header2_color); */\n",
       "/* } */\n",
       "\n",
       "/* div.text_cell_render h3 { */\n",
       "/*     font-family: \"Trebuchet MS\"; */\n",
       "/*     font-size: 1.4em !important; */\n",
       "/*     color: var(--header3_color); */\n",
       "/* } */\n",
       "\n",
       "/* .highlight .nn{ */\n",
       "/*     color: black; */\n",
       "/* } */\n",
       "\n",
       "/* .n{ */\n",
       "/*     color: black */\n",
       "/* } */\n",
       "\n",
       "/* .o{ */\n",
       "/*     color: black */\n",
       "/* } */\n",
       "\n",
       "/* .p{ */\n",
       "/*     color: black */\n",
       "/* } */\n",
       "\n",
       ".highlight .s1 {\n",
       "    color: var(--string_color);\n",
       "}\n",
       "\n",
       "/* cm-string */\n",
       ".highlight .s2 {\n",
       "    color: var(--string_color);\n",
       "}\n",
       "\n",
       "/* cm-keyword */\n",
       ".highlight .k {\n",
       "    color: var(--keyword_color);\n",
       "    font-weight: lighter;\n",
       "}\n",
       "\n",
       ".highlight .kc{\n",
       "    color: var(--keyword_color);\n",
       "    font-weight: lighter;\n",
       "}\n",
       "\n",
       "/* cm-number */\n",
       ".highlight .mi{\n",
       "    color: var(--number_color);\n",
       "}\n",
       "\n",
       "/* cm-comment */\n",
       ".highlight .c1{\n",
       "    color: var(--comment_color);\n",
       "    font-weight: lighter;\n",
       "}\n",
       "\n",
       ".highlight .mf{\n",
       "    color: var(--number_color);\n",
       "}\n",
       "\n",
       ".highlight .sd{\n",
       "    color: var(--string_color);\n",
       "    font-weight: lighter;\n",
       "}\n",
       "\n",
       "/* cm-keyword */\n",
       ".highlight .ow {\n",
       "    color: var(--keyword_color);\n",
       "    font-weight: lighter;\n",
       "}\n",
       "\n",
       "/* cm-operator */\n",
       ".highlight .o{\n",
       "    color: var(--operator_color);\n",
       "}\n",
       "\n",
       "/* cm-keyword */\n",
       ".highlight .kn{\n",
       "    color: var(--keyword_color);\n",
       "    font-weight: lighter;\n",
       "}\n",
       "\n",
       "/* cm-builtin */\n",
       ".highlight .nb{\n",
       "    color: var(--builtin_color);\n",
       "}\n",
       "\n",
       "/* class keyword */\n",
       ".highlight .nc{\n",
       "    color: var(--def_color);\n",
       "    font-weight: lighter;\n",
       "}\n",
       "\n",
       "/* cm-def */ \n",
       ".highlight .fm{\n",
       "    color: var(--def_color);\n",
       "}\n",
       "\n",
       "/* cm-keyword */\n",
       ".highlight .bp{\n",
       "    color: var(--keyword_color);\n",
       "}\n",
       "\n",
       ".highlight .si {\n",
       "  color: #BB6622;\n",
       "  font-weight: lighter;\n",
       "}\n",
       "\n",
       "/* cm-property */\n",
       "a.global_indexed_symbol{\n",
       "    color: var(--property_color);\n",
       "}\n",
       "\n",
       "/* cm-def */ \n",
       ".highlight .nf{\n",
       "    color: var(--def_color);\n",
       "}\n",
       "\n",
       "/* self */\n",
       ".highlight .bp{\n",
       "    color: var(--variable2_color)\n",
       "}\n",
       "\n",
       "div.output_subarea.output_text{\n",
       "    padding: 16px;\n",
       "    width: 1000px;\n",
       "}\n",
       "\n",
       ".jp-RenderedHTMLCommon :not(pre) > code{\n",
       "    background-color: transparent !important;\n",
       "}\n",
       "\n",
       "/* h1.header { */\n",
       "/*     color: white !important; */\n",
       "/* } */\n",
       "\n",
       ".insights {\n",
       "    line-height: 1.7em;\n",
       "    color: #31708f;\n",
       "    background-color: #d9edf7;\n",
       "    border-color: #bce8f1;\n",
       "    padding: 15px;\n",
       "    margin-bottom: 20px;\n",
       "    border: 1px solid transparent;\n",
       "    border-radius: 4px;\n",
       "    font-family: Verdana,sans-serif;\n",
       "    font-size: 15px;\n",
       "}\n",
       "\n",
       "div.output_subarea {\n",
       "    padding: 0px\n",
       "}\n",
       "\n",
       "div.output_area pre{\n",
       "    margin: 0px\n",
       "}\n",
       "\n",
       "div.output_area pre {\n",
       "    margin: 5px\n",
       "}\n",
       "\n",
       "\n",
       "div.input_area{\n",
       "    background-color: var(--box_color) !important;\n",
       "}\n",
       "\n",
       "</style>\n"
      ],
      "text/plain": [
       "<IPython.core.display.HTML object>"
      ]
     },
     "execution_count": 1,
     "metadata": {},
     "output_type": "execute_result"
    }
   ],
   "source": [
    "# CSS style setting\n",
    "!wget http://bit.ly/3ZLyF82 -O CSS.css -q\n",
    "    \n",
    "from IPython.core.display import HTML\n",
    "with open('./CSS.css', 'r') as file:\n",
    "    custom_css = file.read()\n",
    "\n",
    "HTML(custom_css)"
   ]
  },
  {
   "cell_type": "code",
   "execution_count": 2,
   "id": "e9a60c04",
   "metadata": {
    "_kg_hide-input": true,
    "_kg_hide-output": true,
    "execution": {
     "iopub.execute_input": "2023-06-02T23:56:48.533710Z",
     "iopub.status.busy": "2023-06-02T23:56:48.533279Z",
     "iopub.status.idle": "2023-06-02T23:56:48.539271Z",
     "shell.execute_reply": "2023-06-02T23:56:48.538076Z"
    },
    "papermill": {
     "duration": 0.03607,
     "end_time": "2023-06-02T23:56:48.541549",
     "exception": false,
     "start_time": "2023-06-02T23:56:48.505479",
     "status": "completed"
    },
    "tags": []
   },
   "outputs": [],
   "source": [
    "colors = ['#064572', '#A8854F', '#7E98B2', '#663DB8', '#2D795E', '#57073E', '#AF550B', '#15042E', '#DD1E6A', '#CB9F07', '#44143B', '#0BAFA1']\n"
   ]
  },
  {
   "cell_type": "markdown",
   "id": "d3ffcee1",
   "metadata": {
    "papermill": {
     "duration": 0.026812,
     "end_time": "2023-06-02T23:56:48.594442",
     "exception": false,
     "start_time": "2023-06-02T23:56:48.567630",
     "status": "completed"
    },
    "tags": []
   },
   "source": [
    "<div style=\"border-radius:13px; border:#FFB800 solid; padding: 15px; background-color: #FAFFFF; font-size:123%; text-align:left\">\n",
    "\n",
    "<h3 align=\"left\"><font color='#05041B'>💡🧠Overview :</font></h3>\n",
    "    \n",
    "    \n",
    "* I will be implementing the CatBoost & Random Forest models on my database of 1800 leads sourced from my franchise consulting business, selecting 22 out of 150 attributes per lead.\n",
    "* Despite imperfections in the data and its extraction from Hubspot, my goal is to optimize consultant efficiency and timely address opportunities with minimal impact."
   ]
  },
  {
   "cell_type": "markdown",
   "id": "828b5fef",
   "metadata": {
    "papermill": {
     "duration": 0.025715,
     "end_time": "2023-06-02T23:56:48.646303",
     "exception": false,
     "start_time": "2023-06-02T23:56:48.620588",
     "status": "completed"
    },
    "tags": []
   },
   "source": [
    "<p style=\"text-align:left;\">\n",
    "<img src=\"https://github.com/santiagocanepa/Optimizing-the-Management-of-1800-Own-Leads-in-HubSpot-Applying-XGB-CatBoost-and-Random-Forest/blob/main/imag/pngwing.com.png?raw=true\" width=\"13.8%\" height=\"30%\">"
   ]
  },
  {
   "cell_type": "markdown",
   "id": "ba618627",
   "metadata": {
    "papermill": {
     "duration": 0.025656,
     "end_time": "2023-06-02T23:56:48.697888",
     "exception": false,
     "start_time": "2023-06-02T23:56:48.672232",
     "status": "completed"
    },
    "tags": []
   },
   "source": [
    "<p style=\"text-align:left;\">\n",
    "    <img src=\"https://github.com/santiagocanepa/Optimizing-the-Management-of-1800-Own-Leads-in-HubSpot-Applying-XGB-CatBoost-and-Random-Forest/blob/main/imag/FQC_Logo_2@2x.png?raw=true\" width=\"15%\" height=\"30%\">"
   ]
  },
  {
   "cell_type": "markdown",
   "id": "8b2be862",
   "metadata": {
    "papermill": {
     "duration": 0.025494,
     "end_time": "2023-06-02T23:56:48.750010",
     "exception": false,
     "start_time": "2023-06-02T23:56:48.724516",
     "status": "completed"
    },
    "tags": []
   },
   "source": [
    "# <p style=\"font-family:JetBrains Mono; font-weight:bold; letter-spacing: 2px; color:#05041B; font-size:140%; text-align:left;padding: 0px; border-bottom: 3px solid #FFB800\">📚Step 1: Importing Libraries and Modules"
   ]
  },
  {
   "cell_type": "code",
   "execution_count": 3,
   "id": "7318eef1",
   "metadata": {
    "_kg_hide-input": false,
    "_kg_hide-output": true,
    "execution": {
     "iopub.execute_input": "2023-06-02T23:56:48.803517Z",
     "iopub.status.busy": "2023-06-02T23:56:48.802853Z",
     "iopub.status.idle": "2023-06-02T23:56:52.766331Z",
     "shell.execute_reply": "2023-06-02T23:56:52.764871Z"
    },
    "jupyter": {
     "source_hidden": true
    },
    "papermill": {
     "duration": 3.994061,
     "end_time": "2023-06-02T23:56:52.769830",
     "exception": false,
     "start_time": "2023-06-02T23:56:48.775769",
     "status": "completed"
    },
    "tags": []
   },
   "outputs": [],
   "source": [
    "import numpy as np \n",
    "import pandas as pd \n",
    "import matplotlib.pyplot as plt\n",
    "import math\n",
    "import plotly.express as px\n",
    "import plotly.graph_objects as go\n",
    "import scikitplot as skplt\n",
    "import scipy.stats as ss\n",
    "import seaborn as sns\n",
    "import os\n",
    "from catboost import CatBoostClassifier\n",
    "from imblearn.over_sampling import SMOTE\n",
    "from imblearn.pipeline import make_pipeline as make_imb_pipeline\n",
    "from plotly.subplots import make_subplots\n",
    "from scipy.stats import uniform, randint\n",
    "from sklearn.compose import ColumnTransformer\n",
    "from sklearn.impute import SimpleImputer\n",
    "from sklearn.ensemble import RandomForestClassifier\n",
    "from sklearn.metrics import classification_report, confusion_matrix\n",
    "from sklearn.metrics import f1_score\n",
    "from sklearn.metrics import hamming_loss, accuracy_score\n",
    "from sklearn.metrics import precision_recall_fscore_support\n",
    "from sklearn.metrics import roc_auc_score, roc_curve\n",
    "from sklearn.model_selection import train_test_split, RandomizedSearchCV\n",
    "from sklearn.pipeline import Pipeline\n",
    "from sklearn.preprocessing import StandardScaler, OneHotEncoder \n",
    "\n"
   ]
  },
  {
   "cell_type": "markdown",
   "id": "f97b2022",
   "metadata": {
    "papermill": {
     "duration": 0.028584,
     "end_time": "2023-06-02T23:56:52.825435",
     "exception": false,
     "start_time": "2023-06-02T23:56:52.796851",
     "status": "completed"
    },
    "tags": []
   },
   "source": [
    "# <p style=\"font-family:JetBrains Mono; font-weight:bold; letter-spacing: 2px; color:#05041B; font-size:140%; text-align:left;padding: 0px; border-bottom: 3px solid #FFB800\">🔎 Step 2: Data Loading and Exploration</p>"
   ]
  },
  {
   "cell_type": "markdown",
   "id": "8b63d253",
   "metadata": {
    "papermill": {
     "duration": 0.02696,
     "end_time": "2023-06-02T23:56:52.879130",
     "exception": false,
     "start_time": "2023-06-02T23:56:52.852170",
     "status": "completed"
    },
    "tags": []
   },
   "source": [
    "<div style=\"border-radius:13px; border:#FFB800 solid; padding: 15px; background-color: #FAFFFF; font-size:108%; text-align:left\">\n",
    "    \n",
    "* Data load (csv copy-paste de hubspot)\n",
    "* Prelimiary analysis and transformation\n",
    "* Cleaning and entry of empty fields\n",
    "    "
   ]
  },
  {
   "cell_type": "code",
   "execution_count": 4,
   "id": "f9b20b6c",
   "metadata": {
    "_kg_hide-input": true,
    "_kg_hide-output": false,
    "execution": {
     "iopub.execute_input": "2023-06-02T23:56:52.935857Z",
     "iopub.status.busy": "2023-06-02T23:56:52.935397Z",
     "iopub.status.idle": "2023-06-02T23:56:55.140403Z",
     "shell.execute_reply": "2023-06-02T23:56:55.138986Z"
    },
    "jupyter": {
     "source_hidden": true
    },
    "papermill": {
     "duration": 2.237756,
     "end_time": "2023-06-02T23:56:55.143475",
     "exception": false,
     "start_time": "2023-06-02T23:56:52.905719",
     "status": "completed"
    },
    "tags": []
   },
   "outputs": [
    {
     "name": "stdout",
     "output_type": "stream",
     "text": [
      "<class 'pandas.core.frame.DataFrame'>\n",
      "RangeIndex: 5239 entries, 0 to 5238\n",
      "Data columns (total 22 columns):\n",
      " #   Column                  Non-Null Count  Dtype  \n",
      "---  ------                  --------------  -----  \n",
      " 0   Nombre                  5206 non-null   object \n",
      " 1   Apellido                1801 non-null   object \n",
      " 2   Pais                    1801 non-null   object \n",
      " 3   Zona Horaria            1801 non-null   object \n",
      " 4   Provincia               1801 non-null   object \n",
      " 5   Localidad               1801 non-null   object \n",
      " 6   Zona                    1801 non-null   object \n",
      " 7   Ciudad IP               1801 non-null   object \n",
      " 8   Estado actual del lead  1801 non-null   object \n",
      " 9   Fuente                  1801 non-null   object \n",
      " 10  Fuente Ultima           1702 non-null   object \n",
      " 11  Fuente Original         1801 non-null   object \n",
      " 12  Mensaje                 1801 non-null   object \n",
      " 13  Comentario              1801 non-null   object \n",
      " 14  formularios enviados    1801 non-null   float64\n",
      " 15  Visitas a la pagina     1801 non-null   float64\n",
      " 16  Interacciones varias    1801 non-null   float64\n",
      " 17  Aperturas de correo     1801 non-null   object \n",
      " 18  Franquicia              1801 non-null   object \n",
      " 19  correo                  1801 non-null   object \n",
      " 20  numero                  1801 non-null   object \n",
      " 21  Inversion               1790 non-null   object \n",
      "dtypes: float64(3), object(19)\n",
      "memory usage: 900.6+ KB\n",
      "None\n"
     ]
    }
   ],
   "source": [
    "df = pd.read_excel(\"/kaggle/input/copy-leads-fqc-hubspot/copy_leads_FQC_hubspot.xlsx\")\n",
    "\n",
    "print(df.info())\n"
   ]
  },
  {
   "cell_type": "markdown",
   "id": "ed798115",
   "metadata": {
    "papermill": {
     "duration": 0.025881,
     "end_time": "2023-06-02T23:56:55.196111",
     "exception": false,
     "start_time": "2023-06-02T23:56:55.170230",
     "status": "completed"
    },
    "tags": []
   },
   "source": [
    "<div style=\"border-radius:13px; border:#FFB800 solid; padding: 15px; background-color: #FAFFFF; font-size:108%; text-align:left\">\n",
    "    \n",
    "* It is necessary to clean the data provided by HubSpot. First, we will remove the rows that contain initials and \"vista previa\" in the Nombre column.\n",
    "\n",
    "* Additionally, we remove all NaN fields since the default empty field in HubSpot is \"--\".\n",
    "    \n",
    "* Furthermore, we modify the data types by converting the string values to lowercase and the numeric values to float.\n",
    "    \n",
    "* The \"estado actual del lead\" column will be our target column, and we will rename it as \"v_target\"."
   ]
  },
  {
   "cell_type": "code",
   "execution_count": 5,
   "id": "97f6b265",
   "metadata": {
    "_kg_hide-input": true,
    "execution": {
     "iopub.execute_input": "2023-06-02T23:56:55.251590Z",
     "iopub.status.busy": "2023-06-02T23:56:55.250798Z",
     "iopub.status.idle": "2023-06-02T23:56:55.316132Z",
     "shell.execute_reply": "2023-06-02T23:56:55.314752Z"
    },
    "jupyter": {
     "source_hidden": true
    },
    "papermill": {
     "duration": 0.096537,
     "end_time": "2023-06-02T23:56:55.318971",
     "exception": false,
     "start_time": "2023-06-02T23:56:55.222434",
     "status": "completed"
    },
    "tags": []
   },
   "outputs": [],
   "source": [
    "# df = df[(df['Nombre'].str.len() > 2) & (df['Nombre'] != 'Vista previa') ]\n",
    "\n",
    "df = df.dropna(subset=['Nombre', 'Apellido'])\n",
    "df = df.astype(str)\n",
    "df = df.applymap(lambda s:s.lower().strip() if type(s) == str else s)\n",
    "\n",
    "columnas_int = ['Visitas a la pagina', 'formularios enviados', 'Interacciones varias', 'Aperturas de correo']\n",
    "\n",
    "for columna in columnas_int:\n",
    "    df[columna] = df[columna].astype(float)  \n",
    "    \n",
    "# Elimino las columnas que no aportan al modelo ni al analisis.\n",
    "df = df.drop(['Nombre','Apellido','correo','Mensaje','Comentario', 'numero ', 'Zona Horaria', 'Pais'], axis=1)\n",
    "\n",
    "# Convertir todas las etiquetas de las columnas a minúsculas y eliminar los espacios en blanco al principio y al final\n",
    "df.columns = df.columns.str.lower().str.strip()\n",
    "\n",
    "# Renombrar la columna 'elead' a 'v_target'\n",
    "df = df.rename(columns={'estado actual del lead': 'v_target'})\n",
    "\n"
   ]
  },
  {
   "cell_type": "code",
   "execution_count": 6,
   "id": "7d422d23",
   "metadata": {
    "_kg_hide-input": true,
    "execution": {
     "iopub.execute_input": "2023-06-02T23:56:55.373267Z",
     "iopub.status.busy": "2023-06-02T23:56:55.372794Z",
     "iopub.status.idle": "2023-06-02T23:56:55.429014Z",
     "shell.execute_reply": "2023-06-02T23:56:55.427657Z"
    },
    "jupyter": {
     "source_hidden": true
    },
    "papermill": {
     "duration": 0.086608,
     "end_time": "2023-06-02T23:56:55.431563",
     "exception": false,
     "start_time": "2023-06-02T23:56:55.344955",
     "status": "completed"
    },
    "tags": []
   },
   "outputs": [
    {
     "name": "stdout",
     "output_type": "stream",
     "text": [
      "Categorical Variables\n"
     ]
    },
    {
     "data": {
      "text/html": [
       "<div>\n",
       "<style scoped>\n",
       "    .dataframe tbody tr th:only-of-type {\n",
       "        vertical-align: middle;\n",
       "    }\n",
       "\n",
       "    .dataframe tbody tr th {\n",
       "        vertical-align: top;\n",
       "    }\n",
       "\n",
       "    .dataframe thead th {\n",
       "        text-align: right;\n",
       "    }\n",
       "</style>\n",
       "<table border=\"1\" class=\"dataframe\">\n",
       "  <thead>\n",
       "    <tr style=\"text-align: right;\">\n",
       "      <th></th>\n",
       "      <th>provincia</th>\n",
       "      <th>localidad</th>\n",
       "      <th>zona</th>\n",
       "      <th>ciudad ip</th>\n",
       "      <th>v_target</th>\n",
       "      <th>fuente</th>\n",
       "      <th>fuente ultima</th>\n",
       "      <th>fuente original</th>\n",
       "      <th>franquicia</th>\n",
       "      <th>inversion</th>\n",
       "    </tr>\n",
       "  </thead>\n",
       "  <tbody>\n",
       "    <tr>\n",
       "      <th>count</th>\n",
       "      <td>1797</td>\n",
       "      <td>1797</td>\n",
       "      <td>1797</td>\n",
       "      <td>1797</td>\n",
       "      <td>1797</td>\n",
       "      <td>1797</td>\n",
       "      <td>1797</td>\n",
       "      <td>1797</td>\n",
       "      <td>1797</td>\n",
       "      <td>1797</td>\n",
       "    </tr>\n",
       "    <tr>\n",
       "      <th>unique</th>\n",
       "      <td>19</td>\n",
       "      <td>321</td>\n",
       "      <td>151</td>\n",
       "      <td>192</td>\n",
       "      <td>13</td>\n",
       "      <td>14</td>\n",
       "      <td>9</td>\n",
       "      <td>8</td>\n",
       "      <td>111</td>\n",
       "      <td>2</td>\n",
       "    </tr>\n",
       "  </tbody>\n",
       "</table>\n",
       "</div>"
      ],
      "text/plain": [
       "       provincia localidad  zona ciudad ip v_target fuente fuente ultima  \\\n",
       "count       1797      1797  1797      1797     1797   1797          1797   \n",
       "unique        19       321   151       192       13     14             9   \n",
       "\n",
       "       fuente original franquicia inversion  \n",
       "count             1797       1797      1797  \n",
       "unique               8        111         2  "
      ]
     },
     "execution_count": 6,
     "metadata": {},
     "output_type": "execute_result"
    }
   ],
   "source": [
    "print('Categorical Variables')\n",
    "df.describe(include='object').head(2)"
   ]
  },
  {
   "cell_type": "code",
   "execution_count": 7,
   "id": "89249cea",
   "metadata": {
    "_kg_hide-input": true,
    "execution": {
     "iopub.execute_input": "2023-06-02T23:56:55.486249Z",
     "iopub.status.busy": "2023-06-02T23:56:55.485776Z",
     "iopub.status.idle": "2023-06-02T23:56:55.515217Z",
     "shell.execute_reply": "2023-06-02T23:56:55.514179Z"
    },
    "jupyter": {
     "source_hidden": true
    },
    "papermill": {
     "duration": 0.060321,
     "end_time": "2023-06-02T23:56:55.518456",
     "exception": false,
     "start_time": "2023-06-02T23:56:55.458135",
     "status": "completed"
    },
    "tags": []
   },
   "outputs": [
    {
     "name": "stdout",
     "output_type": "stream",
     "text": [
      "Numerical Variables\n"
     ]
    },
    {
     "data": {
      "text/html": [
       "<div>\n",
       "<style scoped>\n",
       "    .dataframe tbody tr th:only-of-type {\n",
       "        vertical-align: middle;\n",
       "    }\n",
       "\n",
       "    .dataframe tbody tr th {\n",
       "        vertical-align: top;\n",
       "    }\n",
       "\n",
       "    .dataframe thead th {\n",
       "        text-align: right;\n",
       "    }\n",
       "</style>\n",
       "<table border=\"1\" class=\"dataframe\">\n",
       "  <thead>\n",
       "    <tr style=\"text-align: right;\">\n",
       "      <th></th>\n",
       "      <th>formularios enviados</th>\n",
       "      <th>visitas a la pagina</th>\n",
       "      <th>interacciones varias</th>\n",
       "      <th>aperturas de correo</th>\n",
       "    </tr>\n",
       "  </thead>\n",
       "  <tbody>\n",
       "    <tr>\n",
       "      <th>count</th>\n",
       "      <td>1797.000000</td>\n",
       "      <td>1797.000000</td>\n",
       "      <td>1797.000000</td>\n",
       "      <td>1797.000000</td>\n",
       "    </tr>\n",
       "    <tr>\n",
       "      <th>mean</th>\n",
       "      <td>0.824151</td>\n",
       "      <td>0.818587</td>\n",
       "      <td>0.956594</td>\n",
       "      <td>0.629382</td>\n",
       "    </tr>\n",
       "    <tr>\n",
       "      <th>std</th>\n",
       "      <td>0.744853</td>\n",
       "      <td>0.814970</td>\n",
       "      <td>2.025810</td>\n",
       "      <td>1.003104</td>\n",
       "    </tr>\n",
       "    <tr>\n",
       "      <th>min</th>\n",
       "      <td>0.000000</td>\n",
       "      <td>0.000000</td>\n",
       "      <td>0.000000</td>\n",
       "      <td>0.000000</td>\n",
       "    </tr>\n",
       "    <tr>\n",
       "      <th>25%</th>\n",
       "      <td>0.000000</td>\n",
       "      <td>0.000000</td>\n",
       "      <td>0.000000</td>\n",
       "      <td>0.000000</td>\n",
       "    </tr>\n",
       "    <tr>\n",
       "      <th>50%</th>\n",
       "      <td>1.000000</td>\n",
       "      <td>1.000000</td>\n",
       "      <td>0.000000</td>\n",
       "      <td>0.000000</td>\n",
       "    </tr>\n",
       "  </tbody>\n",
       "</table>\n",
       "</div>"
      ],
      "text/plain": [
       "       formularios enviados  visitas a la pagina  interacciones varias  \\\n",
       "count           1797.000000          1797.000000           1797.000000   \n",
       "mean               0.824151             0.818587              0.956594   \n",
       "std                0.744853             0.814970              2.025810   \n",
       "min                0.000000             0.000000              0.000000   \n",
       "25%                0.000000             0.000000              0.000000   \n",
       "50%                1.000000             1.000000              0.000000   \n",
       "\n",
       "       aperturas de correo  \n",
       "count          1797.000000  \n",
       "mean              0.629382  \n",
       "std               1.003104  \n",
       "min               0.000000  \n",
       "25%               0.000000  \n",
       "50%               0.000000  "
      ]
     },
     "execution_count": 7,
     "metadata": {},
     "output_type": "execute_result"
    }
   ],
   "source": [
    "print(\"Numerical Variables\")\n",
    "df.describe().head(6)"
   ]
  },
  {
   "cell_type": "markdown",
   "id": "a6b987b2",
   "metadata": {
    "papermill": {
     "duration": 0.026719,
     "end_time": "2023-06-02T23:56:55.572149",
     "exception": false,
     "start_time": "2023-06-02T23:56:55.545430",
     "status": "completed"
    },
    "tags": []
   },
   "source": [
    "<div style=\"border-radius:13px; border:#FFB800 solid; padding: 15px; background-color: #FAFFFF; font-size:105%; text-align:left\">\n",
    "\n",
    "* Now, I will try to classify, transform and reduce the predictor columns as much as possible."
   ]
  },
  {
   "cell_type": "code",
   "execution_count": 8,
   "id": "2e3f1ee5",
   "metadata": {
    "_kg_hide-input": true,
    "execution": {
     "iopub.execute_input": "2023-06-02T23:56:55.627638Z",
     "iopub.status.busy": "2023-06-02T23:56:55.627254Z",
     "iopub.status.idle": "2023-06-02T23:56:55.643648Z",
     "shell.execute_reply": "2023-06-02T23:56:55.642370Z"
    },
    "jupyter": {
     "source_hidden": true
    },
    "papermill": {
     "duration": 0.047376,
     "end_time": "2023-06-02T23:56:55.646403",
     "exception": false,
     "start_time": "2023-06-02T23:56:55.599027",
     "status": "completed"
    },
    "tags": []
   },
   "outputs": [
    {
     "name": "stdout",
     "output_type": "stream",
     "text": [
      "Number of different values in each column:\n",
      "provincia                19\n",
      "localidad               321\n",
      "zona                    151\n",
      "ciudad ip               192\n",
      "v_target                 13\n",
      "fuente                   14\n",
      "fuente ultima             9\n",
      "fuente original           8\n",
      "formularios enviados      8\n",
      "visitas a la pagina       7\n",
      "interacciones varias     15\n",
      "aperturas de correo       8\n",
      "franquicia              111\n",
      "inversion                 2\n",
      "dtype: int64\n"
     ]
    }
   ],
   "source": [
    "cant_distintos = df.agg(pd.Series.nunique)\n",
    "valores_unicos = {col: df[col].unique() for col in df.columns}\n",
    "print(\"Number of different values in each column:\")\n",
    "print(cant_distintos)"
   ]
  },
  {
   "cell_type": "markdown",
   "id": "f9603a25",
   "metadata": {
    "papermill": {
     "duration": 0.027215,
     "end_time": "2023-06-02T23:56:55.701619",
     "exception": false,
     "start_time": "2023-06-02T23:56:55.674404",
     "status": "completed"
    },
    "tags": []
   },
   "source": [
    "\n",
    "\n",
    "# <p style=\"font-family:JetBrains Mono; font-weight:bold; letter-spacing: 2px; color:#05041B; font-size:140%; text-align:left;padding: 0px; border-bottom: 3px solid #FFB800\">📋 Step 3: Data Preprocessing</p>\n",
    "\n",
    "### Pregnant variables & Variable Objective"
   ]
  },
  {
   "cell_type": "markdown",
   "id": "3f309757",
   "metadata": {
    "papermill": {
     "duration": 0.030177,
     "end_time": "2023-06-02T23:56:55.760306",
     "exception": false,
     "start_time": "2023-06-02T23:56:55.730129",
     "status": "completed"
    },
    "tags": []
   },
   "source": [
    "<div style=\"border-radius:13px; border:#FFB800 solid; padding: 15px; background-color: #FAFFFF; font-size:114%; text-align:left\">\n",
    "    \n",
    "<h3 align=\"left\"><font color='#05041B'>\n",
    "</font> 📍 Lead Location </h3>\n",
    "\n",
    "🖇️ Predictor Variables: \"Province, City, Zone, IP City\".\n",
    "🖇️ Unified Predictor Variable: \"zone\"\n",
    "Due to empty fields, the goal is to consolidate the information into 1 column called \"zone\".\n",
    "Initially, the location variable of a prospect is relevant; however, the data is very dirty, and we will analyze its incorporation into the model and under what terms"
   ]
  },
  {
   "cell_type": "code",
   "execution_count": 9,
   "id": "c1da6b75",
   "metadata": {
    "execution": {
     "iopub.execute_input": "2023-06-02T23:56:55.830428Z",
     "iopub.status.busy": "2023-06-02T23:56:55.830042Z",
     "iopub.status.idle": "2023-06-02T23:56:56.324770Z",
     "shell.execute_reply": "2023-06-02T23:56:56.323816Z"
    },
    "jupyter": {
     "source_hidden": true
    },
    "papermill": {
     "duration": 0.529064,
     "end_time": "2023-06-02T23:56:56.327249",
     "exception": false,
     "start_time": "2023-06-02T23:56:55.798185",
     "status": "completed"
    },
    "tags": []
   },
   "outputs": [
    {
     "data": {
      "text/html": [
       "        <script type=\"text/javascript\">\n",
       "        window.PlotlyConfig = {MathJaxConfig: 'local'};\n",
       "        if (window.MathJax && window.MathJax.Hub && window.MathJax.Hub.Config) {window.MathJax.Hub.Config({SVG: {font: \"STIX-Web\"}});}\n",
       "        if (typeof require !== 'undefined') {\n",
       "        require.undef(\"plotly\");\n",
       "        requirejs.config({\n",
       "            paths: {\n",
       "                'plotly': ['https://cdn.plot.ly/plotly-2.20.0.min']\n",
       "            }\n",
       "        });\n",
       "        require(['plotly'], function(Plotly) {\n",
       "            window._Plotly = Plotly;\n",
       "        });\n",
       "        }\n",
       "        </script>\n",
       "        "
      ]
     },
     "metadata": {},
     "output_type": "display_data"
    },
    {
     "data": {
      "text/html": [
       "<div>                            <div id=\"842729ba-3236-4658-8788-75e0331ccc00\" class=\"plotly-graph-div\" style=\"height:600px; width:100%;\"></div>            <script type=\"text/javascript\">                require([\"plotly\"], function(Plotly) {                    window.PLOTLYENV=window.PLOTLYENV || {};                                    if (document.getElementById(\"842729ba-3236-4658-8788-75e0331ccc00\")) {                    Plotly.newPlot(                        \"842729ba-3236-4658-8788-75e0331ccc00\",                        [{\"marker\":{\"color\":\"#064572\"},\"name\":\"provincia\",\"text\":[1766.0,10.0,4.0,2.0,1.0,1.0],\"textposition\":\"auto\",\"x\":[\"--\",\"buenos aires\",\"buenos aires f.d.\",\"santa cruz\",\"salta\",\"san juan\"],\"y\":[1766,10,4,2,1,1],\"type\":\"bar\",\"xaxis\":\"x\",\"yaxis\":\"y\"},{\"marker\":{\"color\":\"#A8854F\"},\"name\":\"localidad\",\"text\":[1098.0,51.0,48.0,16.0,14.0,13.0],\"textposition\":\"auto\",\"x\":[\"--\",\"buenos aires\",\"caba\",\"rosario\",\"avellaneda\",\"-\"],\"y\":[1098,51,48,16,14,13],\"type\":\"bar\",\"xaxis\":\"x2\",\"yaxis\":\"y2\"},{\"marker\":{\"color\":\"#7E98B2\"},\"name\":\"zona\",\"text\":[1141.0,213.0,32.0,27.0,21.0,20.0],\"textposition\":\"auto\",\"x\":[\"--\",\"buenos aires\",\"santa fe\",\"caba\",\"argentina\",\"córdoba\"],\"y\":[1141,213,32,27,21,20],\"type\":\"bar\",\"xaxis\":\"x3\",\"yaxis\":\"y3\"},{\"marker\":{\"color\":\"#663DB8\"},\"name\":\"ciudad ip\",\"text\":[1077.0,162.0,30.0,28.0,18.0,15.0],\"textposition\":\"auto\",\"x\":[\"--\",\"buenos aires\",\"mendoza\",\"rosario\",\"mar del plata\",\"berazategui\"],\"y\":[1077,162,30,28,18,15],\"type\":\"bar\",\"xaxis\":\"x4\",\"yaxis\":\"y4\"}],                        {\"template\":{\"data\":{\"histogram2dcontour\":[{\"type\":\"histogram2dcontour\",\"colorbar\":{\"outlinewidth\":0,\"ticks\":\"\"},\"colorscale\":[[0.0,\"#0d0887\"],[0.1111111111111111,\"#46039f\"],[0.2222222222222222,\"#7201a8\"],[0.3333333333333333,\"#9c179e\"],[0.4444444444444444,\"#bd3786\"],[0.5555555555555556,\"#d8576b\"],[0.6666666666666666,\"#ed7953\"],[0.7777777777777778,\"#fb9f3a\"],[0.8888888888888888,\"#fdca26\"],[1.0,\"#f0f921\"]]}],\"choropleth\":[{\"type\":\"choropleth\",\"colorbar\":{\"outlinewidth\":0,\"ticks\":\"\"}}],\"histogram2d\":[{\"type\":\"histogram2d\",\"colorbar\":{\"outlinewidth\":0,\"ticks\":\"\"},\"colorscale\":[[0.0,\"#0d0887\"],[0.1111111111111111,\"#46039f\"],[0.2222222222222222,\"#7201a8\"],[0.3333333333333333,\"#9c179e\"],[0.4444444444444444,\"#bd3786\"],[0.5555555555555556,\"#d8576b\"],[0.6666666666666666,\"#ed7953\"],[0.7777777777777778,\"#fb9f3a\"],[0.8888888888888888,\"#fdca26\"],[1.0,\"#f0f921\"]]}],\"heatmap\":[{\"type\":\"heatmap\",\"colorbar\":{\"outlinewidth\":0,\"ticks\":\"\"},\"colorscale\":[[0.0,\"#0d0887\"],[0.1111111111111111,\"#46039f\"],[0.2222222222222222,\"#7201a8\"],[0.3333333333333333,\"#9c179e\"],[0.4444444444444444,\"#bd3786\"],[0.5555555555555556,\"#d8576b\"],[0.6666666666666666,\"#ed7953\"],[0.7777777777777778,\"#fb9f3a\"],[0.8888888888888888,\"#fdca26\"],[1.0,\"#f0f921\"]]}],\"heatmapgl\":[{\"type\":\"heatmapgl\",\"colorbar\":{\"outlinewidth\":0,\"ticks\":\"\"},\"colorscale\":[[0.0,\"#0d0887\"],[0.1111111111111111,\"#46039f\"],[0.2222222222222222,\"#7201a8\"],[0.3333333333333333,\"#9c179e\"],[0.4444444444444444,\"#bd3786\"],[0.5555555555555556,\"#d8576b\"],[0.6666666666666666,\"#ed7953\"],[0.7777777777777778,\"#fb9f3a\"],[0.8888888888888888,\"#fdca26\"],[1.0,\"#f0f921\"]]}],\"contourcarpet\":[{\"type\":\"contourcarpet\",\"colorbar\":{\"outlinewidth\":0,\"ticks\":\"\"}}],\"contour\":[{\"type\":\"contour\",\"colorbar\":{\"outlinewidth\":0,\"ticks\":\"\"},\"colorscale\":[[0.0,\"#0d0887\"],[0.1111111111111111,\"#46039f\"],[0.2222222222222222,\"#7201a8\"],[0.3333333333333333,\"#9c179e\"],[0.4444444444444444,\"#bd3786\"],[0.5555555555555556,\"#d8576b\"],[0.6666666666666666,\"#ed7953\"],[0.7777777777777778,\"#fb9f3a\"],[0.8888888888888888,\"#fdca26\"],[1.0,\"#f0f921\"]]}],\"surface\":[{\"type\":\"surface\",\"colorbar\":{\"outlinewidth\":0,\"ticks\":\"\"},\"colorscale\":[[0.0,\"#0d0887\"],[0.1111111111111111,\"#46039f\"],[0.2222222222222222,\"#7201a8\"],[0.3333333333333333,\"#9c179e\"],[0.4444444444444444,\"#bd3786\"],[0.5555555555555556,\"#d8576b\"],[0.6666666666666666,\"#ed7953\"],[0.7777777777777778,\"#fb9f3a\"],[0.8888888888888888,\"#fdca26\"],[1.0,\"#f0f921\"]]}],\"mesh3d\":[{\"type\":\"mesh3d\",\"colorbar\":{\"outlinewidth\":0,\"ticks\":\"\"}}],\"scatter\":[{\"fillpattern\":{\"fillmode\":\"overlay\",\"size\":10,\"solidity\":0.2},\"type\":\"scatter\"}],\"parcoords\":[{\"type\":\"parcoords\",\"line\":{\"colorbar\":{\"outlinewidth\":0,\"ticks\":\"\"}}}],\"scatterpolargl\":[{\"type\":\"scatterpolargl\",\"marker\":{\"colorbar\":{\"outlinewidth\":0,\"ticks\":\"\"}}}],\"bar\":[{\"error_x\":{\"color\":\"#2a3f5f\"},\"error_y\":{\"color\":\"#2a3f5f\"},\"marker\":{\"line\":{\"color\":\"#E5ECF6\",\"width\":0.5},\"pattern\":{\"fillmode\":\"overlay\",\"size\":10,\"solidity\":0.2}},\"type\":\"bar\"}],\"scattergeo\":[{\"type\":\"scattergeo\",\"marker\":{\"colorbar\":{\"outlinewidth\":0,\"ticks\":\"\"}}}],\"scatterpolar\":[{\"type\":\"scatterpolar\",\"marker\":{\"colorbar\":{\"outlinewidth\":0,\"ticks\":\"\"}}}],\"histogram\":[{\"marker\":{\"pattern\":{\"fillmode\":\"overlay\",\"size\":10,\"solidity\":0.2}},\"type\":\"histogram\"}],\"scattergl\":[{\"type\":\"scattergl\",\"marker\":{\"colorbar\":{\"outlinewidth\":0,\"ticks\":\"\"}}}],\"scatter3d\":[{\"type\":\"scatter3d\",\"line\":{\"colorbar\":{\"outlinewidth\":0,\"ticks\":\"\"}},\"marker\":{\"colorbar\":{\"outlinewidth\":0,\"ticks\":\"\"}}}],\"scattermapbox\":[{\"type\":\"scattermapbox\",\"marker\":{\"colorbar\":{\"outlinewidth\":0,\"ticks\":\"\"}}}],\"scatterternary\":[{\"type\":\"scatterternary\",\"marker\":{\"colorbar\":{\"outlinewidth\":0,\"ticks\":\"\"}}}],\"scattercarpet\":[{\"type\":\"scattercarpet\",\"marker\":{\"colorbar\":{\"outlinewidth\":0,\"ticks\":\"\"}}}],\"carpet\":[{\"aaxis\":{\"endlinecolor\":\"#2a3f5f\",\"gridcolor\":\"white\",\"linecolor\":\"white\",\"minorgridcolor\":\"white\",\"startlinecolor\":\"#2a3f5f\"},\"baxis\":{\"endlinecolor\":\"#2a3f5f\",\"gridcolor\":\"white\",\"linecolor\":\"white\",\"minorgridcolor\":\"white\",\"startlinecolor\":\"#2a3f5f\"},\"type\":\"carpet\"}],\"table\":[{\"cells\":{\"fill\":{\"color\":\"#EBF0F8\"},\"line\":{\"color\":\"white\"}},\"header\":{\"fill\":{\"color\":\"#C8D4E3\"},\"line\":{\"color\":\"white\"}},\"type\":\"table\"}],\"barpolar\":[{\"marker\":{\"line\":{\"color\":\"#E5ECF6\",\"width\":0.5},\"pattern\":{\"fillmode\":\"overlay\",\"size\":10,\"solidity\":0.2}},\"type\":\"barpolar\"}],\"pie\":[{\"automargin\":true,\"type\":\"pie\"}]},\"layout\":{\"autotypenumbers\":\"strict\",\"colorway\":[\"#636efa\",\"#EF553B\",\"#00cc96\",\"#ab63fa\",\"#FFA15A\",\"#19d3f3\",\"#FF6692\",\"#B6E880\",\"#FF97FF\",\"#FECB52\"],\"font\":{\"color\":\"#2a3f5f\"},\"hovermode\":\"closest\",\"hoverlabel\":{\"align\":\"left\"},\"paper_bgcolor\":\"white\",\"plot_bgcolor\":\"#E5ECF6\",\"polar\":{\"bgcolor\":\"#E5ECF6\",\"angularaxis\":{\"gridcolor\":\"white\",\"linecolor\":\"white\",\"ticks\":\"\"},\"radialaxis\":{\"gridcolor\":\"white\",\"linecolor\":\"white\",\"ticks\":\"\"}},\"ternary\":{\"bgcolor\":\"#E5ECF6\",\"aaxis\":{\"gridcolor\":\"white\",\"linecolor\":\"white\",\"ticks\":\"\"},\"baxis\":{\"gridcolor\":\"white\",\"linecolor\":\"white\",\"ticks\":\"\"},\"caxis\":{\"gridcolor\":\"white\",\"linecolor\":\"white\",\"ticks\":\"\"}},\"coloraxis\":{\"colorbar\":{\"outlinewidth\":0,\"ticks\":\"\"}},\"colorscale\":{\"sequential\":[[0.0,\"#0d0887\"],[0.1111111111111111,\"#46039f\"],[0.2222222222222222,\"#7201a8\"],[0.3333333333333333,\"#9c179e\"],[0.4444444444444444,\"#bd3786\"],[0.5555555555555556,\"#d8576b\"],[0.6666666666666666,\"#ed7953\"],[0.7777777777777778,\"#fb9f3a\"],[0.8888888888888888,\"#fdca26\"],[1.0,\"#f0f921\"]],\"sequentialminus\":[[0.0,\"#0d0887\"],[0.1111111111111111,\"#46039f\"],[0.2222222222222222,\"#7201a8\"],[0.3333333333333333,\"#9c179e\"],[0.4444444444444444,\"#bd3786\"],[0.5555555555555556,\"#d8576b\"],[0.6666666666666666,\"#ed7953\"],[0.7777777777777778,\"#fb9f3a\"],[0.8888888888888888,\"#fdca26\"],[1.0,\"#f0f921\"]],\"diverging\":[[0,\"#8e0152\"],[0.1,\"#c51b7d\"],[0.2,\"#de77ae\"],[0.3,\"#f1b6da\"],[0.4,\"#fde0ef\"],[0.5,\"#f7f7f7\"],[0.6,\"#e6f5d0\"],[0.7,\"#b8e186\"],[0.8,\"#7fbc41\"],[0.9,\"#4d9221\"],[1,\"#276419\"]]},\"xaxis\":{\"gridcolor\":\"white\",\"linecolor\":\"white\",\"ticks\":\"\",\"title\":{\"standoff\":15},\"zerolinecolor\":\"white\",\"automargin\":true,\"zerolinewidth\":2},\"yaxis\":{\"gridcolor\":\"white\",\"linecolor\":\"white\",\"ticks\":\"\",\"title\":{\"standoff\":15},\"zerolinecolor\":\"white\",\"automargin\":true,\"zerolinewidth\":2},\"scene\":{\"xaxis\":{\"backgroundcolor\":\"#E5ECF6\",\"gridcolor\":\"white\",\"linecolor\":\"white\",\"showbackground\":true,\"ticks\":\"\",\"zerolinecolor\":\"white\",\"gridwidth\":2},\"yaxis\":{\"backgroundcolor\":\"#E5ECF6\",\"gridcolor\":\"white\",\"linecolor\":\"white\",\"showbackground\":true,\"ticks\":\"\",\"zerolinecolor\":\"white\",\"gridwidth\":2},\"zaxis\":{\"backgroundcolor\":\"#E5ECF6\",\"gridcolor\":\"white\",\"linecolor\":\"white\",\"showbackground\":true,\"ticks\":\"\",\"zerolinecolor\":\"white\",\"gridwidth\":2}},\"shapedefaults\":{\"line\":{\"color\":\"#2a3f5f\"}},\"annotationdefaults\":{\"arrowcolor\":\"#2a3f5f\",\"arrowhead\":0,\"arrowwidth\":1},\"geo\":{\"bgcolor\":\"white\",\"landcolor\":\"#E5ECF6\",\"subunitcolor\":\"white\",\"showland\":true,\"showlakes\":true,\"lakecolor\":\"white\"},\"title\":{\"x\":0.05},\"mapbox\":{\"style\":\"light\"}}},\"xaxis\":{\"anchor\":\"y\",\"domain\":[0.0,0.45]},\"yaxis\":{\"anchor\":\"x\",\"domain\":[0.575,1.0],\"title\":{\"text\":\"provincia\"}},\"xaxis2\":{\"anchor\":\"y2\",\"domain\":[0.55,1.0]},\"yaxis2\":{\"anchor\":\"x2\",\"domain\":[0.575,1.0],\"title\":{\"text\":\"localidad\"}},\"xaxis3\":{\"anchor\":\"y3\",\"domain\":[0.0,0.45]},\"yaxis3\":{\"anchor\":\"x3\",\"domain\":[0.0,0.425],\"title\":{\"text\":\"zona\"}},\"xaxis4\":{\"anchor\":\"y4\",\"domain\":[0.55,1.0]},\"yaxis4\":{\"anchor\":\"x4\",\"domain\":[0.0,0.425],\"title\":{\"text\":\"ciudad ip\"}},\"title\":{\"text\":\"Distribution of the 6 most common categories for each variable\"},\"height\":600,\"showlegend\":false,\"bargap\":0.15,\"bargroupgap\":0.1},                        {\"responsive\": true}                    ).then(function(){\n",
       "                            \n",
       "var gd = document.getElementById('842729ba-3236-4658-8788-75e0331ccc00');\n",
       "var x = new MutationObserver(function (mutations, observer) {{\n",
       "        var display = window.getComputedStyle(gd).display;\n",
       "        if (!display || display === 'none') {{\n",
       "            console.log([gd, 'removed!']);\n",
       "            Plotly.purge(gd);\n",
       "            observer.disconnect();\n",
       "        }}\n",
       "}});\n",
       "\n",
       "// Listen for the removal of the full notebook cells\n",
       "var notebookContainer = gd.closest('#notebook-container');\n",
       "if (notebookContainer) {{\n",
       "    x.observe(notebookContainer, {childList: true});\n",
       "}}\n",
       "\n",
       "// Listen for the clearing of the current output cell\n",
       "var outputEl = gd.closest('.output');\n",
       "if (outputEl) {{\n",
       "    x.observe(outputEl, {childList: true});\n",
       "}}\n",
       "\n",
       "                        })                };                });            </script>        </div>"
      ]
     },
     "metadata": {},
     "output_type": "display_data"
    }
   ],
   "source": [
    "import plotly.graph_objects as go\n",
    "from plotly.subplots import make_subplots\n",
    "import math\n",
    "\n",
    "# Definir las columnas categóricas\n",
    "cat_columns = ['provincia', 'localidad', 'zona', 'ciudad ip']\n",
    "\n",
    "# Calcular filas y columnas para subplot\n",
    "n_cols = 2\n",
    "n_rows = math.ceil(len(cat_columns) / n_cols)\n",
    "\n",
    "# Crear subplot\n",
    "fig = make_subplots(rows=n_rows, cols=n_cols)\n",
    "\n",
    "# Añadir gráficos de barras para cada variable categórica\n",
    "for i, col in enumerate(cat_columns):\n",
    "    curr_row = i // n_cols + 1\n",
    "    curr_col = i % n_cols + 1\n",
    "\n",
    "    # Seleccionar los 6 valores más comunes\n",
    "    top_values = df[col].value_counts().head(6)   \n",
    "    fig.add_trace(go.Bar(\n",
    "        x=top_values.index,\n",
    "        y=top_values.values,\n",
    "        name=col,\n",
    "        text=top_values.values,\n",
    "        textposition='auto',\n",
    "        marker_color=colors[i % len(colors)]\n",
    "    ), row=curr_row, col=curr_col)\n",
    "    \n",
    "    fig.update_yaxes(title_text=col, row=curr_row, col=curr_col)\n",
    "\n",
    "# Actualizar layout\n",
    "fig.update_layout(\n",
    "    title_text='Distribution of the 6 most common categories for each variable',\n",
    "    height=300 * n_rows,  \n",
    "    showlegend=False,\n",
    "    bargap=0.15, \n",
    "    bargroupgap=0.1\n",
    ")\n",
    "fig.show()\n"
   ]
  },
  {
   "cell_type": "markdown",
   "id": "a8bd8660",
   "metadata": {
    "papermill": {
     "duration": 0.027491,
     "end_time": "2023-06-02T23:56:56.382242",
     "exception": false,
     "start_time": "2023-06-02T23:56:56.354751",
     "status": "completed"
    },
    "tags": []
   },
   "source": [
    "<div style=\"border-radius:13px; border:#FFB800 solid; padding: 15px; background-color: #FAFFFF; font-size:105%; text-align:left\">\n",
    "    \n",
    "* Majority \"--\" (Empty Fields)\n",
    "\n",
    "* I will attempt to select the first valid value (if any) from each row in the columns, defining the priorities from general to specific (Province to City), unifying the respective location columns into the new \"zone\" column, and leaving the entries without a value in the \"no value\" column."
   ]
  },
  {
   "cell_type": "code",
   "execution_count": 10,
   "id": "4350ed78",
   "metadata": {
    "_kg_hide-input": true,
    "execution": {
     "iopub.execute_input": "2023-06-02T23:56:56.438882Z",
     "iopub.status.busy": "2023-06-02T23:56:56.438442Z",
     "iopub.status.idle": "2023-06-02T23:56:57.994526Z",
     "shell.execute_reply": "2023-06-02T23:56:57.993158Z"
    },
    "jupyter": {
     "source_hidden": true
    },
    "papermill": {
     "duration": 1.587566,
     "end_time": "2023-06-02T23:56:57.997176",
     "exception": false,
     "start_time": "2023-06-02T23:56:56.409610",
     "status": "completed"
    },
    "tags": []
   },
   "outputs": [
    {
     "data": {
      "text/html": [
       "<div>                            <div id=\"bd0da43f-0080-483e-bc30-1229ea4b544a\" class=\"plotly-graph-div\" style=\"height:525px; width:100%;\"></div>            <script type=\"text/javascript\">                require([\"plotly\"], function(Plotly) {                    window.PLOTLYENV=window.PLOTLYENV || {};                                    if (document.getElementById(\"bd0da43f-0080-483e-bc30-1229ea4b544a\")) {                    Plotly.newPlot(                        \"bd0da43f-0080-483e-bc30-1229ea4b544a\",                        [{\"alignmentgroup\":\"True\",\"hovertemplate\":\"Zone=%{x}<br>Frequency=%{y}<extra></extra>\",\"legendgroup\":\"\",\"marker\":{\"color\":\"#064572\",\"pattern\":{\"shape\":\"\"}},\"name\":\"\",\"offsetgroup\":\"\",\"orientation\":\"v\",\"showlegend\":false,\"textposition\":\"auto\",\"x\":[\"sin valor\",\"buenos aires\",\"santa fe\",\"mendoza\",\"caba\",\"argentina\",\"córdoba\",\"ciudad autónoma de buenos aires\",\"salta\",\"-\",\"rosario\",\"capital federal\",\"cordoba\",\"corrientes\",\"mar del plata\",\"santiago del estero\",\"entre rios\",\"misiones\",\"san juan\",\"berazategui\"],\"xaxis\":\"x\",\"y\":[824,279,37,37,28,25,21,16,15,15,14,13,13,12,11,10,9,9,8,8],\"yaxis\":\"y\",\"type\":\"bar\"}],                        {\"template\":{\"data\":{\"histogram2dcontour\":[{\"type\":\"histogram2dcontour\",\"colorbar\":{\"outlinewidth\":0,\"ticks\":\"\"},\"colorscale\":[[0.0,\"#0d0887\"],[0.1111111111111111,\"#46039f\"],[0.2222222222222222,\"#7201a8\"],[0.3333333333333333,\"#9c179e\"],[0.4444444444444444,\"#bd3786\"],[0.5555555555555556,\"#d8576b\"],[0.6666666666666666,\"#ed7953\"],[0.7777777777777778,\"#fb9f3a\"],[0.8888888888888888,\"#fdca26\"],[1.0,\"#f0f921\"]]}],\"choropleth\":[{\"type\":\"choropleth\",\"colorbar\":{\"outlinewidth\":0,\"ticks\":\"\"}}],\"histogram2d\":[{\"type\":\"histogram2d\",\"colorbar\":{\"outlinewidth\":0,\"ticks\":\"\"},\"colorscale\":[[0.0,\"#0d0887\"],[0.1111111111111111,\"#46039f\"],[0.2222222222222222,\"#7201a8\"],[0.3333333333333333,\"#9c179e\"],[0.4444444444444444,\"#bd3786\"],[0.5555555555555556,\"#d8576b\"],[0.6666666666666666,\"#ed7953\"],[0.7777777777777778,\"#fb9f3a\"],[0.8888888888888888,\"#fdca26\"],[1.0,\"#f0f921\"]]}],\"heatmap\":[{\"type\":\"heatmap\",\"colorbar\":{\"outlinewidth\":0,\"ticks\":\"\"},\"colorscale\":[[0.0,\"#0d0887\"],[0.1111111111111111,\"#46039f\"],[0.2222222222222222,\"#7201a8\"],[0.3333333333333333,\"#9c179e\"],[0.4444444444444444,\"#bd3786\"],[0.5555555555555556,\"#d8576b\"],[0.6666666666666666,\"#ed7953\"],[0.7777777777777778,\"#fb9f3a\"],[0.8888888888888888,\"#fdca26\"],[1.0,\"#f0f921\"]]}],\"heatmapgl\":[{\"type\":\"heatmapgl\",\"colorbar\":{\"outlinewidth\":0,\"ticks\":\"\"},\"colorscale\":[[0.0,\"#0d0887\"],[0.1111111111111111,\"#46039f\"],[0.2222222222222222,\"#7201a8\"],[0.3333333333333333,\"#9c179e\"],[0.4444444444444444,\"#bd3786\"],[0.5555555555555556,\"#d8576b\"],[0.6666666666666666,\"#ed7953\"],[0.7777777777777778,\"#fb9f3a\"],[0.8888888888888888,\"#fdca26\"],[1.0,\"#f0f921\"]]}],\"contourcarpet\":[{\"type\":\"contourcarpet\",\"colorbar\":{\"outlinewidth\":0,\"ticks\":\"\"}}],\"contour\":[{\"type\":\"contour\",\"colorbar\":{\"outlinewidth\":0,\"ticks\":\"\"},\"colorscale\":[[0.0,\"#0d0887\"],[0.1111111111111111,\"#46039f\"],[0.2222222222222222,\"#7201a8\"],[0.3333333333333333,\"#9c179e\"],[0.4444444444444444,\"#bd3786\"],[0.5555555555555556,\"#d8576b\"],[0.6666666666666666,\"#ed7953\"],[0.7777777777777778,\"#fb9f3a\"],[0.8888888888888888,\"#fdca26\"],[1.0,\"#f0f921\"]]}],\"surface\":[{\"type\":\"surface\",\"colorbar\":{\"outlinewidth\":0,\"ticks\":\"\"},\"colorscale\":[[0.0,\"#0d0887\"],[0.1111111111111111,\"#46039f\"],[0.2222222222222222,\"#7201a8\"],[0.3333333333333333,\"#9c179e\"],[0.4444444444444444,\"#bd3786\"],[0.5555555555555556,\"#d8576b\"],[0.6666666666666666,\"#ed7953\"],[0.7777777777777778,\"#fb9f3a\"],[0.8888888888888888,\"#fdca26\"],[1.0,\"#f0f921\"]]}],\"mesh3d\":[{\"type\":\"mesh3d\",\"colorbar\":{\"outlinewidth\":0,\"ticks\":\"\"}}],\"scatter\":[{\"fillpattern\":{\"fillmode\":\"overlay\",\"size\":10,\"solidity\":0.2},\"type\":\"scatter\"}],\"parcoords\":[{\"type\":\"parcoords\",\"line\":{\"colorbar\":{\"outlinewidth\":0,\"ticks\":\"\"}}}],\"scatterpolargl\":[{\"type\":\"scatterpolargl\",\"marker\":{\"colorbar\":{\"outlinewidth\":0,\"ticks\":\"\"}}}],\"bar\":[{\"error_x\":{\"color\":\"#2a3f5f\"},\"error_y\":{\"color\":\"#2a3f5f\"},\"marker\":{\"line\":{\"color\":\"#E5ECF6\",\"width\":0.5},\"pattern\":{\"fillmode\":\"overlay\",\"size\":10,\"solidity\":0.2}},\"type\":\"bar\"}],\"scattergeo\":[{\"type\":\"scattergeo\",\"marker\":{\"colorbar\":{\"outlinewidth\":0,\"ticks\":\"\"}}}],\"scatterpolar\":[{\"type\":\"scatterpolar\",\"marker\":{\"colorbar\":{\"outlinewidth\":0,\"ticks\":\"\"}}}],\"histogram\":[{\"marker\":{\"pattern\":{\"fillmode\":\"overlay\",\"size\":10,\"solidity\":0.2}},\"type\":\"histogram\"}],\"scattergl\":[{\"type\":\"scattergl\",\"marker\":{\"colorbar\":{\"outlinewidth\":0,\"ticks\":\"\"}}}],\"scatter3d\":[{\"type\":\"scatter3d\",\"line\":{\"colorbar\":{\"outlinewidth\":0,\"ticks\":\"\"}},\"marker\":{\"colorbar\":{\"outlinewidth\":0,\"ticks\":\"\"}}}],\"scattermapbox\":[{\"type\":\"scattermapbox\",\"marker\":{\"colorbar\":{\"outlinewidth\":0,\"ticks\":\"\"}}}],\"scatterternary\":[{\"type\":\"scatterternary\",\"marker\":{\"colorbar\":{\"outlinewidth\":0,\"ticks\":\"\"}}}],\"scattercarpet\":[{\"type\":\"scattercarpet\",\"marker\":{\"colorbar\":{\"outlinewidth\":0,\"ticks\":\"\"}}}],\"carpet\":[{\"aaxis\":{\"endlinecolor\":\"#2a3f5f\",\"gridcolor\":\"white\",\"linecolor\":\"white\",\"minorgridcolor\":\"white\",\"startlinecolor\":\"#2a3f5f\"},\"baxis\":{\"endlinecolor\":\"#2a3f5f\",\"gridcolor\":\"white\",\"linecolor\":\"white\",\"minorgridcolor\":\"white\",\"startlinecolor\":\"#2a3f5f\"},\"type\":\"carpet\"}],\"table\":[{\"cells\":{\"fill\":{\"color\":\"#EBF0F8\"},\"line\":{\"color\":\"white\"}},\"header\":{\"fill\":{\"color\":\"#C8D4E3\"},\"line\":{\"color\":\"white\"}},\"type\":\"table\"}],\"barpolar\":[{\"marker\":{\"line\":{\"color\":\"#E5ECF6\",\"width\":0.5},\"pattern\":{\"fillmode\":\"overlay\",\"size\":10,\"solidity\":0.2}},\"type\":\"barpolar\"}],\"pie\":[{\"automargin\":true,\"type\":\"pie\"}]},\"layout\":{\"autotypenumbers\":\"strict\",\"colorway\":[\"#636efa\",\"#EF553B\",\"#00cc96\",\"#ab63fa\",\"#FFA15A\",\"#19d3f3\",\"#FF6692\",\"#B6E880\",\"#FF97FF\",\"#FECB52\"],\"font\":{\"color\":\"#2a3f5f\"},\"hovermode\":\"closest\",\"hoverlabel\":{\"align\":\"left\"},\"paper_bgcolor\":\"white\",\"plot_bgcolor\":\"#E5ECF6\",\"polar\":{\"bgcolor\":\"#E5ECF6\",\"angularaxis\":{\"gridcolor\":\"white\",\"linecolor\":\"white\",\"ticks\":\"\"},\"radialaxis\":{\"gridcolor\":\"white\",\"linecolor\":\"white\",\"ticks\":\"\"}},\"ternary\":{\"bgcolor\":\"#E5ECF6\",\"aaxis\":{\"gridcolor\":\"white\",\"linecolor\":\"white\",\"ticks\":\"\"},\"baxis\":{\"gridcolor\":\"white\",\"linecolor\":\"white\",\"ticks\":\"\"},\"caxis\":{\"gridcolor\":\"white\",\"linecolor\":\"white\",\"ticks\":\"\"}},\"coloraxis\":{\"colorbar\":{\"outlinewidth\":0,\"ticks\":\"\"}},\"colorscale\":{\"sequential\":[[0.0,\"#0d0887\"],[0.1111111111111111,\"#46039f\"],[0.2222222222222222,\"#7201a8\"],[0.3333333333333333,\"#9c179e\"],[0.4444444444444444,\"#bd3786\"],[0.5555555555555556,\"#d8576b\"],[0.6666666666666666,\"#ed7953\"],[0.7777777777777778,\"#fb9f3a\"],[0.8888888888888888,\"#fdca26\"],[1.0,\"#f0f921\"]],\"sequentialminus\":[[0.0,\"#0d0887\"],[0.1111111111111111,\"#46039f\"],[0.2222222222222222,\"#7201a8\"],[0.3333333333333333,\"#9c179e\"],[0.4444444444444444,\"#bd3786\"],[0.5555555555555556,\"#d8576b\"],[0.6666666666666666,\"#ed7953\"],[0.7777777777777778,\"#fb9f3a\"],[0.8888888888888888,\"#fdca26\"],[1.0,\"#f0f921\"]],\"diverging\":[[0,\"#8e0152\"],[0.1,\"#c51b7d\"],[0.2,\"#de77ae\"],[0.3,\"#f1b6da\"],[0.4,\"#fde0ef\"],[0.5,\"#f7f7f7\"],[0.6,\"#e6f5d0\"],[0.7,\"#b8e186\"],[0.8,\"#7fbc41\"],[0.9,\"#4d9221\"],[1,\"#276419\"]]},\"xaxis\":{\"gridcolor\":\"white\",\"linecolor\":\"white\",\"ticks\":\"\",\"title\":{\"standoff\":15},\"zerolinecolor\":\"white\",\"automargin\":true,\"zerolinewidth\":2},\"yaxis\":{\"gridcolor\":\"white\",\"linecolor\":\"white\",\"ticks\":\"\",\"title\":{\"standoff\":15},\"zerolinecolor\":\"white\",\"automargin\":true,\"zerolinewidth\":2},\"scene\":{\"xaxis\":{\"backgroundcolor\":\"#E5ECF6\",\"gridcolor\":\"white\",\"linecolor\":\"white\",\"showbackground\":true,\"ticks\":\"\",\"zerolinecolor\":\"white\",\"gridwidth\":2},\"yaxis\":{\"backgroundcolor\":\"#E5ECF6\",\"gridcolor\":\"white\",\"linecolor\":\"white\",\"showbackground\":true,\"ticks\":\"\",\"zerolinecolor\":\"white\",\"gridwidth\":2},\"zaxis\":{\"backgroundcolor\":\"#E5ECF6\",\"gridcolor\":\"white\",\"linecolor\":\"white\",\"showbackground\":true,\"ticks\":\"\",\"zerolinecolor\":\"white\",\"gridwidth\":2}},\"shapedefaults\":{\"line\":{\"color\":\"#2a3f5f\"}},\"annotationdefaults\":{\"arrowcolor\":\"#2a3f5f\",\"arrowhead\":0,\"arrowwidth\":1},\"geo\":{\"bgcolor\":\"white\",\"landcolor\":\"#E5ECF6\",\"subunitcolor\":\"white\",\"showland\":true,\"showlakes\":true,\"lakecolor\":\"white\"},\"title\":{\"x\":0.05},\"mapbox\":{\"style\":\"light\"}}},\"xaxis\":{\"anchor\":\"y\",\"domain\":[0.0,1.0],\"title\":{\"text\":\"Zone\"}},\"yaxis\":{\"anchor\":\"x\",\"domain\":[0.0,1.0],\"title\":{\"text\":\"Frequency\"}},\"legend\":{\"tracegroupgap\":0},\"title\":{\"text\":\"Top 20 zones more frequent in zone\"},\"barmode\":\"relative\"},                        {\"responsive\": true}                    ).then(function(){\n",
       "                            \n",
       "var gd = document.getElementById('bd0da43f-0080-483e-bc30-1229ea4b544a');\n",
       "var x = new MutationObserver(function (mutations, observer) {{\n",
       "        var display = window.getComputedStyle(gd).display;\n",
       "        if (!display || display === 'none') {{\n",
       "            console.log([gd, 'removed!']);\n",
       "            Plotly.purge(gd);\n",
       "            observer.disconnect();\n",
       "        }}\n",
       "}});\n",
       "\n",
       "// Listen for the removal of the full notebook cells\n",
       "var notebookContainer = gd.closest('#notebook-container');\n",
       "if (notebookContainer) {{\n",
       "    x.observe(notebookContainer, {childList: true});\n",
       "}}\n",
       "\n",
       "// Listen for the clearing of the current output cell\n",
       "var outputEl = gd.closest('.output');\n",
       "if (outputEl) {{\n",
       "    x.observe(outputEl, {childList: true});\n",
       "}}\n",
       "\n",
       "                        })                };                });            </script>        </div>"
      ]
     },
     "metadata": {},
     "output_type": "display_data"
    }
   ],
   "source": [
    "def seleccionar_valor(row, columnas):\n",
    "    for col in columnas:\n",
    "        valor = row[col]\n",
    "        if not pd.isna(valor) and str(valor) != 'nan' and str(valor) != '--':\n",
    "            return valor\n",
    "    return 'sin valor'\n",
    "columnas = ['provincia', 'zona', 'ciudad ip', 'localidad']\n",
    "df['zone'] = df.apply(lambda row: seleccionar_valor(row, columnas), axis=1)\n",
    "top_20_zonas = df['zone'].value_counts().head(20)\n",
    "fig_bar = px.bar(x=top_20_zonas.index, y=top_20_zonas, labels={'x': 'Zone', 'y': 'Frequency'}, title='Top 20 zones more frequent in zone', color_discrete_sequence=colors)\n",
    "fig_bar.show()"
   ]
  },
  {
   "cell_type": "markdown",
   "id": "8be7cca6",
   "metadata": {
    "papermill": {
     "duration": 0.028592,
     "end_time": "2023-06-02T23:56:58.054060",
     "exception": false,
     "start_time": "2023-06-02T23:56:58.025468",
     "status": "completed"
    },
    "tags": []
   },
   "source": [
    "<div style=\"border-radius:13px; border:#FFB800 solid; padding: 15px; background-color: #FAFFFF; font-size:105%; text-align:left\">\n",
    "    \n",
    "* Unifying zone names when they contain terms relevant to frequently repeated provinces.\n"
   ]
  },
  {
   "cell_type": "code",
   "execution_count": 11,
   "id": "868e5dcd",
   "metadata": {
    "_kg_hide-input": true,
    "execution": {
     "iopub.execute_input": "2023-06-02T23:56:58.111529Z",
     "iopub.status.busy": "2023-06-02T23:56:58.111141Z",
     "iopub.status.idle": "2023-06-02T23:56:58.211814Z",
     "shell.execute_reply": "2023-06-02T23:56:58.210631Z"
    },
    "jupyter": {
     "source_hidden": true
    },
    "papermill": {
     "duration": 0.132597,
     "end_time": "2023-06-02T23:56:58.214387",
     "exception": false,
     "start_time": "2023-06-02T23:56:58.081790",
     "status": "completed"
    },
    "tags": []
   },
   "outputs": [
    {
     "data": {
      "text/html": [
       "<div>                            <div id=\"5a9e606e-0760-4d2d-873e-bc6fe2011dc9\" class=\"plotly-graph-div\" style=\"height:525px; width:100%;\"></div>            <script type=\"text/javascript\">                require([\"plotly\"], function(Plotly) {                    window.PLOTLYENV=window.PLOTLYENV || {};                                    if (document.getElementById(\"5a9e606e-0760-4d2d-873e-bc6fe2011dc9\")) {                    Plotly.newPlot(                        \"5a9e606e-0760-4d2d-873e-bc6fe2011dc9\",                        [{\"domain\":{\"x\":[0.0,1.0],\"y\":[0.0,1.0]},\"hovertemplate\":\"label=%{label}<br>value=%{value}<extra></extra>\",\"labels\":[\"sin valor\",\"buenos aires\",\"santa fe\",\"mendoza\",\"argentina\",\"córdoba\",\"-\",\"salta\",\"cordoba\",\"corrientes\",\"mar del plata\",\"santiago del estero\",\"entre rios\",\"misiones\",\"berazategui\",\"san juan\",\"san luis\",\"formosa\"],\"legendgroup\":\"\",\"name\":\"\",\"showlegend\":true,\"values\":[824,391,62,44,25,21,15,15,13,12,11,10,9,9,8,8,8,7],\"type\":\"pie\"}],                        {\"template\":{\"data\":{\"histogram2dcontour\":[{\"type\":\"histogram2dcontour\",\"colorbar\":{\"outlinewidth\":0,\"ticks\":\"\"},\"colorscale\":[[0.0,\"#0d0887\"],[0.1111111111111111,\"#46039f\"],[0.2222222222222222,\"#7201a8\"],[0.3333333333333333,\"#9c179e\"],[0.4444444444444444,\"#bd3786\"],[0.5555555555555556,\"#d8576b\"],[0.6666666666666666,\"#ed7953\"],[0.7777777777777778,\"#fb9f3a\"],[0.8888888888888888,\"#fdca26\"],[1.0,\"#f0f921\"]]}],\"choropleth\":[{\"type\":\"choropleth\",\"colorbar\":{\"outlinewidth\":0,\"ticks\":\"\"}}],\"histogram2d\":[{\"type\":\"histogram2d\",\"colorbar\":{\"outlinewidth\":0,\"ticks\":\"\"},\"colorscale\":[[0.0,\"#0d0887\"],[0.1111111111111111,\"#46039f\"],[0.2222222222222222,\"#7201a8\"],[0.3333333333333333,\"#9c179e\"],[0.4444444444444444,\"#bd3786\"],[0.5555555555555556,\"#d8576b\"],[0.6666666666666666,\"#ed7953\"],[0.7777777777777778,\"#fb9f3a\"],[0.8888888888888888,\"#fdca26\"],[1.0,\"#f0f921\"]]}],\"heatmap\":[{\"type\":\"heatmap\",\"colorbar\":{\"outlinewidth\":0,\"ticks\":\"\"},\"colorscale\":[[0.0,\"#0d0887\"],[0.1111111111111111,\"#46039f\"],[0.2222222222222222,\"#7201a8\"],[0.3333333333333333,\"#9c179e\"],[0.4444444444444444,\"#bd3786\"],[0.5555555555555556,\"#d8576b\"],[0.6666666666666666,\"#ed7953\"],[0.7777777777777778,\"#fb9f3a\"],[0.8888888888888888,\"#fdca26\"],[1.0,\"#f0f921\"]]}],\"heatmapgl\":[{\"type\":\"heatmapgl\",\"colorbar\":{\"outlinewidth\":0,\"ticks\":\"\"},\"colorscale\":[[0.0,\"#0d0887\"],[0.1111111111111111,\"#46039f\"],[0.2222222222222222,\"#7201a8\"],[0.3333333333333333,\"#9c179e\"],[0.4444444444444444,\"#bd3786\"],[0.5555555555555556,\"#d8576b\"],[0.6666666666666666,\"#ed7953\"],[0.7777777777777778,\"#fb9f3a\"],[0.8888888888888888,\"#fdca26\"],[1.0,\"#f0f921\"]]}],\"contourcarpet\":[{\"type\":\"contourcarpet\",\"colorbar\":{\"outlinewidth\":0,\"ticks\":\"\"}}],\"contour\":[{\"type\":\"contour\",\"colorbar\":{\"outlinewidth\":0,\"ticks\":\"\"},\"colorscale\":[[0.0,\"#0d0887\"],[0.1111111111111111,\"#46039f\"],[0.2222222222222222,\"#7201a8\"],[0.3333333333333333,\"#9c179e\"],[0.4444444444444444,\"#bd3786\"],[0.5555555555555556,\"#d8576b\"],[0.6666666666666666,\"#ed7953\"],[0.7777777777777778,\"#fb9f3a\"],[0.8888888888888888,\"#fdca26\"],[1.0,\"#f0f921\"]]}],\"surface\":[{\"type\":\"surface\",\"colorbar\":{\"outlinewidth\":0,\"ticks\":\"\"},\"colorscale\":[[0.0,\"#0d0887\"],[0.1111111111111111,\"#46039f\"],[0.2222222222222222,\"#7201a8\"],[0.3333333333333333,\"#9c179e\"],[0.4444444444444444,\"#bd3786\"],[0.5555555555555556,\"#d8576b\"],[0.6666666666666666,\"#ed7953\"],[0.7777777777777778,\"#fb9f3a\"],[0.8888888888888888,\"#fdca26\"],[1.0,\"#f0f921\"]]}],\"mesh3d\":[{\"type\":\"mesh3d\",\"colorbar\":{\"outlinewidth\":0,\"ticks\":\"\"}}],\"scatter\":[{\"fillpattern\":{\"fillmode\":\"overlay\",\"size\":10,\"solidity\":0.2},\"type\":\"scatter\"}],\"parcoords\":[{\"type\":\"parcoords\",\"line\":{\"colorbar\":{\"outlinewidth\":0,\"ticks\":\"\"}}}],\"scatterpolargl\":[{\"type\":\"scatterpolargl\",\"marker\":{\"colorbar\":{\"outlinewidth\":0,\"ticks\":\"\"}}}],\"bar\":[{\"error_x\":{\"color\":\"#2a3f5f\"},\"error_y\":{\"color\":\"#2a3f5f\"},\"marker\":{\"line\":{\"color\":\"#E5ECF6\",\"width\":0.5},\"pattern\":{\"fillmode\":\"overlay\",\"size\":10,\"solidity\":0.2}},\"type\":\"bar\"}],\"scattergeo\":[{\"type\":\"scattergeo\",\"marker\":{\"colorbar\":{\"outlinewidth\":0,\"ticks\":\"\"}}}],\"scatterpolar\":[{\"type\":\"scatterpolar\",\"marker\":{\"colorbar\":{\"outlinewidth\":0,\"ticks\":\"\"}}}],\"histogram\":[{\"marker\":{\"pattern\":{\"fillmode\":\"overlay\",\"size\":10,\"solidity\":0.2}},\"type\":\"histogram\"}],\"scattergl\":[{\"type\":\"scattergl\",\"marker\":{\"colorbar\":{\"outlinewidth\":0,\"ticks\":\"\"}}}],\"scatter3d\":[{\"type\":\"scatter3d\",\"line\":{\"colorbar\":{\"outlinewidth\":0,\"ticks\":\"\"}},\"marker\":{\"colorbar\":{\"outlinewidth\":0,\"ticks\":\"\"}}}],\"scattermapbox\":[{\"type\":\"scattermapbox\",\"marker\":{\"colorbar\":{\"outlinewidth\":0,\"ticks\":\"\"}}}],\"scatterternary\":[{\"type\":\"scatterternary\",\"marker\":{\"colorbar\":{\"outlinewidth\":0,\"ticks\":\"\"}}}],\"scattercarpet\":[{\"type\":\"scattercarpet\",\"marker\":{\"colorbar\":{\"outlinewidth\":0,\"ticks\":\"\"}}}],\"carpet\":[{\"aaxis\":{\"endlinecolor\":\"#2a3f5f\",\"gridcolor\":\"white\",\"linecolor\":\"white\",\"minorgridcolor\":\"white\",\"startlinecolor\":\"#2a3f5f\"},\"baxis\":{\"endlinecolor\":\"#2a3f5f\",\"gridcolor\":\"white\",\"linecolor\":\"white\",\"minorgridcolor\":\"white\",\"startlinecolor\":\"#2a3f5f\"},\"type\":\"carpet\"}],\"table\":[{\"cells\":{\"fill\":{\"color\":\"#EBF0F8\"},\"line\":{\"color\":\"white\"}},\"header\":{\"fill\":{\"color\":\"#C8D4E3\"},\"line\":{\"color\":\"white\"}},\"type\":\"table\"}],\"barpolar\":[{\"marker\":{\"line\":{\"color\":\"#E5ECF6\",\"width\":0.5},\"pattern\":{\"fillmode\":\"overlay\",\"size\":10,\"solidity\":0.2}},\"type\":\"barpolar\"}],\"pie\":[{\"automargin\":true,\"type\":\"pie\"}]},\"layout\":{\"autotypenumbers\":\"strict\",\"colorway\":[\"#636efa\",\"#EF553B\",\"#00cc96\",\"#ab63fa\",\"#FFA15A\",\"#19d3f3\",\"#FF6692\",\"#B6E880\",\"#FF97FF\",\"#FECB52\"],\"font\":{\"color\":\"#2a3f5f\"},\"hovermode\":\"closest\",\"hoverlabel\":{\"align\":\"left\"},\"paper_bgcolor\":\"white\",\"plot_bgcolor\":\"#E5ECF6\",\"polar\":{\"bgcolor\":\"#E5ECF6\",\"angularaxis\":{\"gridcolor\":\"white\",\"linecolor\":\"white\",\"ticks\":\"\"},\"radialaxis\":{\"gridcolor\":\"white\",\"linecolor\":\"white\",\"ticks\":\"\"}},\"ternary\":{\"bgcolor\":\"#E5ECF6\",\"aaxis\":{\"gridcolor\":\"white\",\"linecolor\":\"white\",\"ticks\":\"\"},\"baxis\":{\"gridcolor\":\"white\",\"linecolor\":\"white\",\"ticks\":\"\"},\"caxis\":{\"gridcolor\":\"white\",\"linecolor\":\"white\",\"ticks\":\"\"}},\"coloraxis\":{\"colorbar\":{\"outlinewidth\":0,\"ticks\":\"\"}},\"colorscale\":{\"sequential\":[[0.0,\"#0d0887\"],[0.1111111111111111,\"#46039f\"],[0.2222222222222222,\"#7201a8\"],[0.3333333333333333,\"#9c179e\"],[0.4444444444444444,\"#bd3786\"],[0.5555555555555556,\"#d8576b\"],[0.6666666666666666,\"#ed7953\"],[0.7777777777777778,\"#fb9f3a\"],[0.8888888888888888,\"#fdca26\"],[1.0,\"#f0f921\"]],\"sequentialminus\":[[0.0,\"#0d0887\"],[0.1111111111111111,\"#46039f\"],[0.2222222222222222,\"#7201a8\"],[0.3333333333333333,\"#9c179e\"],[0.4444444444444444,\"#bd3786\"],[0.5555555555555556,\"#d8576b\"],[0.6666666666666666,\"#ed7953\"],[0.7777777777777778,\"#fb9f3a\"],[0.8888888888888888,\"#fdca26\"],[1.0,\"#f0f921\"]],\"diverging\":[[0,\"#8e0152\"],[0.1,\"#c51b7d\"],[0.2,\"#de77ae\"],[0.3,\"#f1b6da\"],[0.4,\"#fde0ef\"],[0.5,\"#f7f7f7\"],[0.6,\"#e6f5d0\"],[0.7,\"#b8e186\"],[0.8,\"#7fbc41\"],[0.9,\"#4d9221\"],[1,\"#276419\"]]},\"xaxis\":{\"gridcolor\":\"white\",\"linecolor\":\"white\",\"ticks\":\"\",\"title\":{\"standoff\":15},\"zerolinecolor\":\"white\",\"automargin\":true,\"zerolinewidth\":2},\"yaxis\":{\"gridcolor\":\"white\",\"linecolor\":\"white\",\"ticks\":\"\",\"title\":{\"standoff\":15},\"zerolinecolor\":\"white\",\"automargin\":true,\"zerolinewidth\":2},\"scene\":{\"xaxis\":{\"backgroundcolor\":\"#E5ECF6\",\"gridcolor\":\"white\",\"linecolor\":\"white\",\"showbackground\":true,\"ticks\":\"\",\"zerolinecolor\":\"white\",\"gridwidth\":2},\"yaxis\":{\"backgroundcolor\":\"#E5ECF6\",\"gridcolor\":\"white\",\"linecolor\":\"white\",\"showbackground\":true,\"ticks\":\"\",\"zerolinecolor\":\"white\",\"gridwidth\":2},\"zaxis\":{\"backgroundcolor\":\"#E5ECF6\",\"gridcolor\":\"white\",\"linecolor\":\"white\",\"showbackground\":true,\"ticks\":\"\",\"zerolinecolor\":\"white\",\"gridwidth\":2}},\"shapedefaults\":{\"line\":{\"color\":\"#2a3f5f\"}},\"annotationdefaults\":{\"arrowcolor\":\"#2a3f5f\",\"arrowhead\":0,\"arrowwidth\":1},\"geo\":{\"bgcolor\":\"white\",\"landcolor\":\"#E5ECF6\",\"subunitcolor\":\"white\",\"showland\":true,\"showlakes\":true,\"lakecolor\":\"white\"},\"title\":{\"x\":0.05},\"mapbox\":{\"style\":\"light\"}}},\"legend\":{\"tracegroupgap\":0},\"title\":{\"text\":\"Zones Top 18\"},\"piecolorway\":[\"#064572\",\"#A8854F\",\"#7E98B2\",\"#663DB8\",\"#2D795E\",\"#57073E\",\"#AF550B\",\"#15042E\",\"#DD1E6A\",\"#CB9F07\",\"#44143B\",\"#0BAFA1\"]},                        {\"responsive\": true}                    ).then(function(){\n",
       "                            \n",
       "var gd = document.getElementById('5a9e606e-0760-4d2d-873e-bc6fe2011dc9');\n",
       "var x = new MutationObserver(function (mutations, observer) {{\n",
       "        var display = window.getComputedStyle(gd).display;\n",
       "        if (!display || display === 'none') {{\n",
       "            console.log([gd, 'removed!']);\n",
       "            Plotly.purge(gd);\n",
       "            observer.disconnect();\n",
       "        }}\n",
       "}});\n",
       "\n",
       "// Listen for the removal of the full notebook cells\n",
       "var notebookContainer = gd.closest('#notebook-container');\n",
       "if (notebookContainer) {{\n",
       "    x.observe(notebookContainer, {childList: true});\n",
       "}}\n",
       "\n",
       "// Listen for the clearing of the current output cell\n",
       "var outputEl = gd.closest('.output');\n",
       "if (outputEl) {{\n",
       "    x.observe(outputEl, {childList: true});\n",
       "}}\n",
       "\n",
       "                        })                };                });            </script>        </div>"
      ]
     },
     "metadata": {},
     "output_type": "display_data"
    }
   ],
   "source": [
    "def unificar_nombre_zona(zone):\n",
    "    if isinstance(zone , str):\n",
    "        if any(substring in zone for substring in ['aires', 'buenos', 'caba', 'capital federal', 'la matanza', 'san justo', 'quilmes', 'san martin']):\n",
    "            return 'buenos aires'\n",
    "        elif 'santa ' in zone or 'rosario' in zone.lower():\n",
    "            return 'santa fe'\n",
    "        elif 'posadas' in zone.lower():\n",
    "            return 'mendoza'\n",
    "        else:\n",
    "            return zone\n",
    "    else:\n",
    "        return zone\n",
    "# Aplicando a cada valor de la columna 'zonas_unificadas'\n",
    "df['zone'] = df['zone'].apply(unificar_nombre_zona)\n",
    "# Eliminando el resto de columnas pertinentes a este area\n",
    "df = df.drop(['provincia', 'zona', 'ciudad ip', 'localidad'], axis=1)\n",
    "# Verificar el resultado\n",
    "zf = df['zone'].value_counts().head(18)\n",
    "fig_pie = px.pie(values=zf, names=zf.index, title=\"Zones Top 18\", color_discrete_sequence=colors)\n",
    "fig_pie.show()"
   ]
  },
  {
   "cell_type": "markdown",
   "id": "7e5d3184",
   "metadata": {
    "papermill": {
     "duration": 0.027444,
     "end_time": "2023-06-02T23:56:58.269770",
     "exception": false,
     "start_time": "2023-06-02T23:56:58.242326",
     "status": "completed"
    },
    "tags": []
   },
   "source": [
    "<div style=\"border-radius:13px; border:#FFB800 solid; padding: 15px; background-color: #FAFFFF; font-size:105%; text-align:left\">\n",
    "    \n",
    "* Except for Buenos Aires, the remaining provinces do not have enough values to contribute to the model.\n",
    "* Considering the relevance of other columns in the dataset, I prefer to avoid unnecessary biasing of the model, so I will divide the unified zone into 3 values.\n"
   ]
  },
  {
   "cell_type": "code",
   "execution_count": 12,
   "id": "4d848db6",
   "metadata": {
    "_kg_hide-input": true,
    "execution": {
     "iopub.execute_input": "2023-06-02T23:56:58.327138Z",
     "iopub.status.busy": "2023-06-02T23:56:58.326725Z",
     "iopub.status.idle": "2023-06-02T23:56:58.395739Z",
     "shell.execute_reply": "2023-06-02T23:56:58.394724Z"
    },
    "jupyter": {
     "source_hidden": true
    },
    "papermill": {
     "duration": 0.10064,
     "end_time": "2023-06-02T23:56:58.398147",
     "exception": false,
     "start_time": "2023-06-02T23:56:58.297507",
     "status": "completed"
    },
    "tags": []
   },
   "outputs": [
    {
     "data": {
      "text/html": [
       "<div>                            <div id=\"0421941b-8a8e-498c-b2dd-db99f82cb27b\" class=\"plotly-graph-div\" style=\"height:525px; width:100%;\"></div>            <script type=\"text/javascript\">                require([\"plotly\"], function(Plotly) {                    window.PLOTLYENV=window.PLOTLYENV || {};                                    if (document.getElementById(\"0421941b-8a8e-498c-b2dd-db99f82cb27b\")) {                    Plotly.newPlot(                        \"0421941b-8a8e-498c-b2dd-db99f82cb27b\",                        [{\"domain\":{\"x\":[0.0,1.0],\"y\":[0.0,1.0]},\"hovertemplate\":\"label=%{label}<br>value=%{value}<extra></extra>\",\"labels\":[\"sin valor\",\"zonas menos recurrentes\",\"buenos aires\"],\"legendgroup\":\"\",\"name\":\"\",\"showlegend\":true,\"values\":[824,582,391],\"type\":\"pie\"}],                        {\"template\":{\"data\":{\"histogram2dcontour\":[{\"type\":\"histogram2dcontour\",\"colorbar\":{\"outlinewidth\":0,\"ticks\":\"\"},\"colorscale\":[[0.0,\"#0d0887\"],[0.1111111111111111,\"#46039f\"],[0.2222222222222222,\"#7201a8\"],[0.3333333333333333,\"#9c179e\"],[0.4444444444444444,\"#bd3786\"],[0.5555555555555556,\"#d8576b\"],[0.6666666666666666,\"#ed7953\"],[0.7777777777777778,\"#fb9f3a\"],[0.8888888888888888,\"#fdca26\"],[1.0,\"#f0f921\"]]}],\"choropleth\":[{\"type\":\"choropleth\",\"colorbar\":{\"outlinewidth\":0,\"ticks\":\"\"}}],\"histogram2d\":[{\"type\":\"histogram2d\",\"colorbar\":{\"outlinewidth\":0,\"ticks\":\"\"},\"colorscale\":[[0.0,\"#0d0887\"],[0.1111111111111111,\"#46039f\"],[0.2222222222222222,\"#7201a8\"],[0.3333333333333333,\"#9c179e\"],[0.4444444444444444,\"#bd3786\"],[0.5555555555555556,\"#d8576b\"],[0.6666666666666666,\"#ed7953\"],[0.7777777777777778,\"#fb9f3a\"],[0.8888888888888888,\"#fdca26\"],[1.0,\"#f0f921\"]]}],\"heatmap\":[{\"type\":\"heatmap\",\"colorbar\":{\"outlinewidth\":0,\"ticks\":\"\"},\"colorscale\":[[0.0,\"#0d0887\"],[0.1111111111111111,\"#46039f\"],[0.2222222222222222,\"#7201a8\"],[0.3333333333333333,\"#9c179e\"],[0.4444444444444444,\"#bd3786\"],[0.5555555555555556,\"#d8576b\"],[0.6666666666666666,\"#ed7953\"],[0.7777777777777778,\"#fb9f3a\"],[0.8888888888888888,\"#fdca26\"],[1.0,\"#f0f921\"]]}],\"heatmapgl\":[{\"type\":\"heatmapgl\",\"colorbar\":{\"outlinewidth\":0,\"ticks\":\"\"},\"colorscale\":[[0.0,\"#0d0887\"],[0.1111111111111111,\"#46039f\"],[0.2222222222222222,\"#7201a8\"],[0.3333333333333333,\"#9c179e\"],[0.4444444444444444,\"#bd3786\"],[0.5555555555555556,\"#d8576b\"],[0.6666666666666666,\"#ed7953\"],[0.7777777777777778,\"#fb9f3a\"],[0.8888888888888888,\"#fdca26\"],[1.0,\"#f0f921\"]]}],\"contourcarpet\":[{\"type\":\"contourcarpet\",\"colorbar\":{\"outlinewidth\":0,\"ticks\":\"\"}}],\"contour\":[{\"type\":\"contour\",\"colorbar\":{\"outlinewidth\":0,\"ticks\":\"\"},\"colorscale\":[[0.0,\"#0d0887\"],[0.1111111111111111,\"#46039f\"],[0.2222222222222222,\"#7201a8\"],[0.3333333333333333,\"#9c179e\"],[0.4444444444444444,\"#bd3786\"],[0.5555555555555556,\"#d8576b\"],[0.6666666666666666,\"#ed7953\"],[0.7777777777777778,\"#fb9f3a\"],[0.8888888888888888,\"#fdca26\"],[1.0,\"#f0f921\"]]}],\"surface\":[{\"type\":\"surface\",\"colorbar\":{\"outlinewidth\":0,\"ticks\":\"\"},\"colorscale\":[[0.0,\"#0d0887\"],[0.1111111111111111,\"#46039f\"],[0.2222222222222222,\"#7201a8\"],[0.3333333333333333,\"#9c179e\"],[0.4444444444444444,\"#bd3786\"],[0.5555555555555556,\"#d8576b\"],[0.6666666666666666,\"#ed7953\"],[0.7777777777777778,\"#fb9f3a\"],[0.8888888888888888,\"#fdca26\"],[1.0,\"#f0f921\"]]}],\"mesh3d\":[{\"type\":\"mesh3d\",\"colorbar\":{\"outlinewidth\":0,\"ticks\":\"\"}}],\"scatter\":[{\"fillpattern\":{\"fillmode\":\"overlay\",\"size\":10,\"solidity\":0.2},\"type\":\"scatter\"}],\"parcoords\":[{\"type\":\"parcoords\",\"line\":{\"colorbar\":{\"outlinewidth\":0,\"ticks\":\"\"}}}],\"scatterpolargl\":[{\"type\":\"scatterpolargl\",\"marker\":{\"colorbar\":{\"outlinewidth\":0,\"ticks\":\"\"}}}],\"bar\":[{\"error_x\":{\"color\":\"#2a3f5f\"},\"error_y\":{\"color\":\"#2a3f5f\"},\"marker\":{\"line\":{\"color\":\"#E5ECF6\",\"width\":0.5},\"pattern\":{\"fillmode\":\"overlay\",\"size\":10,\"solidity\":0.2}},\"type\":\"bar\"}],\"scattergeo\":[{\"type\":\"scattergeo\",\"marker\":{\"colorbar\":{\"outlinewidth\":0,\"ticks\":\"\"}}}],\"scatterpolar\":[{\"type\":\"scatterpolar\",\"marker\":{\"colorbar\":{\"outlinewidth\":0,\"ticks\":\"\"}}}],\"histogram\":[{\"marker\":{\"pattern\":{\"fillmode\":\"overlay\",\"size\":10,\"solidity\":0.2}},\"type\":\"histogram\"}],\"scattergl\":[{\"type\":\"scattergl\",\"marker\":{\"colorbar\":{\"outlinewidth\":0,\"ticks\":\"\"}}}],\"scatter3d\":[{\"type\":\"scatter3d\",\"line\":{\"colorbar\":{\"outlinewidth\":0,\"ticks\":\"\"}},\"marker\":{\"colorbar\":{\"outlinewidth\":0,\"ticks\":\"\"}}}],\"scattermapbox\":[{\"type\":\"scattermapbox\",\"marker\":{\"colorbar\":{\"outlinewidth\":0,\"ticks\":\"\"}}}],\"scatterternary\":[{\"type\":\"scatterternary\",\"marker\":{\"colorbar\":{\"outlinewidth\":0,\"ticks\":\"\"}}}],\"scattercarpet\":[{\"type\":\"scattercarpet\",\"marker\":{\"colorbar\":{\"outlinewidth\":0,\"ticks\":\"\"}}}],\"carpet\":[{\"aaxis\":{\"endlinecolor\":\"#2a3f5f\",\"gridcolor\":\"white\",\"linecolor\":\"white\",\"minorgridcolor\":\"white\",\"startlinecolor\":\"#2a3f5f\"},\"baxis\":{\"endlinecolor\":\"#2a3f5f\",\"gridcolor\":\"white\",\"linecolor\":\"white\",\"minorgridcolor\":\"white\",\"startlinecolor\":\"#2a3f5f\"},\"type\":\"carpet\"}],\"table\":[{\"cells\":{\"fill\":{\"color\":\"#EBF0F8\"},\"line\":{\"color\":\"white\"}},\"header\":{\"fill\":{\"color\":\"#C8D4E3\"},\"line\":{\"color\":\"white\"}},\"type\":\"table\"}],\"barpolar\":[{\"marker\":{\"line\":{\"color\":\"#E5ECF6\",\"width\":0.5},\"pattern\":{\"fillmode\":\"overlay\",\"size\":10,\"solidity\":0.2}},\"type\":\"barpolar\"}],\"pie\":[{\"automargin\":true,\"type\":\"pie\"}]},\"layout\":{\"autotypenumbers\":\"strict\",\"colorway\":[\"#636efa\",\"#EF553B\",\"#00cc96\",\"#ab63fa\",\"#FFA15A\",\"#19d3f3\",\"#FF6692\",\"#B6E880\",\"#FF97FF\",\"#FECB52\"],\"font\":{\"color\":\"#2a3f5f\"},\"hovermode\":\"closest\",\"hoverlabel\":{\"align\":\"left\"},\"paper_bgcolor\":\"white\",\"plot_bgcolor\":\"#E5ECF6\",\"polar\":{\"bgcolor\":\"#E5ECF6\",\"angularaxis\":{\"gridcolor\":\"white\",\"linecolor\":\"white\",\"ticks\":\"\"},\"radialaxis\":{\"gridcolor\":\"white\",\"linecolor\":\"white\",\"ticks\":\"\"}},\"ternary\":{\"bgcolor\":\"#E5ECF6\",\"aaxis\":{\"gridcolor\":\"white\",\"linecolor\":\"white\",\"ticks\":\"\"},\"baxis\":{\"gridcolor\":\"white\",\"linecolor\":\"white\",\"ticks\":\"\"},\"caxis\":{\"gridcolor\":\"white\",\"linecolor\":\"white\",\"ticks\":\"\"}},\"coloraxis\":{\"colorbar\":{\"outlinewidth\":0,\"ticks\":\"\"}},\"colorscale\":{\"sequential\":[[0.0,\"#0d0887\"],[0.1111111111111111,\"#46039f\"],[0.2222222222222222,\"#7201a8\"],[0.3333333333333333,\"#9c179e\"],[0.4444444444444444,\"#bd3786\"],[0.5555555555555556,\"#d8576b\"],[0.6666666666666666,\"#ed7953\"],[0.7777777777777778,\"#fb9f3a\"],[0.8888888888888888,\"#fdca26\"],[1.0,\"#f0f921\"]],\"sequentialminus\":[[0.0,\"#0d0887\"],[0.1111111111111111,\"#46039f\"],[0.2222222222222222,\"#7201a8\"],[0.3333333333333333,\"#9c179e\"],[0.4444444444444444,\"#bd3786\"],[0.5555555555555556,\"#d8576b\"],[0.6666666666666666,\"#ed7953\"],[0.7777777777777778,\"#fb9f3a\"],[0.8888888888888888,\"#fdca26\"],[1.0,\"#f0f921\"]],\"diverging\":[[0,\"#8e0152\"],[0.1,\"#c51b7d\"],[0.2,\"#de77ae\"],[0.3,\"#f1b6da\"],[0.4,\"#fde0ef\"],[0.5,\"#f7f7f7\"],[0.6,\"#e6f5d0\"],[0.7,\"#b8e186\"],[0.8,\"#7fbc41\"],[0.9,\"#4d9221\"],[1,\"#276419\"]]},\"xaxis\":{\"gridcolor\":\"white\",\"linecolor\":\"white\",\"ticks\":\"\",\"title\":{\"standoff\":15},\"zerolinecolor\":\"white\",\"automargin\":true,\"zerolinewidth\":2},\"yaxis\":{\"gridcolor\":\"white\",\"linecolor\":\"white\",\"ticks\":\"\",\"title\":{\"standoff\":15},\"zerolinecolor\":\"white\",\"automargin\":true,\"zerolinewidth\":2},\"scene\":{\"xaxis\":{\"backgroundcolor\":\"#E5ECF6\",\"gridcolor\":\"white\",\"linecolor\":\"white\",\"showbackground\":true,\"ticks\":\"\",\"zerolinecolor\":\"white\",\"gridwidth\":2},\"yaxis\":{\"backgroundcolor\":\"#E5ECF6\",\"gridcolor\":\"white\",\"linecolor\":\"white\",\"showbackground\":true,\"ticks\":\"\",\"zerolinecolor\":\"white\",\"gridwidth\":2},\"zaxis\":{\"backgroundcolor\":\"#E5ECF6\",\"gridcolor\":\"white\",\"linecolor\":\"white\",\"showbackground\":true,\"ticks\":\"\",\"zerolinecolor\":\"white\",\"gridwidth\":2}},\"shapedefaults\":{\"line\":{\"color\":\"#2a3f5f\"}},\"annotationdefaults\":{\"arrowcolor\":\"#2a3f5f\",\"arrowhead\":0,\"arrowwidth\":1},\"geo\":{\"bgcolor\":\"white\",\"landcolor\":\"#E5ECF6\",\"subunitcolor\":\"white\",\"showland\":true,\"showlakes\":true,\"lakecolor\":\"white\"},\"title\":{\"x\":0.05},\"mapbox\":{\"style\":\"light\"}}},\"legend\":{\"tracegroupgap\":0},\"title\":{\"text\":\"Final result in zone\"},\"piecolorway\":[\"#064572\",\"#A8854F\",\"#7E98B2\",\"#663DB8\",\"#2D795E\",\"#57073E\",\"#AF550B\",\"#15042E\",\"#DD1E6A\",\"#CB9F07\",\"#44143B\",\"#0BAFA1\"]},                        {\"responsive\": true}                    ).then(function(){\n",
       "                            \n",
       "var gd = document.getElementById('0421941b-8a8e-498c-b2dd-db99f82cb27b');\n",
       "var x = new MutationObserver(function (mutations, observer) {{\n",
       "        var display = window.getComputedStyle(gd).display;\n",
       "        if (!display || display === 'none') {{\n",
       "            console.log([gd, 'removed!']);\n",
       "            Plotly.purge(gd);\n",
       "            observer.disconnect();\n",
       "        }}\n",
       "}});\n",
       "\n",
       "// Listen for the removal of the full notebook cells\n",
       "var notebookContainer = gd.closest('#notebook-container');\n",
       "if (notebookContainer) {{\n",
       "    x.observe(notebookContainer, {childList: true});\n",
       "}}\n",
       "\n",
       "// Listen for the clearing of the current output cell\n",
       "var outputEl = gd.closest('.output');\n",
       "if (outputEl) {{\n",
       "    x.observe(outputEl, {childList: true});\n",
       "}}\n",
       "\n",
       "                        })                };                });            </script>        </div>"
      ]
     },
     "metadata": {},
     "output_type": "display_data"
    }
   ],
   "source": [
    "top_3_zonas = df['zone'].value_counts().head(2).index\n",
    "def agrupar_otras(valores, top3_zonas):\n",
    "    if valores not in top3_zonas:\n",
    "        return \"zonas menos recurrentes\"\n",
    "    else:\n",
    "        return valores\n",
    "df['zone'] = df['zone'].apply(lambda x: agrupar_otras(x, top_3_zonas))\n",
    "# Verificar el resultado\n",
    "zf = df['zone'].value_counts()\n",
    "fig_pie = px.pie(values=zf, names=zf.index, title='Final result in zone', color_discrete_sequence=colors)\n",
    "fig_pie.show()"
   ]
  },
  {
   "cell_type": "markdown",
   "id": "87fffc00",
   "metadata": {
    "papermill": {
     "duration": 0.027976,
     "end_time": "2023-06-02T23:56:58.454207",
     "exception": false,
     "start_time": "2023-06-02T23:56:58.426231",
     "status": "completed"
    },
    "tags": []
   },
   "source": [
    "<div style=\"border-radius:13px; border:#FFB800 solid; padding: 15px; background-color: #FAFFFF; font-size:105%; text-align:left\">\n",
    "    \n",
    "* I consider the geographic location variable \"zona_unificada\" concluded for now.\n",
    "* Later on, I will verify its relationship with other columns, especially with the target column."
   ]
  },
  {
   "cell_type": "markdown",
   "id": "42343e76",
   "metadata": {
    "papermill": {
     "duration": 0.028383,
     "end_time": "2023-06-02T23:56:58.510823",
     "exception": false,
     "start_time": "2023-06-02T23:56:58.482440",
     "status": "completed"
    },
    "tags": []
   },
   "source": [
    "<p style=\"font-family:JetBrains Mono; font-weight:bold; letter-spacing: 2px; color:#05041B; font-size:140%; text-align:left;padding: 0px; border-bottom: 3px solid #FFB800\"></p>"
   ]
  },
  {
   "cell_type": "markdown",
   "id": "75dbccee",
   "metadata": {
    "papermill": {
     "duration": 0.02807,
     "end_time": "2023-06-02T23:56:58.567667",
     "exception": false,
     "start_time": "2023-06-02T23:56:58.539597",
     "status": "completed"
    },
    "tags": []
   },
   "source": [
    "<div style=\"border-radius:13px; border:#FFB800 solid; padding: 15px; background-color: #FAFFFF; font-size:114%; text-align:left\">\n",
    "    \n",
    "<h3 align=\"left\"><font color='#05041B'>\n",
    "</font>🌐 Lead Source </h3>\n",
    "\n",
    "* 🖇️ Predictor Variables: \"original source\", \"last source\", \"source\"\n",
    "* 🖇️ Unified Predictor Variable: \"source\"\n",
    "* Once again, we will unify the values, and in this case, reducing and even identifying and renaming the \"\"--\"\" will be much easier."
   ]
  },
  {
   "cell_type": "code",
   "execution_count": 13,
   "id": "eff4e500",
   "metadata": {
    "_kg_hide-input": true,
    "execution": {
     "iopub.execute_input": "2023-06-02T23:56:58.626752Z",
     "iopub.status.busy": "2023-06-02T23:56:58.626353Z",
     "iopub.status.idle": "2023-06-02T23:56:58.688513Z",
     "shell.execute_reply": "2023-06-02T23:56:58.687282Z"
    },
    "jupyter": {
     "source_hidden": true
    },
    "papermill": {
     "duration": 0.095047,
     "end_time": "2023-06-02T23:56:58.691071",
     "exception": false,
     "start_time": "2023-06-02T23:56:58.596024",
     "status": "completed"
    },
    "tags": []
   },
   "outputs": [
    {
     "data": {
      "text/html": [
       "<div>                            <div id=\"ee2919d8-518a-4863-96cc-cda206e4328d\" class=\"plotly-graph-div\" style=\"height:600px; width:100%;\"></div>            <script type=\"text/javascript\">                require([\"plotly\"], function(Plotly) {                    window.PLOTLYENV=window.PLOTLYENV || {};                                    if (document.getElementById(\"ee2919d8-518a-4863-96cc-cda206e4328d\")) {                    Plotly.newPlot(                        \"ee2919d8-518a-4863-96cc-cda206e4328d\",                        [{\"marker\":{\"color\":\"#064572\"},\"name\":\"fuente\",\"text\":[886.0,466.0,342.0,37.0,20.0,19.0],\"textposition\":\"auto\",\"x\":[\"--\",\"facebook lead ads\",\"formulario\",\"directo de marca\",\"chat\",\"instagram orgánico\"],\"y\":[886,466,342,37,20,19],\"type\":\"bar\",\"xaxis\":\"x\",\"yaxis\":\"y\"},{\"marker\":{\"color\":\"#A8854F\"},\"name\":\"fuente original\",\"text\":[813.0,405.0,297.0,113.0,89.0,46.0],\"textposition\":\"auto\",\"x\":[\"redes sociales de pago\",\"fuentes sin conexión\",\"búsqueda de pago\",\"búsqueda orgánica\",\"tráfico directo\",\"referencias\"],\"y\":[813,405,297,113,89,46],\"type\":\"bar\",\"xaxis\":\"x2\",\"yaxis\":\"y2\"},{\"marker\":{\"color\":\"#7E98B2\"},\"name\":\"fuente ultima\",\"text\":[824.0,281.0,275.0,111.0,111.0,99.0],\"textposition\":\"auto\",\"x\":[\"redes sociales de pago\",\"búsqueda de pago\",\"fuentes sin conexión\",\"búsqueda orgánica\",\"tráfico directo\",\"nan\"],\"y\":[824,281,275,111,111,99],\"type\":\"bar\",\"xaxis\":\"x3\",\"yaxis\":\"y3\"}],                        {\"template\":{\"data\":{\"histogram2dcontour\":[{\"type\":\"histogram2dcontour\",\"colorbar\":{\"outlinewidth\":0,\"ticks\":\"\"},\"colorscale\":[[0.0,\"#0d0887\"],[0.1111111111111111,\"#46039f\"],[0.2222222222222222,\"#7201a8\"],[0.3333333333333333,\"#9c179e\"],[0.4444444444444444,\"#bd3786\"],[0.5555555555555556,\"#d8576b\"],[0.6666666666666666,\"#ed7953\"],[0.7777777777777778,\"#fb9f3a\"],[0.8888888888888888,\"#fdca26\"],[1.0,\"#f0f921\"]]}],\"choropleth\":[{\"type\":\"choropleth\",\"colorbar\":{\"outlinewidth\":0,\"ticks\":\"\"}}],\"histogram2d\":[{\"type\":\"histogram2d\",\"colorbar\":{\"outlinewidth\":0,\"ticks\":\"\"},\"colorscale\":[[0.0,\"#0d0887\"],[0.1111111111111111,\"#46039f\"],[0.2222222222222222,\"#7201a8\"],[0.3333333333333333,\"#9c179e\"],[0.4444444444444444,\"#bd3786\"],[0.5555555555555556,\"#d8576b\"],[0.6666666666666666,\"#ed7953\"],[0.7777777777777778,\"#fb9f3a\"],[0.8888888888888888,\"#fdca26\"],[1.0,\"#f0f921\"]]}],\"heatmap\":[{\"type\":\"heatmap\",\"colorbar\":{\"outlinewidth\":0,\"ticks\":\"\"},\"colorscale\":[[0.0,\"#0d0887\"],[0.1111111111111111,\"#46039f\"],[0.2222222222222222,\"#7201a8\"],[0.3333333333333333,\"#9c179e\"],[0.4444444444444444,\"#bd3786\"],[0.5555555555555556,\"#d8576b\"],[0.6666666666666666,\"#ed7953\"],[0.7777777777777778,\"#fb9f3a\"],[0.8888888888888888,\"#fdca26\"],[1.0,\"#f0f921\"]]}],\"heatmapgl\":[{\"type\":\"heatmapgl\",\"colorbar\":{\"outlinewidth\":0,\"ticks\":\"\"},\"colorscale\":[[0.0,\"#0d0887\"],[0.1111111111111111,\"#46039f\"],[0.2222222222222222,\"#7201a8\"],[0.3333333333333333,\"#9c179e\"],[0.4444444444444444,\"#bd3786\"],[0.5555555555555556,\"#d8576b\"],[0.6666666666666666,\"#ed7953\"],[0.7777777777777778,\"#fb9f3a\"],[0.8888888888888888,\"#fdca26\"],[1.0,\"#f0f921\"]]}],\"contourcarpet\":[{\"type\":\"contourcarpet\",\"colorbar\":{\"outlinewidth\":0,\"ticks\":\"\"}}],\"contour\":[{\"type\":\"contour\",\"colorbar\":{\"outlinewidth\":0,\"ticks\":\"\"},\"colorscale\":[[0.0,\"#0d0887\"],[0.1111111111111111,\"#46039f\"],[0.2222222222222222,\"#7201a8\"],[0.3333333333333333,\"#9c179e\"],[0.4444444444444444,\"#bd3786\"],[0.5555555555555556,\"#d8576b\"],[0.6666666666666666,\"#ed7953\"],[0.7777777777777778,\"#fb9f3a\"],[0.8888888888888888,\"#fdca26\"],[1.0,\"#f0f921\"]]}],\"surface\":[{\"type\":\"surface\",\"colorbar\":{\"outlinewidth\":0,\"ticks\":\"\"},\"colorscale\":[[0.0,\"#0d0887\"],[0.1111111111111111,\"#46039f\"],[0.2222222222222222,\"#7201a8\"],[0.3333333333333333,\"#9c179e\"],[0.4444444444444444,\"#bd3786\"],[0.5555555555555556,\"#d8576b\"],[0.6666666666666666,\"#ed7953\"],[0.7777777777777778,\"#fb9f3a\"],[0.8888888888888888,\"#fdca26\"],[1.0,\"#f0f921\"]]}],\"mesh3d\":[{\"type\":\"mesh3d\",\"colorbar\":{\"outlinewidth\":0,\"ticks\":\"\"}}],\"scatter\":[{\"fillpattern\":{\"fillmode\":\"overlay\",\"size\":10,\"solidity\":0.2},\"type\":\"scatter\"}],\"parcoords\":[{\"type\":\"parcoords\",\"line\":{\"colorbar\":{\"outlinewidth\":0,\"ticks\":\"\"}}}],\"scatterpolargl\":[{\"type\":\"scatterpolargl\",\"marker\":{\"colorbar\":{\"outlinewidth\":0,\"ticks\":\"\"}}}],\"bar\":[{\"error_x\":{\"color\":\"#2a3f5f\"},\"error_y\":{\"color\":\"#2a3f5f\"},\"marker\":{\"line\":{\"color\":\"#E5ECF6\",\"width\":0.5},\"pattern\":{\"fillmode\":\"overlay\",\"size\":10,\"solidity\":0.2}},\"type\":\"bar\"}],\"scattergeo\":[{\"type\":\"scattergeo\",\"marker\":{\"colorbar\":{\"outlinewidth\":0,\"ticks\":\"\"}}}],\"scatterpolar\":[{\"type\":\"scatterpolar\",\"marker\":{\"colorbar\":{\"outlinewidth\":0,\"ticks\":\"\"}}}],\"histogram\":[{\"marker\":{\"pattern\":{\"fillmode\":\"overlay\",\"size\":10,\"solidity\":0.2}},\"type\":\"histogram\"}],\"scattergl\":[{\"type\":\"scattergl\",\"marker\":{\"colorbar\":{\"outlinewidth\":0,\"ticks\":\"\"}}}],\"scatter3d\":[{\"type\":\"scatter3d\",\"line\":{\"colorbar\":{\"outlinewidth\":0,\"ticks\":\"\"}},\"marker\":{\"colorbar\":{\"outlinewidth\":0,\"ticks\":\"\"}}}],\"scattermapbox\":[{\"type\":\"scattermapbox\",\"marker\":{\"colorbar\":{\"outlinewidth\":0,\"ticks\":\"\"}}}],\"scatterternary\":[{\"type\":\"scatterternary\",\"marker\":{\"colorbar\":{\"outlinewidth\":0,\"ticks\":\"\"}}}],\"scattercarpet\":[{\"type\":\"scattercarpet\",\"marker\":{\"colorbar\":{\"outlinewidth\":0,\"ticks\":\"\"}}}],\"carpet\":[{\"aaxis\":{\"endlinecolor\":\"#2a3f5f\",\"gridcolor\":\"white\",\"linecolor\":\"white\",\"minorgridcolor\":\"white\",\"startlinecolor\":\"#2a3f5f\"},\"baxis\":{\"endlinecolor\":\"#2a3f5f\",\"gridcolor\":\"white\",\"linecolor\":\"white\",\"minorgridcolor\":\"white\",\"startlinecolor\":\"#2a3f5f\"},\"type\":\"carpet\"}],\"table\":[{\"cells\":{\"fill\":{\"color\":\"#EBF0F8\"},\"line\":{\"color\":\"white\"}},\"header\":{\"fill\":{\"color\":\"#C8D4E3\"},\"line\":{\"color\":\"white\"}},\"type\":\"table\"}],\"barpolar\":[{\"marker\":{\"line\":{\"color\":\"#E5ECF6\",\"width\":0.5},\"pattern\":{\"fillmode\":\"overlay\",\"size\":10,\"solidity\":0.2}},\"type\":\"barpolar\"}],\"pie\":[{\"automargin\":true,\"type\":\"pie\"}]},\"layout\":{\"autotypenumbers\":\"strict\",\"colorway\":[\"#636efa\",\"#EF553B\",\"#00cc96\",\"#ab63fa\",\"#FFA15A\",\"#19d3f3\",\"#FF6692\",\"#B6E880\",\"#FF97FF\",\"#FECB52\"],\"font\":{\"color\":\"#2a3f5f\"},\"hovermode\":\"closest\",\"hoverlabel\":{\"align\":\"left\"},\"paper_bgcolor\":\"white\",\"plot_bgcolor\":\"#E5ECF6\",\"polar\":{\"bgcolor\":\"#E5ECF6\",\"angularaxis\":{\"gridcolor\":\"white\",\"linecolor\":\"white\",\"ticks\":\"\"},\"radialaxis\":{\"gridcolor\":\"white\",\"linecolor\":\"white\",\"ticks\":\"\"}},\"ternary\":{\"bgcolor\":\"#E5ECF6\",\"aaxis\":{\"gridcolor\":\"white\",\"linecolor\":\"white\",\"ticks\":\"\"},\"baxis\":{\"gridcolor\":\"white\",\"linecolor\":\"white\",\"ticks\":\"\"},\"caxis\":{\"gridcolor\":\"white\",\"linecolor\":\"white\",\"ticks\":\"\"}},\"coloraxis\":{\"colorbar\":{\"outlinewidth\":0,\"ticks\":\"\"}},\"colorscale\":{\"sequential\":[[0.0,\"#0d0887\"],[0.1111111111111111,\"#46039f\"],[0.2222222222222222,\"#7201a8\"],[0.3333333333333333,\"#9c179e\"],[0.4444444444444444,\"#bd3786\"],[0.5555555555555556,\"#d8576b\"],[0.6666666666666666,\"#ed7953\"],[0.7777777777777778,\"#fb9f3a\"],[0.8888888888888888,\"#fdca26\"],[1.0,\"#f0f921\"]],\"sequentialminus\":[[0.0,\"#0d0887\"],[0.1111111111111111,\"#46039f\"],[0.2222222222222222,\"#7201a8\"],[0.3333333333333333,\"#9c179e\"],[0.4444444444444444,\"#bd3786\"],[0.5555555555555556,\"#d8576b\"],[0.6666666666666666,\"#ed7953\"],[0.7777777777777778,\"#fb9f3a\"],[0.8888888888888888,\"#fdca26\"],[1.0,\"#f0f921\"]],\"diverging\":[[0,\"#8e0152\"],[0.1,\"#c51b7d\"],[0.2,\"#de77ae\"],[0.3,\"#f1b6da\"],[0.4,\"#fde0ef\"],[0.5,\"#f7f7f7\"],[0.6,\"#e6f5d0\"],[0.7,\"#b8e186\"],[0.8,\"#7fbc41\"],[0.9,\"#4d9221\"],[1,\"#276419\"]]},\"xaxis\":{\"gridcolor\":\"white\",\"linecolor\":\"white\",\"ticks\":\"\",\"title\":{\"standoff\":15},\"zerolinecolor\":\"white\",\"automargin\":true,\"zerolinewidth\":2},\"yaxis\":{\"gridcolor\":\"white\",\"linecolor\":\"white\",\"ticks\":\"\",\"title\":{\"standoff\":15},\"zerolinecolor\":\"white\",\"automargin\":true,\"zerolinewidth\":2},\"scene\":{\"xaxis\":{\"backgroundcolor\":\"#E5ECF6\",\"gridcolor\":\"white\",\"linecolor\":\"white\",\"showbackground\":true,\"ticks\":\"\",\"zerolinecolor\":\"white\",\"gridwidth\":2},\"yaxis\":{\"backgroundcolor\":\"#E5ECF6\",\"gridcolor\":\"white\",\"linecolor\":\"white\",\"showbackground\":true,\"ticks\":\"\",\"zerolinecolor\":\"white\",\"gridwidth\":2},\"zaxis\":{\"backgroundcolor\":\"#E5ECF6\",\"gridcolor\":\"white\",\"linecolor\":\"white\",\"showbackground\":true,\"ticks\":\"\",\"zerolinecolor\":\"white\",\"gridwidth\":2}},\"shapedefaults\":{\"line\":{\"color\":\"#2a3f5f\"}},\"annotationdefaults\":{\"arrowcolor\":\"#2a3f5f\",\"arrowhead\":0,\"arrowwidth\":1},\"geo\":{\"bgcolor\":\"white\",\"landcolor\":\"#E5ECF6\",\"subunitcolor\":\"white\",\"showland\":true,\"showlakes\":true,\"lakecolor\":\"white\"},\"title\":{\"x\":0.05},\"mapbox\":{\"style\":\"light\"}}},\"xaxis\":{\"anchor\":\"y\",\"domain\":[0.0,0.45]},\"yaxis\":{\"anchor\":\"x\",\"domain\":[0.575,1.0],\"title\":{\"text\":\"fuente\"}},\"xaxis2\":{\"anchor\":\"y2\",\"domain\":[0.55,1.0]},\"yaxis2\":{\"anchor\":\"x2\",\"domain\":[0.575,1.0],\"title\":{\"text\":\"fuente original\"}},\"xaxis3\":{\"anchor\":\"y3\",\"domain\":[0.0,0.45]},\"yaxis3\":{\"anchor\":\"x3\",\"domain\":[0.0,0.425],\"title\":{\"text\":\"fuente ultima\"}},\"xaxis4\":{\"anchor\":\"y4\",\"domain\":[0.55,1.0]},\"yaxis4\":{\"anchor\":\"x4\",\"domain\":[0.0,0.425]},\"title\":{\"text\":\"Distribution of the 6 most common categories for each Source variable\"},\"height\":600,\"showlegend\":false,\"bargap\":0.15,\"bargroupgap\":0.1},                        {\"responsive\": true}                    ).then(function(){\n",
       "                            \n",
       "var gd = document.getElementById('ee2919d8-518a-4863-96cc-cda206e4328d');\n",
       "var x = new MutationObserver(function (mutations, observer) {{\n",
       "        var display = window.getComputedStyle(gd).display;\n",
       "        if (!display || display === 'none') {{\n",
       "            console.log([gd, 'removed!']);\n",
       "            Plotly.purge(gd);\n",
       "            observer.disconnect();\n",
       "        }}\n",
       "}});\n",
       "\n",
       "// Listen for the removal of the full notebook cells\n",
       "var notebookContainer = gd.closest('#notebook-container');\n",
       "if (notebookContainer) {{\n",
       "    x.observe(notebookContainer, {childList: true});\n",
       "}}\n",
       "\n",
       "// Listen for the clearing of the current output cell\n",
       "var outputEl = gd.closest('.output');\n",
       "if (outputEl) {{\n",
       "    x.observe(outputEl, {childList: true});\n",
       "}}\n",
       "\n",
       "                        })                };                });            </script>        </div>"
      ]
     },
     "metadata": {},
     "output_type": "display_data"
    }
   ],
   "source": [
    "import plotly.graph_objects as go\n",
    "from plotly.subplots import make_subplots\n",
    "import math\n",
    "# Columnas categóricas\n",
    "fue_columns = ['fuente', 'fuente original', 'fuente ultima']\n",
    "# Filas y columnas para subplot\n",
    "n_cols = 2\n",
    "n_rows = math.ceil(len(fue_columns) / n_cols)\n",
    "# Crear subplot para cada variable categórica\n",
    "fig = make_subplots(rows=n_rows, cols=n_cols)\n",
    "for i, col in enumerate(fue_columns):\n",
    "    curr_row = i // n_cols + 1\n",
    "    curr_col = i % n_cols + 1\n",
    "    top_values = df[col].value_counts().head(6)\n",
    "    fig.add_trace(go.Bar(\n",
    "        x=top_values.index,\n",
    "        y=top_values.values,\n",
    "        name=col,\n",
    "        text=top_values.values,\n",
    "        textposition='auto',\n",
    "        marker_color=colors[i % len(colors)]\n",
    "    ), row=curr_row, col=curr_col)  \n",
    "    fig.update_yaxes(title_text=col, row=curr_row, col=curr_col) #Asigno nombre de columna a titulo de etiqueta y\n",
    "fig.update_layout(\n",
    "    title_text='Distribution of the 6 most common categories for each Source variable',\n",
    "    height=300 * n_rows,  \n",
    "    showlegend=False,\n",
    "    bargap=0.15, \n",
    "    bargroupgap=0.1\n",
    ")\n",
    "fig.show()"
   ]
  },
  {
   "cell_type": "markdown",
   "id": "f185ae15",
   "metadata": {
    "papermill": {
     "duration": 0.028152,
     "end_time": "2023-06-02T23:56:58.748033",
     "exception": false,
     "start_time": "2023-06-02T23:56:58.719881",
     "status": "completed"
    },
    "tags": []
   },
   "source": [
    "<div style=\"border-radius:13px; border:#FFB800 solid; padding: 15px; background-color: #FAFFFF; font-size:108%; text-align:left\">\n",
    "    \n",
    "* Selecting  **\"Fuente\"** as a priority to resolve disconnected sources, as \"--\" found replacements in the predictor variables  **\"fuente original\"** and **\"fuente ultima\"**"
   ]
  },
  {
   "cell_type": "code",
   "execution_count": 14,
   "id": "4e64b2f6",
   "metadata": {
    "_kg_hide-input": true,
    "execution": {
     "iopub.execute_input": "2023-06-02T23:56:58.807021Z",
     "iopub.status.busy": "2023-06-02T23:56:58.806545Z",
     "iopub.status.idle": "2023-06-02T23:56:58.844713Z",
     "shell.execute_reply": "2023-06-02T23:56:58.843213Z"
    },
    "jupyter": {
     "source_hidden": true
    },
    "papermill": {
     "duration": 0.070659,
     "end_time": "2023-06-02T23:56:58.847243",
     "exception": false,
     "start_time": "2023-06-02T23:56:58.776584",
     "status": "completed"
    },
    "tags": []
   },
   "outputs": [
    {
     "name": "stdout",
     "output_type": "stream",
     "text": [
      "0       fuentes sin conexión\n",
      "2           búsqueda de pago\n",
      "5          búsqueda orgánica\n",
      "8     redes sociales de pago\n",
      "11      fuentes sin conexión\n",
      "Name: source, dtype: object\n"
     ]
    }
   ],
   "source": [
    "def seleccionar_valor(row, columnas):\n",
    "    for col in columnas:\n",
    "        valor = row[col]\n",
    "        if not pd.isna(valor) and str(valor) != 'nan' and str(valor) != '--':\n",
    "            return valor\n",
    "\n",
    "columnas = ['fuente original', 'fuente ultima', 'fuente']\n",
    "df['source'] = df.apply(lambda row: seleccionar_valor(row, columnas), axis=1)\n",
    "\n",
    "# Verificar el resultado\n",
    "print(df['source'].head())"
   ]
  },
  {
   "cell_type": "code",
   "execution_count": 15,
   "id": "35459b2a",
   "metadata": {
    "_kg_hide-input": true,
    "execution": {
     "iopub.execute_input": "2023-06-02T23:56:58.906492Z",
     "iopub.status.busy": "2023-06-02T23:56:58.906069Z",
     "iopub.status.idle": "2023-06-02T23:56:58.980469Z",
     "shell.execute_reply": "2023-06-02T23:56:58.979333Z"
    },
    "jupyter": {
     "source_hidden": true
    },
    "papermill": {
     "duration": 0.106866,
     "end_time": "2023-06-02T23:56:58.982946",
     "exception": false,
     "start_time": "2023-06-02T23:56:58.876080",
     "status": "completed"
    },
    "tags": []
   },
   "outputs": [
    {
     "data": {
      "text/html": [
       "<div>                            <div id=\"c00943e6-919e-4037-9a2b-ec0e6a599751\" class=\"plotly-graph-div\" style=\"height:525px; width:100%;\"></div>            <script type=\"text/javascript\">                require([\"plotly\"], function(Plotly) {                    window.PLOTLYENV=window.PLOTLYENV || {};                                    if (document.getElementById(\"c00943e6-919e-4037-9a2b-ec0e6a599751\")) {                    Plotly.newPlot(                        \"c00943e6-919e-4037-9a2b-ec0e6a599751\",                        [{\"alignmentgroup\":\"True\",\"hovertemplate\":\"source=%{x}<br>Frequency=%{y}<extra></extra>\",\"legendgroup\":\"\",\"marker\":{\"color\":\"#064572\",\"pattern\":{\"shape\":\"\"}},\"name\":\"\",\"offsetgroup\":\"\",\"orientation\":\"v\",\"showlegend\":false,\"textposition\":\"auto\",\"x\":[\"redes sociales de pago\",\"fuentes sin conexión\",\"búsqueda de pago\",\"búsqueda orgánica\",\"tráfico directo\",\"referencias\",\"tráfico orgánico de redes sociales\",\"email marketing\"],\"xaxis\":\"x\",\"y\":[813,405,297,113,89,46,33,1],\"yaxis\":\"y\",\"type\":\"bar\"}],                        {\"template\":{\"data\":{\"histogram2dcontour\":[{\"type\":\"histogram2dcontour\",\"colorbar\":{\"outlinewidth\":0,\"ticks\":\"\"},\"colorscale\":[[0.0,\"#0d0887\"],[0.1111111111111111,\"#46039f\"],[0.2222222222222222,\"#7201a8\"],[0.3333333333333333,\"#9c179e\"],[0.4444444444444444,\"#bd3786\"],[0.5555555555555556,\"#d8576b\"],[0.6666666666666666,\"#ed7953\"],[0.7777777777777778,\"#fb9f3a\"],[0.8888888888888888,\"#fdca26\"],[1.0,\"#f0f921\"]]}],\"choropleth\":[{\"type\":\"choropleth\",\"colorbar\":{\"outlinewidth\":0,\"ticks\":\"\"}}],\"histogram2d\":[{\"type\":\"histogram2d\",\"colorbar\":{\"outlinewidth\":0,\"ticks\":\"\"},\"colorscale\":[[0.0,\"#0d0887\"],[0.1111111111111111,\"#46039f\"],[0.2222222222222222,\"#7201a8\"],[0.3333333333333333,\"#9c179e\"],[0.4444444444444444,\"#bd3786\"],[0.5555555555555556,\"#d8576b\"],[0.6666666666666666,\"#ed7953\"],[0.7777777777777778,\"#fb9f3a\"],[0.8888888888888888,\"#fdca26\"],[1.0,\"#f0f921\"]]}],\"heatmap\":[{\"type\":\"heatmap\",\"colorbar\":{\"outlinewidth\":0,\"ticks\":\"\"},\"colorscale\":[[0.0,\"#0d0887\"],[0.1111111111111111,\"#46039f\"],[0.2222222222222222,\"#7201a8\"],[0.3333333333333333,\"#9c179e\"],[0.4444444444444444,\"#bd3786\"],[0.5555555555555556,\"#d8576b\"],[0.6666666666666666,\"#ed7953\"],[0.7777777777777778,\"#fb9f3a\"],[0.8888888888888888,\"#fdca26\"],[1.0,\"#f0f921\"]]}],\"heatmapgl\":[{\"type\":\"heatmapgl\",\"colorbar\":{\"outlinewidth\":0,\"ticks\":\"\"},\"colorscale\":[[0.0,\"#0d0887\"],[0.1111111111111111,\"#46039f\"],[0.2222222222222222,\"#7201a8\"],[0.3333333333333333,\"#9c179e\"],[0.4444444444444444,\"#bd3786\"],[0.5555555555555556,\"#d8576b\"],[0.6666666666666666,\"#ed7953\"],[0.7777777777777778,\"#fb9f3a\"],[0.8888888888888888,\"#fdca26\"],[1.0,\"#f0f921\"]]}],\"contourcarpet\":[{\"type\":\"contourcarpet\",\"colorbar\":{\"outlinewidth\":0,\"ticks\":\"\"}}],\"contour\":[{\"type\":\"contour\",\"colorbar\":{\"outlinewidth\":0,\"ticks\":\"\"},\"colorscale\":[[0.0,\"#0d0887\"],[0.1111111111111111,\"#46039f\"],[0.2222222222222222,\"#7201a8\"],[0.3333333333333333,\"#9c179e\"],[0.4444444444444444,\"#bd3786\"],[0.5555555555555556,\"#d8576b\"],[0.6666666666666666,\"#ed7953\"],[0.7777777777777778,\"#fb9f3a\"],[0.8888888888888888,\"#fdca26\"],[1.0,\"#f0f921\"]]}],\"surface\":[{\"type\":\"surface\",\"colorbar\":{\"outlinewidth\":0,\"ticks\":\"\"},\"colorscale\":[[0.0,\"#0d0887\"],[0.1111111111111111,\"#46039f\"],[0.2222222222222222,\"#7201a8\"],[0.3333333333333333,\"#9c179e\"],[0.4444444444444444,\"#bd3786\"],[0.5555555555555556,\"#d8576b\"],[0.6666666666666666,\"#ed7953\"],[0.7777777777777778,\"#fb9f3a\"],[0.8888888888888888,\"#fdca26\"],[1.0,\"#f0f921\"]]}],\"mesh3d\":[{\"type\":\"mesh3d\",\"colorbar\":{\"outlinewidth\":0,\"ticks\":\"\"}}],\"scatter\":[{\"fillpattern\":{\"fillmode\":\"overlay\",\"size\":10,\"solidity\":0.2},\"type\":\"scatter\"}],\"parcoords\":[{\"type\":\"parcoords\",\"line\":{\"colorbar\":{\"outlinewidth\":0,\"ticks\":\"\"}}}],\"scatterpolargl\":[{\"type\":\"scatterpolargl\",\"marker\":{\"colorbar\":{\"outlinewidth\":0,\"ticks\":\"\"}}}],\"bar\":[{\"error_x\":{\"color\":\"#2a3f5f\"},\"error_y\":{\"color\":\"#2a3f5f\"},\"marker\":{\"line\":{\"color\":\"#E5ECF6\",\"width\":0.5},\"pattern\":{\"fillmode\":\"overlay\",\"size\":10,\"solidity\":0.2}},\"type\":\"bar\"}],\"scattergeo\":[{\"type\":\"scattergeo\",\"marker\":{\"colorbar\":{\"outlinewidth\":0,\"ticks\":\"\"}}}],\"scatterpolar\":[{\"type\":\"scatterpolar\",\"marker\":{\"colorbar\":{\"outlinewidth\":0,\"ticks\":\"\"}}}],\"histogram\":[{\"marker\":{\"pattern\":{\"fillmode\":\"overlay\",\"size\":10,\"solidity\":0.2}},\"type\":\"histogram\"}],\"scattergl\":[{\"type\":\"scattergl\",\"marker\":{\"colorbar\":{\"outlinewidth\":0,\"ticks\":\"\"}}}],\"scatter3d\":[{\"type\":\"scatter3d\",\"line\":{\"colorbar\":{\"outlinewidth\":0,\"ticks\":\"\"}},\"marker\":{\"colorbar\":{\"outlinewidth\":0,\"ticks\":\"\"}}}],\"scattermapbox\":[{\"type\":\"scattermapbox\",\"marker\":{\"colorbar\":{\"outlinewidth\":0,\"ticks\":\"\"}}}],\"scatterternary\":[{\"type\":\"scatterternary\",\"marker\":{\"colorbar\":{\"outlinewidth\":0,\"ticks\":\"\"}}}],\"scattercarpet\":[{\"type\":\"scattercarpet\",\"marker\":{\"colorbar\":{\"outlinewidth\":0,\"ticks\":\"\"}}}],\"carpet\":[{\"aaxis\":{\"endlinecolor\":\"#2a3f5f\",\"gridcolor\":\"white\",\"linecolor\":\"white\",\"minorgridcolor\":\"white\",\"startlinecolor\":\"#2a3f5f\"},\"baxis\":{\"endlinecolor\":\"#2a3f5f\",\"gridcolor\":\"white\",\"linecolor\":\"white\",\"minorgridcolor\":\"white\",\"startlinecolor\":\"#2a3f5f\"},\"type\":\"carpet\"}],\"table\":[{\"cells\":{\"fill\":{\"color\":\"#EBF0F8\"},\"line\":{\"color\":\"white\"}},\"header\":{\"fill\":{\"color\":\"#C8D4E3\"},\"line\":{\"color\":\"white\"}},\"type\":\"table\"}],\"barpolar\":[{\"marker\":{\"line\":{\"color\":\"#E5ECF6\",\"width\":0.5},\"pattern\":{\"fillmode\":\"overlay\",\"size\":10,\"solidity\":0.2}},\"type\":\"barpolar\"}],\"pie\":[{\"automargin\":true,\"type\":\"pie\"}]},\"layout\":{\"autotypenumbers\":\"strict\",\"colorway\":[\"#636efa\",\"#EF553B\",\"#00cc96\",\"#ab63fa\",\"#FFA15A\",\"#19d3f3\",\"#FF6692\",\"#B6E880\",\"#FF97FF\",\"#FECB52\"],\"font\":{\"color\":\"#2a3f5f\"},\"hovermode\":\"closest\",\"hoverlabel\":{\"align\":\"left\"},\"paper_bgcolor\":\"white\",\"plot_bgcolor\":\"#E5ECF6\",\"polar\":{\"bgcolor\":\"#E5ECF6\",\"angularaxis\":{\"gridcolor\":\"white\",\"linecolor\":\"white\",\"ticks\":\"\"},\"radialaxis\":{\"gridcolor\":\"white\",\"linecolor\":\"white\",\"ticks\":\"\"}},\"ternary\":{\"bgcolor\":\"#E5ECF6\",\"aaxis\":{\"gridcolor\":\"white\",\"linecolor\":\"white\",\"ticks\":\"\"},\"baxis\":{\"gridcolor\":\"white\",\"linecolor\":\"white\",\"ticks\":\"\"},\"caxis\":{\"gridcolor\":\"white\",\"linecolor\":\"white\",\"ticks\":\"\"}},\"coloraxis\":{\"colorbar\":{\"outlinewidth\":0,\"ticks\":\"\"}},\"colorscale\":{\"sequential\":[[0.0,\"#0d0887\"],[0.1111111111111111,\"#46039f\"],[0.2222222222222222,\"#7201a8\"],[0.3333333333333333,\"#9c179e\"],[0.4444444444444444,\"#bd3786\"],[0.5555555555555556,\"#d8576b\"],[0.6666666666666666,\"#ed7953\"],[0.7777777777777778,\"#fb9f3a\"],[0.8888888888888888,\"#fdca26\"],[1.0,\"#f0f921\"]],\"sequentialminus\":[[0.0,\"#0d0887\"],[0.1111111111111111,\"#46039f\"],[0.2222222222222222,\"#7201a8\"],[0.3333333333333333,\"#9c179e\"],[0.4444444444444444,\"#bd3786\"],[0.5555555555555556,\"#d8576b\"],[0.6666666666666666,\"#ed7953\"],[0.7777777777777778,\"#fb9f3a\"],[0.8888888888888888,\"#fdca26\"],[1.0,\"#f0f921\"]],\"diverging\":[[0,\"#8e0152\"],[0.1,\"#c51b7d\"],[0.2,\"#de77ae\"],[0.3,\"#f1b6da\"],[0.4,\"#fde0ef\"],[0.5,\"#f7f7f7\"],[0.6,\"#e6f5d0\"],[0.7,\"#b8e186\"],[0.8,\"#7fbc41\"],[0.9,\"#4d9221\"],[1,\"#276419\"]]},\"xaxis\":{\"gridcolor\":\"white\",\"linecolor\":\"white\",\"ticks\":\"\",\"title\":{\"standoff\":15},\"zerolinecolor\":\"white\",\"automargin\":true,\"zerolinewidth\":2},\"yaxis\":{\"gridcolor\":\"white\",\"linecolor\":\"white\",\"ticks\":\"\",\"title\":{\"standoff\":15},\"zerolinecolor\":\"white\",\"automargin\":true,\"zerolinewidth\":2},\"scene\":{\"xaxis\":{\"backgroundcolor\":\"#E5ECF6\",\"gridcolor\":\"white\",\"linecolor\":\"white\",\"showbackground\":true,\"ticks\":\"\",\"zerolinecolor\":\"white\",\"gridwidth\":2},\"yaxis\":{\"backgroundcolor\":\"#E5ECF6\",\"gridcolor\":\"white\",\"linecolor\":\"white\",\"showbackground\":true,\"ticks\":\"\",\"zerolinecolor\":\"white\",\"gridwidth\":2},\"zaxis\":{\"backgroundcolor\":\"#E5ECF6\",\"gridcolor\":\"white\",\"linecolor\":\"white\",\"showbackground\":true,\"ticks\":\"\",\"zerolinecolor\":\"white\",\"gridwidth\":2}},\"shapedefaults\":{\"line\":{\"color\":\"#2a3f5f\"}},\"annotationdefaults\":{\"arrowcolor\":\"#2a3f5f\",\"arrowhead\":0,\"arrowwidth\":1},\"geo\":{\"bgcolor\":\"white\",\"landcolor\":\"#E5ECF6\",\"subunitcolor\":\"white\",\"showland\":true,\"showlakes\":true,\"lakecolor\":\"white\"},\"title\":{\"x\":0.05},\"mapbox\":{\"style\":\"light\"}}},\"xaxis\":{\"anchor\":\"y\",\"domain\":[0.0,1.0],\"title\":{\"text\":\"source\"}},\"yaxis\":{\"anchor\":\"x\",\"domain\":[0.0,1.0],\"title\":{\"text\":\"Frequency\"}},\"legend\":{\"tracegroupgap\":0},\"title\":{\"text\":\"Result in source\"},\"barmode\":\"relative\"},                        {\"responsive\": true}                    ).then(function(){\n",
       "                            \n",
       "var gd = document.getElementById('c00943e6-919e-4037-9a2b-ec0e6a599751');\n",
       "var x = new MutationObserver(function (mutations, observer) {{\n",
       "        var display = window.getComputedStyle(gd).display;\n",
       "        if (!display || display === 'none') {{\n",
       "            console.log([gd, 'removed!']);\n",
       "            Plotly.purge(gd);\n",
       "            observer.disconnect();\n",
       "        }}\n",
       "}});\n",
       "\n",
       "// Listen for the removal of the full notebook cells\n",
       "var notebookContainer = gd.closest('#notebook-container');\n",
       "if (notebookContainer) {{\n",
       "    x.observe(notebookContainer, {childList: true});\n",
       "}}\n",
       "\n",
       "// Listen for the clearing of the current output cell\n",
       "var outputEl = gd.closest('.output');\n",
       "if (outputEl) {{\n",
       "    x.observe(outputEl, {childList: true});\n",
       "}}\n",
       "\n",
       "                        })                };                });            </script>        </div>"
      ]
     },
     "metadata": {},
     "output_type": "display_data"
    }
   ],
   "source": [
    "top_10fuentes = df['source'].value_counts().head(10)\n",
    "import plotly.graph_objects as go\n",
    "import plotly.express as px\n",
    "fig_bar = px.bar(x=top_10fuentes.index, y=top_10fuentes, labels={'x': 'source', 'y': 'Frequency'}, title='Result in source', color_discrete_sequence=colors)\n",
    "fig_bar.show()"
   ]
  },
  {
   "cell_type": "code",
   "execution_count": 16,
   "id": "76ce1933",
   "metadata": {
    "_kg_hide-input": false,
    "execution": {
     "iopub.execute_input": "2023-06-02T23:56:59.043877Z",
     "iopub.status.busy": "2023-06-02T23:56:59.042759Z",
     "iopub.status.idle": "2023-06-02T23:56:59.049732Z",
     "shell.execute_reply": "2023-06-02T23:56:59.048946Z"
    },
    "jupyter": {
     "source_hidden": true
    },
    "papermill": {
     "duration": 0.040021,
     "end_time": "2023-06-02T23:56:59.052181",
     "exception": false,
     "start_time": "2023-06-02T23:56:59.012160",
     "status": "completed"
    },
    "tags": []
   },
   "outputs": [],
   "source": [
    "# Elimino las columnas excedentes relacionadas a la fuente \n",
    "df = df.drop(['fuente original', 'fuente ultima', 'fuente'], axis=1)\n"
   ]
  },
  {
   "cell_type": "markdown",
   "id": "b2a4d1b9",
   "metadata": {
    "papermill": {
     "duration": 0.028312,
     "end_time": "2023-06-02T23:56:59.109327",
     "exception": false,
     "start_time": "2023-06-02T23:56:59.081015",
     "status": "completed"
    },
    "tags": []
   },
   "source": [
    "<p style=\"font-family:JetBrains Mono; font-weight:bold; letter-spacing: 2px; color:#05041B; font-size:140%; text-align:left;padding: 0px; border-bottom: 3px solid #FFB800\"></p>"
   ]
  },
  {
   "cell_type": "markdown",
   "id": "4086da96",
   "metadata": {
    "papermill": {
     "duration": 0.028927,
     "end_time": "2023-06-02T23:56:59.166959",
     "exception": false,
     "start_time": "2023-06-02T23:56:59.138032",
     "status": "completed"
    },
    "tags": []
   },
   "source": [
    "<div style=\"border-radius:13px; border:#FFB800 solid; padding: 15px; background-color: #FAFFFF; font-size:108%; text-align:left\">\n",
    "    \n",
    "<h3 align=\"left\"><font color='#05041B'>\n",
    "</font>💵Inversion (Ticket) </h3>  \n",
    "    \n",
    "* 🖇️Predictor Variable\n",
    "* I decided to keep the \"Investment\" column despite containing empty values, as I can fill them using the \"Franchise\" column as a reference.\n",
    "\n"
   ]
  },
  {
   "cell_type": "code",
   "execution_count": 17,
   "id": "23084a81",
   "metadata": {
    "_kg_hide-input": true,
    "execution": {
     "iopub.execute_input": "2023-06-02T23:56:59.227085Z",
     "iopub.status.busy": "2023-06-02T23:56:59.226300Z",
     "iopub.status.idle": "2023-06-02T23:56:59.232643Z",
     "shell.execute_reply": "2023-06-02T23:56:59.231800Z"
    },
    "jupyter": {
     "source_hidden": true
    },
    "papermill": {
     "duration": 0.039297,
     "end_time": "2023-06-02T23:56:59.235079",
     "exception": false,
     "start_time": "2023-06-02T23:56:59.195782",
     "status": "completed"
    },
    "tags": []
   },
   "outputs": [],
   "source": [
    "usd25mil = ['befruit', 'dulce hora', 'don antonio', 'central de pizzas y empanadas', 'big pizza']\n",
    "usd60mil = ['pirka', 'guapaletas', 'don us company', 'quecrecen ar','le panem','vitalcer ', 'neo zoo', 'sanduba', 'el mundo del mueble', 'depi4ever', 'by papa', 'ferreterías h30', 'alma rural', 'all in express']\n",
    "usd125mil = ['tienda de cafe', 'cafe martinez', 'cremolatti']\n",
    "usd250mil = ['tostado', 'la birra bar', 'atalaya']\n"
   ]
  },
  {
   "cell_type": "markdown",
   "id": "8bfa379c",
   "metadata": {
    "papermill": {
     "duration": 0.02894,
     "end_time": "2023-06-02T23:56:59.292724",
     "exception": false,
     "start_time": "2023-06-02T23:56:59.263784",
     "status": "completed"
    },
    "tags": []
   },
   "source": [
    "<div style=\"border-radius:13px; border:#FFB800 solid; padding: 15px; background-color: #FAFFFF; font-size:105%; text-align:left\">\n",
    "    \n",
    "* Certainly, we keep the \"Investment Amount\" column as categorical. The current numeric values correspond to different levels of interaction, which allows us to observe a certain order in the classification by scale."
   ]
  },
  {
   "cell_type": "code",
   "execution_count": 18,
   "id": "757bd9d6",
   "metadata": {
    "_kg_hide-input": true,
    "execution": {
     "iopub.execute_input": "2023-06-02T23:56:59.352807Z",
     "iopub.status.busy": "2023-06-02T23:56:59.352038Z",
     "iopub.status.idle": "2023-06-02T23:56:59.368888Z",
     "shell.execute_reply": "2023-06-02T23:56:59.367294Z"
    },
    "jupyter": {
     "source_hidden": true
    },
    "papermill": {
     "duration": 0.049707,
     "end_time": "2023-06-02T23:56:59.371380",
     "exception": false,
     "start_time": "2023-06-02T23:56:59.321673",
     "status": "completed"
    },
    "tags": []
   },
   "outputs": [
    {
     "name": "stdout",
     "output_type": "stream",
     "text": [
      "                v_target  formularios enviados  visitas a la pagina  \\\n",
      "0   capital insuficiente                   0.0                  0.0   \n",
      "2       no va a invertir                   1.0                  1.0   \n",
      "5   capital insuficiente                   1.0                  1.0   \n",
      "8           mala calidad                   1.0                  1.0   \n",
      "11      no va a invertir                   0.0                  0.0   \n",
      "\n",
      "    interacciones varias  aperturas de correo      franquicia inversion  \\\n",
      "0                    0.0                  0.0      guapaletas       med   \n",
      "2                    1.0                  1.0    la birra bar  veryhigh   \n",
      "5                    0.0                  0.0  don us company       med   \n",
      "8                    0.0                  0.0      guapaletas       med   \n",
      "11                   6.0                  2.0      alma rural       med   \n",
      "\n",
      "                       zone                  source  \n",
      "0              buenos aires    fuentes sin conexión  \n",
      "2              buenos aires        búsqueda de pago  \n",
      "5   zonas menos recurrentes       búsqueda orgánica  \n",
      "8   zonas menos recurrentes  redes sociales de pago  \n",
      "11  zonas menos recurrentes    fuentes sin conexión  \n"
     ]
    }
   ],
   "source": [
    "\n",
    "def asignar_inversion(franquicia):\n",
    "    for f in franquicia.split(\",\"): \n",
    "        f = f.strip() \n",
    "        if f in usd25mil:\n",
    "            return 'low'\n",
    "        elif f in usd60mil:\n",
    "            return 'med'\n",
    "        elif f in usd125mil:\n",
    "            return 'high'\n",
    "        elif f in usd250mil:\n",
    "            return 'veryhigh'\n",
    "    return 'Otro'\n",
    "df['inversion'] = df['franquicia'].apply(asignar_inversion)\n",
    "print(df.head())"
   ]
  },
  {
   "cell_type": "markdown",
   "id": "507770ea",
   "metadata": {
    "papermill": {
     "duration": 0.028463,
     "end_time": "2023-06-02T23:56:59.428770",
     "exception": false,
     "start_time": "2023-06-02T23:56:59.400307",
     "status": "completed"
    },
    "tags": []
   },
   "source": [
    "<p style=\"font-family:JetBrains Mono; font-weight:bold; letter-spacing: 2px; color:#05041B; font-size:140%; text-align:left;padding: 0px; border-bottom: 3px solid #FFB800\"></p>"
   ]
  },
  {
   "cell_type": "markdown",
   "id": "866398cb",
   "metadata": {
    "papermill": {
     "duration": 0.028435,
     "end_time": "2023-06-02T23:56:59.485937",
     "exception": false,
     "start_time": "2023-06-02T23:56:59.457502",
     "status": "completed"
    },
    "tags": []
   },
   "source": [
    "<div style=\"border-radius:13px; border:#FFB800 solid; padding: 15px; background-color: #FAFFFF; font-size:108%; text-align:left\">\n",
    "    \n",
    "<h3 align=\"left\"><font color='#05041B'>\n",
    "</font>🖇️Predictor Variable: Franchise</h3>  \n",
    "    \n",
    "* We have identified the top 25 franchises that appear most frequently.\n",
    "\n",
    "* If you have any more questions, feel free to ask.\n"
   ]
  },
  {
   "cell_type": "code",
   "execution_count": 19,
   "id": "9d04d37c",
   "metadata": {
    "_kg_hide-input": true,
    "execution": {
     "iopub.execute_input": "2023-06-02T23:56:59.545487Z",
     "iopub.status.busy": "2023-06-02T23:56:59.545048Z",
     "iopub.status.idle": "2023-06-02T23:56:59.622785Z",
     "shell.execute_reply": "2023-06-02T23:56:59.621784Z"
    },
    "jupyter": {
     "source_hidden": true
    },
    "papermill": {
     "duration": 0.110657,
     "end_time": "2023-06-02T23:56:59.625266",
     "exception": false,
     "start_time": "2023-06-02T23:56:59.514609",
     "status": "completed"
    },
    "tags": []
   },
   "outputs": [
    {
     "data": {
      "text/html": [
       "<div>                            <div id=\"baf1d8a4-c34f-46fd-8380-a0c31e70d251\" class=\"plotly-graph-div\" style=\"height:525px; width:100%;\"></div>            <script type=\"text/javascript\">                require([\"plotly\"], function(Plotly) {                    window.PLOTLYENV=window.PLOTLYENV || {};                                    if (document.getElementById(\"baf1d8a4-c34f-46fd-8380-a0c31e70d251\")) {                    Plotly.newPlot(                        \"baf1d8a4-c34f-46fd-8380-a0c31e70d251\",                        [{\"alignmentgroup\":\"True\",\"hovertemplate\":\"Franchises=%{x}<br>Number of leads received=%{y}<extra></extra>\",\"legendgroup\":\"\",\"marker\":{\"color\":\"#064572\",\"pattern\":{\"shape\":\"\"}},\"name\":\"\",\"offsetgroup\":\"\",\"orientation\":\"v\",\"showlegend\":false,\"textposition\":\"auto\",\"x\":[\"la birra bar\",\"don us company\",\"big pizza\",\"pirka\",\"guapaletas\",\"tienda de cafe\",\"atalaya\",\"befruit\",\"cremolatti\",\"dulce hora\",\"consultiva argentina\",\"don antonio\",\"cafe martinez\",\"tostado\",\"depi4ever\",\"by papa\",\"ferreterías h30\",\"central de pizzas y empanadas\",\"expo ar 2022\",\"jiro sushi\",\"aloise\",\"le panem\",\"all in express\",\"coquito´s\",\"belldecó\",\"buenos aires bakery\",\"vitalcer\",\"the little bar\",\"suscriptor blog\",\"aloha\",\"que crecen tv (votación)\",\"almacen de pizzas\",\"aguila fumigaciones\",\"catapumba\",\"d- uñas\"],\"xaxis\":\"x\",\"y\":[261,236,225,207,154,128,111,90,62,60,54,52,34,19,10,10,8,7,6,5,5,4,4,4,3,3,3,2,2,2,2,2,2,2,2],\"yaxis\":\"y\",\"type\":\"bar\"}],                        {\"template\":{\"data\":{\"histogram2dcontour\":[{\"type\":\"histogram2dcontour\",\"colorbar\":{\"outlinewidth\":0,\"ticks\":\"\"},\"colorscale\":[[0.0,\"#0d0887\"],[0.1111111111111111,\"#46039f\"],[0.2222222222222222,\"#7201a8\"],[0.3333333333333333,\"#9c179e\"],[0.4444444444444444,\"#bd3786\"],[0.5555555555555556,\"#d8576b\"],[0.6666666666666666,\"#ed7953\"],[0.7777777777777778,\"#fb9f3a\"],[0.8888888888888888,\"#fdca26\"],[1.0,\"#f0f921\"]]}],\"choropleth\":[{\"type\":\"choropleth\",\"colorbar\":{\"outlinewidth\":0,\"ticks\":\"\"}}],\"histogram2d\":[{\"type\":\"histogram2d\",\"colorbar\":{\"outlinewidth\":0,\"ticks\":\"\"},\"colorscale\":[[0.0,\"#0d0887\"],[0.1111111111111111,\"#46039f\"],[0.2222222222222222,\"#7201a8\"],[0.3333333333333333,\"#9c179e\"],[0.4444444444444444,\"#bd3786\"],[0.5555555555555556,\"#d8576b\"],[0.6666666666666666,\"#ed7953\"],[0.7777777777777778,\"#fb9f3a\"],[0.8888888888888888,\"#fdca26\"],[1.0,\"#f0f921\"]]}],\"heatmap\":[{\"type\":\"heatmap\",\"colorbar\":{\"outlinewidth\":0,\"ticks\":\"\"},\"colorscale\":[[0.0,\"#0d0887\"],[0.1111111111111111,\"#46039f\"],[0.2222222222222222,\"#7201a8\"],[0.3333333333333333,\"#9c179e\"],[0.4444444444444444,\"#bd3786\"],[0.5555555555555556,\"#d8576b\"],[0.6666666666666666,\"#ed7953\"],[0.7777777777777778,\"#fb9f3a\"],[0.8888888888888888,\"#fdca26\"],[1.0,\"#f0f921\"]]}],\"heatmapgl\":[{\"type\":\"heatmapgl\",\"colorbar\":{\"outlinewidth\":0,\"ticks\":\"\"},\"colorscale\":[[0.0,\"#0d0887\"],[0.1111111111111111,\"#46039f\"],[0.2222222222222222,\"#7201a8\"],[0.3333333333333333,\"#9c179e\"],[0.4444444444444444,\"#bd3786\"],[0.5555555555555556,\"#d8576b\"],[0.6666666666666666,\"#ed7953\"],[0.7777777777777778,\"#fb9f3a\"],[0.8888888888888888,\"#fdca26\"],[1.0,\"#f0f921\"]]}],\"contourcarpet\":[{\"type\":\"contourcarpet\",\"colorbar\":{\"outlinewidth\":0,\"ticks\":\"\"}}],\"contour\":[{\"type\":\"contour\",\"colorbar\":{\"outlinewidth\":0,\"ticks\":\"\"},\"colorscale\":[[0.0,\"#0d0887\"],[0.1111111111111111,\"#46039f\"],[0.2222222222222222,\"#7201a8\"],[0.3333333333333333,\"#9c179e\"],[0.4444444444444444,\"#bd3786\"],[0.5555555555555556,\"#d8576b\"],[0.6666666666666666,\"#ed7953\"],[0.7777777777777778,\"#fb9f3a\"],[0.8888888888888888,\"#fdca26\"],[1.0,\"#f0f921\"]]}],\"surface\":[{\"type\":\"surface\",\"colorbar\":{\"outlinewidth\":0,\"ticks\":\"\"},\"colorscale\":[[0.0,\"#0d0887\"],[0.1111111111111111,\"#46039f\"],[0.2222222222222222,\"#7201a8\"],[0.3333333333333333,\"#9c179e\"],[0.4444444444444444,\"#bd3786\"],[0.5555555555555556,\"#d8576b\"],[0.6666666666666666,\"#ed7953\"],[0.7777777777777778,\"#fb9f3a\"],[0.8888888888888888,\"#fdca26\"],[1.0,\"#f0f921\"]]}],\"mesh3d\":[{\"type\":\"mesh3d\",\"colorbar\":{\"outlinewidth\":0,\"ticks\":\"\"}}],\"scatter\":[{\"fillpattern\":{\"fillmode\":\"overlay\",\"size\":10,\"solidity\":0.2},\"type\":\"scatter\"}],\"parcoords\":[{\"type\":\"parcoords\",\"line\":{\"colorbar\":{\"outlinewidth\":0,\"ticks\":\"\"}}}],\"scatterpolargl\":[{\"type\":\"scatterpolargl\",\"marker\":{\"colorbar\":{\"outlinewidth\":0,\"ticks\":\"\"}}}],\"bar\":[{\"error_x\":{\"color\":\"#2a3f5f\"},\"error_y\":{\"color\":\"#2a3f5f\"},\"marker\":{\"line\":{\"color\":\"#E5ECF6\",\"width\":0.5},\"pattern\":{\"fillmode\":\"overlay\",\"size\":10,\"solidity\":0.2}},\"type\":\"bar\"}],\"scattergeo\":[{\"type\":\"scattergeo\",\"marker\":{\"colorbar\":{\"outlinewidth\":0,\"ticks\":\"\"}}}],\"scatterpolar\":[{\"type\":\"scatterpolar\",\"marker\":{\"colorbar\":{\"outlinewidth\":0,\"ticks\":\"\"}}}],\"histogram\":[{\"marker\":{\"pattern\":{\"fillmode\":\"overlay\",\"size\":10,\"solidity\":0.2}},\"type\":\"histogram\"}],\"scattergl\":[{\"type\":\"scattergl\",\"marker\":{\"colorbar\":{\"outlinewidth\":0,\"ticks\":\"\"}}}],\"scatter3d\":[{\"type\":\"scatter3d\",\"line\":{\"colorbar\":{\"outlinewidth\":0,\"ticks\":\"\"}},\"marker\":{\"colorbar\":{\"outlinewidth\":0,\"ticks\":\"\"}}}],\"scattermapbox\":[{\"type\":\"scattermapbox\",\"marker\":{\"colorbar\":{\"outlinewidth\":0,\"ticks\":\"\"}}}],\"scatterternary\":[{\"type\":\"scatterternary\",\"marker\":{\"colorbar\":{\"outlinewidth\":0,\"ticks\":\"\"}}}],\"scattercarpet\":[{\"type\":\"scattercarpet\",\"marker\":{\"colorbar\":{\"outlinewidth\":0,\"ticks\":\"\"}}}],\"carpet\":[{\"aaxis\":{\"endlinecolor\":\"#2a3f5f\",\"gridcolor\":\"white\",\"linecolor\":\"white\",\"minorgridcolor\":\"white\",\"startlinecolor\":\"#2a3f5f\"},\"baxis\":{\"endlinecolor\":\"#2a3f5f\",\"gridcolor\":\"white\",\"linecolor\":\"white\",\"minorgridcolor\":\"white\",\"startlinecolor\":\"#2a3f5f\"},\"type\":\"carpet\"}],\"table\":[{\"cells\":{\"fill\":{\"color\":\"#EBF0F8\"},\"line\":{\"color\":\"white\"}},\"header\":{\"fill\":{\"color\":\"#C8D4E3\"},\"line\":{\"color\":\"white\"}},\"type\":\"table\"}],\"barpolar\":[{\"marker\":{\"line\":{\"color\":\"#E5ECF6\",\"width\":0.5},\"pattern\":{\"fillmode\":\"overlay\",\"size\":10,\"solidity\":0.2}},\"type\":\"barpolar\"}],\"pie\":[{\"automargin\":true,\"type\":\"pie\"}]},\"layout\":{\"autotypenumbers\":\"strict\",\"colorway\":[\"#636efa\",\"#EF553B\",\"#00cc96\",\"#ab63fa\",\"#FFA15A\",\"#19d3f3\",\"#FF6692\",\"#B6E880\",\"#FF97FF\",\"#FECB52\"],\"font\":{\"color\":\"#2a3f5f\"},\"hovermode\":\"closest\",\"hoverlabel\":{\"align\":\"left\"},\"paper_bgcolor\":\"white\",\"plot_bgcolor\":\"#E5ECF6\",\"polar\":{\"bgcolor\":\"#E5ECF6\",\"angularaxis\":{\"gridcolor\":\"white\",\"linecolor\":\"white\",\"ticks\":\"\"},\"radialaxis\":{\"gridcolor\":\"white\",\"linecolor\":\"white\",\"ticks\":\"\"}},\"ternary\":{\"bgcolor\":\"#E5ECF6\",\"aaxis\":{\"gridcolor\":\"white\",\"linecolor\":\"white\",\"ticks\":\"\"},\"baxis\":{\"gridcolor\":\"white\",\"linecolor\":\"white\",\"ticks\":\"\"},\"caxis\":{\"gridcolor\":\"white\",\"linecolor\":\"white\",\"ticks\":\"\"}},\"coloraxis\":{\"colorbar\":{\"outlinewidth\":0,\"ticks\":\"\"}},\"colorscale\":{\"sequential\":[[0.0,\"#0d0887\"],[0.1111111111111111,\"#46039f\"],[0.2222222222222222,\"#7201a8\"],[0.3333333333333333,\"#9c179e\"],[0.4444444444444444,\"#bd3786\"],[0.5555555555555556,\"#d8576b\"],[0.6666666666666666,\"#ed7953\"],[0.7777777777777778,\"#fb9f3a\"],[0.8888888888888888,\"#fdca26\"],[1.0,\"#f0f921\"]],\"sequentialminus\":[[0.0,\"#0d0887\"],[0.1111111111111111,\"#46039f\"],[0.2222222222222222,\"#7201a8\"],[0.3333333333333333,\"#9c179e\"],[0.4444444444444444,\"#bd3786\"],[0.5555555555555556,\"#d8576b\"],[0.6666666666666666,\"#ed7953\"],[0.7777777777777778,\"#fb9f3a\"],[0.8888888888888888,\"#fdca26\"],[1.0,\"#f0f921\"]],\"diverging\":[[0,\"#8e0152\"],[0.1,\"#c51b7d\"],[0.2,\"#de77ae\"],[0.3,\"#f1b6da\"],[0.4,\"#fde0ef\"],[0.5,\"#f7f7f7\"],[0.6,\"#e6f5d0\"],[0.7,\"#b8e186\"],[0.8,\"#7fbc41\"],[0.9,\"#4d9221\"],[1,\"#276419\"]]},\"xaxis\":{\"gridcolor\":\"white\",\"linecolor\":\"white\",\"ticks\":\"\",\"title\":{\"standoff\":15},\"zerolinecolor\":\"white\",\"automargin\":true,\"zerolinewidth\":2},\"yaxis\":{\"gridcolor\":\"white\",\"linecolor\":\"white\",\"ticks\":\"\",\"title\":{\"standoff\":15},\"zerolinecolor\":\"white\",\"automargin\":true,\"zerolinewidth\":2},\"scene\":{\"xaxis\":{\"backgroundcolor\":\"#E5ECF6\",\"gridcolor\":\"white\",\"linecolor\":\"white\",\"showbackground\":true,\"ticks\":\"\",\"zerolinecolor\":\"white\",\"gridwidth\":2},\"yaxis\":{\"backgroundcolor\":\"#E5ECF6\",\"gridcolor\":\"white\",\"linecolor\":\"white\",\"showbackground\":true,\"ticks\":\"\",\"zerolinecolor\":\"white\",\"gridwidth\":2},\"zaxis\":{\"backgroundcolor\":\"#E5ECF6\",\"gridcolor\":\"white\",\"linecolor\":\"white\",\"showbackground\":true,\"ticks\":\"\",\"zerolinecolor\":\"white\",\"gridwidth\":2}},\"shapedefaults\":{\"line\":{\"color\":\"#2a3f5f\"}},\"annotationdefaults\":{\"arrowcolor\":\"#2a3f5f\",\"arrowhead\":0,\"arrowwidth\":1},\"geo\":{\"bgcolor\":\"white\",\"landcolor\":\"#E5ECF6\",\"subunitcolor\":\"white\",\"showland\":true,\"showlakes\":true,\"lakecolor\":\"white\"},\"title\":{\"x\":0.05},\"mapbox\":{\"style\":\"light\"}}},\"xaxis\":{\"anchor\":\"y\",\"domain\":[0.0,1.0],\"title\":{\"text\":\"Franchises\"}},\"yaxis\":{\"anchor\":\"x\",\"domain\":[0.0,1.0],\"title\":{\"text\":\"Number of leads received\"}},\"legend\":{\"tracegroupgap\":0},\"title\":{\"text\":\"Lead received x Franchises\"},\"barmode\":\"relative\"},                        {\"responsive\": true}                    ).then(function(){\n",
       "                            \n",
       "var gd = document.getElementById('baf1d8a4-c34f-46fd-8380-a0c31e70d251');\n",
       "var x = new MutationObserver(function (mutations, observer) {{\n",
       "        var display = window.getComputedStyle(gd).display;\n",
       "        if (!display || display === 'none') {{\n",
       "            console.log([gd, 'removed!']);\n",
       "            Plotly.purge(gd);\n",
       "            observer.disconnect();\n",
       "        }}\n",
       "}});\n",
       "\n",
       "// Listen for the removal of the full notebook cells\n",
       "var notebookContainer = gd.closest('#notebook-container');\n",
       "if (notebookContainer) {{\n",
       "    x.observe(notebookContainer, {childList: true});\n",
       "}}\n",
       "\n",
       "// Listen for the clearing of the current output cell\n",
       "var outputEl = gd.closest('.output');\n",
       "if (outputEl) {{\n",
       "    x.observe(outputEl, {childList: true});\n",
       "}}\n",
       "\n",
       "                        })                };                });            </script>        </div>"
      ]
     },
     "metadata": {},
     "output_type": "display_data"
    }
   ],
   "source": [
    "df['franquicia'] = df['franquicia'].str.split(',').str[0]\n",
    "conteo = df['franquicia'].value_counts().head(35)\n",
    "fig_bar = px.bar(x=conteo.index, y=conteo, labels={'x': 'Franchises', 'y': 'Number of leads received'}, title='Lead received x Franchises', color_discrete_sequence=colors)\n",
    "fig_bar.show()"
   ]
  },
  {
   "cell_type": "markdown",
   "id": "7976bbc3",
   "metadata": {
    "papermill": {
     "duration": 0.029208,
     "end_time": "2023-06-02T23:56:59.683768",
     "exception": false,
     "start_time": "2023-06-02T23:56:59.654560",
     "status": "completed"
    },
    "tags": []
   },
   "source": [
    "<div style=\"border-radius:13px; border:#FFB800 solid; padding: 15px; background-color: #FAFFFF; font-size:105%; text-align:left\"> \n",
    "    \n",
    "* To simplify the categories, I tested various thresholds and defined the best possible relationship."
   ]
  },
  {
   "cell_type": "code",
   "execution_count": 20,
   "id": "13d7a499",
   "metadata": {
    "_kg_hide-input": true,
    "execution": {
     "iopub.execute_input": "2023-06-02T23:56:59.745158Z",
     "iopub.status.busy": "2023-06-02T23:56:59.743931Z",
     "iopub.status.idle": "2023-06-02T23:57:00.196956Z",
     "shell.execute_reply": "2023-06-02T23:57:00.195716Z"
    },
    "jupyter": {
     "source_hidden": true
    },
    "papermill": {
     "duration": 0.486525,
     "end_time": "2023-06-02T23:57:00.199682",
     "exception": false,
     "start_time": "2023-06-02T23:56:59.713157",
     "status": "completed"
    },
    "tags": []
   },
   "outputs": [
    {
     "data": {
      "image/png": "[encoded data removed]",
      "text/plain": [
       "<Figure size 1000x600 with 1 Axes>"
      ]
     },
     "metadata": {},
     "output_type": "display_data"
    }
   ],
   "source": [
    "conteos = df['franquicia'].value_counts()\n",
    "porcentaje_acumulado = conteos.cumsum() / conteos.sum()\n",
    "umbral = porcentaje_acumulado[porcentaje_acumulado <= 0.94].shape[0]\n",
    "# Encontrar las franquicias más comunes\n",
    "franquicias_mas_comunes = conteos.index[:umbral]\n",
    "# Reemplazar las franquicias que no están en las más comunes por 'Otras'\n",
    "df['franquicia'] = df['franquicia'].where(df['franquicia'].isin(franquicias_mas_comunes), 'otras')\n",
    "conteos = df['franquicia'].value_counts()\n",
    "# Comprobar resultado \n",
    "fig, ax = plt.subplots(figsize=(10, 6))\n",
    "sns.barplot(x=conteos.index, y=conteos.values, ax=ax)\n",
    "ax.set_title('Franchises that make up 94% of the received data + others.')\n",
    "ax.set_xlabel('Franchises')\n",
    "ax.set_ylabel('Leads received')\n",
    "plt.xticks(rotation=90)\n",
    "plt.show()"
   ]
  },
  {
   "cell_type": "markdown",
   "id": "33375210",
   "metadata": {
    "papermill": {
     "duration": 0.031066,
     "end_time": "2023-06-02T23:57:00.269619",
     "exception": false,
     "start_time": "2023-06-02T23:57:00.238553",
     "status": "completed"
    },
    "tags": []
   },
   "source": [
    "<div style=\"border-radius:13px; border:#FFB800 solid; padding: 15px; background-color: #FAFFFF; font-size:105%; text-align:left\"> \n",
    "    \n",
    "* 94% of the categories in the column are concentrated in these franchises, which will be used for the model, while the remaining ones will be grouped as **'others'.**"
   ]
  },
  {
   "cell_type": "markdown",
   "id": "df407314",
   "metadata": {
    "papermill": {
     "duration": 0.030143,
     "end_time": "2023-06-02T23:57:00.330125",
     "exception": false,
     "start_time": "2023-06-02T23:57:00.299982",
     "status": "completed"
    },
    "tags": []
   },
   "source": [
    "<p style=\"font-family:JetBrains Mono; font-weight:bold; letter-spacing: 2px; color:#05041B; font-size:140%; text-align:left;padding: 0px; border-bottom: 3px solid #FFB800\"></p>"
   ]
  },
  {
   "cell_type": "markdown",
   "id": "c5466fe1",
   "metadata": {
    "papermill": {
     "duration": 0.030552,
     "end_time": "2023-06-02T23:57:00.391158",
     "exception": false,
     "start_time": "2023-06-02T23:57:00.360606",
     "status": "completed"
    },
    "tags": []
   },
   "source": [
    "<div style=\"border-radius:13px; border:#FFB800 solid; padding: 15px; background-color: #FAFFFF; font-size:108%; text-align:left\">\n",
    "    \n",
    "<h3 align=\"left\"><font color='#05041B'>\n",
    "</font>🔢 Discreet / Continuous Variables</h3>  \n",
    "   \n",
    "* 🖇️ Predictor Variables:\n",
    "* **Formularios enviados'**: Discrete variable representing the number of submitted forms.\n",
    "* **'Visitas a la página'**: Discrete variable representing the number of website visits.\n",
    "* **'Interacciones varias'**: Discrete variable representing the number of various interactions.\n",
    "* **'Aperturas de correo'**: Discrete variable representing the number of email openings."
   ]
  },
  {
   "cell_type": "markdown",
   "id": "11b675e8",
   "metadata": {
    "papermill": {
     "duration": 0.030808,
     "end_time": "2023-06-02T23:57:00.452104",
     "exception": false,
     "start_time": "2023-06-02T23:57:00.421296",
     "status": "completed"
    },
    "tags": []
   },
   "source": [
    "<div style=\"border-radius:13px; border:#FFB800 solid; padding: 15px; background-color: #FAFFFF; font-size:108%; text-align:left\">\n",
    "    \n",
    "* These columns will be the only ones incorporated into the model as numeric variables.\n",
    "* They measure various interactions and can be very useful for models that categorize based on the natural order of their numeric columns. \n",
    "* First, I will ensure that there are no highly elevated relationships between the columns.\""
   ]
  },
  {
   "cell_type": "code",
   "execution_count": 21,
   "id": "135bd08c",
   "metadata": {
    "_kg_hide-input": true,
    "execution": {
     "iopub.execute_input": "2023-06-02T23:57:00.515235Z",
     "iopub.status.busy": "2023-06-02T23:57:00.514791Z",
     "iopub.status.idle": "2023-06-02T23:57:00.615172Z",
     "shell.execute_reply": "2023-06-02T23:57:00.614098Z"
    },
    "jupyter": {
     "source_hidden": true
    },
    "papermill": {
     "duration": 0.135417,
     "end_time": "2023-06-02T23:57:00.617879",
     "exception": false,
     "start_time": "2023-06-02T23:57:00.482462",
     "status": "completed"
    },
    "tags": []
   },
   "outputs": [
    {
     "data": {
      "text/html": [
       "<div>                            <div id=\"781c5664-d453-4518-b04a-25ab0108f9fd\" class=\"plotly-graph-div\" style=\"height:600px; width:100%;\"></div>            <script type=\"text/javascript\">                require([\"plotly\"], function(Plotly) {                    window.PLOTLYENV=window.PLOTLYENV || {};                                    if (document.getElementById(\"781c5664-d453-4518-b04a-25ab0108f9fd\")) {                    Plotly.newPlot(                        \"781c5664-d453-4518-b04a-25ab0108f9fd\",                        [{\"marker\":{\"color\":\"rgb(55, 83, 109)\"},\"name\":\"formularios enviados\",\"nbinsx\":50,\"x\":[0.0,1.0,1.0,1.0,0.0,1.0,1.0,1.0,0.0,2.0,6.0,1.0,0.0,1.0,1.0,2.0,1.0,2.0,2.0,2.0,1.0,1.0,1.0,1.0,1.0,1.0,1.0,1.0,0.0,0.0,1.0,1.0,1.0,1.0,0.0,1.0,2.0,1.0,1.0,1.0,1.0,2.0,1.0,1.0,1.0,2.0,1.0,1.0,1.0,1.0,0.0,1.0,1.0,0.0,1.0,1.0,1.0,1.0,1.0,1.0,1.0,3.0,3.0,1.0,1.0,1.0,1.0,1.0,1.0,1.0,1.0,2.0,1.0,2.0,1.0,0.0,1.0,2.0,1.0,0.0,1.0,1.0,1.0,1.0,1.0,1.0,2.0,2.0,1.0,1.0,1.0,1.0,1.0,1.0,1.0,0.0,2.0,1.0,1.0,1.0,0.0,1.0,1.0,1.0,1.0,1.0,1.0,0.0,1.0,1.0,1.0,1.0,0.0,1.0,0.0,1.0,1.0,1.0,0.0,0.0,0.0,0.0,1.0,2.0,1.0,1.0,1.0,1.0,1.0,1.0,1.0,1.0,1.0,1.0,1.0,1.0,1.0,1.0,1.0,1.0,1.0,1.0,1.0,1.0,1.0,1.0,1.0,2.0,1.0,1.0,1.0,1.0,1.0,1.0,1.0,1.0,1.0,1.0,1.0,3.0,1.0,1.0,0.0,1.0,0.0,0.0,0.0,0.0,0.0,1.0,1.0,0.0,1.0,1.0,0.0,0.0,1.0,1.0,1.0,1.0,1.0,1.0,1.0,1.0,1.0,2.0,2.0,1.0,1.0,1.0,1.0,1.0,0.0,1.0,1.0,1.0,0.0,1.0,1.0,1.0,1.0,1.0,1.0,1.0,0.0,2.0,1.0,1.0,1.0,2.0,1.0,0.0,1.0,1.0,1.0,0.0,4.0,1.0,0.0,1.0,1.0,1.0,1.0,0.0,0.0,1.0,0.0,1.0,1.0,1.0,1.0,1.0,1.0,1.0,1.0,1.0,1.0,1.0,1.0,0.0,1.0,2.0,1.0,1.0,1.0,1.0,1.0,1.0,0.0,1.0,1.0,1.0,1.0,1.0,0.0,1.0,0.0,1.0,5.0,1.0,1.0,1.0,2.0,1.0,1.0,1.0,1.0,1.0,1.0,1.0,1.0,3.0,1.0,1.0,1.0,1.0,1.0,1.0,1.0,2.0,2.0,1.0,1.0,1.0,1.0,0.0,1.0,1.0,1.0,5.0,1.0,1.0,1.0,2.0,1.0,3.0,1.0,1.0,1.0,1.0,1.0,2.0,0.0,1.0,0.0,1.0,1.0,1.0,1.0,1.0,1.0,0.0,1.0,1.0,1.0,1.0,2.0,1.0,1.0,1.0,1.0,1.0,3.0,1.0,1.0,1.0,1.0,0.0,1.0,1.0,2.0,1.0,1.0,2.0,0.0,1.0,1.0,1.0,1.0,1.0,1.0,1.0,1.0,1.0,1.0,1.0,1.0,1.0,0.0,1.0,1.0,0.0,1.0,3.0,1.0,1.0,1.0,3.0,1.0,1.0,0.0,5.0,1.0,1.0,1.0,0.0,1.0,1.0,1.0,1.0,2.0,1.0,1.0,1.0,1.0,1.0,1.0,1.0,1.0,1.0,0.0,3.0,0.0,0.0,1.0,1.0,1.0,0.0,1.0,2.0,1.0,1.0,1.0,1.0,0.0,1.0,1.0,1.0,1.0,1.0,1.0,1.0,1.0,2.0,1.0,1.0,1.0,1.0,1.0,1.0,1.0,1.0,1.0,0.0,0.0,1.0,1.0,1.0,1.0,1.0,1.0,1.0,1.0,1.0,1.0,1.0,1.0,1.0,1.0,1.0,0.0,1.0,0.0,1.0,0.0,1.0,0.0,1.0,1.0,2.0,1.0,0.0,1.0,1.0,1.0,1.0,2.0,1.0,1.0,1.0,0.0,1.0,0.0,2.0,1.0,2.0,1.0,2.0,0.0,1.0,2.0,1.0,1.0,0.0,1.0,1.0,2.0,0.0,1.0,1.0,1.0,1.0,1.0,1.0,1.0,1.0,1.0,1.0,1.0,1.0,1.0,1.0,1.0,1.0,1.0,1.0,1.0,1.0,1.0,1.0,1.0,1.0,1.0,1.0,1.0,5.0,4.0,0.0,1.0,1.0,1.0,1.0,1.0,1.0,0.0,2.0,1.0,0.0,3.0,1.0,2.0,1.0,1.0,0.0,2.0,2.0,1.0,1.0,1.0,1.0,1.0,1.0,1.0,1.0,1.0,1.0,1.0,1.0,0.0,1.0,1.0,3.0,0.0,1.0,0.0,2.0,1.0,2.0,0.0,1.0,1.0,1.0,1.0,1.0,2.0,1.0,0.0,1.0,1.0,1.0,1.0,1.0,1.0,1.0,1.0,1.0,2.0,1.0,0.0,1.0,1.0,1.0,1.0,0.0,3.0,2.0,1.0,1.0,1.0,1.0,1.0,1.0,1.0,2.0,0.0,1.0,2.0,1.0,1.0,1.0,3.0,3.0,0.0,1.0,1.0,1.0,1.0,1.0,0.0,1.0,1.0,1.0,1.0,1.0,1.0,2.0,2.0,1.0,1.0,1.0,1.0,1.0,1.0,1.0,0.0,0.0,1.0,1.0,2.0,3.0,1.0,1.0,0.0,1.0,1.0,1.0,0.0,1.0,1.0,1.0,1.0,1.0,1.0,2.0,1.0,1.0,1.0,1.0,1.0,1.0,1.0,1.0,1.0,1.0,1.0,1.0,1.0,1.0,0.0,1.0,1.0,1.0,1.0,1.0,1.0,1.0,2.0,1.0,1.0,1.0,1.0,1.0,0.0,1.0,1.0,2.0,1.0,1.0,0.0,1.0,1.0,2.0,1.0,1.0,2.0,1.0,2.0,2.0,1.0,1.0,1.0,1.0,1.0,1.0,1.0,3.0,1.0,0.0,0.0,0.0,2.0,1.0,0.0,0.0,0.0,1.0,5.0,0.0,1.0,0.0,1.0,0.0,1.0,1.0,1.0,1.0,1.0,1.0,1.0,1.0,1.0,4.0,1.0,2.0,1.0,2.0,1.0,1.0,1.0,1.0,1.0,1.0,1.0,0.0,1.0,1.0,1.0,1.0,1.0,1.0,1.0,1.0,1.0,1.0,1.0,1.0,2.0,1.0,1.0,1.0,1.0,1.0,1.0,1.0,0.0,1.0,1.0,1.0,2.0,1.0,1.0,1.0,1.0,1.0,1.0,0.0,1.0,2.0,1.0,1.0,1.0,1.0,1.0,1.0,1.0,1.0,1.0,1.0,0.0,1.0,1.0,1.0,1.0,0.0,2.0,1.0,1.0,1.0,1.0,1.0,1.0,0.0,3.0,1.0,1.0,1.0,1.0,1.0,1.0,1.0,1.0,2.0,2.0,0.0,1.0,0.0,1.0,1.0,0.0,1.0,1.0,1.0,0.0,1.0,1.0,1.0,3.0,1.0,1.0,1.0,1.0,1.0,1.0,2.0,1.0,1.0,1.0,3.0,1.0,2.0,1.0,1.0,1.0,1.0,1.0,1.0,1.0,1.0,1.0,0.0,1.0,1.0,1.0,1.0,0.0,1.0,0.0,1.0,1.0,2.0,1.0,1.0,0.0,2.0,0.0,1.0,1.0,1.0,1.0,1.0,1.0,1.0,2.0,0.0,0.0,0.0,0.0,1.0,1.0,1.0,1.0,0.0,1.0,1.0,1.0,0.0,1.0,1.0,1.0,1.0,1.0,1.0,2.0,1.0,2.0,1.0,0.0,1.0,2.0,1.0,1.0,2.0,1.0,2.0,1.0,1.0,2.0,2.0,3.0,1.0,1.0,1.0,1.0,1.0,0.0,1.0,1.0,0.0,0.0,1.0,1.0,2.0,1.0,1.0,1.0,1.0,1.0,2.0,1.0,1.0,1.0,1.0,1.0,5.0,1.0,1.0,1.0,1.0,1.0,1.0,1.0,2.0,1.0,1.0,1.0,1.0,4.0,1.0,1.0,1.0,1.0,1.0,1.0,1.0,1.0,1.0,1.0,1.0,1.0,1.0,1.0,3.0,1.0,1.0,1.0,1.0,1.0,1.0,1.0,2.0,1.0,1.0,1.0,2.0,1.0,1.0,1.0,0.0,1.0,1.0,1.0,1.0,1.0,1.0,1.0,1.0,7.0,1.0,1.0,0.0,2.0,1.0,1.0,1.0,1.0,1.0,1.0,1.0,1.0,1.0,1.0,1.0,0.0,1.0,0.0,1.0,1.0,1.0,3.0,1.0,3.0,1.0,1.0,2.0,1.0,1.0,1.0,1.0,1.0,1.0,2.0,1.0,1.0,1.0,1.0,1.0,1.0,1.0,1.0,1.0,0.0,2.0,0.0,1.0,0.0,0.0,0.0,1.0,1.0,1.0,1.0,1.0,2.0,1.0,2.0,1.0,1.0,1.0,1.0,1.0,1.0,1.0,1.0,3.0,0.0,1.0,1.0,0.0,1.0,1.0,1.0,1.0,1.0,1.0,1.0,1.0,1.0,1.0,1.0,2.0,1.0,2.0,1.0,1.0,1.0,0.0,1.0,1.0,1.0,1.0,0.0,1.0,1.0,1.0,1.0,2.0,2.0,1.0,1.0,1.0,4.0,1.0,1.0,1.0,1.0,1.0,1.0,2.0,1.0,1.0,2.0,1.0,3.0,1.0,1.0,1.0,1.0,1.0,1.0,1.0,1.0,1.0,1.0,1.0,1.0,1.0,0.0,1.0,1.0,1.0,1.0,1.0,1.0,1.0,1.0,0.0,2.0,1.0,1.0,2.0,2.0,0.0,1.0,1.0,1.0,0.0,1.0,1.0,1.0,1.0,2.0,1.0,1.0,1.0,1.0,1.0,0.0,1.0,1.0,2.0,1.0,1.0,1.0,0.0,1.0,0.0,1.0,1.0,1.0,1.0,1.0,1.0,1.0,0.0,1.0,0.0,1.0,4.0,1.0,1.0,1.0,1.0,1.0,0.0,2.0,1.0,1.0,1.0,1.0,1.0,1.0,1.0,1.0,1.0,1.0,1.0,1.0,1.0,1.0,1.0,1.0,1.0,3.0,1.0,1.0,2.0,2.0,1.0,1.0,1.0,1.0,1.0,1.0,1.0,1.0,1.0,0.0,0.0,0.0,1.0,1.0,1.0,1.0,1.0,1.0,1.0,1.0,1.0,1.0,1.0,1.0,1.0,4.0,1.0,1.0,1.0,0.0,1.0,1.0,1.0,1.0,0.0,0.0,1.0,1.0,2.0,1.0,1.0,1.0,1.0,1.0,1.0,2.0,1.0,1.0,1.0,1.0,2.0,1.0,1.0,0.0,1.0,1.0,2.0,1.0,1.0,1.0,1.0,1.0,1.0,1.0,1.0,1.0,1.0,1.0,1.0,1.0,0.0,1.0,0.0,1.0,1.0,1.0,1.0,1.0,1.0,0.0,1.0,1.0,1.0,1.0,1.0,1.0,1.0,0.0,1.0,1.0,4.0,1.0,1.0,1.0,2.0,1.0,1.0,1.0,1.0,1.0,1.0,2.0,1.0,1.0,1.0,1.0,1.0,1.0,1.0,1.0,3.0,1.0,1.0,1.0,1.0,2.0,0.0,1.0,1.0,1.0,1.0,1.0,1.0,5.0,1.0,1.0,1.0,1.0,1.0,1.0,1.0,1.0,1.0,2.0,1.0,1.0,1.0,1.0,1.0,1.0,0.0,2.0,1.0,1.0,2.0,1.0,1.0,1.0,0.0,0.0,1.0,1.0,1.0,1.0,1.0,1.0,1.0,1.0,1.0,1.0,1.0,1.0,1.0,1.0,1.0,3.0,0.0,1.0,1.0,1.0,0.0,1.0,0.0,0.0,0.0,0.0,0.0,0.0,0.0,0.0,1.0,1.0,1.0,0.0,0.0,0.0,0.0,0.0,0.0,0.0,0.0,0.0,0.0,1.0,0.0,0.0,0.0,0.0,0.0,0.0,0.0,0.0,0.0,0.0,0.0,0.0,0.0,0.0,0.0,0.0,0.0,0.0,0.0,0.0,0.0,0.0,1.0,0.0,0.0,0.0,1.0,0.0,2.0,0.0,0.0,0.0,0.0,3.0,0.0,0.0,1.0,1.0,0.0,0.0,0.0,1.0,0.0,0.0,0.0,1.0,1.0,1.0,1.0,0.0,0.0,0.0,0.0,1.0,0.0,0.0,0.0,0.0,0.0,0.0,0.0,1.0,0.0,0.0,0.0,0.0,0.0,0.0,0.0,0.0,0.0,0.0,0.0,0.0,0.0,0.0,0.0,0.0,0.0,0.0,0.0,0.0,0.0,1.0,0.0,0.0,0.0,0.0,0.0,0.0,0.0,0.0,0.0,0.0,0.0,0.0,0.0,0.0,0.0,0.0,0.0,0.0,0.0,0.0,0.0,0.0,0.0,1.0,1.0,0.0,0.0,1.0,0.0,0.0,0.0,0.0,0.0,0.0,0.0,0.0,0.0,0.0,0.0,0.0,0.0,0.0,0.0,0.0,0.0,0.0,0.0,0.0,0.0,0.0,0.0,0.0,0.0,0.0,0.0,0.0,0.0,0.0,1.0,0.0,0.0,0.0,1.0,0.0,0.0,1.0,0.0,0.0,0.0,0.0,0.0,0.0,0.0,0.0,0.0,0.0,0.0,0.0,0.0,0.0,1.0,1.0,0.0,0.0,0.0,0.0,0.0,0.0,0.0,0.0,0.0,0.0,0.0,0.0,1.0,0.0,0.0,0.0,0.0,3.0,0.0,1.0,0.0,1.0,0.0,0.0,0.0,0.0,0.0,0.0,0.0,0.0,1.0,0.0,0.0,0.0,0.0,0.0,0.0,0.0,0.0,0.0,0.0,1.0,0.0,0.0,0.0,0.0,0.0,1.0,0.0,0.0,1.0,1.0,0.0,0.0,1.0,0.0,0.0,0.0,0.0,0.0,0.0,0.0,0.0,0.0,0.0,0.0,0.0,0.0,0.0,0.0,0.0,0.0,0.0,0.0,1.0,0.0,0.0,0.0,0.0,0.0,1.0,0.0,0.0,0.0,0.0,0.0,0.0,0.0,0.0,1.0,0.0,0.0,1.0,0.0,0.0,0.0,0.0,0.0,0.0,0.0,0.0,1.0,0.0,0.0,0.0,0.0,0.0,0.0,0.0,3.0,0.0,0.0,0.0,0.0,0.0,0.0,0.0,0.0,1.0,0.0,0.0,0.0,0.0,0.0,0.0,1.0,0.0,0.0,0.0,0.0,0.0,0.0,1.0,0.0,0.0,0.0,0.0,0.0,0.0,0.0,0.0,1.0,0.0,0.0,1.0,1.0,0.0,0.0,0.0,0.0,0.0,0.0,0.0,0.0,1.0,0.0,0.0,0.0,0.0,0.0,0.0,0.0,0.0,0.0,2.0,2.0,0.0,0.0,0.0,0.0,0.0,0.0,0.0,0.0,0.0,0.0,0.0,0.0,0.0,0.0,0.0,0.0,0.0,0.0,0.0,0.0,0.0,0.0,0.0,0.0,0.0,1.0,0.0,0.0,0.0,0.0,0.0,0.0,0.0,0.0,0.0,0.0,0.0,1.0,0.0,0.0,0.0,0.0,0.0,0.0,0.0,0.0,0.0,0.0,0.0,0.0,0.0,0.0,0.0,0.0,0.0,0.0,0.0,0.0,0.0,0.0,2.0,0.0,0.0,0.0,0.0,0.0,0.0,0.0,0.0,0.0,0.0,0.0,0.0,0.0,0.0,0.0,0.0,0.0,2.0,0.0,0.0,0.0,0.0,0.0,0.0,1.0,1.0,0.0,0.0,0.0,0.0,0.0,0.0,0.0,0.0,1.0,1.0,0.0,0.0,0.0,0.0,1.0,0.0,0.0],\"type\":\"histogram\",\"xaxis\":\"x\",\"yaxis\":\"y\"},{\"marker\":{\"color\":\"rgb(55, 83, 109)\"},\"name\":\"visitas a la pagina\",\"nbinsx\":50,\"x\":[0.0,1.0,1.0,1.0,0.0,1.0,1.0,1.0,0.0,2.0,3.0,1.0,0.0,1.0,1.0,2.0,1.0,2.0,2.0,1.0,1.0,1.0,1.0,1.0,1.0,1.0,1.0,1.0,0.0,0.0,1.0,1.0,1.0,1.0,0.0,1.0,2.0,1.0,1.0,1.0,1.0,1.0,1.0,1.0,1.0,1.0,1.0,1.0,1.0,1.0,0.0,1.0,1.0,0.0,1.0,1.0,1.0,1.0,1.0,2.0,1.0,2.0,3.0,1.0,1.0,1.0,1.0,1.0,1.0,1.0,1.0,2.0,1.0,2.0,1.0,0.0,1.0,1.0,1.0,0.0,1.0,1.0,1.0,1.0,1.0,1.0,2.0,2.0,1.0,1.0,1.0,1.0,1.0,1.0,1.0,0.0,2.0,1.0,1.0,1.0,0.0,1.0,1.0,1.0,1.0,1.0,1.0,0.0,1.0,1.0,1.0,1.0,0.0,1.0,0.0,1.0,1.0,1.0,0.0,0.0,0.0,0.0,1.0,2.0,1.0,1.0,1.0,1.0,1.0,1.0,1.0,1.0,1.0,1.0,1.0,1.0,1.0,1.0,1.0,1.0,1.0,1.0,1.0,1.0,1.0,1.0,1.0,2.0,1.0,1.0,1.0,1.0,1.0,1.0,1.0,1.0,1.0,1.0,1.0,2.0,1.0,1.0,0.0,1.0,0.0,0.0,0.0,0.0,0.0,1.0,1.0,0.0,1.0,1.0,0.0,0.0,1.0,1.0,1.0,1.0,1.0,1.0,1.0,1.0,1.0,2.0,2.0,1.0,1.0,1.0,1.0,1.0,0.0,1.0,1.0,1.0,0.0,1.0,1.0,1.0,1.0,1.0,1.0,1.0,0.0,2.0,1.0,1.0,1.0,2.0,1.0,0.0,1.0,1.0,1.0,0.0,4.0,1.0,0.0,1.0,1.0,1.0,1.0,0.0,0.0,1.0,0.0,1.0,1.0,1.0,1.0,1.0,1.0,1.0,1.0,1.0,1.0,1.0,1.0,0.0,1.0,2.0,1.0,1.0,1.0,1.0,1.0,1.0,0.0,1.0,1.0,1.0,1.0,1.0,0.0,1.0,0.0,1.0,5.0,1.0,1.0,1.0,2.0,1.0,1.0,1.0,1.0,1.0,1.0,1.0,1.0,3.0,1.0,1.0,1.0,1.0,1.0,1.0,1.0,2.0,2.0,1.0,1.0,1.0,1.0,0.0,1.0,1.0,1.0,5.0,1.0,1.0,1.0,2.0,1.0,2.0,1.0,1.0,1.0,1.0,1.0,2.0,0.0,1.0,0.0,1.0,1.0,1.0,1.0,1.0,1.0,0.0,1.0,1.0,1.0,1.0,2.0,1.0,1.0,1.0,1.0,1.0,2.0,1.0,1.0,1.0,1.0,0.0,1.0,1.0,2.0,1.0,1.0,2.0,0.0,1.0,1.0,1.0,1.0,1.0,1.0,1.0,1.0,1.0,1.0,1.0,1.0,1.0,0.0,1.0,1.0,0.0,1.0,3.0,1.0,1.0,1.0,3.0,1.0,1.0,0.0,5.0,1.0,1.0,1.0,0.0,1.0,1.0,1.0,1.0,2.0,1.0,1.0,1.0,1.0,1.0,1.0,1.0,1.0,1.0,0.0,3.0,0.0,0.0,1.0,1.0,1.0,0.0,1.0,2.0,1.0,1.0,1.0,1.0,0.0,1.0,1.0,1.0,1.0,1.0,1.0,1.0,1.0,2.0,1.0,1.0,1.0,1.0,1.0,1.0,1.0,1.0,1.0,0.0,0.0,1.0,1.0,1.0,1.0,1.0,1.0,1.0,1.0,1.0,1.0,1.0,1.0,1.0,1.0,1.0,0.0,1.0,0.0,1.0,0.0,1.0,0.0,1.0,1.0,2.0,1.0,0.0,1.0,1.0,1.0,1.0,1.0,1.0,1.0,1.0,0.0,1.0,0.0,2.0,1.0,2.0,1.0,1.0,0.0,1.0,2.0,1.0,1.0,0.0,1.0,1.0,2.0,0.0,1.0,1.0,1.0,1.0,1.0,1.0,1.0,1.0,1.0,1.0,1.0,1.0,1.0,1.0,1.0,1.0,1.0,1.0,1.0,1.0,1.0,1.0,1.0,1.0,1.0,1.0,1.0,2.0,4.0,0.0,1.0,1.0,1.0,1.0,1.0,1.0,0.0,2.0,1.0,0.0,2.0,1.0,2.0,1.0,1.0,0.0,1.0,2.0,1.0,1.0,1.0,1.0,1.0,1.0,1.0,1.0,1.0,1.0,1.0,1.0,0.0,1.0,1.0,3.0,0.0,1.0,0.0,1.0,1.0,2.0,0.0,1.0,1.0,1.0,1.0,1.0,2.0,1.0,0.0,1.0,1.0,1.0,1.0,1.0,1.0,1.0,1.0,1.0,2.0,1.0,0.0,1.0,1.0,1.0,1.0,0.0,0.0,2.0,1.0,1.0,1.0,1.0,1.0,1.0,1.0,2.0,0.0,1.0,2.0,1.0,1.0,1.0,3.0,3.0,0.0,1.0,1.0,1.0,1.0,1.0,0.0,1.0,1.0,1.0,1.0,1.0,1.0,2.0,1.0,1.0,1.0,1.0,1.0,1.0,1.0,1.0,0.0,0.0,1.0,1.0,0.0,3.0,1.0,1.0,0.0,1.0,1.0,1.0,0.0,1.0,1.0,1.0,1.0,1.0,1.0,2.0,1.0,1.0,1.0,1.0,1.0,1.0,1.0,1.0,1.0,1.0,1.0,1.0,1.0,1.0,0.0,1.0,1.0,1.0,1.0,1.0,1.0,1.0,2.0,1.0,1.0,1.0,1.0,1.0,0.0,1.0,1.0,1.0,1.0,1.0,0.0,1.0,1.0,2.0,1.0,1.0,2.0,1.0,2.0,2.0,1.0,1.0,1.0,1.0,1.0,1.0,1.0,2.0,1.0,0.0,0.0,0.0,2.0,1.0,0.0,0.0,0.0,1.0,4.0,0.0,1.0,0.0,1.0,0.0,1.0,1.0,1.0,1.0,1.0,1.0,1.0,1.0,1.0,2.0,1.0,2.0,1.0,2.0,1.0,1.0,1.0,1.0,1.0,1.0,1.0,0.0,1.0,1.0,1.0,1.0,1.0,1.0,1.0,1.0,1.0,1.0,1.0,1.0,2.0,1.0,1.0,2.0,1.0,1.0,1.0,1.0,0.0,2.0,1.0,1.0,2.0,1.0,1.0,1.0,1.0,1.0,1.0,0.0,1.0,2.0,1.0,1.0,1.0,1.0,1.0,1.0,1.0,1.0,1.0,1.0,0.0,1.0,1.0,1.0,1.0,0.0,2.0,1.0,1.0,1.0,1.0,1.0,1.0,0.0,2.0,1.0,1.0,1.0,1.0,1.0,1.0,1.0,1.0,2.0,2.0,0.0,1.0,0.0,1.0,1.0,2.0,1.0,1.0,1.0,0.0,1.0,1.0,1.0,0.0,1.0,1.0,1.0,1.0,1.0,1.0,2.0,1.0,1.0,1.0,20.0,1.0,2.0,1.0,1.0,1.0,1.0,1.0,1.0,1.0,1.0,1.0,0.0,1.0,1.0,1.0,2.0,0.0,1.0,0.0,1.0,1.0,2.0,1.0,1.0,0.0,2.0,0.0,1.0,1.0,1.0,1.0,1.0,1.0,1.0,2.0,0.0,0.0,0.0,0.0,1.0,1.0,1.0,1.0,0.0,1.0,1.0,1.0,0.0,1.0,1.0,1.0,1.0,1.0,1.0,2.0,1.0,2.0,1.0,0.0,1.0,1.0,1.0,1.0,2.0,1.0,2.0,1.0,1.0,2.0,2.0,3.0,1.0,1.0,1.0,1.0,1.0,0.0,1.0,1.0,0.0,0.0,1.0,1.0,1.0,1.0,1.0,1.0,1.0,1.0,2.0,1.0,1.0,1.0,1.0,1.0,4.0,1.0,1.0,1.0,1.0,1.0,1.0,1.0,2.0,1.0,1.0,1.0,1.0,3.0,1.0,1.0,1.0,1.0,1.0,1.0,1.0,1.0,1.0,1.0,1.0,1.0,1.0,1.0,3.0,1.0,1.0,1.0,1.0,1.0,1.0,2.0,1.0,1.0,1.0,1.0,2.0,1.0,1.0,1.0,0.0,1.0,1.0,1.0,1.0,1.0,1.0,1.0,1.0,5.0,1.0,1.0,0.0,2.0,1.0,1.0,1.0,1.0,1.0,1.0,1.0,1.0,1.0,1.0,1.0,0.0,1.0,0.0,1.0,1.0,1.0,3.0,1.0,3.0,1.0,1.0,1.0,1.0,1.0,1.0,1.0,1.0,1.0,2.0,1.0,1.0,1.0,1.0,1.0,1.0,1.0,1.0,1.0,0.0,1.0,0.0,1.0,0.0,0.0,0.0,1.0,2.0,1.0,1.0,1.0,2.0,1.0,2.0,1.0,1.0,1.0,1.0,1.0,1.0,1.0,1.0,2.0,0.0,1.0,1.0,0.0,1.0,1.0,1.0,1.0,1.0,1.0,2.0,1.0,1.0,1.0,1.0,2.0,1.0,2.0,1.0,1.0,1.0,0.0,1.0,1.0,1.0,1.0,0.0,1.0,1.0,1.0,1.0,2.0,1.0,1.0,1.0,1.0,3.0,1.0,1.0,1.0,1.0,1.0,1.0,2.0,1.0,1.0,2.0,1.0,2.0,1.0,1.0,1.0,1.0,1.0,1.0,1.0,1.0,1.0,1.0,1.0,1.0,1.0,0.0,1.0,1.0,1.0,1.0,2.0,1.0,1.0,1.0,0.0,2.0,1.0,1.0,2.0,2.0,0.0,1.0,1.0,1.0,0.0,1.0,1.0,1.0,1.0,1.0,1.0,1.0,1.0,1.0,1.0,0.0,1.0,2.0,2.0,1.0,1.0,1.0,0.0,1.0,0.0,1.0,1.0,1.0,1.0,1.0,1.0,1.0,0.0,1.0,0.0,1.0,4.0,1.0,1.0,1.0,1.0,1.0,0.0,2.0,1.0,1.0,1.0,1.0,1.0,1.0,1.0,1.0,1.0,1.0,1.0,1.0,1.0,1.0,1.0,1.0,1.0,3.0,1.0,1.0,2.0,1.0,1.0,1.0,1.0,1.0,1.0,1.0,1.0,1.0,1.0,1.0,0.0,0.0,1.0,1.0,1.0,1.0,1.0,1.0,1.0,1.0,1.0,1.0,1.0,1.0,1.0,4.0,1.0,1.0,1.0,0.0,1.0,1.0,1.0,1.0,0.0,0.0,1.0,1.0,2.0,1.0,1.0,1.0,1.0,1.0,1.0,2.0,1.0,1.0,1.0,1.0,2.0,1.0,1.0,0.0,1.0,1.0,2.0,1.0,1.0,1.0,1.0,1.0,1.0,1.0,1.0,1.0,1.0,1.0,1.0,1.0,0.0,1.0,0.0,1.0,1.0,1.0,1.0,1.0,1.0,0.0,1.0,1.0,1.0,1.0,1.0,1.0,1.0,0.0,1.0,1.0,1.0,1.0,1.0,1.0,2.0,1.0,1.0,1.0,1.0,1.0,1.0,2.0,1.0,1.0,1.0,1.0,1.0,1.0,1.0,1.0,3.0,1.0,1.0,1.0,1.0,2.0,0.0,2.0,1.0,1.0,1.0,1.0,1.0,2.0,1.0,1.0,1.0,1.0,1.0,1.0,1.0,1.0,1.0,1.0,1.0,1.0,1.0,1.0,1.0,1.0,0.0,2.0,1.0,1.0,2.0,1.0,1.0,1.0,0.0,0.0,1.0,1.0,1.0,1.0,1.0,1.0,1.0,1.0,1.0,1.0,1.0,1.0,1.0,1.0,1.0,3.0,0.0,1.0,2.0,1.0,0.0,1.0,0.0,0.0,0.0,0.0,0.0,0.0,0.0,0.0,1.0,1.0,1.0,0.0,0.0,0.0,0.0,0.0,0.0,0.0,0.0,0.0,0.0,1.0,0.0,0.0,0.0,0.0,0.0,0.0,0.0,0.0,0.0,0.0,0.0,0.0,0.0,0.0,0.0,0.0,0.0,0.0,0.0,0.0,0.0,0.0,1.0,0.0,0.0,0.0,1.0,0.0,2.0,0.0,0.0,0.0,0.0,4.0,0.0,0.0,1.0,1.0,0.0,0.0,0.0,1.0,0.0,0.0,0.0,1.0,1.0,1.0,1.0,0.0,0.0,0.0,0.0,1.0,0.0,0.0,0.0,0.0,0.0,0.0,0.0,1.0,0.0,0.0,0.0,0.0,0.0,0.0,0.0,0.0,0.0,0.0,0.0,0.0,0.0,0.0,0.0,2.0,0.0,0.0,0.0,0.0,0.0,1.0,0.0,0.0,0.0,0.0,0.0,0.0,0.0,0.0,0.0,0.0,0.0,0.0,0.0,0.0,0.0,0.0,0.0,0.0,0.0,0.0,0.0,0.0,0.0,1.0,1.0,0.0,0.0,1.0,0.0,2.0,0.0,0.0,0.0,0.0,0.0,0.0,0.0,0.0,0.0,0.0,0.0,0.0,0.0,0.0,0.0,0.0,0.0,0.0,0.0,0.0,0.0,0.0,0.0,2.0,0.0,0.0,0.0,0.0,1.0,0.0,0.0,0.0,1.0,0.0,0.0,1.0,0.0,0.0,0.0,2.0,0.0,0.0,0.0,2.0,0.0,0.0,0.0,0.0,0.0,0.0,1.0,1.0,0.0,2.0,0.0,0.0,0.0,0.0,0.0,0.0,0.0,0.0,0.0,0.0,1.0,0.0,0.0,0.0,0.0,2.0,0.0,1.0,0.0,1.0,0.0,0.0,0.0,0.0,0.0,0.0,0.0,0.0,1.0,0.0,0.0,0.0,0.0,0.0,0.0,0.0,0.0,0.0,0.0,1.0,0.0,0.0,0.0,0.0,0.0,1.0,0.0,0.0,1.0,1.0,0.0,0.0,1.0,0.0,0.0,0.0,0.0,0.0,0.0,0.0,0.0,0.0,0.0,0.0,0.0,0.0,1.0,0.0,0.0,0.0,0.0,0.0,1.0,0.0,0.0,0.0,0.0,0.0,1.0,0.0,0.0,0.0,0.0,0.0,0.0,1.0,1.0,1.0,0.0,0.0,1.0,0.0,0.0,0.0,0.0,0.0,0.0,0.0,0.0,1.0,0.0,0.0,0.0,0.0,0.0,0.0,0.0,3.0,0.0,0.0,0.0,0.0,0.0,0.0,0.0,0.0,1.0,0.0,0.0,0.0,0.0,0.0,0.0,1.0,0.0,0.0,0.0,0.0,0.0,0.0,1.0,0.0,0.0,0.0,0.0,0.0,0.0,0.0,0.0,1.0,0.0,0.0,1.0,1.0,0.0,0.0,0.0,0.0,0.0,0.0,0.0,0.0,1.0,0.0,0.0,0.0,0.0,0.0,1.0,0.0,0.0,0.0,2.0,1.0,0.0,0.0,0.0,0.0,0.0,0.0,0.0,0.0,0.0,0.0,0.0,0.0,0.0,0.0,0.0,0.0,0.0,0.0,0.0,0.0,0.0,0.0,0.0,0.0,0.0,1.0,0.0,0.0,0.0,0.0,0.0,0.0,0.0,0.0,0.0,0.0,0.0,1.0,0.0,0.0,0.0,0.0,0.0,0.0,0.0,0.0,0.0,0.0,0.0,0.0,0.0,0.0,0.0,0.0,0.0,0.0,0.0,0.0,0.0,0.0,2.0,0.0,0.0,0.0,0.0,0.0,0.0,0.0,0.0,0.0,0.0,0.0,0.0,0.0,0.0,0.0,0.0,0.0,2.0,0.0,0.0,0.0,0.0,0.0,0.0,1.0,1.0,0.0,0.0,0.0,0.0,0.0,0.0,0.0,0.0,1.0,1.0,0.0,0.0,0.0,0.0,1.0,0.0,0.0],\"type\":\"histogram\",\"xaxis\":\"x2\",\"yaxis\":\"y2\"},{\"marker\":{\"color\":\"rgb(55, 83, 109)\"},\"name\":\"interacciones varias\",\"nbinsx\":50,\"x\":[0.0,1.0,0.0,0.0,6.0,0.0,0.0,0.0,2.0,5.0,13.0,3.0,0.0,0.0,3.0,0.0,1.0,0.0,0.0,2.0,2.0,0.0,7.0,0.0,1.0,2.0,0.0,0.0,0.0,0.0,2.0,0.0,0.0,0.0,1.0,0.0,0.0,5.0,0.0,0.0,3.0,4.0,2.0,1.0,0.0,4.0,0.0,0.0,0.0,0.0,0.0,0.0,1.0,1.0,1.0,0.0,0.0,3.0,0.0,3.0,1.0,2.0,0.0,2.0,5.0,3.0,2.0,6.0,0.0,0.0,0.0,0.0,0.0,0.0,4.0,1.0,0.0,5.0,1.0,1.0,0.0,0.0,0.0,4.0,0.0,1.0,0.0,0.0,2.0,0.0,3.0,7.0,0.0,3.0,0.0,1.0,0.0,2.0,0.0,0.0,0.0,3.0,2.0,0.0,4.0,0.0,2.0,1.0,0.0,3.0,0.0,4.0,0.0,2.0,2.0,0.0,0.0,1.0,1.0,0.0,1.0,2.0,0.0,3.0,0.0,4.0,0.0,0.0,0.0,0.0,4.0,0.0,0.0,1.0,0.0,0.0,0.0,0.0,3.0,0.0,1.0,0.0,0.0,0.0,0.0,0.0,0.0,2.0,0.0,0.0,0.0,0.0,0.0,0.0,0.0,0.0,3.0,1.0,0.0,5.0,1.0,0.0,1.0,0.0,0.0,0.0,2.0,2.0,1.0,3.0,0.0,0.0,2.0,0.0,0.0,1.0,0.0,0.0,0.0,1.0,0.0,0.0,0.0,2.0,0.0,0.0,3.0,2.0,0.0,0.0,3.0,3.0,1.0,2.0,2.0,1.0,0.0,0.0,3.0,0.0,3.0,0.0,2.0,0.0,0.0,3.0,0.0,0.0,0.0,3.0,0.0,0.0,0.0,0.0,1.0,1.0,0.0,0.0,4.0,0.0,3.0,0.0,2.0,2.0,0.0,1.0,1.0,0.0,1.0,0.0,0.0,0.0,3.0,0.0,0.0,2.0,1.0,0.0,0.0,1.0,0.0,2.0,0.0,1.0,0.0,4.0,0.0,0.0,0.0,3.0,3.0,0.0,2.0,0.0,1.0,0.0,1.0,0.0,0.0,0.0,2.0,2.0,1.0,0.0,1.0,0.0,0.0,0.0,0.0,0.0,0.0,4.0,0.0,0.0,5.0,3.0,0.0,0.0,0.0,0.0,0.0,0.0,0.0,2.0,3.0,1.0,5.0,4.0,0.0,2.0,0.0,0.0,1.0,0.0,0.0,9.0,0.0,0.0,0.0,0.0,0.0,2.0,2.0,0.0,0.0,0.0,0.0,0.0,3.0,1.0,2.0,0.0,0.0,0.0,2.0,0.0,0.0,0.0,0.0,0.0,0.0,0.0,0.0,0.0,0.0,0.0,0.0,1.0,0.0,2.0,0.0,0.0,2.0,0.0,1.0,0.0,0.0,0.0,0.0,2.0,0.0,0.0,0.0,0.0,1.0,2.0,0.0,0.0,2.0,0.0,0.0,1.0,3.0,3.0,0.0,0.0,3.0,0.0,0.0,1.0,1.0,0.0,0.0,0.0,0.0,1.0,3.0,0.0,0.0,3.0,2.0,2.0,0.0,11.0,0.0,2.0,3.0,0.0,0.0,0.0,0.0,0.0,3.0,1.0,1.0,3.0,5.0,1.0,0.0,0.0,0.0,2.0,0.0,6.0,0.0,3.0,0.0,0.0,0.0,0.0,0.0,2.0,3.0,0.0,0.0,0.0,2.0,0.0,0.0,1.0,2.0,0.0,0.0,0.0,0.0,0.0,3.0,0.0,3.0,2.0,2.0,0.0,0.0,3.0,1.0,5.0,0.0,0.0,3.0,0.0,0.0,0.0,3.0,2.0,3.0,0.0,0.0,0.0,0.0,2.0,4.0,0.0,0.0,0.0,0.0,0.0,4.0,2.0,0.0,0.0,0.0,1.0,0.0,0.0,3.0,2.0,2.0,7.0,0.0,0.0,0.0,2.0,4.0,0.0,2.0,1.0,9.0,1.0,0.0,0.0,2.0,0.0,2.0,0.0,0.0,0.0,1.0,4.0,0.0,0.0,0.0,3.0,0.0,0.0,0.0,0.0,0.0,7.0,0.0,0.0,0.0,3.0,0.0,0.0,2.0,0.0,1.0,0.0,1.0,3.0,3.0,3.0,0.0,0.0,0.0,0.0,0.0,1.0,7.0,0.0,2.0,0.0,0.0,0.0,2.0,2.0,0.0,0.0,0.0,0.0,0.0,0.0,0.0,0.0,0.0,0.0,0.0,0.0,1.0,0.0,0.0,4.0,2.0,1.0,2.0,7.0,0.0,5.0,1.0,0.0,5.0,0.0,0.0,3.0,0.0,0.0,0.0,0.0,0.0,0.0,0.0,0.0,0.0,0.0,3.0,0.0,0.0,3.0,0.0,0.0,0.0,6.0,2.0,0.0,2.0,0.0,1.0,0.0,2.0,2.0,0.0,0.0,0.0,0.0,0.0,0.0,2.0,0.0,0.0,0.0,0.0,0.0,1.0,0.0,2.0,0.0,0.0,2.0,0.0,0.0,0.0,0.0,4.0,0.0,3.0,0.0,4.0,1.0,0.0,0.0,2.0,3.0,0.0,0.0,1.0,0.0,0.0,0.0,1.0,0.0,2.0,0.0,4.0,4.0,0.0,0.0,0.0,0.0,2.0,3.0,4.0,0.0,0.0,0.0,0.0,0.0,3.0,0.0,0.0,0.0,0.0,0.0,0.0,0.0,4.0,0.0,0.0,0.0,0.0,0.0,0.0,0.0,0.0,1.0,0.0,0.0,2.0,1.0,0.0,0.0,0.0,0.0,0.0,0.0,0.0,3.0,0.0,0.0,1.0,0.0,0.0,0.0,0.0,0.0,0.0,0.0,0.0,0.0,2.0,0.0,2.0,0.0,1.0,0.0,0.0,7.0,0.0,0.0,1.0,0.0,4.0,3.0,1.0,0.0,1.0,1.0,4.0,1.0,0.0,3.0,5.0,0.0,0.0,1.0,0.0,0.0,1.0,0.0,0.0,0.0,0.0,8.0,0.0,1.0,0.0,0.0,0.0,0.0,0.0,0.0,1.0,2.0,0.0,1.0,0.0,0.0,0.0,0.0,6.0,0.0,0.0,0.0,0.0,0.0,0.0,0.0,0.0,0.0,3.0,3.0,0.0,0.0,0.0,0.0,1.0,2.0,1.0,2.0,2.0,1.0,0.0,3.0,0.0,0.0,2.0,0.0,1.0,0.0,3.0,0.0,0.0,2.0,0.0,4.0,0.0,4.0,1.0,0.0,0.0,2.0,0.0,0.0,1.0,4.0,0.0,0.0,0.0,0.0,1.0,0.0,3.0,1.0,0.0,0.0,0.0,1.0,2.0,2.0,0.0,0.0,0.0,0.0,2.0,0.0,1.0,0.0,2.0,0.0,4.0,0.0,0.0,0.0,0.0,3.0,0.0,1.0,1.0,0.0,0.0,0.0,0.0,0.0,0.0,3.0,0.0,2.0,2.0,0.0,0.0,2.0,0.0,0.0,1.0,0.0,0.0,0.0,0.0,0.0,0.0,2.0,2.0,0.0,0.0,2.0,0.0,0.0,0.0,2.0,0.0,0.0,0.0,0.0,2.0,0.0,1.0,0.0,0.0,1.0,0.0,0.0,0.0,0.0,0.0,1.0,1.0,0.0,1.0,1.0,0.0,3.0,2.0,0.0,2.0,0.0,3.0,0.0,0.0,2.0,2.0,4.0,4.0,0.0,1.0,3.0,0.0,0.0,0.0,2.0,0.0,0.0,0.0,3.0,0.0,1.0,2.0,3.0,0.0,0.0,4.0,2.0,2.0,0.0,3.0,0.0,2.0,0.0,8.0,1.0,0.0,2.0,0.0,8.0,3.0,0.0,1.0,0.0,0.0,0.0,0.0,0.0,0.0,1.0,0.0,7.0,0.0,0.0,0.0,2.0,2.0,0.0,0.0,9.0,7.0,3.0,2.0,0.0,0.0,2.0,2.0,20.0,0.0,0.0,0.0,5.0,0.0,0.0,1.0,0.0,0.0,0.0,0.0,0.0,0.0,2.0,0.0,3.0,0.0,1.0,3.0,1.0,0.0,1.0,0.0,1.0,3.0,0.0,0.0,0.0,0.0,0.0,1.0,0.0,1.0,0.0,0.0,0.0,2.0,3.0,7.0,1.0,0.0,0.0,0.0,1.0,0.0,1.0,2.0,0.0,3.0,2.0,0.0,0.0,3.0,3.0,1.0,7.0,0.0,0.0,4.0,2.0,0.0,2.0,0.0,0.0,0.0,0.0,0.0,2.0,0.0,0.0,1.0,0.0,0.0,0.0,0.0,0.0,0.0,1.0,1.0,0.0,2.0,2.0,3.0,2.0,1.0,1.0,0.0,0.0,2.0,1.0,0.0,1.0,7.0,0.0,0.0,0.0,1.0,0.0,2.0,0.0,0.0,0.0,0.0,0.0,0.0,0.0,0.0,0.0,0.0,0.0,0.0,0.0,1.0,3.0,3.0,0.0,0.0,0.0,0.0,4.0,0.0,0.0,1.0,2.0,1.0,0.0,3.0,0.0,0.0,0.0,0.0,0.0,0.0,1.0,0.0,1.0,4.0,2.0,6.0,3.0,2.0,2.0,3.0,0.0,0.0,0.0,3.0,0.0,0.0,0.0,0.0,1.0,3.0,2.0,0.0,0.0,1.0,0.0,0.0,0.0,0.0,0.0,4.0,0.0,0.0,2.0,1.0,3.0,0.0,3.0,0.0,3.0,0.0,2.0,0.0,0.0,0.0,0.0,1.0,0.0,3.0,0.0,0.0,1.0,0.0,0.0,0.0,7.0,2.0,0.0,1.0,2.0,0.0,0.0,0.0,0.0,0.0,2.0,5.0,0.0,2.0,0.0,0.0,0.0,3.0,0.0,1.0,0.0,0.0,0.0,0.0,3.0,1.0,0.0,2.0,2.0,0.0,5.0,0.0,0.0,0.0,1.0,0.0,2.0,1.0,0.0,4.0,1.0,0.0,0.0,0.0,0.0,3.0,1.0,3.0,9.0,2.0,2.0,0.0,0.0,0.0,1.0,0.0,0.0,3.0,0.0,9.0,0.0,0.0,0.0,0.0,1.0,0.0,5.0,0.0,0.0,0.0,0.0,0.0,2.0,2.0,2.0,2.0,0.0,0.0,3.0,0.0,0.0,0.0,3.0,0.0,0.0,0.0,1.0,0.0,2.0,0.0,0.0,0.0,0.0,5.0,0.0,0.0,0.0,0.0,0.0,0.0,3.0,0.0,7.0,2.0,0.0,0.0,2.0,3.0,0.0,2.0,1.0,2.0,0.0,0.0,0.0,2.0,2.0,2.0,2.0,0.0,0.0,0.0,2.0,0.0,2.0,4.0,3.0,3.0,0.0,0.0,0.0,1.0,0.0,4.0,0.0,0.0,0.0,0.0,0.0,0.0,0.0,0.0,1.0,0.0,0.0,2.0,0.0,0.0,2.0,4.0,0.0,0.0,4.0,2.0,0.0,2.0,2.0,0.0,2.0,0.0,0.0,3.0,0.0,0.0,0.0,0.0,5.0,0.0,0.0,0.0,6.0,1.0,3.0,3.0,0.0,0.0,0.0,3.0,3.0,0.0,0.0,0.0,0.0,4.0,0.0,0.0,0.0,0.0,0.0,2.0,3.0,4.0,2.0,5.0,0.0,0.0,0.0,1.0,0.0,3.0,3.0,0.0,0.0,0.0,0.0,0.0,0.0,0.0,1.0,1.0,0.0,0.0,0.0,0.0,0.0,0.0,4.0,3.0,0.0,2.0,0.0,0.0,0.0,7.0,0.0,3.0,1.0,4.0,2.0,2.0,1.0,0.0,1.0,5.0,2.0,2.0,1.0,1.0,1.0,0.0,0.0,0.0,0.0,0.0,0.0,0.0,2.0,1.0,0.0,1.0,0.0,1.0,0.0,0.0,0.0,2.0,0.0,5.0,0.0,0.0,1.0,0.0,0.0,4.0,0.0,1.0,1.0,0.0,1.0,0.0,0.0,5.0,0.0,1.0,0.0,0.0,0.0,2.0,0.0,0.0,0.0,0.0,0.0,1.0,2.0,0.0,0.0,1.0,1.0,2.0,0.0,0.0,2.0,0.0,0.0,3.0,0.0,0.0,1.0,0.0,0.0,0.0,0.0,1.0,1.0,1.0,1.0,0.0,0.0,0.0,1.0,0.0,1.0,0.0,0.0,0.0,0.0,0.0,0.0,2.0,0.0,0.0,0.0,3.0,0.0,1.0,0.0,0.0,1.0,0.0,4.0,0.0,0.0,0.0,0.0,2.0,0.0,0.0,1.0,1.0,0.0,0.0,2.0,0.0,2.0,0.0,0.0,54.0,2.0,0.0,1.0,1.0,1.0,2.0,0.0,1.0,1.0,4.0,2.0,0.0,4.0,3.0,0.0,0.0,1.0,0.0,0.0,1.0,0.0,0.0,0.0,0.0,0.0,1.0,0.0,0.0,0.0,0.0,3.0,0.0,1.0,0.0,0.0,0.0,0.0,0.0,0.0,1.0,0.0,0.0,0.0,0.0,1.0,1.0,0.0,0.0,0.0,1.0,1.0,1.0,2.0,1.0,0.0,0.0,0.0,1.0,0.0,1.0,1.0,1.0,0.0,2.0,0.0,2.0,0.0,0.0,0.0,2.0,2.0,0.0,2.0,2.0,0.0,1.0,1.0,1.0,7.0,1.0,1.0,1.0,0.0,2.0,0.0,0.0,1.0,0.0,1.0,0.0,3.0,0.0,0.0,0.0,0.0,0.0,0.0,1.0,1.0,1.0,0.0,1.0,0.0,0.0,0.0,0.0,0.0,0.0,0.0,0.0,2.0,0.0,0.0,0.0,0.0,0.0,10.0,2.0,0.0,0.0,0.0,0.0,0.0,0.0,0.0,1.0,0.0,0.0,0.0,0.0,0.0,0.0,1.0,1.0,0.0,1.0,0.0,3.0,1.0,1.0,3.0,0.0,0.0,0.0,1.0,1.0,0.0,2.0,0.0,0.0,2.0,1.0,0.0,2.0,0.0,0.0,1.0,0.0,0.0,1.0,1.0,0.0,0.0,0.0,2.0,0.0,2.0,1.0,0.0,0.0,0.0,0.0,0.0,0.0,1.0,1.0,1.0,0.0,0.0,1.0,0.0,2.0,1.0,0.0,1.0,3.0,0.0,1.0,0.0,0.0,1.0,0.0,0.0,2.0,0.0,1.0,0.0,0.0,0.0,0.0,0.0,0.0,2.0,0.0,0.0,1.0,1.0,1.0,1.0,1.0,1.0,1.0,0.0,0.0,0.0,0.0,0.0,0.0,0.0,0.0,1.0,1.0,0.0,0.0,0.0,0.0,0.0,0.0,1.0,1.0,0.0,2.0,1.0,0.0,0.0,0.0,2.0,2.0,0.0,1.0,0.0,0.0,0.0,0.0,1.0,0.0,0.0,0.0,0.0,0.0,1.0,0.0,0.0,1.0,0.0,0.0,0.0,0.0,0.0,0.0,0.0,1.0,1.0,3.0,0.0,0.0,0.0,0.0,0.0,0.0,0.0,1.0,0.0,0.0,0.0,3.0,0.0,1.0,0.0,1.0,2.0,0.0,0.0,0.0,0.0,2.0,0.0,0.0,0.0,0.0,0.0,3.0,0.0,0.0,0.0,0.0,0.0,1.0,0.0,0.0,1.0,0.0,0.0,0.0,0.0,1.0,1.0,1.0,0.0,0.0,1.0,0.0,0.0,5.0,0.0,1.0,0.0,0.0,0.0,0.0,0.0,0.0,0.0,0.0,0.0,2.0,0.0,1.0,5.0,0.0,1.0,1.0,2.0,7.0,0.0,0.0,1.0,3.0,0.0,0.0,0.0,0.0],\"type\":\"histogram\",\"xaxis\":\"x3\",\"yaxis\":\"y3\"},{\"marker\":{\"color\":\"rgb(55, 83, 109)\"},\"name\":\"aperturas de correo\",\"nbinsx\":50,\"x\":[0.0,1.0,0.0,0.0,2.0,0.0,0.0,0.0,2.0,1.0,1.0,3.0,0.0,0.0,3.0,0.0,0.0,0.0,0.0,2.0,2.0,0.0,3.0,0.0,1.0,1.0,0.0,0.0,0.0,0.0,2.0,0.0,0.0,0.0,1.0,0.0,0.0,1.0,0.0,0.0,3.0,1.0,2.0,1.0,0.0,2.0,0.0,0.0,0.0,0.0,0.0,0.0,1.0,1.0,1.0,0.0,0.0,3.0,0.0,1.0,1.0,0.0,0.0,2.0,1.0,3.0,2.0,3.0,0.0,0.0,0.0,0.0,0.0,0.0,4.0,1.0,0.0,5.0,1.0,1.0,0.0,0.0,0.0,4.0,0.0,1.0,0.0,0.0,2.0,0.0,1.0,7.0,0.0,3.0,0.0,1.0,0.0,2.0,0.0,0.0,0.0,3.0,2.0,0.0,4.0,0.0,2.0,1.0,0.0,1.0,0.0,1.0,0.0,2.0,1.0,0.0,0.0,1.0,1.0,0.0,1.0,2.0,0.0,1.0,0.0,4.0,0.0,0.0,0.0,0.0,1.0,0.0,0.0,1.0,0.0,0.0,0.0,0.0,3.0,0.0,1.0,0.0,0.0,0.0,0.0,0.0,0.0,2.0,0.0,0.0,0.0,0.0,0.0,0.0,0.0,0.0,3.0,0.0,0.0,1.0,1.0,0.0,1.0,0.0,0.0,0.0,2.0,2.0,1.0,3.0,0.0,0.0,1.0,0.0,0.0,1.0,0.0,0.0,0.0,1.0,0.0,0.0,0.0,2.0,0.0,0.0,1.0,0.0,0.0,0.0,3.0,3.0,1.0,2.0,1.0,1.0,0.0,0.0,3.0,0.0,1.0,0.0,2.0,0.0,0.0,1.0,0.0,0.0,0.0,1.0,0.0,0.0,0.0,0.0,1.0,1.0,0.0,0.0,4.0,0.0,1.0,0.0,2.0,2.0,0.0,0.0,1.0,0.0,1.0,0.0,0.0,0.0,1.0,0.0,0.0,1.0,1.0,0.0,0.0,1.0,0.0,2.0,0.0,1.0,0.0,2.0,0.0,0.0,0.0,3.0,3.0,0.0,2.0,0.0,1.0,0.0,1.0,0.0,0.0,0.0,2.0,2.0,0.0,0.0,1.0,0.0,0.0,0.0,0.0,0.0,0.0,1.0,0.0,0.0,1.0,1.0,0.0,0.0,0.0,0.0,0.0,0.0,0.0,2.0,3.0,1.0,5.0,2.0,0.0,0.0,0.0,0.0,1.0,0.0,0.0,1.0,0.0,0.0,0.0,0.0,0.0,2.0,2.0,0.0,0.0,0.0,0.0,0.0,3.0,1.0,2.0,0.0,0.0,0.0,2.0,0.0,0.0,0.0,0.0,0.0,0.0,0.0,0.0,0.0,0.0,0.0,0.0,1.0,0.0,2.0,0.0,0.0,2.0,0.0,1.0,0.0,0.0,0.0,0.0,2.0,0.0,0.0,0.0,0.0,1.0,2.0,0.0,0.0,1.0,0.0,0.0,1.0,3.0,1.0,0.0,0.0,3.0,0.0,0.0,1.0,1.0,0.0,0.0,0.0,0.0,1.0,1.0,0.0,0.0,1.0,2.0,2.0,0.0,2.0,0.0,2.0,1.0,0.0,0.0,0.0,0.0,0.0,3.0,1.0,1.0,0.0,1.0,1.0,0.0,0.0,0.0,2.0,0.0,6.0,0.0,3.0,0.0,0.0,0.0,0.0,0.0,0.0,1.0,0.0,0.0,0.0,2.0,0.0,0.0,1.0,2.0,0.0,0.0,0.0,0.0,0.0,3.0,0.0,1.0,2.0,2.0,0.0,0.0,3.0,1.0,1.0,0.0,0.0,3.0,0.0,0.0,0.0,1.0,2.0,1.0,0.0,0.0,0.0,0.0,0.0,2.0,0.0,0.0,0.0,0.0,0.0,1.0,2.0,0.0,0.0,0.0,1.0,0.0,0.0,2.0,1.0,2.0,3.0,0.0,0.0,0.0,2.0,4.0,0.0,2.0,1.0,3.0,1.0,0.0,0.0,2.0,0.0,0.0,0.0,0.0,0.0,1.0,4.0,0.0,0.0,0.0,1.0,0.0,0.0,0.0,0.0,0.0,1.0,0.0,0.0,0.0,1.0,0.0,0.0,2.0,0.0,0.0,0.0,1.0,3.0,3.0,3.0,0.0,0.0,0.0,0.0,0.0,1.0,2.0,0.0,2.0,0.0,0.0,0.0,1.0,1.0,0.0,0.0,0.0,0.0,0.0,0.0,0.0,0.0,0.0,0.0,0.0,0.0,1.0,0.0,0.0,1.0,2.0,1.0,2.0,3.0,0.0,1.0,1.0,0.0,1.0,0.0,0.0,3.0,0.0,0.0,0.0,0.0,0.0,0.0,0.0,0.0,0.0,0.0,3.0,0.0,0.0,3.0,0.0,0.0,0.0,2.0,2.0,0.0,0.0,0.0,1.0,0.0,2.0,2.0,0.0,0.0,0.0,0.0,0.0,0.0,2.0,0.0,0.0,0.0,0.0,0.0,1.0,0.0,2.0,0.0,0.0,2.0,0.0,0.0,0.0,0.0,1.0,0.0,3.0,0.0,2.0,1.0,0.0,0.0,2.0,1.0,0.0,0.0,1.0,0.0,0.0,0.0,1.0,0.0,2.0,0.0,4.0,4.0,0.0,0.0,0.0,0.0,2.0,3.0,4.0,0.0,0.0,0.0,0.0,0.0,1.0,0.0,0.0,0.0,0.0,0.0,0.0,0.0,1.0,0.0,0.0,0.0,0.0,0.0,0.0,0.0,0.0,1.0,0.0,0.0,1.0,1.0,0.0,0.0,0.0,0.0,0.0,0.0,0.0,1.0,0.0,0.0,1.0,0.0,0.0,0.0,0.0,0.0,0.0,0.0,0.0,0.0,2.0,0.0,2.0,0.0,1.0,0.0,0.0,1.0,0.0,0.0,1.0,0.0,2.0,3.0,1.0,0.0,1.0,1.0,0.0,1.0,0.0,1.0,2.0,0.0,0.0,1.0,0.0,0.0,1.0,0.0,0.0,0.0,0.0,2.0,0.0,0.0,0.0,0.0,0.0,0.0,0.0,0.0,1.0,2.0,0.0,1.0,0.0,0.0,0.0,0.0,6.0,0.0,0.0,0.0,0.0,0.0,0.0,0.0,0.0,0.0,3.0,3.0,0.0,0.0,0.0,0.0,1.0,2.0,1.0,2.0,2.0,1.0,0.0,3.0,0.0,0.0,2.0,0.0,1.0,0.0,3.0,0.0,0.0,2.0,0.0,2.0,0.0,4.0,1.0,0.0,0.0,2.0,0.0,0.0,1.0,4.0,0.0,0.0,0.0,0.0,1.0,0.0,3.0,1.0,0.0,0.0,0.0,1.0,2.0,0.0,0.0,0.0,0.0,0.0,2.0,0.0,1.0,0.0,2.0,0.0,2.0,0.0,0.0,0.0,0.0,3.0,0.0,0.0,1.0,0.0,0.0,0.0,0.0,0.0,0.0,1.0,0.0,2.0,2.0,0.0,0.0,0.0,0.0,0.0,1.0,0.0,0.0,0.0,0.0,0.0,0.0,2.0,2.0,0.0,0.0,2.0,0.0,0.0,0.0,2.0,0.0,0.0,0.0,0.0,2.0,0.0,1.0,0.0,0.0,1.0,0.0,0.0,0.0,0.0,0.0,1.0,1.0,0.0,1.0,1.0,0.0,3.0,2.0,0.0,2.0,0.0,3.0,0.0,0.0,2.0,2.0,4.0,4.0,0.0,0.0,3.0,0.0,0.0,0.0,2.0,0.0,0.0,0.0,1.0,0.0,0.0,2.0,3.0,0.0,0.0,2.0,2.0,2.0,0.0,0.0,0.0,2.0,0.0,2.0,1.0,0.0,2.0,0.0,2.0,3.0,0.0,1.0,0.0,0.0,0.0,0.0,0.0,0.0,1.0,0.0,1.0,0.0,0.0,0.0,2.0,2.0,0.0,0.0,1.0,3.0,3.0,2.0,0.0,0.0,2.0,2.0,0.0,0.0,0.0,0.0,5.0,0.0,0.0,1.0,0.0,0.0,0.0,0.0,0.0,0.0,1.0,0.0,3.0,0.0,1.0,3.0,0.0,0.0,1.0,0.0,0.0,3.0,0.0,0.0,0.0,0.0,0.0,1.0,0.0,0.0,0.0,0.0,0.0,0.0,3.0,1.0,1.0,0.0,0.0,0.0,1.0,0.0,1.0,2.0,0.0,3.0,0.0,0.0,0.0,3.0,3.0,1.0,1.0,0.0,0.0,1.0,2.0,0.0,2.0,0.0,0.0,0.0,0.0,0.0,1.0,0.0,0.0,0.0,0.0,0.0,0.0,0.0,0.0,0.0,1.0,0.0,0.0,2.0,0.0,1.0,2.0,1.0,1.0,0.0,0.0,2.0,1.0,0.0,1.0,2.0,0.0,0.0,0.0,1.0,0.0,2.0,0.0,0.0,0.0,0.0,0.0,0.0,0.0,0.0,0.0,0.0,0.0,0.0,0.0,1.0,3.0,3.0,0.0,0.0,0.0,0.0,1.0,0.0,0.0,1.0,0.0,1.0,0.0,3.0,0.0,0.0,0.0,0.0,0.0,0.0,1.0,0.0,1.0,4.0,2.0,2.0,3.0,0.0,2.0,3.0,0.0,0.0,0.0,1.0,0.0,0.0,0.0,0.0,1.0,1.0,2.0,0.0,0.0,1.0,0.0,0.0,0.0,0.0,0.0,4.0,0.0,0.0,2.0,1.0,1.0,0.0,3.0,0.0,1.0,0.0,0.0,0.0,0.0,0.0,0.0,0.0,0.0,1.0,0.0,0.0,1.0,0.0,0.0,0.0,1.0,2.0,0.0,1.0,2.0,0.0,0.0,0.0,0.0,0.0,1.0,5.0,0.0,2.0,0.0,0.0,0.0,1.0,0.0,1.0,0.0,0.0,0.0,0.0,3.0,1.0,0.0,2.0,2.0,0.0,1.0,0.0,0.0,0.0,1.0,0.0,1.0,0.0,0.0,1.0,1.0,0.0,0.0,0.0,0.0,3.0,1.0,0.0,2.0,2.0,2.0,0.0,0.0,0.0,1.0,0.0,0.0,1.0,0.0,2.0,0.0,0.0,0.0,0.0,1.0,0.0,5.0,0.0,0.0,0.0,0.0,0.0,0.0,2.0,2.0,2.0,0.0,0.0,3.0,0.0,0.0,0.0,3.0,0.0,0.0,0.0,1.0,0.0,2.0,0.0,0.0,0.0,0.0,1.0,0.0,0.0,0.0,0.0,0.0,0.0,1.0,0.0,1.0,2.0,0.0,0.0,2.0,3.0,0.0,2.0,0.0,2.0,0.0,0.0,0.0,2.0,0.0,2.0,2.0,0.0,0.0,0.0,2.0,0.0,2.0,4.0,3.0,1.0,0.0,0.0,0.0,0.0,0.0,2.0,0.0,0.0,0.0,0.0,0.0,0.0,0.0,0.0,0.0,0.0,0.0,2.0,0.0,0.0,2.0,4.0,0.0,0.0,1.0,2.0,0.0,2.0,2.0,0.0,2.0,0.0,0.0,1.0,0.0,0.0,0.0,0.0,2.0,0.0,0.0,0.0,1.0,1.0,1.0,3.0,0.0,0.0,0.0,3.0,1.0,0.0,0.0,0.0,0.0,4.0,0.0,0.0,0.0,0.0,0.0,2.0,3.0,1.0,2.0,2.0,0.0,0.0,0.0,1.0,0.0,1.0,1.0,0.0,0.0,0.0,0.0,0.0,0.0,0.0,1.0,1.0,0.0,0.0,0.0,0.0,0.0,0.0,2.0,3.0,0.0,2.0,0.0,0.0,0.0,3.0,0.0,3.0,1.0,4.0,2.0,1.0,1.0,0.0,1.0,1.0,2.0,1.0,1.0,1.0,1.0,0.0,0.0,0.0,0.0,0.0,0.0,0.0,2.0,1.0,0.0,1.0,0.0,1.0,0.0,0.0,0.0,2.0,0.0,5.0,0.0,0.0,1.0,0.0,0.0,1.0,0.0,1.0,1.0,0.0,1.0,0.0,0.0,1.0,0.0,1.0,0.0,0.0,0.0,1.0,0.0,0.0,0.0,0.0,0.0,1.0,2.0,0.0,0.0,1.0,1.0,1.0,0.0,0.0,2.0,0.0,0.0,3.0,0.0,0.0,1.0,0.0,0.0,0.0,0.0,1.0,1.0,1.0,1.0,0.0,0.0,0.0,1.0,0.0,1.0,0.0,0.0,0.0,0.0,0.0,0.0,2.0,0.0,0.0,0.0,1.0,0.0,1.0,0.0,0.0,1.0,0.0,1.0,0.0,0.0,0.0,0.0,2.0,0.0,0.0,1.0,1.0,0.0,0.0,2.0,0.0,2.0,0.0,0.0,1.0,2.0,0.0,1.0,1.0,1.0,2.0,0.0,1.0,1.0,2.0,1.0,0.0,4.0,3.0,0.0,0.0,1.0,0.0,0.0,1.0,0.0,0.0,0.0,0.0,0.0,1.0,0.0,0.0,0.0,0.0,3.0,0.0,1.0,0.0,0.0,0.0,0.0,0.0,0.0,1.0,0.0,0.0,0.0,0.0,1.0,1.0,0.0,0.0,0.0,1.0,1.0,1.0,0.0,1.0,0.0,0.0,0.0,1.0,0.0,1.0,1.0,1.0,0.0,2.0,0.0,2.0,0.0,0.0,0.0,1.0,2.0,0.0,1.0,1.0,0.0,1.0,1.0,1.0,1.0,1.0,1.0,1.0,0.0,2.0,0.0,0.0,1.0,0.0,1.0,0.0,1.0,0.0,0.0,0.0,0.0,0.0,0.0,1.0,1.0,1.0,0.0,1.0,0.0,0.0,0.0,0.0,0.0,0.0,0.0,0.0,2.0,0.0,0.0,0.0,0.0,0.0,5.0,2.0,0.0,0.0,0.0,0.0,0.0,0.0,0.0,1.0,0.0,0.0,0.0,0.0,0.0,0.0,1.0,1.0,0.0,1.0,0.0,3.0,1.0,1.0,3.0,0.0,0.0,0.0,1.0,1.0,0.0,2.0,0.0,0.0,1.0,1.0,0.0,2.0,0.0,0.0,1.0,0.0,0.0,1.0,1.0,0.0,0.0,0.0,0.0,0.0,1.0,1.0,0.0,0.0,0.0,0.0,0.0,0.0,1.0,1.0,1.0,0.0,0.0,1.0,0.0,0.0,1.0,0.0,1.0,3.0,0.0,1.0,0.0,0.0,0.0,0.0,0.0,1.0,0.0,1.0,0.0,0.0,0.0,0.0,0.0,0.0,2.0,0.0,0.0,1.0,1.0,1.0,1.0,1.0,1.0,1.0,0.0,0.0,0.0,0.0,0.0,0.0,0.0,0.0,1.0,1.0,0.0,0.0,0.0,0.0,0.0,0.0,1.0,1.0,0.0,2.0,1.0,0.0,0.0,0.0,2.0,0.0,0.0,1.0,0.0,0.0,0.0,0.0,1.0,0.0,0.0,0.0,0.0,0.0,1.0,0.0,0.0,1.0,0.0,0.0,0.0,0.0,0.0,0.0,0.0,1.0,1.0,0.0,0.0,0.0,0.0,0.0,0.0,0.0,0.0,1.0,0.0,0.0,0.0,1.0,0.0,1.0,0.0,1.0,1.0,0.0,0.0,0.0,0.0,2.0,0.0,0.0,0.0,0.0,0.0,1.0,0.0,0.0,0.0,0.0,0.0,1.0,0.0,0.0,1.0,0.0,0.0,0.0,0.0,1.0,1.0,1.0,0.0,0.0,1.0,0.0,0.0,5.0,0.0,1.0,0.0,0.0,0.0,0.0,0.0,0.0,0.0,0.0,0.0,1.0,0.0,1.0,1.0,0.0,1.0,1.0,2.0,2.0,0.0,0.0,1.0,3.0,0.0,0.0,0.0,0.0],\"type\":\"histogram\",\"xaxis\":\"x4\",\"yaxis\":\"y4\"}],                        {\"template\":{\"data\":{\"histogram2dcontour\":[{\"type\":\"histogram2dcontour\",\"colorbar\":{\"outlinewidth\":0,\"ticks\":\"\"},\"colorscale\":[[0.0,\"#0d0887\"],[0.1111111111111111,\"#46039f\"],[0.2222222222222222,\"#7201a8\"],[0.3333333333333333,\"#9c179e\"],[0.4444444444444444,\"#bd3786\"],[0.5555555555555556,\"#d8576b\"],[0.6666666666666666,\"#ed7953\"],[0.7777777777777778,\"#fb9f3a\"],[0.8888888888888888,\"#fdca26\"],[1.0,\"#f0f921\"]]}],\"choropleth\":[{\"type\":\"choropleth\",\"colorbar\":{\"outlinewidth\":0,\"ticks\":\"\"}}],\"histogram2d\":[{\"type\":\"histogram2d\",\"colorbar\":{\"outlinewidth\":0,\"ticks\":\"\"},\"colorscale\":[[0.0,\"#0d0887\"],[0.1111111111111111,\"#46039f\"],[0.2222222222222222,\"#7201a8\"],[0.3333333333333333,\"#9c179e\"],[0.4444444444444444,\"#bd3786\"],[0.5555555555555556,\"#d8576b\"],[0.6666666666666666,\"#ed7953\"],[0.7777777777777778,\"#fb9f3a\"],[0.8888888888888888,\"#fdca26\"],[1.0,\"#f0f921\"]]}],\"heatmap\":[{\"type\":\"heatmap\",\"colorbar\":{\"outlinewidth\":0,\"ticks\":\"\"},\"colorscale\":[[0.0,\"#0d0887\"],[0.1111111111111111,\"#46039f\"],[0.2222222222222222,\"#7201a8\"],[0.3333333333333333,\"#9c179e\"],[0.4444444444444444,\"#bd3786\"],[0.5555555555555556,\"#d8576b\"],[0.6666666666666666,\"#ed7953\"],[0.7777777777777778,\"#fb9f3a\"],[0.8888888888888888,\"#fdca26\"],[1.0,\"#f0f921\"]]}],\"heatmapgl\":[{\"type\":\"heatmapgl\",\"colorbar\":{\"outlinewidth\":0,\"ticks\":\"\"},\"colorscale\":[[0.0,\"#0d0887\"],[0.1111111111111111,\"#46039f\"],[0.2222222222222222,\"#7201a8\"],[0.3333333333333333,\"#9c179e\"],[0.4444444444444444,\"#bd3786\"],[0.5555555555555556,\"#d8576b\"],[0.6666666666666666,\"#ed7953\"],[0.7777777777777778,\"#fb9f3a\"],[0.8888888888888888,\"#fdca26\"],[1.0,\"#f0f921\"]]}],\"contourcarpet\":[{\"type\":\"contourcarpet\",\"colorbar\":{\"outlinewidth\":0,\"ticks\":\"\"}}],\"contour\":[{\"type\":\"contour\",\"colorbar\":{\"outlinewidth\":0,\"ticks\":\"\"},\"colorscale\":[[0.0,\"#0d0887\"],[0.1111111111111111,\"#46039f\"],[0.2222222222222222,\"#7201a8\"],[0.3333333333333333,\"#9c179e\"],[0.4444444444444444,\"#bd3786\"],[0.5555555555555556,\"#d8576b\"],[0.6666666666666666,\"#ed7953\"],[0.7777777777777778,\"#fb9f3a\"],[0.8888888888888888,\"#fdca26\"],[1.0,\"#f0f921\"]]}],\"surface\":[{\"type\":\"surface\",\"colorbar\":{\"outlinewidth\":0,\"ticks\":\"\"},\"colorscale\":[[0.0,\"#0d0887\"],[0.1111111111111111,\"#46039f\"],[0.2222222222222222,\"#7201a8\"],[0.3333333333333333,\"#9c179e\"],[0.4444444444444444,\"#bd3786\"],[0.5555555555555556,\"#d8576b\"],[0.6666666666666666,\"#ed7953\"],[0.7777777777777778,\"#fb9f3a\"],[0.8888888888888888,\"#fdca26\"],[1.0,\"#f0f921\"]]}],\"mesh3d\":[{\"type\":\"mesh3d\",\"colorbar\":{\"outlinewidth\":0,\"ticks\":\"\"}}],\"scatter\":[{\"fillpattern\":{\"fillmode\":\"overlay\",\"size\":10,\"solidity\":0.2},\"type\":\"scatter\"}],\"parcoords\":[{\"type\":\"parcoords\",\"line\":{\"colorbar\":{\"outlinewidth\":0,\"ticks\":\"\"}}}],\"scatterpolargl\":[{\"type\":\"scatterpolargl\",\"marker\":{\"colorbar\":{\"outlinewidth\":0,\"ticks\":\"\"}}}],\"bar\":[{\"error_x\":{\"color\":\"#2a3f5f\"},\"error_y\":{\"color\":\"#2a3f5f\"},\"marker\":{\"line\":{\"color\":\"#E5ECF6\",\"width\":0.5},\"pattern\":{\"fillmode\":\"overlay\",\"size\":10,\"solidity\":0.2}},\"type\":\"bar\"}],\"scattergeo\":[{\"type\":\"scattergeo\",\"marker\":{\"colorbar\":{\"outlinewidth\":0,\"ticks\":\"\"}}}],\"scatterpolar\":[{\"type\":\"scatterpolar\",\"marker\":{\"colorbar\":{\"outlinewidth\":0,\"ticks\":\"\"}}}],\"histogram\":[{\"marker\":{\"pattern\":{\"fillmode\":\"overlay\",\"size\":10,\"solidity\":0.2}},\"type\":\"histogram\"}],\"scattergl\":[{\"type\":\"scattergl\",\"marker\":{\"colorbar\":{\"outlinewidth\":0,\"ticks\":\"\"}}}],\"scatter3d\":[{\"type\":\"scatter3d\",\"line\":{\"colorbar\":{\"outlinewidth\":0,\"ticks\":\"\"}},\"marker\":{\"colorbar\":{\"outlinewidth\":0,\"ticks\":\"\"}}}],\"scattermapbox\":[{\"type\":\"scattermapbox\",\"marker\":{\"colorbar\":{\"outlinewidth\":0,\"ticks\":\"\"}}}],\"scatterternary\":[{\"type\":\"scatterternary\",\"marker\":{\"colorbar\":{\"outlinewidth\":0,\"ticks\":\"\"}}}],\"scattercarpet\":[{\"type\":\"scattercarpet\",\"marker\":{\"colorbar\":{\"outlinewidth\":0,\"ticks\":\"\"}}}],\"carpet\":[{\"aaxis\":{\"endlinecolor\":\"#2a3f5f\",\"gridcolor\":\"white\",\"linecolor\":\"white\",\"minorgridcolor\":\"white\",\"startlinecolor\":\"#2a3f5f\"},\"baxis\":{\"endlinecolor\":\"#2a3f5f\",\"gridcolor\":\"white\",\"linecolor\":\"white\",\"minorgridcolor\":\"white\",\"startlinecolor\":\"#2a3f5f\"},\"type\":\"carpet\"}],\"table\":[{\"cells\":{\"fill\":{\"color\":\"#EBF0F8\"},\"line\":{\"color\":\"white\"}},\"header\":{\"fill\":{\"color\":\"#C8D4E3\"},\"line\":{\"color\":\"white\"}},\"type\":\"table\"}],\"barpolar\":[{\"marker\":{\"line\":{\"color\":\"#E5ECF6\",\"width\":0.5},\"pattern\":{\"fillmode\":\"overlay\",\"size\":10,\"solidity\":0.2}},\"type\":\"barpolar\"}],\"pie\":[{\"automargin\":true,\"type\":\"pie\"}]},\"layout\":{\"autotypenumbers\":\"strict\",\"colorway\":[\"#636efa\",\"#EF553B\",\"#00cc96\",\"#ab63fa\",\"#FFA15A\",\"#19d3f3\",\"#FF6692\",\"#B6E880\",\"#FF97FF\",\"#FECB52\"],\"font\":{\"color\":\"#2a3f5f\"},\"hovermode\":\"closest\",\"hoverlabel\":{\"align\":\"left\"},\"paper_bgcolor\":\"white\",\"plot_bgcolor\":\"#E5ECF6\",\"polar\":{\"bgcolor\":\"#E5ECF6\",\"angularaxis\":{\"gridcolor\":\"white\",\"linecolor\":\"white\",\"ticks\":\"\"},\"radialaxis\":{\"gridcolor\":\"white\",\"linecolor\":\"white\",\"ticks\":\"\"}},\"ternary\":{\"bgcolor\":\"#E5ECF6\",\"aaxis\":{\"gridcolor\":\"white\",\"linecolor\":\"white\",\"ticks\":\"\"},\"baxis\":{\"gridcolor\":\"white\",\"linecolor\":\"white\",\"ticks\":\"\"},\"caxis\":{\"gridcolor\":\"white\",\"linecolor\":\"white\",\"ticks\":\"\"}},\"coloraxis\":{\"colorbar\":{\"outlinewidth\":0,\"ticks\":\"\"}},\"colorscale\":{\"sequential\":[[0.0,\"#0d0887\"],[0.1111111111111111,\"#46039f\"],[0.2222222222222222,\"#7201a8\"],[0.3333333333333333,\"#9c179e\"],[0.4444444444444444,\"#bd3786\"],[0.5555555555555556,\"#d8576b\"],[0.6666666666666666,\"#ed7953\"],[0.7777777777777778,\"#fb9f3a\"],[0.8888888888888888,\"#fdca26\"],[1.0,\"#f0f921\"]],\"sequentialminus\":[[0.0,\"#0d0887\"],[0.1111111111111111,\"#46039f\"],[0.2222222222222222,\"#7201a8\"],[0.3333333333333333,\"#9c179e\"],[0.4444444444444444,\"#bd3786\"],[0.5555555555555556,\"#d8576b\"],[0.6666666666666666,\"#ed7953\"],[0.7777777777777778,\"#fb9f3a\"],[0.8888888888888888,\"#fdca26\"],[1.0,\"#f0f921\"]],\"diverging\":[[0,\"#8e0152\"],[0.1,\"#c51b7d\"],[0.2,\"#de77ae\"],[0.3,\"#f1b6da\"],[0.4,\"#fde0ef\"],[0.5,\"#f7f7f7\"],[0.6,\"#e6f5d0\"],[0.7,\"#b8e186\"],[0.8,\"#7fbc41\"],[0.9,\"#4d9221\"],[1,\"#276419\"]]},\"xaxis\":{\"gridcolor\":\"white\",\"linecolor\":\"white\",\"ticks\":\"\",\"title\":{\"standoff\":15},\"zerolinecolor\":\"white\",\"automargin\":true,\"zerolinewidth\":2},\"yaxis\":{\"gridcolor\":\"white\",\"linecolor\":\"white\",\"ticks\":\"\",\"title\":{\"standoff\":15},\"zerolinecolor\":\"white\",\"automargin\":true,\"zerolinewidth\":2},\"scene\":{\"xaxis\":{\"backgroundcolor\":\"#E5ECF6\",\"gridcolor\":\"white\",\"linecolor\":\"white\",\"showbackground\":true,\"ticks\":\"\",\"zerolinecolor\":\"white\",\"gridwidth\":2},\"yaxis\":{\"backgroundcolor\":\"#E5ECF6\",\"gridcolor\":\"white\",\"linecolor\":\"white\",\"showbackground\":true,\"ticks\":\"\",\"zerolinecolor\":\"white\",\"gridwidth\":2},\"zaxis\":{\"backgroundcolor\":\"#E5ECF6\",\"gridcolor\":\"white\",\"linecolor\":\"white\",\"showbackground\":true,\"ticks\":\"\",\"zerolinecolor\":\"white\",\"gridwidth\":2}},\"shapedefaults\":{\"line\":{\"color\":\"#2a3f5f\"}},\"annotationdefaults\":{\"arrowcolor\":\"#2a3f5f\",\"arrowhead\":0,\"arrowwidth\":1},\"geo\":{\"bgcolor\":\"white\",\"landcolor\":\"#E5ECF6\",\"subunitcolor\":\"white\",\"showland\":true,\"showlakes\":true,\"lakecolor\":\"white\"},\"title\":{\"x\":0.05},\"mapbox\":{\"style\":\"light\"}}},\"xaxis\":{\"anchor\":\"y\",\"domain\":[0.0,0.45],\"title\":{\"text\":\"formularios enviados\"}},\"yaxis\":{\"anchor\":\"x\",\"domain\":[0.625,1.0],\"title\":{\"text\":\"Frec\"}},\"xaxis2\":{\"anchor\":\"y2\",\"domain\":[0.55,1.0],\"title\":{\"text\":\"visitas a la pagina\"}},\"yaxis2\":{\"anchor\":\"x2\",\"domain\":[0.625,1.0],\"title\":{\"text\":\"Frec\"}},\"xaxis3\":{\"anchor\":\"y3\",\"domain\":[0.0,0.45],\"title\":{\"text\":\"interacciones varias\"}},\"yaxis3\":{\"anchor\":\"x3\",\"domain\":[0.0,0.375],\"title\":{\"text\":\"Frec\"}},\"xaxis4\":{\"anchor\":\"y4\",\"domain\":[0.55,1.0],\"title\":{\"text\":\"aperturas de correo\"}},\"yaxis4\":{\"anchor\":\"x4\",\"domain\":[0.0,0.375],\"title\":{\"text\":\"Frec\"}},\"annotations\":[{\"font\":{\"size\":16},\"showarrow\":false,\"text\":\"formularios enviados\",\"x\":0.225,\"xanchor\":\"center\",\"xref\":\"paper\",\"y\":1.0,\"yanchor\":\"bottom\",\"yref\":\"paper\"},{\"font\":{\"size\":16},\"showarrow\":false,\"text\":\"visitas a la pagina\",\"x\":0.775,\"xanchor\":\"center\",\"xref\":\"paper\",\"y\":1.0,\"yanchor\":\"bottom\",\"yref\":\"paper\"},{\"font\":{\"size\":16},\"showarrow\":false,\"text\":\"interacciones varias\",\"x\":0.225,\"xanchor\":\"center\",\"xref\":\"paper\",\"y\":0.375,\"yanchor\":\"bottom\",\"yref\":\"paper\"},{\"font\":{\"size\":16},\"showarrow\":false,\"text\":\"aperturas de correo\",\"x\":0.775,\"xanchor\":\"center\",\"xref\":\"paper\",\"y\":0.375,\"yanchor\":\"bottom\",\"yref\":\"paper\"}],\"title\":{\"text\":\"Distribution of numerical variables\"},\"height\":600,\"showlegend\":false,\"bargap\":0.15,\"bargroupgap\":0.1},                        {\"responsive\": true}                    ).then(function(){\n",
       "                            \n",
       "var gd = document.getElementById('781c5664-d453-4518-b04a-25ab0108f9fd');\n",
       "var x = new MutationObserver(function (mutations, observer) {{\n",
       "        var display = window.getComputedStyle(gd).display;\n",
       "        if (!display || display === 'none') {{\n",
       "            console.log([gd, 'removed!']);\n",
       "            Plotly.purge(gd);\n",
       "            observer.disconnect();\n",
       "        }}\n",
       "}});\n",
       "\n",
       "// Listen for the removal of the full notebook cells\n",
       "var notebookContainer = gd.closest('#notebook-container');\n",
       "if (notebookContainer) {{\n",
       "    x.observe(notebookContainer, {childList: true});\n",
       "}}\n",
       "\n",
       "// Listen for the clearing of the current output cell\n",
       "var outputEl = gd.closest('.output');\n",
       "if (outputEl) {{\n",
       "    x.observe(outputEl, {childList: true});\n",
       "}}\n",
       "\n",
       "                        })                };                });            </script>        </div>"
      ]
     },
     "metadata": {},
     "output_type": "display_data"
    }
   ],
   "source": [
    "import plotly.graph_objects as go\n",
    "from plotly.subplots import make_subplots\n",
    "import math\n",
    "# Definir las columnas numéricas\n",
    "num_columns = ['formularios enviados', 'visitas a la pagina', 'interacciones varias' , 'aperturas de correo']\n",
    "# Calcular filas y columnas para subplot\n",
    "n_cols = 2\n",
    "n_rows = math.ceil(len(num_columns) / n_cols)\n",
    "fig = make_subplots(rows=n_rows, cols=n_cols, subplot_titles=num_columns)\n",
    "# Histogramas para cada variable numérica\n",
    "for i, col in enumerate(num_columns):\n",
    "    curr_row = i // n_cols + 1\n",
    "    curr_col = i % n_cols + 1\n",
    "    fig.add_trace(go.Histogram(\n",
    "        x=df[col],\n",
    "        name=col,\n",
    "        marker_color='rgb(55, 83, 109)',\n",
    "        nbinsx=50  # Ajustar el número de bins\n",
    "    ), row=curr_row, col=curr_col)\n",
    "    # Título y etiquetas de ejes\n",
    "    fig.update_xaxes(title_text=col, row=curr_row, col=curr_col)\n",
    "    fig.update_yaxes(title_text=\"Frec\", row=curr_row, col=curr_col)\n",
    "# Actualizar layout\n",
    "fig.update_layout(\n",
    "    title_text='Distribution of numerical variables',\n",
    "    height=300 * n_rows,  # Reducir la altura aquí para eliminar el espacio en blanco\n",
    "    showlegend=False,\n",
    "    bargap=0.15, \n",
    "    bargroupgap=0.1\n",
    ")\n",
    "fig.show()\n"
   ]
  },
  {
   "cell_type": "markdown",
   "id": "61b4dff2",
   "metadata": {
    "papermill": {
     "duration": 0.032337,
     "end_time": "2023-06-02T23:57:00.681666",
     "exception": false,
     "start_time": "2023-06-02T23:57:00.649329",
     "status": "completed"
    },
    "tags": []
   },
   "source": [
    "<div style=\"border-radius:13px; border:#FFB800 solid; padding: 15px; background-color: #FAFFFF; font-size:100%; text-align:left\">\n",
    "    \n",
    "* We calculate the correlation matrix\n"
   ]
  },
  {
   "cell_type": "code",
   "execution_count": 22,
   "id": "8304a780",
   "metadata": {
    "_kg_hide-input": true,
    "execution": {
     "iopub.execute_input": "2023-06-02T23:57:00.746701Z",
     "iopub.status.busy": "2023-06-02T23:57:00.746296Z",
     "iopub.status.idle": "2023-06-02T23:57:01.358659Z",
     "shell.execute_reply": "2023-06-02T23:57:01.357395Z"
    },
    "jupyter": {
     "source_hidden": true
    },
    "papermill": {
     "duration": 0.647528,
     "end_time": "2023-06-02T23:57:01.361097",
     "exception": false,
     "start_time": "2023-06-02T23:57:00.713569",
     "status": "completed"
    },
    "tags": []
   },
   "outputs": [
    {
     "data": {
      "text/plain": [
       "<Axes: >"
      ]
     },
     "execution_count": 22,
     "metadata": {},
     "output_type": "execute_result"
    },
    {
     "data": {
      "image/png": "[encoded data removed]",
      "text/plain": [
       "<Figure size 640x480 with 2 Axes>"
      ]
     },
     "metadata": {},
     "output_type": "display_data"
    }
   ],
   "source": [
    "correlation_matrix = df[['formularios enviados', 'visitas a la pagina', 'interacciones varias' , 'aperturas de correo']].corr()\n",
    "sns.heatmap(correlation_matrix, annot=True)\n"
   ]
  },
  {
   "cell_type": "markdown",
   "id": "4c6892bf",
   "metadata": {
    "papermill": {
     "duration": 0.031286,
     "end_time": "2023-06-02T23:57:01.424194",
     "exception": false,
     "start_time": "2023-06-02T23:57:01.392908",
     "status": "completed"
    },
    "tags": []
   },
   "source": [
    "<div style=\"border-radius:13px; border:#FFB800 solid; padding: 15px; background-color: #FAFFFF; font-size:105%; text-align:left\">\n",
    "\n",
    "* Visits to the page is a previous instance in the sales funnel and has a significant correlation with form shipments.\n",
    "\n",
    "\n",
    "* Despite the similarities, they are different instances and I consider it relevant to differentiate them in the model."
   ]
  },
  {
   "cell_type": "markdown",
   "id": "65d1d778",
   "metadata": {
    "papermill": {
     "duration": 0.031961,
     "end_time": "2023-06-02T23:57:01.488801",
     "exception": false,
     "start_time": "2023-06-02T23:57:01.456840",
     "status": "completed"
    },
    "tags": []
   },
   "source": [
    "<p style=\"font-family:JetBrains Mono; font-weight:bold; letter-spacing: 2px; color:#05041B; font-size:140%; text-align:left;padding: 0px; border-bottom: 3px solid #FFB800\"></p>"
   ]
  },
  {
   "cell_type": "markdown",
   "id": "63d20d20",
   "metadata": {
    "papermill": {
     "duration": 0.031412,
     "end_time": "2023-06-02T23:57:01.551946",
     "exception": false,
     "start_time": "2023-06-02T23:57:01.520534",
     "status": "completed"
    },
    "tags": []
   },
   "source": [
    "<div style=\"border-radius:13px; border:#FFB800 solid; padding: 15px; background-color: #FAFFFF; font-size:108%; text-align:left\">\n",
    "    \n",
    "<h3 align=\"left\"><font color='#05041B'>\n",
    "</font>🧪 Variable Objective  (Current state of the lead : \"v_target\")</h3>"
   ]
  },
  {
   "cell_type": "markdown",
   "id": "150098d5",
   "metadata": {
    "papermill": {
     "duration": 0.032585,
     "end_time": "2023-06-02T23:57:01.617172",
     "exception": false,
     "start_time": "2023-06-02T23:57:01.584587",
     "status": "completed"
    },
    "tags": []
   },
   "source": [
    "<div style=\"border-radius:13px; border:#FFB800 solid; padding: 15px; background-color: #FAFFFF; font-size:108%; text-align:left\">\n",
    "\n",
    "*  Due to the potential complexity of training a model with a large number of classes in the target column and the need for a substantial amount of data, the target column will be transformed into a binary classification. It will be grouped as follows:\n",
    "\n",
    "First, we will count the number of unique values in the 'v_target' column."
   ]
  },
  {
   "cell_type": "code",
   "execution_count": 23,
   "id": "1a2cb039",
   "metadata": {
    "_kg_hide-input": true,
    "execution": {
     "iopub.execute_input": "2023-06-02T23:57:01.683343Z",
     "iopub.status.busy": "2023-06-02T23:57:01.682876Z",
     "iopub.status.idle": "2023-06-02T23:57:01.758502Z",
     "shell.execute_reply": "2023-06-02T23:57:01.757361Z"
    },
    "jupyter": {
     "source_hidden": true
    },
    "papermill": {
     "duration": 0.111963,
     "end_time": "2023-06-02T23:57:01.761316",
     "exception": false,
     "start_time": "2023-06-02T23:57:01.649353",
     "status": "completed"
    },
    "tags": []
   },
   "outputs": [
    {
     "data": {
      "text/html": [
       "<div>                            <div id=\"a9a0248b-4b81-4aa4-8533-75d6bb40c7ea\" class=\"plotly-graph-div\" style=\"height:525px; width:100%;\"></div>            <script type=\"text/javascript\">                require([\"plotly\"], function(Plotly) {                    window.PLOTLYENV=window.PLOTLYENV || {};                                    if (document.getElementById(\"a9a0248b-4b81-4aa4-8533-75d6bb40c7ea\")) {                    Plotly.newPlot(                        \"a9a0248b-4b81-4aa4-8533-75d6bb40c7ea\",                        [{\"alignmentgroup\":\"True\",\"hovertemplate\":\"v_target=%{x}<br>Frecuencia=%{y}<extra></extra>\",\"legendgroup\":\"\",\"marker\":{\"color\":\"#064572\",\"pattern\":{\"shape\":\"\"}},\"name\":\"\",\"offsetgroup\":\"\",\"orientation\":\"v\",\"showlegend\":false,\"textposition\":\"auto\",\"x\":[\"no va a invertir\",\"capital insuficiente\",\"imposible de contactar\",\"en seguimiento\",\"mala calidad\",\"no solicito información\",\"calificado para la compra\",\"intentando contacto\",\"zona no disponible\",\"clientes\",\"crowdfunding\",\"--\",\"remarketing\"],\"xaxis\":\"x\",\"y\":[571,477,318,144,124,58,48,26,20,6,2,2,1],\"yaxis\":\"y\",\"type\":\"bar\"}],                        {\"template\":{\"data\":{\"histogram2dcontour\":[{\"type\":\"histogram2dcontour\",\"colorbar\":{\"outlinewidth\":0,\"ticks\":\"\"},\"colorscale\":[[0.0,\"#0d0887\"],[0.1111111111111111,\"#46039f\"],[0.2222222222222222,\"#7201a8\"],[0.3333333333333333,\"#9c179e\"],[0.4444444444444444,\"#bd3786\"],[0.5555555555555556,\"#d8576b\"],[0.6666666666666666,\"#ed7953\"],[0.7777777777777778,\"#fb9f3a\"],[0.8888888888888888,\"#fdca26\"],[1.0,\"#f0f921\"]]}],\"choropleth\":[{\"type\":\"choropleth\",\"colorbar\":{\"outlinewidth\":0,\"ticks\":\"\"}}],\"histogram2d\":[{\"type\":\"histogram2d\",\"colorbar\":{\"outlinewidth\":0,\"ticks\":\"\"},\"colorscale\":[[0.0,\"#0d0887\"],[0.1111111111111111,\"#46039f\"],[0.2222222222222222,\"#7201a8\"],[0.3333333333333333,\"#9c179e\"],[0.4444444444444444,\"#bd3786\"],[0.5555555555555556,\"#d8576b\"],[0.6666666666666666,\"#ed7953\"],[0.7777777777777778,\"#fb9f3a\"],[0.8888888888888888,\"#fdca26\"],[1.0,\"#f0f921\"]]}],\"heatmap\":[{\"type\":\"heatmap\",\"colorbar\":{\"outlinewidth\":0,\"ticks\":\"\"},\"colorscale\":[[0.0,\"#0d0887\"],[0.1111111111111111,\"#46039f\"],[0.2222222222222222,\"#7201a8\"],[0.3333333333333333,\"#9c179e\"],[0.4444444444444444,\"#bd3786\"],[0.5555555555555556,\"#d8576b\"],[0.6666666666666666,\"#ed7953\"],[0.7777777777777778,\"#fb9f3a\"],[0.8888888888888888,\"#fdca26\"],[1.0,\"#f0f921\"]]}],\"heatmapgl\":[{\"type\":\"heatmapgl\",\"colorbar\":{\"outlinewidth\":0,\"ticks\":\"\"},\"colorscale\":[[0.0,\"#0d0887\"],[0.1111111111111111,\"#46039f\"],[0.2222222222222222,\"#7201a8\"],[0.3333333333333333,\"#9c179e\"],[0.4444444444444444,\"#bd3786\"],[0.5555555555555556,\"#d8576b\"],[0.6666666666666666,\"#ed7953\"],[0.7777777777777778,\"#fb9f3a\"],[0.8888888888888888,\"#fdca26\"],[1.0,\"#f0f921\"]]}],\"contourcarpet\":[{\"type\":\"contourcarpet\",\"colorbar\":{\"outlinewidth\":0,\"ticks\":\"\"}}],\"contour\":[{\"type\":\"contour\",\"colorbar\":{\"outlinewidth\":0,\"ticks\":\"\"},\"colorscale\":[[0.0,\"#0d0887\"],[0.1111111111111111,\"#46039f\"],[0.2222222222222222,\"#7201a8\"],[0.3333333333333333,\"#9c179e\"],[0.4444444444444444,\"#bd3786\"],[0.5555555555555556,\"#d8576b\"],[0.6666666666666666,\"#ed7953\"],[0.7777777777777778,\"#fb9f3a\"],[0.8888888888888888,\"#fdca26\"],[1.0,\"#f0f921\"]]}],\"surface\":[{\"type\":\"surface\",\"colorbar\":{\"outlinewidth\":0,\"ticks\":\"\"},\"colorscale\":[[0.0,\"#0d0887\"],[0.1111111111111111,\"#46039f\"],[0.2222222222222222,\"#7201a8\"],[0.3333333333333333,\"#9c179e\"],[0.4444444444444444,\"#bd3786\"],[0.5555555555555556,\"#d8576b\"],[0.6666666666666666,\"#ed7953\"],[0.7777777777777778,\"#fb9f3a\"],[0.8888888888888888,\"#fdca26\"],[1.0,\"#f0f921\"]]}],\"mesh3d\":[{\"type\":\"mesh3d\",\"colorbar\":{\"outlinewidth\":0,\"ticks\":\"\"}}],\"scatter\":[{\"fillpattern\":{\"fillmode\":\"overlay\",\"size\":10,\"solidity\":0.2},\"type\":\"scatter\"}],\"parcoords\":[{\"type\":\"parcoords\",\"line\":{\"colorbar\":{\"outlinewidth\":0,\"ticks\":\"\"}}}],\"scatterpolargl\":[{\"type\":\"scatterpolargl\",\"marker\":{\"colorbar\":{\"outlinewidth\":0,\"ticks\":\"\"}}}],\"bar\":[{\"error_x\":{\"color\":\"#2a3f5f\"},\"error_y\":{\"color\":\"#2a3f5f\"},\"marker\":{\"line\":{\"color\":\"#E5ECF6\",\"width\":0.5},\"pattern\":{\"fillmode\":\"overlay\",\"size\":10,\"solidity\":0.2}},\"type\":\"bar\"}],\"scattergeo\":[{\"type\":\"scattergeo\",\"marker\":{\"colorbar\":{\"outlinewidth\":0,\"ticks\":\"\"}}}],\"scatterpolar\":[{\"type\":\"scatterpolar\",\"marker\":{\"colorbar\":{\"outlinewidth\":0,\"ticks\":\"\"}}}],\"histogram\":[{\"marker\":{\"pattern\":{\"fillmode\":\"overlay\",\"size\":10,\"solidity\":0.2}},\"type\":\"histogram\"}],\"scattergl\":[{\"type\":\"scattergl\",\"marker\":{\"colorbar\":{\"outlinewidth\":0,\"ticks\":\"\"}}}],\"scatter3d\":[{\"type\":\"scatter3d\",\"line\":{\"colorbar\":{\"outlinewidth\":0,\"ticks\":\"\"}},\"marker\":{\"colorbar\":{\"outlinewidth\":0,\"ticks\":\"\"}}}],\"scattermapbox\":[{\"type\":\"scattermapbox\",\"marker\":{\"colorbar\":{\"outlinewidth\":0,\"ticks\":\"\"}}}],\"scatterternary\":[{\"type\":\"scatterternary\",\"marker\":{\"colorbar\":{\"outlinewidth\":0,\"ticks\":\"\"}}}],\"scattercarpet\":[{\"type\":\"scattercarpet\",\"marker\":{\"colorbar\":{\"outlinewidth\":0,\"ticks\":\"\"}}}],\"carpet\":[{\"aaxis\":{\"endlinecolor\":\"#2a3f5f\",\"gridcolor\":\"white\",\"linecolor\":\"white\",\"minorgridcolor\":\"white\",\"startlinecolor\":\"#2a3f5f\"},\"baxis\":{\"endlinecolor\":\"#2a3f5f\",\"gridcolor\":\"white\",\"linecolor\":\"white\",\"minorgridcolor\":\"white\",\"startlinecolor\":\"#2a3f5f\"},\"type\":\"carpet\"}],\"table\":[{\"cells\":{\"fill\":{\"color\":\"#EBF0F8\"},\"line\":{\"color\":\"white\"}},\"header\":{\"fill\":{\"color\":\"#C8D4E3\"},\"line\":{\"color\":\"white\"}},\"type\":\"table\"}],\"barpolar\":[{\"marker\":{\"line\":{\"color\":\"#E5ECF6\",\"width\":0.5},\"pattern\":{\"fillmode\":\"overlay\",\"size\":10,\"solidity\":0.2}},\"type\":\"barpolar\"}],\"pie\":[{\"automargin\":true,\"type\":\"pie\"}]},\"layout\":{\"autotypenumbers\":\"strict\",\"colorway\":[\"#636efa\",\"#EF553B\",\"#00cc96\",\"#ab63fa\",\"#FFA15A\",\"#19d3f3\",\"#FF6692\",\"#B6E880\",\"#FF97FF\",\"#FECB52\"],\"font\":{\"color\":\"#2a3f5f\"},\"hovermode\":\"closest\",\"hoverlabel\":{\"align\":\"left\"},\"paper_bgcolor\":\"white\",\"plot_bgcolor\":\"#E5ECF6\",\"polar\":{\"bgcolor\":\"#E5ECF6\",\"angularaxis\":{\"gridcolor\":\"white\",\"linecolor\":\"white\",\"ticks\":\"\"},\"radialaxis\":{\"gridcolor\":\"white\",\"linecolor\":\"white\",\"ticks\":\"\"}},\"ternary\":{\"bgcolor\":\"#E5ECF6\",\"aaxis\":{\"gridcolor\":\"white\",\"linecolor\":\"white\",\"ticks\":\"\"},\"baxis\":{\"gridcolor\":\"white\",\"linecolor\":\"white\",\"ticks\":\"\"},\"caxis\":{\"gridcolor\":\"white\",\"linecolor\":\"white\",\"ticks\":\"\"}},\"coloraxis\":{\"colorbar\":{\"outlinewidth\":0,\"ticks\":\"\"}},\"colorscale\":{\"sequential\":[[0.0,\"#0d0887\"],[0.1111111111111111,\"#46039f\"],[0.2222222222222222,\"#7201a8\"],[0.3333333333333333,\"#9c179e\"],[0.4444444444444444,\"#bd3786\"],[0.5555555555555556,\"#d8576b\"],[0.6666666666666666,\"#ed7953\"],[0.7777777777777778,\"#fb9f3a\"],[0.8888888888888888,\"#fdca26\"],[1.0,\"#f0f921\"]],\"sequentialminus\":[[0.0,\"#0d0887\"],[0.1111111111111111,\"#46039f\"],[0.2222222222222222,\"#7201a8\"],[0.3333333333333333,\"#9c179e\"],[0.4444444444444444,\"#bd3786\"],[0.5555555555555556,\"#d8576b\"],[0.6666666666666666,\"#ed7953\"],[0.7777777777777778,\"#fb9f3a\"],[0.8888888888888888,\"#fdca26\"],[1.0,\"#f0f921\"]],\"diverging\":[[0,\"#8e0152\"],[0.1,\"#c51b7d\"],[0.2,\"#de77ae\"],[0.3,\"#f1b6da\"],[0.4,\"#fde0ef\"],[0.5,\"#f7f7f7\"],[0.6,\"#e6f5d0\"],[0.7,\"#b8e186\"],[0.8,\"#7fbc41\"],[0.9,\"#4d9221\"],[1,\"#276419\"]]},\"xaxis\":{\"gridcolor\":\"white\",\"linecolor\":\"white\",\"ticks\":\"\",\"title\":{\"standoff\":15},\"zerolinecolor\":\"white\",\"automargin\":true,\"zerolinewidth\":2},\"yaxis\":{\"gridcolor\":\"white\",\"linecolor\":\"white\",\"ticks\":\"\",\"title\":{\"standoff\":15},\"zerolinecolor\":\"white\",\"automargin\":true,\"zerolinewidth\":2},\"scene\":{\"xaxis\":{\"backgroundcolor\":\"#E5ECF6\",\"gridcolor\":\"white\",\"linecolor\":\"white\",\"showbackground\":true,\"ticks\":\"\",\"zerolinecolor\":\"white\",\"gridwidth\":2},\"yaxis\":{\"backgroundcolor\":\"#E5ECF6\",\"gridcolor\":\"white\",\"linecolor\":\"white\",\"showbackground\":true,\"ticks\":\"\",\"zerolinecolor\":\"white\",\"gridwidth\":2},\"zaxis\":{\"backgroundcolor\":\"#E5ECF6\",\"gridcolor\":\"white\",\"linecolor\":\"white\",\"showbackground\":true,\"ticks\":\"\",\"zerolinecolor\":\"white\",\"gridwidth\":2}},\"shapedefaults\":{\"line\":{\"color\":\"#2a3f5f\"}},\"annotationdefaults\":{\"arrowcolor\":\"#2a3f5f\",\"arrowhead\":0,\"arrowwidth\":1},\"geo\":{\"bgcolor\":\"white\",\"landcolor\":\"#E5ECF6\",\"subunitcolor\":\"white\",\"showland\":true,\"showlakes\":true,\"lakecolor\":\"white\"},\"title\":{\"x\":0.05},\"mapbox\":{\"style\":\"light\"}}},\"xaxis\":{\"anchor\":\"y\",\"domain\":[0.0,1.0],\"title\":{\"text\":\"v_target\"}},\"yaxis\":{\"anchor\":\"x\",\"domain\":[0.0,1.0],\"title\":{\"text\":\"Frecuencia\"}},\"legend\":{\"tracegroupgap\":0},\"title\":{\"text\":\"Variable Objective value distribution (v_target)\"},\"barmode\":\"relative\"},                        {\"responsive\": true}                    ).then(function(){\n",
       "                            \n",
       "var gd = document.getElementById('a9a0248b-4b81-4aa4-8533-75d6bb40c7ea');\n",
       "var x = new MutationObserver(function (mutations, observer) {{\n",
       "        var display = window.getComputedStyle(gd).display;\n",
       "        if (!display || display === 'none') {{\n",
       "            console.log([gd, 'removed!']);\n",
       "            Plotly.purge(gd);\n",
       "            observer.disconnect();\n",
       "        }}\n",
       "}});\n",
       "\n",
       "// Listen for the removal of the full notebook cells\n",
       "var notebookContainer = gd.closest('#notebook-container');\n",
       "if (notebookContainer) {{\n",
       "    x.observe(notebookContainer, {childList: true});\n",
       "}}\n",
       "\n",
       "// Listen for the clearing of the current output cell\n",
       "var outputEl = gd.closest('.output');\n",
       "if (outputEl) {{\n",
       "    x.observe(outputEl, {childList: true});\n",
       "}}\n",
       "\n",
       "                        })                };                });            </script>        </div>"
      ]
     },
     "metadata": {},
     "output_type": "display_data"
    }
   ],
   "source": [
    "eleadcount = df['v_target'].value_counts().head(20)\n",
    "fig_bar = px.bar(x=eleadcount.index, y=eleadcount, labels={'x': 'v_target', 'y': 'Frecuencia'}, title='Variable Objective value distribution (v_target)', color_discrete_sequence=colors)\n",
    "fig_bar.show()"
   ]
  },
  {
   "cell_type": "markdown",
   "id": "1f3497cc",
   "metadata": {
    "papermill": {
     "duration": 0.032866,
     "end_time": "2023-06-02T23:57:01.827674",
     "exception": false,
     "start_time": "2023-06-02T23:57:01.794808",
     "status": "completed"
    },
    "tags": []
   },
   "source": [
    "<div style=\"border-radius:13px; border:#FFB800 solid; padding: 15px; background-color: #FAFFFF; font-size:108%; text-align:left\">\n",
    "\n",
    "\n",
    "*  Preparing the data for the model, I will define the classes in the **v_target** column as binary, separating them into  **\"opportunity_lead\"** and  **\"unqualified_lead\"**\n"
   ]
  },
  {
   "cell_type": "code",
   "execution_count": 24,
   "id": "b5004950",
   "metadata": {
    "_kg_hide-input": true,
    "execution": {
     "iopub.execute_input": "2023-06-02T23:57:01.894939Z",
     "iopub.status.busy": "2023-06-02T23:57:01.894305Z",
     "iopub.status.idle": "2023-06-02T23:57:01.910446Z",
     "shell.execute_reply": "2023-06-02T23:57:01.908933Z"
    },
    "jupyter": {
     "source_hidden": true
    },
    "papermill": {
     "duration": 0.052918,
     "end_time": "2023-06-02T23:57:01.912809",
     "exception": false,
     "start_time": "2023-06-02T23:57:01.859891",
     "status": "completed"
    },
    "tags": []
   },
   "outputs": [
    {
     "name": "stdout",
     "output_type": "stream",
     "text": [
      "v_target in binary classes, to use in the model\n",
      "unqualified_lead    1577\n",
      "opportunity_lead     198\n",
      "Name: v_target, dtype: int64\n"
     ]
    }
   ],
   "source": [
    "def crear_clase_binaria (valor):  \n",
    "    opportunity_lead = ['en seguimiento', 'calificado para la compra', 'clientes']\n",
    "    unqualified_lead = ['capital insuficiente', 'mala calidad', 'imposible de contactar','no solicito información', 'aun sin respuesta', 'intentando contacto', 'no va a invertir', 'crowdfunding', 'formulario', 'remarketing']   \n",
    "    if valor in opportunity_lead:\n",
    "        return 'opportunity_lead'\n",
    "    elif valor in  unqualified_lead:\n",
    "        return 'unqualified_lead'\n",
    "    else:\n",
    "        return np.nan\n",
    "    \n",
    "    if valor in opportunity_lead:\n",
    "        return 'opportunity_lead'\n",
    "    elif valor in  unqualified_lead:\n",
    "        return 'unqualified_lead'\n",
    "    else:\n",
    "        return np.nan\n",
    "df['v_target'] = df['v_target'].apply(crear_clase_binaria)\n",
    "df = df.dropna(subset=['v_target'])\n",
    "print ('v_target in binary classes, to use in the model')\n",
    "print (df['v_target'].value_counts())"
   ]
  },
  {
   "cell_type": "markdown",
   "id": "430e5a21",
   "metadata": {
    "papermill": {
     "duration": 0.032229,
     "end_time": "2023-06-02T23:57:01.977672",
     "exception": false,
     "start_time": "2023-06-02T23:57:01.945443",
     "status": "completed"
    },
    "tags": []
   },
   "source": [
    "<div style=\"border-radius:13px; border:#FFB800 solid; padding: 15px; background-color: #FAFFFF; font-size:108%; text-align:left\">\n",
    "\n",
    "* The difference between the values of each class is significant, which is inherent to the business and the type of sales, and it can pose a challenge in the prediction model. \n",
    "* To address this, I will use the SMOTE technique for oversampling the minority class to mitigate class imbalance."
   ]
  },
  {
   "cell_type": "markdown",
   "id": "0b21a822",
   "metadata": {
    "papermill": {
     "duration": 0.03193,
     "end_time": "2023-06-02T23:57:02.041969",
     "exception": false,
     "start_time": "2023-06-02T23:57:02.010039",
     "status": "completed"
    },
    "tags": []
   },
   "source": [
    "# <p style=\"font-family:JetBrains Mono; font-weight:bold; letter-spacing: 2px; color:#05041B; font-size:140%; text-align:left;padding: 0px; border-bottom: 3px solid #FFB800\">🔬 Step 4 Data Definition</p>"
   ]
  },
  {
   "cell_type": "markdown",
   "id": "55ed42d4",
   "metadata": {
    "papermill": {
     "duration": 0.040541,
     "end_time": "2023-06-02T23:57:02.114381",
     "exception": false,
     "start_time": "2023-06-02T23:57:02.073840",
     "status": "completed"
    },
    "tags": []
   },
   "source": [
    "<div style=\"border-radius:13px; border:#FFB800 solid; padding: 15px; background-color: #FAFFFF; font-size:113%; text-align:left\">\n",
    "\n",
    "* Relationship between **Predictor Variables** y **Variable Target**"
   ]
  },
  {
   "cell_type": "code",
   "execution_count": 25,
   "id": "a8227a75",
   "metadata": {
    "_kg_hide-input": true,
    "execution": {
     "iopub.execute_input": "2023-06-02T23:57:02.184534Z",
     "iopub.status.busy": "2023-06-02T23:57:02.183781Z",
     "iopub.status.idle": "2023-06-02T23:57:03.697391Z",
     "shell.execute_reply": "2023-06-02T23:57:03.696005Z"
    },
    "jupyter": {
     "source_hidden": true
    },
    "papermill": {
     "duration": 1.550619,
     "end_time": "2023-06-02T23:57:03.700529",
     "exception": false,
     "start_time": "2023-06-02T23:57:02.149910",
     "status": "completed"
    },
    "tags": []
   },
   "outputs": [
    {
     "data": {
      "image/png": "[encoded data removed]",
      "text/plain": [
       "<Figure size 800x600 with 2 Axes>"
      ]
     },
     "metadata": {},
     "output_type": "display_data"
    }
   ],
   "source": [
    "# Cramers_V\n",
    "def cramers_v(x, y):\n",
    "    confusion_matrix = pd.crosstab(x, y)\n",
    "    chi2 = ss.chi2_contingency(confusion_matrix)[0]\n",
    "    n = confusion_matrix.sum().sum()\n",
    "    phi2 = chi2 / n\n",
    "    r, k = confusion_matrix.shape\n",
    "    phi2corr = max(0, phi2 - ((k-1)*(r-1))/(n-1))\n",
    "    rcorr = r - ((r-1)**2)/(n-1)\n",
    "    kcorr = k - ((k-1)**2)/(n-1)\n",
    "    return np.sqrt(phi2corr / min((kcorr-1), (rcorr-1)))\n",
    "columns_of_interest = ['v_target','formularios enviados', 'visitas a la pagina', 'interacciones varias', 'aperturas de correo', 'franquicia', 'inversion', 'zone', 'source']\n",
    "df_selected = df[columns_of_interest]\n",
    "df_sample = df_selected.sample(frac=0.1, random_state=31)\n",
    "cramers_v_matrix = pd.DataFrame(index=columns_of_interest, columns=columns_of_interest)\n",
    "for col1 in columns_of_interest:\n",
    "    for col2 in columns_of_interest:\n",
    "        cramers_v_matrix.loc[col1, col2] = cramers_v(df_sample[col1], df_sample[col2])\n",
    "cramers_v_matrix = cramers_v_matrix.astype(float)\n",
    "plt.figure(figsize=(8, 6))\n",
    "sns.heatmap(cramers_v_matrix, annot=True, cmap=\"coolwarm\", linewidths=0.5)\n",
    "plt.title(\"Cramér's V Heatmap\")\n",
    "plt.show()"
   ]
  },
  {
   "cell_type": "markdown",
   "id": "6c795e12",
   "metadata": {
    "papermill": {
     "duration": 0.034497,
     "end_time": "2023-06-02T23:57:03.772106",
     "exception": false,
     "start_time": "2023-06-02T23:57:03.737609",
     "status": "completed"
    },
    "tags": []
   },
   "source": [
    "<div style=\"border-radius:13px; border:#FFB800 solid; padding: 15px; background-color: #FAFFFF; font-size:108%; text-align:left\">\n",
    "\n",
    "* It is interesting to note that \"interacciones varias\" and \"fuente_unificada\" have a significantly high relationship with the target column.\n"
   ]
  },
  {
   "cell_type": "code",
   "execution_count": 26,
   "id": "e7c3b722",
   "metadata": {
    "_kg_hide-input": true,
    "execution": {
     "iopub.execute_input": "2023-06-02T23:57:03.842295Z",
     "iopub.status.busy": "2023-06-02T23:57:03.841794Z",
     "iopub.status.idle": "2023-06-02T23:57:03.868268Z",
     "shell.execute_reply": "2023-06-02T23:57:03.867084Z"
    },
    "jupyter": {
     "source_hidden": true
    },
    "papermill": {
     "duration": 0.064606,
     "end_time": "2023-06-02T23:57:03.870729",
     "exception": false,
     "start_time": "2023-06-02T23:57:03.806123",
     "status": "completed"
    },
    "tags": []
   },
   "outputs": [
    {
     "data": {
      "text/html": [
       "<div>                            <div id=\"987e24a7-8b5f-4968-9faa-128f87a61d58\" class=\"plotly-graph-div\" style=\"height:525px; width:100%;\"></div>            <script type=\"text/javascript\">                require([\"plotly\"], function(Plotly) {                    window.PLOTLYENV=window.PLOTLYENV || {};                                    if (document.getElementById(\"987e24a7-8b5f-4968-9faa-128f87a61d58\")) {                    Plotly.newPlot(                        \"987e24a7-8b5f-4968-9faa-128f87a61d58\",                        [{\"marker\":{\"color\":\"#064572\"},\"name\":\"opportunity_lead\",\"x\":[\"búsqueda de pago\",\"búsqueda orgánica\",\"fuentes sin conexión\",\"redes sociales de pago\",\"referencias\",\"tráfico directo\",\"tráfico orgánico de redes sociales\"],\"y\":[48,37,25,22,34,22,10],\"type\":\"bar\"},{\"marker\":{\"color\":\"#A8854F\"},\"name\":\"unqualified_lead\",\"x\":[\"búsqueda de pago\",\"búsqueda orgánica\",\"email marketing\",\"fuentes sin conexión\",\"redes sociales de pago\",\"referencias\",\"tráfico directo\",\"tráfico orgánico de redes sociales\"],\"y\":[244,73,1,378,784,12,65,20],\"type\":\"bar\"}],                        {\"template\":{\"data\":{\"histogram2dcontour\":[{\"type\":\"histogram2dcontour\",\"colorbar\":{\"outlinewidth\":0,\"ticks\":\"\"},\"colorscale\":[[0.0,\"#0d0887\"],[0.1111111111111111,\"#46039f\"],[0.2222222222222222,\"#7201a8\"],[0.3333333333333333,\"#9c179e\"],[0.4444444444444444,\"#bd3786\"],[0.5555555555555556,\"#d8576b\"],[0.6666666666666666,\"#ed7953\"],[0.7777777777777778,\"#fb9f3a\"],[0.8888888888888888,\"#fdca26\"],[1.0,\"#f0f921\"]]}],\"choropleth\":[{\"type\":\"choropleth\",\"colorbar\":{\"outlinewidth\":0,\"ticks\":\"\"}}],\"histogram2d\":[{\"type\":\"histogram2d\",\"colorbar\":{\"outlinewidth\":0,\"ticks\":\"\"},\"colorscale\":[[0.0,\"#0d0887\"],[0.1111111111111111,\"#46039f\"],[0.2222222222222222,\"#7201a8\"],[0.3333333333333333,\"#9c179e\"],[0.4444444444444444,\"#bd3786\"],[0.5555555555555556,\"#d8576b\"],[0.6666666666666666,\"#ed7953\"],[0.7777777777777778,\"#fb9f3a\"],[0.8888888888888888,\"#fdca26\"],[1.0,\"#f0f921\"]]}],\"heatmap\":[{\"type\":\"heatmap\",\"colorbar\":{\"outlinewidth\":0,\"ticks\":\"\"},\"colorscale\":[[0.0,\"#0d0887\"],[0.1111111111111111,\"#46039f\"],[0.2222222222222222,\"#7201a8\"],[0.3333333333333333,\"#9c179e\"],[0.4444444444444444,\"#bd3786\"],[0.5555555555555556,\"#d8576b\"],[0.6666666666666666,\"#ed7953\"],[0.7777777777777778,\"#fb9f3a\"],[0.8888888888888888,\"#fdca26\"],[1.0,\"#f0f921\"]]}],\"heatmapgl\":[{\"type\":\"heatmapgl\",\"colorbar\":{\"outlinewidth\":0,\"ticks\":\"\"},\"colorscale\":[[0.0,\"#0d0887\"],[0.1111111111111111,\"#46039f\"],[0.2222222222222222,\"#7201a8\"],[0.3333333333333333,\"#9c179e\"],[0.4444444444444444,\"#bd3786\"],[0.5555555555555556,\"#d8576b\"],[0.6666666666666666,\"#ed7953\"],[0.7777777777777778,\"#fb9f3a\"],[0.8888888888888888,\"#fdca26\"],[1.0,\"#f0f921\"]]}],\"contourcarpet\":[{\"type\":\"contourcarpet\",\"colorbar\":{\"outlinewidth\":0,\"ticks\":\"\"}}],\"contour\":[{\"type\":\"contour\",\"colorbar\":{\"outlinewidth\":0,\"ticks\":\"\"},\"colorscale\":[[0.0,\"#0d0887\"],[0.1111111111111111,\"#46039f\"],[0.2222222222222222,\"#7201a8\"],[0.3333333333333333,\"#9c179e\"],[0.4444444444444444,\"#bd3786\"],[0.5555555555555556,\"#d8576b\"],[0.6666666666666666,\"#ed7953\"],[0.7777777777777778,\"#fb9f3a\"],[0.8888888888888888,\"#fdca26\"],[1.0,\"#f0f921\"]]}],\"surface\":[{\"type\":\"surface\",\"colorbar\":{\"outlinewidth\":0,\"ticks\":\"\"},\"colorscale\":[[0.0,\"#0d0887\"],[0.1111111111111111,\"#46039f\"],[0.2222222222222222,\"#7201a8\"],[0.3333333333333333,\"#9c179e\"],[0.4444444444444444,\"#bd3786\"],[0.5555555555555556,\"#d8576b\"],[0.6666666666666666,\"#ed7953\"],[0.7777777777777778,\"#fb9f3a\"],[0.8888888888888888,\"#fdca26\"],[1.0,\"#f0f921\"]]}],\"mesh3d\":[{\"type\":\"mesh3d\",\"colorbar\":{\"outlinewidth\":0,\"ticks\":\"\"}}],\"scatter\":[{\"fillpattern\":{\"fillmode\":\"overlay\",\"size\":10,\"solidity\":0.2},\"type\":\"scatter\"}],\"parcoords\":[{\"type\":\"parcoords\",\"line\":{\"colorbar\":{\"outlinewidth\":0,\"ticks\":\"\"}}}],\"scatterpolargl\":[{\"type\":\"scatterpolargl\",\"marker\":{\"colorbar\":{\"outlinewidth\":0,\"ticks\":\"\"}}}],\"bar\":[{\"error_x\":{\"color\":\"#2a3f5f\"},\"error_y\":{\"color\":\"#2a3f5f\"},\"marker\":{\"line\":{\"color\":\"#E5ECF6\",\"width\":0.5},\"pattern\":{\"fillmode\":\"overlay\",\"size\":10,\"solidity\":0.2}},\"type\":\"bar\"}],\"scattergeo\":[{\"type\":\"scattergeo\",\"marker\":{\"colorbar\":{\"outlinewidth\":0,\"ticks\":\"\"}}}],\"scatterpolar\":[{\"type\":\"scatterpolar\",\"marker\":{\"colorbar\":{\"outlinewidth\":0,\"ticks\":\"\"}}}],\"histogram\":[{\"marker\":{\"pattern\":{\"fillmode\":\"overlay\",\"size\":10,\"solidity\":0.2}},\"type\":\"histogram\"}],\"scattergl\":[{\"type\":\"scattergl\",\"marker\":{\"colorbar\":{\"outlinewidth\":0,\"ticks\":\"\"}}}],\"scatter3d\":[{\"type\":\"scatter3d\",\"line\":{\"colorbar\":{\"outlinewidth\":0,\"ticks\":\"\"}},\"marker\":{\"colorbar\":{\"outlinewidth\":0,\"ticks\":\"\"}}}],\"scattermapbox\":[{\"type\":\"scattermapbox\",\"marker\":{\"colorbar\":{\"outlinewidth\":0,\"ticks\":\"\"}}}],\"scatterternary\":[{\"type\":\"scatterternary\",\"marker\":{\"colorbar\":{\"outlinewidth\":0,\"ticks\":\"\"}}}],\"scattercarpet\":[{\"type\":\"scattercarpet\",\"marker\":{\"colorbar\":{\"outlinewidth\":0,\"ticks\":\"\"}}}],\"carpet\":[{\"aaxis\":{\"endlinecolor\":\"#2a3f5f\",\"gridcolor\":\"white\",\"linecolor\":\"white\",\"minorgridcolor\":\"white\",\"startlinecolor\":\"#2a3f5f\"},\"baxis\":{\"endlinecolor\":\"#2a3f5f\",\"gridcolor\":\"white\",\"linecolor\":\"white\",\"minorgridcolor\":\"white\",\"startlinecolor\":\"#2a3f5f\"},\"type\":\"carpet\"}],\"table\":[{\"cells\":{\"fill\":{\"color\":\"#EBF0F8\"},\"line\":{\"color\":\"white\"}},\"header\":{\"fill\":{\"color\":\"#C8D4E3\"},\"line\":{\"color\":\"white\"}},\"type\":\"table\"}],\"barpolar\":[{\"marker\":{\"line\":{\"color\":\"#E5ECF6\",\"width\":0.5},\"pattern\":{\"fillmode\":\"overlay\",\"size\":10,\"solidity\":0.2}},\"type\":\"barpolar\"}],\"pie\":[{\"automargin\":true,\"type\":\"pie\"}]},\"layout\":{\"autotypenumbers\":\"strict\",\"colorway\":[\"#636efa\",\"#EF553B\",\"#00cc96\",\"#ab63fa\",\"#FFA15A\",\"#19d3f3\",\"#FF6692\",\"#B6E880\",\"#FF97FF\",\"#FECB52\"],\"font\":{\"color\":\"#2a3f5f\"},\"hovermode\":\"closest\",\"hoverlabel\":{\"align\":\"left\"},\"paper_bgcolor\":\"white\",\"plot_bgcolor\":\"#E5ECF6\",\"polar\":{\"bgcolor\":\"#E5ECF6\",\"angularaxis\":{\"gridcolor\":\"white\",\"linecolor\":\"white\",\"ticks\":\"\"},\"radialaxis\":{\"gridcolor\":\"white\",\"linecolor\":\"white\",\"ticks\":\"\"}},\"ternary\":{\"bgcolor\":\"#E5ECF6\",\"aaxis\":{\"gridcolor\":\"white\",\"linecolor\":\"white\",\"ticks\":\"\"},\"baxis\":{\"gridcolor\":\"white\",\"linecolor\":\"white\",\"ticks\":\"\"},\"caxis\":{\"gridcolor\":\"white\",\"linecolor\":\"white\",\"ticks\":\"\"}},\"coloraxis\":{\"colorbar\":{\"outlinewidth\":0,\"ticks\":\"\"}},\"colorscale\":{\"sequential\":[[0.0,\"#0d0887\"],[0.1111111111111111,\"#46039f\"],[0.2222222222222222,\"#7201a8\"],[0.3333333333333333,\"#9c179e\"],[0.4444444444444444,\"#bd3786\"],[0.5555555555555556,\"#d8576b\"],[0.6666666666666666,\"#ed7953\"],[0.7777777777777778,\"#fb9f3a\"],[0.8888888888888888,\"#fdca26\"],[1.0,\"#f0f921\"]],\"sequentialminus\":[[0.0,\"#0d0887\"],[0.1111111111111111,\"#46039f\"],[0.2222222222222222,\"#7201a8\"],[0.3333333333333333,\"#9c179e\"],[0.4444444444444444,\"#bd3786\"],[0.5555555555555556,\"#d8576b\"],[0.6666666666666666,\"#ed7953\"],[0.7777777777777778,\"#fb9f3a\"],[0.8888888888888888,\"#fdca26\"],[1.0,\"#f0f921\"]],\"diverging\":[[0,\"#8e0152\"],[0.1,\"#c51b7d\"],[0.2,\"#de77ae\"],[0.3,\"#f1b6da\"],[0.4,\"#fde0ef\"],[0.5,\"#f7f7f7\"],[0.6,\"#e6f5d0\"],[0.7,\"#b8e186\"],[0.8,\"#7fbc41\"],[0.9,\"#4d9221\"],[1,\"#276419\"]]},\"xaxis\":{\"gridcolor\":\"white\",\"linecolor\":\"white\",\"ticks\":\"\",\"title\":{\"standoff\":15},\"zerolinecolor\":\"white\",\"automargin\":true,\"zerolinewidth\":2},\"yaxis\":{\"gridcolor\":\"white\",\"linecolor\":\"white\",\"ticks\":\"\",\"title\":{\"standoff\":15},\"zerolinecolor\":\"white\",\"automargin\":true,\"zerolinewidth\":2},\"scene\":{\"xaxis\":{\"backgroundcolor\":\"#E5ECF6\",\"gridcolor\":\"white\",\"linecolor\":\"white\",\"showbackground\":true,\"ticks\":\"\",\"zerolinecolor\":\"white\",\"gridwidth\":2},\"yaxis\":{\"backgroundcolor\":\"#E5ECF6\",\"gridcolor\":\"white\",\"linecolor\":\"white\",\"showbackground\":true,\"ticks\":\"\",\"zerolinecolor\":\"white\",\"gridwidth\":2},\"zaxis\":{\"backgroundcolor\":\"#E5ECF6\",\"gridcolor\":\"white\",\"linecolor\":\"white\",\"showbackground\":true,\"ticks\":\"\",\"zerolinecolor\":\"white\",\"gridwidth\":2}},\"shapedefaults\":{\"line\":{\"color\":\"#2a3f5f\"}},\"annotationdefaults\":{\"arrowcolor\":\"#2a3f5f\",\"arrowhead\":0,\"arrowwidth\":1},\"geo\":{\"bgcolor\":\"white\",\"landcolor\":\"#E5ECF6\",\"subunitcolor\":\"white\",\"showland\":true,\"showlakes\":true,\"lakecolor\":\"white\"},\"title\":{\"x\":0.05},\"mapbox\":{\"style\":\"light\"}}},\"barmode\":\"stack\",\"title\":{\"text\":\"Relationship between entre Source y Target\"},\"xaxis\":{\"title\":{\"text\":\"Fuente\"}},\"yaxis\":{\"title\":{\"text\":\"Cantidad de v_target\"}}},                        {\"responsive\": true}                    ).then(function(){\n",
       "                            \n",
       "var gd = document.getElementById('987e24a7-8b5f-4968-9faa-128f87a61d58');\n",
       "var x = new MutationObserver(function (mutations, observer) {{\n",
       "        var display = window.getComputedStyle(gd).display;\n",
       "        if (!display || display === 'none') {{\n",
       "            console.log([gd, 'removed!']);\n",
       "            Plotly.purge(gd);\n",
       "            observer.disconnect();\n",
       "        }}\n",
       "}});\n",
       "\n",
       "// Listen for the removal of the full notebook cells\n",
       "var notebookContainer = gd.closest('#notebook-container');\n",
       "if (notebookContainer) {{\n",
       "    x.observe(notebookContainer, {childList: true});\n",
       "}}\n",
       "\n",
       "// Listen for the clearing of the current output cell\n",
       "var outputEl = gd.closest('.output');\n",
       "if (outputEl) {{\n",
       "    x.observe(outputEl, {childList: true});\n",
       "}}\n",
       "\n",
       "                        })                };                });            </script>        </div>"
      ]
     },
     "metadata": {},
     "output_type": "display_data"
    }
   ],
   "source": [
    "fig = go.Figure()\n",
    "zonas_agrupadas = df.groupby(['v_target', 'source']).size().reset_index(name='conteo')\n",
    "# Obtener los valores únicos de 'v_target'\n",
    "unique_targets = zonas_agrupadas['v_target'].unique()\n",
    "# Crear un diccionario de colores que asigna cada valor único a un color\n",
    "color_dict = {val: colors[i%len(colors)] for i, val in enumerate(unique_targets)}\n",
    "# Añadir una traza de barras para cada valor único\n",
    "for elead in unique_targets:\n",
    "    zonas_elead = zonas_agrupadas[zonas_agrupadas['v_target'] == elead]\n",
    "    # Asignar el color correcto a la traza\n",
    "    fig.add_trace(go.Bar(x=zonas_elead['source'], y=zonas_elead['conteo'], name=str(elead), \n",
    "                         marker_color=color_dict[elead]))  # Usar el color correspondiente del diccionario\n",
    "# diseño\n",
    "fig.update_layout(barmode='stack', title='Relationship between entre Source y Target',\n",
    "                  xaxis_title='Fuente', yaxis_title='Cantidad de v_target')\n",
    "fig.show()\n"
   ]
  },
  {
   "cell_type": "markdown",
   "id": "ec6d4976",
   "metadata": {
    "papermill": {
     "duration": 0.033989,
     "end_time": "2023-06-02T23:57:03.939302",
     "exception": false,
     "start_time": "2023-06-02T23:57:03.905313",
     "status": "completed"
    },
    "tags": []
   },
   "source": [
    "<div style=\"border-radius:13px; border:#FFB800 solid; padding: 15px; background-color: #FAFFFF; font-size:108%; text-align:left\">\n",
    "\n",
    "* The same in the numerical columns: "
   ]
  },
  {
   "cell_type": "code",
   "execution_count": 27,
   "id": "dee5d293",
   "metadata": {
    "_kg_hide-input": true,
    "_kg_hide-output": false,
    "execution": {
     "iopub.execute_input": "2023-06-02T23:57:04.011156Z",
     "iopub.status.busy": "2023-06-02T23:57:04.010711Z",
     "iopub.status.idle": "2023-06-02T23:57:04.151064Z",
     "shell.execute_reply": "2023-06-02T23:57:04.149928Z"
    },
    "jupyter": {
     "source_hidden": true
    },
    "papermill": {
     "duration": 0.179946,
     "end_time": "2023-06-02T23:57:04.153627",
     "exception": false,
     "start_time": "2023-06-02T23:57:03.973681",
     "status": "completed"
    },
    "tags": []
   },
   "outputs": [
    {
     "name": "stderr",
     "output_type": "stream",
     "text": [
      "/tmp/ipykernel_20/3725266836.py:1: FutureWarning:\n",
      "\n",
      "Indexing with multiple keys (implicitly converted to a tuple of keys) will be deprecated, use a list instead.\n",
      "\n"
     ]
    },
    {
     "data": {
      "text/html": [
       "<div>                            <div id=\"2d6349b6-e4ec-44b2-9e4d-339e8983b979\" class=\"plotly-graph-div\" style=\"height:525px; width:100%;\"></div>            <script type=\"text/javascript\">                require([\"plotly\"], function(Plotly) {                    window.PLOTLYENV=window.PLOTLYENV || {};                                    if (document.getElementById(\"2d6349b6-e4ec-44b2-9e4d-339e8983b979\")) {                    Plotly.newPlot(                        \"2d6349b6-e4ec-44b2-9e4d-339e8983b979\",                        [{\"hovertemplate\":\"<b>%{hovertext}</b><br><br>v_target=opportunity_lead<br>interacciones varias=%{marker.size}<br>visitas a la pagina=%{y}<extra></extra>\",\"hovertext\":[\"opportunity_lead\"],\"legendgroup\":\"opportunity_lead\",\"marker\":{\"color\":\"#636efa\",\"size\":[2.919191919191919],\"sizemode\":\"area\",\"sizeref\":0.0008108866442199775,\"symbol\":\"circle\"},\"mode\":\"markers\",\"name\":\"opportunity_lead\",\"orientation\":\"v\",\"showlegend\":true,\"x\":[2.919191919191919],\"xaxis\":\"x\",\"y\":[1.3737373737373737],\"yaxis\":\"y\",\"type\":\"scatter\"},{\"hovertemplate\":\"<b>%{hovertext}</b><br><br>v_target=unqualified_lead<br>interacciones varias=%{marker.size}<br>visitas a la pagina=%{y}<extra></extra>\",\"hovertext\":[\"unqualified_lead\"],\"legendgroup\":\"unqualified_lead\",\"marker\":{\"color\":\"#EF553B\",\"size\":[0.7051363348129359],\"sizemode\":\"area\",\"sizeref\":0.0008108866442199775,\"symbol\":\"circle\"},\"mode\":\"markers\",\"name\":\"unqualified_lead\",\"orientation\":\"v\",\"showlegend\":true,\"x\":[0.7051363348129359],\"xaxis\":\"x\",\"y\":[0.7520608750792644],\"yaxis\":\"y\",\"type\":\"scatter\"}],                        {\"template\":{\"data\":{\"histogram2dcontour\":[{\"type\":\"histogram2dcontour\",\"colorbar\":{\"outlinewidth\":0,\"ticks\":\"\"},\"colorscale\":[[0.0,\"#0d0887\"],[0.1111111111111111,\"#46039f\"],[0.2222222222222222,\"#7201a8\"],[0.3333333333333333,\"#9c179e\"],[0.4444444444444444,\"#bd3786\"],[0.5555555555555556,\"#d8576b\"],[0.6666666666666666,\"#ed7953\"],[0.7777777777777778,\"#fb9f3a\"],[0.8888888888888888,\"#fdca26\"],[1.0,\"#f0f921\"]]}],\"choropleth\":[{\"type\":\"choropleth\",\"colorbar\":{\"outlinewidth\":0,\"ticks\":\"\"}}],\"histogram2d\":[{\"type\":\"histogram2d\",\"colorbar\":{\"outlinewidth\":0,\"ticks\":\"\"},\"colorscale\":[[0.0,\"#0d0887\"],[0.1111111111111111,\"#46039f\"],[0.2222222222222222,\"#7201a8\"],[0.3333333333333333,\"#9c179e\"],[0.4444444444444444,\"#bd3786\"],[0.5555555555555556,\"#d8576b\"],[0.6666666666666666,\"#ed7953\"],[0.7777777777777778,\"#fb9f3a\"],[0.8888888888888888,\"#fdca26\"],[1.0,\"#f0f921\"]]}],\"heatmap\":[{\"type\":\"heatmap\",\"colorbar\":{\"outlinewidth\":0,\"ticks\":\"\"},\"colorscale\":[[0.0,\"#0d0887\"],[0.1111111111111111,\"#46039f\"],[0.2222222222222222,\"#7201a8\"],[0.3333333333333333,\"#9c179e\"],[0.4444444444444444,\"#bd3786\"],[0.5555555555555556,\"#d8576b\"],[0.6666666666666666,\"#ed7953\"],[0.7777777777777778,\"#fb9f3a\"],[0.8888888888888888,\"#fdca26\"],[1.0,\"#f0f921\"]]}],\"heatmapgl\":[{\"type\":\"heatmapgl\",\"colorbar\":{\"outlinewidth\":0,\"ticks\":\"\"},\"colorscale\":[[0.0,\"#0d0887\"],[0.1111111111111111,\"#46039f\"],[0.2222222222222222,\"#7201a8\"],[0.3333333333333333,\"#9c179e\"],[0.4444444444444444,\"#bd3786\"],[0.5555555555555556,\"#d8576b\"],[0.6666666666666666,\"#ed7953\"],[0.7777777777777778,\"#fb9f3a\"],[0.8888888888888888,\"#fdca26\"],[1.0,\"#f0f921\"]]}],\"contourcarpet\":[{\"type\":\"contourcarpet\",\"colorbar\":{\"outlinewidth\":0,\"ticks\":\"\"}}],\"contour\":[{\"type\":\"contour\",\"colorbar\":{\"outlinewidth\":0,\"ticks\":\"\"},\"colorscale\":[[0.0,\"#0d0887\"],[0.1111111111111111,\"#46039f\"],[0.2222222222222222,\"#7201a8\"],[0.3333333333333333,\"#9c179e\"],[0.4444444444444444,\"#bd3786\"],[0.5555555555555556,\"#d8576b\"],[0.6666666666666666,\"#ed7953\"],[0.7777777777777778,\"#fb9f3a\"],[0.8888888888888888,\"#fdca26\"],[1.0,\"#f0f921\"]]}],\"surface\":[{\"type\":\"surface\",\"colorbar\":{\"outlinewidth\":0,\"ticks\":\"\"},\"colorscale\":[[0.0,\"#0d0887\"],[0.1111111111111111,\"#46039f\"],[0.2222222222222222,\"#7201a8\"],[0.3333333333333333,\"#9c179e\"],[0.4444444444444444,\"#bd3786\"],[0.5555555555555556,\"#d8576b\"],[0.6666666666666666,\"#ed7953\"],[0.7777777777777778,\"#fb9f3a\"],[0.8888888888888888,\"#fdca26\"],[1.0,\"#f0f921\"]]}],\"mesh3d\":[{\"type\":\"mesh3d\",\"colorbar\":{\"outlinewidth\":0,\"ticks\":\"\"}}],\"scatter\":[{\"fillpattern\":{\"fillmode\":\"overlay\",\"size\":10,\"solidity\":0.2},\"type\":\"scatter\"}],\"parcoords\":[{\"type\":\"parcoords\",\"line\":{\"colorbar\":{\"outlinewidth\":0,\"ticks\":\"\"}}}],\"scatterpolargl\":[{\"type\":\"scatterpolargl\",\"marker\":{\"colorbar\":{\"outlinewidth\":0,\"ticks\":\"\"}}}],\"bar\":[{\"error_x\":{\"color\":\"#2a3f5f\"},\"error_y\":{\"color\":\"#2a3f5f\"},\"marker\":{\"line\":{\"color\":\"#E5ECF6\",\"width\":0.5},\"pattern\":{\"fillmode\":\"overlay\",\"size\":10,\"solidity\":0.2}},\"type\":\"bar\"}],\"scattergeo\":[{\"type\":\"scattergeo\",\"marker\":{\"colorbar\":{\"outlinewidth\":0,\"ticks\":\"\"}}}],\"scatterpolar\":[{\"type\":\"scatterpolar\",\"marker\":{\"colorbar\":{\"outlinewidth\":0,\"ticks\":\"\"}}}],\"histogram\":[{\"marker\":{\"pattern\":{\"fillmode\":\"overlay\",\"size\":10,\"solidity\":0.2}},\"type\":\"histogram\"}],\"scattergl\":[{\"type\":\"scattergl\",\"marker\":{\"colorbar\":{\"outlinewidth\":0,\"ticks\":\"\"}}}],\"scatter3d\":[{\"type\":\"scatter3d\",\"line\":{\"colorbar\":{\"outlinewidth\":0,\"ticks\":\"\"}},\"marker\":{\"colorbar\":{\"outlinewidth\":0,\"ticks\":\"\"}}}],\"scattermapbox\":[{\"type\":\"scattermapbox\",\"marker\":{\"colorbar\":{\"outlinewidth\":0,\"ticks\":\"\"}}}],\"scatterternary\":[{\"type\":\"scatterternary\",\"marker\":{\"colorbar\":{\"outlinewidth\":0,\"ticks\":\"\"}}}],\"scattercarpet\":[{\"type\":\"scattercarpet\",\"marker\":{\"colorbar\":{\"outlinewidth\":0,\"ticks\":\"\"}}}],\"carpet\":[{\"aaxis\":{\"endlinecolor\":\"#2a3f5f\",\"gridcolor\":\"white\",\"linecolor\":\"white\",\"minorgridcolor\":\"white\",\"startlinecolor\":\"#2a3f5f\"},\"baxis\":{\"endlinecolor\":\"#2a3f5f\",\"gridcolor\":\"white\",\"linecolor\":\"white\",\"minorgridcolor\":\"white\",\"startlinecolor\":\"#2a3f5f\"},\"type\":\"carpet\"}],\"table\":[{\"cells\":{\"fill\":{\"color\":\"#EBF0F8\"},\"line\":{\"color\":\"white\"}},\"header\":{\"fill\":{\"color\":\"#C8D4E3\"},\"line\":{\"color\":\"white\"}},\"type\":\"table\"}],\"barpolar\":[{\"marker\":{\"line\":{\"color\":\"#E5ECF6\",\"width\":0.5},\"pattern\":{\"fillmode\":\"overlay\",\"size\":10,\"solidity\":0.2}},\"type\":\"barpolar\"}],\"pie\":[{\"automargin\":true,\"type\":\"pie\"}]},\"layout\":{\"autotypenumbers\":\"strict\",\"colorway\":[\"#636efa\",\"#EF553B\",\"#00cc96\",\"#ab63fa\",\"#FFA15A\",\"#19d3f3\",\"#FF6692\",\"#B6E880\",\"#FF97FF\",\"#FECB52\"],\"font\":{\"color\":\"#2a3f5f\"},\"hovermode\":\"closest\",\"hoverlabel\":{\"align\":\"left\"},\"paper_bgcolor\":\"white\",\"plot_bgcolor\":\"#E5ECF6\",\"polar\":{\"bgcolor\":\"#E5ECF6\",\"angularaxis\":{\"gridcolor\":\"white\",\"linecolor\":\"white\",\"ticks\":\"\"},\"radialaxis\":{\"gridcolor\":\"white\",\"linecolor\":\"white\",\"ticks\":\"\"}},\"ternary\":{\"bgcolor\":\"#E5ECF6\",\"aaxis\":{\"gridcolor\":\"white\",\"linecolor\":\"white\",\"ticks\":\"\"},\"baxis\":{\"gridcolor\":\"white\",\"linecolor\":\"white\",\"ticks\":\"\"},\"caxis\":{\"gridcolor\":\"white\",\"linecolor\":\"white\",\"ticks\":\"\"}},\"coloraxis\":{\"colorbar\":{\"outlinewidth\":0,\"ticks\":\"\"}},\"colorscale\":{\"sequential\":[[0.0,\"#0d0887\"],[0.1111111111111111,\"#46039f\"],[0.2222222222222222,\"#7201a8\"],[0.3333333333333333,\"#9c179e\"],[0.4444444444444444,\"#bd3786\"],[0.5555555555555556,\"#d8576b\"],[0.6666666666666666,\"#ed7953\"],[0.7777777777777778,\"#fb9f3a\"],[0.8888888888888888,\"#fdca26\"],[1.0,\"#f0f921\"]],\"sequentialminus\":[[0.0,\"#0d0887\"],[0.1111111111111111,\"#46039f\"],[0.2222222222222222,\"#7201a8\"],[0.3333333333333333,\"#9c179e\"],[0.4444444444444444,\"#bd3786\"],[0.5555555555555556,\"#d8576b\"],[0.6666666666666666,\"#ed7953\"],[0.7777777777777778,\"#fb9f3a\"],[0.8888888888888888,\"#fdca26\"],[1.0,\"#f0f921\"]],\"diverging\":[[0,\"#8e0152\"],[0.1,\"#c51b7d\"],[0.2,\"#de77ae\"],[0.3,\"#f1b6da\"],[0.4,\"#fde0ef\"],[0.5,\"#f7f7f7\"],[0.6,\"#e6f5d0\"],[0.7,\"#b8e186\"],[0.8,\"#7fbc41\"],[0.9,\"#4d9221\"],[1,\"#276419\"]]},\"xaxis\":{\"gridcolor\":\"white\",\"linecolor\":\"white\",\"ticks\":\"\",\"title\":{\"standoff\":15},\"zerolinecolor\":\"white\",\"automargin\":true,\"zerolinewidth\":2},\"yaxis\":{\"gridcolor\":\"white\",\"linecolor\":\"white\",\"ticks\":\"\",\"title\":{\"standoff\":15},\"zerolinecolor\":\"white\",\"automargin\":true,\"zerolinewidth\":2},\"scene\":{\"xaxis\":{\"backgroundcolor\":\"#E5ECF6\",\"gridcolor\":\"white\",\"linecolor\":\"white\",\"showbackground\":true,\"ticks\":\"\",\"zerolinecolor\":\"white\",\"gridwidth\":2},\"yaxis\":{\"backgroundcolor\":\"#E5ECF6\",\"gridcolor\":\"white\",\"linecolor\":\"white\",\"showbackground\":true,\"ticks\":\"\",\"zerolinecolor\":\"white\",\"gridwidth\":2},\"zaxis\":{\"backgroundcolor\":\"#E5ECF6\",\"gridcolor\":\"white\",\"linecolor\":\"white\",\"showbackground\":true,\"ticks\":\"\",\"zerolinecolor\":\"white\",\"gridwidth\":2}},\"shapedefaults\":{\"line\":{\"color\":\"#2a3f5f\"}},\"annotationdefaults\":{\"arrowcolor\":\"#2a3f5f\",\"arrowhead\":0,\"arrowwidth\":1},\"geo\":{\"bgcolor\":\"white\",\"landcolor\":\"#E5ECF6\",\"subunitcolor\":\"white\",\"showland\":true,\"showlakes\":true,\"lakecolor\":\"white\"},\"title\":{\"x\":0.05},\"mapbox\":{\"style\":\"light\"}}},\"xaxis\":{\"anchor\":\"y\",\"domain\":[0.0,1.0],\"title\":{\"text\":\"interacciones varias\"},\"type\":\"log\"},\"yaxis\":{\"anchor\":\"x\",\"domain\":[0.0,1.0],\"title\":{\"text\":\"visitas a la pagina\"}},\"legend\":{\"title\":{\"text\":\"v_target\"},\"tracegroupgap\":0,\"itemsizing\":\"constant\"},\"margin\":{\"t\":60}},                        {\"responsive\": true}                    ).then(function(){\n",
       "                            \n",
       "var gd = document.getElementById('2d6349b6-e4ec-44b2-9e4d-339e8983b979');\n",
       "var x = new MutationObserver(function (mutations, observer) {{\n",
       "        var display = window.getComputedStyle(gd).display;\n",
       "        if (!display || display === 'none') {{\n",
       "            console.log([gd, 'removed!']);\n",
       "            Plotly.purge(gd);\n",
       "            observer.disconnect();\n",
       "        }}\n",
       "}});\n",
       "\n",
       "// Listen for the removal of the full notebook cells\n",
       "var notebookContainer = gd.closest('#notebook-container');\n",
       "if (notebookContainer) {{\n",
       "    x.observe(notebookContainer, {childList: true});\n",
       "}}\n",
       "\n",
       "// Listen for the clearing of the current output cell\n",
       "var outputEl = gd.closest('.output');\n",
       "if (outputEl) {{\n",
       "    x.observe(outputEl, {childList: true});\n",
       "}}\n",
       "\n",
       "                        })                };                });            </script>        </div>"
      ]
     },
     "metadata": {},
     "output_type": "display_data"
    }
   ],
   "source": [
    "df_avg = df.groupby('v_target')['visitas a la pagina', 'interacciones varias'].mean().reset_index()\n",
    "fig = px.scatter(df_avg, x=\"interacciones varias\", y=\"visitas a la pagina\",\n",
    "\t         size=\"interacciones varias\", color=\"v_target\",\n",
    "                 hover_name=\"v_target\", log_x=True, size_max=60)\n",
    "fig.show()"
   ]
  },
  {
   "cell_type": "code",
   "execution_count": 28,
   "id": "cb814db6",
   "metadata": {
    "_kg_hide-input": true,
    "execution": {
     "iopub.execute_input": "2023-06-02T23:57:04.225724Z",
     "iopub.status.busy": "2023-06-02T23:57:04.225324Z",
     "iopub.status.idle": "2023-06-02T23:57:04.309873Z",
     "shell.execute_reply": "2023-06-02T23:57:04.308774Z"
    },
    "jupyter": {
     "source_hidden": true
    },
    "papermill": {
     "duration": 0.123603,
     "end_time": "2023-06-02T23:57:04.312290",
     "exception": false,
     "start_time": "2023-06-02T23:57:04.188687",
     "status": "completed"
    },
    "tags": []
   },
   "outputs": [
    {
     "name": "stderr",
     "output_type": "stream",
     "text": [
      "/tmp/ipykernel_20/1803415663.py:1: FutureWarning:\n",
      "\n",
      "Indexing with multiple keys (implicitly converted to a tuple of keys) will be deprecated, use a list instead.\n",
      "\n"
     ]
    },
    {
     "data": {
      "text/html": [
       "<div>                            <div id=\"a48c6944-22e7-4cc3-b181-2aea62e84d90\" class=\"plotly-graph-div\" style=\"height:525px; width:100%;\"></div>            <script type=\"text/javascript\">                require([\"plotly\"], function(Plotly) {                    window.PLOTLYENV=window.PLOTLYENV || {};                                    if (document.getElementById(\"a48c6944-22e7-4cc3-b181-2aea62e84d90\")) {                    Plotly.newPlot(                        \"a48c6944-22e7-4cc3-b181-2aea62e84d90\",                        [{\"hovertemplate\":\"<b>%{hovertext}</b><br><br>v_target=opportunity_lead<br>visitas a la pagina=%{x}<br>aperturas de correo=%{marker.size}<extra></extra>\",\"hovertext\":[\"opportunity_lead\"],\"legendgroup\":\"opportunity_lead\",\"marker\":{\"color\":\"#636efa\",\"size\":[1.7171717171717171],\"sizemode\":\"area\",\"sizeref\":0.0004769921436588103,\"symbol\":\"circle\"},\"mode\":\"markers\",\"name\":\"opportunity_lead\",\"orientation\":\"v\",\"showlegend\":true,\"x\":[1.3737373737373737],\"xaxis\":\"x\",\"y\":[1.7171717171717171],\"yaxis\":\"y\",\"type\":\"scatter\"},{\"hovertemplate\":\"<b>%{hovertext}</b><br><br>v_target=unqualified_lead<br>visitas a la pagina=%{x}<br>aperturas de correo=%{marker.size}<extra></extra>\",\"hovertext\":[\"unqualified_lead\"],\"legendgroup\":\"unqualified_lead\",\"marker\":{\"color\":\"#EF553B\",\"size\":[0.48763474952441344],\"sizemode\":\"area\",\"sizeref\":0.0004769921436588103,\"symbol\":\"circle\"},\"mode\":\"markers\",\"name\":\"unqualified_lead\",\"orientation\":\"v\",\"showlegend\":true,\"x\":[0.7520608750792644],\"xaxis\":\"x\",\"y\":[0.48763474952441344],\"yaxis\":\"y\",\"type\":\"scatter\"}],                        {\"template\":{\"data\":{\"histogram2dcontour\":[{\"type\":\"histogram2dcontour\",\"colorbar\":{\"outlinewidth\":0,\"ticks\":\"\"},\"colorscale\":[[0.0,\"#0d0887\"],[0.1111111111111111,\"#46039f\"],[0.2222222222222222,\"#7201a8\"],[0.3333333333333333,\"#9c179e\"],[0.4444444444444444,\"#bd3786\"],[0.5555555555555556,\"#d8576b\"],[0.6666666666666666,\"#ed7953\"],[0.7777777777777778,\"#fb9f3a\"],[0.8888888888888888,\"#fdca26\"],[1.0,\"#f0f921\"]]}],\"choropleth\":[{\"type\":\"choropleth\",\"colorbar\":{\"outlinewidth\":0,\"ticks\":\"\"}}],\"histogram2d\":[{\"type\":\"histogram2d\",\"colorbar\":{\"outlinewidth\":0,\"ticks\":\"\"},\"colorscale\":[[0.0,\"#0d0887\"],[0.1111111111111111,\"#46039f\"],[0.2222222222222222,\"#7201a8\"],[0.3333333333333333,\"#9c179e\"],[0.4444444444444444,\"#bd3786\"],[0.5555555555555556,\"#d8576b\"],[0.6666666666666666,\"#ed7953\"],[0.7777777777777778,\"#fb9f3a\"],[0.8888888888888888,\"#fdca26\"],[1.0,\"#f0f921\"]]}],\"heatmap\":[{\"type\":\"heatmap\",\"colorbar\":{\"outlinewidth\":0,\"ticks\":\"\"},\"colorscale\":[[0.0,\"#0d0887\"],[0.1111111111111111,\"#46039f\"],[0.2222222222222222,\"#7201a8\"],[0.3333333333333333,\"#9c179e\"],[0.4444444444444444,\"#bd3786\"],[0.5555555555555556,\"#d8576b\"],[0.6666666666666666,\"#ed7953\"],[0.7777777777777778,\"#fb9f3a\"],[0.8888888888888888,\"#fdca26\"],[1.0,\"#f0f921\"]]}],\"heatmapgl\":[{\"type\":\"heatmapgl\",\"colorbar\":{\"outlinewidth\":0,\"ticks\":\"\"},\"colorscale\":[[0.0,\"#0d0887\"],[0.1111111111111111,\"#46039f\"],[0.2222222222222222,\"#7201a8\"],[0.3333333333333333,\"#9c179e\"],[0.4444444444444444,\"#bd3786\"],[0.5555555555555556,\"#d8576b\"],[0.6666666666666666,\"#ed7953\"],[0.7777777777777778,\"#fb9f3a\"],[0.8888888888888888,\"#fdca26\"],[1.0,\"#f0f921\"]]}],\"contourcarpet\":[{\"type\":\"contourcarpet\",\"colorbar\":{\"outlinewidth\":0,\"ticks\":\"\"}}],\"contour\":[{\"type\":\"contour\",\"colorbar\":{\"outlinewidth\":0,\"ticks\":\"\"},\"colorscale\":[[0.0,\"#0d0887\"],[0.1111111111111111,\"#46039f\"],[0.2222222222222222,\"#7201a8\"],[0.3333333333333333,\"#9c179e\"],[0.4444444444444444,\"#bd3786\"],[0.5555555555555556,\"#d8576b\"],[0.6666666666666666,\"#ed7953\"],[0.7777777777777778,\"#fb9f3a\"],[0.8888888888888888,\"#fdca26\"],[1.0,\"#f0f921\"]]}],\"surface\":[{\"type\":\"surface\",\"colorbar\":{\"outlinewidth\":0,\"ticks\":\"\"},\"colorscale\":[[0.0,\"#0d0887\"],[0.1111111111111111,\"#46039f\"],[0.2222222222222222,\"#7201a8\"],[0.3333333333333333,\"#9c179e\"],[0.4444444444444444,\"#bd3786\"],[0.5555555555555556,\"#d8576b\"],[0.6666666666666666,\"#ed7953\"],[0.7777777777777778,\"#fb9f3a\"],[0.8888888888888888,\"#fdca26\"],[1.0,\"#f0f921\"]]}],\"mesh3d\":[{\"type\":\"mesh3d\",\"colorbar\":{\"outlinewidth\":0,\"ticks\":\"\"}}],\"scatter\":[{\"fillpattern\":{\"fillmode\":\"overlay\",\"size\":10,\"solidity\":0.2},\"type\":\"scatter\"}],\"parcoords\":[{\"type\":\"parcoords\",\"line\":{\"colorbar\":{\"outlinewidth\":0,\"ticks\":\"\"}}}],\"scatterpolargl\":[{\"type\":\"scatterpolargl\",\"marker\":{\"colorbar\":{\"outlinewidth\":0,\"ticks\":\"\"}}}],\"bar\":[{\"error_x\":{\"color\":\"#2a3f5f\"},\"error_y\":{\"color\":\"#2a3f5f\"},\"marker\":{\"line\":{\"color\":\"#E5ECF6\",\"width\":0.5},\"pattern\":{\"fillmode\":\"overlay\",\"size\":10,\"solidity\":0.2}},\"type\":\"bar\"}],\"scattergeo\":[{\"type\":\"scattergeo\",\"marker\":{\"colorbar\":{\"outlinewidth\":0,\"ticks\":\"\"}}}],\"scatterpolar\":[{\"type\":\"scatterpolar\",\"marker\":{\"colorbar\":{\"outlinewidth\":0,\"ticks\":\"\"}}}],\"histogram\":[{\"marker\":{\"pattern\":{\"fillmode\":\"overlay\",\"size\":10,\"solidity\":0.2}},\"type\":\"histogram\"}],\"scattergl\":[{\"type\":\"scattergl\",\"marker\":{\"colorbar\":{\"outlinewidth\":0,\"ticks\":\"\"}}}],\"scatter3d\":[{\"type\":\"scatter3d\",\"line\":{\"colorbar\":{\"outlinewidth\":0,\"ticks\":\"\"}},\"marker\":{\"colorbar\":{\"outlinewidth\":0,\"ticks\":\"\"}}}],\"scattermapbox\":[{\"type\":\"scattermapbox\",\"marker\":{\"colorbar\":{\"outlinewidth\":0,\"ticks\":\"\"}}}],\"scatterternary\":[{\"type\":\"scatterternary\",\"marker\":{\"colorbar\":{\"outlinewidth\":0,\"ticks\":\"\"}}}],\"scattercarpet\":[{\"type\":\"scattercarpet\",\"marker\":{\"colorbar\":{\"outlinewidth\":0,\"ticks\":\"\"}}}],\"carpet\":[{\"aaxis\":{\"endlinecolor\":\"#2a3f5f\",\"gridcolor\":\"white\",\"linecolor\":\"white\",\"minorgridcolor\":\"white\",\"startlinecolor\":\"#2a3f5f\"},\"baxis\":{\"endlinecolor\":\"#2a3f5f\",\"gridcolor\":\"white\",\"linecolor\":\"white\",\"minorgridcolor\":\"white\",\"startlinecolor\":\"#2a3f5f\"},\"type\":\"carpet\"}],\"table\":[{\"cells\":{\"fill\":{\"color\":\"#EBF0F8\"},\"line\":{\"color\":\"white\"}},\"header\":{\"fill\":{\"color\":\"#C8D4E3\"},\"line\":{\"color\":\"white\"}},\"type\":\"table\"}],\"barpolar\":[{\"marker\":{\"line\":{\"color\":\"#E5ECF6\",\"width\":0.5},\"pattern\":{\"fillmode\":\"overlay\",\"size\":10,\"solidity\":0.2}},\"type\":\"barpolar\"}],\"pie\":[{\"automargin\":true,\"type\":\"pie\"}]},\"layout\":{\"autotypenumbers\":\"strict\",\"colorway\":[\"#636efa\",\"#EF553B\",\"#00cc96\",\"#ab63fa\",\"#FFA15A\",\"#19d3f3\",\"#FF6692\",\"#B6E880\",\"#FF97FF\",\"#FECB52\"],\"font\":{\"color\":\"#2a3f5f\"},\"hovermode\":\"closest\",\"hoverlabel\":{\"align\":\"left\"},\"paper_bgcolor\":\"white\",\"plot_bgcolor\":\"#E5ECF6\",\"polar\":{\"bgcolor\":\"#E5ECF6\",\"angularaxis\":{\"gridcolor\":\"white\",\"linecolor\":\"white\",\"ticks\":\"\"},\"radialaxis\":{\"gridcolor\":\"white\",\"linecolor\":\"white\",\"ticks\":\"\"}},\"ternary\":{\"bgcolor\":\"#E5ECF6\",\"aaxis\":{\"gridcolor\":\"white\",\"linecolor\":\"white\",\"ticks\":\"\"},\"baxis\":{\"gridcolor\":\"white\",\"linecolor\":\"white\",\"ticks\":\"\"},\"caxis\":{\"gridcolor\":\"white\",\"linecolor\":\"white\",\"ticks\":\"\"}},\"coloraxis\":{\"colorbar\":{\"outlinewidth\":0,\"ticks\":\"\"}},\"colorscale\":{\"sequential\":[[0.0,\"#0d0887\"],[0.1111111111111111,\"#46039f\"],[0.2222222222222222,\"#7201a8\"],[0.3333333333333333,\"#9c179e\"],[0.4444444444444444,\"#bd3786\"],[0.5555555555555556,\"#d8576b\"],[0.6666666666666666,\"#ed7953\"],[0.7777777777777778,\"#fb9f3a\"],[0.8888888888888888,\"#fdca26\"],[1.0,\"#f0f921\"]],\"sequentialminus\":[[0.0,\"#0d0887\"],[0.1111111111111111,\"#46039f\"],[0.2222222222222222,\"#7201a8\"],[0.3333333333333333,\"#9c179e\"],[0.4444444444444444,\"#bd3786\"],[0.5555555555555556,\"#d8576b\"],[0.6666666666666666,\"#ed7953\"],[0.7777777777777778,\"#fb9f3a\"],[0.8888888888888888,\"#fdca26\"],[1.0,\"#f0f921\"]],\"diverging\":[[0,\"#8e0152\"],[0.1,\"#c51b7d\"],[0.2,\"#de77ae\"],[0.3,\"#f1b6da\"],[0.4,\"#fde0ef\"],[0.5,\"#f7f7f7\"],[0.6,\"#e6f5d0\"],[0.7,\"#b8e186\"],[0.8,\"#7fbc41\"],[0.9,\"#4d9221\"],[1,\"#276419\"]]},\"xaxis\":{\"gridcolor\":\"white\",\"linecolor\":\"white\",\"ticks\":\"\",\"title\":{\"standoff\":15},\"zerolinecolor\":\"white\",\"automargin\":true,\"zerolinewidth\":2},\"yaxis\":{\"gridcolor\":\"white\",\"linecolor\":\"white\",\"ticks\":\"\",\"title\":{\"standoff\":15},\"zerolinecolor\":\"white\",\"automargin\":true,\"zerolinewidth\":2},\"scene\":{\"xaxis\":{\"backgroundcolor\":\"#E5ECF6\",\"gridcolor\":\"white\",\"linecolor\":\"white\",\"showbackground\":true,\"ticks\":\"\",\"zerolinecolor\":\"white\",\"gridwidth\":2},\"yaxis\":{\"backgroundcolor\":\"#E5ECF6\",\"gridcolor\":\"white\",\"linecolor\":\"white\",\"showbackground\":true,\"ticks\":\"\",\"zerolinecolor\":\"white\",\"gridwidth\":2},\"zaxis\":{\"backgroundcolor\":\"#E5ECF6\",\"gridcolor\":\"white\",\"linecolor\":\"white\",\"showbackground\":true,\"ticks\":\"\",\"zerolinecolor\":\"white\",\"gridwidth\":2}},\"shapedefaults\":{\"line\":{\"color\":\"#2a3f5f\"}},\"annotationdefaults\":{\"arrowcolor\":\"#2a3f5f\",\"arrowhead\":0,\"arrowwidth\":1},\"geo\":{\"bgcolor\":\"white\",\"landcolor\":\"#E5ECF6\",\"subunitcolor\":\"white\",\"showland\":true,\"showlakes\":true,\"lakecolor\":\"white\"},\"title\":{\"x\":0.05},\"mapbox\":{\"style\":\"light\"}}},\"xaxis\":{\"anchor\":\"y\",\"domain\":[0.0,1.0],\"title\":{\"text\":\"visitas a la pagina\"},\"type\":\"log\"},\"yaxis\":{\"anchor\":\"x\",\"domain\":[0.0,1.0],\"title\":{\"text\":\"aperturas de correo\"}},\"legend\":{\"title\":{\"text\":\"v_target\"},\"tracegroupgap\":0,\"itemsizing\":\"constant\"},\"margin\":{\"t\":60}},                        {\"responsive\": true}                    ).then(function(){\n",
       "                            \n",
       "var gd = document.getElementById('a48c6944-22e7-4cc3-b181-2aea62e84d90');\n",
       "var x = new MutationObserver(function (mutations, observer) {{\n",
       "        var display = window.getComputedStyle(gd).display;\n",
       "        if (!display || display === 'none') {{\n",
       "            console.log([gd, 'removed!']);\n",
       "            Plotly.purge(gd);\n",
       "            observer.disconnect();\n",
       "        }}\n",
       "}});\n",
       "\n",
       "// Listen for the removal of the full notebook cells\n",
       "var notebookContainer = gd.closest('#notebook-container');\n",
       "if (notebookContainer) {{\n",
       "    x.observe(notebookContainer, {childList: true});\n",
       "}}\n",
       "\n",
       "// Listen for the clearing of the current output cell\n",
       "var outputEl = gd.closest('.output');\n",
       "if (outputEl) {{\n",
       "    x.observe(outputEl, {childList: true});\n",
       "}}\n",
       "\n",
       "                        })                };                });            </script>        </div>"
      ]
     },
     "metadata": {},
     "output_type": "display_data"
    }
   ],
   "source": [
    "df_avg = df.groupby('v_target')['visitas a la pagina', 'aperturas de correo'].mean().reset_index()\n",
    "fig = px.scatter(df_avg, x=\"visitas a la pagina\", y=\"aperturas de correo\",\n",
    "\t         size=\"aperturas de correo\", color=\"v_target\",\n",
    "                 hover_name=\"v_target\", log_x=True, size_max=60)\n",
    "fig.show()"
   ]
  },
  {
   "cell_type": "code",
   "execution_count": 29,
   "id": "63aee7fa",
   "metadata": {
    "_kg_hide-input": true,
    "execution": {
     "iopub.execute_input": "2023-06-02T23:57:04.385475Z",
     "iopub.status.busy": "2023-06-02T23:57:04.385062Z",
     "iopub.status.idle": "2023-06-02T23:57:04.918175Z",
     "shell.execute_reply": "2023-06-02T23:57:04.916722Z"
    },
    "jupyter": {
     "source_hidden": true
    },
    "papermill": {
     "duration": 0.5727,
     "end_time": "2023-06-02T23:57:04.920857",
     "exception": false,
     "start_time": "2023-06-02T23:57:04.348157",
     "status": "completed"
    },
    "tags": []
   },
   "outputs": [
    {
     "data": {
      "image/png": "[encoded data removed]",
      "text/plain": [
       "<Figure size 1000x700 with 1 Axes>"
      ]
     },
     "metadata": {},
     "output_type": "display_data"
    }
   ],
   "source": [
    "table = pd.crosstab(df['franquicia'], df['v_target'])\n",
    "# Crear gráfico de barras apilado\n",
    "table.plot(kind='bar', stacked=True, figsize=(10,7), color=colors)\n",
    "plt.title('Relationship between Target and franchise')\n",
    "plt.xlabel('franquicia')\n",
    "plt.ylabel('Count')\n",
    "plt.xticks(rotation=45)\n",
    "plt.show()\n"
   ]
  },
  {
   "cell_type": "code",
   "execution_count": 30,
   "id": "2522432b",
   "metadata": {
    "_kg_hide-input": true,
    "execution": {
     "iopub.execute_input": "2023-06-02T23:57:04.995504Z",
     "iopub.status.busy": "2023-06-02T23:57:04.995107Z",
     "iopub.status.idle": "2023-06-02T23:57:05.023257Z",
     "shell.execute_reply": "2023-06-02T23:57:05.022024Z"
    },
    "jupyter": {
     "source_hidden": true
    },
    "papermill": {
     "duration": 0.068895,
     "end_time": "2023-06-02T23:57:05.026145",
     "exception": false,
     "start_time": "2023-06-02T23:57:04.957250",
     "status": "completed"
    },
    "tags": []
   },
   "outputs": [
    {
     "data": {
      "text/html": [
       "<div>                            <div id=\"8c699c43-8458-4f6a-bda6-af9f14ef51f4\" class=\"plotly-graph-div\" style=\"height:525px; width:100%;\"></div>            <script type=\"text/javascript\">                require([\"plotly\"], function(Plotly) {                    window.PLOTLYENV=window.PLOTLYENV || {};                                    if (document.getElementById(\"8c699c43-8458-4f6a-bda6-af9f14ef51f4\")) {                    Plotly.newPlot(                        \"8c699c43-8458-4f6a-bda6-af9f14ef51f4\",                        [{\"marker\":{\"color\":\"#064572\"},\"name\":\"opportunity_lead\",\"x\":[\"buenos aires\",\"sin valor\",\"zonas menos recurrentes\"],\"y\":[86,21,91],\"type\":\"bar\"},{\"marker\":{\"color\":\"#A8854F\"},\"name\":\"unqualified_lead\",\"x\":[\"buenos aires\",\"sin valor\",\"zonas menos recurrentes\"],\"y\":[303,795,479],\"type\":\"bar\"}],                        {\"template\":{\"data\":{\"histogram2dcontour\":[{\"type\":\"histogram2dcontour\",\"colorbar\":{\"outlinewidth\":0,\"ticks\":\"\"},\"colorscale\":[[0.0,\"#0d0887\"],[0.1111111111111111,\"#46039f\"],[0.2222222222222222,\"#7201a8\"],[0.3333333333333333,\"#9c179e\"],[0.4444444444444444,\"#bd3786\"],[0.5555555555555556,\"#d8576b\"],[0.6666666666666666,\"#ed7953\"],[0.7777777777777778,\"#fb9f3a\"],[0.8888888888888888,\"#fdca26\"],[1.0,\"#f0f921\"]]}],\"choropleth\":[{\"type\":\"choropleth\",\"colorbar\":{\"outlinewidth\":0,\"ticks\":\"\"}}],\"histogram2d\":[{\"type\":\"histogram2d\",\"colorbar\":{\"outlinewidth\":0,\"ticks\":\"\"},\"colorscale\":[[0.0,\"#0d0887\"],[0.1111111111111111,\"#46039f\"],[0.2222222222222222,\"#7201a8\"],[0.3333333333333333,\"#9c179e\"],[0.4444444444444444,\"#bd3786\"],[0.5555555555555556,\"#d8576b\"],[0.6666666666666666,\"#ed7953\"],[0.7777777777777778,\"#fb9f3a\"],[0.8888888888888888,\"#fdca26\"],[1.0,\"#f0f921\"]]}],\"heatmap\":[{\"type\":\"heatmap\",\"colorbar\":{\"outlinewidth\":0,\"ticks\":\"\"},\"colorscale\":[[0.0,\"#0d0887\"],[0.1111111111111111,\"#46039f\"],[0.2222222222222222,\"#7201a8\"],[0.3333333333333333,\"#9c179e\"],[0.4444444444444444,\"#bd3786\"],[0.5555555555555556,\"#d8576b\"],[0.6666666666666666,\"#ed7953\"],[0.7777777777777778,\"#fb9f3a\"],[0.8888888888888888,\"#fdca26\"],[1.0,\"#f0f921\"]]}],\"heatmapgl\":[{\"type\":\"heatmapgl\",\"colorbar\":{\"outlinewidth\":0,\"ticks\":\"\"},\"colorscale\":[[0.0,\"#0d0887\"],[0.1111111111111111,\"#46039f\"],[0.2222222222222222,\"#7201a8\"],[0.3333333333333333,\"#9c179e\"],[0.4444444444444444,\"#bd3786\"],[0.5555555555555556,\"#d8576b\"],[0.6666666666666666,\"#ed7953\"],[0.7777777777777778,\"#fb9f3a\"],[0.8888888888888888,\"#fdca26\"],[1.0,\"#f0f921\"]]}],\"contourcarpet\":[{\"type\":\"contourcarpet\",\"colorbar\":{\"outlinewidth\":0,\"ticks\":\"\"}}],\"contour\":[{\"type\":\"contour\",\"colorbar\":{\"outlinewidth\":0,\"ticks\":\"\"},\"colorscale\":[[0.0,\"#0d0887\"],[0.1111111111111111,\"#46039f\"],[0.2222222222222222,\"#7201a8\"],[0.3333333333333333,\"#9c179e\"],[0.4444444444444444,\"#bd3786\"],[0.5555555555555556,\"#d8576b\"],[0.6666666666666666,\"#ed7953\"],[0.7777777777777778,\"#fb9f3a\"],[0.8888888888888888,\"#fdca26\"],[1.0,\"#f0f921\"]]}],\"surface\":[{\"type\":\"surface\",\"colorbar\":{\"outlinewidth\":0,\"ticks\":\"\"},\"colorscale\":[[0.0,\"#0d0887\"],[0.1111111111111111,\"#46039f\"],[0.2222222222222222,\"#7201a8\"],[0.3333333333333333,\"#9c179e\"],[0.4444444444444444,\"#bd3786\"],[0.5555555555555556,\"#d8576b\"],[0.6666666666666666,\"#ed7953\"],[0.7777777777777778,\"#fb9f3a\"],[0.8888888888888888,\"#fdca26\"],[1.0,\"#f0f921\"]]}],\"mesh3d\":[{\"type\":\"mesh3d\",\"colorbar\":{\"outlinewidth\":0,\"ticks\":\"\"}}],\"scatter\":[{\"fillpattern\":{\"fillmode\":\"overlay\",\"size\":10,\"solidity\":0.2},\"type\":\"scatter\"}],\"parcoords\":[{\"type\":\"parcoords\",\"line\":{\"colorbar\":{\"outlinewidth\":0,\"ticks\":\"\"}}}],\"scatterpolargl\":[{\"type\":\"scatterpolargl\",\"marker\":{\"colorbar\":{\"outlinewidth\":0,\"ticks\":\"\"}}}],\"bar\":[{\"error_x\":{\"color\":\"#2a3f5f\"},\"error_y\":{\"color\":\"#2a3f5f\"},\"marker\":{\"line\":{\"color\":\"#E5ECF6\",\"width\":0.5},\"pattern\":{\"fillmode\":\"overlay\",\"size\":10,\"solidity\":0.2}},\"type\":\"bar\"}],\"scattergeo\":[{\"type\":\"scattergeo\",\"marker\":{\"colorbar\":{\"outlinewidth\":0,\"ticks\":\"\"}}}],\"scatterpolar\":[{\"type\":\"scatterpolar\",\"marker\":{\"colorbar\":{\"outlinewidth\":0,\"ticks\":\"\"}}}],\"histogram\":[{\"marker\":{\"pattern\":{\"fillmode\":\"overlay\",\"size\":10,\"solidity\":0.2}},\"type\":\"histogram\"}],\"scattergl\":[{\"type\":\"scattergl\",\"marker\":{\"colorbar\":{\"outlinewidth\":0,\"ticks\":\"\"}}}],\"scatter3d\":[{\"type\":\"scatter3d\",\"line\":{\"colorbar\":{\"outlinewidth\":0,\"ticks\":\"\"}},\"marker\":{\"colorbar\":{\"outlinewidth\":0,\"ticks\":\"\"}}}],\"scattermapbox\":[{\"type\":\"scattermapbox\",\"marker\":{\"colorbar\":{\"outlinewidth\":0,\"ticks\":\"\"}}}],\"scatterternary\":[{\"type\":\"scatterternary\",\"marker\":{\"colorbar\":{\"outlinewidth\":0,\"ticks\":\"\"}}}],\"scattercarpet\":[{\"type\":\"scattercarpet\",\"marker\":{\"colorbar\":{\"outlinewidth\":0,\"ticks\":\"\"}}}],\"carpet\":[{\"aaxis\":{\"endlinecolor\":\"#2a3f5f\",\"gridcolor\":\"white\",\"linecolor\":\"white\",\"minorgridcolor\":\"white\",\"startlinecolor\":\"#2a3f5f\"},\"baxis\":{\"endlinecolor\":\"#2a3f5f\",\"gridcolor\":\"white\",\"linecolor\":\"white\",\"minorgridcolor\":\"white\",\"startlinecolor\":\"#2a3f5f\"},\"type\":\"carpet\"}],\"table\":[{\"cells\":{\"fill\":{\"color\":\"#EBF0F8\"},\"line\":{\"color\":\"white\"}},\"header\":{\"fill\":{\"color\":\"#C8D4E3\"},\"line\":{\"color\":\"white\"}},\"type\":\"table\"}],\"barpolar\":[{\"marker\":{\"line\":{\"color\":\"#E5ECF6\",\"width\":0.5},\"pattern\":{\"fillmode\":\"overlay\",\"size\":10,\"solidity\":0.2}},\"type\":\"barpolar\"}],\"pie\":[{\"automargin\":true,\"type\":\"pie\"}]},\"layout\":{\"autotypenumbers\":\"strict\",\"colorway\":[\"#636efa\",\"#EF553B\",\"#00cc96\",\"#ab63fa\",\"#FFA15A\",\"#19d3f3\",\"#FF6692\",\"#B6E880\",\"#FF97FF\",\"#FECB52\"],\"font\":{\"color\":\"#2a3f5f\"},\"hovermode\":\"closest\",\"hoverlabel\":{\"align\":\"left\"},\"paper_bgcolor\":\"white\",\"plot_bgcolor\":\"#E5ECF6\",\"polar\":{\"bgcolor\":\"#E5ECF6\",\"angularaxis\":{\"gridcolor\":\"white\",\"linecolor\":\"white\",\"ticks\":\"\"},\"radialaxis\":{\"gridcolor\":\"white\",\"linecolor\":\"white\",\"ticks\":\"\"}},\"ternary\":{\"bgcolor\":\"#E5ECF6\",\"aaxis\":{\"gridcolor\":\"white\",\"linecolor\":\"white\",\"ticks\":\"\"},\"baxis\":{\"gridcolor\":\"white\",\"linecolor\":\"white\",\"ticks\":\"\"},\"caxis\":{\"gridcolor\":\"white\",\"linecolor\":\"white\",\"ticks\":\"\"}},\"coloraxis\":{\"colorbar\":{\"outlinewidth\":0,\"ticks\":\"\"}},\"colorscale\":{\"sequential\":[[0.0,\"#0d0887\"],[0.1111111111111111,\"#46039f\"],[0.2222222222222222,\"#7201a8\"],[0.3333333333333333,\"#9c179e\"],[0.4444444444444444,\"#bd3786\"],[0.5555555555555556,\"#d8576b\"],[0.6666666666666666,\"#ed7953\"],[0.7777777777777778,\"#fb9f3a\"],[0.8888888888888888,\"#fdca26\"],[1.0,\"#f0f921\"]],\"sequentialminus\":[[0.0,\"#0d0887\"],[0.1111111111111111,\"#46039f\"],[0.2222222222222222,\"#7201a8\"],[0.3333333333333333,\"#9c179e\"],[0.4444444444444444,\"#bd3786\"],[0.5555555555555556,\"#d8576b\"],[0.6666666666666666,\"#ed7953\"],[0.7777777777777778,\"#fb9f3a\"],[0.8888888888888888,\"#fdca26\"],[1.0,\"#f0f921\"]],\"diverging\":[[0,\"#8e0152\"],[0.1,\"#c51b7d\"],[0.2,\"#de77ae\"],[0.3,\"#f1b6da\"],[0.4,\"#fde0ef\"],[0.5,\"#f7f7f7\"],[0.6,\"#e6f5d0\"],[0.7,\"#b8e186\"],[0.8,\"#7fbc41\"],[0.9,\"#4d9221\"],[1,\"#276419\"]]},\"xaxis\":{\"gridcolor\":\"white\",\"linecolor\":\"white\",\"ticks\":\"\",\"title\":{\"standoff\":15},\"zerolinecolor\":\"white\",\"automargin\":true,\"zerolinewidth\":2},\"yaxis\":{\"gridcolor\":\"white\",\"linecolor\":\"white\",\"ticks\":\"\",\"title\":{\"standoff\":15},\"zerolinecolor\":\"white\",\"automargin\":true,\"zerolinewidth\":2},\"scene\":{\"xaxis\":{\"backgroundcolor\":\"#E5ECF6\",\"gridcolor\":\"white\",\"linecolor\":\"white\",\"showbackground\":true,\"ticks\":\"\",\"zerolinecolor\":\"white\",\"gridwidth\":2},\"yaxis\":{\"backgroundcolor\":\"#E5ECF6\",\"gridcolor\":\"white\",\"linecolor\":\"white\",\"showbackground\":true,\"ticks\":\"\",\"zerolinecolor\":\"white\",\"gridwidth\":2},\"zaxis\":{\"backgroundcolor\":\"#E5ECF6\",\"gridcolor\":\"white\",\"linecolor\":\"white\",\"showbackground\":true,\"ticks\":\"\",\"zerolinecolor\":\"white\",\"gridwidth\":2}},\"shapedefaults\":{\"line\":{\"color\":\"#2a3f5f\"}},\"annotationdefaults\":{\"arrowcolor\":\"#2a3f5f\",\"arrowhead\":0,\"arrowwidth\":1},\"geo\":{\"bgcolor\":\"white\",\"landcolor\":\"#E5ECF6\",\"subunitcolor\":\"white\",\"showland\":true,\"showlakes\":true,\"lakecolor\":\"white\"},\"title\":{\"x\":0.05},\"mapbox\":{\"style\":\"light\"}}},\"barmode\":\"stack\",\"title\":{\"text\":\"Relationship between Target and  Zone\"},\"xaxis\":{\"title\":{\"text\":\"Segmento de zone\"}},\"yaxis\":{\"title\":{\"text\":\"Cantidad de leeds\"}}},                        {\"responsive\": true}                    ).then(function(){\n",
       "                            \n",
       "var gd = document.getElementById('8c699c43-8458-4f6a-bda6-af9f14ef51f4');\n",
       "var x = new MutationObserver(function (mutations, observer) {{\n",
       "        var display = window.getComputedStyle(gd).display;\n",
       "        if (!display || display === 'none') {{\n",
       "            console.log([gd, 'removed!']);\n",
       "            Plotly.purge(gd);\n",
       "            observer.disconnect();\n",
       "        }}\n",
       "}});\n",
       "\n",
       "// Listen for the removal of the full notebook cells\n",
       "var notebookContainer = gd.closest('#notebook-container');\n",
       "if (notebookContainer) {{\n",
       "    x.observe(notebookContainer, {childList: true});\n",
       "}}\n",
       "\n",
       "// Listen for the clearing of the current output cell\n",
       "var outputEl = gd.closest('.output');\n",
       "if (outputEl) {{\n",
       "    x.observe(outputEl, {childList: true});\n",
       "}}\n",
       "\n",
       "                        })                };                });            </script>        </div>"
      ]
     },
     "metadata": {},
     "output_type": "display_data"
    }
   ],
   "source": [
    "fig = go.Figure()\n",
    "zonas_agrupadas = df.groupby(['v_target', 'zone']).size().reset_index(name='conteo')\n",
    "# Mapear cada categoría única a un color\n",
    "unique_targets = zonas_agrupadas['v_target'].unique()\n",
    "color_dict = {target: colors[i % len(colors)] for i, target in enumerate(unique_targets)}\n",
    "fig = go.Figure()\n",
    "for elead in unique_targets:\n",
    "    zonas_elead = zonas_agrupadas[zonas_agrupadas['v_target'] == elead]\n",
    "    fig.add_trace(go.Bar(x=zonas_elead['zone'], y=zonas_elead['conteo'], name=str(elead), \n",
    "                         marker_color=color_dict[elead]))\n",
    "# Diseño del gráfico\n",
    "fig.update_layout(barmode='stack', title='Relationship between Target and  Zone',\n",
    "                  xaxis_title='Segmento de zone', yaxis_title='Cantidad de leeds')\n",
    "fig.show()\n"
   ]
  },
  {
   "cell_type": "markdown",
   "id": "35fbb07c",
   "metadata": {
    "papermill": {
     "duration": 0.03676,
     "end_time": "2023-06-02T23:57:05.101385",
     "exception": false,
     "start_time": "2023-06-02T23:57:05.064625",
     "status": "completed"
    },
    "tags": []
   },
   "source": [
    "# <p style=\"font-family:JetBrains Mono; font-weight:bold; letter-spacing: 2px; color:#05041B; font-size:140%; text-align:left;padding: 0px; border-bottom: 3px solid #FFB800\">🧠 Step 5 Model Definition</p>"
   ]
  },
  {
   "cell_type": "markdown",
   "id": "0399b060",
   "metadata": {
    "papermill": {
     "duration": 0.036033,
     "end_time": "2023-06-02T23:57:05.173825",
     "exception": false,
     "start_time": "2023-06-02T23:57:05.137792",
     "status": "completed"
    },
    "tags": []
   },
   "source": [
    "<div style=\"border-radius:13px; border:#FFB800 solid; padding: 15px; background-color: #FAFFFF; font-size:109%; text-align:left\">\n",
    "    \n",
    "* I will use a CatBoost model and a Random Forest model due to their ability to handle both categorical and numerical columns. Additionally, I will apply the SMOTE technique to address class imbalances.. \n",
    "    \n",
    "* It is important to note that **90% of the data belongs to the \"unqualified_lead\"** class, which can bias the model and result in high precision but low effectiveness.. \n",
    "    \n",
    "* **Considering the scarcity of \"opportunity_lead\" instances, it will be crucial to avoid producing false negatives or misclassifying them as \"unqualified_lead\" in order to achieve success.\"**\n"
   ]
  },
  {
   "cell_type": "code",
   "execution_count": 31,
   "id": "b59fdbcf",
   "metadata": {
    "_kg_hide-input": false,
    "execution": {
     "iopub.execute_input": "2023-06-02T23:57:05.253357Z",
     "iopub.status.busy": "2023-06-02T23:57:05.252143Z",
     "iopub.status.idle": "2023-06-02T23:57:05.272685Z",
     "shell.execute_reply": "2023-06-02T23:57:05.271258Z"
    },
    "jupyter": {
     "source_hidden": true
    },
    "papermill": {
     "duration": 0.06441,
     "end_time": "2023-06-02T23:57:05.275424",
     "exception": false,
     "start_time": "2023-06-02T23:57:05.211014",
     "status": "completed"
    },
    "tags": []
   },
   "outputs": [
    {
     "data": {
      "text/html": [
       "<div>\n",
       "<style scoped>\n",
       "    .dataframe tbody tr th:only-of-type {\n",
       "        vertical-align: middle;\n",
       "    }\n",
       "\n",
       "    .dataframe tbody tr th {\n",
       "        vertical-align: top;\n",
       "    }\n",
       "\n",
       "    .dataframe thead th {\n",
       "        text-align: right;\n",
       "    }\n",
       "</style>\n",
       "<table border=\"1\" class=\"dataframe\">\n",
       "  <thead>\n",
       "    <tr style=\"text-align: right;\">\n",
       "      <th></th>\n",
       "      <th>v_target</th>\n",
       "      <th>formularios enviados</th>\n",
       "      <th>visitas a la pagina</th>\n",
       "      <th>interacciones varias</th>\n",
       "      <th>aperturas de correo</th>\n",
       "      <th>franquicia</th>\n",
       "      <th>inversion</th>\n",
       "      <th>zone</th>\n",
       "      <th>source</th>\n",
       "    </tr>\n",
       "  </thead>\n",
       "  <tbody>\n",
       "    <tr>\n",
       "      <th>282</th>\n",
       "      <td>opportunity_lead</td>\n",
       "      <td>1.0</td>\n",
       "      <td>1.0</td>\n",
       "      <td>2.0</td>\n",
       "      <td>2.0</td>\n",
       "      <td>big pizza</td>\n",
       "      <td>low</td>\n",
       "      <td>buenos aires</td>\n",
       "      <td>referencias</td>\n",
       "    </tr>\n",
       "    <tr>\n",
       "      <th>288</th>\n",
       "      <td>unqualified_lead</td>\n",
       "      <td>1.0</td>\n",
       "      <td>1.0</td>\n",
       "      <td>0.0</td>\n",
       "      <td>0.0</td>\n",
       "      <td>don antonio</td>\n",
       "      <td>low</td>\n",
       "      <td>sin valor</td>\n",
       "      <td>redes sociales de pago</td>\n",
       "    </tr>\n",
       "    <tr>\n",
       "      <th>291</th>\n",
       "      <td>unqualified_lead</td>\n",
       "      <td>1.0</td>\n",
       "      <td>1.0</td>\n",
       "      <td>3.0</td>\n",
       "      <td>1.0</td>\n",
       "      <td>cafe martinez</td>\n",
       "      <td>high</td>\n",
       "      <td>zonas menos recurrentes</td>\n",
       "      <td>redes sociales de pago</td>\n",
       "    </tr>\n",
       "    <tr>\n",
       "      <th>294</th>\n",
       "      <td>unqualified_lead</td>\n",
       "      <td>1.0</td>\n",
       "      <td>1.0</td>\n",
       "      <td>0.0</td>\n",
       "      <td>0.0</td>\n",
       "      <td>pirka</td>\n",
       "      <td>med</td>\n",
       "      <td>sin valor</td>\n",
       "      <td>redes sociales de pago</td>\n",
       "    </tr>\n",
       "    <tr>\n",
       "      <th>297</th>\n",
       "      <td>unqualified_lead</td>\n",
       "      <td>1.0</td>\n",
       "      <td>1.0</td>\n",
       "      <td>4.0</td>\n",
       "      <td>1.0</td>\n",
       "      <td>la birra bar</td>\n",
       "      <td>veryhigh</td>\n",
       "      <td>buenos aires</td>\n",
       "      <td>búsqueda de pago</td>\n",
       "    </tr>\n",
       "    <tr>\n",
       "      <th>300</th>\n",
       "      <td>unqualified_lead</td>\n",
       "      <td>0.0</td>\n",
       "      <td>0.0</td>\n",
       "      <td>0.0</td>\n",
       "      <td>0.0</td>\n",
       "      <td>guapaletas</td>\n",
       "      <td>med</td>\n",
       "      <td>zonas menos recurrentes</td>\n",
       "      <td>fuentes sin conexión</td>\n",
       "    </tr>\n",
       "  </tbody>\n",
       "</table>\n",
       "</div>"
      ],
      "text/plain": [
       "             v_target  formularios enviados  visitas a la pagina  \\\n",
       "282  opportunity_lead                   1.0                  1.0   \n",
       "288  unqualified_lead                   1.0                  1.0   \n",
       "291  unqualified_lead                   1.0                  1.0   \n",
       "294  unqualified_lead                   1.0                  1.0   \n",
       "297  unqualified_lead                   1.0                  1.0   \n",
       "300  unqualified_lead                   0.0                  0.0   \n",
       "\n",
       "     interacciones varias  aperturas de correo     franquicia inversion  \\\n",
       "282                   2.0                  2.0      big pizza       low   \n",
       "288                   0.0                  0.0    don antonio       low   \n",
       "291                   3.0                  1.0  cafe martinez      high   \n",
       "294                   0.0                  0.0          pirka       med   \n",
       "297                   4.0                  1.0   la birra bar  veryhigh   \n",
       "300                   0.0                  0.0     guapaletas       med   \n",
       "\n",
       "                        zone                  source  \n",
       "282             buenos aires             referencias  \n",
       "288                sin valor  redes sociales de pago  \n",
       "291  zonas menos recurrentes  redes sociales de pago  \n",
       "294                sin valor  redes sociales de pago  \n",
       "297             buenos aires        búsqueda de pago  \n",
       "300  zonas menos recurrentes    fuentes sin conexión  "
      ]
     },
     "execution_count": 31,
     "metadata": {},
     "output_type": "execute_result"
    }
   ],
   "source": [
    "df.iloc[102:108] "
   ]
  },
  {
   "cell_type": "code",
   "execution_count": 32,
   "id": "d0933cc5",
   "metadata": {
    "_kg_hide-input": true,
    "execution": {
     "iopub.execute_input": "2023-06-02T23:57:05.354202Z",
     "iopub.status.busy": "2023-06-02T23:57:05.353765Z",
     "iopub.status.idle": "2023-06-02T23:57:05.366505Z",
     "shell.execute_reply": "2023-06-02T23:57:05.365176Z"
    },
    "jupyter": {
     "source_hidden": true
    },
    "papermill": {
     "duration": 0.054613,
     "end_time": "2023-06-02T23:57:05.369114",
     "exception": false,
     "start_time": "2023-06-02T23:57:05.314501",
     "status": "completed"
    },
    "tags": []
   },
   "outputs": [],
   "source": [
    "#Prepro\n",
    "data = df\n",
    "X = data.drop(\"v_target\", axis=1)\n",
    "y = data[\"v_target\"]\n",
    "numeric_features = ['formularios enviados', 'visitas a la pagina', 'interacciones varias' , 'aperturas de correo']\n",
    "numeric_transformer = Pipeline(steps=[\n",
    "    ('imputer', SimpleImputer(strategy='median')),\n",
    "    ('scaler', StandardScaler())])\n",
    "categorical_features = ['franquicia', 'inversion', 'zone', 'source']\n",
    "categorical_transformer = Pipeline(steps=[\n",
    "    ('imputer', SimpleImputer(strategy='constant', fill_value='missing')),\n",
    "    ('onehot', OneHotEncoder(handle_unknown='ignore'))])\n",
    "preprocessor = ColumnTransformer(\n",
    "    transformers=[\n",
    "        ('num', numeric_transformer, numeric_features),\n",
    "        ('cat', categorical_transformer, categorical_features)])\n",
    "# Dividir los datos en conjuntos de entrenamiento y prueba\n",
    "X_train, X_test, y_train, y_test = train_test_split(X, y, test_size=0.2, random_state=42)\n"
   ]
  },
  {
   "cell_type": "markdown",
   "id": "c1a29c00",
   "metadata": {
    "papermill": {
     "duration": 0.038404,
     "end_time": "2023-06-02T23:57:05.446345",
     "exception": false,
     "start_time": "2023-06-02T23:57:05.407941",
     "status": "completed"
    },
    "tags": []
   },
   "source": [
    "<div style=\"border-radius:13px; border:#FFB800 solid; padding: 15px; background-color: #FAFFFF; font-size:107%; text-align:left\">\n",
    "\n",
    "* **Catboost Model**"
   ]
  },
  {
   "cell_type": "code",
   "execution_count": 33,
   "id": "2bb3dd23",
   "metadata": {
    "_kg_hide-output": true,
    "execution": {
     "iopub.execute_input": "2023-06-02T23:57:05.522492Z",
     "iopub.status.busy": "2023-06-02T23:57:05.522098Z",
     "iopub.status.idle": "2023-06-02T23:58:15.996274Z",
     "shell.execute_reply": "2023-06-02T23:58:15.994824Z"
    },
    "jupyter": {
     "source_hidden": true
    },
    "papermill": {
     "duration": 70.516225,
     "end_time": "2023-06-02T23:58:15.999286",
     "exception": false,
     "start_time": "2023-06-02T23:57:05.483061",
     "status": "completed"
    },
    "tags": []
   },
   "outputs": [],
   "source": [
    "# CatBoost \n",
    "clf1 = make_imb_pipeline(preprocessor, SMOTE(random_state=42), CatBoostClassifier(verbose=0))\n",
    "params_catboost = {\n",
    "    'catboostclassifier__iterations': randint(100, 500),\n",
    "    'catboostclassifier__depth': randint(1, 10),\n",
    "    'catboostclassifier__learning_rate': uniform(0.01, 0.3),\n",
    "    'catboostclassifier__l2_leaf_reg': uniform(2, 30)\n",
    "}\n",
    "search_catboost = RandomizedSearchCV(clf1, param_distributions=params_catboost, n_iter=10, cv=3, verbose=0, random_state=42, n_jobs=-1)\n",
    "search_catboost.fit(X_train, y_train)\n",
    "y_pred_catboost = search_catboost.predict(X_test)\n"
   ]
  },
  {
   "cell_type": "markdown",
   "id": "d092f66c",
   "metadata": {
    "papermill": {
     "duration": 0.036397,
     "end_time": "2023-06-02T23:58:16.073080",
     "exception": false,
     "start_time": "2023-06-02T23:58:16.036683",
     "status": "completed"
    },
    "tags": []
   },
   "source": [
    "<div style=\"border-radius:13px; border:#FFB800 solid; padding: 15px; background-color: #FAFFFF; font-size:108%; text-align:left\">\n",
    "* 📝 Predictions and metrics\n"
   ]
  },
  {
   "cell_type": "code",
   "execution_count": 34,
   "id": "65d73eba",
   "metadata": {
    "_kg_hide-input": true,
    "execution": {
     "iopub.execute_input": "2023-06-02T23:58:16.147979Z",
     "iopub.status.busy": "2023-06-02T23:58:16.147497Z",
     "iopub.status.idle": "2023-06-02T23:58:16.183823Z",
     "shell.execute_reply": "2023-06-02T23:58:16.182735Z"
    },
    "jupyter": {
     "source_hidden": true
    },
    "papermill": {
     "duration": 0.077168,
     "end_time": "2023-06-02T23:58:16.186414",
     "exception": false,
     "start_time": "2023-06-02T23:58:16.109246",
     "status": "completed"
    },
    "tags": []
   },
   "outputs": [
    {
     "name": "stdout",
     "output_type": "stream",
     "text": [
      "Model CatBoost predictions\n",
      "                  precision    recall  f1-score   support\n",
      "\n",
      "opportunity_lead       0.70      0.64      0.67        33\n",
      "unqualified_lead       0.96      0.97      0.97       322\n",
      "\n",
      "        accuracy                           0.94       355\n",
      "       macro avg       0.83      0.80      0.82       355\n",
      "    weighted avg       0.94      0.94      0.94       355\n",
      "\n",
      "Hamming Loss:0.059154929577464786\n",
      "Accuracy: 0.9408450704225352\n"
     ]
    }
   ],
   "source": [
    "print(\"Model CatBoost predictions\")\n",
    "print(classification_report(y_test, y_pred_catboost))\n",
    "hl_c = hamming_loss(y_test, y_pred_catboost)\n",
    "acc_c = accuracy_score(y_test, y_pred_catboost)\n",
    "print(f\"Hamming Loss:{hl_c}\")\n",
    "print(f\"Accuracy: {acc_c}\")\n",
    "\n"
   ]
  },
  {
   "cell_type": "markdown",
   "id": "da128801",
   "metadata": {
    "papermill": {
     "duration": 0.036846,
     "end_time": "2023-06-02T23:58:16.260066",
     "exception": false,
     "start_time": "2023-06-02T23:58:16.223220",
     "status": "completed"
    },
    "tags": []
   },
   "source": [
    "<div style=\"border-radius:13px; border:#FFB800 solid; padding: 15px; background-color: #FAFFFF; font-size:107%; text-align:left\">\n",
    "\n",
    "* **RandomForest Model**"
   ]
  },
  {
   "cell_type": "code",
   "execution_count": 35,
   "id": "846650af",
   "metadata": {
    "_kg_hide-output": true,
    "execution": {
     "iopub.execute_input": "2023-06-02T23:58:16.335623Z",
     "iopub.status.busy": "2023-06-02T23:58:16.335226Z",
     "iopub.status.idle": "2023-06-02T23:58:37.098263Z",
     "shell.execute_reply": "2023-06-02T23:58:37.097001Z"
    },
    "papermill": {
     "duration": 20.804311,
     "end_time": "2023-06-02T23:58:37.101249",
     "exception": false,
     "start_time": "2023-06-02T23:58:16.296938",
     "status": "completed"
    },
    "tags": []
   },
   "outputs": [],
   "source": [
    "# Random Forest\n",
    "clf2 = make_imb_pipeline(preprocessor, SMOTE(random_state=42), RandomForestClassifier())\n",
    "params_rf = {\n",
    "    'randomforestclassifier__n_estimators': randint(100, 500),\n",
    "    'randomforestclassifier__max_depth': randint(1, 50),\n",
    "    'randomforestclassifier__min_samples_split': randint(2, 10),\n",
    "    'randomforestclassifier__min_samples_leaf': randint(1, 5)\n",
    "}\n",
    "search_rf = RandomizedSearchCV(clf2, param_distributions=params_rf, n_iter=10, cv=3, verbose=0, random_state=42, n_jobs=-1)\n",
    "search_rf.fit(X_train, y_train)\n",
    "y_pred_rf = search_rf.predict(X_test)\n"
   ]
  },
  {
   "cell_type": "markdown",
   "id": "4fdda6af",
   "metadata": {
    "papermill": {
     "duration": 0.03704,
     "end_time": "2023-06-02T23:58:37.175348",
     "exception": false,
     "start_time": "2023-06-02T23:58:37.138308",
     "status": "completed"
    },
    "tags": []
   },
   "source": [
    "<div style=\"border-radius:13px; border:#FFB800 solid; padding: 15px; background-color: #FAFFFF; font-size:108%; text-align:left\">\n",
    "* 📝Predictions and metrics"
   ]
  },
  {
   "cell_type": "code",
   "execution_count": 36,
   "id": "7f595cac",
   "metadata": {
    "_kg_hide-input": true,
    "_kg_hide-output": false,
    "execution": {
     "iopub.execute_input": "2023-06-02T23:58:37.251621Z",
     "iopub.status.busy": "2023-06-02T23:58:37.251187Z",
     "iopub.status.idle": "2023-06-02T23:58:37.288760Z",
     "shell.execute_reply": "2023-06-02T23:58:37.287235Z"
    },
    "papermill": {
     "duration": 0.079041,
     "end_time": "2023-06-02T23:58:37.291538",
     "exception": false,
     "start_time": "2023-06-02T23:58:37.212497",
     "status": "completed"
    },
    "tags": []
   },
   "outputs": [
    {
     "name": "stdout",
     "output_type": "stream",
     "text": [
      "\n",
      "Model RandomForest predictions\n",
      "                  precision    recall  f1-score   support\n",
      "\n",
      "opportunity_lead       0.66      0.64      0.65        33\n",
      "unqualified_lead       0.96      0.97      0.96       322\n",
      "\n",
      "        accuracy                           0.94       355\n",
      "       macro avg       0.81      0.80      0.81       355\n",
      "    weighted avg       0.93      0.94      0.93       355\n",
      "\n",
      "Hamming Loss:0.0647887323943662\n",
      "Accuracy: 0.9352112676056338\n"
     ]
    }
   ],
   "source": [
    "# Predicciones y métricas \n",
    "print(\"\\nModel RandomForest predictions\")\n",
    "print(classification_report(y_test, y_pred_rf))\n",
    "hl = hamming_loss(y_test, y_pred_rf)\n",
    "acc = accuracy_score(y_test, y_pred_rf)\n",
    "print(f\"Hamming Loss:{hl}\")\n",
    "print(f\"Accuracy: {acc}\")"
   ]
  },
  {
   "cell_type": "markdown",
   "id": "ce2ae7ec",
   "metadata": {
    "papermill": {
     "duration": 0.036736,
     "end_time": "2023-06-02T23:58:37.366263",
     "exception": false,
     "start_time": "2023-06-02T23:58:37.329527",
     "status": "completed"
    },
    "tags": []
   },
   "source": [
    "# <p style=\"font-family:JetBrains Mono; font-weight:bold; letter-spacing: 2px; color:#05041B; font-size:140%; text-align:left;padding: 0px; border-bottom: 3px solid #FFB800\">📈 Step 6: Training and Validation Models</p>\n"
   ]
  },
  {
   "cell_type": "code",
   "execution_count": 37,
   "id": "c04d80c9",
   "metadata": {
    "_kg_hide-input": true,
    "execution": {
     "iopub.execute_input": "2023-06-02T23:58:37.442885Z",
     "iopub.status.busy": "2023-06-02T23:58:37.442497Z",
     "iopub.status.idle": "2023-06-02T23:58:38.277288Z",
     "shell.execute_reply": "2023-06-02T23:58:38.276374Z"
    },
    "jupyter": {
     "source_hidden": true
    },
    "papermill": {
     "duration": 0.876257,
     "end_time": "2023-06-02T23:58:38.279459",
     "exception": false,
     "start_time": "2023-06-02T23:58:37.403202",
     "status": "completed"
    },
    "tags": []
   },
   "outputs": [
    {
     "data": {
      "image/png": "[encoded data removed]",
      "text/plain": [
       "<Figure size 1000x700 with 1 Axes>"
      ]
     },
     "metadata": {},
     "output_type": "display_data"
    },
    {
     "data": {
      "image/png": "[encoded data removed]",
      "text/plain": [
       "<Figure size 800x800 with 1 Axes>"
      ]
     },
     "metadata": {},
     "output_type": "display_data"
    }
   ],
   "source": [
    "\n",
    "# Precision, recall y F1-score\n",
    "prec_rec_f1_catboost = precision_recall_fscore_support(y_test, y_pred_catboost, average='weighted')\n",
    "prec_rec_f1_rf = precision_recall_fscore_support(y_test, y_pred_rf, average='weighted')\n",
    "# Crear df para visualización\n",
    "df_metrics = pd.DataFrame({\n",
    "    'Metrics': ['Precision', 'Recall', 'F1-score'],\n",
    "    'CatBoost': [prec_rec_f1_catboost[0], prec_rec_f1_catboost[1], prec_rec_f1_catboost[2]],\n",
    "    'RandomForest': [prec_rec_f1_rf[0], prec_rec_f1_rf[1], prec_rec_f1_rf[2]]\n",
    "})\n",
    "# Generar gráfico de barras para comparación\n",
    "df_metrics.plot(x='Metrics', y=['CatBoost', 'RandomForest'], kind='bar', color=colors, figsize=(10, 7))\n",
    "plt.title('Metrics Comparison')\n",
    "plt.ylabel('Score')\n",
    "plt.grid(True)\n",
    "plt.show()\n",
    "# Generar la curva ROC\n",
    "fig, ax = plt.subplots(figsize=(8, 8))\n",
    "y_probas_catboost = search_catboost.predict_proba(X_test)\n",
    "y_probas_rf = search_rf.predict_proba(X_test)\n",
    "skplt.metrics.plot_roc(y_test, y_probas_catboost, plot_macro=False, plot_micro=False, ax=ax)\n",
    "skplt.metrics.plot_roc(y_test, y_probas_rf, plot_macro=False, plot_micro=False, ax=ax)\n",
    "plt.title('ROC Curves')\n",
    "plt.show()\n"
   ]
  },
  {
   "cell_type": "markdown",
   "id": "508107c7",
   "metadata": {
    "papermill": {
     "duration": 0.038338,
     "end_time": "2023-06-02T23:58:38.356113",
     "exception": false,
     "start_time": "2023-06-02T23:58:38.317775",
     "status": "completed"
    },
    "tags": []
   },
   "source": [
    "<div style=\"border-radius:13px; border:#FFB800 solid; padding: 15px; background-color: #FAFFFF; font-size:112%; text-align:left\">\n",
    "\n",
    "* As expected, the model exhibits challenges in predicting the minority class \"opportunity_lead,\" which is also the most important class. **Considering the scarcity of opportunities, it will be crucial to avoid producing false negatives or misclassifying them as \"unqualified_lead\" in order to achieve success.** \n",
    "\n",
    "* For this reason, we will set higher probability thresholds for classifying instances as \"unqualified_lead.\" This approach aims to optimize our process and minimize the impact on missed opportunities while maximizing our efficiency and time investment..\n",
    "    \n",
    "   "
   ]
  },
  {
   "cell_type": "code",
   "execution_count": 38,
   "id": "e0048efc",
   "metadata": {
    "execution": {
     "iopub.execute_input": "2023-06-02T23:58:38.435468Z",
     "iopub.status.busy": "2023-06-02T23:58:38.433959Z",
     "iopub.status.idle": "2023-06-02T23:58:38.440207Z",
     "shell.execute_reply": "2023-06-02T23:58:38.438874Z"
    },
    "papermill": {
     "duration": 0.048564,
     "end_time": "2023-06-02T23:58:38.442842",
     "exception": false,
     "start_time": "2023-06-02T23:58:38.394278",
     "status": "completed"
    },
    "tags": []
   },
   "outputs": [],
   "source": [
    "# Adjust and test the new classification threshold\n",
    "umbral = 0.81"
   ]
  },
  {
   "cell_type": "code",
   "execution_count": 39,
   "id": "84dced79",
   "metadata": {
    "_kg_hide-input": true,
    "execution": {
     "iopub.execute_input": "2023-06-02T23:58:38.522329Z",
     "iopub.status.busy": "2023-06-02T23:58:38.521920Z",
     "iopub.status.idle": "2023-06-02T23:58:38.608711Z",
     "shell.execute_reply": "2023-06-02T23:58:38.607456Z"
    },
    "papermill": {
     "duration": 0.129791,
     "end_time": "2023-06-02T23:58:38.611546",
     "exception": false,
     "start_time": "2023-06-02T23:58:38.481755",
     "status": "completed"
    },
    "tags": []
   },
   "outputs": [],
   "source": [
    "# Para el modelo CatBoost\n",
    "y_pred_prob_catboost = search_catboost.predict_proba(X_test)[:, 1]\n",
    "y_pred_adj_catboost = np.where(y_pred_prob_catboost > umbral, \"unqualified_lead\", \"opportunity_lead\")\n",
    "\n",
    "# Para el modelo RandomForest\n",
    "y_pred_prob_rf = search_rf.predict_proba(X_test)[:, 1]\n",
    "y_pred_adj_rf = np.where(y_pred_prob_rf > umbral, \"unqualified_lead\", \"opportunity_lead\")"
   ]
  },
  {
   "cell_type": "code",
   "execution_count": 40,
   "id": "2a471b33",
   "metadata": {
    "_kg_hide-input": true,
    "execution": {
     "iopub.execute_input": "2023-06-02T23:58:38.693131Z",
     "iopub.status.busy": "2023-06-02T23:58:38.692684Z",
     "iopub.status.idle": "2023-06-02T23:58:39.430513Z",
     "shell.execute_reply": "2023-06-02T23:58:39.429318Z"
    },
    "papermill": {
     "duration": 0.782278,
     "end_time": "2023-06-02T23:58:39.433016",
     "exception": false,
     "start_time": "2023-06-02T23:58:38.650738",
     "status": "completed"
    },
    "tags": []
   },
   "outputs": [
    {
     "data": {
      "image/png": "[encoded data removed]",
      "text/plain": [
       "<Figure size 1500x500 with 4 Axes>"
      ]
     },
     "metadata": {},
     "output_type": "display_data"
    }
   ],
   "source": [
    "from sklearn.metrics import confusion_matrix\n",
    "import seaborn as sns\n",
    "import matplotlib.pyplot as plt\n",
    "\n",
    "# Generar las matrices de confusión\n",
    "cm_catboost = confusion_matrix(y_test, y_pred_adj_catboost)\n",
    "cm_rf = confusion_matrix(y_test, y_pred_adj_rf)\n",
    "\n",
    "fig, axes = plt.subplots(nrows=1, ncols=2, figsize=(15, 5))\n",
    "\n",
    "# Usar los nombres de las categorías en lugar de 0 y 1\n",
    "categories = ['Opportunity lead', 'Unqualified lead']\n",
    "\n",
    "sns.heatmap(cm_catboost, annot=True, fmt=\".0f\", ax=axes[0], cmap=plt.cm.Blues, xticklabels=categories, yticklabels=categories)\n",
    "axes[0].set_title('CatBoost')\n",
    "axes[0].set_xlabel('Prediction')\n",
    "axes[0].set_ylabel('Reality')\n",
    "\n",
    "sns.heatmap(cm_rf, annot=True, fmt=\".0f\", ax=axes[1], cmap=plt.cm.Blues, xticklabels=categories, yticklabels=categories)\n",
    "axes[1].set_title('Random Forest')\n",
    "axes[1].set_xlabel('Prediction')\n",
    "axes[1].set_ylabel('Reality')\n",
    "\n",
    "plt.tight_layout()\n",
    "plt.show()\n"
   ]
  },
  {
   "cell_type": "code",
   "execution_count": 41,
   "id": "38d95be4",
   "metadata": {
    "_kg_hide-input": false,
    "execution": {
     "iopub.execute_input": "2023-06-02T23:58:39.513711Z",
     "iopub.status.busy": "2023-06-02T23:58:39.513325Z",
     "iopub.status.idle": "2023-06-02T23:58:39.570727Z",
     "shell.execute_reply": "2023-06-02T23:58:39.568434Z"
    },
    "papermill": {
     "duration": 0.101259,
     "end_time": "2023-06-02T23:58:39.573425",
     "exception": false,
     "start_time": "2023-06-02T23:58:39.472166",
     "status": "completed"
    },
    "tags": []
   },
   "outputs": [
    {
     "name": "stdout",
     "output_type": "stream",
     "text": [
      "Updated Classification Report CatBoost; Umbral 83%:\n",
      "                  precision    recall  f1-score   support\n",
      "\n",
      "opportunity_lead       0.46      0.76      0.57        33\n",
      "unqualified_lead       0.97      0.91      0.94       322\n",
      "\n",
      "        accuracy                           0.90       355\n",
      "       macro avg       0.72      0.83      0.76       355\n",
      "    weighted avg       0.93      0.90      0.91       355\n",
      "\n",
      "\n",
      "Hamming Loss (CatBoost):0.10422535211267606\n",
      "Accuracy (CatBoost): 0.895774647887324\n",
      "\n",
      "\n",
      "\n",
      "Updated Classification Report Random Forest; Umbral 83%:\n",
      "                  precision    recall  f1-score   support\n",
      "\n",
      "opportunity_lead       0.33      0.88      0.48        33\n",
      "unqualified_lead       0.99      0.82      0.89       322\n",
      "\n",
      "        accuracy                           0.83       355\n",
      "       macro avg       0.66      0.85      0.69       355\n",
      "    weighted avg       0.92      0.83      0.86       355\n",
      "\n",
      "\n",
      "Hamming Loss (Random Forest):0.17464788732394365\n",
      "Accuracy (Random Forest): 0.8253521126760563\n",
      "\n"
     ]
    }
   ],
   "source": [
    "print(\"Updated Classification Report CatBoost; Umbral 83%:\")\n",
    "print(classification_report(y_test, y_pred_adj_catboost))\n",
    "hl_catboost = hamming_loss(y_test, y_pred_adj_catboost)\n",
    "acc_catboost = accuracy_score(y_test, y_pred_adj_catboost)\n",
    "print(f\"\\nHamming Loss (CatBoost):{hl_catboost}\")\n",
    "print(f\"Accuracy (CatBoost): {acc_catboost}\\n\")\n",
    "\n",
    "print(\"\\n\\nUpdated Classification Report Random Forest; Umbral 83%:\")\n",
    "print(classification_report(y_test, y_pred_adj_rf))\n",
    "hl_rf = hamming_loss(y_test, y_pred_adj_rf)\n",
    "acc_rf = accuracy_score(y_test, y_pred_adj_rf)\n",
    "print(f\"\\nHamming Loss (Random Forest):{hl_rf}\")\n",
    "print(f\"Accuracy (Random Forest): {acc_rf}\\n\")\n"
   ]
  },
  {
   "cell_type": "code",
   "execution_count": 42,
   "id": "c6a7b286",
   "metadata": {
    "_kg_hide-input": true,
    "execution": {
     "iopub.execute_input": "2023-06-02T23:58:39.654279Z",
     "iopub.status.busy": "2023-06-02T23:58:39.653853Z",
     "iopub.status.idle": "2023-06-02T23:58:39.771926Z",
     "shell.execute_reply": "2023-06-02T23:58:39.770235Z"
    },
    "jupyter": {
     "source_hidden": true
    },
    "papermill": {
     "duration": 0.161609,
     "end_time": "2023-06-02T23:58:39.774424",
     "exception": false,
     "start_time": "2023-06-02T23:58:39.612815",
     "status": "completed"
    },
    "tags": []
   },
   "outputs": [
    {
     "name": "stdout",
     "output_type": "stream",
     "text": [
      "Brief sample of Odds and Final results (CatBoost):\n",
      "   opportunity_lead  unqualified_lead        Prediccion  Resultado?\n",
      "0          0.004453          0.995547  unqualified_lead        True\n",
      "1          0.075334          0.924666  unqualified_lead       False\n",
      "2          0.008071          0.991929  unqualified_lead        True\n",
      "\n",
      "\n",
      "Brief sample of Odds and Final results (Random Forest):\n",
      "   opportunity_lead  unqualified_lead        Prediccion  Resultado?\n",
      "0          0.055138          0.944862  unqualified_lead        True\n",
      "1          0.473874          0.526126  opportunity_lead        True\n",
      "2          0.061833          0.938167  unqualified_lead        True\n"
     ]
    }
   ],
   "source": [
    "# Para el modelo CatBoost\n",
    "y_pred_prob_catboost = search_catboost.predict_proba(X_test)\n",
    "proba_df_catboost = pd.DataFrame(y_pred_prob_catboost, columns=search_catboost.best_estimator_.named_steps['catboostclassifier'].classes_)\n",
    "proba_df_catboost['Prediccion'] = y_pred_adj_catboost\n",
    "proba_df_catboost['Resultado?'] = proba_df_catboost['Prediccion'] == y_test.values\n",
    "print(\"Brief sample of Odds and Final results (CatBoost):\")\n",
    "print(proba_df_catboost.head(3))\n",
    "# Para el modelo RandomForest\n",
    "y_pred_prob_rf = search_rf.predict_proba(X_test)\n",
    "proba_df_rf = pd.DataFrame(y_pred_prob_rf, columns=search_rf.best_estimator_.named_steps['randomforestclassifier'].classes_)\n",
    "proba_df_rf['Prediccion'] = y_pred_adj_rf\n",
    "proba_df_rf['Resultado?'] = proba_df_rf['Prediccion'] == y_test.values\n",
    "print(\"\\n\\nBrief sample of Odds and Final results (Random Forest):\")\n",
    "print(proba_df_rf.head(3))\n"
   ]
  },
  {
   "cell_type": "markdown",
   "id": "0a42d971",
   "metadata": {
    "papermill": {
     "duration": 0.039413,
     "end_time": "2023-06-02T23:58:39.853303",
     "exception": false,
     "start_time": "2023-06-02T23:58:39.813890",
     "status": "completed"
    },
    "tags": []
   },
   "source": [
    "# <p style=\"font-family:JetBrains Mono; font-weight:bold; letter-spacing: 2px; color:#05041B; font-size:140%; text-align:left;padding: 0px; border-bottom: 3px solid #FFB800\">📈 Step 7: Conclusion and result</p>\n",
    "\n"
   ]
  },
  {
   "cell_type": "code",
   "execution_count": 43,
   "id": "cca26e31",
   "metadata": {
    "_kg_hide-input": true,
    "execution": {
     "iopub.execute_input": "2023-06-02T23:58:39.935670Z",
     "iopub.status.busy": "2023-06-02T23:58:39.934481Z",
     "iopub.status.idle": "2023-06-02T23:58:39.942833Z",
     "shell.execute_reply": "2023-06-02T23:58:39.941994Z"
    },
    "jupyter": {
     "source_hidden": true
    },
    "papermill": {
     "duration": 0.051699,
     "end_time": "2023-06-02T23:58:39.945163",
     "exception": false,
     "start_time": "2023-06-02T23:58:39.893464",
     "status": "completed"
    },
    "tags": []
   },
   "outputs": [],
   "source": [
    "# Obtener verdaderos positivos, verdaderos negativos, falsos positivos y falsos negativos de las matrices de confusión\n",
    "tp_catboost, fn_catboost, fp_catboost, tn_catboost = cm_catboost.ravel()\n",
    "tp_rf, fn_rf, fp_rf, tn_rf = cm_rf.ravel()\n",
    "# Crear un DataFrame con estos valores para cada modelo\n",
    "dfg = pd.DataFrame({\n",
    "   'Predicted Qualified and turned out to be true (Optimized Attention)': [tp_catboost, tp_rf],\n",
    "'Predicted a bad lead and it turned out to be true: (Time saving)': [tn_catboost, tn_rf],\n",
    "'Predicted Qualified and turned out to be false (Waste of time)': [fp_catboost, fp_rf],\n",
    "'Predicted a bad lead and turned out to be false (Opportunity cost)': [fn_catboost, fn_rf]\n",
    "}, index=['CatBoost', 'Random Forest'])\n",
    "# Transponer el DataFrame para que las métricas sean las columnas y los modelos sean las filas\n",
    "dfg = dfg.T\n"
   ]
  },
  {
   "cell_type": "code",
   "execution_count": 44,
   "id": "6b513190",
   "metadata": {
    "_kg_hide-input": true,
    "execution": {
     "iopub.execute_input": "2023-06-02T23:58:40.026238Z",
     "iopub.status.busy": "2023-06-02T23:58:40.025348Z",
     "iopub.status.idle": "2023-06-02T23:58:40.049943Z",
     "shell.execute_reply": "2023-06-02T23:58:40.048995Z"
    },
    "jupyter": {
     "source_hidden": true
    },
    "papermill": {
     "duration": 0.068236,
     "end_time": "2023-06-02T23:58:40.052965",
     "exception": false,
     "start_time": "2023-06-02T23:58:39.984729",
     "status": "completed"
    },
    "tags": []
   },
   "outputs": [
    {
     "data": {
      "text/html": [
       "<div>                            <div id=\"4674fc8d-b65a-4d6a-b419-88ffbe547cc4\" class=\"plotly-graph-div\" style=\"height:525px; width:100%;\"></div>            <script type=\"text/javascript\">                require([\"plotly\"], function(Plotly) {                    window.PLOTLYENV=window.PLOTLYENV || {};                                    if (document.getElementById(\"4674fc8d-b65a-4d6a-b419-88ffbe547cc4\")) {                    Plotly.newPlot(                        \"4674fc8d-b65a-4d6a-b419-88ffbe547cc4\",                        [{\"marker\":{\"color\":\"#064572\"},\"name\":\"CatBoost\",\"orientation\":\"h\",\"x\":[25,293,29,8],\"y\":[\"Predicted Qualified and turned out to be true (Optimized Attention)\",\"Predicted a bad lead and it turned out to be true: (Time saving)\",\"Predicted Qualified and turned out to be false (Waste of time)\",\"Predicted a bad lead and turned out to be false (Opportunity cost)\"],\"type\":\"bar\"},{\"marker\":{\"color\":\"#A8854F\"},\"name\":\"Random Forest\",\"orientation\":\"h\",\"x\":[29,264,58,4],\"y\":[\"Predicted Qualified and turned out to be true (Optimized Attention)\",\"Predicted a bad lead and it turned out to be true: (Time saving)\",\"Predicted Qualified and turned out to be false (Waste of time)\",\"Predicted a bad lead and turned out to be false (Opportunity cost)\"],\"type\":\"bar\"}],                        {\"template\":{\"data\":{\"histogram2dcontour\":[{\"type\":\"histogram2dcontour\",\"colorbar\":{\"outlinewidth\":0,\"ticks\":\"\"},\"colorscale\":[[0.0,\"#0d0887\"],[0.1111111111111111,\"#46039f\"],[0.2222222222222222,\"#7201a8\"],[0.3333333333333333,\"#9c179e\"],[0.4444444444444444,\"#bd3786\"],[0.5555555555555556,\"#d8576b\"],[0.6666666666666666,\"#ed7953\"],[0.7777777777777778,\"#fb9f3a\"],[0.8888888888888888,\"#fdca26\"],[1.0,\"#f0f921\"]]}],\"choropleth\":[{\"type\":\"choropleth\",\"colorbar\":{\"outlinewidth\":0,\"ticks\":\"\"}}],\"histogram2d\":[{\"type\":\"histogram2d\",\"colorbar\":{\"outlinewidth\":0,\"ticks\":\"\"},\"colorscale\":[[0.0,\"#0d0887\"],[0.1111111111111111,\"#46039f\"],[0.2222222222222222,\"#7201a8\"],[0.3333333333333333,\"#9c179e\"],[0.4444444444444444,\"#bd3786\"],[0.5555555555555556,\"#d8576b\"],[0.6666666666666666,\"#ed7953\"],[0.7777777777777778,\"#fb9f3a\"],[0.8888888888888888,\"#fdca26\"],[1.0,\"#f0f921\"]]}],\"heatmap\":[{\"type\":\"heatmap\",\"colorbar\":{\"outlinewidth\":0,\"ticks\":\"\"},\"colorscale\":[[0.0,\"#0d0887\"],[0.1111111111111111,\"#46039f\"],[0.2222222222222222,\"#7201a8\"],[0.3333333333333333,\"#9c179e\"],[0.4444444444444444,\"#bd3786\"],[0.5555555555555556,\"#d8576b\"],[0.6666666666666666,\"#ed7953\"],[0.7777777777777778,\"#fb9f3a\"],[0.8888888888888888,\"#fdca26\"],[1.0,\"#f0f921\"]]}],\"heatmapgl\":[{\"type\":\"heatmapgl\",\"colorbar\":{\"outlinewidth\":0,\"ticks\":\"\"},\"colorscale\":[[0.0,\"#0d0887\"],[0.1111111111111111,\"#46039f\"],[0.2222222222222222,\"#7201a8\"],[0.3333333333333333,\"#9c179e\"],[0.4444444444444444,\"#bd3786\"],[0.5555555555555556,\"#d8576b\"],[0.6666666666666666,\"#ed7953\"],[0.7777777777777778,\"#fb9f3a\"],[0.8888888888888888,\"#fdca26\"],[1.0,\"#f0f921\"]]}],\"contourcarpet\":[{\"type\":\"contourcarpet\",\"colorbar\":{\"outlinewidth\":0,\"ticks\":\"\"}}],\"contour\":[{\"type\":\"contour\",\"colorbar\":{\"outlinewidth\":0,\"ticks\":\"\"},\"colorscale\":[[0.0,\"#0d0887\"],[0.1111111111111111,\"#46039f\"],[0.2222222222222222,\"#7201a8\"],[0.3333333333333333,\"#9c179e\"],[0.4444444444444444,\"#bd3786\"],[0.5555555555555556,\"#d8576b\"],[0.6666666666666666,\"#ed7953\"],[0.7777777777777778,\"#fb9f3a\"],[0.8888888888888888,\"#fdca26\"],[1.0,\"#f0f921\"]]}],\"surface\":[{\"type\":\"surface\",\"colorbar\":{\"outlinewidth\":0,\"ticks\":\"\"},\"colorscale\":[[0.0,\"#0d0887\"],[0.1111111111111111,\"#46039f\"],[0.2222222222222222,\"#7201a8\"],[0.3333333333333333,\"#9c179e\"],[0.4444444444444444,\"#bd3786\"],[0.5555555555555556,\"#d8576b\"],[0.6666666666666666,\"#ed7953\"],[0.7777777777777778,\"#fb9f3a\"],[0.8888888888888888,\"#fdca26\"],[1.0,\"#f0f921\"]]}],\"mesh3d\":[{\"type\":\"mesh3d\",\"colorbar\":{\"outlinewidth\":0,\"ticks\":\"\"}}],\"scatter\":[{\"fillpattern\":{\"fillmode\":\"overlay\",\"size\":10,\"solidity\":0.2},\"type\":\"scatter\"}],\"parcoords\":[{\"type\":\"parcoords\",\"line\":{\"colorbar\":{\"outlinewidth\":0,\"ticks\":\"\"}}}],\"scatterpolargl\":[{\"type\":\"scatterpolargl\",\"marker\":{\"colorbar\":{\"outlinewidth\":0,\"ticks\":\"\"}}}],\"bar\":[{\"error_x\":{\"color\":\"#2a3f5f\"},\"error_y\":{\"color\":\"#2a3f5f\"},\"marker\":{\"line\":{\"color\":\"#E5ECF6\",\"width\":0.5},\"pattern\":{\"fillmode\":\"overlay\",\"size\":10,\"solidity\":0.2}},\"type\":\"bar\"}],\"scattergeo\":[{\"type\":\"scattergeo\",\"marker\":{\"colorbar\":{\"outlinewidth\":0,\"ticks\":\"\"}}}],\"scatterpolar\":[{\"type\":\"scatterpolar\",\"marker\":{\"colorbar\":{\"outlinewidth\":0,\"ticks\":\"\"}}}],\"histogram\":[{\"marker\":{\"pattern\":{\"fillmode\":\"overlay\",\"size\":10,\"solidity\":0.2}},\"type\":\"histogram\"}],\"scattergl\":[{\"type\":\"scattergl\",\"marker\":{\"colorbar\":{\"outlinewidth\":0,\"ticks\":\"\"}}}],\"scatter3d\":[{\"type\":\"scatter3d\",\"line\":{\"colorbar\":{\"outlinewidth\":0,\"ticks\":\"\"}},\"marker\":{\"colorbar\":{\"outlinewidth\":0,\"ticks\":\"\"}}}],\"scattermapbox\":[{\"type\":\"scattermapbox\",\"marker\":{\"colorbar\":{\"outlinewidth\":0,\"ticks\":\"\"}}}],\"scatterternary\":[{\"type\":\"scatterternary\",\"marker\":{\"colorbar\":{\"outlinewidth\":0,\"ticks\":\"\"}}}],\"scattercarpet\":[{\"type\":\"scattercarpet\",\"marker\":{\"colorbar\":{\"outlinewidth\":0,\"ticks\":\"\"}}}],\"carpet\":[{\"aaxis\":{\"endlinecolor\":\"#2a3f5f\",\"gridcolor\":\"white\",\"linecolor\":\"white\",\"minorgridcolor\":\"white\",\"startlinecolor\":\"#2a3f5f\"},\"baxis\":{\"endlinecolor\":\"#2a3f5f\",\"gridcolor\":\"white\",\"linecolor\":\"white\",\"minorgridcolor\":\"white\",\"startlinecolor\":\"#2a3f5f\"},\"type\":\"carpet\"}],\"table\":[{\"cells\":{\"fill\":{\"color\":\"#EBF0F8\"},\"line\":{\"color\":\"white\"}},\"header\":{\"fill\":{\"color\":\"#C8D4E3\"},\"line\":{\"color\":\"white\"}},\"type\":\"table\"}],\"barpolar\":[{\"marker\":{\"line\":{\"color\":\"#E5ECF6\",\"width\":0.5},\"pattern\":{\"fillmode\":\"overlay\",\"size\":10,\"solidity\":0.2}},\"type\":\"barpolar\"}],\"pie\":[{\"automargin\":true,\"type\":\"pie\"}]},\"layout\":{\"autotypenumbers\":\"strict\",\"colorway\":[\"#636efa\",\"#EF553B\",\"#00cc96\",\"#ab63fa\",\"#FFA15A\",\"#19d3f3\",\"#FF6692\",\"#B6E880\",\"#FF97FF\",\"#FECB52\"],\"font\":{\"color\":\"#2a3f5f\"},\"hovermode\":\"closest\",\"hoverlabel\":{\"align\":\"left\"},\"paper_bgcolor\":\"white\",\"plot_bgcolor\":\"#E5ECF6\",\"polar\":{\"bgcolor\":\"#E5ECF6\",\"angularaxis\":{\"gridcolor\":\"white\",\"linecolor\":\"white\",\"ticks\":\"\"},\"radialaxis\":{\"gridcolor\":\"white\",\"linecolor\":\"white\",\"ticks\":\"\"}},\"ternary\":{\"bgcolor\":\"#E5ECF6\",\"aaxis\":{\"gridcolor\":\"white\",\"linecolor\":\"white\",\"ticks\":\"\"},\"baxis\":{\"gridcolor\":\"white\",\"linecolor\":\"white\",\"ticks\":\"\"},\"caxis\":{\"gridcolor\":\"white\",\"linecolor\":\"white\",\"ticks\":\"\"}},\"coloraxis\":{\"colorbar\":{\"outlinewidth\":0,\"ticks\":\"\"}},\"colorscale\":{\"sequential\":[[0.0,\"#0d0887\"],[0.1111111111111111,\"#46039f\"],[0.2222222222222222,\"#7201a8\"],[0.3333333333333333,\"#9c179e\"],[0.4444444444444444,\"#bd3786\"],[0.5555555555555556,\"#d8576b\"],[0.6666666666666666,\"#ed7953\"],[0.7777777777777778,\"#fb9f3a\"],[0.8888888888888888,\"#fdca26\"],[1.0,\"#f0f921\"]],\"sequentialminus\":[[0.0,\"#0d0887\"],[0.1111111111111111,\"#46039f\"],[0.2222222222222222,\"#7201a8\"],[0.3333333333333333,\"#9c179e\"],[0.4444444444444444,\"#bd3786\"],[0.5555555555555556,\"#d8576b\"],[0.6666666666666666,\"#ed7953\"],[0.7777777777777778,\"#fb9f3a\"],[0.8888888888888888,\"#fdca26\"],[1.0,\"#f0f921\"]],\"diverging\":[[0,\"#8e0152\"],[0.1,\"#c51b7d\"],[0.2,\"#de77ae\"],[0.3,\"#f1b6da\"],[0.4,\"#fde0ef\"],[0.5,\"#f7f7f7\"],[0.6,\"#e6f5d0\"],[0.7,\"#b8e186\"],[0.8,\"#7fbc41\"],[0.9,\"#4d9221\"],[1,\"#276419\"]]},\"xaxis\":{\"gridcolor\":\"white\",\"linecolor\":\"white\",\"ticks\":\"\",\"title\":{\"standoff\":15},\"zerolinecolor\":\"white\",\"automargin\":true,\"zerolinewidth\":2},\"yaxis\":{\"gridcolor\":\"white\",\"linecolor\":\"white\",\"ticks\":\"\",\"title\":{\"standoff\":15},\"zerolinecolor\":\"white\",\"automargin\":true,\"zerolinewidth\":2},\"scene\":{\"xaxis\":{\"backgroundcolor\":\"#E5ECF6\",\"gridcolor\":\"white\",\"linecolor\":\"white\",\"showbackground\":true,\"ticks\":\"\",\"zerolinecolor\":\"white\",\"gridwidth\":2},\"yaxis\":{\"backgroundcolor\":\"#E5ECF6\",\"gridcolor\":\"white\",\"linecolor\":\"white\",\"showbackground\":true,\"ticks\":\"\",\"zerolinecolor\":\"white\",\"gridwidth\":2},\"zaxis\":{\"backgroundcolor\":\"#E5ECF6\",\"gridcolor\":\"white\",\"linecolor\":\"white\",\"showbackground\":true,\"ticks\":\"\",\"zerolinecolor\":\"white\",\"gridwidth\":2}},\"shapedefaults\":{\"line\":{\"color\":\"#2a3f5f\"}},\"annotationdefaults\":{\"arrowcolor\":\"#2a3f5f\",\"arrowhead\":0,\"arrowwidth\":1},\"geo\":{\"bgcolor\":\"white\",\"landcolor\":\"#E5ECF6\",\"subunitcolor\":\"white\",\"showland\":true,\"showlakes\":true,\"lakecolor\":\"white\"},\"title\":{\"x\":0.05},\"mapbox\":{\"style\":\"light\"}}},\"title\":{\"text\":\"Translated into Results\"},\"xaxis\":{\"title\":{\"text\":\"Count\"}},\"yaxis\":{\"title\":{\"text\":\"\"}},\"barmode\":\"stack\"},                        {\"responsive\": true}                    ).then(function(){\n",
       "                            \n",
       "var gd = document.getElementById('4674fc8d-b65a-4d6a-b419-88ffbe547cc4');\n",
       "var x = new MutationObserver(function (mutations, observer) {{\n",
       "        var display = window.getComputedStyle(gd).display;\n",
       "        if (!display || display === 'none') {{\n",
       "            console.log([gd, 'removed!']);\n",
       "            Plotly.purge(gd);\n",
       "            observer.disconnect();\n",
       "        }}\n",
       "}});\n",
       "\n",
       "// Listen for the removal of the full notebook cells\n",
       "var notebookContainer = gd.closest('#notebook-container');\n",
       "if (notebookContainer) {{\n",
       "    x.observe(notebookContainer, {childList: true});\n",
       "}}\n",
       "\n",
       "// Listen for the clearing of the current output cell\n",
       "var outputEl = gd.closest('.output');\n",
       "if (outputEl) {{\n",
       "    x.observe(outputEl, {childList: true});\n",
       "}}\n",
       "\n",
       "                        })                };                });            </script>        </div>"
      ]
     },
     "metadata": {},
     "output_type": "display_data"
    }
   ],
   "source": [
    "# Crear un objeto de figura\n",
    "fig = go.Figure()\n",
    "# Ejemplo de cómo utilizar los colores en el gráfico de barras apiladas\n",
    "for i, metric in enumerate(dfg.columns):\n",
    "    fig.add_trace(go.Bar(\n",
    "        y=dfg.index,\n",
    "        x=dfg[metric],\n",
    "        name=metric,\n",
    "        marker_color=colors[i % len(colors)],  # Utilizar el color que corresponde a cada modelo\n",
    "        orientation='h'\n",
    "    ))\n",
    "# Agregar título y nombres de ejes\n",
    "fig.update_layout(\n",
    "    title_text='Translated into Results',\n",
    "    xaxis_title='Count',\n",
    "    yaxis_title='',\n",
    "    barmode='stack'\n",
    ")\n",
    "# Mostrar el gráfico\n",
    "fig.show()\n"
   ]
  },
  {
   "cell_type": "markdown",
   "id": "d8326612",
   "metadata": {
    "papermill": {
     "duration": 0.039408,
     "end_time": "2023-06-02T23:58:40.132948",
     "exception": false,
     "start_time": "2023-06-02T23:58:40.093540",
     "status": "completed"
    },
    "tags": []
   },
   "source": [
    "<div style=\"border-radius:13px; border:#FFB800 solid; padding: 15px; background-color: #FAFFFF; font-size:114%; text-align:left\">\n",
    "    \n",
    "* Finally, by resigning precision we have minimized false \"negatives\" or false \"unqualified_lead\", especially with the Random Forest model.\n",
    "\n",
    "* This model was originally created with a set of 430 leads to optimize my invested time in my role as a consultant. Over time, the introduction of new leads and the use of new techniques have optimized it to this day."
   ]
  },
  {
   "cell_type": "markdown",
   "id": "84a62948",
   "metadata": {
    "_kg_hide-input": true,
    "papermill": {
     "duration": 0.039421,
     "end_time": "2023-06-02T23:58:40.211842",
     "exception": false,
     "start_time": "2023-06-02T23:58:40.172421",
     "status": "completed"
    },
    "tags": []
   },
   "source": [
    "<div style=\"border-radius:13px; border:#FFB800 solid; padding: 15px; background-color: #217992; font-size:100%; text-align:left\">\n"
   ]
  }
 ],
 "metadata": {
  "kernelspec": {
   "display_name": "Python 3",
   "language": "python",
   "name": "python3"
  },
  "language_info": {
   "codemirror_mode": {
    "name": "ipython",
    "version": 3
   },
   "file_extension": ".py",
   "mimetype": "text/x-python",
   "name": "python",
   "nbconvert_exporter": "python",
   "pygments_lexer": "ipython3",
   "version": "3.10.10"
  },
  "papermill": {
   "default_parameters": {},
   "duration": 128.754494,
   "end_time": "2023-06-02T23:58:42.875761",
   "environment_variables": {},
   "exception": null,
   "input_path": "__notebook__.ipynb",
   "output_path": "__notebook__.ipynb",
   "parameters": {},
   "start_time": "2023-06-02T23:56:34.121267",
   "version": "2.4.0"
  }
 },
 "nbformat": 4,
 "nbformat_minor": 5
}
